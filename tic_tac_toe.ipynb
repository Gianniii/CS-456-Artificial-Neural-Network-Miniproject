{
 "cells": [
  {
   "cell_type": "code",
   "execution_count": 1,
   "metadata": {},
   "outputs": [],
   "source": [
    "import numpy as np\n",
    "from tic_env import TictactoeEnv, OptimalPlayer"
   ]
  },
  {
   "cell_type": "markdown",
   "metadata": {},
   "source": [
    "# Tic Toc Toe environment"
   ]
  },
  {
   "cell_type": "markdown",
   "metadata": {},
   "source": [
    "Our 1st game is the famous Tic Toc Toe. You can read about the game and its rules here: https://en.wikipedia.org/wiki/Tic-tac-toe\n",
    "\n",
    "We implemented the game as an environment in the style of games in the [Python GYM library](https://gym.openai.com/). The commented source code is available in the file \"tic_env.py\". Here, we give a brief introduction to the environment and how it can be used."
   ]
  },
  {
   "cell_type": "markdown",
   "metadata": {},
   "source": [
    "### Initialization and attributes"
   ]
  },
  {
   "cell_type": "markdown",
   "metadata": {},
   "source": [
    "You can initialize the environment / game as following:"
   ]
  },
  {
   "cell_type": "code",
   "execution_count": 2,
   "metadata": {},
   "outputs": [],
   "source": [
    "env = TictactoeEnv()"
   ]
  },
  {
   "cell_type": "markdown",
   "metadata": {},
   "source": [
    "Which then has the following attributes with the corresponding initial values:"
   ]
  },
  {
   "cell_type": "code",
   "execution_count": 3,
   "metadata": {
    "scrolled": true
   },
   "outputs": [
    {
     "data": {
      "text/plain": [
       "{'grid': array([[0., 0., 0.],\n",
       "        [0., 0., 0.],\n",
       "        [0., 0., 0.]]),\n",
       " 'end': False,\n",
       " 'winner': None,\n",
       " 'player2value': {'X': 1, 'O': -1},\n",
       " 'num_step': 0,\n",
       " 'current_player': 'X'}"
      ]
     },
     "execution_count": 3,
     "metadata": {},
     "output_type": "execute_result"
    }
   ],
   "source": [
    "env.__dict__"
   ]
  },
  {
   "cell_type": "markdown",
   "metadata": {},
   "source": [
    "The game is played by two players: player 'X' and player 'O'. The attribute 'current_player' shows whose turn it is. We assume that player 'X' always plays first.\n",
    "\n",
    "The attribute 'grid' is a 3x3 numpy array and presents the board in the real game and the state $s_t$ in the reinfocement learning language. Each elements can take a value in {0, 1, -1}:\n",
    "     0 : place unmarked\n",
    "     1 : place marked with X \n",
    "    -1 : place marked with O \n",
    "        \n",
    "The attribute 'end' shows if the game is over or not, and the attribute 'winner' shows the winner of the game: either \"X\", \"O\", or None.  "
   ]
  },
  {
   "cell_type": "markdown",
   "metadata": {},
   "source": [
    "You can use function 'render' to visualize the current position of the board:"
   ]
  },
  {
   "cell_type": "code",
   "execution_count": 22,
   "metadata": {},
   "outputs": [
    {
     "name": "stdout",
     "output_type": "stream",
     "text": [
      "|- - -|\n",
      "|- - -|\n",
      "|- - -|\n",
      "\n"
     ]
    }
   ],
   "source": [
    "env.render()"
   ]
  },
  {
   "cell_type": "markdown",
   "metadata": {},
   "source": [
    "### Taking actions"
   ]
  },
  {
   "cell_type": "markdown",
   "metadata": {},
   "source": [
    "The game environment will recieve action from two players in turn and update the grid. At each time, one player can take the action $a_t$, where $a_t$ can either be an integer between 0 to 8 or a touple, corresponding to the 9 possible.\n",
    "\n",
    "Function 'step' is used to recieve the action of the player, update the grid:"
   ]
  },
  {
   "cell_type": "code",
   "execution_count": 23,
   "metadata": {},
   "outputs": [
    {
     "data": {
      "text/plain": [
       "(array([[0., 0., 1.],\n",
       "        [0., 0., 0.],\n",
       "        [0., 0., 0.]]),\n",
       " False,\n",
       " None)"
      ]
     },
     "execution_count": 23,
     "metadata": {},
     "output_type": "execute_result"
    }
   ],
   "source": [
    "env.step(2)"
   ]
  },
  {
   "cell_type": "code",
   "execution_count": 24,
   "metadata": {},
   "outputs": [
    {
     "name": "stdout",
     "output_type": "stream",
     "text": [
      "|- - X|\n",
      "|- - -|\n",
      "|- - -|\n",
      "\n"
     ]
    }
   ],
   "source": [
    "env.render()"
   ]
  },
  {
   "cell_type": "code",
   "execution_count": 25,
   "metadata": {
    "scrolled": false
   },
   "outputs": [
    {
     "data": {
      "text/plain": [
       "{'grid': array([[0., 0., 1.],\n",
       "        [0., 0., 0.],\n",
       "        [0., 0., 0.]]),\n",
       " 'end': False,\n",
       " 'winner': None,\n",
       " 'player2value': {'X': 1, 'O': -1},\n",
       " 'num_step': 1,\n",
       " 'current_player': 'O'}"
      ]
     },
     "execution_count": 25,
     "metadata": {},
     "output_type": "execute_result"
    }
   ],
   "source": [
    "env.__dict__"
   ]
  },
  {
   "cell_type": "code",
   "execution_count": 26,
   "metadata": {
    "scrolled": true
   },
   "outputs": [
    {
     "data": {
      "text/plain": [
       "(array([[ 0.,  0.,  1.],\n",
       "        [ 0., -1.,  0.],\n",
       "        [ 0.,  0.,  0.]]),\n",
       " False,\n",
       " None)"
      ]
     },
     "execution_count": 26,
     "metadata": {},
     "output_type": "execute_result"
    }
   ],
   "source": [
    "env.step((1,1))"
   ]
  },
  {
   "cell_type": "code",
   "execution_count": 27,
   "metadata": {
    "scrolled": true
   },
   "outputs": [
    {
     "name": "stdout",
     "output_type": "stream",
     "text": [
      "|- - X|\n",
      "|- O -|\n",
      "|- - -|\n",
      "\n"
     ]
    }
   ],
   "source": [
    "env.render()"
   ]
  },
  {
   "cell_type": "code",
   "execution_count": 28,
   "metadata": {},
   "outputs": [
    {
     "data": {
      "text/plain": [
       "{'grid': array([[ 0.,  0.,  1.],\n",
       "        [ 0., -1.,  0.],\n",
       "        [ 0.,  0.,  0.]]),\n",
       " 'end': False,\n",
       " 'winner': None,\n",
       " 'player2value': {'X': 1, 'O': -1},\n",
       " 'num_step': 2,\n",
       " 'current_player': 'X'}"
      ]
     },
     "execution_count": 28,
     "metadata": {},
     "output_type": "execute_result"
    }
   ],
   "source": [
    "env.__dict__"
   ]
  },
  {
   "cell_type": "markdown",
   "metadata": {},
   "source": [
    "But not all actions are available at each time: One cannot choose a place which has been taken before. There is an error if an unavailable action is taken:"
   ]
  },
  {
   "cell_type": "code",
   "execution_count": 29,
   "metadata": {
    "scrolled": true
   },
   "outputs": [
    {
     "ename": "ValueError",
     "evalue": "There is already a chess on position (0, 2).",
     "output_type": "error",
     "traceback": [
      "\u001b[0;31m---------------------------------------------------------------------------\u001b[0m",
      "\u001b[0;31mValueError\u001b[0m                                Traceback (most recent call last)",
      "Input \u001b[0;32mIn [29]\u001b[0m, in \u001b[0;36m<cell line: 1>\u001b[0;34m()\u001b[0m\n\u001b[0;32m----> 1\u001b[0m \u001b[43menv\u001b[49m\u001b[38;5;241;43m.\u001b[39;49m\u001b[43mstep\u001b[49m\u001b[43m(\u001b[49m\u001b[43m(\u001b[49m\u001b[38;5;241;43m0\u001b[39;49m\u001b[43m,\u001b[49m\u001b[38;5;241;43m2\u001b[39;49m\u001b[43m)\u001b[49m\u001b[43m)\u001b[49m\n",
      "File \u001b[0;32m~/Documents/CS-456-Artificial-Neural-Network-Miniprojects/tic_env.py:61\u001b[0m, in \u001b[0;36mTictactoeEnv.step\u001b[0;34m(self, position, print_grid)\u001b[0m\n\u001b[1;32m     59\u001b[0m     position \u001b[38;5;241m=\u001b[39m \u001b[38;5;28mtuple\u001b[39m(position)\n\u001b[1;32m     60\u001b[0m \u001b[38;5;28;01mif\u001b[39;00m \u001b[38;5;28mself\u001b[39m\u001b[38;5;241m.\u001b[39mgrid[position] \u001b[38;5;241m!=\u001b[39m \u001b[38;5;241m0\u001b[39m:\n\u001b[0;32m---> 61\u001b[0m     \u001b[38;5;28;01mraise\u001b[39;00m \u001b[38;5;167;01mValueError\u001b[39;00m(\u001b[38;5;124m'\u001b[39m\u001b[38;5;124mThere is already a chess on position \u001b[39m\u001b[38;5;132;01m{}\u001b[39;00m\u001b[38;5;124m.\u001b[39m\u001b[38;5;124m'\u001b[39m\u001b[38;5;241m.\u001b[39mformat(position))\n\u001b[1;32m     63\u001b[0m \u001b[38;5;66;03m# place a chess on the position\u001b[39;00m\n\u001b[1;32m     64\u001b[0m \u001b[38;5;28mself\u001b[39m\u001b[38;5;241m.\u001b[39mgrid[position] \u001b[38;5;241m=\u001b[39m \u001b[38;5;28mself\u001b[39m\u001b[38;5;241m.\u001b[39mplayer2value[\u001b[38;5;28mself\u001b[39m\u001b[38;5;241m.\u001b[39mcurrent_player]\n",
      "\u001b[0;31mValueError\u001b[0m: There is already a chess on position (0, 2)."
     ]
    }
   ],
   "source": [
    "env.step((0,2))"
   ]
  },
  {
   "cell_type": "markdown",
   "metadata": {},
   "source": [
    "### Reward"
   ]
  },
  {
   "cell_type": "markdown",
   "metadata": {},
   "source": [
    "Reward is always 0 until the end of the game. When the game is over, the reward is 1 if you win the game, -1 if you lose, and 0 besides. Function 'observe' can be used after each step to recieve the new state $s_t$, whether the game is over, and the winner, and function 'reward' to get the reward value $r_t$:"
   ]
  },
  {
   "cell_type": "code",
   "execution_count": 30,
   "metadata": {},
   "outputs": [
    {
     "data": {
      "text/plain": [
       "(array([[ 0.,  0.,  1.],\n",
       "        [ 0., -1.,  0.],\n",
       "        [ 0.,  0.,  0.]]),\n",
       " False,\n",
       " None)"
      ]
     },
     "execution_count": 30,
     "metadata": {},
     "output_type": "execute_result"
    }
   ],
   "source": [
    "env.observe()"
   ]
  },
  {
   "cell_type": "code",
   "execution_count": 31,
   "metadata": {},
   "outputs": [
    {
     "data": {
      "text/plain": [
       "0"
      ]
     },
     "execution_count": 31,
     "metadata": {},
     "output_type": "execute_result"
    }
   ],
   "source": [
    "env.reward(player='X')"
   ]
  },
  {
   "cell_type": "code",
   "execution_count": 32,
   "metadata": {},
   "outputs": [
    {
     "data": {
      "text/plain": [
       "0"
      ]
     },
     "execution_count": 32,
     "metadata": {},
     "output_type": "execute_result"
    }
   ],
   "source": [
    "env.reward(player='O')"
   ]
  },
  {
   "cell_type": "markdown",
   "metadata": {},
   "source": [
    "An example of finishing the game:"
   ]
  },
  {
   "cell_type": "code",
   "execution_count": 33,
   "metadata": {},
   "outputs": [
    {
     "data": {
      "text/plain": [
       "(array([[ 1.,  1.,  1.],\n",
       "        [-1., -1.,  0.],\n",
       "        [ 0.,  0.,  0.]]),\n",
       " True,\n",
       " 'X')"
      ]
     },
     "execution_count": 33,
     "metadata": {},
     "output_type": "execute_result"
    }
   ],
   "source": [
    "env.step(0)\n",
    "env.step(3)\n",
    "env.step(1)"
   ]
  },
  {
   "cell_type": "code",
   "execution_count": 34,
   "metadata": {},
   "outputs": [
    {
     "name": "stdout",
     "output_type": "stream",
     "text": [
      "|X X X|\n",
      "|O O -|\n",
      "|- - -|\n",
      "\n"
     ]
    }
   ],
   "source": [
    "env.render()"
   ]
  },
  {
   "cell_type": "code",
   "execution_count": 35,
   "metadata": {},
   "outputs": [
    {
     "data": {
      "text/plain": [
       "(array([[ 1.,  1.,  1.],\n",
       "        [-1., -1.,  0.],\n",
       "        [ 0.,  0.,  0.]]),\n",
       " True,\n",
       " 'X')"
      ]
     },
     "execution_count": 35,
     "metadata": {},
     "output_type": "execute_result"
    }
   ],
   "source": [
    "env.observe()"
   ]
  },
  {
   "cell_type": "code",
   "execution_count": 36,
   "metadata": {},
   "outputs": [
    {
     "data": {
      "text/plain": [
       "1"
      ]
     },
     "execution_count": 36,
     "metadata": {},
     "output_type": "execute_result"
    }
   ],
   "source": [
    "env.reward(player='X')"
   ]
  },
  {
   "cell_type": "code",
   "execution_count": 37,
   "metadata": {},
   "outputs": [
    {
     "data": {
      "text/plain": [
       "-1"
      ]
     },
     "execution_count": 37,
     "metadata": {},
     "output_type": "execute_result"
    }
   ],
   "source": [
    "env.reward(player='O')"
   ]
  },
  {
   "cell_type": "markdown",
   "metadata": {},
   "source": [
    "# Optimal policy for Tic Toc Toe environment"
   ]
  },
  {
   "cell_type": "markdown",
   "metadata": {},
   "source": [
    "Fortunately, we know the exact optimal policy for Tic Toc Toe. We have implemented and $\\epsilon$-greedy version of optimal polciy which you can use for the project."
   ]
  },
  {
   "cell_type": "code",
   "execution_count": 38,
   "metadata": {},
   "outputs": [],
   "source": [
    "env.reset();"
   ]
  },
  {
   "cell_type": "code",
   "execution_count": 39,
   "metadata": {},
   "outputs": [],
   "source": [
    "opt_player = OptimalPlayer(epsilon = 0., player = 'X')"
   ]
  },
  {
   "cell_type": "code",
   "execution_count": 40,
   "metadata": {},
   "outputs": [
    {
     "data": {
      "text/plain": [
       "(2, 0)"
      ]
     },
     "execution_count": 40,
     "metadata": {},
     "output_type": "execute_result"
    }
   ],
   "source": [
    "opt_player.act(env.grid)"
   ]
  },
  {
   "cell_type": "code",
   "execution_count": 41,
   "metadata": {
    "scrolled": true
   },
   "outputs": [
    {
     "data": {
      "text/plain": [
       "'X'"
      ]
     },
     "execution_count": 41,
     "metadata": {},
     "output_type": "execute_result"
    }
   ],
   "source": [
    "opt_player.player"
   ]
  },
  {
   "cell_type": "markdown",
   "metadata": {},
   "source": [
    "### An example of optimal player playing against random player"
   ]
  },
  {
   "cell_type": "code",
   "execution_count": 42,
   "metadata": {},
   "outputs": [
    {
     "name": "stdout",
     "output_type": "stream",
     "text": [
      "-------------------------------------------\n",
      "Game end, winner is player O\n",
      "Optimal player = O\n",
      "Random player = X\n",
      "|- - O|\n",
      "|- O X|\n",
      "|O X X|\n",
      "\n",
      "-------------------------------------------\n",
      "Game end, winner is player O\n",
      "Optimal player = O\n",
      "Random player = X\n",
      "|X O X|\n",
      "|- O X|\n",
      "|- O -|\n",
      "\n",
      "-------------------------------------------\n",
      "Game end, winner is player O\n",
      "Optimal player = O\n",
      "Random player = X\n",
      "|O - -|\n",
      "|X O -|\n",
      "|X X O|\n",
      "\n",
      "-------------------------------------------\n",
      "Game end, winner is player None\n",
      "Optimal player = X\n",
      "Random player = O\n",
      "|X X O|\n",
      "|O X X|\n",
      "|X O O|\n",
      "\n",
      "-------------------------------------------\n",
      "Game end, winner is player O\n",
      "Optimal player = O\n",
      "Random player = X\n",
      "|O - -|\n",
      "|X O X|\n",
      "|X - O|\n",
      "\n"
     ]
    }
   ],
   "source": [
    "Turns = np.array(['X','O'])\n",
    "for i in range(5):\n",
    "    env.reset()\n",
    "    grid, _, __ = env.observe()\n",
    "    Turns = Turns[np.random.permutation(2)]\n",
    "    player_opt = OptimalPlayer(epsilon=0., player=Turns[0])\n",
    "    player_rnd = OptimalPlayer(epsilon=1., player=Turns[1])\n",
    "    for j in range(9):\n",
    "        if env.current_player == player_opt.player:\n",
    "            move = player_opt.act(grid)\n",
    "        else:\n",
    "            move = player_rnd.act(grid)\n",
    "\n",
    "        grid, end, winner = env.step(move, print_grid=False)\n",
    "\n",
    "        if end:\n",
    "            print('-------------------------------------------')\n",
    "            print('Game end, winner is player ' + str(winner))\n",
    "            print('Optimal player = ' +  Turns[0])\n",
    "            print('Random player = ' +  Turns[1])\n",
    "            env.render()\n",
    "            env.reset()\n",
    "            break\n"
   ]
  },
  {
   "cell_type": "markdown",
   "metadata": {},
   "source": [
    "### An example of optimal player playing against optimal player"
   ]
  },
  {
   "cell_type": "code",
   "execution_count": 43,
   "metadata": {},
   "outputs": [
    {
     "name": "stdout",
     "output_type": "stream",
     "text": [
      "-------------------------------------------\n",
      "Game end, winner is player None\n",
      "Optimal player 1 = O\n",
      "Optimal player 2 = X\n",
      "|X X O|\n",
      "|O O X|\n",
      "|X O X|\n",
      "\n",
      "-------------------------------------------\n",
      "Game end, winner is player None\n",
      "Optimal player 1 = O\n",
      "Optimal player 2 = X\n",
      "|X X O|\n",
      "|O O X|\n",
      "|X O X|\n",
      "\n",
      "-------------------------------------------\n",
      "Game end, winner is player None\n",
      "Optimal player 1 = X\n",
      "Optimal player 2 = O\n",
      "|X O X|\n",
      "|X O O|\n",
      "|O X X|\n",
      "\n",
      "-------------------------------------------\n",
      "Game end, winner is player None\n",
      "Optimal player 1 = O\n",
      "Optimal player 2 = X\n",
      "|O X X|\n",
      "|X O O|\n",
      "|X O X|\n",
      "\n",
      "-------------------------------------------\n",
      "Game end, winner is player None\n",
      "Optimal player 1 = X\n",
      "Optimal player 2 = O\n",
      "|O X X|\n",
      "|X O O|\n",
      "|X O X|\n",
      "\n"
     ]
    }
   ],
   "source": [
    "Turns = np.array(['X','O'])\n",
    "for i in range(5):\n",
    "    env.reset()\n",
    "    grid, _, __ = env.observe()\n",
    "    Turns = Turns[np.random.permutation(2)]\n",
    "    player_opt_1 = OptimalPlayer(epsilon=0., player=Turns[0])\n",
    "    player_opt_2 = OptimalPlayer(epsilon=0., player=Turns[1])\n",
    "    for j in range(9):\n",
    "        if env.current_player == player_opt.player:\n",
    "            move = player_opt_1.act(grid)\n",
    "        else:\n",
    "            move = player_opt_2.act(grid)\n",
    "\n",
    "        grid, end, winner = env.step(move, print_grid=False)\n",
    "\n",
    "        if end:\n",
    "            print('-------------------------------------------')\n",
    "            print('Game end, winner is player ' + str(winner))\n",
    "            print('Optimal player 1 = ' +  Turns[0])\n",
    "            print('Optimal player 2 = ' +  Turns[1])\n",
    "            env.render()\n",
    "            env.reset()\n",
    "            break\n"
   ]
  },
  {
   "cell_type": "markdown",
   "metadata": {},
   "source": [
    "## Q-learning "
   ]
  },
  {
   "cell_type": "code",
   "execution_count": 228,
   "metadata": {},
   "outputs": [
    {
     "name": "stderr",
     "output_type": "stream",
     "text": [
      "100%|████████████████████████████████████| 20000/20000 [02:40<00:00, 124.89it/s]\n"
     ]
    }
   ],
   "source": [
    "from collections import defaultdict\n",
    "from tqdm import tqdm \n",
    "\n",
    "coords = lambda pos: (int(pos / 3), pos % 3) \n",
    "\n",
    "def eps_greedy(Q, state, grid, epsilon):\n",
    "    possible_moves = np.where(np.ravel(grid) == 0)[0]\n",
    "    if np.random.random() < epsilon:\n",
    "        position = np.random.choice(possible_moves)\n",
    "    else:\n",
    "        possible = [int(elem) for elem in np.argsort(Q[state]) if elem in possible_moves]\n",
    "        position = possible[-1] if possible is not [] else np.random.choice(possible_moves) \n",
    "    return (int(position / 3), position % 3) \n",
    "\n",
    "#Q learning with greedy\n",
    "#Dont necessariliy need to train with player_epsilon = 0.5\n",
    "def q_learning(env, num_episodes, discount_factor=0.99, alpha=0.05, epsilon=0.3, player_epsilon=0.5):\n",
    "    Q = defaultdict(lambda: np.zeros(9))\n",
    "    episode_lengths = np.zeros(num_episodes)\n",
    "    episode_rewards = np.zeros(num_episodes)\n",
    "    Turns = np.array(['X','O'])\n",
    "    \n",
    "    for i_episode in tqdm(range(num_episodes)):\n",
    "        env.reset()\n",
    "        grid, end, winner = env.observe()\n",
    "        Turns = Turns[np.random.permutation(2)]\n",
    "        player = OptimalPlayer(epsilon=player_epsilon, player=Turns[1])\n",
    "        while not end:\n",
    "            episode_lengths[i_episode] += 1\n",
    "            if env.current_player == Turns[0]:\n",
    "                #move = eps_greedy(Q, str(grid), grid, epsilon=epsilon - epsilon/num_episodes*i_episode)\n",
    "                \n",
    "                #Remark: for question 2.1 epsilon needs to be constant and not decreasing\n",
    "                move = eps_greedy(Q, str(grid), grid, epsilon = epsilon)\n",
    "            else:  \n",
    "                move = player.act(grid)\n",
    "            \n",
    "            new_grid, end, winner = env.step(move, print_grid=False)\n",
    "            episode_rewards[i_episode] += env.reward(env.current_player)\n",
    "#             if end: \n",
    "#                 Q[str(grid)][move[0] * 3 + move[1]] = env.reward(Turns[0])\n",
    "#             else: \n",
    "#             td_target = (discount_factor * np.max(Q[str(new_grid)])) * alpha \n",
    "#             td = (1 - alpha) * Q[str(grid)][move[0] * 3 + move[1]]\n",
    "#             Q[str(grid)][move[0] * 3 + move[1]] = td + td_target \n",
    "            if env.current_player == Turns[1]:\n",
    "                value = Q[str(grid)][move[0] * 3 + move[1]]\n",
    "                Q[str(grid)][move[0] * 3 + move[1]] += alpha * (env.reward(Turns[0]) + discount_factor * np.max(Q[str(new_grid)]) - value)\n",
    "            grid = new_grid \n",
    "    \n",
    "    return Q, episode_lengths, episode_rewards\n",
    "\n",
    "Q, episode_lengths, episode_rewards = q_learning(env, 20000)"
   ]
  },
  {
   "cell_type": "markdown",
   "metadata": {},
   "source": [
    "We uodate Q values at every move (optimal player and q-learning player)"
   ]
  },
  {
   "cell_type": "code",
   "execution_count": 229,
   "metadata": {
    "scrolled": false
   },
   "outputs": [
    {
     "name": "stderr",
     "output_type": "stream",
     "text": [
      "100%|██████████████████████████████████████| 2000/2000 [00:04<00:00, 408.61it/s]"
     ]
    },
    {
     "name": "stdout",
     "output_type": "stream",
     "text": [
      "0.7555 -0.1535056517271362\n"
     ]
    },
    {
     "name": "stderr",
     "output_type": "stream",
     "text": [
      "\n"
     ]
    }
   ],
   "source": [
    "from matplotlib import pyplot as plt\n",
    "\n",
    "def q_eval(Q, other_player_epsilon=0.5, games=20000):\n",
    "    env.reset()\n",
    "    total_reward = []\n",
    "    Turns = np.array(['X','O'])\n",
    "    count_win = 0 \n",
    "    for i in tqdm(range(games)):\n",
    "        grid, end, winner = env.observe()\n",
    "        Turns = Turns[np.random.permutation(2)]\n",
    "        player = OptimalPlayer(epsilon=other_player_epsilon, player=Turns[1])\n",
    "        while not end:\n",
    "            if env.current_player == Turns[0]:\n",
    "                possible_moves = np.where(np.ravel(grid) == 0)[0]\n",
    "                possible = [int(elem) for elem in np.argsort(Q[str(grid)]) if elem in possible_moves]\n",
    "                position = possible[-1] if possible is not [] else np.random.choice(possible_moves)\n",
    "                move = (int(position / 3), position % 3) \n",
    "            else:  \n",
    "                move = player.act(grid)\n",
    "            grid, end, winner = env.step(move, print_grid=False)\n",
    "            total_reward.append(env.reward(env.current_player))\n",
    "            if winner == Turns[0]: \n",
    "                count_win += 1 \n",
    "            if end:\n",
    "#                 print('-------------------------------------------')\n",
    "#                 print('Game end, winner is player ' + str(winner))\n",
    "#                 print('Q-Learning player = ' +  Turns[0])\n",
    "#                 print('Optimal player = ' +  Turns[1])\n",
    "#                 env.render()\n",
    "                env.reset()\n",
    "                break\n",
    "        \n",
    "    return np.mean(total_reward), count_win / games \n",
    "\n",
    "\n",
    "reward, score = q_eval(Q, other_player_epsilon = 1., games = 2000)\n",
    "print(score, reward) "
   ]
  },
  {
   "cell_type": "code",
   "execution_count": null,
   "metadata": {},
   "outputs": [],
   "source": [
    "plt.plot(episode_rewards); "
   ]
  },
  {
   "cell_type": "markdown",
   "metadata": {},
   "source": [
    "## DQN "
   ]
  },
  {
   "cell_type": "code",
   "execution_count": 72,
   "metadata": {},
   "outputs": [],
   "source": [
    "# https://pytorch.org/tutorials/intermediate/reinforcement_q_learning.html"
   ]
  },
  {
   "cell_type": "code",
   "execution_count": 4,
   "metadata": {},
   "outputs": [],
   "source": [
    "import torch\n",
    "import torch.nn as nn\n",
    "import torch.optim as optim\n",
    "import torch.nn.functional as F\n",
    "from collections import namedtuple\n",
    "from itertools import count\n",
    "import random"
   ]
  },
  {
   "cell_type": "code",
   "execution_count": 5,
   "metadata": {},
   "outputs": [],
   "source": [
    "class DataSampler(object):\n",
    "\n",
    "    def __init__(self, capacity):\n",
    "        self.capacity = capacity\n",
    "        self.memory = {'state':[], 'action':[], 'next_state':[], 'reward':[]}\n",
    "        self.position = 0\n",
    "\n",
    "    def push(self, state, action, next_state, reward):\n",
    "        self.memory['state'].append(state)\n",
    "        self.memory['action'].append(action)\n",
    "        self.memory['next_state'].append(next_state)\n",
    "        self.memory['reward'].append(reward)\n",
    "\n",
    "    def sample(self, batch_size):\n",
    "        return {key: random.sample(self.memory[key], batch_size) for key in self.memory.keys()}\n",
    "\n",
    "    def __len__(self):\n",
    "        return len(self.memory)"
   ]
  },
  {
   "cell_type": "code",
   "execution_count": 6,
   "metadata": {},
   "outputs": [],
   "source": [
    "class DQN(nn.Module):\n",
    "\n",
    "    def __init__(self, states, outputs):\n",
    "        super(DQN, self).__init__()\n",
    "        self.conv1 = nn.Conv1d(1, 16, kernel_size=1, stride=1)\n",
    "        self.conv2 = nn.Conv1d(16, 32, kernel_size=1, stride=1)\n",
    "        self.conv3 = nn.Conv1d(32, 32, kernel_size=1, stride=1)\n",
    "\n",
    "        # Number of Linear input connections depends on output of conv2d layers\n",
    "        # and therefore the input image size, so compute it.\n",
    "        def conv2d_size_out(size, kernel_size = 1, stride = 1):\n",
    "            return (size - (kernel_size - 1) - 1) // stride  + 1\n",
    "        conv_s = conv2d_size_out(conv2d_size_out(conv2d_size_out(states)))\n",
    "        linear_input_size = conv_s #* 32\n",
    "        self.head = nn.Linear(32, outputs)\n",
    "\n",
    "    # Called with either one element to determine next action, or a batch\n",
    "    # during optimization. Returns tensor([[left0exp,right0exp]...]).\n",
    "    def forward(self, x):\n",
    "        x = x.reshape(-1, 1, 1)\n",
    "        x = x.type(torch.float32)\n",
    "        x = F.relu(self.conv1(x))\n",
    "        x = F.relu(self.conv2(x))\n",
    "        x = F.relu(self.conv3(x))\n",
    "        return self.head(x.view(x.size(0), -1))"
   ]
  },
  {
   "cell_type": "code",
   "execution_count": 106,
   "metadata": {},
   "outputs": [],
   "source": [
    "BATCH_SIZE = 1\n",
    "GAMMA = 0.999\n",
    "EPS_START = 0.9\n",
    "EPS_END = 0.05\n",
    "EPS_DECAY = 200\n",
    "TARGET_UPDATE = 10\n",
    "\n",
    "# Get number of actions from gym action space\n",
    "n_states = 5477\n",
    "n_actions = 9\n",
    "\n",
    "policy_net = DQN(n_states, n_actions) #.to(device)\n",
    "target_net = DQN(n_states, n_actions) #.to(device)\n",
    "target_net.load_state_dict(policy_net.state_dict())\n",
    "target_net.eval()\n",
    "\n",
    "optimizer = optim.RMSprop(policy_net.parameters())\n",
    "memory = DataSampler(10000)\n",
    "\n",
    "steps_done = 0\n",
    "\n",
    "def select_action(state, flag = True):\n",
    "    global steps_done\n",
    "    sample = random.random()\n",
    "    eps_threshold = EPS_START - EPS_START/num_episodes*(steps_done + 1)\n",
    "    steps_done += 1\n",
    "    if flag:\n",
    "        with torch.no_grad():\n",
    "            possible_moves = np.where(np.ravel(state) == 0)[0]\n",
    "            possible = [int(elem) for elem in np.argsort(np.ravel(policy_net(state).max(1)[1])) \n",
    "                        if elem in possible_moves]\n",
    "            position = possible[-1] if possible is not [] else np.random.choice(possible_moves)\n",
    "            return position\n",
    "    # greedy \n",
    "    if sample > eps_threshold:\n",
    "        with torch.no_grad():\n",
    "            pos = policy_net(state).detach().numpy()\n",
    "            possible_moves = np.where(np.ravel(state) == 0)[0]\n",
    "            possible = [int(elem) for elem in np.argsort(pos) if elem in possible_moves]\n",
    "            position = possible[-1] if possible is not [] else np.random.choice(possible_moves) \n",
    "            return position\n",
    "    else:\n",
    "        return torch.tensor([[random.randrange(n_actions)]],dtype=torch.long)\n",
    "\n",
    "\n",
    "episode_durations = []"
   ]
  },
  {
   "cell_type": "code",
   "execution_count": 255,
   "metadata": {},
   "outputs": [],
   "source": [
    "def optimize_model():\n",
    "    if len(memory) < BATCH_SIZE:\n",
    "        return\n",
    "    batch = memory.sample(BATCH_SIZE)\n",
    "\n",
    "    # Compute a mask of non-final states and concatenate the batch elements\n",
    "    # (a final state would've been the one after which simulation ended)\n",
    "    non_final_mask = torch.tensor(tuple(map(lambda s: s is not None,\n",
    "                                          np.ravel(batch[\"next_state\"][-1]))), dtype=torch.bool)\n",
    "    data = [s for s in batch[\"next_state\"][-1] if s != [None] * 9 and s is not None and s[0] is not None]\n",
    "    if len(data) > 0:\n",
    "        print(batch[\"next_state\"][-1])\n",
    "        non_final_next_states = torch.stack(data)\n",
    "    else:\n",
    "        non_final_next_states = torch.tensor([0])\n",
    "    state_batch = torch.tensor(batch[\"state\"][-1])\n",
    "    action_batch = torch.tensor(batch[\"action\"][-1])\n",
    "    reward_batch = torch.tensor(batch[\"reward\"][-1])\n",
    "\n",
    "    # Compute Q(s_t, a) - the model computes Q(s_t), then we select the\n",
    "    # columns of actions taken. These are the actions which would've been taken\n",
    "    # for each batch state according to policy_net\n",
    "    state_action_values = policy_net(state_batch)[1, action_batch]\n",
    "\n",
    "    # Compute V(s_{t+1}) for all next states.\n",
    "    # Expected values of actions for non_final_next_states are computed based\n",
    "    # on the \"older\" target_net; selecting their best reward with max(1)[0].\n",
    "    # This is merged based on the mask, such that we'll have either the expected\n",
    "    # state value or 0 in case the state was final.\n",
    "    next_state_values = torch.zeros(9) #, device=device)\n",
    "    next_state_values[non_final_mask] = max(target_net(non_final_next_states).max(1)[0].detach())\n",
    "    #target_net(non_final_next_states).max(1)[0].detach() \n",
    "    # Compute the expected Q values\n",
    "\n",
    "    expected_state_action_values = (next_state_values * GAMMA) + reward_batch\n",
    "\n",
    "    # Compute Huber loss\n",
    "    criterion = nn.SmoothL1Loss()\n",
    "#     print(state_action_values, expected_state_action_values)\n",
    "    loss = criterion(state_action_values, expected_state_action_values)\n",
    "\n",
    "#     loss = F.smooth_l1_loss(state_action_values, expected_state_action_values.unsqueeze(1))\n",
    "\n",
    "    # Optimize the model\n",
    "    optimizer.zero_grad()\n",
    "    loss.backward()\n",
    "    for param in policy_net.parameters():\n",
    "        param.data.clamp_(-1, 1)\n",
    "    optimizer.step()"
   ]
  },
  {
   "cell_type": "code",
   "execution_count": null,
   "metadata": {},
   "outputs": [
    {
     "name": "stderr",
     "output_type": "stream",
     "text": [
      "  0%|                                                 | 0/10000 [00:00<?, ?it/s]/var/folders/9r/rtblblhj3019srf4v_j8smd00000gn/T/ipykernel_37540/3386523089.py:16: UserWarning: To copy construct from a tensor, it is recommended to use sourceTensor.clone().detach() or sourceTensor.clone().detach().requires_grad_(True), rather than torch.tensor(sourceTensor).\n",
      "  state_batch = torch.tensor(batch[\"state\"][-1])\n",
      "/var/folders/9r/rtblblhj3019srf4v_j8smd00000gn/T/ipykernel_37540/3386523089.py:17: UserWarning: To copy construct from a tensor, it is recommended to use sourceTensor.clone().detach() or sourceTensor.clone().detach().requires_grad_(True), rather than torch.tensor(sourceTensor).\n",
      "  action_batch = torch.tensor(batch[\"action\"][-1])\n",
      "/var/folders/9r/rtblblhj3019srf4v_j8smd00000gn/T/ipykernel_37540/3386523089.py:18: UserWarning: To copy construct from a tensor, it is recommended to use sourceTensor.clone().detach() or sourceTensor.clone().detach().requires_grad_(True), rather than torch.tensor(sourceTensor).\n",
      "  reward_batch = torch.tensor(batch[\"reward\"][-1])\n",
      "  0%|                                         | 3/10000 [00:00<06:00, 27.73it/s]"
     ]
    },
    {
     "name": "stdout",
     "output_type": "stream",
     "text": [
      "tensor([[ 0.,  0.,  0.,  0., -1.,  1., -1.,  1.,  1.]])\n",
      "tensor([[0., 0., 0., 0., 0., 0., 0., 0., 1.]])\n",
      "tensor([[ 0.,  0.,  0.,  0.,  1.,  0.,  1.,  0., -1.]])\n",
      "tensor([[ 0.,  0.,  0.,  0., -1.,  1., -1.,  1.,  1.]])\n",
      "tensor([[ 0.,  0.,  0.,  0., -1.,  1., -1.,  1.,  1.]])\n",
      "tensor([[0., 0., 0., 0., 0., 0., 0., 0., 1.]])\n",
      "tensor([[0., 0., 1., 0., 0., 0., 0., 0., 0.]])\n",
      "tensor([[ 1.,  0.,  0.,  0.,  1., -1.,  1., -1., -1.]])\n",
      "tensor([[ 0.,  0.,  0.,  0., -1.,  1., -1.,  1.,  1.]])\n",
      "tensor([[ 0.,  0.,  0.,  0., -1.,  0.,  0.,  0.,  1.]])\n",
      "tensor([[ 1.,  0.,  0.,  0.,  0.,  0.,  0.,  0., -1.]])\n",
      "tensor([[ 1.,  0.,  0.,  0.,  0.,  0.,  0.,  0., -1.]])\n",
      "tensor([[ 0.,  0.,  0.,  0.,  1.,  0.,  1., -1., -1.]])\n",
      "tensor([[ 0.,  0.,  0.,  0., -1.,  1., -1.,  1.,  1.]])\n",
      "tensor([[ 0.,  0.,  0.,  0.,  1.,  0.,  0., -1.,  1.]])\n",
      "tensor([[1., 0., 0., 0., 0., 0., 0., 0., 0.]])\n",
      "tensor([[ 0.,  0.,  0.,  0., -1.,  0., -1.,  1.,  1.]])\n",
      "tensor([[0., 0., 0., 0., 0., 0., 1., 0., 0.]])\n",
      "tensor([[ 0.,  0.,  0.,  0.,  1.,  0.,  1.,  0., -1.]])\n",
      "tensor([[ 0.,  0.,  0.,  0., -1.,  0., -1.,  1.,  1.]])\n",
      "tensor([[ 0.,  0.,  0.,  0., -1.,  1., -1.,  1.,  1.]])\n",
      "tensor([[0., 0., 0., 0., 0., 0., 0., 0., 1.]])\n",
      "tensor([[ 0.,  0.,  0.,  0., -1.,  0.,  0.,  1.,  1.]])\n",
      "tensor([[ 0.,  0.,  0.,  0., -1.,  1., -1.,  1.,  1.]])\n",
      "tensor([[ 0.,  0.,  0.,  0.,  1.,  0.,  0., -1.,  1.]])\n",
      "tensor([[ 0.,  0.,  0.,  0., -1.,  0., -1.,  1.,  1.]])\n"
     ]
    },
    {
     "name": "stderr",
     "output_type": "stream",
     "text": [
      "  0%|                                        | 10/10000 [00:00<06:21, 26.17it/s]"
     ]
    },
    {
     "name": "stdout",
     "output_type": "stream",
     "text": [
      "tensor([[ 0.,  0.,  1.,  0.,  1.,  0.,  0.,  0., -1.]])\n",
      "tensor([[ 0.,  0.,  1.,  0.,  1.,  0.,  0., -1., -1.]])\n",
      "tensor([[0., 0., 0., 0., 1., 0., 0., 0., 0.]])\n",
      "tensor([[ 1.,  0.,  0.,  0.,  0.,  0.,  0.,  0., -1.]])\n",
      "tensor([[ 0.,  0.,  0.,  0., -1.,  0., -1.,  1.,  1.]])\n",
      "tensor([[ 1.,  0.,  0.,  0.,  1.,  0.,  0.,  0., -1.]])\n",
      "tensor([[ 0.,  0.,  0.,  0.,  1.,  0.,  0.,  0., -1.]])\n",
      "tensor([[0., 0., 0., 0., 0., 0., 1., 0., 0.]])\n",
      "tensor([[ 0.,  0.,  0.,  0., -1.,  0.,  0.,  0.,  1.]])\n",
      "tensor([[ 0.,  0.,  1.,  0.,  1.,  0.,  0.,  0., -1.]])\n",
      "tensor([[ 1.,  0.,  0.,  0.,  0.,  0.,  0.,  0., -1.]])\n",
      "tensor([[ 0.,  0.,  0.,  0.,  1.,  0.,  0.,  0., -1.]])\n",
      "tensor([[ 0.,  0.,  0.,  0., -1.,  0.,  0.,  0.,  1.]])\n",
      "tensor([[ 1.,  0.,  0.,  0.,  1.,  0.,  1., -1., -1.]])\n",
      "tensor([[ 0.,  0.,  0.,  0., -1.,  1., -1.,  1.,  1.]])\n",
      "tensor([[ 0.,  0.,  0.,  0., -1.,  0.,  0.,  1.,  1.]])\n",
      "tensor([[ 0.,  0.,  0.,  0., -1.,  0.,  0.,  1.,  1.]])\n",
      "tensor([[ 1.,  0.,  0.,  0.,  1.,  0.,  0., -1., -1.]])\n",
      "tensor([[ 0.,  0.,  0.,  0., -1.,  0., -1.,  1.,  1.]])\n",
      "tensor([[0., 0., 0., 0., 1., 0., 0., 0., 0.]])\n",
      "tensor([[0., 0., 0., 0., 0., 0., 0., 0., 1.]])\n",
      "tensor([[ 1.,  0.,  0.,  0.,  1.,  0.,  1., -1., -1.]])\n",
      "tensor([[0., 0., 0., 0., 0., 0., 0., 0., 1.]])\n",
      "tensor([[ 0.,  0.,  0.,  0., -1.,  0.,  0.,  0.,  1.]])\n",
      "tensor([[ 0.,  0.,  1.,  0.,  1.,  0.,  0., -1., -1.]])\n",
      "tensor([[0., 0., 0., 0., 0., 0., 0., 0., 1.]])\n",
      "tensor([[ 1.,  0.,  0.,  0.,  1.,  0.,  0.,  0., -1.]])\n",
      "tensor([[ 0.,  0.,  0.,  0.,  1.,  0.,  1.,  0., -1.]])\n"
     ]
    },
    {
     "name": "stderr",
     "output_type": "stream",
     "text": [
      "\r",
      "  0%|                                        | 13/10000 [00:00<06:15, 26.60it/s]"
     ]
    },
    {
     "name": "stdout",
     "output_type": "stream",
     "text": [
      "tensor([[ 0.,  0.,  0.,  0., -1.,  1., -1.,  1.,  1.]])\n",
      "tensor([[ 1.,  0.,  0.,  0.,  0.,  0.,  0.,  0., -1.]])\n",
      "tensor([[1., 0., 0., 0., 0., 0., 0., 0., 0.]])\n",
      "tensor([[ 0.,  0.,  0.,  0., -1.,  1., -1.,  1.,  1.]])\n",
      "tensor([[ 0.,  0.,  1.,  0.,  0.,  0.,  0.,  0., -1.]])\n",
      "tensor([[ 0.,  0.,  0.,  0., -1.,  0.,  0.,  1.,  1.]])\n",
      "tensor([[ 0.,  0.,  0.,  0., -1.,  1., -1.,  1.,  1.]])\n",
      "tensor([[0., 0., 1., 0., 0., 0., 0., 0., 0.]])\n",
      "tensor([[ 1.,  0.,  0.,  0.,  1.,  0.,  0., -1., -1.]])\n",
      "tensor([[ 1.,  0.,  0.,  0.,  1.,  0.,  1., -1., -1.]])\n",
      "tensor([[ 1.,  0.,  0.,  0.,  1.,  0.,  0., -1., -1.]])\n",
      "tensor([[0., 0., 0., 0., 0., 0., 1., 0., 0.]])\n",
      "tensor([[0., 0., 0., 0., 0., 0., 0., 0., 1.]])\n",
      "tensor([[ 0.,  0.,  0.,  0., -1.,  1., -1.,  1.,  1.]])\n",
      "tensor([[ 0.,  0.,  0.,  0., -1.,  0., -1.,  1.,  1.]])\n",
      "tensor([[ 0.,  0.,  0.,  0.,  1.,  0.,  1.,  0., -1.]])\n",
      "tensor([[ 0.,  0.,  0.,  0., -1.,  0., -1.,  1.,  1.]])\n",
      "tensor([[ 0.,  0.,  0.,  0.,  0.,  0.,  0., -1.,  1.]])\n",
      "tensor([[ 0.,  0.,  0.,  0.,  1.,  0., -1., -1.,  1.]])\n",
      "tensor([[ 1.,  0.,  0.,  0.,  1., -1.,  1., -1., -1.]])\n",
      "tensor([[ 0.,  0.,  0.,  0., -1.,  0., -1.,  1.,  1.]])\n",
      "tensor([[ 1.,  0.,  0.,  0.,  1.,  0.,  0.,  0., -1.]])\n",
      "tensor([[ 0.,  0.,  0.,  0., -1.,  0.,  0.,  0.,  1.]])\n",
      "tensor([[ 1.,  0.,  0.,  0.,  1., -1.,  1., -1., -1.]])\n",
      "tensor([[0., 0., 0., 0., 0., 0., 0., 0., 1.]])\n",
      "tensor([[0., 0., 0., 0., 0., 0., 0., 0., 1.]])\n",
      "tensor([[ 0.,  0.,  0.,  0., -1.,  0.,  0.,  1.,  1.]])\n",
      "tensor([[ 0.,  0.,  1.,  0.,  1.,  0.,  0.,  0., -1.]])\n",
      "tensor([[0., 0., 0., 0., 0., 0., 0., 0., 1.]])\n",
      "tensor([[ 0.,  0.,  0.,  0., -1.,  0.,  0.,  1.,  1.]])\n",
      "tensor([[ 1.,  0.,  0.,  0.,  1.,  0.,  0., -1., -1.]])\n",
      "tensor([[0., 0., 1., 0., 0., 0., 0., 0., 0.]])\n"
     ]
    },
    {
     "name": "stderr",
     "output_type": "stream",
     "text": [
      "  0%|                                        | 20/10000 [00:00<06:17, 26.47it/s]"
     ]
    },
    {
     "name": "stdout",
     "output_type": "stream",
     "text": [
      "tensor([[ 0.,  0.,  1.,  0.,  1.,  0.,  0., -1., -1.]])\n",
      "tensor([[ 1.,  0.,  0.,  0.,  1.,  0.,  0., -1., -1.]])\n",
      "tensor([[ 1.,  0.,  0.,  0.,  1.,  0.,  0., -1., -1.]])\n",
      "tensor([[ 0.,  0.,  0.,  0., -1.,  0.,  0.,  1.,  1.]])\n",
      "tensor([[0., 0., 0., 0., 0., 0., 0., 0., 1.]])\n",
      "tensor([[ 0.,  0.,  0.,  0.,  1.,  0.,  1.,  0., -1.]])\n",
      "tensor([[ 1.,  0.,  0.,  0.,  1.,  0.,  0.,  0., -1.]])\n",
      "tensor([[ 0.,  0.,  0.,  0.,  1.,  0.,  1., -1., -1.]])\n",
      "tensor([[ 0.,  0.,  0.,  0., -1.,  1., -1.,  1.,  1.]])\n",
      "tensor([[ 0.,  0.,  0.,  0., -1.,  0., -1.,  1.,  1.]])\n",
      "tensor([[ 0.,  0.,  0.,  0.,  1.,  0.,  0., -1.,  1.]])\n",
      "tensor([[ 0.,  0.,  1.,  0.,  1.,  0.,  0.,  0., -1.]])\n",
      "tensor([[ 0.,  0.,  0.,  0., -1.,  1., -1.,  1.,  1.]])\n",
      "tensor([[ 0.,  0.,  0.,  0., -1.,  1., -1.,  1.,  1.]])\n",
      "tensor([[0., 0., 0., 0., 0., 0., 0., 0., 1.]])\n",
      "tensor([[0., 0., 0., 0., 0., 0., 0., 0., 1.]])\n",
      "tensor([[ 0.,  0.,  0.,  0., -1.,  1., -1.,  1.,  1.]])\n",
      "tensor([[ 1.,  0.,  0.,  0.,  1.,  0.,  0.,  0., -1.]])\n",
      "tensor([[ 0.,  0.,  1.,  0.,  1.,  0.,  0., -1., -1.]])\n",
      "tensor([[0., 0., 0., 0., 0., 0., 0., 0., 1.]])\n",
      "tensor([[ 0.,  0.,  0.,  0., -1.,  0., -1.,  1.,  1.]])\n",
      "tensor([[ 0.,  0.,  0.,  0., -1.,  0.,  0.,  1.,  1.]])\n"
     ]
    },
    {
     "name": "stderr",
     "output_type": "stream",
     "text": [
      "  0%|                                        | 26/10000 [00:01<06:59, 23.80it/s]"
     ]
    },
    {
     "name": "stdout",
     "output_type": "stream",
     "text": [
      "tensor([[ 0.,  0.,  0.,  0.,  0.,  0.,  1.,  0., -1.]])\n",
      "tensor([[ 1.,  0.,  0.,  0.,  1.,  0.,  1., -1., -1.]])\n",
      "tensor([[ 0.,  0.,  0.,  0.,  0.,  0.,  0., -1.,  1.]])\n",
      "tensor([[ 0.,  0.,  0.,  0., -1.,  1., -1.,  1.,  1.]])\n",
      "tensor([[ 1.,  0.,  0.,  0.,  1.,  0.,  0.,  0., -1.]])\n",
      "tensor([[ 1.,  0.,  0.,  0.,  1.,  0.,  0., -1., -1.]])\n",
      "tensor([[ 1.,  0.,  0.,  0.,  1., -1.,  1., -1., -1.]])\n",
      "tensor([[0., 0., 0., 0., 0., 0., 0., 0., 1.]])\n",
      "tensor([[ 1.,  0.,  0.,  0.,  1.,  0.,  0., -1., -1.]])\n",
      "tensor([[ 0.,  0.,  0.,  0., -1.,  0.,  0.,  0.,  1.]])\n",
      "tensor([[ 0.,  0.,  0.,  0., -1.,  1., -1.,  1.,  1.]])\n",
      "tensor([[ 0.,  0.,  0.,  0., -1.,  0.,  0.,  1.,  1.]])\n",
      "tensor([[ 0.,  0.,  0.,  0., -1.,  1., -1.,  1.,  1.]])\n",
      "tensor([[ 0.,  0.,  1.,  0.,  1.,  0.,  0.,  0., -1.]])\n",
      "tensor([[ 0.,  0.,  0.,  0., -1.,  0.,  0.,  0.,  1.]])\n",
      "tensor([[ 0.,  0.,  0.,  0.,  1.,  0.,  1., -1., -1.]])\n",
      "tensor([[ 0.,  0.,  0.,  0.,  0.,  0.,  0., -1.,  1.]])\n",
      "tensor([[ 1.,  0.,  0.,  0.,  1.,  0.,  1., -1., -1.]])\n",
      "tensor([[1., 0., 0., 0., 0., 0., 0., 0., 0.]])\n",
      "tensor([[ 0.,  0.,  0.,  0., -1.,  0., -1.,  1.,  1.]])\n",
      "tensor([[ 0.,  0.,  0.,  0., -1.,  0.,  0.,  0.,  1.]])\n"
     ]
    },
    {
     "name": "stderr",
     "output_type": "stream",
     "text": [
      "\r",
      "  0%|                                        | 29/10000 [00:01<07:14, 22.96it/s]"
     ]
    },
    {
     "name": "stdout",
     "output_type": "stream",
     "text": [
      "tensor([[ 0.,  0.,  0.,  0., -1.,  0.,  0.,  0.,  1.]])\n",
      "tensor([[0., 0., 0., 0., 0., 0., 0., 0., 1.]])\n",
      "tensor([[0., 0., 0., 0., 0., 0., 0., 0., 1.]])\n",
      "tensor([[ 0.,  0.,  0.,  0., -1.,  1., -1.,  1.,  1.]])\n",
      "tensor([[ 0.,  0.,  0.,  0.,  1.,  0.,  0.,  0., -1.]])\n",
      "tensor([[0., 0., 0., 0., 0., 0., 0., 0., 1.]])\n",
      "tensor([[ 0.,  0.,  0.,  0.,  1.,  0.,  0.,  0., -1.]])\n",
      "tensor([[ 0.,  0.,  0.,  0., -1.,  0.,  0.,  1.,  1.]])\n",
      "tensor([[0., 0., 0., 0., 0., 0., 0., 0., 1.]])\n",
      "tensor([[0., 0., 0., 0., 0., 0., 0., 0., 1.]])\n",
      "tensor([[ 1.,  0.,  0.,  0.,  1.,  0.,  0., -1., -1.]])\n",
      "tensor([[ 1.,  0.,  0.,  0.,  1., -1.,  1., -1., -1.]])\n",
      "tensor([[0., 0., 0., 0., 0., 0., 0., 0., 1.]])\n",
      "tensor([[ 0.,  0.,  0.,  0., -1.,  0., -1.,  1.,  1.]])\n",
      "tensor([[ 0.,  0.,  0.,  0.,  0.,  0.,  0., -1.,  1.]])\n",
      "tensor([[ 0.,  0.,  0.,  0., -1.,  0.,  0.,  0.,  1.]])\n",
      "tensor([[0., 0., 0., 0., 0., 0., 0., 0., 1.]])\n",
      "tensor([[0., 0., 0., 0., 0., 0., 0., 0., 1.]])\n",
      "tensor([[ 0.,  0.,  0.,  0., -1.,  0.,  0.,  1.,  1.]])\n",
      "tensor([[ 0.,  0.,  0.,  0., -1.,  0.,  0.,  1.,  1.]])\n",
      "tensor([[ 0.,  0.,  0.,  0., -1.,  0.,  0.,  0.,  1.]])\n",
      "tensor([[ 0.,  0.,  0.,  0., -1.,  0., -1.,  1.,  1.]])\n",
      "tensor([[1., 0., 0., 0., 0., 0., 0., 0., 0.]])\n",
      "tensor([[ 0.,  0.,  0.,  0., -1.,  0., -1.,  1.,  1.]])\n",
      "tensor([[ 0.,  0.,  0.,  0.,  0.,  0.,  0., -1.,  1.]])\n"
     ]
    },
    {
     "name": "stderr",
     "output_type": "stream",
     "text": [
      "  0%|▏                                       | 35/10000 [00:01<06:53, 24.09it/s]"
     ]
    },
    {
     "name": "stdout",
     "output_type": "stream",
     "text": [
      "tensor([[ 0.,  0.,  0.,  0., -1.,  0., -1.,  1.,  1.]])\n",
      "tensor([[ 0.,  0.,  0.,  0.,  1.,  0.,  0.,  0., -1.]])\n",
      "tensor([[ 1.,  0.,  0.,  0.,  1.,  0.,  0., -1., -1.]])\n",
      "tensor([[ 0.,  0.,  0.,  0., -1.,  0.,  0.,  0.,  1.]])\n",
      "tensor([[ 0.,  0.,  0.,  0., -1.,  0.,  0.,  1.,  1.]])\n",
      "tensor([[ 0.,  0.,  0.,  0.,  0.,  0.,  0., -1.,  1.]])\n",
      "tensor([[ 1.,  0.,  0.,  0.,  1.,  0.,  1., -1., -1.]])\n",
      "tensor([[ 1.,  0.,  0.,  0.,  1., -1.,  1., -1., -1.]])\n",
      "tensor([[ 0.,  0.,  0.,  0., -1.,  0.,  0.,  1.,  1.]])\n",
      "tensor([[ 0.,  0.,  0.,  0., -1.,  1., -1.,  1.,  1.]])\n",
      "tensor([[ 0.,  0.,  1.,  0.,  1.,  0.,  0.,  0., -1.]])\n",
      "tensor([[ 0.,  0.,  1.,  0.,  1.,  0.,  0.,  0., -1.]])\n",
      "tensor([[ 0.,  0.,  0.,  0., -1.,  1., -1.,  1.,  1.]])\n",
      "tensor([[ 0.,  0.,  1.,  0.,  1.,  0.,  0.,  0., -1.]])\n",
      "tensor([[ 1.,  0.,  0.,  0.,  1.,  0.,  0., -1., -1.]])\n",
      "tensor([[ 0.,  0.,  1.,  0.,  0.,  0.,  0.,  0., -1.]])\n",
      "tensor([[ 0.,  0.,  0.,  0.,  0.,  0.,  1.,  0., -1.]])\n",
      "tensor([[ 1.,  0.,  0.,  0.,  1., -1.,  1., -1., -1.]])\n",
      "tensor([[ 0.,  0.,  1.,  0.,  1.,  0.,  0.,  0., -1.]])\n",
      "tensor([[ 1.,  0.,  0.,  0.,  1.,  0.,  0., -1., -1.]])\n",
      "tensor([[ 0.,  0.,  0.,  0., -1.,  1., -1.,  1.,  1.]])\n",
      "tensor([[ 0.,  0.,  0.,  0., -1.,  0.,  0.,  1.,  1.]])\n",
      "tensor([[ 0.,  0.,  0.,  0., -1.,  0.,  0.,  1.,  1.]])\n",
      "tensor([[ 0.,  0.,  0.,  0., -1.,  0.,  0.,  0.,  1.]])\n",
      "tensor([[ 0.,  0.,  0.,  0., -1.,  1., -1.,  1.,  1.]])\n",
      "tensor([[0., 0., 0., 0., 0., 0., 0., 0., 1.]])\n"
     ]
    },
    {
     "name": "stderr",
     "output_type": "stream",
     "text": [
      "\r",
      "  0%|▏                                       | 38/10000 [00:01<06:35, 25.16it/s]"
     ]
    },
    {
     "name": "stdout",
     "output_type": "stream",
     "text": [
      "tensor([[ 1.,  0.,  0.,  0.,  1.,  0.,  1., -1., -1.]])\n",
      "tensor([[ 0.,  0.,  0.,  0., -1.,  0.,  0.,  1.,  1.]])\n",
      "tensor([[0., 0., 0., 0., 0., 0., 0., 0., 1.]])\n",
      "tensor([[ 1.,  0.,  0.,  0.,  1., -1.,  1., -1., -1.]])\n",
      "tensor([[ 0.,  0.,  0.,  0., -1.,  0.,  0.,  0.,  1.]])\n",
      "tensor([[ 1.,  0.,  0.,  0.,  1., -1.,  1., -1., -1.]])\n",
      "tensor([[ 0.,  0.,  0.,  0., -1.,  0.,  0.,  1.,  1.]])\n",
      "tensor([[ 0.,  0.,  0.,  0.,  1.,  0., -1., -1.,  1.]])\n",
      "tensor([[0., 0., 0., 0., 0., 0., 0., 0., 1.]])\n",
      "tensor([[ 0.,  0.,  0.,  0., -1.,  0.,  0.,  1.,  1.]])\n",
      "tensor([[ 0.,  0.,  0.,  0., -1.,  0.,  0.,  0.,  1.]])\n",
      "tensor([[0., 0., 0., 0., 0., 0., 0., 0., 1.]])\n",
      "tensor([[ 0.,  0.,  0.,  0., -1.,  0.,  0.,  0.,  1.]])\n",
      "tensor([[ 0.,  0.,  0.,  0., -1.,  1., -1.,  1.,  1.]])\n",
      "tensor([[ 0.,  0.,  0.,  0., -1.,  0.,  0.,  0.,  1.]])\n",
      "tensor([[ 1.,  0.,  0.,  0.,  1.,  0.,  1., -1., -1.]])\n",
      "tensor([[ 1.,  0.,  0.,  0.,  1.,  0.,  0., -1., -1.]])\n",
      "tensor([[ 0.,  0.,  0.,  0., -1.,  0.,  0.,  0.,  1.]])\n",
      "tensor([[0., 0., 0., 0., 0., 0., 0., 0., 1.]])\n",
      "tensor([[ 0.,  0.,  0.,  0., -1.,  0., -1.,  1.,  1.]])\n",
      "tensor([[ 0.,  0.,  0.,  0.,  1.,  0.,  1.,  0., -1.]])\n"
     ]
    },
    {
     "name": "stderr",
     "output_type": "stream",
     "text": [
      "  0%|▏                                       | 44/10000 [00:01<07:23, 22.43it/s]"
     ]
    },
    {
     "name": "stdout",
     "output_type": "stream",
     "text": [
      "tensor([[1., 0., 0., 0., 0., 0., 0., 0., 0.]])\n",
      "tensor([[ 0.,  0.,  0.,  0., -1.,  0.,  0.,  0.,  1.]])\n",
      "tensor([[ 0.,  0.,  1.,  0.,  1.,  0.,  0., -1., -1.]])\n",
      "tensor([[ 0.,  0.,  0.,  0.,  1.,  0.,  0., -1.,  1.]])\n",
      "tensor([[ 0.,  0.,  0.,  0.,  1.,  0.,  1., -1., -1.]])\n",
      "tensor([[ 0.,  0.,  0.,  0., -1.,  0., -1.,  1.,  1.]])\n",
      "tensor([[ 0.,  0.,  0.,  0., -1.,  0.,  0.,  0.,  1.]])\n",
      "tensor([[ 0.,  0.,  0.,  0., -1.,  1., -1.,  1.,  1.]])\n",
      "tensor([[ 0.,  0.,  0.,  0., -1.,  0.,  0.,  0.,  1.]])\n",
      "tensor([[ 1.,  0.,  0.,  0.,  1.,  0.,  0.,  0., -1.]])\n",
      "tensor([[ 1.,  0.,  0.,  0.,  1.,  0.,  0.,  0., -1.]])\n",
      "tensor([[ 0.,  0.,  0.,  0., -1.,  0.,  0.,  0.,  1.]])\n",
      "tensor([[ 0.,  0.,  0.,  0., -1.,  1., -1.,  1.,  1.]])\n",
      "tensor([[ 0.,  0.,  0.,  0., -1.,  1., -1.,  1.,  1.]])\n",
      "tensor([[ 1.,  0.,  0.,  0.,  1., -1.,  1., -1., -1.]])\n",
      "tensor([[ 1.,  0.,  0.,  0.,  1.,  0.,  0.,  0., -1.]])\n",
      "tensor([[ 0.,  0.,  0.,  0., -1.,  0.,  0.,  1.,  1.]])\n",
      "tensor([[ 0.,  0.,  0.,  0., -1.,  0.,  0.,  1.,  1.]])\n",
      "tensor([[ 0.,  0.,  0.,  0., -1.,  1., -1.,  1.,  1.]])\n",
      "tensor([[ 1.,  0.,  0.,  0.,  1.,  0.,  1., -1., -1.]])\n",
      "tensor([[ 0.,  0.,  0.,  0., -1.,  0.,  0.,  1.,  1.]])\n",
      "tensor([[ 0.,  0.,  0.,  0., -1.,  0.,  0.,  1.,  1.]])\n",
      "tensor([[ 0.,  0.,  0.,  0., -1.,  0.,  0.,  1.,  1.]])\n",
      "tensor([[ 0.,  0.,  0.,  0., -1.,  0., -1.,  1.,  1.]])\n",
      "tensor([[0., 0., 0., 0., 1., 0., 0., 0., 0.]])\n"
     ]
    },
    {
     "name": "stderr",
     "output_type": "stream",
     "text": [
      "\r",
      "  0%|▏                                       | 47/10000 [00:01<07:14, 22.91it/s]"
     ]
    },
    {
     "name": "stdout",
     "output_type": "stream",
     "text": [
      "tensor([[ 1.,  0.,  0.,  0.,  1.,  0.,  0.,  0., -1.]])\n",
      "tensor([[ 1.,  0.,  0.,  0.,  1.,  0.,  1., -1., -1.]])\n",
      "tensor([[0., 0., 0., 0., 0., 0., 0., 0., 1.]])\n",
      "tensor([[ 0.,  0.,  0.,  0., -1.,  0., -1.,  1.,  1.]])\n",
      "tensor([[ 0.,  0.,  1.,  0.,  1.,  0.,  0., -1., -1.]])\n",
      "tensor([[0., 0., 0., 0., 0., 0., 0., 0., 1.]])\n",
      "tensor([[ 0.,  0.,  0.,  0.,  1.,  0., -1., -1.,  1.]])\n",
      "tensor([[ 1.,  0.,  0.,  0.,  1.,  0.,  1., -1., -1.]])\n",
      "tensor([[ 0.,  0.,  1.,  0.,  1.,  0.,  0.,  0., -1.]])\n",
      "tensor([[ 1.,  0.,  0.,  0.,  1.,  0.,  0., -1., -1.]])\n",
      "tensor([[ 0.,  0.,  0.,  0., -1.,  1., -1.,  1.,  1.]])\n",
      "tensor([[ 0.,  0.,  0.,  0., -1.,  0.,  0.,  1.,  1.]])\n",
      "tensor([[ 0.,  0.,  0.,  0., -1.,  1., -1.,  1.,  1.]])\n",
      "tensor([[ 0.,  0.,  0.,  0., -1.,  0., -1.,  1.,  1.]])\n",
      "tensor([[ 0.,  0.,  0.,  0., -1.,  0.,  0.,  0.,  1.]])\n",
      "tensor([[0., 0., 0., 0., 0., 0., 0., 0., 1.]])\n",
      "tensor([[ 1.,  0.,  0.,  0.,  1.,  0.,  1., -1., -1.]])\n",
      "tensor([[0., 0., 0., 0., 0., 0., 0., 0., 1.]])\n",
      "tensor([[ 1.,  0.,  0.,  0.,  1.,  0.,  0.,  0., -1.]])\n",
      "tensor([[0., 0., 0., 0., 0., 0., 0., 0., 1.]])\n",
      "tensor([[ 0.,  0.,  0.,  0., -1.,  0.,  0.,  1.,  1.]])\n",
      "tensor([[ 1.,  0.,  0.,  0.,  1.,  0.,  0., -1., -1.]])\n",
      "tensor([[ 0.,  0.,  0.,  0.,  1.,  0.,  0.,  0., -1.]])\n"
     ]
    },
    {
     "name": "stderr",
     "output_type": "stream",
     "text": [
      "  1%|▏                                       | 53/10000 [00:02<07:41, 21.54it/s]"
     ]
    },
    {
     "name": "stdout",
     "output_type": "stream",
     "text": [
      "tensor([[0., 0., 1., 0., 0., 0., 0., 0., 0.]])\n",
      "tensor([[ 0.,  0.,  0.,  0.,  1.,  0., -1., -1.,  1.]])\n",
      "tensor([[0., 0., 0., 0., 0., 0., 0., 0., 1.]])\n",
      "tensor([[ 0.,  0.,  0.,  0., -1.,  0., -1.,  1.,  1.]])\n",
      "tensor([[ 0.,  0.,  0.,  0., -1.,  1., -1.,  1.,  1.]])\n",
      "tensor([[ 0.,  0.,  0.,  0., -1.,  0.,  0.,  1.,  1.]])\n",
      "tensor([[ 0.,  0.,  0.,  0., -1.,  1., -1.,  1.,  1.]])\n",
      "tensor([[ 0.,  0.,  0.,  0., -1.,  0., -1.,  1.,  1.]])\n",
      "tensor([[0., 0., 0., 0., 0., 0., 0., 0., 1.]])\n",
      "tensor([[ 0.,  0.,  0.,  0.,  0.,  0.,  0., -1.,  1.]])\n",
      "tensor([[ 0.,  0.,  0.,  0., -1.,  0.,  0.,  0.,  1.]])\n",
      "tensor([[ 0.,  0.,  0.,  0., -1.,  0., -1.,  1.,  1.]])\n",
      "tensor([[ 0.,  0.,  0.,  0., -1.,  1., -1.,  1.,  1.]])\n",
      "tensor([[ 1.,  0.,  0.,  0.,  1.,  0.,  0., -1., -1.]])\n",
      "tensor([[ 0.,  0.,  0.,  0., -1.,  0., -1.,  1.,  1.]])\n",
      "tensor([[ 0.,  0.,  0.,  0., -1.,  0., -1.,  1.,  1.]])\n",
      "tensor([[0., 0., 0., 0., 0., 0., 0., 0., 1.]])\n",
      "tensor([[ 0.,  0.,  0.,  0., -1.,  0., -1.,  1.,  1.]])\n",
      "tensor([[ 1.,  0.,  0.,  0.,  0.,  0.,  0.,  0., -1.]])\n",
      "tensor([[ 1.,  0.,  0.,  0.,  1.,  0.,  0.,  0., -1.]])\n",
      "tensor([[ 0.,  0.,  0.,  0., -1.,  0.,  0.,  1.,  1.]])\n",
      "tensor([[ 0.,  0.,  0.,  0.,  0.,  0.,  1.,  0., -1.]])\n",
      "tensor([[ 0.,  0.,  0.,  0.,  1.,  0.,  0.,  0., -1.]])\n",
      "tensor([[ 0.,  0.,  0.,  0., -1.,  1., -1.,  1.,  1.]])\n",
      "tensor([[ 0.,  0.,  0.,  0.,  1.,  0.,  1.,  0., -1.]])\n"
     ]
    },
    {
     "name": "stderr",
     "output_type": "stream",
     "text": [
      "\r",
      "  1%|▏                                       | 56/10000 [00:02<07:42, 21.48it/s]"
     ]
    },
    {
     "name": "stdout",
     "output_type": "stream",
     "text": [
      "tensor([[ 0.,  0.,  0.,  0., -1.,  0.,  0.,  1.,  1.]])\n",
      "tensor([[ 0.,  0.,  0.,  0., -1.,  1., -1.,  1.,  1.]])\n",
      "tensor([[ 0.,  0.,  0.,  0., -1.,  0., -1.,  1.,  1.]])\n",
      "tensor([[ 0.,  0.,  0.,  0.,  1.,  0.,  1.,  0., -1.]])\n",
      "tensor([[ 0.,  0.,  0.,  0.,  0.,  0.,  1.,  0., -1.]])\n",
      "tensor([[0., 0., 0., 0., 0., 0., 0., 0., 1.]])\n",
      "tensor([[ 0.,  0.,  0.,  0., -1.,  0.,  0.,  0.,  1.]])\n",
      "tensor([[ 0.,  0.,  0.,  0.,  0.,  0.,  1.,  0., -1.]])\n",
      "tensor([[ 1.,  0.,  0.,  0.,  1., -1.,  1., -1., -1.]])\n",
      "tensor([[ 0.,  0.,  0.,  0., -1.,  0.,  0.,  0.,  1.]])\n",
      "tensor([[ 0.,  0.,  0.,  0., -1.,  0.,  0.,  0.,  1.]])\n",
      "tensor([[ 1.,  0.,  0.,  0.,  1.,  0.,  0.,  0., -1.]])\n",
      "tensor([[ 0.,  0.,  0.,  0., -1.,  0., -1.,  1.,  1.]])\n",
      "tensor([[ 1.,  0.,  0.,  0.,  1.,  0.,  1., -1., -1.]])\n",
      "tensor([[ 0.,  0.,  0.,  0.,  1.,  0.,  1., -1., -1.]])\n",
      "tensor([[ 0.,  0.,  0.,  0., -1.,  0.,  0.,  1.,  1.]])\n",
      "tensor([[ 0.,  0.,  0.,  0.,  1.,  0.,  0.,  0., -1.]])\n",
      "tensor([[ 0.,  0.,  0.,  0.,  1.,  0.,  1.,  0., -1.]])\n"
     ]
    },
    {
     "name": "stderr",
     "output_type": "stream",
     "text": [
      "  1%|▏                                       | 62/10000 [00:02<07:40, 21.56it/s]"
     ]
    },
    {
     "name": "stdout",
     "output_type": "stream",
     "text": [
      "tensor([[ 0.,  0.,  0.,  0.,  1.,  0., -1., -1.,  1.]])\n",
      "tensor([[ 1.,  0.,  0.,  0.,  1.,  0.,  0.,  0., -1.]])\n",
      "tensor([[ 0.,  0.,  1.,  0.,  1.,  0.,  0., -1., -1.]])\n",
      "tensor([[ 0.,  0.,  0.,  0., -1.,  1., -1.,  1.,  1.]])\n",
      "tensor([[ 0.,  0.,  0.,  0., -1.,  1., -1.,  1.,  1.]])\n",
      "tensor([[0., 0., 0., 0., 0., 0., 0., 0., 1.]])\n",
      "tensor([[ 0.,  0.,  0.,  0., -1.,  0.,  0.,  0.,  1.]])\n",
      "tensor([[ 1.,  0.,  0.,  0.,  1.,  0.,  0., -1., -1.]])\n",
      "tensor([[ 0.,  0.,  0.,  0., -1.,  1., -1.,  1.,  1.]])\n",
      "tensor([[ 0.,  0.,  0.,  0., -1.,  0.,  0.,  0.,  1.]])\n",
      "tensor([[ 1.,  0.,  0.,  0.,  1.,  0.,  0.,  0., -1.]])\n",
      "tensor([[ 0.,  0.,  0.,  0., -1.,  0., -1.,  1.,  1.]])\n",
      "tensor([[ 0.,  0.,  0.,  0., -1.,  0.,  0.,  1.,  1.]])\n",
      "tensor([[ 0.,  0.,  0.,  0., -1.,  0.,  0.,  1.,  1.]])\n",
      "tensor([[0., 0., 0., 0., 0., 0., 0., 0., 1.]])\n",
      "tensor([[ 0.,  0.,  0.,  0., -1.,  1., -1.,  1.,  1.]])\n",
      "tensor([[ 0.,  0.,  0.,  0.,  1.,  0.,  1.,  0., -1.]])\n",
      "tensor([[ 0.,  0.,  0.,  0., -1.,  1., -1.,  1.,  1.]])\n",
      "tensor([[ 0.,  0.,  1.,  0.,  0.,  0.,  0.,  0., -1.]])\n",
      "tensor([[ 0.,  0.,  0.,  0.,  1.,  0.,  1., -1., -1.]])\n",
      "tensor([[ 1.,  0.,  0.,  0.,  1.,  0.,  0.,  0., -1.]])\n"
     ]
    },
    {
     "name": "stderr",
     "output_type": "stream",
     "text": [
      "\r",
      "  1%|▎                                       | 65/10000 [00:02<08:01, 20.61it/s]"
     ]
    },
    {
     "name": "stdout",
     "output_type": "stream",
     "text": [
      "tensor([[0., 0., 0., 0., 0., 0., 0., 0., 1.]])\n",
      "tensor([[ 1.,  0.,  0.,  0.,  1.,  0.,  0., -1., -1.]])\n",
      "tensor([[ 0.,  0.,  1.,  0.,  0.,  0.,  0.,  0., -1.]])\n",
      "tensor([[ 0.,  0.,  0.,  0., -1.,  1., -1.,  1.,  1.]])\n",
      "tensor([[ 0.,  0.,  0.,  0., -1.,  1., -1.,  1.,  1.]])\n",
      "tensor([[ 0.,  0.,  0.,  0.,  1.,  0.,  0., -1.,  1.]])\n",
      "tensor([[0., 0., 0., 0., 0., 0., 0., 0., 1.]])\n",
      "tensor([[ 0.,  0.,  1.,  0.,  1.,  0.,  0.,  0., -1.]])\n",
      "tensor([[0., 0., 0., 0., 0., 0., 0., 0., 1.]])\n",
      "tensor([[0., 0., 0., 0., 0., 0., 0., 0., 1.]])\n",
      "tensor([[ 1.,  0.,  0.,  0.,  1., -1.,  1., -1., -1.]])\n",
      "tensor([[ 0.,  0.,  1.,  0.,  1.,  0.,  0.,  0., -1.]])\n",
      "tensor([[0., 0., 0., 0., 0., 0., 0., 0., 1.]])\n",
      "tensor([[ 0.,  0.,  0.,  0., -1.,  0., -1.,  1.,  1.]])\n",
      "tensor([[ 1.,  0.,  0.,  0.,  1.,  0.,  0.,  0., -1.]])\n",
      "tensor([[ 0.,  0.,  0.,  0., -1.,  0.,  0.,  1.,  1.]])\n",
      "tensor([[ 0.,  0.,  0.,  0., -1.,  0.,  0.,  1.,  1.]])\n",
      "tensor([[ 1.,  0.,  0.,  0.,  1., -1.,  1., -1., -1.]])\n",
      "tensor([[ 0.,  0.,  0.,  0.,  1.,  0.,  1.,  0., -1.]])\n",
      "tensor([[ 0.,  0.,  0.,  0., -1.,  0.,  0.,  0.,  1.]])\n",
      "tensor([[ 0.,  0.,  0.,  0., -1.,  1., -1.,  1.,  1.]])\n",
      "tensor([[ 0.,  0.,  1.,  0.,  1.,  0.,  0.,  0., -1.]])\n",
      "tensor([[ 0.,  0.,  0.,  0., -1.,  0., -1.,  1.,  1.]])\n",
      "tensor([[ 0.,  0.,  0.,  0.,  1.,  0.,  1.,  0., -1.]])\n",
      "tensor([[ 0.,  0.,  0.,  0., -1.,  0.,  0.,  1.,  1.]])\n"
     ]
    },
    {
     "name": "stderr",
     "output_type": "stream",
     "text": [
      "  1%|▎                                       | 71/10000 [00:03<07:29, 22.09it/s]"
     ]
    },
    {
     "name": "stdout",
     "output_type": "stream",
     "text": [
      "tensor([[ 1.,  0.,  0.,  0.,  1.,  0.,  0., -1., -1.]])\n",
      "tensor([[ 1.,  0.,  0.,  0.,  1.,  0.,  0.,  0., -1.]])\n",
      "tensor([[ 0.,  0.,  1.,  0.,  1.,  0.,  0., -1., -1.]])\n",
      "tensor([[ 0.,  0.,  0.,  0.,  1.,  0.,  0., -1.,  1.]])\n",
      "tensor([[ 1.,  0.,  0.,  0.,  1.,  0.,  0.,  0., -1.]])\n",
      "tensor([[ 0.,  0.,  0.,  0., -1.,  0.,  0.,  0.,  1.]])\n",
      "tensor([[0., 0., 0., 0., 0., 0., 0., 0., 1.]])\n",
      "tensor([[0., 0., 0., 0., 0., 0., 0., 0., 1.]])\n",
      "tensor([[ 0.,  0.,  0.,  0.,  0.,  0.,  0., -1.,  1.]])\n",
      "tensor([[0., 0., 0., 0., 0., 0., 0., 0., 1.]])\n",
      "tensor([[ 0.,  0.,  0.,  0., -1.,  1., -1.,  1.,  1.]])\n",
      "tensor([[ 0.,  0.,  0.,  0., -1.,  0.,  0.,  1.,  1.]])\n",
      "tensor([[ 1.,  0.,  0.,  0.,  1.,  0.,  0.,  0., -1.]])\n",
      "tensor([[0., 0., 0., 0., 0., 0., 0., 0., 1.]])\n",
      "tensor([[ 0.,  0.,  0.,  0.,  1.,  0., -1., -1.,  1.]])\n",
      "tensor([[ 0.,  0.,  1.,  0.,  1.,  0.,  0., -1., -1.]])\n",
      "tensor([[ 0.,  0.,  0.,  0., -1.,  0.,  0.,  1.,  1.]])\n",
      "tensor([[ 0.,  0.,  0.,  0., -1.,  0.,  0.,  1.,  1.]])\n",
      "tensor([[ 0.,  0.,  0.,  0.,  1.,  0.,  0., -1.,  1.]])\n",
      "tensor([[ 0.,  0.,  0.,  0., -1.,  1., -1.,  1.,  1.]])\n",
      "tensor([[ 1.,  0.,  0.,  0.,  1.,  0.,  1., -1., -1.]])\n",
      "tensor([[0., 0., 0., 0., 0., 0., 0., 0., 1.]])\n",
      "tensor([[ 0.,  0.,  0.,  0., -1.,  0., -1.,  1.,  1.]])\n",
      "tensor([[ 0.,  0.,  0.,  0., -1.,  0.,  0.,  0.,  1.]])\n",
      "tensor([[ 0.,  0.,  0.,  0., -1.,  0.,  0.,  1.,  1.]])\n",
      "tensor([[0., 0., 0., 0., 0., 0., 1., 0., 0.]])\n"
     ]
    },
    {
     "name": "stderr",
     "output_type": "stream",
     "text": [
      "  1%|▎                                       | 77/10000 [00:03<06:58, 23.71it/s]"
     ]
    },
    {
     "name": "stdout",
     "output_type": "stream",
     "text": [
      "tensor([[ 0.,  0.,  0.,  0., -1.,  1., -1.,  1.,  1.]])\n",
      "tensor([[ 0.,  0.,  0.,  0., -1.,  1., -1.,  1.,  1.]])\n",
      "tensor([[ 0.,  0.,  0.,  0.,  0.,  0.,  1.,  0., -1.]])\n",
      "tensor([[0., 0., 0., 0., 0., 0., 0., 0., 1.]])\n",
      "tensor([[ 0.,  0.,  0.,  0.,  1.,  0.,  0.,  0., -1.]])\n",
      "tensor([[0., 0., 1., 0., 0., 0., 0., 0., 0.]])\n",
      "tensor([[0., 0., 0., 0., 0., 0., 0., 0., 1.]])\n",
      "tensor([[ 1.,  0.,  0.,  0.,  0.,  0.,  0.,  0., -1.]])\n",
      "tensor([[ 1.,  0.,  0.,  0.,  1.,  0.,  0., -1., -1.]])\n",
      "tensor([[ 0.,  0.,  0.,  0., -1.,  1., -1.,  1.,  1.]])\n",
      "tensor([[ 0.,  0.,  0.,  0., -1.,  1., -1.,  1.,  1.]])\n",
      "tensor([[ 0.,  0.,  0.,  0., -1.,  1., -1.,  1.,  1.]])\n",
      "tensor([[ 0.,  0.,  0.,  0., -1.,  1., -1.,  1.,  1.]])\n",
      "tensor([[ 0.,  0.,  0.,  0., -1.,  0.,  0.,  0.,  1.]])\n",
      "tensor([[0., 0., 0., 0., 0., 0., 0., 0., 1.]])\n",
      "tensor([[ 0.,  0.,  0.,  0.,  1.,  0., -1., -1.,  1.]])\n",
      "tensor([[ 0.,  0.,  0.,  0.,  1.,  0.,  1., -1., -1.]])\n",
      "tensor([[ 0.,  0.,  0.,  0., -1.,  1., -1.,  1.,  1.]])\n",
      "tensor([[ 0.,  0.,  0.,  0.,  1.,  0.,  0.,  0., -1.]])\n",
      "tensor([[ 0.,  0.,  0.,  0., -1.,  0.,  0.,  0.,  1.]])\n",
      "tensor([[ 0.,  0.,  0.,  0., -1.,  0., -1.,  1.,  1.]])\n",
      "tensor([[ 1.,  0.,  0.,  0.,  1.,  0.,  1., -1., -1.]])\n",
      "tensor([[ 1.,  0.,  0.,  0.,  0.,  0.,  0.,  0., -1.]])\n",
      "tensor([[ 0.,  0.,  0.,  0., -1.,  0.,  0.,  0.,  1.]])\n",
      "tensor([[0., 0., 0., 0., 0., 0., 0., 0., 1.]])\n",
      "tensor([[ 0.,  0.,  0.,  0., -1.,  0.,  0.,  1.,  1.]])\n",
      "tensor([[ 0.,  0.,  0.,  0., -1.,  0.,  0.,  1.,  1.]])\n"
     ]
    },
    {
     "name": "stderr",
     "output_type": "stream",
     "text": [
      "\r",
      "  1%|▎                                       | 80/10000 [00:03<06:41, 24.73it/s]"
     ]
    },
    {
     "name": "stdout",
     "output_type": "stream",
     "text": [
      "tensor([[0., 0., 1., 0., 0., 0., 0., 0., 0.]])\n",
      "tensor([[ 0.,  0.,  1.,  0.,  0.,  0.,  0.,  0., -1.]])\n",
      "tensor([[ 1.,  0.,  0.,  0.,  1.,  0.,  0., -1., -1.]])\n",
      "tensor([[ 1.,  0.,  0.,  0.,  1.,  0.,  0., -1., -1.]])\n",
      "tensor([[ 0.,  0.,  0.,  0.,  1.,  0.,  1.,  0., -1.]])\n",
      "tensor([[ 1.,  0.,  0.,  0.,  1.,  0.,  0., -1., -1.]])\n",
      "tensor([[ 0.,  0.,  0.,  0., -1.,  1., -1.,  1.,  1.]])\n",
      "tensor([[ 0.,  0.,  0.,  0., -1.,  0.,  0.,  1.,  1.]])\n",
      "tensor([[ 1.,  0.,  0.,  0.,  1.,  0.,  0., -1., -1.]])\n",
      "tensor([[0., 0., 0., 0., 0., 0., 1., 0., 0.]])\n",
      "tensor([[ 1.,  0.,  0.,  0.,  1., -1.,  1., -1., -1.]])\n",
      "tensor([[ 0.,  0.,  0.,  0., -1.,  0., -1.,  1.,  1.]])\n",
      "tensor([[ 1.,  0.,  0.,  0.,  1.,  0.,  0.,  0., -1.]])\n",
      "tensor([[ 0.,  0.,  0.,  0., -1.,  1., -1.,  1.,  1.]])\n",
      "tensor([[0., 0., 0., 0., 0., 0., 0., 0., 1.]])\n",
      "tensor([[ 0.,  0.,  1.,  0.,  0.,  0.,  0.,  0., -1.]])\n",
      "tensor([[ 0.,  0.,  0.,  0., -1.,  0., -1.,  1.,  1.]])\n",
      "tensor([[ 0.,  0.,  0.,  0., -1.,  0.,  0.,  0.,  1.]])\n",
      "tensor([[0., 0., 0., 0., 0., 0., 0., 0., 1.]])\n",
      "tensor([[0., 0., 0., 0., 0., 0., 0., 0., 1.]])\n",
      "tensor([[ 0.,  0.,  0.,  0., -1.,  0.,  0.,  0.,  1.]])\n",
      "tensor([[ 1.,  0.,  0.,  0.,  1.,  0.,  0.,  0., -1.]])\n",
      "tensor([[ 0.,  0.,  0.,  0.,  1.,  0., -1., -1.,  1.]])\n",
      "tensor([[ 0.,  0.,  0.,  0., -1.,  0., -1.,  1.,  1.]])\n",
      "tensor([[ 0.,  0.,  0.,  0., -1.,  0.,  0.,  0.,  1.]])\n",
      "tensor([[ 0.,  0.,  0.,  0., -1.,  0., -1.,  1.,  1.]])\n",
      "tensor([[ 1.,  0.,  0.,  0.,  1.,  0.,  0.,  0., -1.]])\n",
      "tensor([[ 0.,  0.,  0.,  0., -1.,  1., -1.,  1.,  1.]])\n",
      "tensor([[ 0.,  0.,  0.,  0., -1.,  0.,  0.,  0.,  1.]])\n",
      "tensor([[ 0.,  0.,  0.,  0., -1.,  1., -1.,  1.,  1.]])\n",
      "tensor([[ 0.,  0.,  0.,  0., -1.,  1., -1.,  1.,  1.]])\n",
      "tensor([[ 1.,  0.,  0.,  0.,  1.,  0.,  0., -1., -1.]])\n",
      "tensor([[ 1.,  0.,  0.,  0.,  1.,  0.,  1., -1., -1.]])\n"
     ]
    },
    {
     "name": "stderr",
     "output_type": "stream",
     "text": [
      "  1%|▎                                       | 87/10000 [00:03<06:12, 26.58it/s]"
     ]
    },
    {
     "name": "stdout",
     "output_type": "stream",
     "text": [
      "tensor([[ 1.,  0.,  0.,  0.,  1.,  0.,  1., -1., -1.]])\n",
      "tensor([[0., 0., 0., 0., 0., 0., 0., 0., 1.]])\n",
      "tensor([[ 1.,  0.,  0.,  0.,  1.,  0.,  1., -1., -1.]])\n",
      "tensor([[ 0.,  0.,  0.,  0., -1.,  0.,  0.,  0.,  1.]])\n",
      "tensor([[ 0.,  0.,  0.,  0., -1.,  1., -1.,  1.,  1.]])\n",
      "tensor([[ 1.,  0.,  0.,  0.,  1.,  0.,  0., -1., -1.]])\n",
      "tensor([[ 0.,  0.,  0.,  0., -1.,  0.,  0.,  0.,  1.]])\n",
      "tensor([[0., 0., 0., 0., 0., 0., 1., 0., 0.]])\n",
      "tensor([[ 0.,  0.,  0.,  0., -1.,  1., -1.,  1.,  1.]])\n",
      "tensor([[ 0.,  0.,  0.,  0., -1.,  0.,  0.,  1.,  1.]])\n",
      "tensor([[ 0.,  0.,  0.,  0., -1.,  1., -1.,  1.,  1.]])\n",
      "tensor([[ 0.,  0.,  0.,  0., -1.,  0.,  0.,  0.,  1.]])\n",
      "tensor([[ 0.,  0.,  1.,  0.,  1.,  0.,  0., -1., -1.]])\n",
      "tensor([[ 0.,  0.,  0.,  0., -1.,  0., -1.,  1.,  1.]])\n",
      "tensor([[ 0.,  0.,  1.,  0.,  1.,  0.,  0.,  0., -1.]])\n",
      "tensor([[0., 0., 1., 0., 0., 0., 0., 0., 0.]])\n",
      "tensor([[ 0.,  0.,  1.,  0.,  0.,  0.,  0.,  0., -1.]])\n",
      "tensor([[ 0.,  0.,  0.,  0., -1.,  0.,  0.,  0.,  1.]])\n",
      "tensor([[ 0.,  0.,  0.,  0.,  1.,  0.,  0.,  0., -1.]])\n",
      "tensor([[ 0.,  0.,  0.,  0., -1.,  0.,  0.,  0.,  1.]])\n",
      "tensor([[ 0.,  0.,  0.,  0., -1.,  1., -1.,  1.,  1.]])\n",
      "tensor([[0., 0., 0., 0., 0., 0., 0., 0., 1.]])\n",
      "tensor([[ 0.,  0.,  0.,  0., -1.,  0.,  0.,  0.,  1.]])\n",
      "tensor([[ 0.,  0.,  0.,  0., -1.,  0., -1.,  1.,  1.]])\n",
      "tensor([[0., 0., 0., 0., 0., 0., 0., 0., 1.]])\n",
      "tensor([[ 1.,  0.,  0.,  0.,  1.,  0.,  0.,  0., -1.]])\n",
      "tensor([[ 1.,  0.,  0.,  0.,  0.,  0.,  0.,  0., -1.]])\n",
      "tensor([[0., 0., 0., 0., 0., 0., 0., 0., 1.]])\n",
      "tensor([[ 0.,  0.,  0.,  0.,  1.,  0., -1., -1.,  1.]])\n",
      "tensor([[ 0.,  0.,  0.,  0., -1.,  0., -1.,  1.,  1.]])\n",
      "tensor([[ 1.,  0.,  0.,  0.,  1.,  0.,  0.,  0., -1.]])\n"
     ]
    },
    {
     "name": "stderr",
     "output_type": "stream",
     "text": [
      "  1%|▍                                       | 95/10000 [00:03<05:33, 29.74it/s]"
     ]
    },
    {
     "name": "stdout",
     "output_type": "stream",
     "text": [
      "tensor([[0., 0., 0., 0., 1., 0., 0., 0., 0.]])\n",
      "tensor([[ 0.,  0.,  1.,  0.,  1.,  0.,  0., -1., -1.]])\n",
      "tensor([[0., 0., 1., 0., 0., 0., 0., 0., 0.]])\n",
      "tensor([[ 0.,  0.,  0.,  0.,  1.,  0.,  1., -1., -1.]])\n",
      "tensor([[ 0.,  0.,  0.,  0., -1.,  1., -1.,  1.,  1.]])\n",
      "tensor([[0., 0., 0., 0., 0., 0., 0., 0., 1.]])\n",
      "tensor([[ 1.,  0.,  0.,  0.,  0.,  0.,  0.,  0., -1.]])\n",
      "tensor([[ 0.,  0.,  0.,  0., -1.,  0.,  0.,  1.,  1.]])\n",
      "tensor([[ 0.,  0.,  0.,  0., -1.,  0.,  0.,  1.,  1.]])\n",
      "tensor([[ 0.,  0.,  0.,  0.,  0.,  0.,  0., -1.,  1.]])\n",
      "tensor([[ 1.,  0.,  0.,  0.,  1.,  0.,  0., -1., -1.]])\n",
      "tensor([[0., 0., 0., 0., 0., 0., 1., 0., 0.]])\n",
      "tensor([[ 0.,  0.,  0.,  0., -1.,  1., -1.,  1.,  1.]])\n",
      "tensor([[ 0.,  0.,  0.,  0.,  1.,  0.,  1.,  0., -1.]])\n",
      "tensor([[ 0.,  0.,  0.,  0., -1.,  0.,  0.,  0.,  1.]])\n",
      "tensor([[ 0.,  0.,  0.,  0.,  0.,  0.,  1.,  0., -1.]])\n",
      "tensor([[ 1.,  0.,  0.,  0.,  1.,  0.,  0.,  0., -1.]])\n",
      "tensor([[ 0.,  0.,  1.,  0.,  0.,  0.,  0.,  0., -1.]])\n",
      "tensor([[1., 0., 0., 0., 0., 0., 0., 0., 0.]])\n",
      "tensor([[ 1.,  0.,  0.,  0.,  1., -1.,  1., -1., -1.]])\n",
      "tensor([[ 0.,  0.,  0.,  0., -1.,  1., -1.,  1.,  1.]])\n",
      "tensor([[ 0.,  0.,  1.,  0.,  0.,  0.,  0.,  0., -1.]])\n",
      "tensor([[ 1.,  0.,  0.,  0.,  1.,  0.,  0.,  0., -1.]])\n",
      "tensor([[ 0.,  0.,  0.,  0., -1.,  0.,  0.,  0.,  1.]])\n",
      "tensor([[0., 0., 0., 0., 1., 0., 0., 0., 0.]])\n",
      "tensor([[ 0.,  0.,  0.,  0.,  0.,  0.,  0., -1.,  1.]])\n",
      "tensor([[ 0.,  0.,  0.,  0., -1.,  0.,  0.,  0.,  1.]])\n",
      "tensor([[0., 0., 0., 0., 0., 0., 0., 0., 1.]])\n",
      "tensor([[ 0.,  0.,  0.,  0.,  1.,  0.,  0., -1.,  1.]])\n",
      "tensor([[ 1.,  0.,  0.,  0.,  0.,  0.,  0.,  0., -1.]])\n",
      "tensor([[ 1.,  0.,  0.,  0.,  1.,  0.,  0., -1., -1.]])\n",
      "tensor([[ 0.,  0.,  0.,  0., -1.,  1., -1.,  1.,  1.]])\n"
     ]
    },
    {
     "name": "stderr",
     "output_type": "stream",
     "text": [
      "  1%|▍                                      | 101/10000 [00:04<05:44, 28.77it/s]"
     ]
    },
    {
     "name": "stdout",
     "output_type": "stream",
     "text": [
      "tensor([[ 0.,  0.,  0.,  0., -1.,  1., -1.,  1.,  1.]])\n",
      "tensor([[ 0.,  0.,  1.,  0.,  1.,  0.,  0.,  0., -1.]])\n",
      "tensor([[ 0.,  0.,  0.,  0., -1.,  0.,  0.,  0.,  1.]])\n",
      "tensor([[ 0.,  0.,  0.,  0., -1.,  0.,  0.,  0.,  1.]])\n",
      "tensor([[ 0.,  0.,  0.,  0.,  0.,  0.,  1.,  0., -1.]])\n",
      "tensor([[ 0.,  0.,  0.,  0., -1.,  1., -1.,  1.,  1.]])\n",
      "tensor([[ 0.,  0.,  0.,  0., -1.,  0.,  0.,  0.,  1.]])\n",
      "tensor([[ 0.,  0.,  0.,  0., -1.,  1., -1.,  1.,  1.]])\n",
      "tensor([[ 0.,  0.,  0.,  0., -1.,  0.,  0.,  0.,  1.]])\n",
      "tensor([[ 0.,  0.,  0.,  0., -1.,  0.,  0.,  1.,  1.]])\n",
      "tensor([[ 0.,  0.,  0.,  0.,  0.,  0.,  1.,  0., -1.]])\n",
      "tensor([[ 1.,  0.,  0.,  0.,  1., -1.,  1., -1., -1.]])\n",
      "tensor([[ 0.,  0.,  0.,  0.,  0.,  0.,  0., -1.,  1.]])\n",
      "tensor([[ 0.,  0.,  0.,  0., -1.,  1., -1.,  1.,  1.]])\n",
      "tensor([[0., 0., 0., 0., 0., 0., 0., 0., 1.]])\n",
      "tensor([[ 0.,  0.,  0.,  0., -1.,  0., -1.,  1.,  1.]])\n",
      "tensor([[ 0.,  0.,  0.,  0., -1.,  0., -1.,  1.,  1.]])\n",
      "tensor([[ 0.,  0.,  0.,  0., -1.,  1., -1.,  1.,  1.]])\n",
      "tensor([[ 0.,  0.,  0.,  0., -1.,  0.,  0.,  1.,  1.]])\n",
      "tensor([[ 0.,  0.,  0.,  0., -1.,  0.,  0.,  1.,  1.]])\n",
      "tensor([[ 0.,  0.,  0.,  0., -1.,  0.,  0.,  1.,  1.]])\n",
      "tensor([[ 0.,  0.,  0.,  0., -1.,  0., -1.,  1.,  1.]])\n",
      "tensor([[ 0.,  0.,  0.,  0.,  1.,  0., -1., -1.,  1.]])\n",
      "tensor([[ 0.,  0.,  0.,  0., -1.,  0.,  0.,  1.,  1.]])\n",
      "tensor([[ 0.,  0.,  0.,  0.,  1.,  0., -1., -1.,  1.]])\n",
      "tensor([[ 1.,  0.,  0.,  0.,  1.,  0.,  0.,  0., -1.]])\n",
      "tensor([[ 1.,  0.,  0.,  0.,  0.,  0.,  0.,  0., -1.]])\n",
      "tensor([[ 0.,  0.,  0.,  0., -1.,  0.,  0.,  1.,  1.]])\n",
      "tensor([[0., 0., 1., 0., 0., 0., 0., 0., 0.]])\n"
     ]
    },
    {
     "name": "stderr",
     "output_type": "stream",
     "text": [
      "  1%|▍                                      | 108/10000 [00:04<05:27, 30.21it/s]"
     ]
    },
    {
     "name": "stdout",
     "output_type": "stream",
     "text": [
      "tensor([[ 0.,  0.,  0.,  0., -1.,  0.,  0.,  0.,  1.]])\n",
      "tensor([[ 1.,  0.,  0.,  0.,  1., -1.,  1., -1., -1.]])\n",
      "tensor([[ 1.,  0.,  0.,  0.,  1.,  0.,  1., -1., -1.]])\n",
      "tensor([[ 0.,  0.,  0.,  0., -1.,  0., -1.,  1.,  1.]])\n",
      "tensor([[ 1.,  0.,  0.,  0.,  1., -1.,  1., -1., -1.]])\n",
      "tensor([[ 0.,  0.,  0.,  0., -1.,  1., -1.,  1.,  1.]])\n",
      "tensor([[ 1.,  0.,  0.,  0.,  1.,  0.,  1., -1., -1.]])\n",
      "tensor([[ 0.,  0.,  0.,  0., -1.,  0.,  0.,  0.,  1.]])\n",
      "tensor([[ 0.,  0.,  0.,  0.,  0.,  0.,  1.,  0., -1.]])\n",
      "tensor([[ 0.,  0.,  0.,  0., -1.,  0.,  0.,  1.,  1.]])\n",
      "tensor([[ 0.,  0.,  0.,  0., -1.,  1., -1.,  1.,  1.]])\n",
      "tensor([[ 0.,  0.,  0.,  0.,  1.,  0.,  0., -1.,  1.]])\n",
      "tensor([[ 0.,  0.,  0.,  0., -1.,  0., -1.,  1.,  1.]])\n",
      "tensor([[ 0.,  0.,  0.,  0., -1.,  1., -1.,  1.,  1.]])\n",
      "tensor([[ 0.,  0.,  0.,  0., -1.,  1., -1.,  1.,  1.]])\n",
      "tensor([[ 1.,  0.,  0.,  0.,  1.,  0.,  0.,  0., -1.]])\n",
      "tensor([[0., 0., 0., 0., 0., 0., 1., 0., 0.]])\n",
      "tensor([[ 1.,  0.,  0.,  0.,  1., -1.,  1., -1., -1.]])\n",
      "tensor([[ 0.,  0.,  0.,  0., -1.,  1., -1.,  1.,  1.]])\n",
      "tensor([[0., 0., 0., 0., 0., 0., 0., 0., 1.]])\n",
      "tensor([[ 0.,  0.,  0.,  0., -1.,  1., -1.,  1.,  1.]])\n",
      "tensor([[ 0.,  0.,  0.,  0.,  1.,  0.,  0.,  0., -1.]])\n",
      "tensor([[ 0.,  0.,  0.,  0., -1.,  1., -1.,  1.,  1.]])\n",
      "tensor([[ 0.,  0.,  1.,  0.,  0.,  0.,  0.,  0., -1.]])\n",
      "tensor([[ 1.,  0.,  0.,  0.,  1.,  0.,  0., -1., -1.]])\n",
      "tensor([[ 1.,  0.,  0.,  0.,  0.,  0.,  0.,  0., -1.]])\n",
      "tensor([[ 0.,  0.,  0.,  0., -1.,  0., -1.,  1.,  1.]])\n",
      "tensor([[0., 0., 0., 0., 1., 0., 0., 0., 0.]])\n",
      "tensor([[ 0.,  0.,  0.,  0., -1.,  0.,  0.,  0.,  1.]])\n",
      "tensor([[ 0.,  0.,  0.,  0., -1.,  0.,  0.,  0.,  1.]])\n",
      "tensor([[ 1.,  0.,  0.,  0.,  1.,  0.,  0.,  0., -1.]])\n"
     ]
    },
    {
     "name": "stderr",
     "output_type": "stream",
     "text": [
      "\r",
      "  1%|▍                                      | 112/10000 [00:04<05:35, 29.47it/s]"
     ]
    },
    {
     "name": "stdout",
     "output_type": "stream",
     "text": [
      "tensor([[0., 0., 0., 0., 0., 0., 0., 0., 1.]])\n",
      "tensor([[ 0.,  0.,  1.,  0.,  0.,  0.,  0.,  0., -1.]])\n",
      "tensor([[ 0.,  0.,  0.,  0.,  0.,  0.,  0., -1.,  1.]])\n",
      "tensor([[0., 0., 1., 0., 0., 0., 0., 0., 0.]])\n",
      "tensor([[ 0.,  0.,  0.,  0.,  0.,  0.,  1.,  0., -1.]])\n",
      "tensor([[ 1.,  0.,  0.,  0.,  1., -1.,  1., -1., -1.]])\n",
      "tensor([[1., 0., 0., 0., 0., 0., 0., 0., 0.]])\n",
      "tensor([[ 0.,  0.,  0.,  0., -1.,  0.,  0.,  0.,  1.]])\n",
      "tensor([[ 0.,  0.,  0.,  0.,  1.,  0., -1., -1.,  1.]])\n",
      "tensor([[ 0.,  0.,  0.,  0.,  1.,  0.,  0., -1.,  1.]])\n",
      "tensor([[ 0.,  0.,  0.,  0., -1.,  1., -1.,  1.,  1.]])\n",
      "tensor([[ 0.,  0.,  0.,  0., -1.,  0., -1.,  1.,  1.]])\n",
      "tensor([[ 0.,  0.,  0.,  0., -1.,  0.,  0.,  1.,  1.]])\n",
      "tensor([[ 1.,  0.,  0.,  0.,  1.,  0.,  1., -1., -1.]])\n",
      "tensor([[ 0.,  0.,  0.,  0., -1.,  1., -1.,  1.,  1.]])\n",
      "tensor([[ 0.,  0.,  0.,  0.,  1.,  0.,  0.,  0., -1.]])\n",
      "tensor([[ 0.,  0.,  0.,  0.,  1.,  0.,  1., -1., -1.]])\n",
      "tensor([[ 0.,  0.,  0.,  0., -1.,  0., -1.,  1.,  1.]])\n",
      "tensor([[ 0.,  0.,  0.,  0.,  1.,  0.,  0.,  0., -1.]])\n",
      "tensor([[ 0.,  0.,  0.,  0.,  1.,  0.,  1.,  0., -1.]])\n",
      "tensor([[ 0.,  0.,  0.,  0., -1.,  0.,  0.,  1.,  1.]])\n",
      "tensor([[ 0.,  0.,  0.,  0., -1.,  1., -1.,  1.,  1.]])\n",
      "tensor([[ 1.,  0.,  0.,  0.,  1.,  0.,  1., -1., -1.]])\n",
      "tensor([[0., 0., 0., 0., 1., 0., 0., 0., 0.]])\n",
      "tensor([[ 0.,  0.,  0.,  0., -1.,  0., -1.,  1.,  1.]])\n",
      "tensor([[ 0.,  0.,  0.,  0.,  1.,  0.,  0., -1.,  1.]])\n",
      "tensor([[ 0.,  0.,  0.,  0.,  1.,  0.,  0.,  0., -1.]])\n",
      "tensor([[ 0.,  0.,  0.,  0., -1.,  1., -1.,  1.,  1.]])\n",
      "tensor([[ 1.,  0.,  0.,  0.,  1.,  0.,  0.,  0., -1.]])\n",
      "tensor([[0., 0., 0., 0., 0., 0., 0., 0., 1.]])\n",
      "tensor([[ 0.,  0.,  0.,  0., -1.,  0.,  0.,  0.,  1.]])\n",
      "tensor([[ 1.,  0.,  0.,  0.,  1.,  0.,  0.,  0., -1.]])\n",
      "tensor([[ 0.,  0.,  0.,  0., -1.,  0.,  0.,  1.,  1.]])\n",
      "tensor([[0., 0., 0., 0., 0., 0., 0., 0., 1.]])\n"
     ]
    },
    {
     "name": "stderr",
     "output_type": "stream",
     "text": [
      "  1%|▍                                      | 120/10000 [00:04<05:28, 30.09it/s]"
     ]
    },
    {
     "name": "stdout",
     "output_type": "stream",
     "text": [
      "tensor([[ 0.,  0.,  1.,  0.,  1.,  0.,  0.,  0., -1.]])\n",
      "tensor([[0., 0., 0., 0., 0., 0., 0., 0., 1.]])\n",
      "tensor([[ 1.,  0.,  0.,  0.,  1.,  0.,  1., -1., -1.]])\n",
      "tensor([[ 0.,  0.,  0.,  0.,  1.,  0.,  0., -1.,  1.]])\n",
      "tensor([[ 1.,  0.,  0.,  0.,  1.,  0.,  0., -1., -1.]])\n",
      "tensor([[ 1.,  0.,  0.,  0.,  1.,  0.,  0., -1., -1.]])\n",
      "tensor([[ 0.,  0.,  0.,  0., -1.,  1., -1.,  1.,  1.]])\n",
      "tensor([[ 0.,  0.,  0.,  0., -1.,  0., -1.,  1.,  1.]])\n",
      "tensor([[0., 0., 0., 0., 0., 0., 0., 0., 1.]])\n",
      "tensor([[ 0.,  0.,  0.,  0.,  1.,  0.,  0.,  0., -1.]])\n",
      "tensor([[ 0.,  0.,  0.,  0., -1.,  0., -1.,  1.,  1.]])\n",
      "tensor([[ 0.,  0.,  0.,  0., -1.,  0.,  0.,  1.,  1.]])\n",
      "tensor([[ 0.,  0.,  0.,  0., -1.,  0.,  0.,  1.,  1.]])\n",
      "tensor([[ 0.,  0.,  0.,  0., -1.,  0.,  0.,  0.,  1.]])\n",
      "tensor([[ 1.,  0.,  0.,  0.,  1.,  0.,  1., -1., -1.]])\n",
      "tensor([[ 0.,  0.,  0.,  0.,  1.,  0.,  1., -1., -1.]])\n",
      "tensor([[ 0.,  0.,  1.,  0.,  0.,  0.,  0.,  0., -1.]])\n",
      "tensor([[0., 0., 0., 0., 0., 0., 0., 0., 1.]])\n",
      "tensor([[0., 0., 0., 0., 0., 0., 0., 0., 1.]])\n",
      "tensor([[ 0.,  0.,  0.,  0., -1.,  0.,  0.,  1.,  1.]])\n",
      "tensor([[ 1.,  0.,  0.,  0.,  1.,  0.,  0., -1., -1.]])\n",
      "tensor([[ 1.,  0.,  0.,  0.,  0.,  0.,  0.,  0., -1.]])\n",
      "tensor([[ 0.,  0.,  0.,  0., -1.,  1., -1.,  1.,  1.]])\n",
      "tensor([[ 0.,  0.,  0.,  0., -1.,  0.,  0.,  1.,  1.]])\n",
      "tensor([[ 0.,  0.,  0.,  0., -1.,  0.,  0.,  1.,  1.]])\n",
      "tensor([[ 0.,  0.,  0.,  0., -1.,  0.,  0.,  1.,  1.]])\n",
      "tensor([[0., 0., 0., 0., 1., 0., 0., 0., 0.]])\n",
      "tensor([[ 1.,  0.,  0.,  0.,  1.,  0.,  0., -1., -1.]])\n",
      "tensor([[ 0.,  0.,  1.,  0.,  1.,  0.,  0.,  0., -1.]])\n",
      "tensor([[0., 0., 0., 0., 0., 0., 0., 0., 1.]])\n",
      "tensor([[ 0.,  0.,  0.,  0.,  1.,  0., -1., -1.,  1.]])\n",
      "tensor([[ 0.,  0.,  0.,  0.,  0.,  0.,  1.,  0., -1.]])\n"
     ]
    },
    {
     "name": "stderr",
     "output_type": "stream",
     "text": [
      "\r",
      "  1%|▍                                      | 124/10000 [00:04<05:26, 30.28it/s]"
     ]
    },
    {
     "name": "stdout",
     "output_type": "stream",
     "text": [
      "tensor([[ 0.,  0.,  0.,  0., -1.,  0., -1.,  1.,  1.]])\n",
      "tensor([[ 0.,  0.,  0.,  0., -1.,  0., -1.,  1.,  1.]])\n",
      "tensor([[ 0.,  0.,  0.,  0., -1.,  0., -1.,  1.,  1.]])\n",
      "tensor([[ 0.,  0.,  0.,  0., -1.,  0.,  0.,  0.,  1.]])\n",
      "tensor([[ 0.,  0.,  0.,  0., -1.,  0., -1.,  1.,  1.]])\n",
      "tensor([[ 0.,  0.,  1.,  0.,  1.,  0.,  0., -1., -1.]])\n",
      "tensor([[0., 0., 0., 0., 0., 0., 0., 0., 1.]])\n",
      "tensor([[ 0.,  0.,  0.,  0., -1.,  1., -1.,  1.,  1.]])\n",
      "tensor([[ 1.,  0.,  0.,  0.,  0.,  0.,  0.,  0., -1.]])\n",
      "tensor([[ 1.,  0.,  0.,  0.,  1., -1.,  1., -1., -1.]])\n",
      "tensor([[ 0.,  0.,  0.,  0., -1.,  0.,  0.,  0.,  1.]])\n",
      "tensor([[ 0.,  0.,  0.,  0.,  1.,  0.,  1.,  0., -1.]])\n",
      "tensor([[ 0.,  0.,  0.,  0., -1.,  1., -1.,  1.,  1.]])\n",
      "tensor([[ 1.,  0.,  0.,  0.,  1.,  0.,  0., -1., -1.]])\n",
      "tensor([[0., 0., 0., 0., 0., 0., 0., 0., 1.]])\n",
      "tensor([[ 1.,  0.,  0.,  0.,  1.,  0.,  0., -1., -1.]])\n",
      "tensor([[0., 0., 0., 0., 0., 0., 0., 0., 1.]])\n",
      "tensor([[ 0.,  0.,  0.,  0., -1.,  0.,  0.,  1.,  1.]])\n",
      "tensor([[ 1.,  0.,  0.,  0.,  1.,  0.,  0.,  0., -1.]])\n",
      "tensor([[ 0.,  0.,  0.,  0., -1.,  0.,  0.,  0.,  1.]])\n",
      "tensor([[ 0.,  0.,  0.,  0., -1.,  0.,  0.,  0.,  1.]])\n",
      "tensor([[ 0.,  0.,  0.,  0., -1.,  0.,  0.,  0.,  1.]])\n",
      "tensor([[0., 0., 0., 0., 0., 0., 0., 0., 1.]])\n",
      "tensor([[ 0.,  0.,  1.,  0.,  1.,  0.,  0.,  0., -1.]])\n",
      "tensor([[0., 0., 0., 0., 0., 0., 0., 0., 1.]])\n",
      "tensor([[0., 0., 1., 0., 0., 0., 0., 0., 0.]])\n",
      "tensor([[ 0.,  0.,  0.,  0.,  0.,  0.,  1.,  0., -1.]])\n",
      "tensor([[ 0.,  0.,  0.,  0.,  1.,  0.,  0.,  0., -1.]])\n",
      "tensor([[ 0.,  0.,  0.,  0., -1.,  1., -1.,  1.,  1.]])\n",
      "tensor([[ 0.,  0.,  0.,  0., -1.,  0., -1.,  1.,  1.]])\n",
      "tensor([[ 1.,  0.,  0.,  0.,  1.,  0.,  0.,  0., -1.]])\n",
      "tensor([[ 1.,  0.,  0.,  0.,  1.,  0.,  0.,  0., -1.]])\n"
     ]
    },
    {
     "name": "stderr",
     "output_type": "stream",
     "text": [
      "  1%|▌                                      | 132/10000 [00:05<05:23, 30.53it/s]"
     ]
    },
    {
     "name": "stdout",
     "output_type": "stream",
     "text": [
      "tensor([[ 0.,  0.,  1.,  0.,  1.,  0.,  0., -1., -1.]])\n",
      "tensor([[ 0.,  0.,  0.,  0.,  1.,  0.,  0., -1.,  1.]])\n",
      "tensor([[ 1.,  0.,  0.,  0.,  1.,  0.,  0.,  0., -1.]])\n",
      "tensor([[0., 0., 0., 0., 0., 0., 0., 0., 1.]])\n",
      "tensor([[ 0.,  0.,  0.,  0., -1.,  0.,  0.,  0.,  1.]])\n",
      "tensor([[ 0.,  0.,  1.,  0.,  1.,  0.,  0.,  0., -1.]])\n",
      "tensor([[ 0.,  0.,  0.,  0., -1.,  0.,  0.,  0.,  1.]])\n",
      "tensor([[ 0.,  0.,  0.,  0., -1.,  0.,  0.,  1.,  1.]])\n",
      "tensor([[ 1.,  0.,  0.,  0.,  1., -1.,  1., -1., -1.]])\n",
      "tensor([[0., 0., 0., 0., 0., 0., 1., 0., 0.]])\n",
      "tensor([[ 0.,  0.,  0.,  0.,  1.,  0., -1., -1.,  1.]])\n",
      "tensor([[1., 0., 0., 0., 0., 0., 0., 0., 0.]])\n",
      "tensor([[ 0.,  0.,  0.,  0.,  1.,  0.,  0.,  0., -1.]])\n",
      "tensor([[ 0.,  0.,  1.,  0.,  0.,  0.,  0.,  0., -1.]])\n",
      "tensor([[ 0.,  0.,  0.,  0., -1.,  0.,  0.,  1.,  1.]])\n",
      "tensor([[ 0.,  0.,  0.,  0., -1.,  1., -1.,  1.,  1.]])\n",
      "tensor([[ 0.,  0.,  0.,  0., -1.,  0., -1.,  1.,  1.]])\n",
      "tensor([[ 0.,  0.,  0.,  0., -1.,  0.,  0.,  0.,  1.]])\n",
      "tensor([[0., 0., 0., 0., 0., 0., 0., 0., 1.]])\n",
      "tensor([[ 0.,  0.,  0.,  0., -1.,  0.,  0.,  0.,  1.]])\n",
      "tensor([[ 0.,  0.,  1.,  0.,  1.,  0.,  0., -1., -1.]])\n",
      "tensor([[ 0.,  0.,  0.,  0.,  1.,  0.,  0., -1.,  1.]])\n",
      "tensor([[1., 0., 0., 0., 0., 0., 0., 0., 0.]])\n",
      "tensor([[ 0.,  0.,  0.,  0.,  1.,  0.,  0., -1.,  1.]])\n",
      "tensor([[ 0.,  0.,  0.,  0., -1.,  0.,  0.,  1.,  1.]])\n",
      "tensor([[ 0.,  0.,  0.,  0., -1.,  0.,  0.,  1.,  1.]])\n",
      "tensor([[0., 0., 0., 0., 0., 0., 0., 0., 1.]])\n",
      "tensor([[ 0.,  0.,  0.,  0., -1.,  1., -1.,  1.,  1.]])\n",
      "tensor([[ 0.,  0.,  0.,  0., -1.,  1., -1.,  1.,  1.]])\n"
     ]
    },
    {
     "name": "stderr",
     "output_type": "stream",
     "text": [
      "  1%|▌                                      | 140/10000 [00:05<05:24, 30.34it/s]"
     ]
    },
    {
     "name": "stdout",
     "output_type": "stream",
     "text": [
      "tensor([[1., 0., 0., 0., 0., 0., 0., 0., 0.]])\n",
      "tensor([[ 0.,  0.,  0.,  0., -1.,  0.,  0.,  1.,  1.]])\n",
      "tensor([[ 0.,  0.,  0.,  0.,  1.,  0.,  0.,  0., -1.]])\n",
      "tensor([[ 0.,  0.,  0.,  0., -1.,  0., -1.,  1.,  1.]])\n",
      "tensor([[ 1.,  0.,  0.,  0.,  1.,  0.,  1., -1., -1.]])\n",
      "tensor([[0., 0., 0., 0., 0., 0., 0., 0., 1.]])\n",
      "tensor([[ 0.,  0.,  0.,  0., -1.,  0., -1.,  1.,  1.]])\n",
      "tensor([[ 0.,  0.,  0.,  0.,  1.,  0.,  0.,  0., -1.]])\n",
      "tensor([[0., 0., 0., 0., 0., 0., 0., 0., 1.]])\n",
      "tensor([[ 0.,  0.,  0.,  0., -1.,  0., -1.,  1.,  1.]])\n",
      "tensor([[0., 0., 0., 0., 0., 0., 0., 0., 1.]])\n",
      "tensor([[0., 0., 0., 0., 0., 0., 0., 0., 1.]])\n",
      "tensor([[ 0.,  0.,  0.,  0., -1.,  0.,  0.,  1.,  1.]])\n",
      "tensor([[ 0.,  0.,  0.,  0.,  0.,  0.,  1.,  0., -1.]])\n",
      "tensor([[1., 0., 0., 0., 0., 0., 0., 0., 0.]])\n",
      "tensor([[ 0.,  0.,  1.,  0.,  1.,  0.,  0., -1., -1.]])\n",
      "tensor([[0., 0., 0., 0., 0., 0., 1., 0., 0.]])\n",
      "tensor([[0., 0., 0., 0., 0., 0., 0., 0., 1.]])\n",
      "tensor([[ 0.,  0.,  0.,  0.,  1.,  0.,  0., -1.,  1.]])\n",
      "tensor([[0., 0., 0., 0., 0., 0., 0., 0., 1.]])\n",
      "tensor([[ 0.,  0.,  0.,  0., -1.,  0.,  0.,  1.,  1.]])\n",
      "tensor([[ 0.,  0.,  0.,  0., -1.,  0.,  0.,  1.,  1.]])\n",
      "tensor([[ 0.,  0.,  0.,  0., -1.,  1., -1.,  1.,  1.]])\n",
      "tensor([[ 0.,  0.,  0.,  0.,  1.,  0.,  1., -1., -1.]])\n",
      "tensor([[ 0.,  0.,  0.,  0., -1.,  0.,  0.,  1.,  1.]])\n",
      "tensor([[ 0.,  0.,  0.,  0., -1.,  1., -1.,  1.,  1.]])\n",
      "tensor([[ 0.,  0.,  0.,  0., -1.,  0.,  0.,  0.,  1.]])\n",
      "tensor([[ 0.,  0.,  0.,  0., -1.,  0.,  0.,  0.,  1.]])\n",
      "tensor([[ 0.,  0.,  0.,  0.,  1.,  0., -1., -1.,  1.]])\n",
      "tensor([[ 0.,  0.,  0.,  0., -1.,  0.,  0.,  0.,  1.]])\n",
      "tensor([[ 0.,  0.,  0.,  0., -1.,  0.,  0.,  1.,  1.]])\n",
      "tensor([[ 0.,  0.,  0.,  0., -1.,  0.,  0.,  1.,  1.]])\n"
     ]
    },
    {
     "name": "stderr",
     "output_type": "stream",
     "text": [
      "\r",
      "  1%|▌                                      | 144/10000 [00:05<05:18, 30.90it/s]"
     ]
    },
    {
     "name": "stdout",
     "output_type": "stream",
     "text": [
      "tensor([[ 0.,  0.,  0.,  0., -1.,  0.,  0.,  0.,  1.]])\n",
      "tensor([[ 1.,  0.,  0.,  0.,  1.,  0.,  0., -1., -1.]])\n",
      "tensor([[ 0.,  0.,  0.,  0., -1.,  0., -1.,  1.,  1.]])\n",
      "tensor([[ 1.,  0.,  0.,  0.,  1.,  0.,  1., -1., -1.]])\n",
      "tensor([[ 1.,  0.,  0.,  0.,  1.,  0.,  1., -1., -1.]])\n",
      "tensor([[ 1.,  0.,  0.,  0.,  1.,  0.,  1., -1., -1.]])\n",
      "tensor([[0., 0., 0., 0., 0., 0., 0., 0., 1.]])\n",
      "tensor([[ 0.,  0.,  0.,  0., -1.,  0.,  0.,  1.,  1.]])\n",
      "tensor([[ 0.,  0.,  0.,  0., -1.,  1., -1.,  1.,  1.]])\n",
      "tensor([[ 0.,  0.,  0.,  0., -1.,  1., -1.,  1.,  1.]])\n",
      "tensor([[ 0.,  0.,  0.,  0.,  1.,  0., -1., -1.,  1.]])\n",
      "tensor([[ 0.,  0.,  0.,  0., -1.,  0., -1.,  1.,  1.]])\n",
      "tensor([[ 1.,  0.,  0.,  0.,  1.,  0.,  0.,  0., -1.]])\n",
      "tensor([[0., 0., 0., 0., 0., 0., 1., 0., 0.]])\n",
      "tensor([[ 0.,  0.,  0.,  0., -1.,  0., -1.,  1.,  1.]])\n",
      "tensor([[ 1.,  0.,  0.,  0.,  1., -1.,  1., -1., -1.]])\n",
      "tensor([[ 0.,  0.,  1.,  0.,  1.,  0.,  0.,  0., -1.]])\n",
      "tensor([[ 0.,  0.,  1.,  0.,  0.,  0.,  0.,  0., -1.]])\n",
      "tensor([[0., 0., 0., 0., 0., 0., 0., 0., 1.]])\n",
      "tensor([[ 0.,  0.,  0.,  0.,  1.,  0.,  0., -1.,  1.]])\n",
      "tensor([[ 0.,  0.,  0.,  0., -1.,  1., -1.,  1.,  1.]])\n",
      "tensor([[ 0.,  0.,  0.,  0., -1.,  0., -1.,  1.,  1.]])\n",
      "tensor([[ 0.,  0.,  0.,  0., -1.,  0.,  0.,  1.,  1.]])\n",
      "tensor([[ 0.,  0.,  0.,  0., -1.,  0.,  0.,  1.,  1.]])\n",
      "tensor([[ 0.,  0.,  0.,  0., -1.,  0.,  0.,  1.,  1.]])\n",
      "tensor([[ 1.,  0.,  0.,  0.,  1.,  0.,  1., -1., -1.]])\n",
      "tensor([[ 1.,  0.,  0.,  0.,  1.,  0.,  1., -1., -1.]])\n",
      "tensor([[ 0.,  0.,  0.,  0., -1.,  1., -1.,  1.,  1.]])\n",
      "tensor([[ 1.,  0.,  0.,  0.,  1.,  0.,  0.,  0., -1.]])\n",
      "tensor([[ 0.,  0.,  0.,  0., -1.,  0.,  0.,  0.,  1.]])\n",
      "tensor([[ 1.,  0.,  0.,  0.,  1.,  0.,  0., -1., -1.]])\n"
     ]
    },
    {
     "name": "stderr",
     "output_type": "stream",
     "text": [
      "  2%|▌                                      | 152/10000 [00:05<05:23, 30.46it/s]"
     ]
    },
    {
     "name": "stdout",
     "output_type": "stream",
     "text": [
      "tensor([[ 0.,  0.,  0.,  0., -1.,  0.,  0.,  1.,  1.]])\n",
      "tensor([[ 0.,  0.,  0.,  0., -1.,  1., -1.,  1.,  1.]])\n",
      "tensor([[ 1.,  0.,  0.,  0.,  1.,  0.,  0., -1., -1.]])\n",
      "tensor([[0., 0., 0., 0., 0., 0., 0., 0., 1.]])\n",
      "tensor([[ 1.,  0.,  0.,  0.,  1.,  0.,  1., -1., -1.]])\n",
      "tensor([[ 0.,  0.,  0.,  0.,  1.,  0.,  0.,  0., -1.]])\n",
      "tensor([[ 0.,  0.,  0.,  0., -1.,  0., -1.,  1.,  1.]])\n",
      "tensor([[ 1.,  0.,  0.,  0.,  1.,  0.,  1., -1., -1.]])\n",
      "tensor([[ 0.,  0.,  0.,  0., -1.,  1., -1.,  1.,  1.]])\n",
      "tensor([[0., 0., 0., 0., 1., 0., 0., 0., 0.]])\n",
      "tensor([[ 1.,  0.,  0.,  0.,  1., -1.,  1., -1., -1.]])\n",
      "tensor([[ 0.,  0.,  0.,  0., -1.,  1., -1.,  1.,  1.]])\n",
      "tensor([[0., 0., 0., 0., 0., 0., 0., 0., 1.]])\n",
      "tensor([[0., 0., 1., 0., 0., 0., 0., 0., 0.]])\n",
      "tensor([[ 0.,  0.,  0.,  0., -1.,  0.,  0.,  1.,  1.]])\n",
      "tensor([[ 0.,  0.,  1.,  0.,  0.,  0.,  0.,  0., -1.]])\n",
      "tensor([[ 0.,  0.,  0.,  0.,  1.,  0.,  1., -1., -1.]])\n",
      "tensor([[0., 0., 1., 0., 0., 0., 0., 0., 0.]])\n",
      "tensor([[0., 0., 0., 0., 0., 0., 0., 0., 1.]])\n",
      "tensor([[0., 0., 0., 0., 0., 0., 0., 0., 1.]])\n",
      "tensor([[ 1.,  0.,  0.,  0.,  1.,  0.,  0.,  0., -1.]])\n",
      "tensor([[ 0.,  0.,  0.,  0.,  0.,  0.,  1.,  0., -1.]])\n",
      "tensor([[ 0.,  0.,  0.,  0., -1.,  0., -1.,  1.,  1.]])\n",
      "tensor([[ 0.,  0.,  0.,  0., -1.,  0.,  0.,  1.,  1.]])\n",
      "tensor([[ 0.,  0.,  0.,  0., -1.,  0.,  0.,  1.,  1.]])\n",
      "tensor([[ 0.,  0.,  0.,  0., -1.,  1., -1.,  1.,  1.]])\n",
      "tensor([[ 0.,  0.,  0.,  0., -1.,  1., -1.,  1.,  1.]])\n",
      "tensor([[ 0.,  0.,  0.,  0., -1.,  0., -1.,  1.,  1.]])\n",
      "tensor([[ 0.,  0.,  0.,  0., -1.,  0.,  0.,  1.,  1.]])\n",
      "tensor([[ 0.,  0.,  0.,  0., -1.,  0.,  0.,  1.,  1.]])\n",
      "tensor([[ 0.,  0.,  0.,  0.,  0.,  0.,  1.,  0., -1.]])\n"
     ]
    },
    {
     "name": "stderr",
     "output_type": "stream",
     "text": [
      "  2%|▌                                      | 160/10000 [00:06<05:07, 31.97it/s]"
     ]
    },
    {
     "name": "stdout",
     "output_type": "stream",
     "text": [
      "tensor([[ 1.,  0.,  0.,  0.,  1.,  0.,  1., -1., -1.]])\n",
      "tensor([[ 0.,  0.,  0.,  0., -1.,  0., -1.,  1.,  1.]])\n",
      "tensor([[0., 0., 0., 0., 0., 0., 0., 0., 1.]])\n",
      "tensor([[ 0.,  0.,  0.,  0., -1.,  0., -1.,  1.,  1.]])\n",
      "tensor([[ 0.,  0.,  0.,  0., -1.,  1., -1.,  1.,  1.]])\n",
      "tensor([[ 0.,  0.,  0.,  0., -1.,  1., -1.,  1.,  1.]])\n",
      "tensor([[ 0.,  0.,  0.,  0., -1.,  0.,  0.,  0.,  1.]])\n",
      "tensor([[ 1.,  0.,  0.,  0.,  1.,  0.,  0., -1., -1.]])\n",
      "tensor([[ 0.,  0.,  1.,  0.,  1.,  0.,  0., -1., -1.]])\n",
      "tensor([[ 0.,  0.,  0.,  0., -1.,  0.,  0.,  0.,  1.]])\n",
      "tensor([[ 1.,  0.,  0.,  0.,  1.,  0.,  1., -1., -1.]])\n",
      "tensor([[ 1.,  0.,  0.,  0.,  1.,  0.,  0., -1., -1.]])\n",
      "tensor([[ 1.,  0.,  0.,  0.,  1.,  0.,  1., -1., -1.]])\n",
      "tensor([[0., 0., 0., 0., 1., 0., 0., 0., 0.]])\n",
      "tensor([[0., 0., 1., 0., 0., 0., 0., 0., 0.]])\n",
      "tensor([[ 0.,  0.,  0.,  0., -1.,  0., -1.,  1.,  1.]])\n",
      "tensor([[ 0.,  0.,  0.,  0., -1.,  0.,  0.,  0.,  1.]])\n",
      "tensor([[ 0.,  0.,  0.,  0.,  1.,  0.,  0.,  0., -1.]])\n",
      "tensor([[0., 0., 0., 0., 0., 0., 0., 0., 1.]])\n",
      "tensor([[ 0.,  0.,  0.,  0., -1.,  0.,  0.,  0.,  1.]])\n",
      "tensor([[ 0.,  0.,  1.,  0.,  0.,  0.,  0.,  0., -1.]])\n",
      "tensor([[ 0.,  0.,  0.,  0., -1.,  0.,  0.,  0.,  1.]])\n",
      "tensor([[ 0.,  0.,  0.,  0.,  0.,  0.,  0., -1.,  1.]])\n",
      "tensor([[ 0.,  0.,  1.,  0.,  1.,  0.,  0.,  0., -1.]])\n",
      "tensor([[ 0.,  0.,  0.,  0., -1.,  0.,  0.,  0.,  1.]])\n",
      "tensor([[1., 0., 0., 0., 0., 0., 0., 0., 0.]])\n",
      "tensor([[ 0.,  0.,  0.,  0., -1.,  0.,  0.,  1.,  1.]])\n",
      "tensor([[0., 0., 0., 0., 0., 0., 1., 0., 0.]])\n",
      "tensor([[ 0.,  0.,  0.,  0.,  0.,  0.,  0., -1.,  1.]])\n",
      "tensor([[ 0.,  0.,  0.,  0., -1.,  0.,  0.,  1.,  1.]])\n",
      "tensor([[0., 0., 1., 0., 0., 0., 0., 0., 0.]])\n",
      "tensor([[ 1.,  0.,  0.,  0.,  1.,  0.,  0.,  0., -1.]])\n"
     ]
    },
    {
     "name": "stderr",
     "output_type": "stream",
     "text": [
      "\r",
      "  2%|▋                                      | 164/10000 [00:06<05:14, 31.23it/s]"
     ]
    },
    {
     "name": "stdout",
     "output_type": "stream",
     "text": [
      "tensor([[0., 0., 0., 0., 0., 0., 1., 0., 0.]])\n",
      "tensor([[1., 0., 0., 0., 0., 0., 0., 0., 0.]])\n",
      "tensor([[ 0.,  0.,  0.,  0., -1.,  0., -1.,  1.,  1.]])\n",
      "tensor([[ 0.,  0.,  0.,  0., -1.,  0.,  0.,  1.,  1.]])\n",
      "tensor([[ 0.,  0.,  0.,  0., -1.,  0.,  0.,  0.,  1.]])\n",
      "tensor([[ 0.,  0.,  0.,  0., -1.,  0., -1.,  1.,  1.]])\n",
      "tensor([[ 0.,  0.,  0.,  0., -1.,  0., -1.,  1.,  1.]])\n",
      "tensor([[ 1.,  0.,  0.,  0.,  1.,  0.,  1., -1., -1.]])\n",
      "tensor([[ 0.,  0.,  1.,  0.,  0.,  0.,  0.,  0., -1.]])\n",
      "tensor([[ 0.,  0.,  0.,  0.,  1.,  0.,  1.,  0., -1.]])\n",
      "tensor([[ 0.,  0.,  0.,  0., -1.,  0., -1.,  1.,  1.]])\n",
      "tensor([[ 0.,  0.,  0.,  0., -1.,  1., -1.,  1.,  1.]])\n",
      "tensor([[ 0.,  0.,  0.,  0., -1.,  0.,  0.,  0.,  1.]])\n",
      "tensor([[ 1.,  0.,  0.,  0.,  1.,  0.,  0., -1., -1.]])\n",
      "tensor([[0., 0., 0., 0., 0., 0., 0., 0., 1.]])\n",
      "tensor([[ 0.,  0.,  0.,  0., -1.,  1., -1.,  1.,  1.]])\n",
      "tensor([[ 0.,  0.,  0.,  0., -1.,  1., -1.,  1.,  1.]])\n",
      "tensor([[0., 0., 0., 0., 0., 0., 1., 0., 0.]])\n",
      "tensor([[ 1.,  0.,  0.,  0.,  1.,  0.,  1., -1., -1.]])\n",
      "tensor([[ 0.,  0.,  0.,  0., -1.,  0.,  0.,  0.,  1.]])\n",
      "tensor([[0., 0., 0., 0., 0., 0., 0., 0., 1.]])\n",
      "tensor([[ 1.,  0.,  0.,  0.,  1., -1.,  1., -1., -1.]])\n",
      "tensor([[ 0.,  0.,  1.,  0.,  1.,  0.,  0., -1., -1.]])\n",
      "tensor([[ 0.,  0.,  0.,  0., -1.,  0., -1.,  1.,  1.]])\n",
      "tensor([[ 0.,  0.,  0.,  0.,  1.,  0.,  1., -1., -1.]])\n",
      "tensor([[0., 0., 0., 0., 0., 0., 0., 0., 1.]])\n",
      "tensor([[ 1.,  0.,  0.,  0.,  1., -1.,  1., -1., -1.]])\n",
      "tensor([[ 1.,  0.,  0.,  0.,  1.,  0.,  0.,  0., -1.]])\n",
      "tensor([[1., 0., 0., 0., 0., 0., 0., 0., 0.]])\n",
      "tensor([[ 1.,  0.,  0.,  0.,  1.,  0.,  0.,  0., -1.]])\n",
      "tensor([[ 1.,  0.,  0.,  0.,  1.,  0.,  0., -1., -1.]])\n",
      "tensor([[ 0.,  0.,  0.,  0.,  1.,  0.,  0.,  0., -1.]])\n",
      "tensor([[0., 0., 0., 0., 0., 0., 0., 0., 1.]])\n",
      "tensor([[ 0.,  0.,  0.,  0.,  0.,  0.,  1.,  0., -1.]])\n",
      "tensor([[ 0.,  0.,  0.,  0., -1.,  0., -1.,  1.,  1.]])\n"
     ]
    },
    {
     "name": "stderr",
     "output_type": "stream",
     "text": [
      "  2%|▋                                      | 172/10000 [00:06<05:12, 31.45it/s]"
     ]
    },
    {
     "name": "stdout",
     "output_type": "stream",
     "text": [
      "tensor([[ 0.,  0.,  0.,  0.,  0.,  0.,  0., -1.,  1.]])\n",
      "tensor([[ 0.,  0.,  0.,  0., -1.,  0.,  0.,  1.,  1.]])\n",
      "tensor([[ 0.,  0.,  1.,  0.,  1.,  0.,  0., -1., -1.]])\n",
      "tensor([[ 0.,  0.,  0.,  0., -1.,  0., -1.,  1.,  1.]])\n",
      "tensor([[ 0.,  0.,  1.,  0.,  1.,  0.,  0., -1., -1.]])\n",
      "tensor([[ 0.,  0.,  0.,  0.,  0.,  0.,  0., -1.,  1.]])\n",
      "tensor([[ 1.,  0.,  0.,  0.,  1., -1.,  1., -1., -1.]])\n",
      "tensor([[0., 0., 0., 0., 0., 0., 0., 0., 1.]])\n",
      "tensor([[ 1.,  0.,  0.,  0.,  1., -1.,  1., -1., -1.]])\n",
      "tensor([[ 0.,  0.,  0.,  0., -1.,  0.,  0.,  1.,  1.]])\n",
      "tensor([[ 0.,  0.,  0.,  0., -1.,  0.,  0.,  0.,  1.]])\n",
      "tensor([[ 0.,  0.,  0.,  0., -1.,  0.,  0.,  1.,  1.]])\n",
      "tensor([[ 0.,  0.,  0.,  0., -1.,  0., -1.,  1.,  1.]])\n",
      "tensor([[ 0.,  0.,  0.,  0., -1.,  1., -1.,  1.,  1.]])\n",
      "tensor([[ 0.,  0.,  0.,  0., -1.,  1., -1.,  1.,  1.]])\n",
      "tensor([[0., 0., 0., 0., 0., 0., 1., 0., 0.]])\n",
      "tensor([[0., 0., 0., 0., 0., 0., 0., 0., 1.]])\n",
      "tensor([[ 0.,  0.,  1.,  0.,  0.,  0.,  0.,  0., -1.]])\n",
      "tensor([[ 1.,  0.,  0.,  0.,  1.,  0.,  0.,  0., -1.]])\n",
      "tensor([[ 0.,  0.,  0.,  0., -1.,  0.,  0.,  0.,  1.]])\n",
      "tensor([[0., 0., 0., 0., 1., 0., 0., 0., 0.]])\n",
      "tensor([[ 1.,  0.,  0.,  0.,  1.,  0.,  1., -1., -1.]])\n",
      "tensor([[ 0.,  0.,  0.,  0., -1.,  1., -1.,  1.,  1.]])\n",
      "tensor([[0., 0., 1., 0., 0., 0., 0., 0., 0.]])\n",
      "tensor([[0., 0., 0., 0., 0., 0., 0., 0., 1.]])\n",
      "tensor([[ 0.,  0.,  0.,  0., -1.,  0., -1.,  1.,  1.]])\n",
      "tensor([[0., 0., 0., 0., 0., 0., 1., 0., 0.]])\n",
      "tensor([[0., 0., 0., 0., 0., 0., 0., 0., 1.]])\n",
      "tensor([[ 0.,  0.,  0.,  0., -1.,  1., -1.,  1.,  1.]])\n",
      "tensor([[ 0.,  0.,  0.,  0., -1.,  0.,  0.,  0.,  1.]])\n",
      "tensor([[ 0.,  0.,  0.,  0., -1.,  0.,  0.,  1.,  1.]])\n",
      "tensor([[ 0.,  0.,  0.,  0.,  1.,  0., -1., -1.,  1.]])\n",
      "tensor([[ 0.,  0.,  0.,  0.,  0.,  0.,  0., -1.,  1.]])\n"
     ]
    },
    {
     "name": "stderr",
     "output_type": "stream",
     "text": [
      "\r",
      "  2%|▋                                      | 176/10000 [00:06<05:17, 30.90it/s]"
     ]
    },
    {
     "name": "stdout",
     "output_type": "stream",
     "text": [
      "tensor([[1., 0., 0., 0., 0., 0., 0., 0., 0.]])\n",
      "tensor([[ 1.,  0.,  0.,  0.,  1., -1.,  1., -1., -1.]])\n",
      "tensor([[0., 0., 0., 0., 0., 0., 0., 0., 1.]])\n",
      "tensor([[ 0.,  0.,  0.,  0., -1.,  0.,  0.,  1.,  1.]])\n",
      "tensor([[ 0.,  0.,  0.,  0.,  0.,  0.,  0., -1.,  1.]])\n",
      "tensor([[0., 0., 0., 0., 0., 0., 1., 0., 0.]])\n",
      "tensor([[ 0.,  0.,  1.,  0.,  0.,  0.,  0.,  0., -1.]])\n",
      "tensor([[1., 0., 0., 0., 0., 0., 0., 0., 0.]])\n",
      "tensor([[0., 0., 0., 0., 1., 0., 0., 0., 0.]])\n",
      "tensor([[ 0.,  0.,  0.,  0., -1.,  0., -1.,  1.,  1.]])\n",
      "tensor([[ 1.,  0.,  0.,  0.,  1.,  0.,  0., -1., -1.]])\n",
      "tensor([[0., 0., 0., 0., 0., 0., 0., 0., 1.]])\n",
      "tensor([[ 0.,  0.,  1.,  0.,  0.,  0.,  0.,  0., -1.]])\n",
      "tensor([[ 0.,  0.,  0.,  0., -1.,  0., -1.,  1.,  1.]])\n",
      "tensor([[0., 0., 0., 0., 0., 0., 1., 0., 0.]])\n",
      "tensor([[ 1.,  0.,  0.,  0.,  1., -1.,  1., -1., -1.]])\n",
      "tensor([[ 0.,  0.,  0.,  0., -1.,  0.,  0.,  0.,  1.]])\n",
      "tensor([[ 0.,  0.,  0.,  0., -1.,  1., -1.,  1.,  1.]])\n",
      "tensor([[ 1.,  0.,  0.,  0.,  1.,  0.,  0., -1., -1.]])\n",
      "tensor([[ 0.,  0.,  0.,  0., -1.,  0., -1.,  1.,  1.]])\n",
      "tensor([[ 0.,  0.,  0.,  0., -1.,  1., -1.,  1.,  1.]])\n",
      "tensor([[ 0.,  0.,  0.,  0., -1.,  0., -1.,  1.,  1.]])\n",
      "tensor([[ 0.,  0.,  0.,  0., -1.,  0.,  0.,  1.,  1.]])\n",
      "tensor([[ 0.,  0.,  0.,  0., -1.,  0.,  0.,  0.,  1.]])\n",
      "tensor([[0., 0., 0., 0., 0., 0., 0., 0., 1.]])\n",
      "tensor([[0., 0., 1., 0., 0., 0., 0., 0., 0.]])\n",
      "tensor([[ 1.,  0.,  0.,  0.,  1.,  0.,  0., -1., -1.]])\n",
      "tensor([[ 0.,  0.,  0.,  0., -1.,  0., -1.,  1.,  1.]])\n",
      "tensor([[ 0.,  0.,  0.,  0.,  1.,  0.,  0.,  0., -1.]])\n",
      "tensor([[ 0.,  0.,  1.,  0.,  1.,  0.,  0.,  0., -1.]])\n",
      "tensor([[0., 0., 0., 0., 0., 0., 1., 0., 0.]])\n",
      "tensor([[ 0.,  0.,  0.,  0., -1.,  1., -1.,  1.,  1.]])\n",
      "tensor([[ 1.,  0.,  0.,  0.,  0.,  0.,  0.,  0., -1.]])\n",
      "tensor([[0., 0., 0., 0., 0., 0., 0., 0., 1.]])\n",
      "tensor([[ 0.,  0.,  0.,  0., -1.,  0., -1.,  1.,  1.]])\n",
      "tensor([[0., 0., 0., 0., 0., 0., 0., 0., 1.]])\n"
     ]
    },
    {
     "name": "stderr",
     "output_type": "stream",
     "text": [
      "  2%|▋                                      | 184/10000 [00:06<05:21, 30.54it/s]"
     ]
    },
    {
     "name": "stdout",
     "output_type": "stream",
     "text": [
      "tensor([[0., 0., 0., 0., 0., 0., 0., 0., 1.]])\n",
      "tensor([[ 0.,  0.,  0.,  0., -1.,  0.,  0.,  0.,  1.]])\n",
      "tensor([[ 1.,  0.,  0.,  0.,  1.,  0.,  0.,  0., -1.]])\n",
      "tensor([[ 0.,  0.,  0.,  0.,  1.,  0.,  0., -1.,  1.]])\n",
      "tensor([[ 1.,  0.,  0.,  0.,  0.,  0.,  0.,  0., -1.]])\n",
      "tensor([[0., 0., 0., 0., 0., 0., 0., 0., 1.]])\n",
      "tensor([[ 1.,  0.,  0.,  0.,  1., -1.,  1., -1., -1.]])\n",
      "tensor([[0., 0., 0., 0., 0., 0., 0., 0., 1.]])\n",
      "tensor([[ 0.,  0.,  1.,  0.,  1.,  0.,  0.,  0., -1.]])\n",
      "tensor([[ 0.,  0.,  0.,  0., -1.,  0.,  0.,  1.,  1.]])\n",
      "tensor([[ 0.,  0.,  0.,  0., -1.,  0., -1.,  1.,  1.]])\n",
      "tensor([[ 1.,  0.,  0.,  0.,  1.,  0.,  0.,  0., -1.]])\n",
      "tensor([[ 0.,  0.,  0.,  0., -1.,  0.,  0.,  0.,  1.]])\n",
      "tensor([[0., 0., 1., 0., 0., 0., 0., 0., 0.]])\n",
      "tensor([[1., 0., 0., 0., 0., 0., 0., 0., 0.]])\n",
      "tensor([[ 1.,  0.,  0.,  0.,  1.,  0.,  1., -1., -1.]])\n",
      "tensor([[ 0.,  0.,  0.,  0., -1.,  0.,  0.,  0.,  1.]])\n",
      "tensor([[ 0.,  0.,  0.,  0., -1.,  0.,  0.,  0.,  1.]])\n",
      "tensor([[0., 0., 0., 0., 0., 0., 0., 0., 1.]])\n",
      "tensor([[ 0.,  0.,  1.,  0.,  1.,  0.,  0., -1., -1.]])\n",
      "tensor([[ 0.,  0.,  0.,  0.,  0.,  0.,  0., -1.,  1.]])\n",
      "tensor([[0., 0., 0., 0., 0., 0., 1., 0., 0.]])\n",
      "tensor([[ 0.,  0.,  0.,  0., -1.,  0.,  0.,  0.,  1.]])\n",
      "tensor([[ 0.,  0.,  0.,  0., -1.,  0.,  0.,  0.,  1.]])\n",
      "tensor([[0., 0., 0., 0., 0., 0., 0., 0., 1.]])\n",
      "tensor([[ 0.,  0.,  0.,  0., -1.,  0.,  0.,  0.,  1.]])\n",
      "tensor([[ 0.,  0.,  0.,  0., -1.,  0., -1.,  1.,  1.]])\n",
      "tensor([[ 1.,  0.,  0.,  0.,  1.,  0.,  0.,  0., -1.]])\n",
      "tensor([[ 0.,  0.,  0.,  0.,  0.,  0.,  0., -1.,  1.]])\n",
      "tensor([[0., 0., 0., 0., 0., 0., 0., 0., 1.]])\n",
      "tensor([[ 1.,  0.,  0.,  0.,  1.,  0.,  1., -1., -1.]])\n",
      "tensor([[ 1.,  0.,  0.,  0.,  1., -1.,  1., -1., -1.]])\n",
      "tensor([[0., 0., 0., 0., 0., 0., 0., 0., 1.]])\n"
     ]
    },
    {
     "name": "stderr",
     "output_type": "stream",
     "text": [
      "  2%|▋                                      | 192/10000 [00:07<05:16, 31.00it/s]"
     ]
    },
    {
     "name": "stdout",
     "output_type": "stream",
     "text": [
      "tensor([[ 0.,  0.,  1.,  0.,  0.,  0.,  0.,  0., -1.]])\n",
      "tensor([[ 0.,  0.,  0.,  0.,  1.,  0.,  0.,  0., -1.]])\n",
      "tensor([[ 0.,  0.,  0.,  0., -1.,  0.,  0.,  1.,  1.]])\n",
      "tensor([[ 0.,  0.,  0.,  0., -1.,  0.,  0.,  0.,  1.]])\n",
      "tensor([[ 1.,  0.,  0.,  0.,  1.,  0.,  0.,  0., -1.]])\n",
      "tensor([[ 1.,  0.,  0.,  0.,  1., -1.,  1., -1., -1.]])\n",
      "tensor([[0., 0., 0., 0., 0., 0., 0., 0., 1.]])\n",
      "tensor([[ 0.,  0.,  0.,  0., -1.,  0.,  0.,  0.,  1.]])\n",
      "tensor([[ 0.,  0.,  1.,  0.,  1.,  0.,  0., -1., -1.]])\n",
      "tensor([[ 0.,  0.,  0.,  0., -1.,  1., -1.,  1.,  1.]])\n",
      "tensor([[ 0.,  0.,  0.,  0., -1.,  1., -1.,  1.,  1.]])\n",
      "tensor([[ 0.,  0.,  0.,  0., -1.,  0.,  0.,  0.,  1.]])\n",
      "tensor([[ 0.,  0.,  0.,  0., -1.,  0.,  0.,  1.,  1.]])\n",
      "tensor([[ 0.,  0.,  0.,  0., -1.,  1., -1.,  1.,  1.]])\n",
      "tensor([[ 0.,  0.,  0.,  0.,  1.,  0.,  0.,  0., -1.]])\n",
      "tensor([[ 0.,  0.,  0.,  0., -1.,  0.,  0.,  1.,  1.]])\n",
      "tensor([[ 1.,  0.,  0.,  0.,  1.,  0.,  0., -1., -1.]])\n",
      "tensor([[0., 0., 0., 0., 0., 0., 0., 0., 1.]])\n",
      "tensor([[ 1.,  0.,  0.,  0.,  1.,  0.,  1., -1., -1.]])\n",
      "tensor([[ 0.,  0.,  0.,  0., -1.,  1., -1.,  1.,  1.]])\n",
      "tensor([[ 0.,  0.,  0.,  0.,  1.,  0.,  0., -1.,  1.]])\n",
      "tensor([[ 0.,  0.,  0.,  0., -1.,  0.,  0.,  0.,  1.]])\n",
      "tensor([[0., 0., 0., 0., 0., 0., 0., 0., 1.]])\n",
      "tensor([[0., 0., 0., 0., 0., 0., 0., 0., 1.]])\n",
      "tensor([[ 0.,  0.,  0.,  0.,  1.,  0.,  1., -1., -1.]])\n",
      "tensor([[ 0.,  0.,  1.,  0.,  1.,  0.,  0., -1., -1.]])\n",
      "tensor([[ 0.,  0.,  0.,  0., -1.,  0.,  0.,  1.,  1.]])\n",
      "tensor([[ 0.,  0.,  0.,  0.,  0.,  0.,  1.,  0., -1.]])\n",
      "tensor([[ 1.,  0.,  0.,  0.,  1.,  0.,  0.,  0., -1.]])\n",
      "tensor([[0., 0., 1., 0., 0., 0., 0., 0., 0.]])\n"
     ]
    },
    {
     "name": "stderr",
     "output_type": "stream",
     "text": [
      "\r",
      "  2%|▊                                      | 196/10000 [00:07<05:18, 30.83it/s]"
     ]
    },
    {
     "name": "stdout",
     "output_type": "stream",
     "text": [
      "tensor([[ 0.,  0.,  0.,  0., -1.,  0., -1.,  1.,  1.]])\n",
      "tensor([[0., 0., 0., 0., 0., 0., 0., 0., 1.]])\n",
      "tensor([[ 0.,  0.,  0.,  0.,  0.,  0.,  1.,  0., -1.]])\n",
      "tensor([[ 0.,  0.,  1.,  0.,  1.,  0.,  0., -1., -1.]])\n",
      "tensor([[ 1.,  0.,  0.,  0.,  0.,  0.,  0.,  0., -1.]])\n",
      "tensor([[ 0.,  0.,  0.,  0.,  1.,  0.,  0., -1.,  1.]])\n",
      "tensor([[ 0.,  0.,  0.,  0.,  1.,  0.,  0., -1.,  1.]])\n",
      "tensor([[ 1.,  0.,  0.,  0.,  1.,  0.,  1., -1., -1.]])\n",
      "tensor([[ 0.,  0.,  0.,  0., -1.,  0., -1.,  1.,  1.]])\n",
      "tensor([[ 1.,  0.,  0.,  0.,  1.,  0.,  1., -1., -1.]])\n",
      "tensor([[ 1.,  0.,  0.,  0.,  1.,  0.,  1., -1., -1.]])\n",
      "tensor([[ 1.,  0.,  0.,  0.,  1., -1.,  1., -1., -1.]])\n",
      "tensor([[ 0.,  0.,  0.,  0., -1.,  0.,  0.,  0.,  1.]])\n",
      "tensor([[ 0.,  0.,  0.,  0., -1.,  1., -1.,  1.,  1.]])\n",
      "tensor([[ 1.,  0.,  0.,  0.,  1.,  0.,  0., -1., -1.]])\n",
      "tensor([[ 0.,  0.,  0.,  0.,  1.,  0., -1., -1.,  1.]])\n",
      "tensor([[ 0.,  0.,  1.,  0.,  1.,  0.,  0.,  0., -1.]])\n",
      "tensor([[ 0.,  0.,  0.,  0., -1.,  0.,  0.,  0.,  1.]])\n",
      "tensor([[ 1.,  0.,  0.,  0.,  1., -1.,  1., -1., -1.]])\n",
      "tensor([[ 1.,  0.,  0.,  0.,  1.,  0.,  0.,  0., -1.]])\n",
      "tensor([[ 0.,  0.,  0.,  0., -1.,  0.,  0.,  1.,  1.]])\n",
      "tensor([[ 1.,  0.,  0.,  0.,  1.,  0.,  1., -1., -1.]])\n",
      "tensor([[ 0.,  0.,  0.,  0., -1.,  0.,  0.,  1.,  1.]])\n",
      "tensor([[0., 0., 1., 0., 0., 0., 0., 0., 0.]])\n",
      "tensor([[ 0.,  0.,  0.,  0., -1.,  0.,  0.,  0.,  1.]])\n",
      "tensor([[ 0.,  0.,  0.,  0., -1.,  0.,  0.,  1.,  1.]])\n",
      "tensor([[ 1.,  0.,  0.,  0.,  1.,  0.,  0., -1., -1.]])\n",
      "tensor([[1., 0., 0., 0., 0., 0., 0., 0., 0.]])\n",
      "tensor([[ 0.,  0.,  0.,  0., -1.,  0.,  0.,  0.,  1.]])\n",
      "tensor([[ 0.,  0.,  0.,  0.,  1.,  0.,  1.,  0., -1.]])\n",
      "tensor([[ 0.,  0.,  1.,  0.,  1.,  0.,  0.,  0., -1.]])\n",
      "tensor([[ 1.,  0.,  0.,  0.,  1.,  0.,  1., -1., -1.]])\n",
      "tensor([[ 1.,  0.,  0.,  0.,  1., -1.,  1., -1., -1.]])\n"
     ]
    },
    {
     "name": "stderr",
     "output_type": "stream",
     "text": [
      "  2%|▊                                      | 203/10000 [00:07<05:29, 29.73it/s]"
     ]
    },
    {
     "name": "stdout",
     "output_type": "stream",
     "text": [
      "tensor([[0., 0., 1., 0., 0., 0., 0., 0., 0.]])\n",
      "tensor([[ 0.,  0.,  1.,  0.,  0.,  0.,  0.,  0., -1.]])\n",
      "tensor([[ 0.,  0.,  0.,  0., -1.,  1., -1.,  1.,  1.]])\n",
      "tensor([[ 1.,  0.,  0.,  0.,  1.,  0.,  1., -1., -1.]])\n",
      "tensor([[ 1.,  0.,  0.,  0.,  1.,  0.,  1., -1., -1.]])\n",
      "tensor([[ 0.,  0.,  0.,  0., -1.,  0.,  0.,  1.,  1.]])\n",
      "tensor([[ 0.,  0.,  0.,  0., -1.,  1., -1.,  1.,  1.]])\n",
      "tensor([[0., 0., 0., 0., 0., 0., 0., 0., 1.]])\n",
      "tensor([[ 0.,  0.,  0.,  0., -1.,  0.,  0.,  0.,  1.]])\n",
      "tensor([[ 0.,  0.,  0.,  0., -1.,  0.,  0.,  1.,  1.]])\n",
      "tensor([[0., 0., 0., 0., 0., 0., 0., 0., 1.]])\n",
      "tensor([[ 0.,  0.,  0.,  0.,  1.,  0., -1., -1.,  1.]])\n",
      "tensor([[ 1.,  0.,  0.,  0.,  1.,  0.,  0., -1., -1.]])\n",
      "tensor([[ 0.,  0.,  0.,  0., -1.,  0.,  0.,  1.,  1.]])\n",
      "tensor([[ 1.,  0.,  0.,  0.,  1.,  0.,  0., -1., -1.]])\n",
      "tensor([[0., 0., 0., 0., 0., 0., 0., 0., 1.]])\n",
      "tensor([[1., 0., 0., 0., 0., 0., 0., 0., 0.]])\n",
      "tensor([[ 0.,  0.,  0.,  0.,  1.,  0.,  1.,  0., -1.]])\n",
      "tensor([[ 0.,  0.,  0.,  0., -1.,  1., -1.,  1.,  1.]])\n",
      "tensor([[ 1.,  0.,  0.,  0.,  1., -1.,  1., -1., -1.]])\n",
      "tensor([[ 0.,  0.,  0.,  0., -1.,  1., -1.,  1.,  1.]])\n",
      "tensor([[0., 0., 0., 0., 0., 0., 0., 0., 1.]])\n",
      "tensor([[ 1.,  0.,  0.,  0.,  1.,  0.,  0.,  0., -1.]])\n",
      "tensor([[ 0.,  0.,  0.,  0., -1.,  1., -1.,  1.,  1.]])\n",
      "tensor([[ 1.,  0.,  0.,  0.,  1.,  0.,  0.,  0., -1.]])\n",
      "tensor([[0., 0., 0., 0., 0., 0., 1., 0., 0.]])\n",
      "tensor([[ 0.,  0.,  0.,  0.,  1.,  0.,  0.,  0., -1.]])\n",
      "tensor([[ 0.,  0.,  0.,  0., -1.,  0., -1.,  1.,  1.]])\n",
      "tensor([[ 0.,  0.,  0.,  0., -1.,  0.,  0.,  0.,  1.]])\n",
      "tensor([[ 1.,  0.,  0.,  0.,  1.,  0.,  1., -1., -1.]])\n",
      "tensor([[ 0.,  0.,  0.,  0., -1.,  0., -1.,  1.,  1.]])\n",
      "tensor([[ 1.,  0.,  0.,  0.,  1.,  0.,  1., -1., -1.]])\n",
      "tensor([[0., 0., 0., 0., 0., 0., 0., 0., 1.]])\n",
      "tensor([[0., 0., 0., 0., 1., 0., 0., 0., 0.]])\n",
      "tensor([[ 0.,  0.,  0.,  0., -1.,  1., -1.,  1.,  1.]])\n"
     ]
    },
    {
     "name": "stderr",
     "output_type": "stream",
     "text": [
      "  2%|▊                                      | 210/10000 [00:07<05:22, 30.38it/s]"
     ]
    },
    {
     "name": "stdout",
     "output_type": "stream",
     "text": [
      "tensor([[ 0.,  0.,  0.,  0., -1.,  0., -1.,  1.,  1.]])\n",
      "tensor([[ 0.,  0.,  0.,  0., -1.,  0.,  0.,  0.,  1.]])\n",
      "tensor([[ 0.,  0.,  0.,  0.,  0.,  0.,  0., -1.,  1.]])\n",
      "tensor([[ 1.,  0.,  0.,  0.,  1., -1.,  1., -1., -1.]])\n",
      "tensor([[0., 0., 0., 0., 0., 0., 0., 0., 1.]])\n",
      "tensor([[ 0.,  0.,  0.,  0., -1.,  0., -1.,  1.,  1.]])\n",
      "tensor([[ 0.,  0.,  0.,  0., -1.,  0.,  0.,  0.,  1.]])\n",
      "tensor([[ 0.,  0.,  0.,  0., -1.,  0.,  0.,  1.,  1.]])\n",
      "tensor([[ 0.,  0.,  0.,  0., -1.,  0.,  0.,  1.,  1.]])\n",
      "tensor([[ 1.,  0.,  0.,  0.,  1.,  0.,  1., -1., -1.]])\n",
      "tensor([[ 0.,  0.,  0.,  0.,  1.,  0.,  0.,  0., -1.]])\n",
      "tensor([[ 1.,  0.,  0.,  0.,  1.,  0.,  1., -1., -1.]])\n",
      "tensor([[ 0.,  0.,  0.,  0., -1.,  0.,  0.,  0.,  1.]])\n",
      "tensor([[ 0.,  0.,  0.,  0.,  1.,  0.,  0.,  0., -1.]])\n",
      "tensor([[ 0.,  0.,  0.,  0., -1.,  1., -1.,  1.,  1.]])\n",
      "tensor([[ 0.,  0.,  0.,  0., -1.,  1., -1.,  1.,  1.]])\n",
      "tensor([[ 1.,  0.,  0.,  0.,  1.,  0.,  0.,  0., -1.]])\n",
      "tensor([[ 1.,  0.,  0.,  0.,  1., -1.,  1., -1., -1.]])\n",
      "tensor([[ 0.,  0.,  0.,  0., -1.,  1., -1.,  1.,  1.]])\n",
      "tensor([[ 0.,  0.,  0.,  0., -1.,  0.,  0.,  1.,  1.]])\n",
      "tensor([[ 0.,  0.,  0.,  0., -1.,  0.,  0.,  1.,  1.]])\n",
      "tensor([[ 0.,  0.,  1.,  0.,  1.,  0.,  0., -1., -1.]])\n",
      "tensor([[ 0.,  0.,  0.,  0., -1.,  0., -1.,  1.,  1.]])\n",
      "tensor([[ 0.,  0.,  1.,  0.,  1.,  0.,  0.,  0., -1.]])\n",
      "tensor([[ 0.,  0.,  1.,  0.,  1.,  0.,  0., -1., -1.]])\n",
      "tensor([[ 0.,  0.,  0.,  0., -1.,  0.,  0.,  0.,  1.]])\n",
      "tensor([[ 0.,  0.,  0.,  0., -1.,  1., -1.,  1.,  1.]])\n",
      "tensor([[0., 0., 0., 0., 1., 0., 0., 0., 0.]])\n",
      "tensor([[0., 0., 0., 0., 0., 0., 0., 0., 1.]])\n",
      "tensor([[ 0.,  0.,  0.,  0., -1.,  0.,  0.,  0.,  1.]])\n",
      "tensor([[ 0.,  0.,  1.,  0.,  0.,  0.,  0.,  0., -1.]])\n"
     ]
    },
    {
     "name": "stderr",
     "output_type": "stream",
     "text": [
      "  2%|▊                                      | 218/10000 [00:07<05:11, 31.42it/s]"
     ]
    },
    {
     "name": "stdout",
     "output_type": "stream",
     "text": [
      "tensor([[ 0.,  0.,  1.,  0.,  1.,  0.,  0.,  0., -1.]])\n",
      "tensor([[ 0.,  0.,  0.,  0., -1.,  0.,  0.,  0.,  1.]])\n",
      "tensor([[ 0.,  0.,  0.,  0., -1.,  1., -1.,  1.,  1.]])\n",
      "tensor([[ 0.,  0.,  0.,  0., -1.,  1., -1.,  1.,  1.]])\n",
      "tensor([[ 0.,  0.,  0.,  0., -1.,  0.,  0.,  1.,  1.]])\n",
      "tensor([[ 1.,  0.,  0.,  0.,  0.,  0.,  0.,  0., -1.]])\n",
      "tensor([[ 1.,  0.,  0.,  0.,  1., -1.,  1., -1., -1.]])\n",
      "tensor([[ 1.,  0.,  0.,  0.,  1.,  0.,  0.,  0., -1.]])\n",
      "tensor([[ 0.,  0.,  0.,  0., -1.,  0., -1.,  1.,  1.]])\n",
      "tensor([[ 0.,  0.,  0.,  0., -1.,  0., -1.,  1.,  1.]])\n",
      "tensor([[0., 0., 0., 0., 0., 0., 0., 0., 1.]])\n",
      "tensor([[ 0.,  0.,  0.,  0.,  1.,  0.,  0.,  0., -1.]])\n",
      "tensor([[ 0.,  0.,  0.,  0., -1.,  0.,  0.,  1.,  1.]])\n",
      "tensor([[ 0.,  0.,  0.,  0., -1.,  0.,  0.,  0.,  1.]])\n",
      "tensor([[ 0.,  0.,  0.,  0., -1.,  0.,  0.,  0.,  1.]])\n",
      "tensor([[ 0.,  0.,  0.,  0., -1.,  0.,  0.,  0.,  1.]])\n",
      "tensor([[ 0.,  0.,  0.,  0.,  1.,  0.,  1.,  0., -1.]])\n",
      "tensor([[0., 0., 0., 0., 0., 0., 1., 0., 0.]])\n",
      "tensor([[ 1.,  0.,  0.,  0.,  1.,  0.,  1., -1., -1.]])\n",
      "tensor([[ 0.,  0.,  0.,  0., -1.,  0., -1.,  1.,  1.]])\n",
      "tensor([[ 0.,  0.,  0.,  0., -1.,  1., -1.,  1.,  1.]])\n",
      "tensor([[0., 0., 0., 0., 0., 0., 0., 0., 1.]])\n",
      "tensor([[0., 0., 1., 0., 0., 0., 0., 0., 0.]])\n",
      "tensor([[ 0.,  0.,  0.,  0.,  0.,  0.,  0., -1.,  1.]])\n",
      "tensor([[0., 0., 0., 0., 0., 0., 0., 0., 1.]])\n",
      "tensor([[ 1.,  0.,  0.,  0.,  1.,  0.,  0., -1., -1.]])\n",
      "tensor([[ 0.,  0.,  0.,  0., -1.,  0.,  0.,  0.,  1.]])\n",
      "tensor([[ 0.,  0.,  0.,  0.,  0.,  0.,  0., -1.,  1.]])\n",
      "tensor([[0., 0., 0., 0., 0., 0., 0., 0., 1.]])\n",
      "tensor([[0., 0., 0., 0., 0., 0., 0., 0., 1.]])\n",
      "tensor([[ 1.,  0.,  0.,  0.,  1.,  0.,  0., -1., -1.]])\n",
      "tensor([[ 0.,  0.,  0.,  0., -1.,  0., -1.,  1.,  1.]])\n",
      "tensor([[1., 0., 0., 0., 0., 0., 0., 0., 0.]])\n",
      "tensor([[0., 0., 0., 0., 0., 0., 0., 0., 1.]])\n"
     ]
    },
    {
     "name": "stderr",
     "output_type": "stream",
     "text": [
      "\r",
      "  2%|▊                                      | 222/10000 [00:08<05:03, 32.18it/s]"
     ]
    },
    {
     "name": "stdout",
     "output_type": "stream",
     "text": [
      "tensor([[ 0.,  0.,  0.,  0., -1.,  0.,  0.,  0.,  1.]])\n",
      "tensor([[0., 0., 0., 0., 0., 0., 0., 0., 1.]])\n",
      "tensor([[ 1.,  0.,  0.,  0.,  0.,  0.,  0.,  0., -1.]])\n",
      "tensor([[0., 0., 0., 0., 0., 0., 0., 0., 1.]])\n",
      "tensor([[0., 0., 0., 0., 0., 0., 0., 0., 1.]])\n",
      "tensor([[ 0.,  0.,  0.,  0., -1.,  0.,  0.,  1.,  1.]])\n",
      "tensor([[ 1.,  0.,  0.,  0.,  1., -1.,  1., -1., -1.]])\n",
      "tensor([[0., 0., 0., 0., 0., 0., 1., 0., 0.]])\n",
      "tensor([[0., 0., 0., 0., 0., 0., 0., 0., 1.]])\n",
      "tensor([[ 0.,  0.,  0.,  0., -1.,  0., -1.,  1.,  1.]])\n",
      "tensor([[ 0.,  0.,  1.,  0.,  0.,  0.,  0.,  0., -1.]])\n",
      "tensor([[ 0.,  0.,  0.,  0., -1.,  0., -1.,  1.,  1.]])\n",
      "tensor([[ 1.,  0.,  0.,  0.,  1.,  0.,  0., -1., -1.]])\n",
      "tensor([[0., 0., 0., 0., 0., 0., 1., 0., 0.]])\n",
      "tensor([[ 0.,  0.,  1.,  0.,  1.,  0.,  0., -1., -1.]])\n",
      "tensor([[ 0.,  0.,  0.,  0., -1.,  1., -1.,  1.,  1.]])\n",
      "tensor([[ 0.,  0.,  0.,  0., -1.,  0.,  0.,  1.,  1.]])\n",
      "tensor([[1., 0., 0., 0., 0., 0., 0., 0., 0.]])\n",
      "tensor([[0., 0., 0., 0., 1., 0., 0., 0., 0.]])\n",
      "tensor([[0., 0., 0., 0., 0., 0., 1., 0., 0.]])\n",
      "tensor([[ 0.,  0.,  0.,  0.,  1.,  0.,  0., -1.,  1.]])\n",
      "tensor([[ 0.,  0.,  0.,  0., -1.,  0., -1.,  1.,  1.]])\n",
      "tensor([[ 0.,  0.,  0.,  0., -1.,  0.,  0.,  1.,  1.]])\n",
      "tensor([[ 0.,  0.,  0.,  0., -1.,  1., -1.,  1.,  1.]])\n",
      "tensor([[0., 0., 0., 0., 0., 0., 0., 0., 1.]])\n",
      "tensor([[ 0.,  0.,  0.,  0., -1.,  0.,  0.,  0.,  1.]])\n",
      "tensor([[ 0.,  0.,  0.,  0., -1.,  0.,  0.,  0.,  1.]])\n",
      "tensor([[0., 0., 0., 0., 1., 0., 0., 0., 0.]])\n",
      "tensor([[ 1.,  0.,  0.,  0.,  1.,  0.,  0.,  0., -1.]])\n",
      "tensor([[ 0.,  0.,  0.,  0.,  1.,  0.,  1.,  0., -1.]])\n",
      "tensor([[0., 0., 0., 0., 1., 0., 0., 0., 0.]])\n",
      "tensor([[ 0.,  0.,  0.,  0., -1.,  0., -1.,  1.,  1.]])\n",
      "tensor([[ 1.,  0.,  0.,  0.,  1.,  0.,  0.,  0., -1.]])\n"
     ]
    },
    {
     "name": "stderr",
     "output_type": "stream",
     "text": [
      "  2%|▉                                      | 230/10000 [00:08<05:18, 30.72it/s]"
     ]
    },
    {
     "name": "stdout",
     "output_type": "stream",
     "text": [
      "tensor([[ 0.,  0.,  0.,  0., -1.,  0.,  0.,  0.,  1.]])\n",
      "tensor([[ 0.,  0.,  0.,  0., -1.,  0.,  0.,  1.,  1.]])\n",
      "tensor([[ 0.,  0.,  0.,  0., -1.,  0.,  0.,  1.,  1.]])\n",
      "tensor([[ 0.,  0.,  0.,  0., -1.,  1., -1.,  1.,  1.]])\n",
      "tensor([[1., 0., 0., 0., 0., 0., 0., 0., 0.]])\n",
      "tensor([[ 1.,  0.,  0.,  0.,  1.,  0.,  0.,  0., -1.]])\n",
      "tensor([[ 0.,  0.,  0.,  0., -1.,  0.,  0.,  1.,  1.]])\n",
      "tensor([[ 0.,  0.,  0.,  0., -1.,  1., -1.,  1.,  1.]])\n",
      "tensor([[ 0.,  0.,  0.,  0., -1.,  0.,  0.,  1.,  1.]])\n",
      "tensor([[ 1.,  0.,  0.,  0.,  1.,  0.,  0.,  0., -1.]])\n",
      "tensor([[ 1.,  0.,  0.,  0.,  1.,  0.,  1., -1., -1.]])\n",
      "tensor([[ 1.,  0.,  0.,  0.,  1.,  0.,  0.,  0., -1.]])\n",
      "tensor([[ 0.,  0.,  0.,  0., -1.,  1., -1.,  1.,  1.]])\n",
      "tensor([[ 0.,  0.,  0.,  0., -1.,  1., -1.,  1.,  1.]])\n",
      "tensor([[ 0.,  0.,  1.,  0.,  1.,  0.,  0.,  0., -1.]])\n",
      "tensor([[0., 0., 0., 0., 0., 0., 0., 0., 1.]])\n",
      "tensor([[ 0.,  0.,  0.,  0., -1.,  1., -1.,  1.,  1.]])\n",
      "tensor([[ 0.,  0.,  1.,  0.,  0.,  0.,  0.,  0., -1.]])\n",
      "tensor([[ 0.,  0.,  0.,  0., -1.,  1., -1.,  1.,  1.]])\n",
      "tensor([[ 1.,  0.,  0.,  0.,  1.,  0.,  1., -1., -1.]])\n",
      "tensor([[ 1.,  0.,  0.,  0.,  1.,  0.,  1., -1., -1.]])\n",
      "tensor([[ 1.,  0.,  0.,  0.,  1.,  0.,  0., -1., -1.]])\n",
      "tensor([[ 0.,  0.,  0.,  0., -1.,  0.,  0.,  1.,  1.]])\n",
      "tensor([[ 0.,  0.,  0.,  0., -1.,  0., -1.,  1.,  1.]])\n",
      "tensor([[ 0.,  0.,  1.,  0.,  0.,  0.,  0.,  0., -1.]])\n",
      "tensor([[ 1.,  0.,  0.,  0.,  1., -1.,  1., -1., -1.]])\n",
      "tensor([[1., 0., 0., 0., 0., 0., 0., 0., 0.]])\n",
      "tensor([[ 0.,  0.,  0.,  0., -1.,  1., -1.,  1.,  1.]])\n",
      "tensor([[0., 0., 1., 0., 0., 0., 0., 0., 0.]])\n",
      "tensor([[ 0.,  0.,  0.,  0.,  1.,  0.,  1.,  0., -1.]])\n"
     ]
    },
    {
     "name": "stderr",
     "output_type": "stream",
     "text": [
      "\r",
      "  2%|▉                                      | 234/10000 [00:08<05:32, 29.40it/s]"
     ]
    },
    {
     "name": "stdout",
     "output_type": "stream",
     "text": [
      "tensor([[0., 0., 0., 0., 0., 0., 0., 0., 1.]])\n",
      "tensor([[0., 0., 1., 0., 0., 0., 0., 0., 0.]])\n",
      "tensor([[ 0.,  0.,  0.,  0., -1.,  0.,  0.,  0.,  1.]])\n",
      "tensor([[ 1.,  0.,  0.,  0.,  1.,  0.,  0.,  0., -1.]])\n",
      "tensor([[ 0.,  0.,  0.,  0., -1.,  0., -1.,  1.,  1.]])\n",
      "tensor([[ 0.,  0.,  0.,  0., -1.,  0.,  0.,  0.,  1.]])\n",
      "tensor([[ 1.,  0.,  0.,  0.,  1.,  0.,  0., -1., -1.]])\n",
      "tensor([[0., 0., 0., 0., 0., 0., 0., 0., 1.]])\n",
      "tensor([[ 0.,  0.,  0.,  0.,  1.,  0., -1., -1.,  1.]])\n",
      "tensor([[0., 0., 0., 0., 0., 0., 0., 0., 1.]])\n",
      "tensor([[ 0.,  0.,  0.,  0., -1.,  0.,  0.,  1.,  1.]])\n",
      "tensor([[0., 0., 0., 0., 0., 0., 0., 0., 1.]])\n",
      "tensor([[0., 0., 1., 0., 0., 0., 0., 0., 0.]])\n",
      "tensor([[ 0.,  0.,  0.,  0., -1.,  0.,  0.,  0.,  1.]])\n",
      "tensor([[0., 0., 0., 0., 0., 0., 0., 0., 1.]])\n",
      "tensor([[0., 0., 0., 0., 0., 0., 0., 0., 1.]])\n",
      "tensor([[ 0.,  0.,  0.,  0.,  1.,  0., -1., -1.,  1.]])\n",
      "tensor([[ 0.,  0.,  0.,  0., -1.,  1., -1.,  1.,  1.]])\n",
      "tensor([[ 1.,  0.,  0.,  0.,  1.,  0.,  0., -1., -1.]])\n",
      "tensor([[ 0.,  0.,  0.,  0.,  1.,  0., -1., -1.,  1.]])\n",
      "tensor([[ 1.,  0.,  0.,  0.,  1.,  0.,  0., -1., -1.]])\n",
      "tensor([[ 0.,  0.,  0.,  0., -1.,  0.,  0.,  0.,  1.]])\n",
      "tensor([[ 0.,  0.,  0.,  0., -1.,  0.,  0.,  1.,  1.]])\n",
      "tensor([[ 0.,  0.,  0.,  0., -1.,  0.,  0.,  1.,  1.]])\n",
      "tensor([[0., 0., 0., 0., 0., 0., 0., 0., 1.]])\n",
      "tensor([[ 0.,  0.,  0.,  0., -1.,  0.,  0.,  1.,  1.]])\n",
      "tensor([[ 0.,  0.,  1.,  0.,  1.,  0.,  0., -1., -1.]])\n",
      "tensor([[ 0.,  0.,  0.,  0.,  1.,  0.,  0., -1.,  1.]])\n",
      "tensor([[ 0.,  0.,  0.,  0.,  1.,  0.,  1.,  0., -1.]])\n",
      "tensor([[ 0.,  0.,  0.,  0.,  0.,  0.,  0., -1.,  1.]])\n",
      "tensor([[ 0.,  0.,  0.,  0.,  1.,  0.,  1.,  0., -1.]])\n"
     ]
    },
    {
     "name": "stderr",
     "output_type": "stream",
     "text": [
      "  2%|▉                                      | 242/10000 [00:08<05:21, 30.35it/s]"
     ]
    },
    {
     "name": "stdout",
     "output_type": "stream",
     "text": [
      "tensor([[ 0.,  0.,  0.,  0., -1.,  0.,  0.,  1.,  1.]])\n",
      "tensor([[0., 0., 0., 0., 0., 0., 0., 0., 1.]])\n",
      "tensor([[0., 0., 0., 0., 0., 0., 0., 0., 1.]])\n",
      "tensor([[ 0.,  0.,  0.,  0.,  1.,  0.,  1.,  0., -1.]])\n",
      "tensor([[ 0.,  0.,  0.,  0., -1.,  1., -1.,  1.,  1.]])\n",
      "tensor([[0., 0., 0., 0., 0., 0., 0., 0., 1.]])\n",
      "tensor([[0., 0., 0., 0., 0., 0., 0., 0., 1.]])\n",
      "tensor([[ 1.,  0.,  0.,  0.,  1.,  0.,  0., -1., -1.]])\n",
      "tensor([[ 1.,  0.,  0.,  0.,  1., -1.,  1., -1., -1.]])\n",
      "tensor([[0., 0., 0., 0., 0., 0., 0., 0., 1.]])\n",
      "tensor([[ 0.,  0.,  0.,  0., -1.,  0., -1.,  1.,  1.]])\n",
      "tensor([[ 1.,  0.,  0.,  0.,  1., -1.,  1., -1., -1.]])\n",
      "tensor([[ 0.,  0.,  0.,  0., -1.,  0.,  0.,  0.,  1.]])\n",
      "tensor([[ 0.,  0.,  0.,  0.,  0.,  0.,  1.,  0., -1.]])\n",
      "tensor([[ 0.,  0.,  0.,  0.,  1.,  0., -1., -1.,  1.]])\n",
      "tensor([[ 0.,  0.,  0.,  0., -1.,  0.,  0.,  0.,  1.]])\n",
      "tensor([[ 1.,  0.,  0.,  0.,  1.,  0.,  0.,  0., -1.]])\n",
      "tensor([[ 0.,  0.,  0.,  0., -1.,  0.,  0.,  1.,  1.]])\n",
      "tensor([[ 1.,  0.,  0.,  0.,  1.,  0.,  0., -1., -1.]])\n",
      "tensor([[ 0.,  0.,  0.,  0., -1.,  0.,  0.,  1.,  1.]])\n",
      "tensor([[ 0.,  0.,  0.,  0., -1.,  1., -1.,  1.,  1.]])\n",
      "tensor([[ 0.,  0.,  0.,  0.,  1.,  0.,  0., -1.,  1.]])\n",
      "tensor([[ 0.,  0.,  0.,  0., -1.,  0.,  0.,  1.,  1.]])\n",
      "tensor([[ 0.,  0.,  0.,  0., -1.,  0.,  0.,  1.,  1.]])\n",
      "tensor([[ 0.,  0.,  1.,  0.,  1.,  0.,  0., -1., -1.]])\n",
      "tensor([[ 0.,  0.,  0.,  0., -1.,  0.,  0.,  0.,  1.]])\n",
      "tensor([[ 1.,  0.,  0.,  0.,  1.,  0.,  0.,  0., -1.]])\n",
      "tensor([[0., 0., 0., 0., 0., 0., 0., 0., 1.]])\n",
      "tensor([[ 0.,  0.,  0.,  0., -1.,  0.,  0.,  1.,  1.]])\n",
      "tensor([[0., 0., 0., 0., 0., 0., 0., 0., 1.]])\n",
      "tensor([[ 1.,  0.,  0.,  0.,  1.,  0.,  0.,  0., -1.]])\n"
     ]
    },
    {
     "name": "stderr",
     "output_type": "stream",
     "text": [
      "  2%|▉                                      | 250/10000 [00:09<05:13, 31.13it/s]"
     ]
    },
    {
     "name": "stdout",
     "output_type": "stream",
     "text": [
      "tensor([[ 0.,  0.,  0.,  0.,  1.,  0.,  1.,  0., -1.]])\n",
      "tensor([[ 0.,  0.,  0.,  0., -1.,  0.,  0.,  1.,  1.]])\n",
      "tensor([[ 1.,  0.,  0.,  0.,  1., -1.,  1., -1., -1.]])\n",
      "tensor([[ 1.,  0.,  0.,  0.,  1., -1.,  1., -1., -1.]])\n",
      "tensor([[ 0.,  0.,  0.,  0.,  1.,  0.,  1., -1., -1.]])\n",
      "tensor([[ 0.,  0.,  0.,  0., -1.,  0.,  0.,  1.,  1.]])\n",
      "tensor([[ 0.,  0.,  0.,  0., -1.,  1., -1.,  1.,  1.]])\n",
      "tensor([[ 0.,  0.,  0.,  0., -1.,  0., -1.,  1.,  1.]])\n",
      "tensor([[ 0.,  0.,  0.,  0.,  1.,  0.,  0.,  0., -1.]])\n",
      "tensor([[0., 0., 0., 0., 0., 0., 0., 0., 1.]])\n",
      "tensor([[ 0.,  0.,  1.,  0.,  0.,  0.,  0.,  0., -1.]])\n",
      "tensor([[ 0.,  0.,  0.,  0., -1.,  0.,  0.,  0.,  1.]])\n",
      "tensor([[ 0.,  0.,  0.,  0., -1.,  1., -1.,  1.,  1.]])\n",
      "tensor([[ 0.,  0.,  0.,  0., -1.,  1., -1.,  1.,  1.]])\n",
      "tensor([[ 1.,  0.,  0.,  0.,  1.,  0.,  0., -1., -1.]])\n",
      "tensor([[ 0.,  0.,  0.,  0., -1.,  1., -1.,  1.,  1.]])\n",
      "tensor([[ 0.,  0.,  0.,  0.,  0.,  0.,  1.,  0., -1.]])\n",
      "tensor([[0., 0., 0., 0., 0., 0., 0., 0., 1.]])\n",
      "tensor([[0., 0., 0., 0., 0., 0., 1., 0., 0.]])\n",
      "tensor([[ 0.,  0.,  0.,  0.,  1.,  0.,  0.,  0., -1.]])\n",
      "tensor([[1., 0., 0., 0., 0., 0., 0., 0., 0.]])\n",
      "tensor([[ 1.,  0.,  0.,  0.,  1.,  0.,  0., -1., -1.]])\n",
      "tensor([[ 0.,  0.,  0.,  0.,  0.,  0.,  1.,  0., -1.]])\n",
      "tensor([[0., 0., 0., 0., 1., 0., 0., 0., 0.]])\n",
      "tensor([[ 0.,  0.,  0.,  0., -1.,  0.,  0.,  0.,  1.]])\n",
      "tensor([[ 0.,  0.,  0.,  0.,  1.,  0.,  1., -1., -1.]])\n",
      "tensor([[0., 0., 0., 0., 0., 0., 0., 0., 1.]])\n",
      "tensor([[ 0.,  0.,  0.,  0., -1.,  0., -1.,  1.,  1.]])\n",
      "tensor([[ 0.,  0.,  0.,  0.,  0.,  0.,  0., -1.,  1.]])\n",
      "tensor([[ 0.,  0.,  0.,  0., -1.,  1., -1.,  1.,  1.]])\n",
      "tensor([[ 0.,  0.,  0.,  0.,  0.,  0.,  0., -1.,  1.]])\n",
      "tensor([[ 0.,  0.,  1.,  0.,  0.,  0.,  0.,  0., -1.]])\n",
      "tensor([[ 1.,  0.,  0.,  0.,  1.,  0.,  0.,  0., -1.]])\n",
      "tensor([[0., 0., 0., 0., 0., 0., 1., 0., 0.]])\n",
      "tensor([[ 0.,  0.,  0.,  0., -1.,  1., -1.,  1.,  1.]])\n"
     ]
    },
    {
     "name": "stderr",
     "output_type": "stream",
     "text": [
      "\r",
      "  3%|▉                                      | 254/10000 [00:09<05:06, 31.77it/s]"
     ]
    },
    {
     "name": "stdout",
     "output_type": "stream",
     "text": [
      "tensor([[ 0.,  0.,  0.,  0., -1.,  0.,  0.,  0.,  1.]])\n",
      "tensor([[ 0.,  0.,  0.,  0.,  1.,  0.,  1., -1., -1.]])\n",
      "tensor([[0., 0., 0., 0., 0., 0., 0., 0., 1.]])\n",
      "tensor([[ 0.,  0.,  0.,  0.,  1.,  0., -1., -1.,  1.]])\n",
      "tensor([[ 0.,  0.,  0.,  0.,  1.,  0.,  0.,  0., -1.]])\n",
      "tensor([[ 0.,  0.,  0.,  0.,  1.,  0.,  1., -1., -1.]])\n",
      "tensor([[ 0.,  0.,  0.,  0., -1.,  0.,  0.,  1.,  1.]])\n",
      "tensor([[ 0.,  0.,  1.,  0.,  1.,  0.,  0.,  0., -1.]])\n",
      "tensor([[ 0.,  0.,  1.,  0.,  0.,  0.,  0.,  0., -1.]])\n",
      "tensor([[ 0.,  0.,  1.,  0.,  1.,  0.,  0.,  0., -1.]])\n",
      "tensor([[1., 0., 0., 0., 0., 0., 0., 0., 0.]])\n",
      "tensor([[ 0.,  0.,  0.,  0., -1.,  0.,  0.,  0.,  1.]])\n",
      "tensor([[0., 0., 0., 0., 1., 0., 0., 0., 0.]])\n",
      "tensor([[ 0.,  0.,  0.,  0., -1.,  0.,  0.,  0.,  1.]])\n",
      "tensor([[ 0.,  0.,  0.,  0., -1.,  0., -1.,  1.,  1.]])\n",
      "tensor([[ 0.,  0.,  0.,  0., -1.,  0.,  0.,  0.,  1.]])\n",
      "tensor([[ 0.,  0.,  0.,  0., -1.,  0.,  0.,  1.,  1.]])\n",
      "tensor([[ 1.,  0.,  0.,  0.,  1., -1.,  1., -1., -1.]])\n",
      "tensor([[ 0.,  0.,  1.,  0.,  1.,  0.,  0., -1., -1.]])\n",
      "tensor([[ 0.,  0.,  0.,  0., -1.,  0., -1.,  1.,  1.]])\n",
      "tensor([[ 0.,  0.,  0.,  0., -1.,  0., -1.,  1.,  1.]])\n",
      "tensor([[ 0.,  0.,  0.,  0., -1.,  0., -1.,  1.,  1.]])\n",
      "tensor([[ 0.,  0.,  0.,  0., -1.,  0.,  0.,  0.,  1.]])\n",
      "tensor([[0., 0., 0., 0., 0., 0., 0., 0., 1.]])\n",
      "tensor([[ 0.,  0.,  0.,  0.,  1.,  0.,  0., -1.,  1.]])\n",
      "tensor([[ 1.,  0.,  0.,  0.,  1., -1.,  1., -1., -1.]])\n",
      "tensor([[0., 0., 0., 0., 0., 0., 0., 0., 1.]])\n",
      "tensor([[0., 0., 0., 0., 0., 0., 0., 0., 1.]])\n",
      "tensor([[ 0.,  0.,  0.,  0., -1.,  0.,  0.,  1.,  1.]])\n",
      "tensor([[0., 0., 0., 0., 0., 0., 0., 0., 1.]])\n"
     ]
    },
    {
     "name": "stderr",
     "output_type": "stream",
     "text": [
      "  3%|█                                      | 262/10000 [00:09<04:59, 32.49it/s]"
     ]
    },
    {
     "name": "stdout",
     "output_type": "stream",
     "text": [
      "tensor([[ 1.,  0.,  0.,  0.,  1.,  0.,  0., -1., -1.]])\n",
      "tensor([[ 1.,  0.,  0.,  0.,  0.,  0.,  0.,  0., -1.]])\n",
      "tensor([[0., 0., 0., 0., 0., 0., 0., 0., 1.]])\n",
      "tensor([[ 0.,  0.,  0.,  0., -1.,  1., -1.,  1.,  1.]])\n",
      "tensor([[1., 0., 0., 0., 0., 0., 0., 0., 0.]])\n",
      "tensor([[ 1.,  0.,  0.,  0.,  1.,  0.,  0.,  0., -1.]])\n",
      "tensor([[ 0.,  0.,  0.,  0., -1.,  0.,  0.,  0.,  1.]])\n",
      "tensor([[ 0.,  0.,  0.,  0., -1.,  0., -1.,  1.,  1.]])\n",
      "tensor([[ 0.,  0.,  0.,  0., -1.,  1., -1.,  1.,  1.]])\n",
      "tensor([[ 0.,  0.,  0.,  0., -1.,  0.,  0.,  0.,  1.]])\n",
      "tensor([[ 0.,  0.,  0.,  0.,  1.,  0., -1., -1.,  1.]])\n",
      "tensor([[0., 0., 1., 0., 0., 0., 0., 0., 0.]])\n",
      "tensor([[ 0.,  0.,  0.,  0., -1.,  0.,  0.,  1.,  1.]])\n",
      "tensor([[ 0.,  0.,  0.,  0.,  1.,  0.,  0., -1.,  1.]])\n",
      "tensor([[ 0.,  0.,  0.,  0., -1.,  0., -1.,  1.,  1.]])\n",
      "tensor([[ 1.,  0.,  0.,  0.,  1., -1.,  1., -1., -1.]])\n",
      "tensor([[ 0.,  0.,  0.,  0., -1.,  1., -1.,  1.,  1.]])\n",
      "tensor([[ 0.,  0.,  0.,  0., -1.,  0.,  0.,  0.,  1.]])\n",
      "tensor([[ 0.,  0.,  0.,  0., -1.,  0.,  0.,  0.,  1.]])\n",
      "tensor([[ 0.,  0.,  0.,  0.,  1.,  0.,  1., -1., -1.]])\n",
      "tensor([[ 0.,  0.,  0.,  0.,  1.,  0.,  1., -1., -1.]])\n",
      "tensor([[ 0.,  0.,  1.,  0.,  1.,  0.,  0., -1., -1.]])\n",
      "tensor([[ 0.,  0.,  0.,  0., -1.,  1., -1.,  1.,  1.]])\n",
      "tensor([[1., 0., 0., 0., 0., 0., 0., 0., 0.]])\n",
      "tensor([[ 0.,  0.,  0.,  0., -1.,  1., -1.,  1.,  1.]])\n",
      "tensor([[ 0.,  0.,  0.,  0.,  1.,  0.,  1., -1., -1.]])\n",
      "tensor([[ 0.,  0.,  0.,  0., -1.,  0.,  0.,  1.,  1.]])\n",
      "tensor([[0., 0., 0., 0., 0., 0., 0., 0., 1.]])\n",
      "tensor([[0., 0., 0., 0., 0., 0., 1., 0., 0.]])\n",
      "tensor([[ 1.,  0.,  0.,  0.,  0.,  0.,  0.,  0., -1.]])\n"
     ]
    },
    {
     "name": "stderr",
     "output_type": "stream",
     "text": [
      "  3%|█                                      | 270/10000 [00:09<05:07, 31.64it/s]"
     ]
    },
    {
     "name": "stdout",
     "output_type": "stream",
     "text": [
      "tensor([[ 0.,  0.,  0.,  0., -1.,  0., -1.,  1.,  1.]])\n",
      "tensor([[ 1.,  0.,  0.,  0.,  1.,  0.,  1., -1., -1.]])\n",
      "tensor([[ 1.,  0.,  0.,  0.,  0.,  0.,  0.,  0., -1.]])\n",
      "tensor([[ 1.,  0.,  0.,  0.,  0.,  0.,  0.,  0., -1.]])\n",
      "tensor([[ 0.,  0.,  0.,  0., -1.,  0.,  0.,  0.,  1.]])\n",
      "tensor([[0., 0., 0., 0., 0., 0., 0., 0., 1.]])\n",
      "tensor([[ 0.,  0.,  0.,  0., -1.,  1., -1.,  1.,  1.]])\n",
      "tensor([[ 0.,  0.,  0.,  0., -1.,  0.,  0.,  1.,  1.]])\n",
      "tensor([[ 0.,  0.,  0.,  0.,  1.,  0.,  1., -1., -1.]])\n",
      "tensor([[ 0.,  0.,  0.,  0., -1.,  0., -1.,  1.,  1.]])\n",
      "tensor([[ 1.,  0.,  0.,  0.,  1.,  0.,  1., -1., -1.]])\n",
      "tensor([[ 0.,  0.,  0.,  0.,  1.,  0.,  1., -1., -1.]])\n",
      "tensor([[ 0.,  0.,  0.,  0.,  1.,  0.,  0., -1.,  1.]])\n",
      "tensor([[ 0.,  0.,  0.,  0., -1.,  0., -1.,  1.,  1.]])\n",
      "tensor([[ 1.,  0.,  0.,  0.,  1., -1.,  1., -1., -1.]])\n",
      "tensor([[0., 0., 0., 0., 0., 0., 0., 0., 1.]])\n",
      "tensor([[ 0.,  0.,  0.,  0.,  1.,  0.,  1.,  0., -1.]])\n",
      "tensor([[0., 0., 0., 0., 0., 0., 0., 0., 1.]])\n",
      "tensor([[0., 0., 0., 0., 0., 0., 0., 0., 1.]])\n",
      "tensor([[ 1.,  0.,  0.,  0.,  1.,  0.,  0., -1., -1.]])\n",
      "tensor([[ 0.,  0.,  0.,  0.,  1.,  0.,  1.,  0., -1.]])\n",
      "tensor([[ 0.,  0.,  0.,  0., -1.,  1., -1.,  1.,  1.]])\n",
      "tensor([[ 0.,  0.,  0.,  0., -1.,  0., -1.,  1.,  1.]])\n",
      "tensor([[ 1.,  0.,  0.,  0.,  1.,  0.,  1., -1., -1.]])\n",
      "tensor([[ 0.,  0.,  0.,  0., -1.,  0., -1.,  1.,  1.]])\n",
      "tensor([[ 0.,  0.,  0.,  0., -1.,  1., -1.,  1.,  1.]])\n",
      "tensor([[ 0.,  0.,  0.,  0., -1.,  0.,  0.,  0.,  1.]])\n",
      "tensor([[ 0.,  0.,  0.,  0.,  0.,  0.,  0., -1.,  1.]])\n",
      "tensor([[ 0.,  0.,  0.,  0., -1.,  0.,  0.,  0.,  1.]])\n",
      "tensor([[ 0.,  0.,  0.,  0., -1.,  0.,  0.,  0.,  1.]])\n",
      "tensor([[0., 0., 0., 0., 0., 0., 0., 0., 1.]])\n",
      "tensor([[ 0.,  0.,  0.,  0., -1.,  0., -1.,  1.,  1.]])\n",
      "tensor([[1., 0., 0., 0., 0., 0., 0., 0., 0.]])\n"
     ]
    },
    {
     "name": "stderr",
     "output_type": "stream",
     "text": [
      "\r",
      "  3%|█                                      | 274/10000 [00:09<05:09, 31.43it/s]"
     ]
    },
    {
     "name": "stdout",
     "output_type": "stream",
     "text": [
      "tensor([[ 0.,  0.,  0.,  0., -1.,  0.,  0.,  1.,  1.]])\n",
      "tensor([[ 0.,  0.,  0.,  0., -1.,  0.,  0.,  0.,  1.]])\n",
      "tensor([[0., 0., 0., 0., 0., 0., 0., 0., 1.]])\n",
      "tensor([[ 1.,  0.,  0.,  0.,  1.,  0.,  0., -1., -1.]])\n",
      "tensor([[ 1.,  0.,  0.,  0.,  1.,  0.,  0.,  0., -1.]])\n",
      "tensor([[ 0.,  0.,  0.,  0., -1.,  1., -1.,  1.,  1.]])\n",
      "tensor([[0., 0., 1., 0., 0., 0., 0., 0., 0.]])\n",
      "tensor([[0., 0., 0., 0., 0., 0., 0., 0., 1.]])\n",
      "tensor([[ 0.,  0.,  0.,  0., -1.,  0., -1.,  1.,  1.]])\n",
      "tensor([[ 0.,  0.,  0.,  0., -1.,  0.,  0.,  1.,  1.]])\n",
      "tensor([[ 0.,  0.,  0.,  0.,  1.,  0.,  0.,  0., -1.]])\n",
      "tensor([[ 1.,  0.,  0.,  0.,  0.,  0.,  0.,  0., -1.]])\n",
      "tensor([[ 1.,  0.,  0.,  0.,  1., -1.,  1., -1., -1.]])\n",
      "tensor([[0., 0., 0., 0., 0., 0., 1., 0., 0.]])\n",
      "tensor([[ 0.,  0.,  0.,  0.,  0.,  0.,  0., -1.,  1.]])\n",
      "tensor([[ 0.,  0.,  0.,  0., -1.,  0.,  0.,  0.,  1.]])\n",
      "tensor([[ 0.,  0.,  0.,  0., -1.,  0.,  0.,  0.,  1.]])\n",
      "tensor([[ 0.,  0.,  0.,  0., -1.,  1., -1.,  1.,  1.]])\n",
      "tensor([[0., 0., 0., 0., 0., 0., 0., 0., 1.]])\n",
      "tensor([[ 0.,  0.,  0.,  0., -1.,  0.,  0.,  0.,  1.]])\n",
      "tensor([[0., 0., 0., 0., 0., 0., 0., 0., 1.]])\n",
      "tensor([[ 0.,  0.,  1.,  0.,  0.,  0.,  0.,  0., -1.]])\n",
      "tensor([[ 0.,  0.,  0.,  0., -1.,  1., -1.,  1.,  1.]])\n",
      "tensor([[ 1.,  0.,  0.,  0.,  1.,  0.,  0.,  0., -1.]])\n",
      "tensor([[ 0.,  0.,  0.,  0.,  0.,  0.,  0., -1.,  1.]])\n",
      "tensor([[ 0.,  0.,  0.,  0., -1.,  0.,  0.,  1.,  1.]])\n",
      "tensor([[ 0.,  0.,  0.,  0.,  0.,  0.,  0., -1.,  1.]])\n",
      "tensor([[0., 0., 0., 0., 1., 0., 0., 0., 0.]])\n",
      "tensor([[ 0.,  0.,  0.,  0., -1.,  1., -1.,  1.,  1.]])\n"
     ]
    },
    {
     "name": "stderr",
     "output_type": "stream",
     "text": [
      "  3%|█                                      | 282/10000 [00:10<05:12, 31.09it/s]"
     ]
    },
    {
     "name": "stdout",
     "output_type": "stream",
     "text": [
      "tensor([[ 1.,  0.,  0.,  0.,  1., -1.,  1., -1., -1.]])\n",
      "tensor([[ 1.,  0.,  0.,  0.,  1.,  0.,  0., -1., -1.]])\n",
      "tensor([[ 0.,  0.,  0.,  0., -1.,  0.,  0.,  1.,  1.]])\n",
      "tensor([[ 0.,  0.,  0.,  0., -1.,  0., -1.,  1.,  1.]])\n",
      "tensor([[ 1.,  0.,  0.,  0.,  1.,  0.,  0., -1., -1.]])\n",
      "tensor([[0., 0., 0., 0., 0., 0., 0., 0., 1.]])\n",
      "tensor([[ 0.,  0.,  0.,  0., -1.,  0., -1.,  1.,  1.]])\n",
      "tensor([[ 0.,  0.,  0.,  0.,  1.,  0.,  1., -1., -1.]])\n",
      "tensor([[ 0.,  0.,  0.,  0., -1.,  1., -1.,  1.,  1.]])\n",
      "tensor([[0., 0., 0., 0., 1., 0., 0., 0., 0.]])\n",
      "tensor([[ 0.,  0.,  0.,  0., -1.,  0.,  0.,  0.,  1.]])\n",
      "tensor([[ 1.,  0.,  0.,  0.,  1., -1.,  1., -1., -1.]])\n",
      "tensor([[ 0.,  0.,  0.,  0., -1.,  1., -1.,  1.,  1.]])\n",
      "tensor([[ 0.,  0.,  0.,  0., -1.,  1., -1.,  1.,  1.]])\n",
      "tensor([[ 1.,  0.,  0.,  0.,  1.,  0.,  1., -1., -1.]])\n",
      "tensor([[ 0.,  0.,  0.,  0.,  1.,  0.,  0.,  0., -1.]])\n",
      "tensor([[ 0.,  0.,  0.,  0.,  1.,  0.,  1.,  0., -1.]])\n",
      "tensor([[ 0.,  0.,  0.,  0., -1.,  1., -1.,  1.,  1.]])\n",
      "tensor([[ 0.,  0.,  0.,  0., -1.,  0., -1.,  1.,  1.]])\n",
      "tensor([[ 0.,  0.,  0.,  0., -1.,  0., -1.,  1.,  1.]])\n",
      "tensor([[ 0.,  0.,  0.,  0., -1.,  0.,  0.,  1.,  1.]])\n",
      "tensor([[0., 0., 0., 0., 0., 0., 0., 0., 1.]])\n",
      "tensor([[ 0.,  0.,  0.,  0., -1.,  0.,  0.,  1.,  1.]])\n",
      "tensor([[ 0.,  0.,  0.,  0.,  0.,  0.,  0., -1.,  1.]])\n",
      "tensor([[ 0.,  0.,  0.,  0., -1.,  0., -1.,  1.,  1.]])\n",
      "tensor([[ 1.,  0.,  0.,  0.,  1.,  0.,  0., -1., -1.]])\n",
      "tensor([[ 0.,  0.,  0.,  0.,  1.,  0.,  1.,  0., -1.]])\n",
      "tensor([[ 0.,  0.,  0.,  0., -1.,  0.,  0.,  0.,  1.]])\n",
      "tensor([[0., 0., 0., 0., 0., 0., 0., 0., 1.]])\n",
      "tensor([[ 0.,  0.,  0.,  0., -1.,  0.,  0.,  1.,  1.]])\n"
     ]
    },
    {
     "name": "stderr",
     "output_type": "stream",
     "text": [
      "\r",
      "  3%|█                                      | 286/10000 [00:10<05:06, 31.72it/s]"
     ]
    },
    {
     "name": "stdout",
     "output_type": "stream",
     "text": [
      "tensor([[ 1.,  0.,  0.,  0.,  1., -1.,  1., -1., -1.]])\n",
      "tensor([[ 0.,  0.,  0.,  0., -1.,  0.,  0.,  0.,  1.]])\n",
      "tensor([[0., 0., 0., 0., 0., 0., 0., 0., 1.]])\n",
      "tensor([[0., 0., 0., 0., 0., 0., 0., 0., 1.]])\n",
      "tensor([[1., 0., 0., 0., 0., 0., 0., 0., 0.]])\n",
      "tensor([[ 0.,  0.,  0.,  0., -1.,  0.,  0.,  1.,  1.]])\n",
      "tensor([[0., 0., 0., 0., 1., 0., 0., 0., 0.]])\n",
      "tensor([[ 1.,  0.,  0.,  0.,  1.,  0.,  0., -1., -1.]])\n",
      "tensor([[ 0.,  0.,  0.,  0., -1.,  1., -1.,  1.,  1.]])\n",
      "tensor([[ 0.,  0.,  0.,  0., -1.,  0.,  0.,  0.,  1.]])\n",
      "tensor([[ 0.,  0.,  0.,  0., -1.,  0.,  0.,  0.,  1.]])\n",
      "tensor([[ 0.,  0.,  0.,  0., -1.,  0.,  0.,  0.,  1.]])\n",
      "tensor([[ 0.,  0.,  0.,  0., -1.,  0.,  0.,  1.,  1.]])\n",
      "tensor([[0., 0., 0., 0., 0., 0., 1., 0., 0.]])\n",
      "tensor([[ 0.,  0.,  0.,  0.,  1.,  0.,  1.,  0., -1.]])\n",
      "tensor([[ 0.,  0.,  0.,  0., -1.,  1., -1.,  1.,  1.]])\n",
      "tensor([[ 0.,  0.,  0.,  0., -1.,  1., -1.,  1.,  1.]])\n",
      "tensor([[ 1.,  0.,  0.,  0.,  1.,  0.,  0., -1., -1.]])\n",
      "tensor([[ 0.,  0.,  0.,  0.,  0.,  0.,  0., -1.,  1.]])\n",
      "tensor([[0., 0., 0., 0., 0., 0., 0., 0., 1.]])\n",
      "tensor([[ 0.,  0.,  0.,  0.,  1.,  0., -1., -1.,  1.]])\n",
      "tensor([[ 0.,  0.,  0.,  0., -1.,  0., -1.,  1.,  1.]])\n",
      "tensor([[ 0.,  0.,  0.,  0.,  1.,  0.,  0.,  0., -1.]])\n",
      "tensor([[0., 0., 0., 0., 0., 0., 0., 0., 1.]])\n",
      "tensor([[ 0.,  0.,  0.,  0., -1.,  1., -1.,  1.,  1.]])\n",
      "tensor([[ 0.,  0.,  0.,  0., -1.,  0., -1.,  1.,  1.]])\n",
      "tensor([[ 0.,  0.,  1.,  0.,  0.,  0.,  0.,  0., -1.]])\n",
      "tensor([[ 0.,  0.,  0.,  0.,  1.,  0.,  1.,  0., -1.]])\n",
      "tensor([[0., 0., 0., 0., 0., 0., 0., 0., 1.]])\n",
      "tensor([[ 0.,  0.,  0.,  0., -1.,  0.,  0.,  1.,  1.]])\n",
      "tensor([[ 1.,  0.,  0.,  0.,  1.,  0.,  1., -1., -1.]])\n",
      "tensor([[ 0.,  0.,  0.,  0., -1.,  0., -1.,  1.,  1.]])\n",
      "tensor([[ 0.,  0.,  0.,  0., -1.,  0.,  0.,  0.,  1.]])\n"
     ]
    },
    {
     "name": "stderr",
     "output_type": "stream",
     "text": [
      "  3%|█▏                                     | 294/10000 [00:10<05:13, 30.93it/s]"
     ]
    },
    {
     "name": "stdout",
     "output_type": "stream",
     "text": [
      "tensor([[1., 0., 0., 0., 0., 0., 0., 0., 0.]])\n",
      "tensor([[0., 0., 0., 0., 0., 0., 0., 0., 1.]])\n",
      "tensor([[ 0.,  0.,  0.,  0.,  1.,  0.,  1., -1., -1.]])\n",
      "tensor([[ 0.,  0.,  1.,  0.,  0.,  0.,  0.,  0., -1.]])\n",
      "tensor([[ 0.,  0.,  1.,  0.,  1.,  0.,  0., -1., -1.]])\n",
      "tensor([[ 1.,  0.,  0.,  0.,  1.,  0.,  0., -1., -1.]])\n",
      "tensor([[ 0.,  0.,  0.,  0., -1.,  1., -1.,  1.,  1.]])\n",
      "tensor([[0., 0., 0., 0., 0., 0., 0., 0., 1.]])\n",
      "tensor([[ 0.,  0.,  0.,  0., -1.,  0., -1.,  1.,  1.]])\n",
      "tensor([[ 0.,  0.,  0.,  0.,  0.,  0.,  0., -1.,  1.]])\n",
      "tensor([[ 0.,  0.,  0.,  0., -1.,  0., -1.,  1.,  1.]])\n",
      "tensor([[ 1.,  0.,  0.,  0.,  1.,  0.,  1., -1., -1.]])\n",
      "tensor([[ 1.,  0.,  0.,  0.,  1.,  0.,  1., -1., -1.]])\n",
      "tensor([[1., 0., 0., 0., 0., 0., 0., 0., 0.]])\n",
      "tensor([[0., 0., 0., 0., 1., 0., 0., 0., 0.]])\n",
      "tensor([[ 0.,  0.,  0.,  0., -1.,  1., -1.,  1.,  1.]])\n",
      "tensor([[ 0.,  0.,  0.,  0., -1.,  0.,  0.,  1.,  1.]])\n",
      "tensor([[ 0.,  0.,  0.,  0., -1.,  0., -1.,  1.,  1.]])\n",
      "tensor([[ 1.,  0.,  0.,  0.,  1., -1.,  1., -1., -1.]])\n",
      "tensor([[ 0.,  0.,  0.,  0.,  0.,  0.,  1.,  0., -1.]])\n",
      "tensor([[0., 0., 0., 0., 0., 0., 0., 0., 1.]])\n",
      "tensor([[ 1.,  0.,  0.,  0.,  1.,  0.,  0.,  0., -1.]])\n",
      "tensor([[ 1.,  0.,  0.,  0.,  1., -1.,  1., -1., -1.]])\n",
      "tensor([[ 0.,  0.,  1.,  0.,  0.,  0.,  0.,  0., -1.]])\n",
      "tensor([[0., 0., 0., 0., 0., 0., 0., 0., 1.]])\n",
      "tensor([[ 0.,  0.,  1.,  0.,  1.,  0.,  0., -1., -1.]])\n",
      "tensor([[ 0.,  0.,  0.,  0., -1.,  0., -1.,  1.,  1.]])\n",
      "tensor([[0., 0., 0., 0., 0., 0., 0., 0., 1.]])\n",
      "tensor([[ 0.,  0.,  1.,  0.,  0.,  0.,  0.,  0., -1.]])\n",
      "tensor([[ 0.,  0.,  0.,  0., -1.,  0.,  0.,  1.,  1.]])\n",
      "tensor([[ 0.,  0.,  0.,  0.,  1.,  0., -1., -1.,  1.]])\n",
      "tensor([[1., 0., 0., 0., 0., 0., 0., 0., 0.]])\n",
      "tensor([[1., 0., 0., 0., 0., 0., 0., 0., 0.]])\n",
      "tensor([[0., 0., 0., 0., 0., 0., 0., 0., 1.]])\n"
     ]
    },
    {
     "name": "stderr",
     "output_type": "stream",
     "text": [
      "  3%|█▏                                     | 302/10000 [00:10<05:01, 32.12it/s]"
     ]
    },
    {
     "name": "stdout",
     "output_type": "stream",
     "text": [
      "tensor([[ 0.,  0.,  0.,  0., -1.,  0.,  0.,  0.,  1.]])\n",
      "tensor([[ 0.,  0.,  0.,  0., -1.,  0.,  0.,  1.,  1.]])\n",
      "tensor([[ 0.,  0.,  0.,  0., -1.,  1., -1.,  1.,  1.]])\n",
      "tensor([[ 0.,  0.,  0.,  0., -1.,  0., -1.,  1.,  1.]])\n",
      "tensor([[ 1.,  0.,  0.,  0.,  1.,  0.,  1., -1., -1.]])\n",
      "tensor([[ 0.,  0.,  0.,  0.,  1.,  0.,  0.,  0., -1.]])\n",
      "tensor([[ 1.,  0.,  0.,  0.,  1.,  0.,  0.,  0., -1.]])\n",
      "tensor([[ 0.,  0.,  0.,  0., -1.,  0., -1.,  1.,  1.]])\n",
      "tensor([[ 0.,  0.,  0.,  0.,  1.,  0.,  0., -1.,  1.]])\n",
      "tensor([[ 0.,  0.,  0.,  0.,  0.,  0.,  1.,  0., -1.]])\n",
      "tensor([[ 0.,  0.,  0.,  0.,  1.,  0., -1., -1.,  1.]])\n",
      "tensor([[ 1.,  0.,  0.,  0.,  1.,  0.,  0.,  0., -1.]])\n",
      "tensor([[1., 0., 0., 0., 0., 0., 0., 0., 0.]])\n",
      "tensor([[ 1.,  0.,  0.,  0.,  1.,  0.,  0., -1., -1.]])\n",
      "tensor([[ 1.,  0.,  0.,  0.,  1.,  0.,  1., -1., -1.]])\n",
      "tensor([[0., 0., 0., 0., 0., 0., 0., 0., 1.]])\n",
      "tensor([[ 0.,  0.,  0.,  0., -1.,  0.,  0.,  0.,  1.]])\n",
      "tensor([[0., 0., 1., 0., 0., 0., 0., 0., 0.]])\n",
      "tensor([[0., 0., 1., 0., 0., 0., 0., 0., 0.]])\n",
      "tensor([[ 1.,  0.,  0.,  0.,  1., -1.,  1., -1., -1.]])\n",
      "tensor([[ 0.,  0.,  0.,  0., -1.,  0., -1.,  1.,  1.]])\n",
      "tensor([[ 1.,  0.,  0.,  0.,  1.,  0.,  1., -1., -1.]])\n",
      "tensor([[ 0.,  0.,  1.,  0.,  1.,  0.,  0., -1., -1.]])\n",
      "tensor([[ 0.,  0.,  0.,  0., -1.,  0., -1.,  1.,  1.]])\n",
      "tensor([[ 0.,  0.,  0.,  0., -1.,  0., -1.,  1.,  1.]])\n",
      "tensor([[ 0.,  0.,  0.,  0., -1.,  0., -1.,  1.,  1.]])\n",
      "tensor([[ 0.,  0.,  0.,  0.,  0.,  0.,  0., -1.,  1.]])\n",
      "tensor([[1., 0., 0., 0., 0., 0., 0., 0., 0.]])\n",
      "tensor([[ 0.,  0.,  0.,  0., -1.,  0.,  0.,  0.,  1.]])\n",
      "tensor([[ 0.,  0.,  0.,  0., -1.,  1., -1.,  1.,  1.]])\n",
      "tensor([[ 0.,  0.,  0.,  0.,  1.,  0., -1., -1.,  1.]])\n",
      "tensor([[0., 0., 0., 0., 0., 0., 0., 0., 1.]])\n"
     ]
    },
    {
     "name": "stderr",
     "output_type": "stream",
     "text": [
      "\r",
      "  3%|█▏                                     | 306/10000 [00:10<05:10, 31.21it/s]"
     ]
    },
    {
     "name": "stdout",
     "output_type": "stream",
     "text": [
      "tensor([[ 0.,  0.,  0.,  0., -1.,  1., -1.,  1.,  1.]])\n",
      "tensor([[ 0.,  0.,  0.,  0., -1.,  1., -1.,  1.,  1.]])\n",
      "tensor([[ 1.,  0.,  0.,  0.,  1.,  0.,  0.,  0., -1.]])\n",
      "tensor([[ 1.,  0.,  0.,  0.,  1.,  0.,  0.,  0., -1.]])\n",
      "tensor([[0., 0., 0., 0., 1., 0., 0., 0., 0.]])\n",
      "tensor([[ 0.,  0.,  0.,  0.,  0.,  0.,  1.,  0., -1.]])\n",
      "tensor([[ 0.,  0.,  0.,  0., -1.,  0.,  0.,  0.,  1.]])\n",
      "tensor([[ 1.,  0.,  0.,  0.,  1., -1.,  1., -1., -1.]])\n",
      "tensor([[ 1.,  0.,  0.,  0.,  0.,  0.,  0.,  0., -1.]])\n",
      "tensor([[ 0.,  0.,  0.,  0., -1.,  0.,  0.,  1.,  1.]])\n",
      "tensor([[ 0.,  0.,  0.,  0.,  1.,  0.,  0.,  0., -1.]])\n",
      "tensor([[0., 0., 0., 0., 0., 0., 1., 0., 0.]])\n",
      "tensor([[ 0.,  0.,  0.,  0.,  0.,  0.,  0., -1.,  1.]])\n",
      "tensor([[ 0.,  0.,  1.,  0.,  0.,  0.,  0.,  0., -1.]])\n",
      "tensor([[ 0.,  0.,  0.,  0.,  1.,  0., -1., -1.,  1.]])\n",
      "tensor([[ 0.,  0.,  0.,  0., -1.,  1., -1.,  1.,  1.]])\n",
      "tensor([[ 1.,  0.,  0.,  0.,  1., -1.,  1., -1., -1.]])\n",
      "tensor([[ 0.,  0.,  0.,  0.,  1.,  0.,  0.,  0., -1.]])\n",
      "tensor([[ 0.,  0.,  0.,  0., -1.,  0., -1.,  1.,  1.]])\n",
      "tensor([[1., 0., 0., 0., 0., 0., 0., 0., 0.]])\n",
      "tensor([[0., 0., 1., 0., 0., 0., 0., 0., 0.]])\n",
      "tensor([[ 0.,  0.,  0.,  0., -1.,  1., -1.,  1.,  1.]])\n",
      "tensor([[ 1.,  0.,  0.,  0.,  1.,  0.,  0., -1., -1.]])\n",
      "tensor([[0., 0., 0., 0., 0., 0., 0., 0., 1.]])\n",
      "tensor([[0., 0., 0., 0., 0., 0., 0., 0., 1.]])\n",
      "tensor([[ 0.,  0.,  0.,  0., -1.,  0.,  0.,  0.,  1.]])\n",
      "tensor([[ 1.,  0.,  0.,  0.,  1., -1.,  1., -1., -1.]])\n",
      "tensor([[0., 0., 0., 0., 0., 0., 0., 0., 1.]])\n",
      "tensor([[ 1.,  0.,  0.,  0.,  1.,  0.,  1., -1., -1.]])\n",
      "tensor([[0., 0., 0., 0., 0., 0., 0., 0., 1.]])\n",
      "tensor([[ 0.,  0.,  0.,  0., -1.,  1., -1.,  1.,  1.]])\n",
      "tensor([[0., 0., 0., 0., 0., 0., 0., 0., 1.]])\n",
      "tensor([[ 0.,  0.,  0.,  0., -1.,  0.,  0.,  1.,  1.]])\n",
      "tensor([[ 1.,  0.,  0.,  0.,  1.,  0.,  0.,  0., -1.]])\n",
      "tensor([[ 0.,  0.,  0.,  0., -1.,  0.,  0.,  1.,  1.]])\n"
     ]
    },
    {
     "name": "stderr",
     "output_type": "stream",
     "text": [
      "  3%|█▏                                     | 314/10000 [00:11<05:28, 29.47it/s]"
     ]
    },
    {
     "name": "stdout",
     "output_type": "stream",
     "text": [
      "tensor([[ 1.,  0.,  0.,  0.,  1.,  0.,  0., -1., -1.]])\n",
      "tensor([[ 0.,  0.,  0.,  0., -1.,  1., -1.,  1.,  1.]])\n",
      "tensor([[ 1.,  0.,  0.,  0.,  1.,  0.,  0.,  0., -1.]])\n",
      "tensor([[ 0.,  0.,  0.,  0.,  1.,  0., -1., -1.,  1.]])\n",
      "tensor([[ 0.,  0.,  0.,  0., -1.,  0.,  0.,  0.,  1.]])\n",
      "tensor([[0., 0., 0., 0., 0., 0., 0., 0., 1.]])\n",
      "tensor([[0., 0., 1., 0., 0., 0., 0., 0., 0.]])\n",
      "tensor([[ 0.,  0.,  0.,  0., -1.,  1., -1.,  1.,  1.]])\n",
      "tensor([[ 0.,  0.,  0.,  0., -1.,  0.,  0.,  0.,  1.]])\n",
      "tensor([[ 0.,  0.,  0.,  0., -1.,  0.,  0.,  1.,  1.]])\n",
      "tensor([[ 0.,  0.,  0.,  0., -1.,  0.,  0.,  0.,  1.]])\n",
      "tensor([[ 1.,  0.,  0.,  0.,  1.,  0.,  1., -1., -1.]])\n",
      "tensor([[ 1.,  0.,  0.,  0.,  0.,  0.,  0.,  0., -1.]])\n",
      "tensor([[ 0.,  0.,  0.,  0., -1.,  0.,  0.,  0.,  1.]])\n",
      "tensor([[ 0.,  0.,  0.,  0., -1.,  0.,  0.,  1.,  1.]])\n",
      "tensor([[ 0.,  0.,  0.,  0.,  1.,  0.,  0., -1.,  1.]])\n",
      "tensor([[ 0.,  0.,  0.,  0.,  0.,  0.,  0., -1.,  1.]])\n",
      "tensor([[ 0.,  0.,  0.,  0., -1.,  0.,  0.,  1.,  1.]])\n",
      "tensor([[ 0.,  0.,  0.,  0., -1.,  0., -1.,  1.,  1.]])\n",
      "tensor([[ 0.,  0.,  0.,  0., -1.,  0., -1.,  1.,  1.]])\n",
      "tensor([[0., 0., 0., 0., 0., 0., 0., 0., 1.]])\n",
      "tensor([[ 0.,  0.,  0.,  0., -1.,  0., -1.,  1.,  1.]])\n",
      "tensor([[ 0.,  0.,  0.,  0., -1.,  0.,  0.,  1.,  1.]])\n",
      "tensor([[ 0.,  0.,  0.,  0., -1.,  0.,  0.,  0.,  1.]])\n",
      "tensor([[ 0.,  0.,  0.,  0., -1.,  0.,  0.,  1.,  1.]])\n",
      "tensor([[ 0.,  0.,  0.,  0., -1.,  0.,  0.,  1.,  1.]])\n",
      "tensor([[ 0.,  0.,  0.,  0., -1.,  1., -1.,  1.,  1.]])\n",
      "tensor([[ 0.,  0.,  0.,  0., -1.,  0., -1.,  1.,  1.]])\n"
     ]
    },
    {
     "name": "stderr",
     "output_type": "stream",
     "text": [
      "\r",
      "  3%|█▏                                     | 317/10000 [00:11<05:50, 27.60it/s]"
     ]
    },
    {
     "name": "stdout",
     "output_type": "stream",
     "text": [
      "tensor([[ 0.,  0.,  0.,  0., -1.,  0.,  0.,  0.,  1.]])\n",
      "tensor([[ 1.,  0.,  0.,  0.,  1.,  0.,  1., -1., -1.]])\n",
      "tensor([[ 0.,  0.,  0.,  0., -1.,  0.,  0.,  0.,  1.]])\n",
      "tensor([[0., 0., 0., 0., 0., 0., 0., 0., 1.]])\n",
      "tensor([[0., 0., 0., 0., 0., 0., 0., 0., 1.]])\n",
      "tensor([[ 0.,  0.,  0.,  0., -1.,  0., -1.,  1.,  1.]])\n",
      "tensor([[ 0.,  0.,  0.,  0., -1.,  1., -1.,  1.,  1.]])\n",
      "tensor([[ 1.,  0.,  0.,  0.,  0.,  0.,  0.,  0., -1.]])\n",
      "tensor([[ 0.,  0.,  1.,  0.,  1.,  0.,  0.,  0., -1.]])\n",
      "tensor([[0., 0., 0., 0., 0., 0., 0., 0., 1.]])\n",
      "tensor([[0., 0., 0., 0., 1., 0., 0., 0., 0.]])\n",
      "tensor([[ 1.,  0.,  0.,  0.,  1.,  0.,  1., -1., -1.]])\n",
      "tensor([[0., 0., 0., 0., 0., 0., 0., 0., 1.]])\n",
      "tensor([[0., 0., 1., 0., 0., 0., 0., 0., 0.]])\n",
      "tensor([[ 0.,  0.,  0.,  0., -1.,  0., -1.,  1.,  1.]])\n",
      "tensor([[ 0.,  0.,  0.,  0.,  1.,  0.,  0.,  0., -1.]])\n",
      "tensor([[ 0.,  0.,  0.,  0., -1.,  0.,  0.,  1.,  1.]])\n",
      "tensor([[1., 0., 0., 0., 0., 0., 0., 0., 0.]])\n",
      "tensor([[ 1.,  0.,  0.,  0.,  1., -1.,  1., -1., -1.]])\n",
      "tensor([[ 0.,  0.,  0.,  0., -1.,  0., -1.,  1.,  1.]])\n",
      "tensor([[1., 0., 0., 0., 0., 0., 0., 0., 0.]])\n",
      "tensor([[ 0.,  0.,  0.,  0., -1.,  0.,  0.,  1.,  1.]])\n"
     ]
    },
    {
     "name": "stderr",
     "output_type": "stream",
     "text": [
      "  3%|█▎                                     | 324/10000 [00:11<05:50, 27.60it/s]"
     ]
    },
    {
     "name": "stdout",
     "output_type": "stream",
     "text": [
      "tensor([[ 0.,  0.,  0.,  0., -1.,  1., -1.,  1.,  1.]])\n",
      "tensor([[ 0.,  0.,  0.,  0., -1.,  0.,  0.,  1.,  1.]])\n",
      "tensor([[ 0.,  0.,  0.,  0.,  0.,  0.,  1.,  0., -1.]])\n",
      "tensor([[ 0.,  0.,  0.,  0., -1.,  1., -1.,  1.,  1.]])\n",
      "tensor([[ 1.,  0.,  0.,  0.,  0.,  0.,  0.,  0., -1.]])\n",
      "tensor([[ 0.,  0.,  0.,  0.,  1.,  0., -1., -1.,  1.]])\n",
      "tensor([[ 1.,  0.,  0.,  0.,  0.,  0.,  0.,  0., -1.]])\n",
      "tensor([[ 1.,  0.,  0.,  0.,  1.,  0.,  0., -1., -1.]])\n",
      "tensor([[ 0.,  0.,  0.,  0., -1.,  0.,  0.,  1.,  1.]])\n",
      "tensor([[ 1.,  0.,  0.,  0.,  1.,  0.,  1., -1., -1.]])\n",
      "tensor([[ 0.,  0.,  0.,  0.,  1.,  0., -1., -1.,  1.]])\n",
      "tensor([[ 0.,  0.,  0.,  0.,  1.,  0.,  1., -1., -1.]])\n",
      "tensor([[ 0.,  0.,  0.,  0.,  1.,  0.,  1., -1., -1.]])\n",
      "tensor([[ 0.,  0.,  0.,  0.,  1.,  0.,  1.,  0., -1.]])\n",
      "tensor([[ 0.,  0.,  1.,  0.,  1.,  0.,  0.,  0., -1.]])\n",
      "tensor([[ 0.,  0.,  1.,  0.,  1.,  0.,  0., -1., -1.]])\n",
      "tensor([[ 0.,  0.,  0.,  0., -1.,  0., -1.,  1.,  1.]])\n",
      "tensor([[ 0.,  0.,  0.,  0., -1.,  0.,  0.,  1.,  1.]])\n",
      "tensor([[ 0.,  0.,  0.,  0., -1.,  0.,  0.,  0.,  1.]])\n",
      "tensor([[ 0.,  0.,  0.,  0., -1.,  1., -1.,  1.,  1.]])\n",
      "tensor([[ 0.,  0.,  0.,  0., -1.,  0., -1.,  1.,  1.]])\n",
      "tensor([[ 0.,  0.,  0.,  0., -1.,  0., -1.,  1.,  1.]])\n",
      "tensor([[ 0.,  0.,  1.,  0.,  0.,  0.,  0.,  0., -1.]])\n",
      "tensor([[ 1.,  0.,  0.,  0.,  1.,  0.,  0., -1., -1.]])\n",
      "tensor([[ 0.,  0.,  0.,  0., -1.,  0.,  0.,  0.,  1.]])\n",
      "tensor([[ 0.,  0.,  0.,  0., -1.,  0.,  0.,  1.,  1.]])\n",
      "tensor([[ 0.,  0.,  1.,  0.,  0.,  0.,  0.,  0., -1.]])\n",
      "tensor([[ 0.,  0.,  0.,  0., -1.,  0.,  0.,  1.,  1.]])\n",
      "tensor([[ 0.,  0.,  0.,  0., -1.,  0.,  0.,  1.,  1.]])\n",
      "tensor([[ 0.,  0.,  0.,  0., -1.,  0., -1.,  1.,  1.]])\n",
      "tensor([[0., 0., 0., 0., 0., 0., 0., 0., 1.]])\n",
      "tensor([[0., 0., 0., 0., 0., 0., 0., 0., 1.]])\n"
     ]
    },
    {
     "name": "stderr",
     "output_type": "stream",
     "text": [
      "  3%|█▎                                     | 330/10000 [00:11<05:57, 27.06it/s]"
     ]
    },
    {
     "name": "stdout",
     "output_type": "stream",
     "text": [
      "tensor([[0., 0., 0., 0., 0., 0., 0., 0., 1.]])\n",
      "tensor([[ 0.,  0.,  0.,  0., -1.,  1., -1.,  1.,  1.]])\n",
      "tensor([[0., 0., 0., 0., 0., 0., 0., 0., 1.]])\n",
      "tensor([[ 0.,  0.,  1.,  0.,  1.,  0.,  0.,  0., -1.]])\n",
      "tensor([[ 0.,  0.,  0.,  0.,  1.,  0., -1., -1.,  1.]])\n",
      "tensor([[ 0.,  0.,  0.,  0., -1.,  0.,  0.,  0.,  1.]])\n",
      "tensor([[ 0.,  0.,  0.,  0., -1.,  0., -1.,  1.,  1.]])\n",
      "tensor([[0., 0., 0., 0., 0., 0., 0., 0., 1.]])\n",
      "tensor([[0., 0., 0., 0., 0., 0., 0., 0., 1.]])\n",
      "tensor([[ 0.,  0.,  0.,  0., -1.,  1., -1.,  1.,  1.]])\n",
      "tensor([[0., 0., 0., 0., 0., 0., 0., 0., 1.]])\n",
      "tensor([[ 0.,  0.,  0.,  0., -1.,  0.,  0.,  0.,  1.]])\n",
      "tensor([[ 0.,  0.,  0.,  0., -1.,  0.,  0.,  1.,  1.]])\n",
      "tensor([[ 1.,  0.,  0.,  0.,  0.,  0.,  0.,  0., -1.]])\n",
      "tensor([[0., 0., 0., 0., 1., 0., 0., 0., 0.]])\n",
      "tensor([[ 1.,  0.,  0.,  0.,  0.,  0.,  0.,  0., -1.]])\n",
      "tensor([[ 0.,  0.,  0.,  0., -1.,  0., -1.,  1.,  1.]])\n",
      "tensor([[ 0.,  0.,  0.,  0., -1.,  0.,  0.,  0.,  1.]])\n",
      "tensor([[0., 0., 0., 0., 0., 0., 0., 0., 1.]])\n",
      "tensor([[ 1.,  0.,  0.,  0.,  1.,  0.,  1., -1., -1.]])\n",
      "tensor([[ 1.,  0.,  0.,  0.,  1.,  0.,  1., -1., -1.]])\n",
      "tensor([[ 1.,  0.,  0.,  0.,  1.,  0.,  0., -1., -1.]])\n",
      "tensor([[ 1.,  0.,  0.,  0.,  1., -1.,  1., -1., -1.]])\n",
      "tensor([[ 0.,  0.,  0.,  0.,  1.,  0.,  1.,  0., -1.]])\n"
     ]
    },
    {
     "name": "stderr",
     "output_type": "stream",
     "text": [
      "\r",
      "  3%|█▎                                     | 333/10000 [00:11<07:34, 21.28it/s]"
     ]
    },
    {
     "name": "stdout",
     "output_type": "stream",
     "text": [
      "tensor([[ 0.,  0.,  0.,  0.,  1.,  0.,  0.,  0., -1.]])\n",
      "tensor([[ 0.,  0.,  0.,  0., -1.,  0.,  0.,  0.,  1.]])\n",
      "tensor([[ 0.,  0.,  0.,  0., -1.,  0., -1.,  1.,  1.]])\n",
      "tensor([[0., 0., 0., 0., 0., 0., 0., 0., 1.]])\n",
      "tensor([[ 0.,  0.,  0.,  0.,  0.,  0.,  0., -1.,  1.]])\n",
      "tensor([[ 1.,  0.,  0.,  0.,  1., -1.,  1., -1., -1.]])\n",
      "tensor([[0., 0., 0., 0., 0., 0., 0., 0., 1.]])\n",
      "tensor([[0., 0., 0., 0., 0., 0., 1., 0., 0.]])\n",
      "tensor([[ 0.,  0.,  0.,  0., -1.,  0.,  0.,  1.,  1.]])\n",
      "tensor([[0., 0., 0., 0., 0., 0., 0., 0., 1.]])\n",
      "tensor([[ 1.,  0.,  0.,  0.,  1., -1.,  1., -1., -1.]])\n",
      "tensor([[ 0.,  0.,  0.,  0.,  1.,  0.,  1., -1., -1.]])\n",
      "tensor([[ 1.,  0.,  0.,  0.,  1.,  0.,  0.,  0., -1.]])\n",
      "tensor([[ 0.,  0.,  0.,  0.,  0.,  0.,  0., -1.,  1.]])\n",
      "tensor([[ 0.,  0.,  0.,  0., -1.,  0.,  0.,  1.,  1.]])\n"
     ]
    },
    {
     "name": "stderr",
     "output_type": "stream",
     "text": [
      "\r",
      "  3%|█▎                                     | 336/10000 [00:12<08:42, 18.49it/s]"
     ]
    },
    {
     "name": "stdout",
     "output_type": "stream",
     "text": [
      "tensor([[ 1.,  0.,  0.,  0.,  1., -1.,  1., -1., -1.]])\n",
      "tensor([[ 0.,  0.,  0.,  0., -1.,  0.,  0.,  1.,  1.]])\n",
      "tensor([[ 0.,  0.,  0.,  0.,  0.,  0.,  1.,  0., -1.]])\n",
      "tensor([[ 1.,  0.,  0.,  0.,  0.,  0.,  0.,  0., -1.]])\n",
      "tensor([[ 0.,  0.,  1.,  0.,  0.,  0.,  0.,  0., -1.]])\n",
      "tensor([[0., 0., 0., 0., 0., 0., 0., 0., 1.]])\n",
      "tensor([[0., 0., 0., 0., 0., 0., 0., 0., 1.]])\n",
      "tensor([[ 0.,  0.,  0.,  0., -1.,  0., -1.,  1.,  1.]])\n",
      "tensor([[ 0.,  0.,  0.,  0., -1.,  0.,  0.,  1.,  1.]])\n",
      "tensor([[ 1.,  0.,  0.,  0.,  1.,  0.,  0., -1., -1.]])\n",
      "tensor([[ 0.,  0.,  0.,  0., -1.,  1., -1.,  1.,  1.]])\n",
      "tensor([[ 0.,  0.,  0.,  0., -1.,  0.,  0.,  1.,  1.]])\n",
      "tensor([[ 1.,  0.,  0.,  0.,  1.,  0.,  1., -1., -1.]])\n",
      "tensor([[ 1.,  0.,  0.,  0.,  1.,  0.,  0., -1., -1.]])\n",
      "tensor([[ 0.,  0.,  0.,  0., -1.,  0., -1.,  1.,  1.]])\n",
      "tensor([[ 0.,  0.,  0.,  0.,  0.,  0.,  0., -1.,  1.]])\n"
     ]
    },
    {
     "name": "stderr",
     "output_type": "stream",
     "text": [
      "\r",
      "  3%|█▎                                     | 339/10000 [00:12<08:44, 18.42it/s]"
     ]
    },
    {
     "name": "stdout",
     "output_type": "stream",
     "text": [
      "tensor([[ 1.,  0.,  0.,  0.,  1.,  0.,  0., -1., -1.]])\n",
      "tensor([[ 0.,  0.,  0.,  0., -1.,  0., -1.,  1.,  1.]])\n",
      "tensor([[ 0.,  0.,  0.,  0., -1.,  0.,  0.,  1.,  1.]])\n",
      "tensor([[ 1.,  0.,  0.,  0.,  1., -1.,  1., -1., -1.]])\n",
      "tensor([[1., 0., 0., 0., 0., 0., 0., 0., 0.]])\n",
      "tensor([[ 0.,  0.,  0.,  0.,  1.,  0.,  1.,  0., -1.]])\n",
      "tensor([[ 1.,  0.,  0.,  0.,  0.,  0.,  0.,  0., -1.]])\n",
      "tensor([[ 0.,  0.,  0.,  0., -1.,  1., -1.,  1.,  1.]])\n",
      "tensor([[ 0.,  0.,  1.,  0.,  1.,  0.,  0.,  0., -1.]])\n",
      "tensor([[1., 0., 0., 0., 0., 0., 0., 0., 0.]])\n",
      "tensor([[ 0.,  0.,  0.,  0., -1.,  0., -1.,  1.,  1.]])\n",
      "tensor([[ 0.,  0.,  0.,  0., -1.,  0.,  0.,  1.,  1.]])\n",
      "tensor([[ 1.,  0.,  0.,  0.,  1.,  0.,  0., -1., -1.]])\n",
      "tensor([[ 0.,  0.,  1.,  0.,  1.,  0.,  0.,  0., -1.]])\n",
      "tensor([[0., 0., 0., 0., 0., 0., 0., 0., 1.]])\n"
     ]
    },
    {
     "name": "stderr",
     "output_type": "stream",
     "text": [
      "  3%|█▎                                     | 344/10000 [00:12<08:18, 19.37it/s]"
     ]
    },
    {
     "name": "stdout",
     "output_type": "stream",
     "text": [
      "tensor([[ 0.,  0.,  0.,  0., -1.,  0.,  0.,  1.,  1.]])\n",
      "tensor([[ 0.,  0.,  0.,  0., -1.,  0.,  0.,  1.,  1.]])\n",
      "tensor([[ 0.,  0.,  0.,  0., -1.,  0.,  0.,  1.,  1.]])\n",
      "tensor([[ 0.,  0.,  0.,  0., -1.,  0.,  0.,  0.,  1.]])\n",
      "tensor([[ 0.,  0.,  0.,  0., -1.,  0.,  0.,  1.,  1.]])\n",
      "tensor([[0., 0., 0., 0., 0., 0., 0., 0., 1.]])\n",
      "tensor([[ 0.,  0.,  1.,  0.,  0.,  0.,  0.,  0., -1.]])\n",
      "tensor([[ 0.,  0.,  0.,  0., -1.,  0., -1.,  1.,  1.]])\n",
      "tensor([[ 0.,  0.,  0.,  0., -1.,  0., -1.,  1.,  1.]])\n",
      "tensor([[ 1.,  0.,  0.,  0.,  1.,  0.,  1., -1., -1.]])\n",
      "tensor([[ 0.,  0.,  0.,  0., -1.,  1., -1.,  1.,  1.]])\n",
      "tensor([[ 0.,  0.,  0.,  0., -1.,  0., -1.,  1.,  1.]])\n",
      "tensor([[ 0.,  0.,  0.,  0.,  1.,  0., -1., -1.,  1.]])\n",
      "tensor([[ 0.,  0.,  0.,  0.,  0.,  0.,  1.,  0., -1.]])\n",
      "tensor([[0., 0., 0., 0., 0., 0., 0., 0., 1.]])\n",
      "tensor([[ 0.,  0.,  0.,  0., -1.,  0.,  0.,  0.,  1.]])\n",
      "tensor([[ 0.,  0.,  0.,  0., -1.,  0., -1.,  1.,  1.]])\n",
      "tensor([[ 0.,  0.,  0.,  0.,  0.,  0.,  1.,  0., -1.]])\n",
      "tensor([[ 0.,  0.,  0.,  0., -1.,  0.,  0.,  1.,  1.]])\n",
      "tensor([[ 0.,  0.,  0.,  0., -1.,  1., -1.,  1.,  1.]])\n",
      "tensor([[ 0.,  0.,  0.,  0., -1.,  0.,  0.,  1.,  1.]])\n",
      "tensor([[ 0.,  0.,  0.,  0., -1.,  0.,  0.,  0.,  1.]])\n",
      "tensor([[ 0.,  0.,  0.,  0., -1.,  1., -1.,  1.,  1.]])\n",
      "tensor([[0., 0., 1., 0., 0., 0., 0., 0., 0.]])\n",
      "tensor([[ 0.,  0.,  0.,  0.,  1.,  0.,  0., -1.,  1.]])\n",
      "tensor([[ 1.,  0.,  0.,  0.,  1., -1.,  1., -1., -1.]])\n"
     ]
    },
    {
     "name": "stderr",
     "output_type": "stream",
     "text": [
      "\r",
      "  3%|█▎                                     | 347/10000 [00:12<07:48, 20.60it/s]"
     ]
    },
    {
     "name": "stdout",
     "output_type": "stream",
     "text": [
      "tensor([[ 1.,  0.,  0.,  0.,  0.,  0.,  0.,  0., -1.]])\n",
      "tensor([[ 0.,  0.,  0.,  0., -1.,  0.,  0.,  1.,  1.]])\n",
      "tensor([[ 0.,  0.,  0.,  0.,  1.,  0., -1., -1.,  1.]])\n",
      "tensor([[ 0.,  0.,  0.,  0.,  1.,  0., -1., -1.,  1.]])\n",
      "tensor([[ 0.,  0.,  0.,  0.,  0.,  0.,  1.,  0., -1.]])\n",
      "tensor([[ 0.,  0.,  0.,  0., -1.,  0., -1.,  1.,  1.]])\n",
      "tensor([[ 0.,  0.,  0.,  0., -1.,  0.,  0.,  1.,  1.]])\n",
      "tensor([[ 0.,  0.,  0.,  0., -1.,  0., -1.,  1.,  1.]])\n",
      "tensor([[ 1.,  0.,  0.,  0.,  0.,  0.,  0.,  0., -1.]])\n",
      "tensor([[ 0.,  0.,  0.,  0., -1.,  1., -1.,  1.,  1.]])\n",
      "tensor([[ 0.,  0.,  0.,  0., -1.,  0.,  0.,  1.,  1.]])\n",
      "tensor([[ 1.,  0.,  0.,  0.,  0.,  0.,  0.,  0., -1.]])\n",
      "tensor([[0., 0., 0., 0., 0., 0., 1., 0., 0.]])\n",
      "tensor([[ 0.,  0.,  0.,  0.,  1.,  0., -1., -1.,  1.]])\n",
      "tensor([[0., 0., 0., 0., 0., 0., 0., 0., 1.]])\n",
      "tensor([[ 0.,  0.,  0.,  0., -1.,  0., -1.,  1.,  1.]])\n",
      "tensor([[0., 0., 0., 0., 0., 0., 0., 0., 1.]])\n",
      "tensor([[ 0.,  0.,  0.,  0.,  1.,  0.,  0.,  0., -1.]])\n",
      "tensor([[ 0.,  0.,  0.,  0., -1.,  0.,  0.,  1.,  1.]])\n"
     ]
    },
    {
     "name": "stderr",
     "output_type": "stream",
     "text": [
      "  4%|█▎                                     | 352/10000 [00:12<08:42, 18.45it/s]"
     ]
    },
    {
     "name": "stdout",
     "output_type": "stream",
     "text": [
      "tensor([[ 0.,  0.,  1.,  0.,  1.,  0.,  0., -1., -1.]])\n",
      "tensor([[1., 0., 0., 0., 0., 0., 0., 0., 0.]])\n",
      "tensor([[0., 0., 0., 0., 0., 0., 0., 0., 1.]])\n",
      "tensor([[ 1.,  0.,  0.,  0.,  1., -1.,  1., -1., -1.]])\n",
      "tensor([[ 1.,  0.,  0.,  0.,  0.,  0.,  0.,  0., -1.]])\n",
      "tensor([[0., 0., 0., 0., 0., 0., 1., 0., 0.]])\n",
      "tensor([[ 0.,  0.,  0.,  0., -1.,  0.,  0.,  0.,  1.]])\n",
      "tensor([[ 0.,  0.,  0.,  0.,  1.,  0.,  0.,  0., -1.]])\n",
      "tensor([[ 0.,  0.,  0.,  0.,  0.,  0.,  1.,  0., -1.]])\n",
      "tensor([[ 0.,  0.,  0.,  0.,  0.,  0.,  1.,  0., -1.]])\n",
      "tensor([[ 0.,  0.,  0.,  0., -1.,  0.,  0.,  0.,  1.]])\n",
      "tensor([[ 0.,  0.,  0.,  0., -1.,  0.,  0.,  0.,  1.]])\n",
      "tensor([[ 0.,  0.,  0.,  0.,  1.,  0., -1., -1.,  1.]])\n",
      "tensor([[ 0.,  0.,  1.,  0.,  1.,  0.,  0.,  0., -1.]])\n",
      "tensor([[ 0.,  0.,  0.,  0., -1.,  0.,  0.,  1.,  1.]])\n",
      "tensor([[ 1.,  0.,  0.,  0.,  1.,  0.,  1., -1., -1.]])\n",
      "tensor([[0., 0., 0., 0., 1., 0., 0., 0., 0.]])\n",
      "tensor([[0., 0., 0., 0., 0., 0., 0., 0., 1.]])\n"
     ]
    },
    {
     "name": "stderr",
     "output_type": "stream",
     "text": [
      "  4%|█▍                                     | 358/10000 [00:13<07:03, 22.77it/s]"
     ]
    },
    {
     "name": "stdout",
     "output_type": "stream",
     "text": [
      "tensor([[ 0.,  0.,  0.,  0.,  0.,  0.,  1.,  0., -1.]])\n",
      "tensor([[ 0.,  0.,  0.,  0., -1.,  0., -1.,  1.,  1.]])\n",
      "tensor([[ 0.,  0.,  0.,  0., -1.,  0.,  0.,  1.,  1.]])\n",
      "tensor([[0., 0., 0., 0., 0., 0., 0., 0., 1.]])\n",
      "tensor([[0., 0., 1., 0., 0., 0., 0., 0., 0.]])\n",
      "tensor([[0., 0., 0., 0., 0., 0., 0., 0., 1.]])\n",
      "tensor([[ 1.,  0.,  0.,  0.,  1.,  0.,  1., -1., -1.]])\n",
      "tensor([[ 1.,  0.,  0.,  0.,  1.,  0.,  0., -1., -1.]])\n",
      "tensor([[ 0.,  0.,  0.,  0., -1.,  0., -1.,  1.,  1.]])\n",
      "tensor([[ 0.,  0.,  0.,  0., -1.,  1., -1.,  1.,  1.]])\n",
      "tensor([[ 0.,  0.,  0.,  0., -1.,  1., -1.,  1.,  1.]])\n",
      "tensor([[0., 0., 0., 0., 0., 0., 0., 0., 1.]])\n",
      "tensor([[ 0.,  0.,  0.,  0., -1.,  1., -1.,  1.,  1.]])\n",
      "tensor([[ 0.,  0.,  0.,  0., -1.,  1., -1.,  1.,  1.]])\n",
      "tensor([[ 0.,  0.,  0.,  0., -1.,  0.,  0.,  0.,  1.]])\n",
      "tensor([[ 1.,  0.,  0.,  0.,  1.,  0.,  0.,  0., -1.]])\n",
      "tensor([[ 0.,  0.,  0.,  0.,  1.,  0.,  0., -1.,  1.]])\n",
      "tensor([[ 0.,  0.,  0.,  0.,  0.,  0.,  0., -1.,  1.]])\n",
      "tensor([[ 0.,  0.,  0.,  0., -1.,  0.,  0.,  1.,  1.]])\n",
      "tensor([[1., 0., 0., 0., 0., 0., 0., 0., 0.]])\n",
      "tensor([[ 0.,  0.,  0.,  0., -1.,  0.,  0.,  1.,  1.]])\n",
      "tensor([[0., 0., 0., 0., 0., 0., 0., 0., 1.]])\n",
      "tensor([[0., 0., 0., 0., 1., 0., 0., 0., 0.]])\n",
      "tensor([[ 0.,  0.,  0.,  0., -1.,  0., -1.,  1.,  1.]])\n",
      "tensor([[0., 0., 0., 0., 0., 0., 0., 0., 1.]])\n",
      "tensor([[ 0.,  0.,  0.,  0., -1.,  1., -1.,  1.,  1.]])\n",
      "tensor([[ 1.,  0.,  0.,  0.,  1.,  0.,  1., -1., -1.]])\n",
      "tensor([[ 0.,  0.,  0.,  0., -1.,  0., -1.,  1.,  1.]])\n",
      "tensor([[ 0.,  0.,  0.,  0., -1.,  0.,  0.,  0.,  1.]])\n",
      "tensor([[ 0.,  0.,  1.,  0.,  1.,  0.,  0.,  0., -1.]])\n",
      "tensor([[ 0.,  0.,  1.,  0.,  1.,  0.,  0.,  0., -1.]])\n",
      "tensor([[ 1.,  0.,  0.,  0.,  1.,  0.,  0.,  0., -1.]])\n",
      "tensor([[ 0.,  0.,  0.,  0., -1.,  0., -1.,  1.,  1.]])\n",
      "tensor([[ 0.,  0.,  0.,  0.,  1.,  0., -1., -1.,  1.]])\n"
     ]
    },
    {
     "name": "stderr",
     "output_type": "stream",
     "text": [
      "\r",
      "  4%|█▍                                     | 362/10000 [00:13<06:16, 25.60it/s]"
     ]
    },
    {
     "name": "stdout",
     "output_type": "stream",
     "text": [
      "tensor([[ 1.,  0.,  0.,  0.,  1.,  0.,  0.,  0., -1.]])\n",
      "tensor([[ 0.,  0.,  0.,  0., -1.,  0.,  0.,  1.,  1.]])\n",
      "tensor([[0., 0., 0., 0., 0., 0., 0., 0., 1.]])\n",
      "tensor([[ 0.,  0.,  0.,  0.,  1.,  0.,  1., -1., -1.]])\n",
      "tensor([[ 0.,  0.,  0.,  0.,  0.,  0.,  1.,  0., -1.]])\n",
      "tensor([[ 0.,  0.,  0.,  0., -1.,  0., -1.,  1.,  1.]])\n",
      "tensor([[ 0.,  0.,  0.,  0., -1.,  0.,  0.,  1.,  1.]])\n",
      "tensor([[0., 0., 0., 0., 0., 0., 0., 0., 1.]])\n",
      "tensor([[ 0.,  0.,  0.,  0.,  1.,  0.,  1., -1., -1.]])\n",
      "tensor([[1., 0., 0., 0., 0., 0., 0., 0., 0.]])\n",
      "tensor([[ 1.,  0.,  0.,  0.,  1.,  0.,  1., -1., -1.]])\n",
      "tensor([[ 0.,  0.,  0.,  0.,  0.,  0.,  1.,  0., -1.]])\n",
      "tensor([[0., 0., 0., 0., 0., 0., 1., 0., 0.]])\n",
      "tensor([[ 0.,  0.,  0.,  0.,  1.,  0.,  0.,  0., -1.]])\n",
      "tensor([[ 1.,  0.,  0.,  0.,  0.,  0.,  0.,  0., -1.]])\n",
      "tensor([[ 0.,  0.,  0.,  0.,  1.,  0.,  1., -1., -1.]])\n",
      "tensor([[ 0.,  0.,  0.,  0., -1.,  0.,  0.,  1.,  1.]])\n",
      "tensor([[0., 0., 0., 0., 0., 0., 0., 0., 1.]])\n",
      "tensor([[ 0.,  0.,  0.,  0., -1.,  0.,  0.,  0.,  1.]])\n",
      "tensor([[ 0.,  0.,  0.,  0.,  1.,  0.,  0., -1.,  1.]])\n",
      "tensor([[ 0.,  0.,  0.,  0.,  1.,  0., -1., -1.,  1.]])\n",
      "tensor([[ 1.,  0.,  0.,  0.,  1., -1.,  1., -1., -1.]])\n",
      "tensor([[1., 0., 0., 0., 0., 0., 0., 0., 0.]])\n",
      "tensor([[0., 0., 0., 0., 0., 0., 0., 0., 1.]])\n",
      "tensor([[ 1.,  0.,  0.,  0.,  1.,  0.,  1., -1., -1.]])\n",
      "tensor([[ 0.,  0.,  0.,  0., -1.,  1., -1.,  1.,  1.]])\n",
      "tensor([[ 0.,  0.,  1.,  0.,  1.,  0.,  0.,  0., -1.]])\n",
      "tensor([[ 1.,  0.,  0.,  0.,  1.,  0.,  1., -1., -1.]])\n",
      "tensor([[ 0.,  0.,  1.,  0.,  0.,  0.,  0.,  0., -1.]])\n",
      "tensor([[ 0.,  0.,  0.,  0., -1.,  0., -1.,  1.,  1.]])\n",
      "tensor([[ 0.,  0.,  0.,  0.,  1.,  0.,  1.,  0., -1.]])\n",
      "tensor([[ 0.,  0.,  0.,  0., -1.,  0., -1.,  1.,  1.]])\n",
      "tensor([[0., 0., 0., 0., 0., 0., 0., 0., 1.]])\n"
     ]
    },
    {
     "name": "stderr",
     "output_type": "stream",
     "text": [
      "  4%|█▍                                     | 370/10000 [00:13<05:33, 28.87it/s]"
     ]
    },
    {
     "name": "stdout",
     "output_type": "stream",
     "text": [
      "tensor([[ 1.,  0.,  0.,  0.,  1.,  0.,  0.,  0., -1.]])\n",
      "tensor([[ 0.,  0.,  0.,  0.,  1.,  0.,  1.,  0., -1.]])\n",
      "tensor([[ 0.,  0.,  1.,  0.,  1.,  0.,  0.,  0., -1.]])\n",
      "tensor([[ 0.,  0.,  0.,  0.,  1.,  0.,  1., -1., -1.]])\n",
      "tensor([[0., 0., 0., 0., 0., 0., 0., 0., 1.]])\n",
      "tensor([[1., 0., 0., 0., 0., 0., 0., 0., 0.]])\n",
      "tensor([[ 0.,  0.,  1.,  0.,  1.,  0.,  0., -1., -1.]])\n",
      "tensor([[ 1.,  0.,  0.,  0.,  1., -1.,  1., -1., -1.]])\n",
      "tensor([[ 0.,  0.,  0.,  0.,  1.,  0.,  0., -1.,  1.]])\n",
      "tensor([[ 0.,  0.,  0.,  0.,  0.,  0.,  1.,  0., -1.]])\n",
      "tensor([[ 0.,  0.,  0.,  0., -1.,  0.,  0.,  1.,  1.]])\n",
      "tensor([[0., 0., 0., 0., 0., 0., 0., 0., 1.]])\n",
      "tensor([[ 1.,  0.,  0.,  0.,  1.,  0.,  0., -1., -1.]])\n",
      "tensor([[ 0.,  0.,  0.,  0., -1.,  1., -1.,  1.,  1.]])\n",
      "tensor([[ 0.,  0.,  0.,  0.,  1.,  0., -1., -1.,  1.]])\n",
      "tensor([[ 0.,  0.,  0.,  0., -1.,  1., -1.,  1.,  1.]])\n",
      "tensor([[ 0.,  0.,  0.,  0., -1.,  1., -1.,  1.,  1.]])\n",
      "tensor([[ 0.,  0.,  0.,  0.,  0.,  0.,  1.,  0., -1.]])\n",
      "tensor([[ 0.,  0.,  0.,  0., -1.,  0.,  0.,  0.,  1.]])\n",
      "tensor([[ 1.,  0.,  0.,  0.,  1.,  0.,  0., -1., -1.]])\n",
      "tensor([[ 1.,  0.,  0.,  0.,  1.,  0.,  0.,  0., -1.]])\n",
      "tensor([[0., 0., 0., 0., 0., 0., 0., 0., 1.]])\n",
      "tensor([[ 0.,  0.,  0.,  0., -1.,  1., -1.,  1.,  1.]])\n",
      "tensor([[ 1.,  0.,  0.,  0.,  1.,  0.,  0., -1., -1.]])\n",
      "tensor([[ 0.,  0.,  0.,  0., -1.,  0., -1.,  1.,  1.]])\n",
      "tensor([[ 0.,  0.,  1.,  0.,  1.,  0.,  0., -1., -1.]])\n",
      "tensor([[ 0.,  0.,  0.,  0., -1.,  0.,  0.,  1.,  1.]])\n"
     ]
    },
    {
     "name": "stderr",
     "output_type": "stream",
     "text": [
      "\r",
      "  4%|█▍                                     | 373/10000 [00:13<07:39, 20.94it/s]"
     ]
    },
    {
     "name": "stdout",
     "output_type": "stream",
     "text": [
      "tensor([[ 1.,  0.,  0.,  0.,  1.,  0.,  0., -1., -1.]])\n",
      "tensor([[0., 0., 0., 0., 0., 0., 0., 0., 1.]])\n",
      "tensor([[ 0.,  0.,  0.,  0., -1.,  1., -1.,  1.,  1.]])\n",
      "tensor([[1., 0., 0., 0., 0., 0., 0., 0., 0.]])\n",
      "tensor([[ 1.,  0.,  0.,  0.,  1.,  0.,  0.,  0., -1.]])\n",
      "tensor([[ 0.,  0.,  0.,  0., -1.,  0.,  0.,  1.,  1.]])\n",
      "tensor([[0., 0., 0., 0., 0., 0., 0., 0., 1.]])\n",
      "tensor([[0., 0., 0., 0., 0., 0., 0., 0., 1.]])\n",
      "tensor([[ 0.,  0.,  0.,  0.,  0.,  0.,  0., -1.,  1.]])\n",
      "tensor([[ 1.,  0.,  0.,  0.,  1.,  0.,  0., -1., -1.]])\n",
      "tensor([[ 0.,  0.,  0.,  0.,  1.,  0.,  1.,  0., -1.]])\n",
      "tensor([[ 1.,  0.,  0.,  0.,  1.,  0.,  1., -1., -1.]])\n",
      "tensor([[ 1.,  0.,  0.,  0.,  1.,  0.,  1., -1., -1.]])\n",
      "tensor([[ 1.,  0.,  0.,  0.,  1.,  0.,  1., -1., -1.]])\n"
     ]
    },
    {
     "name": "stderr",
     "output_type": "stream",
     "text": [
      "\r",
      "  4%|█▍                                     | 376/10000 [00:13<08:19, 19.27it/s]"
     ]
    },
    {
     "name": "stdout",
     "output_type": "stream",
     "text": [
      "tensor([[0., 0., 0., 0., 0., 0., 0., 0., 1.]])\n",
      "tensor([[ 0.,  0.,  0.,  0., -1.,  1., -1.,  1.,  1.]])\n",
      "tensor([[0., 0., 0., 0., 0., 0., 0., 0., 1.]])\n",
      "tensor([[ 0.,  0.,  0.,  0., -1.,  0.,  0.,  1.,  1.]])\n",
      "tensor([[ 0.,  0.,  0.,  0., -1.,  0.,  0.,  0.,  1.]])\n",
      "tensor([[ 0.,  0.,  0.,  0.,  1.,  0.,  1., -1., -1.]])\n",
      "tensor([[ 0.,  0.,  0.,  0.,  1.,  0.,  1., -1., -1.]])\n",
      "tensor([[ 0.,  0.,  0.,  0., -1.,  0., -1.,  1.,  1.]])\n",
      "tensor([[0., 0., 0., 0., 0., 0., 0., 0., 1.]])\n",
      "tensor([[ 1.,  0.,  0.,  0.,  1.,  0.,  0., -1., -1.]])\n",
      "tensor([[ 0.,  0.,  0.,  0., -1.,  0.,  0.,  1.,  1.]])\n",
      "tensor([[ 0.,  0.,  0.,  0., -1.,  1., -1.,  1.,  1.]])\n",
      "tensor([[ 0.,  0.,  0.,  0.,  1.,  0.,  1.,  0., -1.]])\n",
      "tensor([[0., 0., 0., 0., 0., 0., 0., 0., 1.]])\n",
      "tensor([[0., 0., 0., 0., 0., 0., 0., 0., 1.]])\n",
      "tensor([[ 1.,  0.,  0.,  0.,  1.,  0.,  1., -1., -1.]])\n",
      "tensor([[0., 0., 0., 0., 0., 0., 0., 0., 1.]])\n",
      "tensor([[ 1.,  0.,  0.,  0.,  0.,  0.,  0.,  0., -1.]])\n",
      "tensor([[ 0.,  0.,  0.,  0., -1.,  0., -1.,  1.,  1.]])\n",
      "tensor([[ 1.,  0.,  0.,  0.,  1.,  0.,  0.,  0., -1.]])\n",
      "tensor([[ 0.,  0.,  0.,  0., -1.,  1., -1.,  1.,  1.]])\n",
      "tensor([[ 1.,  0.,  0.,  0.,  1.,  0.,  0.,  0., -1.]])\n",
      "tensor([[ 0.,  0.,  0.,  0., -1.,  0.,  0.,  0.,  1.]])\n",
      "tensor([[ 1.,  0.,  0.,  0.,  1.,  0.,  0., -1., -1.]])\n"
     ]
    },
    {
     "name": "stderr",
     "output_type": "stream",
     "text": [
      "  4%|█▍                                     | 383/10000 [00:14<06:34, 24.35it/s]"
     ]
    },
    {
     "name": "stdout",
     "output_type": "stream",
     "text": [
      "tensor([[ 0.,  0.,  1.,  0.,  1.,  0.,  0., -1., -1.]])\n",
      "tensor([[ 0.,  0.,  0.,  0., -1.,  0.,  0.,  0.,  1.]])\n",
      "tensor([[0., 0., 0., 0., 0., 0., 0., 0., 1.]])\n",
      "tensor([[ 0.,  0.,  0.,  0.,  1.,  0.,  0., -1.,  1.]])\n",
      "tensor([[ 1.,  0.,  0.,  0.,  1.,  0.,  0., -1., -1.]])\n",
      "tensor([[ 0.,  0.,  0.,  0., -1.,  0.,  0.,  1.,  1.]])\n",
      "tensor([[ 0.,  0.,  0.,  0.,  1.,  0., -1., -1.,  1.]])\n",
      "tensor([[ 0.,  0.,  0.,  0., -1.,  0.,  0.,  1.,  1.]])\n",
      "tensor([[ 0.,  0.,  0.,  0., -1.,  0., -1.,  1.,  1.]])\n",
      "tensor([[ 1.,  0.,  0.,  0.,  1., -1.,  1., -1., -1.]])\n",
      "tensor([[ 0.,  0.,  1.,  0.,  1.,  0.,  0., -1., -1.]])\n",
      "tensor([[ 0.,  0.,  0.,  0., -1.,  0.,  0.,  1.,  1.]])\n",
      "tensor([[ 1.,  0.,  0.,  0.,  1.,  0.,  0., -1., -1.]])\n",
      "tensor([[ 0.,  0.,  0.,  0., -1.,  0.,  0.,  1.,  1.]])\n",
      "tensor([[0., 0., 0., 0., 0., 0., 0., 0., 1.]])\n",
      "tensor([[ 0.,  0.,  0.,  0., -1.,  0.,  0.,  1.,  1.]])\n",
      "tensor([[ 0.,  0.,  0.,  0.,  0.,  0.,  1.,  0., -1.]])\n",
      "tensor([[ 0.,  0.,  0.,  0., -1.,  0., -1.,  1.,  1.]])\n",
      "tensor([[0., 0., 0., 0., 0., 0., 0., 0., 1.]])\n",
      "tensor([[ 1.,  0.,  0.,  0.,  1.,  0.,  1., -1., -1.]])\n",
      "tensor([[ 0.,  0.,  0.,  0., -1.,  0.,  0.,  1.,  1.]])\n",
      "tensor([[ 0.,  0.,  0.,  0., -1.,  0.,  0.,  0.,  1.]])\n",
      "tensor([[ 0.,  0.,  0.,  0., -1.,  0., -1.,  1.,  1.]])\n",
      "tensor([[ 0.,  0.,  0.,  0., -1.,  0.,  0.,  1.,  1.]])\n",
      "tensor([[ 1.,  0.,  0.,  0.,  1.,  0.,  0.,  0., -1.]])\n",
      "tensor([[ 0.,  0.,  0.,  0., -1.,  0.,  0.,  1.,  1.]])\n",
      "tensor([[ 0.,  0.,  0.,  0., -1.,  0.,  0.,  1.,  1.]])\n",
      "tensor([[ 0.,  0.,  0.,  0., -1.,  0.,  0.,  1.,  1.]])\n"
     ]
    },
    {
     "name": "stderr",
     "output_type": "stream",
     "text": [
      "\r",
      "  4%|█▌                                     | 386/10000 [00:14<07:35, 21.10it/s]"
     ]
    },
    {
     "name": "stdout",
     "output_type": "stream",
     "text": [
      "tensor([[0., 0., 0., 0., 0., 0., 1., 0., 0.]])\n",
      "tensor([[ 0.,  0.,  0.,  0., -1.,  1., -1.,  1.,  1.]])\n",
      "tensor([[ 0.,  0.,  0.,  0., -1.,  1., -1.,  1.,  1.]])\n",
      "tensor([[ 1.,  0.,  0.,  0.,  1.,  0.,  0.,  0., -1.]])\n",
      "tensor([[ 0.,  0.,  0.,  0., -1.,  0.,  0.,  1.,  1.]])\n",
      "tensor([[ 0.,  0.,  0.,  0., -1.,  1., -1.,  1.,  1.]])\n",
      "tensor([[ 0.,  0.,  0.,  0., -1.,  0., -1.,  1.,  1.]])\n",
      "tensor([[ 1.,  0.,  0.,  0.,  1., -1.,  1., -1., -1.]])\n",
      "tensor([[ 0.,  0.,  0.,  0., -1.,  1., -1.,  1.,  1.]])\n",
      "tensor([[ 0.,  0.,  1.,  0.,  0.,  0.,  0.,  0., -1.]])\n",
      "tensor([[ 0.,  0.,  0.,  0.,  1.,  0.,  0., -1.,  1.]])\n",
      "tensor([[ 0.,  0.,  0.,  0., -1.,  0.,  0.,  1.,  1.]])\n",
      "tensor([[ 1.,  0.,  0.,  0.,  1.,  0.,  0.,  0., -1.]])\n",
      "tensor([[ 0.,  0.,  0.,  0., -1.,  0., -1.,  1.,  1.]])\n",
      "tensor([[0., 0., 0., 0., 0., 0., 0., 0., 1.]])\n",
      "tensor([[ 1.,  0.,  0.,  0.,  1., -1.,  1., -1., -1.]])\n"
     ]
    },
    {
     "name": "stderr",
     "output_type": "stream",
     "text": [
      "\r",
      "  4%|█▌                                     | 389/10000 [00:14<07:51, 20.37it/s]"
     ]
    },
    {
     "name": "stdout",
     "output_type": "stream",
     "text": [
      "tensor([[ 0.,  0.,  0.,  0., -1.,  0.,  0.,  1.,  1.]])\n",
      "tensor([[ 0.,  0.,  0.,  0., -1.,  0., -1.,  1.,  1.]])\n",
      "tensor([[ 0.,  0.,  0.,  0., -1.,  1., -1.,  1.,  1.]])\n",
      "tensor([[ 1.,  0.,  0.,  0.,  1.,  0.,  0.,  0., -1.]])\n",
      "tensor([[ 0.,  0.,  0.,  0., -1.,  0.,  0.,  1.,  1.]])\n",
      "tensor([[0., 0., 0., 0., 0., 0., 1., 0., 0.]])\n",
      "tensor([[ 1.,  0.,  0.,  0.,  1., -1.,  1., -1., -1.]])\n",
      "tensor([[ 0.,  0.,  0.,  0., -1.,  1., -1.,  1.,  1.]])\n",
      "tensor([[0., 0., 0., 0., 0., 0., 0., 0., 1.]])\n",
      "tensor([[0., 0., 1., 0., 0., 0., 0., 0., 0.]])\n",
      "tensor([[0., 0., 0., 0., 0., 0., 0., 0., 1.]])\n",
      "tensor([[ 0.,  0.,  0.,  0., -1.,  0., -1.,  1.,  1.]])\n",
      "tensor([[ 0.,  0.,  0.,  0.,  0.,  0.,  1.,  0., -1.]])\n",
      "tensor([[ 0.,  0.,  0.,  0.,  1.,  0.,  1.,  0., -1.]])\n",
      "tensor([[0., 0., 0., 0., 0., 0., 0., 0., 1.]])\n",
      "tensor([[ 0.,  0.,  0.,  0.,  0.,  0.,  1.,  0., -1.]])\n",
      "tensor([[ 0.,  0.,  0.,  0., -1.,  0.,  0.,  1.,  1.]])\n",
      "tensor([[0., 0., 1., 0., 0., 0., 0., 0., 0.]])\n",
      "tensor([[ 1.,  0.,  0.,  0.,  1.,  0.,  1., -1., -1.]])\n",
      "tensor([[ 1.,  0.,  0.,  0.,  1., -1.,  1., -1., -1.]])\n",
      "tensor([[ 0.,  0.,  0.,  0., -1.,  0.,  0.,  1.,  1.]])\n",
      "tensor([[ 1.,  0.,  0.,  0.,  1.,  0.,  0.,  0., -1.]])\n",
      "tensor([[ 0.,  0.,  0.,  0., -1.,  0.,  0.,  0.,  1.]])\n",
      "tensor([[0., 0., 0., 0., 0., 0., 0., 0., 1.]])\n",
      "tensor([[ 0.,  0.,  0.,  0., -1.,  0., -1.,  1.,  1.]])\n",
      "tensor([[ 0.,  0.,  0.,  0., -1.,  0.,  0.,  0.,  1.]])\n",
      "tensor([[ 1.,  0.,  0.,  0.,  1.,  0.,  0., -1., -1.]])\n",
      "tensor([[ 1.,  0.,  0.,  0.,  1.,  0.,  0., -1., -1.]])\n",
      "tensor([[ 0.,  0.,  0.,  0., -1.,  0.,  0.,  0.,  1.]])\n"
     ]
    },
    {
     "name": "stderr",
     "output_type": "stream",
     "text": [
      "  4%|█▌                                     | 396/10000 [00:14<06:28, 24.74it/s]"
     ]
    },
    {
     "name": "stdout",
     "output_type": "stream",
     "text": [
      "tensor([[ 0.,  0.,  0.,  0., -1.,  0.,  0.,  0.,  1.]])\n",
      "tensor([[ 0.,  0.,  0.,  0., -1.,  0.,  0.,  0.,  1.]])\n",
      "tensor([[ 1.,  0.,  0.,  0.,  1., -1.,  1., -1., -1.]])\n",
      "tensor([[0., 0., 0., 0., 0., 0., 0., 0., 1.]])\n",
      "tensor([[ 1.,  0.,  0.,  0.,  1.,  0.,  1., -1., -1.]])\n",
      "tensor([[0., 0., 0., 0., 0., 0., 0., 0., 1.]])\n",
      "tensor([[ 0.,  0.,  0.,  0., -1.,  0.,  0.,  1.,  1.]])\n",
      "tensor([[ 0.,  0.,  0.,  0.,  1.,  0.,  1.,  0., -1.]])\n",
      "tensor([[ 1.,  0.,  0.,  0.,  1., -1.,  1., -1., -1.]])\n",
      "tensor([[ 0.,  0.,  0.,  0., -1.,  0.,  0.,  0.,  1.]])\n",
      "tensor([[ 1.,  0.,  0.,  0.,  1., -1.,  1., -1., -1.]])\n",
      "tensor([[ 1.,  0.,  0.,  0.,  1.,  0.,  0., -1., -1.]])\n",
      "tensor([[ 0.,  0.,  0.,  0., -1.,  1., -1.,  1.,  1.]])\n",
      "tensor([[ 0.,  0.,  0.,  0., -1.,  0.,  0.,  0.,  1.]])\n",
      "tensor([[ 1.,  0.,  0.,  0.,  1.,  0.,  1., -1., -1.]])\n",
      "tensor([[0., 0., 1., 0., 0., 0., 0., 0., 0.]])\n",
      "tensor([[ 0.,  0.,  0.,  0., -1.,  0., -1.,  1.,  1.]])\n",
      "tensor([[ 1.,  0.,  0.,  0.,  1., -1.,  1., -1., -1.]])\n",
      "tensor([[0., 0., 1., 0., 0., 0., 0., 0., 0.]])\n",
      "tensor([[ 0.,  0.,  0.,  0., -1.,  1., -1.,  1.,  1.]])\n",
      "tensor([[ 0.,  0.,  0.,  0., -1.,  1., -1.,  1.,  1.]])\n",
      "tensor([[0., 0., 0., 0., 0., 0., 0., 0., 1.]])\n",
      "tensor([[ 0.,  0.,  0.,  0., -1.,  0., -1.,  1.,  1.]])\n",
      "tensor([[ 0.,  0.,  0.,  0.,  1.,  0.,  1., -1., -1.]])\n",
      "tensor([[ 1.,  0.,  0.,  0.,  1.,  0.,  0., -1., -1.]])\n",
      "tensor([[0., 0., 0., 0., 0., 0., 0., 0., 1.]])\n",
      "tensor([[0., 0., 0., 0., 0., 0., 0., 0., 1.]])\n",
      "tensor([[ 0.,  0.,  0.,  0., -1.,  0., -1.,  1.,  1.]])\n",
      "tensor([[ 0.,  0.,  0.,  0.,  1.,  0.,  0., -1.,  1.]])\n",
      "tensor([[ 0.,  0.,  0.,  0., -1.,  1., -1.,  1.,  1.]])\n",
      "tensor([[ 0.,  0.,  0.,  0., -1.,  0.,  0.,  0.,  1.]])\n",
      "tensor([[ 0.,  0.,  1.,  0.,  1.,  0.,  0.,  0., -1.]])\n"
     ]
    },
    {
     "name": "stderr",
     "output_type": "stream",
     "text": [
      "\r",
      "  4%|█▌                                     | 400/10000 [00:14<06:08, 26.03it/s]"
     ]
    },
    {
     "name": "stdout",
     "output_type": "stream",
     "text": [
      "tensor([[ 0.,  0.,  0.,  0., -1.,  0.,  0.,  1.,  1.]])\n",
      "tensor([[ 1.,  0.,  0.,  0.,  0.,  0.,  0.,  0., -1.]])\n",
      "tensor([[ 0.,  0.,  0.,  0., -1.,  0.,  0.,  1.,  1.]])\n",
      "tensor([[ 0.,  0.,  0.,  0.,  0.,  0.,  1.,  0., -1.]])\n",
      "tensor([[ 1.,  0.,  0.,  0.,  0.,  0.,  0.,  0., -1.]])\n",
      "tensor([[ 0.,  0.,  0.,  0., -1.,  0.,  0.,  1.,  1.]])\n",
      "tensor([[ 0.,  0.,  0.,  0., -1.,  0., -1.,  1.,  1.]])\n",
      "tensor([[ 1.,  0.,  0.,  0.,  1.,  0.,  1., -1., -1.]])\n",
      "tensor([[ 1.,  0.,  0.,  0.,  1., -1.,  1., -1., -1.]])\n",
      "tensor([[ 0.,  0.,  0.,  0., -1.,  0.,  0.,  1.,  1.]])\n",
      "tensor([[0., 0., 1., 0., 0., 0., 0., 0., 0.]])\n",
      "tensor([[ 0.,  0.,  0.,  0.,  1.,  0.,  0., -1.,  1.]])\n",
      "tensor([[ 1.,  0.,  0.,  0.,  1.,  0.,  1., -1., -1.]])\n",
      "tensor([[ 1.,  0.,  0.,  0.,  0.,  0.,  0.,  0., -1.]])\n"
     ]
    },
    {
     "name": "stderr",
     "output_type": "stream",
     "text": [
      "  4%|█▌                                     | 406/10000 [00:15<07:22, 21.70it/s]"
     ]
    },
    {
     "name": "stdout",
     "output_type": "stream",
     "text": [
      "tensor([[ 0.,  0.,  1.,  0.,  1.,  0.,  0., -1., -1.]])\n",
      "tensor([[ 1.,  0.,  0.,  0.,  1.,  0.,  0., -1., -1.]])\n",
      "tensor([[0., 0., 0., 0., 0., 0., 0., 0., 1.]])\n",
      "tensor([[ 1.,  0.,  0.,  0.,  1.,  0.,  0.,  0., -1.]])\n",
      "tensor([[ 0.,  0.,  0.,  0., -1.,  0.,  0.,  1.,  1.]])\n",
      "tensor([[ 0.,  0.,  0.,  0., -1.,  0., -1.,  1.,  1.]])\n",
      "tensor([[ 0.,  0.,  0.,  0., -1.,  1., -1.,  1.,  1.]])\n",
      "tensor([[1., 0., 0., 0., 0., 0., 0., 0., 0.]])\n",
      "tensor([[ 0.,  0.,  0.,  0., -1.,  0., -1.,  1.,  1.]])\n",
      "tensor([[ 0.,  0.,  0.,  0., -1.,  0.,  0.,  1.,  1.]])\n",
      "tensor([[ 0.,  0.,  1.,  0.,  1.,  0.,  0.,  0., -1.]])\n",
      "tensor([[ 0.,  0.,  0.,  0.,  1.,  0.,  1., -1., -1.]])\n",
      "tensor([[ 0.,  0.,  0.,  0., -1.,  0., -1.,  1.,  1.]])\n",
      "tensor([[0., 0., 0., 0., 1., 0., 0., 0., 0.]])\n",
      "tensor([[ 0.,  0.,  0.,  0., -1.,  1., -1.,  1.,  1.]])\n",
      "tensor([[ 0.,  0.,  0.,  0., -1.,  1., -1.,  1.,  1.]])\n",
      "tensor([[0., 0., 0., 0., 0., 0., 0., 0., 1.]])\n",
      "tensor([[ 0.,  0.,  0.,  0.,  1.,  0., -1., -1.,  1.]])\n",
      "tensor([[ 0.,  0.,  0.,  0.,  1.,  0.,  1.,  0., -1.]])\n",
      "tensor([[0., 0., 0., 0., 1., 0., 0., 0., 0.]])\n",
      "tensor([[ 0.,  0.,  0.,  0., -1.,  0., -1.,  1.,  1.]])\n",
      "tensor([[ 1.,  0.,  0.,  0.,  1.,  0.,  0., -1., -1.]])\n",
      "tensor([[ 0.,  0.,  0.,  0., -1.,  0.,  0.,  0.,  1.]])\n",
      "tensor([[ 0.,  0.,  0.,  0.,  0.,  0.,  0., -1.,  1.]])\n",
      "tensor([[ 1.,  0.,  0.,  0.,  1.,  0.,  1., -1., -1.]])\n",
      "tensor([[ 1.,  0.,  0.,  0.,  1.,  0.,  0.,  0., -1.]])\n",
      "tensor([[ 0.,  0.,  1.,  0.,  0.,  0.,  0.,  0., -1.]])\n",
      "tensor([[ 1.,  0.,  0.,  0.,  1.,  0.,  0.,  0., -1.]])\n",
      "tensor([[ 1.,  0.,  0.,  0.,  1.,  0.,  0.,  0., -1.]])\n",
      "tensor([[ 0.,  0.,  0.,  0., -1.,  1., -1.,  1.,  1.]])\n",
      "tensor([[ 0.,  0.,  0.,  0., -1.,  0., -1.,  1.,  1.]])\n"
     ]
    },
    {
     "name": "stderr",
     "output_type": "stream",
     "text": [
      "  4%|█▌                                     | 414/10000 [00:15<05:53, 27.12it/s]"
     ]
    },
    {
     "name": "stdout",
     "output_type": "stream",
     "text": [
      "tensor([[ 0.,  0.,  0.,  0., -1.,  1., -1.,  1.,  1.]])\n",
      "tensor([[ 1.,  0.,  0.,  0.,  0.,  0.,  0.,  0., -1.]])\n",
      "tensor([[0., 0., 0., 0., 0., 0., 0., 0., 1.]])\n",
      "tensor([[ 1.,  0.,  0.,  0.,  1.,  0.,  0.,  0., -1.]])\n",
      "tensor([[0., 0., 1., 0., 0., 0., 0., 0., 0.]])\n",
      "tensor([[ 1.,  0.,  0.,  0.,  1.,  0.,  0., -1., -1.]])\n",
      "tensor([[ 1.,  0.,  0.,  0.,  1.,  0.,  1., -1., -1.]])\n",
      "tensor([[ 0.,  0.,  0.,  0.,  0.,  0.,  1.,  0., -1.]])\n",
      "tensor([[ 0.,  0.,  0.,  0., -1.,  0., -1.,  1.,  1.]])\n",
      "tensor([[0., 0., 0., 0., 0., 0., 0., 0., 1.]])\n",
      "tensor([[0., 0., 0., 0., 1., 0., 0., 0., 0.]])\n",
      "tensor([[ 0.,  0.,  0.,  0., -1.,  0.,  0.,  0.,  1.]])\n",
      "tensor([[ 0.,  0.,  1.,  0.,  1.,  0.,  0., -1., -1.]])\n",
      "tensor([[ 0.,  0.,  0.,  0., -1.,  0.,  0.,  1.,  1.]])\n",
      "tensor([[1., 0., 0., 0., 0., 0., 0., 0., 0.]])\n",
      "tensor([[ 0.,  0.,  0.,  0.,  1.,  0.,  0., -1.,  1.]])\n",
      "tensor([[ 0.,  0.,  1.,  0.,  1.,  0.,  0., -1., -1.]])\n",
      "tensor([[ 0.,  0.,  0.,  0., -1.,  0.,  0.,  1.,  1.]])\n",
      "tensor([[ 0.,  0.,  0.,  0., -1.,  0., -1.,  1.,  1.]])\n",
      "tensor([[ 0.,  0.,  0.,  0.,  1.,  0.,  1., -1., -1.]])\n",
      "tensor([[0., 0., 0., 0., 0., 0., 0., 0., 1.]])\n",
      "tensor([[ 0.,  0.,  0.,  0.,  0.,  0.,  0., -1.,  1.]])\n",
      "tensor([[ 0.,  0.,  0.,  0., -1.,  0.,  0.,  0.,  1.]])\n",
      "tensor([[0., 0., 0., 0., 0., 0., 0., 0., 1.]])\n",
      "tensor([[0., 0., 0., 0., 0., 0., 0., 0., 1.]])\n",
      "tensor([[ 0.,  0.,  0.,  0.,  1.,  0.,  0.,  0., -1.]])\n",
      "tensor([[ 0.,  0.,  0.,  0.,  1.,  0.,  0.,  0., -1.]])\n",
      "tensor([[ 1.,  0.,  0.,  0.,  0.,  0.,  0.,  0., -1.]])\n",
      "tensor([[ 0.,  0.,  0.,  0., -1.,  0.,  0.,  1.,  1.]])\n",
      "tensor([[0., 0., 0., 0., 0., 0., 0., 0., 1.]])\n",
      "tensor([[ 1.,  0.,  0.,  0.,  1.,  0.,  0., -1., -1.]])\n"
     ]
    },
    {
     "name": "stderr",
     "output_type": "stream",
     "text": [
      "  4%|█▋                                     | 421/10000 [00:15<05:21, 29.84it/s]"
     ]
    },
    {
     "name": "stdout",
     "output_type": "stream",
     "text": [
      "tensor([[ 0.,  0.,  0.,  0.,  1.,  0.,  1., -1., -1.]])\n",
      "tensor([[ 1.,  0.,  0.,  0.,  1.,  0.,  1., -1., -1.]])\n",
      "tensor([[ 1.,  0.,  0.,  0.,  0.,  0.,  0.,  0., -1.]])\n",
      "tensor([[ 0.,  0.,  0.,  0.,  1.,  0.,  0., -1.,  1.]])\n",
      "tensor([[ 0.,  0.,  0.,  0., -1.,  0.,  0.,  1.,  1.]])\n",
      "tensor([[ 1.,  0.,  0.,  0.,  1.,  0.,  0., -1., -1.]])\n",
      "tensor([[0., 0., 0., 0., 1., 0., 0., 0., 0.]])\n",
      "tensor([[ 0.,  0.,  0.,  0., -1.,  1., -1.,  1.,  1.]])\n",
      "tensor([[ 1.,  0.,  0.,  0.,  1.,  0.,  0.,  0., -1.]])\n",
      "tensor([[ 0.,  0.,  0.,  0.,  1.,  0.,  1.,  0., -1.]])\n",
      "tensor([[ 0.,  0.,  0.,  0., -1.,  1., -1.,  1.,  1.]])\n",
      "tensor([[ 1.,  0.,  0.,  0.,  1., -1.,  1., -1., -1.]])\n",
      "tensor([[ 0.,  0.,  0.,  0.,  1.,  0.,  0., -1.,  1.]])\n",
      "tensor([[1., 0., 0., 0., 0., 0., 0., 0., 0.]])\n",
      "tensor([[ 0.,  0.,  0.,  0., -1.,  0.,  0.,  1.,  1.]])\n",
      "tensor([[ 0.,  0.,  0.,  0.,  1.,  0.,  0., -1.,  1.]])\n",
      "tensor([[0., 0., 0., 0., 0., 0., 0., 0., 1.]])\n",
      "tensor([[ 1.,  0.,  0.,  0.,  1.,  0.,  1., -1., -1.]])\n",
      "tensor([[ 1.,  0.,  0.,  0.,  1.,  0.,  1., -1., -1.]])\n",
      "tensor([[ 0.,  0.,  0.,  0., -1.,  1., -1.,  1.,  1.]])\n",
      "tensor([[1., 0., 0., 0., 0., 0., 0., 0., 0.]])\n",
      "tensor([[ 0.,  0.,  0.,  0., -1.,  1., -1.,  1.,  1.]])\n",
      "tensor([[ 0.,  0.,  1.,  0.,  1.,  0.,  0., -1., -1.]])\n",
      "tensor([[ 1.,  0.,  0.,  0.,  0.,  0.,  0.,  0., -1.]])\n",
      "tensor([[ 0.,  0.,  0.,  0., -1.,  0.,  0.,  1.,  1.]])\n",
      "tensor([[ 0.,  0.,  0.,  0., -1.,  0.,  0.,  0.,  1.]])\n",
      "tensor([[ 0.,  0.,  0.,  0., -1.,  0.,  0.,  1.,  1.]])\n",
      "tensor([[ 0.,  0.,  0.,  0., -1.,  0.,  0.,  0.,  1.]])\n",
      "tensor([[ 0.,  0.,  0.,  0., -1.,  0.,  0.,  1.,  1.]])\n",
      "tensor([[ 0.,  0.,  0.,  0., -1.,  0.,  0.,  1.,  1.]])\n",
      "tensor([[0., 0., 0., 0., 0., 0., 0., 0., 1.]])\n",
      "tensor([[ 0.,  0.,  0.,  0., -1.,  0.,  0.,  1.,  1.]])\n",
      "tensor([[ 0.,  0.,  0.,  0., -1.,  0., -1.,  1.,  1.]])\n",
      "tensor([[ 0.,  0.,  0.,  0., -1.,  0.,  0.,  1.,  1.]])\n"
     ]
    },
    {
     "name": "stderr",
     "output_type": "stream",
     "text": [
      "\r",
      "  4%|█▋                                     | 425/10000 [00:15<05:07, 31.10it/s]"
     ]
    },
    {
     "name": "stdout",
     "output_type": "stream",
     "text": [
      "tensor([[0., 0., 0., 0., 1., 0., 0., 0., 0.]])\n",
      "tensor([[ 0.,  0.,  0.,  0.,  1.,  0.,  0.,  0., -1.]])\n",
      "tensor([[ 0.,  0.,  0.,  0., -1.,  0.,  0.,  1.,  1.]])\n",
      "tensor([[ 0.,  0.,  0.,  0.,  1.,  0., -1., -1.,  1.]])\n",
      "tensor([[ 0.,  0.,  0.,  0., -1.,  0.,  0.,  0.,  1.]])\n",
      "tensor([[ 0.,  0.,  0.,  0., -1.,  0.,  0.,  0.,  1.]])\n",
      "tensor([[ 0.,  0.,  0.,  0., -1.,  1., -1.,  1.,  1.]])\n",
      "tensor([[ 1.,  0.,  0.,  0.,  1.,  0.,  0.,  0., -1.]])\n",
      "tensor([[ 1.,  0.,  0.,  0.,  1.,  0.,  0.,  0., -1.]])\n",
      "tensor([[ 0.,  0.,  0.,  0.,  0.,  0.,  0., -1.,  1.]])\n",
      "tensor([[ 1.,  0.,  0.,  0.,  1.,  0.,  1., -1., -1.]])\n",
      "tensor([[ 0.,  0.,  1.,  0.,  1.,  0.,  0., -1., -1.]])\n",
      "tensor([[ 1.,  0.,  0.,  0.,  1.,  0.,  1., -1., -1.]])\n",
      "tensor([[0., 0., 0., 0., 0., 0., 0., 0., 1.]])\n",
      "tensor([[ 0.,  0.,  0.,  0., -1.,  0.,  0.,  1.,  1.]])\n",
      "tensor([[ 0.,  0.,  0.,  0., -1.,  1., -1.,  1.,  1.]])\n",
      "tensor([[ 0.,  0.,  0.,  0., -1.,  0.,  0.,  1.,  1.]])\n",
      "tensor([[ 0.,  0.,  0.,  0.,  1.,  0.,  1.,  0., -1.]])\n",
      "tensor([[0., 0., 0., 0., 0., 0., 0., 0., 1.]])\n",
      "tensor([[1., 0., 0., 0., 0., 0., 0., 0., 0.]])\n",
      "tensor([[ 0.,  0.,  0.,  0., -1.,  1., -1.,  1.,  1.]])\n",
      "tensor([[ 0.,  0.,  0.,  0.,  1.,  0.,  0.,  0., -1.]])\n",
      "tensor([[ 0.,  0.,  0.,  0., -1.,  0., -1.,  1.,  1.]])\n",
      "tensor([[ 0.,  0.,  0.,  0., -1.,  0., -1.,  1.,  1.]])\n",
      "tensor([[ 0.,  0.,  0.,  0., -1.,  1., -1.,  1.,  1.]])\n",
      "tensor([[ 0.,  0.,  0.,  0., -1.,  0.,  0.,  1.,  1.]])\n",
      "tensor([[ 0.,  0.,  0.,  0., -1.,  0.,  0.,  0.,  1.]])\n",
      "tensor([[ 0.,  0.,  0.,  0., -1.,  0.,  0.,  0.,  1.]])\n",
      "tensor([[ 0.,  0.,  1.,  0.,  1.,  0.,  0., -1., -1.]])\n",
      "tensor([[ 0.,  0.,  1.,  0.,  1.,  0.,  0.,  0., -1.]])\n",
      "tensor([[ 0.,  0.,  0.,  0., -1.,  0., -1.,  1.,  1.]])\n",
      "tensor([[ 1.,  0.,  0.,  0.,  1., -1.,  1., -1., -1.]])\n"
     ]
    },
    {
     "name": "stderr",
     "output_type": "stream",
     "text": [
      "  4%|█▋                                     | 433/10000 [00:16<05:08, 31.03it/s]"
     ]
    },
    {
     "name": "stdout",
     "output_type": "stream",
     "text": [
      "tensor([[1., 0., 0., 0., 0., 0., 0., 0., 0.]])\n",
      "tensor([[ 0.,  0.,  0.,  0.,  1.,  0.,  0.,  0., -1.]])\n",
      "tensor([[ 1.,  0.,  0.,  0.,  1., -1.,  1., -1., -1.]])\n",
      "tensor([[1., 0., 0., 0., 0., 0., 0., 0., 0.]])\n",
      "tensor([[0., 0., 0., 0., 0., 0., 1., 0., 0.]])\n",
      "tensor([[ 0.,  0.,  0.,  0., -1.,  0.,  0.,  0.,  1.]])\n",
      "tensor([[ 1.,  0.,  0.,  0.,  0.,  0.,  0.,  0., -1.]])\n",
      "tensor([[ 1.,  0.,  0.,  0.,  1.,  0.,  1., -1., -1.]])\n",
      "tensor([[ 1.,  0.,  0.,  0.,  1.,  0.,  1., -1., -1.]])\n",
      "tensor([[0., 0., 0., 0., 0., 0., 0., 0., 1.]])\n",
      "tensor([[0., 0., 0., 0., 0., 0., 1., 0., 0.]])\n",
      "tensor([[ 0.,  0.,  0.,  0., -1.,  0.,  0.,  0.,  1.]])\n",
      "tensor([[ 0.,  0.,  0.,  0.,  1.,  0.,  0.,  0., -1.]])\n",
      "tensor([[ 1.,  0.,  0.,  0.,  0.,  0.,  0.,  0., -1.]])\n",
      "tensor([[0., 0., 0., 0., 0., 0., 0., 0., 1.]])\n",
      "tensor([[ 1.,  0.,  0.,  0.,  1.,  0.,  0., -1., -1.]])\n",
      "tensor([[0., 0., 0., 0., 0., 0., 0., 0., 1.]])\n",
      "tensor([[ 0.,  0.,  0.,  0., -1.,  0., -1.,  1.,  1.]])\n",
      "tensor([[ 0.,  0.,  0.,  0.,  1.,  0.,  1.,  0., -1.]])\n",
      "tensor([[0., 0., 0., 0., 1., 0., 0., 0., 0.]])\n",
      "tensor([[ 0.,  0.,  0.,  0., -1.,  1., -1.,  1.,  1.]])\n",
      "tensor([[0., 0., 0., 0., 0., 0., 0., 0., 1.]])\n",
      "tensor([[ 0.,  0.,  0.,  0., -1.,  1., -1.,  1.,  1.]])\n",
      "tensor([[ 0.,  0.,  0.,  0., -1.,  0.,  0.,  0.,  1.]])\n",
      "tensor([[ 0.,  0.,  1.,  0.,  0.,  0.,  0.,  0., -1.]])\n",
      "tensor([[0., 0., 0., 0., 0., 0., 0., 0., 1.]])\n",
      "tensor([[ 0.,  0.,  0.,  0.,  1.,  0.,  0.,  0., -1.]])\n",
      "tensor([[ 0.,  0.,  0.,  0., -1.,  1., -1.,  1.,  1.]])\n",
      "tensor([[ 0.,  0.,  0.,  0., -1.,  0.,  0.,  1.,  1.]])\n",
      "tensor([[ 1.,  0.,  0.,  0.,  1.,  0.,  1., -1., -1.]])\n",
      "tensor([[ 0.,  0.,  0.,  0., -1.,  1., -1.,  1.,  1.]])\n",
      "tensor([[ 0.,  0.,  0.,  0., -1.,  0., -1.,  1.,  1.]])\n",
      "tensor([[ 0.,  0.,  0.,  0., -1.,  0., -1.,  1.,  1.]])\n",
      "tensor([[ 1.,  0.,  0.,  0.,  1.,  0.,  0.,  0., -1.]])\n",
      "tensor([[ 0.,  0.,  0.,  0., -1.,  1., -1.,  1.,  1.]])\n"
     ]
    },
    {
     "name": "stderr",
     "output_type": "stream",
     "text": [
      "  4%|█▋                                     | 441/10000 [00:16<04:59, 31.92it/s]"
     ]
    },
    {
     "name": "stdout",
     "output_type": "stream",
     "text": [
      "tensor([[ 0.,  0.,  0.,  0., -1.,  0.,  0.,  1.,  1.]])\n",
      "tensor([[ 0.,  0.,  0.,  0., -1.,  0., -1.,  1.,  1.]])\n",
      "tensor([[ 0.,  0.,  0.,  0., -1.,  0.,  0.,  1.,  1.]])\n",
      "tensor([[0., 0., 1., 0., 0., 0., 0., 0., 0.]])\n",
      "tensor([[ 1.,  0.,  0.,  0.,  1.,  0.,  0., -1., -1.]])\n",
      "tensor([[ 1.,  0.,  0.,  0.,  1.,  0.,  0., -1., -1.]])\n",
      "tensor([[ 1.,  0.,  0.,  0.,  1., -1.,  1., -1., -1.]])\n",
      "tensor([[ 0.,  0.,  0.,  0., -1.,  1., -1.,  1.,  1.]])\n",
      "tensor([[ 0.,  0.,  0.,  0., -1.,  0.,  0.,  0.,  1.]])\n",
      "tensor([[ 1.,  0.,  0.,  0.,  0.,  0.,  0.,  0., -1.]])\n",
      "tensor([[ 0.,  0.,  0.,  0., -1.,  0.,  0.,  0.,  1.]])\n",
      "tensor([[ 0.,  0.,  0.,  0.,  1.,  0., -1., -1.,  1.]])\n",
      "tensor([[ 1.,  0.,  0.,  0.,  1.,  0.,  1., -1., -1.]])\n",
      "tensor([[ 0.,  0.,  0.,  0., -1.,  0., -1.,  1.,  1.]])\n",
      "tensor([[0., 0., 0., 0., 1., 0., 0., 0., 0.]])\n",
      "tensor([[ 0.,  0.,  0.,  0.,  1.,  0., -1., -1.,  1.]])\n",
      "tensor([[0., 0., 0., 0., 0., 0., 0., 0., 1.]])\n",
      "tensor([[ 0.,  0.,  0.,  0., -1.,  0.,  0.,  1.,  1.]])\n",
      "tensor([[ 0.,  0.,  0.,  0., -1.,  0.,  0.,  1.,  1.]])\n",
      "tensor([[ 0.,  0.,  0.,  0., -1.,  1., -1.,  1.,  1.]])\n",
      "tensor([[ 1.,  0.,  0.,  0.,  1.,  0.,  1., -1., -1.]])\n",
      "tensor([[ 0.,  0.,  0.,  0., -1.,  0., -1.,  1.,  1.]])\n",
      "tensor([[ 1.,  0.,  0.,  0.,  1.,  0.,  1., -1., -1.]])\n",
      "tensor([[ 1.,  0.,  0.,  0.,  1., -1.,  1., -1., -1.]])\n",
      "tensor([[ 0.,  0.,  0.,  0.,  1.,  0.,  0., -1.,  1.]])\n",
      "tensor([[ 0.,  0.,  0.,  0., -1.,  1., -1.,  1.,  1.]])\n",
      "tensor([[ 0.,  0.,  0.,  0.,  1.,  0.,  1.,  0., -1.]])\n",
      "tensor([[ 0.,  0.,  0.,  0., -1.,  1., -1.,  1.,  1.]])\n",
      "tensor([[ 0.,  0.,  0.,  0., -1.,  0., -1.,  1.,  1.]])\n",
      "tensor([[ 0.,  0.,  0.,  0.,  0.,  0.,  1.,  0., -1.]])\n"
     ]
    },
    {
     "name": "stderr",
     "output_type": "stream",
     "text": [
      "\r",
      "  4%|█▋                                     | 445/10000 [00:16<05:08, 30.96it/s]"
     ]
    },
    {
     "name": "stdout",
     "output_type": "stream",
     "text": [
      "tensor([[ 0.,  0.,  0.,  0.,  1.,  0.,  1.,  0., -1.]])\n",
      "tensor([[ 1.,  0.,  0.,  0.,  1.,  0.,  0., -1., -1.]])\n",
      "tensor([[ 0.,  0.,  0.,  0.,  1.,  0.,  0.,  0., -1.]])\n",
      "tensor([[ 0.,  0.,  0.,  0., -1.,  0.,  0.,  1.,  1.]])\n",
      "tensor([[ 0.,  0.,  0.,  0., -1.,  0.,  0.,  0.,  1.]])\n",
      "tensor([[ 0.,  0.,  0.,  0., -1.,  0.,  0.,  0.,  1.]])\n",
      "tensor([[ 0.,  0.,  0.,  0., -1.,  0.,  0.,  0.,  1.]])\n",
      "tensor([[0., 0., 0., 0., 0., 0., 0., 0., 1.]])\n",
      "tensor([[ 1.,  0.,  0.,  0.,  1.,  0.,  0.,  0., -1.]])\n",
      "tensor([[ 1.,  0.,  0.,  0.,  1., -1.,  1., -1., -1.]])\n",
      "tensor([[ 0.,  0.,  0.,  0., -1.,  0., -1.,  1.,  1.]])\n",
      "tensor([[ 0.,  0.,  0.,  0.,  1.,  0., -1., -1.,  1.]])\n",
      "tensor([[0., 0., 0., 0., 0., 0., 0., 0., 1.]])\n",
      "tensor([[ 0.,  0.,  0.,  0., -1.,  0.,  0.,  0.,  1.]])\n",
      "tensor([[ 0.,  0.,  0.,  0., -1.,  1., -1.,  1.,  1.]])\n",
      "tensor([[ 0.,  0.,  0.,  0., -1.,  0.,  0.,  1.,  1.]])\n",
      "tensor([[0., 0., 0., 0., 0., 0., 0., 0., 1.]])\n",
      "tensor([[ 0.,  0.,  0.,  0., -1.,  0.,  0.,  0.,  1.]])\n",
      "tensor([[ 0.,  0.,  0.,  0.,  1.,  0.,  1.,  0., -1.]])\n",
      "tensor([[0., 0., 0., 0., 0., 0., 0., 0., 1.]])\n",
      "tensor([[ 0.,  0.,  0.,  0.,  1.,  0.,  0.,  0., -1.]])\n",
      "tensor([[0., 0., 0., 0., 0., 0., 0., 0., 1.]])\n",
      "tensor([[ 0.,  0.,  0.,  0.,  0.,  0.,  1.,  0., -1.]])\n",
      "tensor([[ 0.,  0.,  0.,  0.,  1.,  0.,  1., -1., -1.]])\n",
      "tensor([[ 0.,  0.,  1.,  0.,  0.,  0.,  0.,  0., -1.]])\n",
      "tensor([[ 1.,  0.,  0.,  0.,  1.,  0.,  1., -1., -1.]])\n",
      "tensor([[ 1.,  0.,  0.,  0.,  0.,  0.,  0.,  0., -1.]])\n"
     ]
    },
    {
     "name": "stderr",
     "output_type": "stream",
     "text": [
      "  5%|█▊                                     | 453/10000 [00:16<05:13, 30.48it/s]"
     ]
    },
    {
     "name": "stdout",
     "output_type": "stream",
     "text": [
      "tensor([[ 0.,  0.,  0.,  0., -1.,  0.,  0.,  1.,  1.]])\n",
      "tensor([[ 0.,  0.,  0.,  0., -1.,  0.,  0.,  1.,  1.]])\n",
      "tensor([[ 0.,  0.,  0.,  0.,  1.,  0., -1., -1.,  1.]])\n",
      "tensor([[1., 0., 0., 0., 0., 0., 0., 0., 0.]])\n",
      "tensor([[ 0.,  0.,  0.,  0.,  1.,  0.,  0., -1.,  1.]])\n",
      "tensor([[ 0.,  0.,  0.,  0., -1.,  0.,  0.,  0.,  1.]])\n",
      "tensor([[ 0.,  0.,  0.,  0.,  1.,  0.,  1., -1., -1.]])\n",
      "tensor([[ 0.,  0.,  0.,  0., -1.,  0., -1.,  1.,  1.]])\n",
      "tensor([[ 0.,  0.,  0.,  0., -1.,  1., -1.,  1.,  1.]])\n",
      "tensor([[ 1.,  0.,  0.,  0.,  1.,  0.,  1., -1., -1.]])\n",
      "tensor([[ 0.,  0.,  1.,  0.,  1.,  0.,  0., -1., -1.]])\n",
      "tensor([[0., 0., 0., 0., 0., 0., 0., 0., 1.]])\n",
      "tensor([[0., 0., 0., 0., 0., 0., 0., 0., 1.]])\n",
      "tensor([[1., 0., 0., 0., 0., 0., 0., 0., 0.]])\n",
      "tensor([[ 0.,  0.,  0.,  0., -1.,  0.,  0.,  1.,  1.]])\n",
      "tensor([[ 0.,  0.,  0.,  0., -1.,  1., -1.,  1.,  1.]])\n",
      "tensor([[ 0.,  0.,  0.,  0., -1.,  0.,  0.,  1.,  1.]])\n",
      "tensor([[ 1.,  0.,  0.,  0.,  1.,  0.,  0.,  0., -1.]])\n",
      "tensor([[0., 0., 0., 0., 0., 0., 0., 0., 1.]])\n",
      "tensor([[ 0.,  0.,  0.,  0., -1.,  0.,  0.,  1.,  1.]])\n",
      "tensor([[ 0.,  0.,  0.,  0., -1.,  0.,  0.,  0.,  1.]])\n",
      "tensor([[ 1.,  0.,  0.,  0.,  1.,  0.,  0.,  0., -1.]])\n",
      "tensor([[ 0.,  0.,  0.,  0.,  0.,  0.,  0., -1.,  1.]])\n",
      "tensor([[ 1.,  0.,  0.,  0.,  1., -1.,  1., -1., -1.]])\n",
      "tensor([[ 0.,  0.,  0.,  0., -1.,  0.,  0.,  0.,  1.]])\n",
      "tensor([[ 0.,  0.,  0.,  0., -1.,  0.,  0.,  0.,  1.]])\n",
      "tensor([[ 1.,  0.,  0.,  0.,  1., -1.,  1., -1., -1.]])\n",
      "tensor([[ 0.,  0.,  0.,  0., -1.,  0., -1.,  1.,  1.]])\n",
      "tensor([[0., 0., 0., 0., 0., 0., 0., 0., 1.]])\n",
      "tensor([[ 0.,  0.,  0.,  0., -1.,  0.,  0.,  0.,  1.]])\n",
      "tensor([[ 1.,  0.,  0.,  0.,  0.,  0.,  0.,  0., -1.]])\n",
      "tensor([[ 0.,  0.,  1.,  0.,  0.,  0.,  0.,  0., -1.]])\n",
      "tensor([[0., 0., 0., 0., 0., 0., 0., 0., 1.]])\n",
      "tensor([[ 0.,  0.,  1.,  0.,  1.,  0.,  0., -1., -1.]])\n",
      "tensor([[ 0.,  0.,  0.,  0., -1.,  0., -1.,  1.,  1.]])\n",
      "tensor([[ 0.,  0.,  1.,  0.,  1.,  0.,  0., -1., -1.]])\n",
      "tensor([[ 0.,  0.,  0.,  0., -1.,  0.,  0.,  0.,  1.]])\n",
      "tensor([[ 0.,  0.,  0.,  0., -1.,  0., -1.,  1.,  1.]])\n"
     ]
    },
    {
     "name": "stderr",
     "output_type": "stream",
     "text": [
      "\r",
      "  5%|█▊                                     | 457/10000 [00:17<07:53, 20.16it/s]"
     ]
    },
    {
     "name": "stdout",
     "output_type": "stream",
     "text": [
      "tensor([[0., 0., 0., 0., 0., 0., 0., 0., 1.]])\n",
      "tensor([[ 0.,  0.,  0.,  0., -1.,  1., -1.,  1.,  1.]])\n",
      "tensor([[ 0.,  0.,  0.,  0., -1.,  1., -1.,  1.,  1.]])\n",
      "tensor([[ 1.,  0.,  0.,  0.,  1.,  0.,  1., -1., -1.]])\n",
      "tensor([[ 0.,  0.,  1.,  0.,  1.,  0.,  0.,  0., -1.]])\n",
      "tensor([[ 1.,  0.,  0.,  0.,  1.,  0.,  0.,  0., -1.]])\n",
      "tensor([[0., 0., 1., 0., 0., 0., 0., 0., 0.]])\n",
      "tensor([[ 1.,  0.,  0.,  0.,  1.,  0.,  0.,  0., -1.]])\n",
      "tensor([[0., 0., 0., 0., 0., 0., 0., 0., 1.]])\n",
      "tensor([[ 0.,  0.,  0.,  0., -1.,  0., -1.,  1.,  1.]])\n",
      "tensor([[0., 0., 0., 0., 0., 0., 1., 0., 0.]])\n",
      "tensor([[ 0.,  0.,  0.,  0., -1.,  0.,  0.,  0.,  1.]])\n",
      "tensor([[ 1.,  0.,  0.,  0.,  1., -1.,  1., -1., -1.]])\n",
      "tensor([[ 0.,  0.,  0.,  0.,  1.,  0.,  1.,  0., -1.]])\n"
     ]
    },
    {
     "name": "stderr",
     "output_type": "stream",
     "text": [
      "\r",
      "  5%|█▊                                     | 460/10000 [00:17<08:33, 18.56it/s]"
     ]
    },
    {
     "name": "stdout",
     "output_type": "stream",
     "text": [
      "tensor([[ 1.,  0.,  0.,  0.,  0.,  0.,  0.,  0., -1.]])\n",
      "tensor([[ 0.,  0.,  0.,  0., -1.,  0.,  0.,  1.,  1.]])\n",
      "tensor([[0., 0., 0., 0., 0., 0., 0., 0., 1.]])\n",
      "tensor([[0., 0., 0., 0., 0., 0., 0., 0., 1.]])\n",
      "tensor([[ 1.,  0.,  0.,  0.,  0.,  0.,  0.,  0., -1.]])\n",
      "tensor([[0., 0., 0., 0., 0., 0., 1., 0., 0.]])\n",
      "tensor([[1., 0., 0., 0., 0., 0., 0., 0., 0.]])\n",
      "tensor([[ 0.,  0.,  0.,  0., -1.,  0.,  0.,  0.,  1.]])\n",
      "tensor([[ 1.,  0.,  0.,  0.,  1.,  0.,  0.,  0., -1.]])\n",
      "tensor([[0., 0., 0., 0., 0., 0., 0., 0., 1.]])\n",
      "tensor([[ 1.,  0.,  0.,  0.,  1.,  0.,  0.,  0., -1.]])\n",
      "tensor([[ 0.,  0.,  1.,  0.,  1.,  0.,  0.,  0., -1.]])\n",
      "tensor([[0., 0., 1., 0., 0., 0., 0., 0., 0.]])\n",
      "tensor([[0., 0., 0., 0., 0., 0., 0., 0., 1.]])\n",
      "tensor([[1., 0., 0., 0., 0., 0., 0., 0., 0.]])\n",
      "tensor([[0., 0., 0., 0., 0., 0., 0., 0., 1.]])\n",
      "tensor([[ 0.,  0.,  0.,  0.,  0.,  0.,  0., -1.,  1.]])\n",
      "tensor([[ 1.,  0.,  0.,  0.,  1.,  0.,  1., -1., -1.]])\n"
     ]
    },
    {
     "name": "stderr",
     "output_type": "stream",
     "text": [
      "  5%|█▊                                     | 466/10000 [00:17<08:06, 19.59it/s]"
     ]
    },
    {
     "name": "stdout",
     "output_type": "stream",
     "text": [
      "tensor([[0., 0., 0., 0., 0., 0., 0., 0., 1.]])\n",
      "tensor([[ 1.,  0.,  0.,  0.,  1.,  0.,  1., -1., -1.]])\n",
      "tensor([[0., 0., 0., 0., 0., 0., 0., 0., 1.]])\n",
      "tensor([[ 1.,  0.,  0.,  0.,  1.,  0.,  0., -1., -1.]])\n",
      "tensor([[ 0.,  0.,  0.,  0., -1.,  0., -1.,  1.,  1.]])\n",
      "tensor([[ 0.,  0.,  0.,  0., -1.,  0., -1.,  1.,  1.]])\n",
      "tensor([[ 0.,  0.,  0.,  0., -1.,  0.,  0.,  0.,  1.]])\n",
      "tensor([[ 1.,  0.,  0.,  0.,  1.,  0.,  0., -1., -1.]])\n",
      "tensor([[0., 0., 0., 0., 0., 0., 0., 0., 1.]])\n",
      "tensor([[ 0.,  0.,  0.,  0., -1.,  1., -1.,  1.,  1.]])\n",
      "tensor([[0., 0., 0., 0., 0., 0., 0., 0., 1.]])\n",
      "tensor([[ 0.,  0.,  0.,  0., -1.,  0.,  0.,  1.,  1.]])\n",
      "tensor([[ 1.,  0.,  0.,  0.,  1.,  0.,  0., -1., -1.]])\n",
      "tensor([[ 0.,  0.,  0.,  0., -1.,  0.,  0.,  0.,  1.]])\n",
      "tensor([[1., 0., 0., 0., 0., 0., 0., 0., 0.]])\n",
      "tensor([[ 0.,  0.,  0.,  0.,  0.,  0.,  0., -1.,  1.]])\n",
      "tensor([[0., 0., 0., 0., 0., 0., 1., 0., 0.]])\n",
      "tensor([[ 1.,  0.,  0.,  0.,  0.,  0.,  0.,  0., -1.]])\n",
      "tensor([[ 0.,  0.,  0.,  0.,  1.,  0.,  1., -1., -1.]])\n",
      "tensor([[ 0.,  0.,  0.,  0., -1.,  0.,  0.,  0.,  1.]])\n",
      "tensor([[ 0.,  0.,  0.,  0., -1.,  0.,  0.,  0.,  1.]])\n",
      "tensor([[ 0.,  0.,  0.,  0.,  0.,  0.,  1.,  0., -1.]])\n",
      "tensor([[ 0.,  0.,  0.,  0.,  1.,  0.,  1., -1., -1.]])\n",
      "tensor([[ 0.,  0.,  0.,  0., -1.,  0.,  0.,  0.,  1.]])\n"
     ]
    },
    {
     "name": "stderr",
     "output_type": "stream",
     "text": [
      "\r",
      "  5%|█▊                                     | 469/10000 [00:17<07:37, 20.84it/s]"
     ]
    },
    {
     "name": "stdout",
     "output_type": "stream",
     "text": [
      "tensor([[ 0.,  0.,  0.,  0., -1.,  0., -1.,  1.,  1.]])\n",
      "tensor([[0., 0., 0., 0., 0., 0., 0., 0., 1.]])\n",
      "tensor([[ 0.,  0.,  0.,  0., -1.,  1., -1.,  1.,  1.]])\n",
      "tensor([[ 0.,  0.,  0.,  0.,  1.,  0.,  0., -1.,  1.]])\n",
      "tensor([[ 1.,  0.,  0.,  0.,  0.,  0.,  0.,  0., -1.]])\n",
      "tensor([[ 1.,  0.,  0.,  0.,  1.,  0.,  1., -1., -1.]])\n",
      "tensor([[ 1.,  0.,  0.,  0.,  1.,  0.,  1., -1., -1.]])\n",
      "tensor([[1., 0., 0., 0., 0., 0., 0., 0., 0.]])\n",
      "tensor([[ 0.,  0.,  0.,  0., -1.,  0., -1.,  1.,  1.]])\n",
      "tensor([[ 1.,  0.,  0.,  0.,  1.,  0.,  0.,  0., -1.]])\n",
      "tensor([[ 1.,  0.,  0.,  0.,  1.,  0.,  1., -1., -1.]])\n",
      "tensor([[ 0.,  0.,  0.,  0., -1.,  0., -1.,  1.,  1.]])\n",
      "tensor([[0., 0., 0., 0., 1., 0., 0., 0., 0.]])\n",
      "tensor([[ 1.,  0.,  0.,  0.,  1.,  0.,  0., -1., -1.]])\n",
      "tensor([[ 0.,  0.,  0.,  0., -1.,  0.,  0.,  0.,  1.]])\n",
      "tensor([[ 0.,  0.,  0.,  0., -1.,  0.,  0.,  0.,  1.]])\n",
      "tensor([[ 0.,  0.,  0.,  0., -1.,  0.,  0.,  0.,  1.]])\n",
      "tensor([[ 0.,  0.,  0.,  0., -1.,  0., -1.,  1.,  1.]])\n",
      "tensor([[ 0.,  0.,  0.,  0., -1.,  0., -1.,  1.,  1.]])\n",
      "tensor([[ 0.,  0.,  0.,  0.,  1.,  0.,  0., -1.,  1.]])\n",
      "tensor([[ 1.,  0.,  0.,  0.,  1.,  0.,  0.,  0., -1.]])\n",
      "tensor([[ 1.,  0.,  0.,  0.,  1., -1.,  1., -1., -1.]])\n",
      "tensor([[ 0.,  0.,  0.,  0., -1.,  1., -1.,  1.,  1.]])\n",
      "tensor([[1., 0., 0., 0., 0., 0., 0., 0., 0.]])\n",
      "tensor([[0., 0., 1., 0., 0., 0., 0., 0., 0.]])\n",
      "tensor([[ 0.,  0.,  0.,  0., -1.,  1., -1.,  1.,  1.]])\n",
      "tensor([[ 0.,  0.,  0.,  0., -1.,  1., -1.,  1.,  1.]])\n"
     ]
    },
    {
     "name": "stderr",
     "output_type": "stream",
     "text": [
      "  5%|█▊                                     | 475/10000 [00:18<07:54, 20.06it/s]"
     ]
    },
    {
     "name": "stdout",
     "output_type": "stream",
     "text": [
      "tensor([[ 0.,  0.,  0.,  0., -1.,  1., -1.,  1.,  1.]])\n",
      "tensor([[ 0.,  0.,  0.,  0.,  0.,  0.,  0., -1.,  1.]])\n",
      "tensor([[ 0.,  0.,  0.,  0., -1.,  0.,  0.,  1.,  1.]])\n",
      "tensor([[1., 0., 0., 0., 0., 0., 0., 0., 0.]])\n",
      "tensor([[ 0.,  0.,  0.,  0., -1.,  0.,  0.,  1.,  1.]])\n",
      "tensor([[ 0.,  0.,  0.,  0., -1.,  0., -1.,  1.,  1.]])\n",
      "tensor([[ 0.,  0.,  1.,  0.,  1.,  0.,  0.,  0., -1.]])\n",
      "tensor([[ 0.,  0.,  0.,  0.,  0.,  0.,  0., -1.,  1.]])\n",
      "tensor([[ 0.,  0.,  0.,  0.,  1.,  0., -1., -1.,  1.]])\n",
      "tensor([[ 0.,  0.,  1.,  0.,  1.,  0.,  0.,  0., -1.]])\n",
      "tensor([[ 1.,  0.,  0.,  0.,  1.,  0.,  0., -1., -1.]])\n",
      "tensor([[0., 0., 0., 0., 1., 0., 0., 0., 0.]])\n",
      "tensor([[1., 0., 0., 0., 0., 0., 0., 0., 0.]])\n",
      "tensor([[ 0.,  0.,  0.,  0., -1.,  0.,  0.,  0.,  1.]])\n",
      "tensor([[ 0.,  0.,  0.,  0., -1.,  0., -1.,  1.,  1.]])\n",
      "tensor([[ 0.,  0.,  0.,  0., -1.,  1., -1.,  1.,  1.]])\n",
      "tensor([[ 0.,  0.,  0.,  0., -1.,  0., -1.,  1.,  1.]])\n",
      "tensor([[ 0.,  0.,  0.,  0., -1.,  0.,  0.,  0.,  1.]])\n"
     ]
    },
    {
     "name": "stderr",
     "output_type": "stream",
     "text": [
      "\r",
      "  5%|█▊                                     | 478/10000 [00:18<08:24, 18.88it/s]"
     ]
    },
    {
     "name": "stdout",
     "output_type": "stream",
     "text": [
      "tensor([[ 0.,  0.,  0.,  0., -1.,  1., -1.,  1.,  1.]])\n",
      "tensor([[ 0.,  0.,  0.,  0., -1.,  0., -1.,  1.,  1.]])\n",
      "tensor([[0., 0., 0., 0., 0., 0., 1., 0., 0.]])\n",
      "tensor([[ 0.,  0.,  0.,  0., -1.,  0.,  0.,  0.,  1.]])\n",
      "tensor([[ 0.,  0.,  0.,  0.,  1.,  0.,  0.,  0., -1.]])\n",
      "tensor([[ 0.,  0.,  0.,  0., -1.,  1., -1.,  1.,  1.]])\n",
      "tensor([[ 0.,  0.,  0.,  0., -1.,  1., -1.,  1.,  1.]])\n",
      "tensor([[ 0.,  0.,  0.,  0., -1.,  1., -1.,  1.,  1.]])\n",
      "tensor([[0., 0., 0., 0., 1., 0., 0., 0., 0.]])\n",
      "tensor([[0., 0., 0., 0., 1., 0., 0., 0., 0.]])\n",
      "tensor([[0., 0., 0., 0., 0., 0., 0., 0., 1.]])\n",
      "tensor([[ 0.,  0.,  0.,  0.,  0.,  0.,  0., -1.,  1.]])\n",
      "tensor([[ 1.,  0.,  0.,  0.,  1.,  0.,  0., -1., -1.]])\n",
      "tensor([[0., 0., 0., 0., 0., 0., 0., 0., 1.]])\n",
      "tensor([[ 0.,  0.,  0.,  0., -1.,  1., -1.,  1.,  1.]])\n",
      "tensor([[ 0.,  0.,  0.,  0.,  1.,  0.,  1., -1., -1.]])\n",
      "tensor([[ 1.,  0.,  0.,  0.,  1.,  0.,  1., -1., -1.]])\n",
      "tensor([[ 1.,  0.,  0.,  0.,  1.,  0.,  0.,  0., -1.]])\n",
      "tensor([[ 0.,  0.,  1.,  0.,  1.,  0.,  0., -1., -1.]])\n",
      "tensor([[ 1.,  0.,  0.,  0.,  1.,  0.,  0.,  0., -1.]])\n"
     ]
    },
    {
     "name": "stderr",
     "output_type": "stream",
     "text": [
      "\r",
      "  5%|█▉                                     | 481/10000 [00:18<07:50, 20.22it/s]"
     ]
    },
    {
     "name": "stdout",
     "output_type": "stream",
     "text": [
      "tensor([[ 0.,  0.,  0.,  0.,  1.,  0.,  0.,  0., -1.]])\n",
      "tensor([[0., 0., 0., 0., 0., 0., 0., 0., 1.]])\n",
      "tensor([[ 1.,  0.,  0.,  0.,  1.,  0.,  0., -1., -1.]])\n",
      "tensor([[ 0.,  0.,  0.,  0., -1.,  1., -1.,  1.,  1.]])\n",
      "tensor([[ 0.,  0.,  0.,  0., -1.,  1., -1.,  1.,  1.]])\n",
      "tensor([[ 0.,  0.,  0.,  0., -1.,  0.,  0.,  0.,  1.]])\n",
      "tensor([[ 0.,  0.,  0.,  0., -1.,  0.,  0.,  1.,  1.]])\n",
      "tensor([[ 1.,  0.,  0.,  0.,  1.,  0.,  1., -1., -1.]])\n",
      "tensor([[ 0.,  0.,  0.,  0., -1.,  0.,  0.,  1.,  1.]])\n",
      "tensor([[ 0.,  0.,  1.,  0.,  1.,  0.,  0., -1., -1.]])\n",
      "tensor([[ 0.,  0.,  0.,  0., -1.,  1., -1.,  1.,  1.]])\n",
      "tensor([[ 0.,  0.,  0.,  0.,  1.,  0.,  0.,  0., -1.]])\n",
      "tensor([[0., 0., 1., 0., 0., 0., 0., 0., 0.]])\n",
      "tensor([[ 1.,  0.,  0.,  0.,  1.,  0.,  1., -1., -1.]])\n"
     ]
    },
    {
     "name": "stderr",
     "output_type": "stream",
     "text": [
      "  5%|█▉                                     | 486/10000 [00:18<09:12, 17.22it/s]"
     ]
    },
    {
     "name": "stdout",
     "output_type": "stream",
     "text": [
      "tensor([[0., 0., 0., 0., 0., 0., 0., 0., 1.]])\n",
      "tensor([[ 1.,  0.,  0.,  0.,  1.,  0.,  0.,  0., -1.]])\n",
      "tensor([[0., 0., 0., 0., 0., 0., 1., 0., 0.]])\n",
      "tensor([[ 0.,  0.,  0.,  0.,  1.,  0.,  1., -1., -1.]])\n",
      "tensor([[0., 0., 0., 0., 0., 0., 1., 0., 0.]])\n",
      "tensor([[ 1.,  0.,  0.,  0.,  1.,  0.,  0., -1., -1.]])\n",
      "tensor([[ 1.,  0.,  0.,  0.,  0.,  0.,  0.,  0., -1.]])\n",
      "tensor([[ 1.,  0.,  0.,  0.,  1., -1.,  1., -1., -1.]])\n",
      "tensor([[1., 0., 0., 0., 0., 0., 0., 0., 0.]])\n",
      "tensor([[ 0.,  0.,  0.,  0., -1.,  1., -1.,  1.,  1.]])\n",
      "tensor([[ 0.,  0.,  0.,  0., -1.,  1., -1.,  1.,  1.]])\n",
      "tensor([[ 1.,  0.,  0.,  0.,  0.,  0.,  0.,  0., -1.]])\n",
      "tensor([[ 0.,  0.,  0.,  0.,  0.,  0.,  0., -1.,  1.]])\n",
      "tensor([[ 0.,  0.,  0.,  0., -1.,  0., -1.,  1.,  1.]])\n",
      "tensor([[ 0.,  0.,  0.,  0., -1.,  1., -1.,  1.,  1.]])\n",
      "tensor([[ 0.,  0.,  0.,  0.,  1.,  0.,  0.,  0., -1.]])\n"
     ]
    },
    {
     "name": "stderr",
     "output_type": "stream",
     "text": [
      "\r",
      "  5%|█▉                                     | 488/10000 [00:18<10:31, 15.06it/s]"
     ]
    },
    {
     "name": "stdout",
     "output_type": "stream",
     "text": [
      "tensor([[ 0.,  0.,  0.,  0., -1.,  0., -1.,  1.,  1.]])\n",
      "tensor([[ 0.,  0.,  0.,  0., -1.,  0.,  0.,  1.,  1.]])\n",
      "tensor([[1., 0., 0., 0., 0., 0., 0., 0., 0.]])\n",
      "tensor([[0., 0., 0., 0., 0., 0., 0., 0., 1.]])\n",
      "tensor([[ 0.,  0.,  0.,  0., -1.,  1., -1.,  1.,  1.]])\n",
      "tensor([[ 0.,  0.,  1.,  0.,  0.,  0.,  0.,  0., -1.]])\n",
      "tensor([[ 1.,  0.,  0.,  0.,  0.,  0.,  0.,  0., -1.]])\n",
      "tensor([[0., 0., 1., 0., 0., 0., 0., 0., 0.]])\n",
      "tensor([[0., 0., 0., 0., 0., 0., 0., 0., 1.]])\n",
      "tensor([[ 0.,  0.,  0.,  0., -1.,  1., -1.,  1.,  1.]])\n",
      "tensor([[ 0.,  0.,  0.,  0., -1.,  0., -1.,  1.,  1.]])\n"
     ]
    },
    {
     "name": "stderr",
     "output_type": "stream",
     "text": [
      "\r",
      "  5%|█▉                                     | 490/10000 [00:19<10:56, 14.48it/s]"
     ]
    },
    {
     "name": "stdout",
     "output_type": "stream",
     "text": [
      "tensor([[ 0.,  0.,  0.,  0., -1.,  0.,  0.,  1.,  1.]])\n",
      "tensor([[ 1.,  0.,  0.,  0.,  1.,  0.,  0.,  0., -1.]])\n",
      "tensor([[ 1.,  0.,  0.,  0.,  1.,  0.,  0., -1., -1.]])\n",
      "tensor([[ 0.,  0.,  0.,  0., -1.,  0.,  0.,  1.,  1.]])\n",
      "tensor([[ 0.,  0.,  0.,  0., -1.,  0., -1.,  1.,  1.]])\n",
      "tensor([[ 0.,  0.,  1.,  0.,  0.,  0.,  0.,  0., -1.]])\n",
      "tensor([[ 0.,  0.,  0.,  0., -1.,  0., -1.,  1.,  1.]])\n",
      "tensor([[ 0.,  0.,  0.,  0., -1.,  1., -1.,  1.,  1.]])\n",
      "tensor([[ 1.,  0.,  0.,  0.,  1.,  0.,  0., -1., -1.]])\n",
      "tensor([[ 0.,  0.,  1.,  0.,  0.,  0.,  0.,  0., -1.]])\n",
      "tensor([[ 0.,  0.,  0.,  0., -1.,  0.,  0.,  1.,  1.]])\n",
      "tensor([[ 0.,  0.,  0.,  0., -1.,  1., -1.,  1.,  1.]])\n",
      "tensor([[ 0.,  0.,  0.,  0., -1.,  0., -1.,  1.,  1.]])\n",
      "tensor([[ 0.,  0.,  0.,  0., -1.,  1., -1.,  1.,  1.]])\n",
      "tensor([[ 0.,  0.,  0.,  0.,  1.,  0.,  1., -1., -1.]])\n",
      "tensor([[ 0.,  0.,  0.,  0., -1.,  0.,  0.,  0.,  1.]])\n"
     ]
    },
    {
     "name": "stderr",
     "output_type": "stream",
     "text": [
      "  5%|█▉                                     | 495/10000 [00:19<09:32, 16.59it/s]"
     ]
    },
    {
     "name": "stdout",
     "output_type": "stream",
     "text": [
      "tensor([[ 0.,  0.,  1.,  0.,  1.,  0.,  0., -1., -1.]])\n",
      "tensor([[0., 0., 0., 0., 0., 0., 0., 0., 1.]])\n",
      "tensor([[ 0.,  0.,  0.,  0., -1.,  0.,  0.,  0.,  1.]])\n",
      "tensor([[ 0.,  0.,  0.,  0., -1.,  0., -1.,  1.,  1.]])\n",
      "tensor([[ 0.,  0.,  0.,  0., -1.,  0.,  0.,  1.,  1.]])\n",
      "tensor([[ 0.,  0.,  1.,  0.,  1.,  0.,  0.,  0., -1.]])\n",
      "tensor([[0., 0., 0., 0., 0., 0., 0., 0., 1.]])\n",
      "tensor([[ 0.,  0.,  0.,  0., -1.,  0.,  0.,  1.,  1.]])\n",
      "tensor([[ 0.,  0.,  0.,  0., -1.,  0., -1.,  1.,  1.]])\n",
      "tensor([[ 0.,  0.,  0.,  0., -1.,  0.,  0.,  1.,  1.]])\n",
      "tensor([[ 0.,  0.,  0.,  0., -1.,  0., -1.,  1.,  1.]])\n",
      "tensor([[0., 0., 0., 0., 0., 0., 0., 0., 1.]])\n",
      "tensor([[0., 0., 0., 0., 0., 0., 0., 0., 1.]])\n",
      "tensor([[0., 0., 0., 0., 1., 0., 0., 0., 0.]])\n",
      "tensor([[0., 0., 1., 0., 0., 0., 0., 0., 0.]])\n",
      "tensor([[0., 0., 0., 0., 0., 0., 0., 0., 1.]])\n",
      "tensor([[0., 0., 0., 0., 0., 0., 0., 0., 1.]])\n",
      "tensor([[ 0.,  0.,  0.,  0.,  1.,  0., -1., -1.,  1.]])\n",
      "tensor([[0., 0., 0., 0., 1., 0., 0., 0., 0.]])\n",
      "tensor([[ 0.,  0.,  0.,  0., -1.,  0.,  0.,  0.,  1.]])\n",
      "tensor([[ 1.,  0.,  0.,  0.,  1.,  0.,  1., -1., -1.]])\n"
     ]
    },
    {
     "name": "stderr",
     "output_type": "stream",
     "text": [
      "\r",
      "  5%|█▉                                     | 497/10000 [00:19<09:59, 15.85it/s]"
     ]
    },
    {
     "name": "stdout",
     "output_type": "stream",
     "text": [
      "tensor([[ 1.,  0.,  0.,  0.,  1.,  0.,  1., -1., -1.]])\n",
      "tensor([[ 0.,  0.,  0.,  0., -1.,  0.,  0.,  1.,  1.]])\n",
      "tensor([[ 0.,  0.,  0.,  0., -1.,  1., -1.,  1.,  1.]])\n",
      "tensor([[0., 0., 0., 0., 0., 0., 0., 0., 1.]])\n",
      "tensor([[ 0.,  0.,  0.,  0., -1.,  0., -1.,  1.,  1.]])\n",
      "tensor([[ 0.,  0.,  0.,  0., -1.,  0.,  0.,  1.,  1.]])\n",
      "tensor([[ 0.,  0.,  0.,  0.,  0.,  0.,  1.,  0., -1.]])\n",
      "tensor([[ 0.,  0.,  0.,  0.,  1.,  0., -1., -1.,  1.]])\n",
      "tensor([[ 1.,  0.,  0.,  0.,  1., -1.,  1., -1., -1.]])\n",
      "tensor([[0., 0., 0., 0., 0., 0., 0., 0., 1.]])\n",
      "tensor([[ 0.,  0.,  0.,  0., -1.,  0.,  0.,  0.,  1.]])\n",
      "tensor([[ 1.,  0.,  0.,  0.,  0.,  0.,  0.,  0., -1.]])\n",
      "tensor([[0., 0., 0., 0., 0., 0., 0., 0., 1.]])\n",
      "tensor([[ 0.,  0.,  0.,  0., -1.,  0.,  0.,  0.,  1.]])\n"
     ]
    },
    {
     "name": "stderr",
     "output_type": "stream",
     "text": [
      "  5%|█▉                                     | 501/10000 [00:19<11:06, 14.26it/s]"
     ]
    },
    {
     "name": "stdout",
     "output_type": "stream",
     "text": [
      "tensor([[ 0.,  0.,  0.,  0.,  1.,  0.,  1.,  0., -1.]])\n",
      "tensor([[ 0.,  0.,  0.,  0.,  1.,  0., -1., -1.,  1.]])\n",
      "tensor([[1., 0., 0., 0., 0., 0., 0., 0., 0.]])\n",
      "tensor([[ 1.,  0.,  0.,  0.,  1.,  0.,  0., -1., -1.]])\n",
      "tensor([[ 1.,  0.,  0.,  0.,  1.,  0.,  0., -1., -1.]])\n",
      "tensor([[ 0.,  0.,  0.,  0.,  1.,  0., -1., -1.,  1.]])\n",
      "tensor([[0., 0., 0., 0., 0., 0., 0., 0., 1.]])\n",
      "tensor([[ 0.,  0.,  0.,  0., -1.,  0.,  0.,  0.,  1.]])\n",
      "tensor([[ 0.,  0.,  0.,  0., -1.,  0.,  0.,  1.,  1.]])\n",
      "tensor([[ 1.,  0.,  0.,  0.,  1.,  0.,  0.,  0., -1.]])\n",
      "tensor([[ 0.,  0.,  0.,  0.,  1.,  0.,  0.,  0., -1.]])\n",
      "tensor([[0., 0., 0., 0., 0., 0., 0., 0., 1.]])\n",
      "tensor([[ 0.,  0.,  0.,  0., -1.,  0.,  0.,  0.,  1.]])\n",
      "tensor([[ 0.,  0.,  1.,  0.,  1.,  0.,  0.,  0., -1.]])\n"
     ]
    },
    {
     "name": "stderr",
     "output_type": "stream",
     "text": [
      "  5%|█▉                                     | 506/10000 [00:19<08:32, 18.53it/s]"
     ]
    },
    {
     "name": "stdout",
     "output_type": "stream",
     "text": [
      "tensor([[0., 0., 0., 0., 0., 0., 0., 0., 1.]])\n",
      "tensor([[ 0.,  0.,  0.,  0., -1.,  0., -1.,  1.,  1.]])\n",
      "tensor([[0., 0., 0., 0., 0., 0., 0., 0., 1.]])\n",
      "tensor([[ 0.,  0.,  0.,  0., -1.,  1., -1.,  1.,  1.]])\n",
      "tensor([[ 0.,  0.,  0.,  0., -1.,  0., -1.,  1.,  1.]])\n",
      "tensor([[1., 0., 0., 0., 0., 0., 0., 0., 0.]])\n",
      "tensor([[0., 0., 0., 0., 0., 0., 0., 0., 1.]])\n",
      "tensor([[ 0.,  0.,  1.,  0.,  1.,  0.,  0., -1., -1.]])\n",
      "tensor([[ 0.,  0.,  0.,  0., -1.,  0.,  0.,  1.,  1.]])\n",
      "tensor([[0., 0., 0., 0., 0., 0., 0., 0., 1.]])\n",
      "tensor([[ 0.,  0.,  0.,  0., -1.,  0.,  0.,  0.,  1.]])\n",
      "tensor([[ 1.,  0.,  0.,  0.,  1.,  0.,  0., -1., -1.]])\n",
      "tensor([[ 0.,  0.,  0.,  0.,  1.,  0.,  0., -1.,  1.]])\n",
      "tensor([[ 0.,  0.,  0.,  0., -1.,  1., -1.,  1.,  1.]])\n",
      "tensor([[0., 0., 0., 0., 0., 0., 0., 0., 1.]])\n",
      "tensor([[ 0.,  0.,  0.,  0.,  0.,  0.,  0., -1.,  1.]])\n",
      "tensor([[ 0.,  0.,  0.,  0., -1.,  0.,  0.,  1.,  1.]])\n",
      "tensor([[ 0.,  0.,  0.,  0., -1.,  0.,  0.,  0.,  1.]])\n",
      "tensor([[ 0.,  0.,  0.,  0., -1.,  0., -1.,  1.,  1.]])\n",
      "tensor([[0., 0., 0., 0., 0., 0., 1., 0., 0.]])\n",
      "tensor([[ 0.,  0.,  1.,  0.,  0.,  0.,  0.,  0., -1.]])\n",
      "tensor([[ 0.,  0.,  0.,  0., -1.,  0., -1.,  1.,  1.]])\n",
      "tensor([[ 0.,  0.,  0.,  0., -1.,  0.,  0.,  0.,  1.]])\n",
      "tensor([[ 0.,  0.,  0.,  0.,  1.,  0.,  1., -1., -1.]])\n",
      "tensor([[ 0.,  0.,  0.,  0.,  0.,  0.,  1.,  0., -1.]])\n",
      "tensor([[ 0.,  0.,  0.,  0., -1.,  0.,  0.,  0.,  1.]])\n",
      "tensor([[ 0.,  0.,  1.,  0.,  1.,  0.,  0.,  0., -1.]])\n",
      "tensor([[0., 0., 0., 0., 0., 0., 0., 0., 1.]])\n",
      "tensor([[ 1.,  0.,  0.,  0.,  0.,  0.,  0.,  0., -1.]])\n",
      "tensor([[ 0.,  0.,  0.,  0., -1.,  0.,  0.,  1.,  1.]])\n",
      "tensor([[ 0.,  0.,  0.,  0., -1.,  0.,  0.,  0.,  1.]])\n",
      "tensor([[ 0.,  0.,  0.,  0., -1.,  0., -1.,  1.,  1.]])\n"
     ]
    },
    {
     "name": "stderr",
     "output_type": "stream",
     "text": [
      "  5%|█▉                                     | 512/10000 [00:20<07:08, 22.14it/s]"
     ]
    },
    {
     "name": "stdout",
     "output_type": "stream",
     "text": [
      "tensor([[ 0.,  0.,  0.,  0., -1.,  0.,  0.,  0.,  1.]])\n",
      "tensor([[ 0.,  0.,  0.,  0., -1.,  1., -1.,  1.,  1.]])\n",
      "tensor([[0., 0., 0., 0., 0., 0., 0., 0., 1.]])\n",
      "tensor([[ 0.,  0.,  0.,  0.,  1.,  0., -1., -1.,  1.]])\n",
      "tensor([[ 0.,  0.,  0.,  0., -1.,  1., -1.,  1.,  1.]])\n",
      "tensor([[ 0.,  0.,  0.,  0., -1.,  0.,  0.,  1.,  1.]])\n",
      "tensor([[ 0.,  0.,  0.,  0., -1.,  1., -1.,  1.,  1.]])\n",
      "tensor([[ 0.,  0.,  0.,  0., -1.,  0., -1.,  1.,  1.]])\n",
      "tensor([[0., 0., 0., 0., 0., 0., 0., 0., 1.]])\n",
      "tensor([[ 1.,  0.,  0.,  0.,  1., -1.,  1., -1., -1.]])\n",
      "tensor([[0., 0., 0., 0., 0., 0., 1., 0., 0.]])\n",
      "tensor([[ 0.,  0.,  0.,  0., -1.,  1., -1.,  1.,  1.]])\n",
      "tensor([[ 0.,  0.,  0.,  0., -1.,  0.,  0.,  0.,  1.]])\n",
      "tensor([[ 0.,  0.,  0.,  0., -1.,  0., -1.,  1.,  1.]])\n",
      "tensor([[ 0.,  0.,  0.,  0.,  1.,  0.,  1.,  0., -1.]])\n",
      "tensor([[ 1.,  0.,  0.,  0.,  1., -1.,  1., -1., -1.]])\n",
      "tensor([[ 0.,  0.,  0.,  0.,  1.,  0.,  1.,  0., -1.]])\n",
      "tensor([[ 0.,  0.,  0.,  0., -1.,  1., -1.,  1.,  1.]])\n",
      "tensor([[0., 0., 0., 0., 0., 0., 0., 0., 1.]])\n",
      "tensor([[0., 0., 0., 0., 0., 0., 0., 0., 1.]])\n",
      "tensor([[ 0.,  0.,  0.,  0., -1.,  0., -1.,  1.,  1.]])\n",
      "tensor([[ 0.,  0.,  1.,  0.,  0.,  0.,  0.,  0., -1.]])\n"
     ]
    },
    {
     "name": "stderr",
     "output_type": "stream",
     "text": [
      "\r",
      "  5%|██                                     | 515/10000 [00:20<07:48, 20.26it/s]"
     ]
    },
    {
     "name": "stdout",
     "output_type": "stream",
     "text": [
      "tensor([[ 0.,  0.,  0.,  0., -1.,  1., -1.,  1.,  1.]])\n",
      "tensor([[ 1.,  0.,  0.,  0.,  1., -1.,  1., -1., -1.]])\n",
      "tensor([[0., 0., 0., 0., 0., 0., 0., 0., 1.]])\n",
      "tensor([[ 1.,  0.,  0.,  0.,  1., -1.,  1., -1., -1.]])\n",
      "tensor([[1., 0., 0., 0., 0., 0., 0., 0., 0.]])\n",
      "tensor([[ 1.,  0.,  0.,  0.,  0.,  0.,  0.,  0., -1.]])\n",
      "tensor([[0., 0., 0., 0., 0., 0., 1., 0., 0.]])\n",
      "tensor([[ 0.,  0.,  0.,  0., -1.,  0.,  0.,  1.,  1.]])\n",
      "tensor([[ 1.,  0.,  0.,  0.,  1.,  0.,  0., -1., -1.]])\n",
      "tensor([[ 0.,  0.,  0.,  0.,  1.,  0.,  1., -1., -1.]])\n",
      "tensor([[ 1.,  0.,  0.,  0.,  1.,  0.,  1., -1., -1.]])\n",
      "tensor([[ 0.,  0.,  0.,  0.,  1.,  0.,  1.,  0., -1.]])\n",
      "tensor([[0., 0., 0., 0., 0., 0., 0., 0., 1.]])\n",
      "tensor([[ 0.,  0.,  1.,  0.,  0.,  0.,  0.,  0., -1.]])\n",
      "tensor([[ 0.,  0.,  0.,  0., -1.,  0.,  0.,  0.,  1.]])\n",
      "tensor([[ 0.,  0.,  0.,  0., -1.,  1., -1.,  1.,  1.]])\n",
      "tensor([[ 1.,  0.,  0.,  0.,  1.,  0.,  0., -1., -1.]])\n",
      "tensor([[ 1.,  0.,  0.,  0.,  1.,  0.,  0.,  0., -1.]])\n",
      "tensor([[ 0.,  0.,  0.,  0., -1.,  1., -1.,  1.,  1.]])\n",
      "tensor([[ 0.,  0.,  0.,  0., -1.,  1., -1.,  1.,  1.]])\n",
      "tensor([[0., 0., 1., 0., 0., 0., 0., 0., 0.]])\n",
      "tensor([[ 0.,  0.,  0.,  0., -1.,  0.,  0.,  1.,  1.]])\n"
     ]
    },
    {
     "name": "stderr",
     "output_type": "stream",
     "text": [
      "  5%|██                                     | 522/10000 [00:20<06:47, 23.24it/s]"
     ]
    },
    {
     "name": "stdout",
     "output_type": "stream",
     "text": [
      "tensor([[ 0.,  0.,  0.,  0., -1.,  0., -1.,  1.,  1.]])\n",
      "tensor([[0., 0., 0., 0., 0., 0., 0., 0., 1.]])\n",
      "tensor([[ 0.,  0.,  0.,  0., -1.,  0., -1.,  1.,  1.]])\n",
      "tensor([[ 1.,  0.,  0.,  0.,  1.,  0.,  0.,  0., -1.]])\n",
      "tensor([[ 1.,  0.,  0.,  0.,  1., -1.,  1., -1., -1.]])\n",
      "tensor([[ 1.,  0.,  0.,  0.,  1.,  0.,  1., -1., -1.]])\n",
      "tensor([[ 0.,  0.,  0.,  0., -1.,  0.,  0.,  1.,  1.]])\n",
      "tensor([[ 0.,  0.,  1.,  0.,  1.,  0.,  0., -1., -1.]])\n",
      "tensor([[ 0.,  0.,  0.,  0., -1.,  0.,  0.,  1.,  1.]])\n",
      "tensor([[ 0.,  0.,  0.,  0., -1.,  1., -1.,  1.,  1.]])\n",
      "tensor([[ 0.,  0.,  0.,  0., -1.,  1., -1.,  1.,  1.]])\n",
      "tensor([[ 1.,  0.,  0.,  0.,  1.,  0.,  0.,  0., -1.]])\n",
      "tensor([[ 0.,  0.,  0.,  0., -1.,  1., -1.,  1.,  1.]])\n",
      "tensor([[ 1.,  0.,  0.,  0.,  1., -1.,  1., -1., -1.]])\n",
      "tensor([[0., 0., 0., 0., 0., 0., 1., 0., 0.]])\n",
      "tensor([[ 1.,  0.,  0.,  0.,  1.,  0.,  1., -1., -1.]])\n",
      "tensor([[ 0.,  0.,  0.,  0.,  1.,  0.,  1., -1., -1.]])\n",
      "tensor([[ 0.,  0.,  0.,  0., -1.,  1., -1.,  1.,  1.]])\n",
      "tensor([[ 0.,  0.,  1.,  0.,  1.,  0.,  0., -1., -1.]])\n",
      "tensor([[ 0.,  0.,  0.,  0., -1.,  0.,  0.,  1.,  1.]])\n",
      "tensor([[ 1.,  0.,  0.,  0.,  1.,  0.,  0., -1., -1.]])\n",
      "tensor([[1., 0., 0., 0., 0., 0., 0., 0., 0.]])\n",
      "tensor([[ 0.,  0.,  0.,  0., -1.,  1., -1.,  1.,  1.]])\n",
      "tensor([[ 0.,  0.,  0.,  0., -1.,  0.,  0.,  0.,  1.]])\n",
      "tensor([[ 1.,  0.,  0.,  0.,  1.,  0.,  0.,  0., -1.]])\n",
      "tensor([[ 1.,  0.,  0.,  0.,  1.,  0.,  0.,  0., -1.]])\n"
     ]
    },
    {
     "name": "stderr",
     "output_type": "stream",
     "text": [
      "\r",
      "  5%|██                                     | 525/10000 [00:20<07:21, 21.47it/s]"
     ]
    },
    {
     "name": "stdout",
     "output_type": "stream",
     "text": [
      "tensor([[0., 0., 1., 0., 0., 0., 0., 0., 0.]])\n",
      "tensor([[ 1.,  0.,  0.,  0.,  1.,  0.,  0., -1., -1.]])\n",
      "tensor([[ 1.,  0.,  0.,  0.,  1.,  0.,  1., -1., -1.]])\n",
      "tensor([[0., 0., 0., 0., 0., 0., 0., 0., 1.]])\n",
      "tensor([[ 0.,  0.,  0.,  0., -1.,  1., -1.,  1.,  1.]])\n",
      "tensor([[ 0.,  0.,  0.,  0.,  1.,  0.,  0.,  0., -1.]])\n",
      "tensor([[ 0.,  0.,  0.,  0.,  1.,  0.,  0., -1.,  1.]])\n",
      "tensor([[ 1.,  0.,  0.,  0.,  1.,  0.,  0., -1., -1.]])\n",
      "tensor([[ 0.,  0.,  0.,  0.,  0.,  0.,  0., -1.,  1.]])\n",
      "tensor([[1., 0., 0., 0., 0., 0., 0., 0., 0.]])\n",
      "tensor([[ 0.,  0.,  0.,  0., -1.,  1., -1.,  1.,  1.]])\n",
      "tensor([[ 0.,  0.,  0.,  0., -1.,  1., -1.,  1.,  1.]])\n",
      "tensor([[0., 0., 0., 0., 0., 0., 1., 0., 0.]])\n",
      "tensor([[ 0.,  0.,  0.,  0.,  0.,  0.,  0., -1.,  1.]])\n",
      "tensor([[1., 0., 0., 0., 0., 0., 0., 0., 0.]])\n",
      "tensor([[ 0.,  0.,  0.,  0.,  0.,  0.,  0., -1.,  1.]])\n",
      "tensor([[ 0.,  0.,  0.,  0.,  1.,  0.,  0.,  0., -1.]])\n",
      "tensor([[ 0.,  0.,  0.,  0., -1.,  0.,  0.,  1.,  1.]])\n",
      "tensor([[ 0.,  0.,  0.,  0.,  0.,  0.,  0., -1.,  1.]])\n",
      "tensor([[ 0.,  0.,  0.,  0., -1.,  0.,  0.,  1.,  1.]])\n",
      "tensor([[ 0.,  0.,  0.,  0., -1.,  0.,  0.,  1.,  1.]])\n"
     ]
    },
    {
     "name": "stderr",
     "output_type": "stream",
     "text": [
      "\r",
      "  5%|██                                     | 528/10000 [00:20<07:42, 20.49it/s]"
     ]
    },
    {
     "name": "stdout",
     "output_type": "stream",
     "text": [
      "tensor([[ 0.,  0.,  0.,  0., -1.,  1., -1.,  1.,  1.]])\n",
      "tensor([[ 1.,  0.,  0.,  0.,  1.,  0.,  0., -1., -1.]])\n",
      "tensor([[ 0.,  0.,  0.,  0., -1.,  1., -1.,  1.,  1.]])\n",
      "tensor([[ 0.,  0.,  1.,  0.,  1.,  0.,  0.,  0., -1.]])\n",
      "tensor([[ 0.,  0.,  0.,  0., -1.,  0., -1.,  1.,  1.]])\n",
      "tensor([[ 1.,  0.,  0.,  0.,  1., -1.,  1., -1., -1.]])\n",
      "tensor([[ 1.,  0.,  0.,  0.,  1.,  0.,  1., -1., -1.]])\n",
      "tensor([[ 0.,  0.,  0.,  0., -1.,  0., -1.,  1.,  1.]])\n",
      "tensor([[0., 0., 0., 0., 0., 0., 0., 0., 1.]])\n",
      "tensor([[0., 0., 0., 0., 0., 0., 0., 0., 1.]])\n",
      "tensor([[0., 0., 0., 0., 0., 0., 0., 0., 1.]])\n",
      "tensor([[0., 0., 0., 0., 0., 0., 0., 0., 1.]])\n",
      "tensor([[ 0.,  0.,  0.,  0.,  0.,  0.,  0., -1.,  1.]])\n",
      "tensor([[ 0.,  0.,  0.,  0.,  0.,  0.,  0., -1.,  1.]])\n",
      "tensor([[0., 0., 0., 0., 0., 0., 0., 0., 1.]])\n",
      "tensor([[0., 0., 0., 0., 0., 0., 0., 0., 1.]])\n",
      "tensor([[ 0.,  0.,  0.,  0., -1.,  0.,  0.,  0.,  1.]])\n",
      "tensor([[ 0.,  0.,  0.,  0.,  1.,  0.,  0., -1.,  1.]])\n",
      "tensor([[ 0.,  0.,  0.,  0., -1.,  1., -1.,  1.,  1.]])\n",
      "tensor([[0., 0., 0., 0., 0., 0., 0., 0., 1.]])\n",
      "tensor([[ 1.,  0.,  0.,  0.,  1.,  0.,  1., -1., -1.]])\n",
      "tensor([[ 1.,  0.,  0.,  0.,  0.,  0.,  0.,  0., -1.]])\n",
      "tensor([[ 0.,  0.,  0.,  0.,  1.,  0.,  1., -1., -1.]])\n"
     ]
    },
    {
     "name": "stderr",
     "output_type": "stream",
     "text": [
      "  5%|██                                     | 534/10000 [00:21<07:22, 21.38it/s]"
     ]
    },
    {
     "name": "stdout",
     "output_type": "stream",
     "text": [
      "tensor([[ 0.,  0.,  0.,  0., -1.,  0.,  0.,  1.,  1.]])\n",
      "tensor([[ 0.,  0.,  0.,  0., -1.,  1., -1.,  1.,  1.]])\n",
      "tensor([[0., 0., 0., 0., 1., 0., 0., 0., 0.]])\n",
      "tensor([[ 0.,  0.,  0.,  0., -1.,  0., -1.,  1.,  1.]])\n",
      "tensor([[ 0.,  0.,  0.,  0., -1.,  0.,  0.,  1.,  1.]])\n",
      "tensor([[ 0.,  0.,  0.,  0., -1.,  0.,  0.,  0.,  1.]])\n",
      "tensor([[ 0.,  0.,  0.,  0.,  1.,  0.,  0.,  0., -1.]])\n",
      "tensor([[ 0.,  0.,  0.,  0., -1.,  0.,  0.,  1.,  1.]])\n",
      "tensor([[ 1.,  0.,  0.,  0.,  1.,  0.,  1., -1., -1.]])\n",
      "tensor([[ 0.,  0.,  0.,  0., -1.,  1., -1.,  1.,  1.]])\n",
      "tensor([[ 0.,  0.,  0.,  0., -1.,  1., -1.,  1.,  1.]])\n",
      "tensor([[ 0.,  0.,  0.,  0., -1.,  1., -1.,  1.,  1.]])\n",
      "tensor([[0., 0., 0., 0., 0., 0., 0., 0., 1.]])\n",
      "tensor([[ 0.,  0.,  0.,  0.,  0.,  0.,  1.,  0., -1.]])\n",
      "tensor([[ 0.,  0.,  0.,  0.,  1.,  0.,  0.,  0., -1.]])\n",
      "tensor([[ 0.,  0.,  0.,  0., -1.,  0.,  0.,  1.,  1.]])\n",
      "tensor([[ 0.,  0.,  0.,  0., -1.,  1., -1.,  1.,  1.]])\n",
      "tensor([[ 0.,  0.,  0.,  0., -1.,  0.,  0.,  0.,  1.]])\n",
      "tensor([[ 1.,  0.,  0.,  0.,  1.,  0.,  0., -1., -1.]])\n",
      "tensor([[ 1.,  0.,  0.,  0.,  1.,  0.,  1., -1., -1.]])\n",
      "tensor([[0., 0., 1., 0., 0., 0., 0., 0., 0.]])\n",
      "tensor([[ 0.,  0.,  0.,  0., -1.,  1., -1.,  1.,  1.]])\n",
      "tensor([[0., 0., 0., 0., 1., 0., 0., 0., 0.]])\n",
      "tensor([[ 0.,  0.,  0.,  0., -1.,  1., -1.,  1.,  1.]])\n",
      "tensor([[ 0.,  0.,  0.,  0., -1.,  1., -1.,  1.,  1.]])\n"
     ]
    },
    {
     "name": "stderr",
     "output_type": "stream",
     "text": [
      "\r",
      "  5%|██                                     | 537/10000 [00:21<07:54, 19.95it/s]"
     ]
    },
    {
     "name": "stdout",
     "output_type": "stream",
     "text": [
      "tensor([[ 1.,  0.,  0.,  0.,  1.,  0.,  0.,  0., -1.]])\n",
      "tensor([[ 0.,  0.,  0.,  0., -1.,  0.,  0.,  0.,  1.]])\n",
      "tensor([[ 1.,  0.,  0.,  0.,  1.,  0.,  0., -1., -1.]])\n",
      "tensor([[0., 0., 0., 0., 0., 0., 0., 0., 1.]])\n",
      "tensor([[ 1.,  0.,  0.,  0.,  1.,  0.,  0.,  0., -1.]])\n",
      "tensor([[ 0.,  0.,  0.,  0., -1.,  0., -1.,  1.,  1.]])\n",
      "tensor([[ 0.,  0.,  0.,  0., -1.,  0.,  0.,  0.,  1.]])\n",
      "tensor([[ 0.,  0.,  0.,  0.,  1.,  0.,  0., -1.,  1.]])\n",
      "tensor([[ 0.,  0.,  0.,  0.,  1.,  0.,  1., -1., -1.]])\n",
      "tensor([[ 0.,  0.,  0.,  0., -1.,  0.,  0.,  1.,  1.]])\n",
      "tensor([[ 0.,  0.,  0.,  0., -1.,  0.,  0.,  0.,  1.]])\n",
      "tensor([[ 1.,  0.,  0.,  0.,  1., -1.,  1., -1., -1.]])\n",
      "tensor([[0., 0., 0., 0., 0., 0., 1., 0., 0.]])\n",
      "tensor([[ 0.,  0.,  0.,  0., -1.,  0.,  0.,  1.,  1.]])\n",
      "tensor([[ 0.,  0.,  0.,  0., -1.,  0.,  0.,  0.,  1.]])\n",
      "tensor([[ 0.,  0.,  0.,  0., -1.,  0.,  0.,  0.,  1.]])\n",
      "tensor([[ 1.,  0.,  0.,  0.,  1.,  0.,  1., -1., -1.]])\n",
      "tensor([[ 1.,  0.,  0.,  0.,  1.,  0.,  0., -1., -1.]])\n",
      "tensor([[ 0.,  0.,  1.,  0.,  1.,  0.,  0., -1., -1.]])\n",
      "tensor([[ 0.,  0.,  0.,  0., -1.,  0.,  0.,  0.,  1.]])\n",
      "tensor([[ 0.,  0.,  0.,  0., -1.,  0.,  0.,  1.,  1.]])\n"
     ]
    },
    {
     "name": "stderr",
     "output_type": "stream",
     "text": [
      "  5%|██                                     | 543/10000 [00:21<07:51, 20.04it/s]"
     ]
    },
    {
     "name": "stdout",
     "output_type": "stream",
     "text": [
      "tensor([[1., 0., 0., 0., 0., 0., 0., 0., 0.]])\n",
      "tensor([[ 0.,  0.,  0.,  0.,  1.,  0.,  1.,  0., -1.]])\n",
      "tensor([[ 0.,  0.,  0.,  0., -1.,  0.,  0.,  0.,  1.]])\n",
      "tensor([[0., 0., 0., 0., 0., 0., 0., 0., 1.]])\n",
      "tensor([[0., 0., 0., 0., 0., 0., 0., 0., 1.]])\n",
      "tensor([[ 0.,  0.,  0.,  0., -1.,  0.,  0.,  0.,  1.]])\n",
      "tensor([[ 1.,  0.,  0.,  0.,  1., -1.,  1., -1., -1.]])\n",
      "tensor([[0., 0., 0., 0., 0., 0., 0., 0., 1.]])\n",
      "tensor([[ 0.,  0.,  0.,  0.,  1.,  0.,  0., -1.,  1.]])\n",
      "tensor([[ 0.,  0.,  0.,  0., -1.,  1., -1.,  1.,  1.]])\n",
      "tensor([[ 0.,  0.,  0.,  0., -1.,  0., -1.,  1.,  1.]])\n",
      "tensor([[ 1.,  0.,  0.,  0.,  1.,  0.,  0.,  0., -1.]])\n",
      "tensor([[ 0.,  0.,  0.,  0., -1.,  0.,  0.,  1.,  1.]])\n",
      "tensor([[ 0.,  0.,  0.,  0., -1.,  0., -1.,  1.,  1.]])\n",
      "tensor([[0., 0., 0., 0., 0., 0., 0., 0., 1.]])\n",
      "tensor([[ 0.,  0.,  0.,  0., -1.,  0., -1.,  1.,  1.]])\n",
      "tensor([[ 0.,  0.,  0.,  0., -1.,  0.,  0.,  0.,  1.]])\n",
      "tensor([[0., 0., 0., 0., 0., 0., 1., 0., 0.]])\n",
      "tensor([[0., 0., 0., 0., 0., 0., 1., 0., 0.]])\n",
      "tensor([[0., 0., 0., 0., 0., 0., 0., 0., 1.]])\n",
      "tensor([[ 0.,  0.,  0.,  0., -1.,  0., -1.,  1.,  1.]])\n",
      "tensor([[ 1.,  0.,  0.,  0.,  1.,  0.,  0.,  0., -1.]])\n",
      "tensor([[ 0.,  0.,  0.,  0., -1.,  1., -1.,  1.,  1.]])\n",
      "tensor([[ 0.,  0.,  0.,  0., -1.,  1., -1.,  1.,  1.]])\n",
      "tensor([[ 0.,  0.,  0.,  0., -1.,  1., -1.,  1.,  1.]])\n",
      "tensor([[ 0.,  0.,  0.,  0., -1.,  0.,  0.,  1.,  1.]])\n",
      "tensor([[ 1.,  0.,  0.,  0.,  1., -1.,  1., -1., -1.]])\n"
     ]
    },
    {
     "name": "stderr",
     "output_type": "stream",
     "text": [
      "\r",
      "  5%|██▏                                    | 546/10000 [00:21<07:41, 20.50it/s]"
     ]
    },
    {
     "name": "stdout",
     "output_type": "stream",
     "text": [
      "tensor([[ 0.,  0.,  0.,  0., -1.,  1., -1.,  1.,  1.]])\n",
      "tensor([[0., 0., 0., 0., 0., 0., 0., 0., 1.]])\n",
      "tensor([[ 0.,  0.,  0.,  0., -1.,  1., -1.,  1.,  1.]])\n",
      "tensor([[ 0.,  0.,  0.,  0., -1.,  0.,  0.,  0.,  1.]])\n",
      "tensor([[ 1.,  0.,  0.,  0.,  1.,  0.,  0., -1., -1.]])\n",
      "tensor([[ 0.,  0.,  0.,  0., -1.,  0., -1.,  1.,  1.]])\n",
      "tensor([[ 0.,  0.,  0.,  0., -1.,  0., -1.,  1.,  1.]])\n",
      "tensor([[ 0.,  0.,  1.,  0.,  0.,  0.,  0.,  0., -1.]])\n",
      "tensor([[ 0.,  0.,  0.,  0.,  1.,  0.,  1., -1., -1.]])\n",
      "tensor([[ 1.,  0.,  0.,  0.,  1.,  0.,  0.,  0., -1.]])\n",
      "tensor([[0., 0., 0., 0., 0., 0., 0., 0., 1.]])\n",
      "tensor([[ 0.,  0.,  0.,  0., -1.,  0., -1.,  1.,  1.]])\n",
      "tensor([[ 0.,  0.,  0.,  0., -1.,  0., -1.,  1.,  1.]])\n",
      "tensor([[ 0.,  0.,  0.,  0., -1.,  1., -1.,  1.,  1.]])\n",
      "tensor([[0., 0., 0., 0., 0., 0., 0., 0., 1.]])\n",
      "tensor([[ 1.,  0.,  0.,  0.,  1.,  0.,  1., -1., -1.]])\n",
      "tensor([[ 0.,  0.,  0.,  0., -1.,  1., -1.,  1.,  1.]])\n",
      "tensor([[ 0.,  0.,  0.,  0., -1.,  0.,  0.,  1.,  1.]])\n",
      "tensor([[ 1.,  0.,  0.,  0.,  0.,  0.,  0.,  0., -1.]])\n",
      "tensor([[ 1.,  0.,  0.,  0.,  1.,  0.,  1., -1., -1.]])\n",
      "tensor([[ 0.,  0.,  1.,  0.,  1.,  0.,  0., -1., -1.]])\n"
     ]
    },
    {
     "name": "stderr",
     "output_type": "stream",
     "text": [
      "\r",
      "  5%|██▏                                    | 549/10000 [00:22<09:06, 17.28it/s]"
     ]
    },
    {
     "name": "stdout",
     "output_type": "stream",
     "text": [
      "tensor([[ 0.,  0.,  0.,  0., -1.,  0.,  0.,  0.,  1.]])\n",
      "tensor([[ 1.,  0.,  0.,  0.,  1.,  0.,  1., -1., -1.]])\n",
      "tensor([[0., 0., 0., 0., 0., 0., 0., 0., 1.]])\n",
      "tensor([[ 0.,  0.,  0.,  0., -1.,  0.,  0.,  1.,  1.]])\n",
      "tensor([[ 0.,  0.,  0.,  0., -1.,  0.,  0.,  0.,  1.]])\n",
      "tensor([[ 1.,  0.,  0.,  0.,  1.,  0.,  1., -1., -1.]])\n",
      "tensor([[ 0.,  0.,  0.,  0., -1.,  0., -1.,  1.,  1.]])\n",
      "tensor([[ 0.,  0.,  0.,  0., -1.,  0.,  0.,  0.,  1.]])\n",
      "tensor([[ 0.,  0.,  0.,  0.,  1.,  0.,  0.,  0., -1.]])\n",
      "tensor([[ 0.,  0.,  0.,  0., -1.,  0., -1.,  1.,  1.]])\n",
      "tensor([[ 0.,  0.,  0.,  0., -1.,  0.,  0.,  0.,  1.]])\n",
      "tensor([[ 0.,  0.,  0.,  0., -1.,  0.,  0.,  0.,  1.]])\n",
      "tensor([[ 0.,  0.,  0.,  0., -1.,  0.,  0.,  0.,  1.]])\n"
     ]
    },
    {
     "name": "stderr",
     "output_type": "stream",
     "text": [
      "  6%|██▏                                    | 553/10000 [00:22<09:52, 15.95it/s]"
     ]
    },
    {
     "name": "stdout",
     "output_type": "stream",
     "text": [
      "tensor([[1., 0., 0., 0., 0., 0., 0., 0., 0.]])\n",
      "tensor([[ 0.,  0.,  0.,  0., -1.,  1., -1.,  1.,  1.]])\n",
      "tensor([[0., 0., 0., 0., 0., 0., 0., 0., 1.]])\n",
      "tensor([[0., 0., 0., 0., 0., 0., 1., 0., 0.]])\n",
      "tensor([[ 0.,  0.,  1.,  0.,  0.,  0.,  0.,  0., -1.]])\n",
      "tensor([[ 1.,  0.,  0.,  0.,  1.,  0.,  0.,  0., -1.]])\n",
      "tensor([[ 0.,  0.,  0.,  0., -1.,  0.,  0.,  0.,  1.]])\n",
      "tensor([[ 0.,  0.,  1.,  0.,  0.,  0.,  0.,  0., -1.]])\n",
      "tensor([[1., 0., 0., 0., 0., 0., 0., 0., 0.]])\n",
      "tensor([[0., 0., 0., 0., 0., 0., 0., 0., 1.]])\n",
      "tensor([[ 0.,  0.,  0.,  0., -1.,  0.,  0.,  0.,  1.]])\n",
      "tensor([[ 0.,  0.,  0.,  0.,  1.,  0.,  0., -1.,  1.]])\n",
      "tensor([[ 0.,  0.,  0.,  0., -1.,  0.,  0.,  1.,  1.]])\n",
      "tensor([[ 1.,  0.,  0.,  0.,  1.,  0.,  0.,  0., -1.]])\n",
      "tensor([[ 0.,  0.,  0.,  0., -1.,  0.,  0.,  1.,  1.]])\n",
      "tensor([[ 0.,  0.,  1.,  0.,  0.,  0.,  0.,  0., -1.]])\n"
     ]
    },
    {
     "name": "stderr",
     "output_type": "stream",
     "text": [
      "\r",
      "  6%|██▏                                    | 555/10000 [00:22<10:08, 15.53it/s]"
     ]
    },
    {
     "name": "stdout",
     "output_type": "stream",
     "text": [
      "tensor([[ 0.,  0.,  0.,  0., -1.,  0.,  0.,  1.,  1.]])\n",
      "tensor([[ 0.,  0.,  0.,  0., -1.,  0.,  0.,  0.,  1.]])\n",
      "tensor([[ 0.,  0.,  0.,  0., -1.,  0.,  0.,  0.,  1.]])\n",
      "tensor([[ 0.,  0.,  0.,  0., -1.,  1., -1.,  1.,  1.]])\n",
      "tensor([[ 0.,  0.,  0.,  0., -1.,  0.,  0.,  1.,  1.]])\n",
      "tensor([[ 0.,  0.,  0.,  0., -1.,  1., -1.,  1.,  1.]])\n",
      "tensor([[0., 0., 1., 0., 0., 0., 0., 0., 0.]])\n",
      "tensor([[1., 0., 0., 0., 0., 0., 0., 0., 0.]])\n",
      "tensor([[ 0.,  0.,  0.,  0.,  1.,  0.,  0., -1.,  1.]])\n",
      "tensor([[ 0.,  0.,  0.,  0., -1.,  0., -1.,  1.,  1.]])\n",
      "tensor([[ 1.,  0.,  0.,  0.,  1.,  0.,  0.,  0., -1.]])\n",
      "tensor([[ 0.,  0.,  0.,  0., -1.,  0.,  0.,  0.,  1.]])\n",
      "tensor([[ 0.,  0.,  0.,  0.,  1.,  0.,  0.,  0., -1.]])\n",
      "tensor([[0., 0., 0., 0., 0., 0., 0., 0., 1.]])\n",
      "tensor([[ 0.,  0.,  0.,  0., -1.,  1., -1.,  1.,  1.]])\n",
      "tensor([[0., 0., 0., 0., 0., 0., 0., 0., 1.]])\n",
      "tensor([[ 0.,  0.,  0.,  0., -1.,  1., -1.,  1.,  1.]])\n",
      "tensor([[ 1.,  0.,  0.,  0.,  1.,  0.,  0.,  0., -1.]])\n",
      "tensor([[ 1.,  0.,  0.,  0.,  1.,  0.,  0.,  0., -1.]])\n",
      "tensor([[ 0.,  0.,  0.,  0., -1.,  0.,  0.,  0.,  1.]])\n",
      "tensor([[ 0.,  0.,  0.,  0., -1.,  0.,  0.,  1.,  1.]])\n"
     ]
    },
    {
     "name": "stderr",
     "output_type": "stream",
     "text": [
      "  6%|██▏                                    | 560/10000 [00:22<08:26, 18.65it/s]"
     ]
    },
    {
     "name": "stdout",
     "output_type": "stream",
     "text": [
      "tensor([[ 1.,  0.,  0.,  0.,  1., -1.,  1., -1., -1.]])\n",
      "tensor([[ 0.,  0.,  0.,  0., -1.,  1., -1.,  1.,  1.]])\n",
      "tensor([[ 0.,  0.,  0.,  0., -1.,  0.,  0.,  0.,  1.]])\n",
      "tensor([[ 0.,  0.,  0.,  0., -1.,  1., -1.,  1.,  1.]])\n",
      "tensor([[ 1.,  0.,  0.,  0.,  0.,  0.,  0.,  0., -1.]])\n",
      "tensor([[ 0.,  0.,  0.,  0., -1.,  0., -1.,  1.,  1.]])\n",
      "tensor([[ 0.,  0.,  0.,  0.,  1.,  0.,  1.,  0., -1.]])\n",
      "tensor([[ 0.,  0.,  0.,  0.,  1.,  0., -1., -1.,  1.]])\n",
      "tensor([[0., 0., 0., 0., 0., 0., 0., 0., 1.]])\n",
      "tensor([[0., 0., 0., 0., 0., 0., 0., 0., 1.]])\n",
      "tensor([[ 0.,  0.,  0.,  0., -1.,  0.,  0.,  0.,  1.]])\n",
      "tensor([[ 0.,  0.,  0.,  0.,  1.,  0., -1., -1.,  1.]])\n",
      "tensor([[ 0.,  0.,  0.,  0., -1.,  0.,  0.,  1.,  1.]])\n",
      "tensor([[ 0.,  0.,  0.,  0., -1.,  0.,  0.,  1.,  1.]])\n",
      "tensor([[0., 0., 0., 0., 0., 0., 1., 0., 0.]])\n",
      "tensor([[ 0.,  0.,  0.,  0., -1.,  1., -1.,  1.,  1.]])\n",
      "tensor([[ 0.,  0.,  0.,  0., -1.,  0.,  0.,  0.,  1.]])\n",
      "tensor([[0., 0., 0., 0., 0., 0., 0., 0., 1.]])\n",
      "tensor([[ 1.,  0.,  0.,  0.,  1.,  0.,  0., -1., -1.]])\n",
      "tensor([[ 0.,  0.,  0.,  0., -1.,  0.,  0.,  0.,  1.]])\n",
      "tensor([[ 1.,  0.,  0.,  0.,  1., -1.,  1., -1., -1.]])\n",
      "tensor([[ 0.,  0.,  0.,  0., -1.,  0.,  0.,  1.,  1.]])\n",
      "tensor([[ 0.,  0.,  0.,  0.,  1.,  0.,  1.,  0., -1.]])\n",
      "tensor([[0., 0., 0., 0., 1., 0., 0., 0., 0.]])\n",
      "tensor([[ 1.,  0.,  0.,  0.,  1., -1.,  1., -1., -1.]])\n",
      "tensor([[1., 0., 0., 0., 0., 0., 0., 0., 0.]])\n",
      "tensor([[ 0.,  0.,  0.,  0., -1.,  0., -1.,  1.,  1.]])\n",
      "tensor([[ 0.,  0.,  0.,  0., -1.,  1., -1.,  1.,  1.]])\n"
     ]
    },
    {
     "name": "stderr",
     "output_type": "stream",
     "text": [
      "  6%|██▏                                    | 566/10000 [00:23<07:28, 21.02it/s]"
     ]
    },
    {
     "name": "stdout",
     "output_type": "stream",
     "text": [
      "tensor([[ 1.,  0.,  0.,  0.,  1.,  0.,  0.,  0., -1.]])\n",
      "tensor([[0., 0., 0., 0., 0., 0., 0., 0., 1.]])\n",
      "tensor([[ 0.,  0.,  0.,  0., -1.,  0., -1.,  1.,  1.]])\n",
      "tensor([[ 0.,  0.,  0.,  0., -1.,  0., -1.,  1.,  1.]])\n",
      "tensor([[ 0.,  0.,  0.,  0., -1.,  0.,  0.,  0.,  1.]])\n",
      "tensor([[ 0.,  0.,  0.,  0., -1.,  0.,  0.,  0.,  1.]])\n",
      "tensor([[ 0.,  0.,  0.,  0.,  1.,  0.,  1., -1., -1.]])\n",
      "tensor([[ 1.,  0.,  0.,  0.,  1., -1.,  1., -1., -1.]])\n",
      "tensor([[ 1.,  0.,  0.,  0.,  0.,  0.,  0.,  0., -1.]])\n",
      "tensor([[ 1.,  0.,  0.,  0.,  1.,  0.,  0.,  0., -1.]])\n",
      "tensor([[ 1.,  0.,  0.,  0.,  1., -1.,  1., -1., -1.]])\n",
      "tensor([[ 0.,  0.,  0.,  0., -1.,  1., -1.,  1.,  1.]])\n",
      "tensor([[ 0.,  0.,  0.,  0., -1.,  0., -1.,  1.,  1.]])\n",
      "tensor([[0., 0., 0., 0., 0., 0., 0., 0., 1.]])\n",
      "tensor([[ 0.,  0.,  0.,  0.,  1.,  0.,  0., -1.,  1.]])\n",
      "tensor([[0., 0., 0., 0., 1., 0., 0., 0., 0.]])\n",
      "tensor([[ 0.,  0.,  0.,  0., -1.,  0.,  0.,  0.,  1.]])\n",
      "tensor([[ 0.,  0.,  0.,  0., -1.,  1., -1.,  1.,  1.]])\n",
      "tensor([[ 0.,  0.,  0.,  0., -1.,  0.,  0.,  0.,  1.]])\n",
      "tensor([[ 0.,  0.,  0.,  0., -1.,  0.,  0.,  1.,  1.]])\n",
      "tensor([[ 1.,  0.,  0.,  0.,  1.,  0.,  1., -1., -1.]])\n",
      "tensor([[0., 0., 0., 0., 0., 0., 0., 0., 1.]])\n",
      "tensor([[ 0.,  0.,  0.,  0.,  1.,  0.,  1.,  0., -1.]])\n",
      "tensor([[0., 0., 0., 0., 0., 0., 0., 0., 1.]])\n"
     ]
    },
    {
     "name": "stderr",
     "output_type": "stream",
     "text": [
      "\r",
      "  6%|██▏                                    | 569/10000 [00:23<07:48, 20.13it/s]"
     ]
    },
    {
     "name": "stdout",
     "output_type": "stream",
     "text": [
      "tensor([[0., 0., 1., 0., 0., 0., 0., 0., 0.]])\n",
      "tensor([[ 1.,  0.,  0.,  0.,  1.,  0.,  0.,  0., -1.]])\n",
      "tensor([[ 0.,  0.,  0.,  0., -1.,  0.,  0.,  1.,  1.]])\n",
      "tensor([[0., 0., 0., 0., 0., 0., 0., 0., 1.]])\n",
      "tensor([[ 0.,  0.,  0.,  0., -1.,  0., -1.,  1.,  1.]])\n",
      "tensor([[0., 0., 0., 0., 0., 0., 1., 0., 0.]])\n",
      "tensor([[ 0.,  0.,  0.,  0., -1.,  0.,  0.,  1.,  1.]])\n",
      "tensor([[ 0.,  0.,  0.,  0., -1.,  1., -1.,  1.,  1.]])\n",
      "tensor([[ 0.,  0.,  0.,  0., -1.,  0.,  0.,  0.,  1.]])\n",
      "tensor([[ 0.,  0.,  0.,  0.,  0.,  0.,  0., -1.,  1.]])\n",
      "tensor([[ 1.,  0.,  0.,  0.,  1.,  0.,  1., -1., -1.]])\n",
      "tensor([[ 0.,  0.,  0.,  0.,  1.,  0.,  1., -1., -1.]])\n",
      "tensor([[ 0.,  0.,  0.,  0., -1.,  0.,  0.,  0.,  1.]])\n",
      "tensor([[ 0.,  0.,  0.,  0., -1.,  0.,  0.,  1.,  1.]])\n",
      "tensor([[ 0.,  0.,  0.,  0.,  1.,  0., -1., -1.,  1.]])\n",
      "tensor([[ 1.,  0.,  0.,  0.,  1.,  0.,  1., -1., -1.]])\n",
      "tensor([[ 0.,  0.,  0.,  0., -1.,  1., -1.,  1.,  1.]])\n",
      "tensor([[0., 0., 0., 0., 0., 0., 0., 0., 1.]])\n",
      "tensor([[0., 0., 0., 0., 0., 0., 0., 0., 1.]])\n",
      "tensor([[ 1.,  0.,  0.,  0.,  1., -1.,  1., -1., -1.]])\n",
      "tensor([[ 1.,  0.,  0.,  0.,  1.,  0.,  0.,  0., -1.]])\n",
      "tensor([[ 0.,  0.,  0.,  0., -1.,  0.,  0.,  1.,  1.]])\n",
      "tensor([[ 0.,  0.,  0.,  0., -1.,  0., -1.,  1.,  1.]])\n",
      "tensor([[ 0.,  0.,  1.,  0.,  1.,  0.,  0., -1., -1.]])\n",
      "tensor([[0., 0., 0., 0., 0., 0., 0., 0., 1.]])\n"
     ]
    },
    {
     "name": "stderr",
     "output_type": "stream",
     "text": [
      "  6%|██▏                                    | 575/10000 [00:23<07:05, 22.13it/s]"
     ]
    },
    {
     "name": "stdout",
     "output_type": "stream",
     "text": [
      "tensor([[ 0.,  0.,  0.,  0., -1.,  1., -1.,  1.,  1.]])\n",
      "tensor([[0., 0., 0., 0., 0., 0., 0., 0., 1.]])\n",
      "tensor([[ 1.,  0.,  0.,  0.,  1.,  0.,  0.,  0., -1.]])\n",
      "tensor([[ 0.,  0.,  0.,  0., -1.,  0.,  0.,  1.,  1.]])\n",
      "tensor([[ 0.,  0.,  0.,  0., -1.,  0.,  0.,  0.,  1.]])\n",
      "tensor([[ 0.,  0.,  0.,  0.,  1.,  0.,  0.,  0., -1.]])\n",
      "tensor([[ 1.,  0.,  0.,  0.,  0.,  0.,  0.,  0., -1.]])\n",
      "tensor([[0., 0., 0., 0., 0., 0., 0., 0., 1.]])\n",
      "tensor([[ 1.,  0.,  0.,  0.,  1.,  0.,  0., -1., -1.]])\n",
      "tensor([[ 1.,  0.,  0.,  0.,  1.,  0.,  1., -1., -1.]])\n",
      "tensor([[ 1.,  0.,  0.,  0.,  1., -1.,  1., -1., -1.]])\n",
      "tensor([[ 1.,  0.,  0.,  0.,  0.,  0.,  0.,  0., -1.]])\n",
      "tensor([[ 0.,  0.,  0.,  0., -1.,  0.,  0.,  1.,  1.]])\n",
      "tensor([[ 0.,  0.,  0.,  0., -1.,  0., -1.,  1.,  1.]])\n",
      "tensor([[ 0.,  0.,  0.,  0., -1.,  0.,  0.,  1.,  1.]])\n",
      "tensor([[ 0.,  0.,  0.,  0.,  1.,  0.,  1., -1., -1.]])\n",
      "tensor([[ 0.,  0.,  0.,  0., -1.,  0.,  0.,  0.,  1.]])\n",
      "tensor([[ 0.,  0.,  1.,  0.,  1.,  0.,  0.,  0., -1.]])\n",
      "tensor([[ 0.,  0.,  0.,  0., -1.,  0.,  0.,  0.,  1.]])\n",
      "tensor([[ 0.,  0.,  0.,  0.,  1.,  0.,  1., -1., -1.]])\n",
      "tensor([[ 0.,  0.,  0.,  0.,  0.,  0.,  1.,  0., -1.]])\n",
      "tensor([[ 0.,  0.,  0.,  0.,  1.,  0.,  1., -1., -1.]])\n",
      "tensor([[ 0.,  0.,  0.,  0., -1.,  0., -1.,  1.,  1.]])\n",
      "tensor([[ 0.,  0.,  0.,  0., -1.,  0.,  0.,  1.,  1.]])\n",
      "tensor([[ 0.,  0.,  0.,  0., -1.,  0.,  0.,  1.,  1.]])\n"
     ]
    },
    {
     "name": "stderr",
     "output_type": "stream",
     "text": [
      "  6%|██▎                                    | 582/10000 [00:23<06:08, 25.55it/s]"
     ]
    },
    {
     "name": "stdout",
     "output_type": "stream",
     "text": [
      "tensor([[ 0.,  0.,  1.,  0.,  1.,  0.,  0.,  0., -1.]])\n",
      "tensor([[ 1.,  0.,  0.,  0.,  1.,  0.,  0.,  0., -1.]])\n",
      "tensor([[ 0.,  0.,  0.,  0., -1.,  0.,  0.,  1.,  1.]])\n",
      "tensor([[ 1.,  0.,  0.,  0.,  1., -1.,  1., -1., -1.]])\n",
      "tensor([[ 1.,  0.,  0.,  0.,  1.,  0.,  1., -1., -1.]])\n",
      "tensor([[ 0.,  0.,  0.,  0., -1.,  0.,  0.,  1.,  1.]])\n",
      "tensor([[0., 0., 0., 0., 0., 0., 0., 0., 1.]])\n",
      "tensor([[ 0.,  0.,  0.,  0., -1.,  0.,  0.,  0.,  1.]])\n",
      "tensor([[ 0.,  0.,  1.,  0.,  0.,  0.,  0.,  0., -1.]])\n",
      "tensor([[0., 0., 0., 0., 0., 0., 0., 0., 1.]])\n",
      "tensor([[0., 0., 0., 0., 0., 0., 0., 0., 1.]])\n",
      "tensor([[ 0.,  0.,  0.,  0., -1.,  1., -1.,  1.,  1.]])\n",
      "tensor([[ 1.,  0.,  0.,  0.,  0.,  0.,  0.,  0., -1.]])\n",
      "tensor([[ 1.,  0.,  0.,  0.,  1.,  0.,  1., -1., -1.]])\n",
      "tensor([[ 0.,  0.,  0.,  0.,  1.,  0.,  1.,  0., -1.]])\n",
      "tensor([[ 0.,  0.,  0.,  0., -1.,  1., -1.,  1.,  1.]])\n",
      "tensor([[ 1.,  0.,  0.,  0.,  0.,  0.,  0.,  0., -1.]])\n",
      "tensor([[ 0.,  0.,  0.,  0.,  1.,  0.,  0.,  0., -1.]])\n",
      "tensor([[0., 0., 0., 0., 0., 0., 1., 0., 0.]])\n",
      "tensor([[ 0.,  0.,  1.,  0.,  1.,  0.,  0., -1., -1.]])\n",
      "tensor([[ 0.,  0.,  0.,  0., -1.,  0.,  0.,  0.,  1.]])\n",
      "tensor([[ 0.,  0.,  0.,  0., -1.,  0., -1.,  1.,  1.]])\n",
      "tensor([[ 0.,  0.,  1.,  0.,  1.,  0.,  0., -1., -1.]])\n",
      "tensor([[ 0.,  0.,  0.,  0., -1.,  0., -1.,  1.,  1.]])\n",
      "tensor([[ 0.,  0.,  0.,  0., -1.,  0.,  0.,  0.,  1.]])\n",
      "tensor([[ 1.,  0.,  0.,  0.,  0.,  0.,  0.,  0., -1.]])\n",
      "tensor([[0., 0., 0., 0., 1., 0., 0., 0., 0.]])\n"
     ]
    },
    {
     "name": "stderr",
     "output_type": "stream",
     "text": [
      "  6%|██▎                                    | 588/10000 [00:23<05:53, 26.64it/s]"
     ]
    },
    {
     "name": "stdout",
     "output_type": "stream",
     "text": [
      "tensor([[ 0.,  0.,  0.,  0., -1.,  0., -1.,  1.,  1.]])\n",
      "tensor([[0., 0., 0., 0., 0., 0., 0., 0., 1.]])\n",
      "tensor([[ 0.,  0.,  0.,  0.,  1.,  0.,  0.,  0., -1.]])\n",
      "tensor([[ 0.,  0.,  0.,  0., -1.,  0., -1.,  1.,  1.]])\n",
      "tensor([[ 1.,  0.,  0.,  0.,  1.,  0.,  0.,  0., -1.]])\n",
      "tensor([[0., 0., 0., 0., 0., 0., 0., 0., 1.]])\n",
      "tensor([[1., 0., 0., 0., 0., 0., 0., 0., 0.]])\n",
      "tensor([[ 0.,  0.,  0.,  0., -1.,  0., -1.,  1.,  1.]])\n",
      "tensor([[ 0.,  0.,  0.,  0., -1.,  0.,  0.,  0.,  1.]])\n",
      "tensor([[0., 0., 0., 0., 0., 0., 0., 0., 1.]])\n",
      "tensor([[0., 0., 0., 0., 0., 0., 0., 0., 1.]])\n",
      "tensor([[1., 0., 0., 0., 0., 0., 0., 0., 0.]])\n",
      "tensor([[ 1.,  0.,  0.,  0.,  1.,  0.,  0., -1., -1.]])\n",
      "tensor([[ 0.,  0.,  1.,  0.,  1.,  0.,  0.,  0., -1.]])\n",
      "tensor([[0., 0., 0., 0., 0., 0., 1., 0., 0.]])\n",
      "tensor([[ 0.,  0.,  0.,  0., -1.,  0.,  0.,  0.,  1.]])\n",
      "tensor([[ 0.,  0.,  0.,  0., -1.,  0., -1.,  1.,  1.]])\n",
      "tensor([[ 0.,  0.,  0.,  0.,  1.,  0., -1., -1.,  1.]])\n",
      "tensor([[ 0.,  0.,  0.,  0., -1.,  0.,  0.,  0.,  1.]])\n",
      "tensor([[ 0.,  0.,  0.,  0., -1.,  0.,  0.,  1.,  1.]])\n",
      "tensor([[ 0.,  0.,  0.,  0., -1.,  0.,  0.,  1.,  1.]])\n",
      "tensor([[ 0.,  0.,  0.,  0., -1.,  0., -1.,  1.,  1.]])\n",
      "tensor([[0., 0., 1., 0., 0., 0., 0., 0., 0.]])\n",
      "tensor([[ 0.,  0.,  0.,  0.,  0.,  0.,  1.,  0., -1.]])\n",
      "tensor([[ 0.,  0.,  0.,  0., -1.,  0.,  0.,  0.,  1.]])\n",
      "tensor([[ 0.,  0.,  1.,  0.,  1.,  0.,  0.,  0., -1.]])\n",
      "tensor([[0., 0., 0., 0., 0., 0., 0., 0., 1.]])\n",
      "tensor([[ 0.,  0.,  0.,  0., -1.,  0.,  0.,  1.,  1.]])\n",
      "tensor([[ 0.,  0.,  0.,  0., -1.,  0.,  0.,  0.,  1.]])\n",
      "tensor([[ 0.,  0.,  0.,  0., -1.,  0.,  0.,  0.,  1.]])\n",
      "tensor([[0., 0., 0., 0., 0., 0., 0., 0., 1.]])\n",
      "tensor([[ 1.,  0.,  0.,  0.,  1.,  0.,  0.,  0., -1.]])\n"
     ]
    },
    {
     "name": "stderr",
     "output_type": "stream",
     "text": [
      "\r",
      "  6%|██▎                                    | 591/10000 [00:23<05:46, 27.13it/s]"
     ]
    },
    {
     "name": "stdout",
     "output_type": "stream",
     "text": [
      "tensor([[ 0.,  0.,  0.,  0., -1.,  0.,  0.,  1.,  1.]])\n",
      "tensor([[0., 0., 0., 0., 0., 0., 0., 0., 1.]])\n",
      "tensor([[ 0.,  0.,  0.,  0., -1.,  1., -1.,  1.,  1.]])\n",
      "tensor([[0., 0., 0., 0., 0., 0., 0., 0., 1.]])\n",
      "tensor([[ 1.,  0.,  0.,  0.,  1., -1.,  1., -1., -1.]])\n",
      "tensor([[0., 0., 0., 0., 0., 0., 0., 0., 1.]])\n",
      "tensor([[ 0.,  0.,  0.,  0., -1.,  1., -1.,  1.,  1.]])\n",
      "tensor([[ 0.,  0.,  0.,  0., -1.,  0., -1.,  1.,  1.]])\n",
      "tensor([[ 0.,  0.,  0.,  0., -1.,  1., -1.,  1.,  1.]])\n",
      "tensor([[1., 0., 0., 0., 0., 0., 0., 0., 0.]])\n",
      "tensor([[ 0.,  0.,  0.,  0.,  1.,  0.,  1.,  0., -1.]])\n",
      "tensor([[ 1.,  0.,  0.,  0.,  1.,  0.,  0., -1., -1.]])\n",
      "tensor([[0., 0., 0., 0., 1., 0., 0., 0., 0.]])\n",
      "tensor([[ 0.,  0.,  0.,  0., -1.,  1., -1.,  1.,  1.]])\n",
      "tensor([[ 1.,  0.,  0.,  0.,  1.,  0.,  0., -1., -1.]])\n",
      "tensor([[ 0.,  0.,  1.,  0.,  1.,  0.,  0., -1., -1.]])\n",
      "tensor([[ 0.,  0.,  0.,  0.,  1.,  0.,  1.,  0., -1.]])\n",
      "tensor([[ 0.,  0.,  0.,  0.,  1.,  0.,  0.,  0., -1.]])\n",
      "tensor([[0., 0., 0., 0., 1., 0., 0., 0., 0.]])\n",
      "tensor([[ 0.,  0.,  0.,  0., -1.,  0., -1.,  1.,  1.]])\n",
      "tensor([[ 0.,  0.,  0.,  0.,  1.,  0.,  0.,  0., -1.]])\n",
      "tensor([[ 0.,  0.,  0.,  0., -1.,  0., -1.,  1.,  1.]])\n",
      "tensor([[ 0.,  0.,  1.,  0.,  0.,  0.,  0.,  0., -1.]])\n",
      "tensor([[ 0.,  0.,  0.,  0., -1.,  0.,  0.,  1.,  1.]])\n",
      "tensor([[0., 0., 0., 0., 0., 0., 0., 0., 1.]])\n",
      "tensor([[ 0.,  0.,  0.,  0.,  1.,  0.,  1., -1., -1.]])\n",
      "tensor([[ 1.,  0.,  0.,  0.,  1.,  0.,  0., -1., -1.]])\n",
      "tensor([[1., 0., 0., 0., 0., 0., 0., 0., 0.]])\n",
      "tensor([[ 0.,  0.,  0.,  0., -1.,  0.,  0.,  0.,  1.]])\n",
      "tensor([[ 1.,  0.,  0.,  0.,  1.,  0.,  0.,  0., -1.]])\n",
      "tensor([[0., 0., 0., 0., 0., 0., 0., 0., 1.]])\n"
     ]
    },
    {
     "name": "stderr",
     "output_type": "stream",
     "text": [
      "  6%|██▎                                    | 598/10000 [00:24<05:35, 28.03it/s]"
     ]
    },
    {
     "name": "stdout",
     "output_type": "stream",
     "text": [
      "tensor([[ 1.,  0.,  0.,  0.,  1.,  0.,  0.,  0., -1.]])\n",
      "tensor([[ 0.,  0.,  0.,  0., -1.,  0.,  0.,  0.,  1.]])\n",
      "tensor([[ 0.,  0.,  0.,  0.,  1.,  0.,  1.,  0., -1.]])\n",
      "tensor([[ 1.,  0.,  0.,  0.,  1.,  0.,  1., -1., -1.]])\n",
      "tensor([[0., 0., 0., 0., 0., 0., 0., 0., 1.]])\n",
      "tensor([[ 1.,  0.,  0.,  0.,  1.,  0.,  0.,  0., -1.]])\n",
      "tensor([[ 1.,  0.,  0.,  0.,  1.,  0.,  1., -1., -1.]])\n",
      "tensor([[0., 0., 0., 0., 0., 0., 1., 0., 0.]])\n",
      "tensor([[ 0.,  0.,  0.,  0.,  0.,  0.,  0., -1.,  1.]])\n",
      "tensor([[ 0.,  0.,  0.,  0., -1.,  0.,  0.,  1.,  1.]])\n",
      "tensor([[ 0.,  0.,  0.,  0., -1.,  0.,  0.,  1.,  1.]])\n",
      "tensor([[ 0.,  0.,  1.,  0.,  1.,  0.,  0.,  0., -1.]])\n",
      "tensor([[0., 0., 0., 0., 0., 0., 0., 0., 1.]])\n",
      "tensor([[ 1.,  0.,  0.,  0.,  1., -1.,  1., -1., -1.]])\n",
      "tensor([[0., 0., 0., 0., 0., 0., 0., 0., 1.]])\n",
      "tensor([[0., 0., 0., 0., 0., 0., 1., 0., 0.]])\n",
      "tensor([[ 0.,  0.,  0.,  0., -1.,  0., -1.,  1.,  1.]])\n",
      "tensor([[0., 0., 0., 0., 0., 0., 0., 0., 1.]])\n",
      "tensor([[ 0.,  0.,  0.,  0.,  1.,  0.,  0.,  0., -1.]])\n",
      "tensor([[ 1.,  0.,  0.,  0.,  1.,  0.,  0.,  0., -1.]])\n",
      "tensor([[ 0.,  0.,  0.,  0., -1.,  0.,  0.,  0.,  1.]])\n",
      "tensor([[0., 0., 0., 0., 0., 0., 0., 0., 1.]])\n",
      "tensor([[0., 0., 0., 0., 0., 0., 0., 0., 1.]])\n",
      "tensor([[0., 0., 0., 0., 0., 0., 0., 0., 1.]])\n",
      "tensor([[ 1.,  0.,  0.,  0.,  1., -1.,  1., -1., -1.]])\n",
      "tensor([[ 1.,  0.,  0.,  0.,  1.,  0.,  1., -1., -1.]])\n",
      "tensor([[0., 0., 0., 0., 0., 0., 0., 0., 1.]])\n",
      "tensor([[ 0.,  0.,  0.,  0.,  1.,  0.,  1., -1., -1.]])\n",
      "tensor([[ 0.,  0.,  0.,  0., -1.,  0.,  0.,  0.,  1.]])\n"
     ]
    },
    {
     "name": "stderr",
     "output_type": "stream",
     "text": [
      "  6%|██▎                                    | 605/10000 [00:24<05:37, 27.81it/s]"
     ]
    },
    {
     "name": "stdout",
     "output_type": "stream",
     "text": [
      "tensor([[ 0.,  0.,  0.,  0., -1.,  1., -1.,  1.,  1.]])\n",
      "tensor([[ 0.,  0.,  0.,  0., -1.,  0.,  0.,  1.,  1.]])\n",
      "tensor([[ 0.,  0.,  0.,  0.,  1.,  0.,  1.,  0., -1.]])\n",
      "tensor([[ 0.,  0.,  0.,  0., -1.,  0.,  0.,  1.,  1.]])\n",
      "tensor([[0., 0., 0., 0., 0., 0., 0., 0., 1.]])\n",
      "tensor([[ 0.,  0.,  1.,  0.,  1.,  0.,  0., -1., -1.]])\n",
      "tensor([[ 0.,  0.,  0.,  0., -1.,  0., -1.,  1.,  1.]])\n",
      "tensor([[0., 0., 1., 0., 0., 0., 0., 0., 0.]])\n",
      "tensor([[0., 0., 0., 0., 0., 0., 0., 0., 1.]])\n",
      "tensor([[ 0.,  0.,  0.,  0., -1.,  0., -1.,  1.,  1.]])\n",
      "tensor([[ 0.,  0.,  0.,  0., -1.,  0., -1.,  1.,  1.]])\n",
      "tensor([[ 0.,  0.,  0.,  0., -1.,  0.,  0.,  1.,  1.]])\n",
      "tensor([[ 1.,  0.,  0.,  0.,  1., -1.,  1., -1., -1.]])\n",
      "tensor([[ 0.,  0.,  0.,  0.,  1.,  0.,  1.,  0., -1.]])\n",
      "tensor([[ 0.,  0.,  0.,  0., -1.,  1., -1.,  1.,  1.]])\n",
      "tensor([[ 0.,  0.,  0.,  0., -1.,  0.,  0.,  0.,  1.]])\n",
      "tensor([[ 1.,  0.,  0.,  0.,  1.,  0.,  0., -1., -1.]])\n",
      "tensor([[ 0.,  0.,  0.,  0.,  1.,  0., -1., -1.,  1.]])\n",
      "tensor([[1., 0., 0., 0., 0., 0., 0., 0., 0.]])\n",
      "tensor([[ 0.,  0.,  1.,  0.,  0.,  0.,  0.,  0., -1.]])\n",
      "tensor([[ 0.,  0.,  0.,  0.,  0.,  0.,  0., -1.,  1.]])\n",
      "tensor([[0., 0., 0., 0., 0., 0., 0., 0., 1.]])\n",
      "tensor([[ 0.,  0.,  0.,  0., -1.,  0., -1.,  1.,  1.]])\n",
      "tensor([[ 0.,  0.,  0.,  0.,  1.,  0.,  0.,  0., -1.]])\n"
     ]
    },
    {
     "name": "stderr",
     "output_type": "stream",
     "text": [
      "\r",
      "  6%|██▎                                    | 608/10000 [00:24<06:00, 26.04it/s]"
     ]
    },
    {
     "name": "stdout",
     "output_type": "stream",
     "text": [
      "tensor([[ 0.,  0.,  0.,  0., -1.,  0., -1.,  1.,  1.]])\n",
      "tensor([[0., 0., 0., 0., 0., 0., 0., 0., 1.]])\n",
      "tensor([[0., 0., 1., 0., 0., 0., 0., 0., 0.]])\n",
      "tensor([[0., 0., 0., 0., 0., 0., 0., 0., 1.]])\n",
      "tensor([[ 0.,  0.,  0.,  0.,  1.,  0.,  0., -1.,  1.]])\n",
      "tensor([[ 0.,  0.,  0.,  0., -1.,  0.,  0.,  1.,  1.]])\n",
      "tensor([[ 1.,  0.,  0.,  0.,  1.,  0.,  0.,  0., -1.]])\n",
      "tensor([[0., 0., 0., 0., 0., 0., 0., 0., 1.]])\n",
      "tensor([[ 0.,  0.,  0.,  0., -1.,  0.,  0.,  0.,  1.]])\n",
      "tensor([[ 0.,  0.,  0.,  0., -1.,  0.,  0.,  1.,  1.]])\n",
      "tensor([[ 0.,  0.,  0.,  0., -1.,  0.,  0.,  0.,  1.]])\n",
      "tensor([[0., 0., 0., 0., 0., 0., 1., 0., 0.]])\n",
      "tensor([[ 0.,  0.,  0.,  0., -1.,  0.,  0.,  1.,  1.]])\n",
      "tensor([[ 0.,  0.,  0.,  0.,  1.,  0.,  1., -1., -1.]])\n",
      "tensor([[0., 0., 0., 0., 0., 0., 0., 0., 1.]])\n",
      "tensor([[ 0.,  0.,  1.,  0.,  0.,  0.,  0.,  0., -1.]])\n",
      "tensor([[ 0.,  0.,  0.,  0., -1.,  0., -1.,  1.,  1.]])\n",
      "tensor([[ 0.,  0.,  0.,  0., -1.,  1., -1.,  1.,  1.]])\n",
      "tensor([[ 0.,  0.,  0.,  0., -1.,  0., -1.,  1.,  1.]])\n",
      "tensor([[ 1.,  0.,  0.,  0.,  1.,  0.,  0., -1., -1.]])\n",
      "tensor([[ 1.,  0.,  0.,  0.,  1., -1.,  1., -1., -1.]])\n",
      "tensor([[ 0.,  0.,  0.,  0., -1.,  0.,  0.,  0.,  1.]])\n",
      "tensor([[ 1.,  0.,  0.,  0.,  1.,  0.,  0., -1., -1.]])\n",
      "tensor([[ 0.,  0.,  0.,  0., -1.,  0.,  0.,  0.,  1.]])\n",
      "tensor([[ 0.,  0.,  0.,  0., -1.,  0.,  0.,  0.,  1.]])\n",
      "tensor([[ 0.,  0.,  1.,  0.,  1.,  0.,  0., -1., -1.]])\n",
      "tensor([[ 0.,  0.,  0.,  0., -1.,  0., -1.,  1.,  1.]])\n"
     ]
    },
    {
     "name": "stderr",
     "output_type": "stream",
     "text": [
      "  6%|██▍                                    | 615/10000 [00:24<05:32, 28.19it/s]"
     ]
    },
    {
     "name": "stdout",
     "output_type": "stream",
     "text": [
      "tensor([[ 1.,  0.,  0.,  0.,  1.,  0.,  0.,  0., -1.]])\n",
      "tensor([[ 0.,  0.,  0.,  0.,  0.,  0.,  1.,  0., -1.]])\n",
      "tensor([[ 0.,  0.,  0.,  0., -1.,  0.,  0.,  0.,  1.]])\n",
      "tensor([[ 0.,  0.,  0.,  0., -1.,  1., -1.,  1.,  1.]])\n",
      "tensor([[ 0.,  0.,  0.,  0., -1.,  0.,  0.,  0.,  1.]])\n",
      "tensor([[ 0.,  0.,  0.,  0., -1.,  1., -1.,  1.,  1.]])\n",
      "tensor([[ 0.,  0.,  0.,  0.,  0.,  0.,  0., -1.,  1.]])\n",
      "tensor([[ 0.,  0.,  0.,  0.,  1.,  0.,  1.,  0., -1.]])\n",
      "tensor([[ 0.,  0.,  0.,  0., -1.,  0.,  0.,  0.,  1.]])\n",
      "tensor([[0., 0., 0., 0., 0., 0., 0., 0., 1.]])\n",
      "tensor([[0., 0., 0., 0., 0., 0., 0., 0., 1.]])\n",
      "tensor([[0., 0., 0., 0., 0., 0., 0., 0., 1.]])\n",
      "tensor([[ 1.,  0.,  0.,  0.,  1.,  0.,  0., -1., -1.]])\n",
      "tensor([[ 0.,  0.,  1.,  0.,  0.,  0.,  0.,  0., -1.]])\n",
      "tensor([[ 0.,  0.,  0.,  0., -1.,  0.,  0.,  0.,  1.]])\n",
      "tensor([[ 0.,  0.,  0.,  0.,  1.,  0., -1., -1.,  1.]])\n",
      "tensor([[ 0.,  0.,  0.,  0., -1.,  0.,  0.,  0.,  1.]])\n",
      "tensor([[ 1.,  0.,  0.,  0.,  1., -1.,  1., -1., -1.]])\n",
      "tensor([[ 0.,  0.,  0.,  0., -1.,  0., -1.,  1.,  1.]])\n",
      "tensor([[ 0.,  0.,  0.,  0., -1.,  0.,  0.,  0.,  1.]])\n",
      "tensor([[ 0.,  0.,  0.,  0., -1.,  0.,  0.,  0.,  1.]])\n",
      "tensor([[ 1.,  0.,  0.,  0.,  1.,  0.,  0., -1., -1.]])\n",
      "tensor([[ 0.,  0.,  0.,  0.,  1.,  0.,  0.,  0., -1.]])\n",
      "tensor([[0., 0., 1., 0., 0., 0., 0., 0., 0.]])\n",
      "tensor([[ 0.,  0.,  0.,  0., -1.,  0.,  0.,  0.,  1.]])\n",
      "tensor([[ 1.,  0.,  0.,  0.,  1., -1.,  1., -1., -1.]])\n",
      "tensor([[ 0.,  0.,  0.,  0.,  0.,  0.,  1.,  0., -1.]])\n",
      "tensor([[ 0.,  0.,  0.,  0., -1.,  0.,  0.,  1.,  1.]])\n",
      "tensor([[ 0.,  0.,  0.,  0.,  0.,  0.,  1.,  0., -1.]])\n",
      "tensor([[ 0.,  0.,  1.,  0.,  0.,  0.,  0.,  0., -1.]])\n",
      "tensor([[ 0.,  0.,  0.,  0., -1.,  1., -1.,  1.,  1.]])\n",
      "tensor([[ 0.,  0.,  0.,  0., -1.,  0.,  0.,  0.,  1.]])\n",
      "tensor([[0., 0., 0., 0., 0., 0., 0., 0., 1.]])\n",
      "tensor([[ 0.,  0.,  0.,  0., -1.,  0.,  0.,  1.,  1.]])\n"
     ]
    },
    {
     "name": "stderr",
     "output_type": "stream",
     "text": [
      "  6%|██▍                                    | 623/10000 [00:25<05:12, 30.00it/s]"
     ]
    },
    {
     "name": "stdout",
     "output_type": "stream",
     "text": [
      "tensor([[ 0.,  0.,  0.,  0., -1.,  0.,  0.,  0.,  1.]])\n",
      "tensor([[0., 0., 0., 0., 0., 0., 0., 0., 1.]])\n",
      "tensor([[ 0.,  0.,  0.,  0.,  0.,  0.,  0., -1.,  1.]])\n",
      "tensor([[0., 0., 0., 0., 0., 0., 1., 0., 0.]])\n",
      "tensor([[ 0.,  0.,  0.,  0., -1.,  0.,  0.,  1.,  1.]])\n",
      "tensor([[ 1.,  0.,  0.,  0.,  1.,  0.,  0.,  0., -1.]])\n",
      "tensor([[ 0.,  0.,  0.,  0., -1.,  0., -1.,  1.,  1.]])\n",
      "tensor([[0., 0., 0., 0., 0., 0., 0., 0., 1.]])\n",
      "tensor([[ 1.,  0.,  0.,  0.,  1., -1.,  1., -1., -1.]])\n",
      "tensor([[0., 0., 0., 0., 0., 0., 0., 0., 1.]])\n",
      "tensor([[ 0.,  0.,  0.,  0., -1.,  0.,  0.,  0.,  1.]])\n",
      "tensor([[ 0.,  0.,  0.,  0., -1.,  1., -1.,  1.,  1.]])\n",
      "tensor([[ 0.,  0.,  0.,  0., -1.,  1., -1.,  1.,  1.]])\n",
      "tensor([[ 0.,  0.,  0.,  0., -1.,  0., -1.,  1.,  1.]])\n",
      "tensor([[ 0.,  0.,  0.,  0., -1.,  0.,  0.,  0.,  1.]])\n",
      "tensor([[ 0.,  0.,  0.,  0., -1.,  1., -1.,  1.,  1.]])\n",
      "tensor([[ 0.,  0.,  0.,  0.,  0.,  0.,  0., -1.,  1.]])\n",
      "tensor([[0., 0., 0., 0., 0., 0., 0., 0., 1.]])\n",
      "tensor([[ 0.,  0.,  0.,  0., -1.,  1., -1.,  1.,  1.]])\n",
      "tensor([[ 0.,  0.,  0.,  0., -1.,  0., -1.,  1.,  1.]])\n",
      "tensor([[ 0.,  0.,  0.,  0.,  1.,  0.,  1.,  0., -1.]])\n",
      "tensor([[ 0.,  0.,  0.,  0.,  1.,  0.,  0., -1.,  1.]])\n",
      "tensor([[ 1.,  0.,  0.,  0.,  1.,  0.,  0., -1., -1.]])\n",
      "tensor([[ 1.,  0.,  0.,  0.,  1.,  0.,  0., -1., -1.]])\n",
      "tensor([[ 1.,  0.,  0.,  0.,  1.,  0.,  0.,  0., -1.]])\n",
      "tensor([[0., 0., 0., 0., 0., 0., 0., 0., 1.]])\n",
      "tensor([[ 1.,  0.,  0.,  0.,  0.,  0.,  0.,  0., -1.]])\n",
      "tensor([[0., 0., 0., 0., 0., 0., 0., 0., 1.]])\n",
      "tensor([[ 0.,  0.,  0.,  0.,  0.,  0.,  1.,  0., -1.]])\n"
     ]
    },
    {
     "name": "stderr",
     "output_type": "stream",
     "text": [
      "\r",
      "  6%|██▍                                    | 627/10000 [00:25<05:12, 29.96it/s]"
     ]
    },
    {
     "name": "stdout",
     "output_type": "stream",
     "text": [
      "tensor([[ 0.,  0.,  0.,  0., -1.,  0.,  0.,  1.,  1.]])\n",
      "tensor([[ 0.,  0.,  0.,  0.,  1.,  0.,  1., -1., -1.]])\n",
      "tensor([[0., 0., 0., 0., 0., 0., 0., 0., 1.]])\n",
      "tensor([[ 1.,  0.,  0.,  0.,  0.,  0.,  0.,  0., -1.]])\n",
      "tensor([[0., 0., 0., 0., 0., 0., 0., 0., 1.]])\n",
      "tensor([[ 1.,  0.,  0.,  0.,  1.,  0.,  1., -1., -1.]])\n",
      "tensor([[ 1.,  0.,  0.,  0.,  1.,  0.,  0.,  0., -1.]])\n",
      "tensor([[ 0.,  0.,  0.,  0., -1.,  0.,  0.,  0.,  1.]])\n",
      "tensor([[ 0.,  0.,  0.,  0., -1.,  0.,  0.,  1.,  1.]])\n",
      "tensor([[ 0.,  0.,  0.,  0.,  0.,  0.,  1.,  0., -1.]])\n",
      "tensor([[ 0.,  0.,  0.,  0., -1.,  0.,  0.,  1.,  1.]])\n",
      "tensor([[ 0.,  0.,  0.,  0.,  1.,  0.,  1.,  0., -1.]])\n",
      "tensor([[ 1.,  0.,  0.,  0.,  1.,  0.,  0.,  0., -1.]])\n",
      "tensor([[0., 0., 0., 0., 0., 0., 0., 0., 1.]])\n",
      "tensor([[0., 0., 1., 0., 0., 0., 0., 0., 0.]])\n",
      "tensor([[ 0.,  0.,  0.,  0., -1.,  0., -1.,  1.,  1.]])\n",
      "tensor([[ 0.,  0.,  0.,  0., -1.,  0.,  0.,  1.,  1.]])\n",
      "tensor([[ 0.,  0.,  0.,  0.,  1.,  0.,  0., -1.,  1.]])\n",
      "tensor([[ 0.,  0.,  0.,  0.,  0.,  0.,  1.,  0., -1.]])\n",
      "tensor([[ 0.,  0.,  1.,  0.,  1.,  0.,  0.,  0., -1.]])\n",
      "tensor([[ 1.,  0.,  0.,  0.,  1., -1.,  1., -1., -1.]])\n",
      "tensor([[ 0.,  0.,  0.,  0.,  1.,  0.,  1.,  0., -1.]])\n",
      "tensor([[ 0.,  0.,  0.,  0., -1.,  0., -1.,  1.,  1.]])\n",
      "tensor([[ 0.,  0.,  0.,  0., -1.,  0.,  0.,  1.,  1.]])\n",
      "tensor([[ 0.,  0.,  0.,  0., -1.,  0.,  0.,  0.,  1.]])\n",
      "tensor([[ 0.,  0.,  0.,  0.,  0.,  0.,  1.,  0., -1.]])\n",
      "tensor([[ 0.,  0.,  0.,  0., -1.,  1., -1.,  1.,  1.]])\n",
      "tensor([[ 0.,  0.,  0.,  0.,  1.,  0.,  0., -1.,  1.]])\n",
      "tensor([[ 0.,  0.,  0.,  0., -1.,  0.,  0.,  1.,  1.]])\n",
      "tensor([[ 1.,  0.,  0.,  0.,  1.,  0.,  0., -1., -1.]])\n",
      "tensor([[ 0.,  0.,  0.,  0., -1.,  0.,  0.,  0.,  1.]])\n",
      "tensor([[ 0.,  0.,  0.,  0., -1.,  0.,  0.,  0.,  1.]])\n",
      "tensor([[ 1.,  0.,  0.,  0.,  1.,  0.,  0., -1., -1.]])\n",
      "tensor([[ 0.,  0.,  0.,  0.,  1.,  0.,  1.,  0., -1.]])\n",
      "tensor([[ 1.,  0.,  0.,  0.,  1., -1.,  1., -1., -1.]])\n"
     ]
    },
    {
     "name": "stderr",
     "output_type": "stream",
     "text": [
      "  6%|██▍                                    | 634/10000 [00:25<05:30, 28.37it/s]"
     ]
    },
    {
     "name": "stdout",
     "output_type": "stream",
     "text": [
      "tensor([[ 0.,  0.,  0.,  0., -1.,  0.,  0.,  0.,  1.]])\n",
      "tensor([[ 1.,  0.,  0.,  0.,  1.,  0.,  0.,  0., -1.]])\n",
      "tensor([[0., 0., 0., 0., 0., 0., 0., 0., 1.]])\n",
      "tensor([[0., 0., 0., 0., 0., 0., 0., 0., 1.]])\n",
      "tensor([[ 0.,  0.,  0.,  0., -1.,  0.,  0.,  0.,  1.]])\n",
      "tensor([[0., 0., 0., 0., 0., 0., 0., 0., 1.]])\n",
      "tensor([[0., 0., 0., 0., 0., 0., 0., 0., 1.]])\n",
      "tensor([[0., 0., 0., 0., 0., 0., 0., 0., 1.]])\n",
      "tensor([[ 0.,  0.,  0.,  0.,  0.,  0.,  1.,  0., -1.]])\n",
      "tensor([[ 0.,  0.,  0.,  0., -1.,  0., -1.,  1.,  1.]])\n",
      "tensor([[0., 0., 0., 0., 0., 0., 0., 0., 1.]])\n",
      "tensor([[0., 0., 0., 0., 0., 0., 0., 0., 1.]])\n",
      "tensor([[ 0.,  0.,  0.,  0., -1.,  0.,  0.,  1.,  1.]])\n",
      "tensor([[1., 0., 0., 0., 0., 0., 0., 0., 0.]])\n",
      "tensor([[0., 0., 0., 0., 0., 0., 0., 0., 1.]])\n",
      "tensor([[ 0.,  0.,  0.,  0., -1.,  0., -1.,  1.,  1.]])\n",
      "tensor([[ 0.,  0.,  0.,  0., -1.,  0.,  0.,  1.,  1.]])\n",
      "tensor([[ 0.,  0.,  0.,  0., -1.,  1., -1.,  1.,  1.]])\n",
      "tensor([[ 1.,  0.,  0.,  0.,  1.,  0.,  1., -1., -1.]])\n",
      "tensor([[1., 0., 0., 0., 0., 0., 0., 0., 0.]])\n",
      "tensor([[ 0.,  0.,  0.,  0., -1.,  1., -1.,  1.,  1.]])\n",
      "tensor([[ 1.,  0.,  0.,  0.,  1.,  0.,  1., -1., -1.]])\n",
      "tensor([[ 0.,  0.,  0.,  0.,  1.,  0.,  1.,  0., -1.]])\n"
     ]
    },
    {
     "name": "stderr",
     "output_type": "stream",
     "text": [
      "  6%|██▍                                    | 640/10000 [00:25<06:01, 25.86it/s]"
     ]
    },
    {
     "name": "stdout",
     "output_type": "stream",
     "text": [
      "tensor([[ 0.,  0.,  1.,  0.,  0.,  0.,  0.,  0., -1.]])\n",
      "tensor([[ 0.,  0.,  0.,  0., -1.,  1., -1.,  1.,  1.]])\n",
      "tensor([[ 1.,  0.,  0.,  0.,  1.,  0.,  0.,  0., -1.]])\n",
      "tensor([[ 1.,  0.,  0.,  0.,  1., -1.,  1., -1., -1.]])\n",
      "tensor([[0., 0., 0., 0., 0., 0., 0., 0., 1.]])\n",
      "tensor([[0., 0., 0., 0., 0., 0., 0., 0., 1.]])\n",
      "tensor([[0., 0., 0., 0., 0., 0., 0., 0., 1.]])\n",
      "tensor([[ 0.,  0.,  1.,  0.,  1.,  0.,  0.,  0., -1.]])\n",
      "tensor([[0., 0., 0., 0., 0., 0., 1., 0., 0.]])\n",
      "tensor([[ 0.,  0.,  0.,  0.,  1.,  0.,  1.,  0., -1.]])\n",
      "tensor([[ 0.,  0.,  0.,  0., -1.,  0.,  0.,  1.,  1.]])\n",
      "tensor([[ 0.,  0.,  0.,  0., -1.,  0.,  0.,  0.,  1.]])\n",
      "tensor([[ 0.,  0.,  0.,  0., -1.,  0.,  0.,  0.,  1.]])\n",
      "tensor([[ 0.,  0.,  0.,  0.,  0.,  0.,  1.,  0., -1.]])\n",
      "tensor([[ 0.,  0.,  0.,  0., -1.,  0.,  0.,  0.,  1.]])\n",
      "tensor([[ 0.,  0.,  0.,  0., -1.,  0., -1.,  1.,  1.]])\n",
      "tensor([[ 1.,  0.,  0.,  0.,  1.,  0.,  0., -1., -1.]])\n",
      "tensor([[ 0.,  0.,  1.,  0.,  1.,  0.,  0., -1., -1.]])\n",
      "tensor([[0., 0., 0., 0., 1., 0., 0., 0., 0.]])\n",
      "tensor([[0., 0., 0., 0., 0., 0., 1., 0., 0.]])\n",
      "tensor([[0., 0., 0., 0., 0., 0., 0., 0., 1.]])\n",
      "tensor([[0., 0., 0., 0., 0., 0., 0., 0., 1.]])\n",
      "tensor([[0., 0., 0., 0., 0., 0., 1., 0., 0.]])\n",
      "tensor([[ 0.,  0.,  0.,  0.,  1.,  0.,  0.,  0., -1.]])\n"
     ]
    },
    {
     "name": "stderr",
     "output_type": "stream",
     "text": [
      "\r",
      "  6%|██▌                                    | 643/10000 [00:25<06:18, 24.75it/s]"
     ]
    },
    {
     "name": "stdout",
     "output_type": "stream",
     "text": [
      "tensor([[ 0.,  0.,  0.,  0., -1.,  0., -1.,  1.,  1.]])\n",
      "tensor([[ 0.,  0.,  0.,  0.,  0.,  0.,  1.,  0., -1.]])\n",
      "tensor([[ 0.,  0.,  0.,  0., -1.,  0., -1.,  1.,  1.]])\n",
      "tensor([[ 0.,  0.,  0.,  0., -1.,  0.,  0.,  1.,  1.]])\n",
      "tensor([[ 1.,  0.,  0.,  0.,  1.,  0.,  0., -1., -1.]])\n",
      "tensor([[ 0.,  0.,  1.,  0.,  1.,  0.,  0., -1., -1.]])\n",
      "tensor([[ 0.,  0.,  0.,  0., -1.,  0.,  0.,  1.,  1.]])\n",
      "tensor([[0., 0., 0., 0., 0., 0., 1., 0., 0.]])\n",
      "tensor([[0., 0., 0., 0., 0., 0., 0., 0., 1.]])\n",
      "tensor([[ 0.,  0.,  0.,  0., -1.,  0.,  0.,  1.,  1.]])\n",
      "tensor([[0., 0., 0., 0., 0., 0., 0., 0., 1.]])\n",
      "tensor([[ 1.,  0.,  0.,  0.,  1., -1.,  1., -1., -1.]])\n",
      "tensor([[ 0.,  0.,  0.,  0., -1.,  0.,  0.,  1.,  1.]])\n",
      "tensor([[ 0.,  0.,  0.,  0., -1.,  0.,  0.,  1.,  1.]])\n",
      "tensor([[ 0.,  0.,  0.,  0., -1.,  1., -1.,  1.,  1.]])\n",
      "tensor([[ 0.,  0.,  0.,  0.,  0.,  0.,  1.,  0., -1.]])\n",
      "tensor([[ 0.,  0.,  1.,  0.,  1.,  0.,  0., -1., -1.]])\n",
      "tensor([[ 1.,  0.,  0.,  0.,  1.,  0.,  0., -1., -1.]])\n",
      "tensor([[ 0.,  0.,  0.,  0.,  1.,  0., -1., -1.,  1.]])\n",
      "tensor([[ 1.,  0.,  0.,  0.,  1.,  0.,  0.,  0., -1.]])\n",
      "tensor([[0., 0., 0., 0., 0., 0., 1., 0., 0.]])\n",
      "tensor([[ 0.,  0.,  0.,  0., -1.,  0., -1.,  1.,  1.]])\n",
      "tensor([[ 0.,  0.,  0.,  0.,  1.,  0.,  1., -1., -1.]])\n",
      "tensor([[ 0.,  0.,  0.,  0.,  1.,  0.,  0.,  0., -1.]])\n",
      "tensor([[0., 0., 0., 0., 0., 0., 0., 0., 1.]])\n"
     ]
    },
    {
     "name": "stderr",
     "output_type": "stream",
     "text": [
      "  7%|██▌                                    | 651/10000 [00:26<05:38, 27.63it/s]"
     ]
    },
    {
     "name": "stdout",
     "output_type": "stream",
     "text": [
      "tensor([[1., 0., 0., 0., 0., 0., 0., 0., 0.]])\n",
      "tensor([[ 0.,  0.,  1.,  0.,  0.,  0.,  0.,  0., -1.]])\n",
      "tensor([[ 0.,  0.,  0.,  0., -1.,  1., -1.,  1.,  1.]])\n",
      "tensor([[ 0.,  0.,  0.,  0., -1.,  0.,  0.,  1.,  1.]])\n",
      "tensor([[ 0.,  0.,  0.,  0., -1.,  0.,  0.,  0.,  1.]])\n",
      "tensor([[0., 0., 0., 0., 0., 0., 0., 0., 1.]])\n",
      "tensor([[ 0.,  0.,  0.,  0.,  1.,  0.,  0.,  0., -1.]])\n",
      "tensor([[ 0.,  0.,  0.,  0.,  0.,  0.,  0., -1.,  1.]])\n",
      "tensor([[ 0.,  0.,  1.,  0.,  1.,  0.,  0.,  0., -1.]])\n",
      "tensor([[0., 0., 0., 0., 0., 0., 0., 0., 1.]])\n",
      "tensor([[ 0.,  0.,  0.,  0.,  1.,  0.,  1.,  0., -1.]])\n",
      "tensor([[0., 0., 0., 0., 0., 0., 0., 0., 1.]])\n",
      "tensor([[0., 0., 0., 0., 0., 0., 0., 0., 1.]])\n",
      "tensor([[0., 0., 0., 0., 1., 0., 0., 0., 0.]])\n",
      "tensor([[ 0.,  0.,  0.,  0., -1.,  0.,  0.,  0.,  1.]])\n",
      "tensor([[0., 0., 0., 0., 0., 0., 0., 0., 1.]])\n",
      "tensor([[ 0.,  0.,  0.,  0., -1.,  0., -1.,  1.,  1.]])\n",
      "tensor([[ 0.,  0.,  0.,  0., -1.,  1., -1.,  1.,  1.]])\n",
      "tensor([[ 0.,  0.,  0.,  0.,  0.,  0.,  0., -1.,  1.]])\n",
      "tensor([[0., 0., 0., 0., 0., 0., 0., 0., 1.]])\n",
      "tensor([[0., 0., 0., 0., 0., 0., 0., 0., 1.]])\n",
      "tensor([[ 0.,  0.,  0.,  0.,  1.,  0.,  0., -1.,  1.]])\n",
      "tensor([[ 1.,  0.,  0.,  0.,  1.,  0.,  1., -1., -1.]])\n",
      "tensor([[ 0.,  0.,  0.,  0., -1.,  0., -1.,  1.,  1.]])\n",
      "tensor([[ 0.,  0.,  0.,  0., -1.,  0.,  0.,  1.,  1.]])\n",
      "tensor([[ 0.,  0.,  0.,  0., -1.,  0.,  0.,  1.,  1.]])\n",
      "tensor([[ 0.,  0.,  1.,  0.,  0.,  0.,  0.,  0., -1.]])\n",
      "tensor([[ 0.,  0.,  0.,  0., -1.,  0.,  0.,  0.,  1.]])\n",
      "tensor([[ 0.,  0.,  0.,  0., -1.,  0.,  0.,  0.,  1.]])\n",
      "tensor([[ 0.,  0.,  0.,  0., -1.,  0.,  0.,  1.,  1.]])\n"
     ]
    },
    {
     "name": "stderr",
     "output_type": "stream",
     "text": [
      "  7%|██▌                                    | 657/10000 [00:26<05:43, 27.18it/s]"
     ]
    },
    {
     "name": "stdout",
     "output_type": "stream",
     "text": [
      "tensor([[ 0.,  0.,  0.,  0., -1.,  0.,  0.,  1.,  1.]])\n",
      "tensor([[ 0.,  0.,  0.,  0., -1.,  1., -1.,  1.,  1.]])\n",
      "tensor([[ 1.,  0.,  0.,  0.,  0.,  0.,  0.,  0., -1.]])\n",
      "tensor([[ 0.,  0.,  0.,  0., -1.,  0.,  0.,  0.,  1.]])\n",
      "tensor([[ 0.,  0.,  0.,  0., -1.,  0., -1.,  1.,  1.]])\n",
      "tensor([[0., 0., 0., 0., 0., 0., 0., 0., 1.]])\n",
      "tensor([[0., 0., 0., 0., 0., 0., 0., 0., 1.]])\n",
      "tensor([[ 0.,  0.,  1.,  0.,  1.,  0.,  0., -1., -1.]])\n",
      "tensor([[ 0.,  0.,  0.,  0., -1.,  0.,  0.,  0.,  1.]])\n",
      "tensor([[ 0.,  0.,  0.,  0., -1.,  0.,  0.,  1.,  1.]])\n",
      "tensor([[ 0.,  0.,  0.,  0., -1.,  0.,  0.,  1.,  1.]])\n",
      "tensor([[0., 0., 0., 0., 0., 0., 0., 0., 1.]])\n",
      "tensor([[ 1.,  0.,  0.,  0.,  1.,  0.,  0.,  0., -1.]])\n",
      "tensor([[ 1.,  0.,  0.,  0.,  1., -1.,  1., -1., -1.]])\n",
      "tensor([[0., 0., 0., 0., 0., 0., 0., 0., 1.]])\n",
      "tensor([[ 1.,  0.,  0.,  0.,  1.,  0.,  0., -1., -1.]])\n",
      "tensor([[ 1.,  0.,  0.,  0.,  1.,  0.,  1., -1., -1.]])\n",
      "tensor([[ 0.,  0.,  0.,  0., -1.,  0.,  0.,  0.,  1.]])\n",
      "tensor([[0., 0., 0., 0., 0., 0., 0., 0., 1.]])\n",
      "tensor([[ 1.,  0.,  0.,  0.,  1.,  0.,  0.,  0., -1.]])\n",
      "tensor([[ 0.,  0.,  0.,  0., -1.,  1., -1.,  1.,  1.]])\n",
      "tensor([[ 0.,  0.,  0.,  0.,  1.,  0.,  1., -1., -1.]])\n",
      "tensor([[ 0.,  0.,  0.,  0., -1.,  0.,  0.,  1.,  1.]])\n",
      "tensor([[ 0.,  0.,  0.,  0., -1.,  0.,  0.,  0.,  1.]])\n",
      "tensor([[1., 0., 0., 0., 0., 0., 0., 0., 0.]])\n",
      "tensor([[0., 0., 1., 0., 0., 0., 0., 0., 0.]])\n",
      "tensor([[ 0.,  0.,  0.,  0.,  1.,  0.,  0.,  0., -1.]])\n",
      "tensor([[ 0.,  0.,  0.,  0., -1.,  0., -1.,  1.,  1.]])\n"
     ]
    },
    {
     "name": "stderr",
     "output_type": "stream",
     "text": [
      "\r",
      "  7%|██▌                                    | 660/10000 [00:26<05:54, 26.38it/s]"
     ]
    },
    {
     "name": "stdout",
     "output_type": "stream",
     "text": [
      "tensor([[ 0.,  0.,  0.,  0.,  1.,  0.,  1.,  0., -1.]])\n",
      "tensor([[ 0.,  0.,  0.,  0., -1.,  0.,  0.,  0.,  1.]])\n",
      "tensor([[ 0.,  0.,  0.,  0., -1.,  1., -1.,  1.,  1.]])\n",
      "tensor([[ 0.,  0.,  0.,  0., -1.,  0., -1.,  1.,  1.]])\n",
      "tensor([[ 0.,  0.,  0.,  0., -1.,  0., -1.,  1.,  1.]])\n",
      "tensor([[ 0.,  0.,  0.,  0., -1.,  1., -1.,  1.,  1.]])\n",
      "tensor([[0., 0., 1., 0., 0., 0., 0., 0., 0.]])\n",
      "tensor([[0., 0., 0., 0., 0., 0., 0., 0., 1.]])\n",
      "tensor([[ 0.,  0.,  0.,  0., -1.,  0., -1.,  1.,  1.]])\n",
      "tensor([[0., 0., 0., 0., 0., 0., 0., 0., 1.]])\n",
      "tensor([[0., 0., 0., 0., 0., 0., 0., 0., 1.]])\n",
      "tensor([[ 1.,  0.,  0.,  0.,  1.,  0.,  1., -1., -1.]])\n",
      "tensor([[ 0.,  0.,  1.,  0.,  1.,  0.,  0.,  0., -1.]])\n",
      "tensor([[ 1.,  0.,  0.,  0.,  1.,  0.,  1., -1., -1.]])\n",
      "tensor([[ 0.,  0.,  0.,  0., -1.,  1., -1.,  1.,  1.]])\n",
      "tensor([[0., 0., 0., 0., 0., 0., 0., 0., 1.]])\n",
      "tensor([[ 0.,  0.,  0.,  0.,  1.,  0.,  0., -1.,  1.]])\n",
      "tensor([[ 0.,  0.,  0.,  0., -1.,  0., -1.,  1.,  1.]])\n",
      "tensor([[0., 0., 0., 0., 0., 0., 0., 0., 1.]])\n",
      "tensor([[ 0.,  0.,  0.,  0., -1.,  0., -1.,  1.,  1.]])\n",
      "tensor([[0., 0., 0., 0., 1., 0., 0., 0., 0.]])\n",
      "tensor([[ 0.,  0.,  1.,  0.,  0.,  0.,  0.,  0., -1.]])\n",
      "tensor([[ 1.,  0.,  0.,  0.,  1.,  0.,  0., -1., -1.]])\n",
      "tensor([[0., 0., 0., 0., 0., 0., 0., 0., 1.]])\n",
      "tensor([[ 1.,  0.,  0.,  0.,  1., -1.,  1., -1., -1.]])\n",
      "tensor([[ 0.,  0.,  0.,  0., -1.,  1., -1.,  1.,  1.]])\n",
      "tensor([[ 0.,  0.,  0.,  0., -1.,  0.,  0.,  1.,  1.]])\n",
      "tensor([[ 0.,  0.,  0.,  0., -1.,  1., -1.,  1.,  1.]])\n",
      "tensor([[ 1.,  0.,  0.,  0.,  1.,  0.,  1., -1., -1.]])\n"
     ]
    },
    {
     "name": "stderr",
     "output_type": "stream",
     "text": [
      "  7%|██▌                                    | 666/10000 [00:26<06:15, 24.87it/s]"
     ]
    },
    {
     "name": "stdout",
     "output_type": "stream",
     "text": [
      "tensor([[ 1.,  0.,  0.,  0.,  1.,  0.,  1., -1., -1.]])\n",
      "tensor([[ 0.,  0.,  0.,  0., -1.,  0., -1.,  1.,  1.]])\n",
      "tensor([[ 1.,  0.,  0.,  0.,  1., -1.,  1., -1., -1.]])\n",
      "tensor([[ 0.,  0.,  0.,  0.,  1.,  0.,  1.,  0., -1.]])\n",
      "tensor([[ 0.,  0.,  0.,  0., -1.,  0.,  0.,  1.,  1.]])\n",
      "tensor([[ 1.,  0.,  0.,  0.,  1., -1.,  1., -1., -1.]])\n",
      "tensor([[ 0.,  0.,  1.,  0.,  1.,  0.,  0.,  0., -1.]])\n",
      "tensor([[0., 0., 1., 0., 0., 0., 0., 0., 0.]])\n",
      "tensor([[0., 0., 0., 0., 0., 0., 0., 0., 1.]])\n",
      "tensor([[ 0.,  0.,  0.,  0., -1.,  0., -1.,  1.,  1.]])\n",
      "tensor([[0., 0., 0., 0., 0., 0., 0., 0., 1.]])\n",
      "tensor([[ 1.,  0.,  0.,  0.,  1., -1.,  1., -1., -1.]])\n",
      "tensor([[ 0.,  0.,  1.,  0.,  1.,  0.,  0.,  0., -1.]])\n",
      "tensor([[ 0.,  0.,  0.,  0., -1.,  1., -1.,  1.,  1.]])\n",
      "tensor([[ 1.,  0.,  0.,  0.,  0.,  0.,  0.,  0., -1.]])\n",
      "tensor([[ 0.,  0.,  0.,  0., -1.,  0.,  0.,  1.,  1.]])\n",
      "tensor([[0., 0., 0., 0., 0., 0., 0., 0., 1.]])\n",
      "tensor([[ 0.,  0.,  0.,  0., -1.,  0., -1.,  1.,  1.]])\n",
      "tensor([[ 0.,  0.,  0.,  0.,  1.,  0.,  1.,  0., -1.]])\n",
      "tensor([[ 0.,  0.,  0.,  0., -1.,  0.,  0.,  0.,  1.]])\n",
      "tensor([[ 0.,  0.,  0.,  0., -1.,  1., -1.,  1.,  1.]])\n",
      "tensor([[ 1.,  0.,  0.,  0.,  1., -1.,  1., -1., -1.]])\n",
      "tensor([[ 0.,  0.,  0.,  0.,  0.,  0.,  1.,  0., -1.]])\n",
      "tensor([[ 1.,  0.,  0.,  0.,  1.,  0.,  0.,  0., -1.]])\n",
      "tensor([[ 0.,  0.,  0.,  0., -1.,  0.,  0.,  0.,  1.]])\n",
      "tensor([[ 0.,  0.,  0.,  0., -1.,  1., -1.,  1.,  1.]])\n"
     ]
    },
    {
     "name": "stderr",
     "output_type": "stream",
     "text": [
      "\r",
      "  7%|██▌                                    | 669/10000 [00:26<06:14, 24.90it/s]"
     ]
    },
    {
     "name": "stdout",
     "output_type": "stream",
     "text": [
      "tensor([[0., 0., 0., 0., 0., 0., 0., 0., 1.]])\n",
      "tensor([[ 0.,  0.,  0.,  0.,  1.,  0., -1., -1.,  1.]])\n",
      "tensor([[ 1.,  0.,  0.,  0.,  1.,  0.,  0., -1., -1.]])\n",
      "tensor([[ 0.,  0.,  0.,  0., -1.,  0., -1.,  1.,  1.]])\n",
      "tensor([[ 0.,  0.,  1.,  0.,  0.,  0.,  0.,  0., -1.]])\n",
      "tensor([[0., 0., 0., 0., 0., 0., 0., 0., 1.]])\n",
      "tensor([[0., 0., 0., 0., 0., 0., 0., 0., 1.]])\n",
      "tensor([[ 1.,  0.,  0.,  0.,  1.,  0.,  0., -1., -1.]])\n",
      "tensor([[ 0.,  0.,  0.,  0., -1.,  0., -1.,  1.,  1.]])\n",
      "tensor([[0., 0., 0., 0., 0., 0., 0., 0., 1.]])\n",
      "tensor([[ 0.,  0.,  0.,  0.,  1.,  0., -1., -1.,  1.]])\n",
      "tensor([[ 0.,  0.,  0.,  0., -1.,  0.,  0.,  1.,  1.]])\n",
      "tensor([[ 0.,  0.,  0.,  0.,  1.,  0.,  1.,  0., -1.]])\n",
      "tensor([[ 1.,  0.,  0.,  0.,  0.,  0.,  0.,  0., -1.]])\n",
      "tensor([[ 0.,  0.,  0.,  0., -1.,  0.,  0.,  0.,  1.]])\n",
      "tensor([[ 1.,  0.,  0.,  0.,  1.,  0.,  1., -1., -1.]])\n",
      "tensor([[ 0.,  0.,  0.,  0., -1.,  0.,  0.,  0.,  1.]])\n",
      "tensor([[ 1.,  0.,  0.,  0.,  1.,  0.,  0., -1., -1.]])\n",
      "tensor([[0., 0., 0., 0., 0., 0., 0., 0., 1.]])\n",
      "tensor([[0., 0., 0., 0., 0., 0., 1., 0., 0.]])\n",
      "tensor([[ 1.,  0.,  0.,  0.,  1.,  0.,  1., -1., -1.]])\n",
      "tensor([[ 1.,  0.,  0.,  0.,  0.,  0.,  0.,  0., -1.]])\n",
      "tensor([[ 0.,  0.,  0.,  0.,  1.,  0.,  1.,  0., -1.]])\n",
      "tensor([[ 0.,  0.,  0.,  0., -1.,  1., -1.,  1.,  1.]])\n",
      "tensor([[ 0.,  0.,  0.,  0., -1.,  0., -1.,  1.,  1.]])\n",
      "tensor([[0., 0., 0., 0., 0., 0., 1., 0., 0.]])\n"
     ]
    },
    {
     "name": "stderr",
     "output_type": "stream",
     "text": [
      "  7%|██▋                                    | 676/10000 [00:27<06:01, 25.80it/s]"
     ]
    },
    {
     "name": "stdout",
     "output_type": "stream",
     "text": [
      "tensor([[ 1.,  0.,  0.,  0.,  1.,  0.,  1., -1., -1.]])\n",
      "tensor([[ 1.,  0.,  0.,  0.,  1.,  0.,  1., -1., -1.]])\n",
      "tensor([[ 1.,  0.,  0.,  0.,  1.,  0.,  1., -1., -1.]])\n",
      "tensor([[ 1.,  0.,  0.,  0.,  1., -1.,  1., -1., -1.]])\n",
      "tensor([[0., 0., 0., 0., 0., 0., 0., 0., 1.]])\n",
      "tensor([[ 1.,  0.,  0.,  0.,  1.,  0.,  1., -1., -1.]])\n",
      "tensor([[ 0.,  0.,  0.,  0., -1.,  0., -1.,  1.,  1.]])\n",
      "tensor([[ 0.,  0.,  0.,  0., -1.,  0., -1.,  1.,  1.]])\n",
      "tensor([[1., 0., 0., 0., 0., 0., 0., 0., 0.]])\n",
      "tensor([[0., 0., 0., 0., 0., 0., 1., 0., 0.]])\n",
      "tensor([[ 0.,  0.,  0.,  0.,  0.,  0.,  1.,  0., -1.]])\n",
      "tensor([[ 0.,  0.,  0.,  0., -1.,  1., -1.,  1.,  1.]])\n",
      "tensor([[ 1.,  0.,  0.,  0.,  1.,  0.,  0., -1., -1.]])\n",
      "tensor([[ 0.,  0.,  0.,  0.,  1.,  0.,  1., -1., -1.]])\n",
      "tensor([[ 1.,  0.,  0.,  0.,  1.,  0.,  0.,  0., -1.]])\n",
      "tensor([[ 0.,  0.,  1.,  0.,  1.,  0.,  0., -1., -1.]])\n",
      "tensor([[ 0.,  0.,  0.,  0.,  0.,  0.,  0., -1.,  1.]])\n",
      "tensor([[ 0.,  0.,  0.,  0., -1.,  0.,  0.,  1.,  1.]])\n",
      "tensor([[ 1.,  0.,  0.,  0.,  1.,  0.,  0., -1., -1.]])\n",
      "tensor([[ 1.,  0.,  0.,  0.,  1.,  0.,  0., -1., -1.]])\n",
      "tensor([[0., 0., 0., 0., 0., 0., 0., 0., 1.]])\n",
      "tensor([[ 0.,  0.,  0.,  0., -1.,  0.,  0.,  0.,  1.]])\n",
      "tensor([[ 0.,  0.,  0.,  0., -1.,  0.,  0.,  0.,  1.]])\n",
      "tensor([[ 0.,  0.,  0.,  0.,  0.,  0.,  0., -1.,  1.]])\n",
      "tensor([[ 1.,  0.,  0.,  0.,  1., -1.,  1., -1., -1.]])\n",
      "tensor([[ 0.,  0.,  0.,  0., -1.,  1., -1.,  1.,  1.]])\n",
      "tensor([[ 1.,  0.,  0.,  0.,  1.,  0.,  0.,  0., -1.]])\n",
      "tensor([[0., 0., 0., 0., 1., 0., 0., 0., 0.]])\n",
      "tensor([[ 0.,  0.,  0.,  0., -1.,  0., -1.,  1.,  1.]])\n",
      "tensor([[0., 0., 0., 0., 0., 0., 0., 0., 1.]])\n",
      "tensor([[ 1.,  0.,  0.,  0.,  0.,  0.,  0.,  0., -1.]])\n",
      "tensor([[ 0.,  0.,  0.,  0., -1.,  0.,  0.,  0.,  1.]])\n"
     ]
    },
    {
     "name": "stderr",
     "output_type": "stream",
     "text": [
      "  7%|██▋                                    | 682/10000 [00:27<05:58, 25.98it/s]"
     ]
    },
    {
     "name": "stdout",
     "output_type": "stream",
     "text": [
      "tensor([[ 0.,  0.,  0.,  0., -1.,  0., -1.,  1.,  1.]])\n",
      "tensor([[ 1.,  0.,  0.,  0.,  1.,  0.,  0.,  0., -1.]])\n",
      "tensor([[ 0.,  0.,  0.,  0.,  1.,  0.,  1.,  0., -1.]])\n",
      "tensor([[0., 0., 0., 0., 0., 0., 0., 0., 1.]])\n",
      "tensor([[ 1.,  0.,  0.,  0.,  1.,  0.,  0., -1., -1.]])\n",
      "tensor([[ 0.,  0.,  0.,  0.,  1.,  0.,  0., -1.,  1.]])\n",
      "tensor([[0., 0., 0., 0., 0., 0., 0., 0., 1.]])\n",
      "tensor([[0., 0., 0., 0., 0., 0., 0., 0., 1.]])\n",
      "tensor([[ 0.,  0.,  0.,  0., -1.,  0.,  0.,  0.,  1.]])\n",
      "tensor([[ 0.,  0.,  1.,  0.,  0.,  0.,  0.,  0., -1.]])\n",
      "tensor([[ 0.,  0.,  0.,  0.,  0.,  0.,  1.,  0., -1.]])\n",
      "tensor([[ 0.,  0.,  0.,  0., -1.,  1., -1.,  1.,  1.]])\n",
      "tensor([[ 0.,  0.,  0.,  0., -1.,  1., -1.,  1.,  1.]])\n",
      "tensor([[ 0.,  0.,  0.,  0.,  0.,  0.,  1.,  0., -1.]])\n",
      "tensor([[ 0.,  0.,  0.,  0., -1.,  0., -1.,  1.,  1.]])\n",
      "tensor([[ 0.,  0.,  0.,  0., -1.,  0., -1.,  1.,  1.]])\n",
      "tensor([[ 1.,  0.,  0.,  0.,  1.,  0.,  1., -1., -1.]])\n",
      "tensor([[ 0.,  0.,  0.,  0., -1.,  1., -1.,  1.,  1.]])\n",
      "tensor([[ 0.,  0.,  0.,  0., -1.,  0.,  0.,  1.,  1.]])\n",
      "tensor([[0., 0., 0., 0., 0., 0., 0., 0., 1.]])\n",
      "tensor([[ 0.,  0.,  0.,  0., -1.,  0., -1.,  1.,  1.]])\n",
      "tensor([[ 0.,  0.,  0.,  0., -1.,  0., -1.,  1.,  1.]])\n",
      "tensor([[ 0.,  0.,  1.,  0.,  1.,  0.,  0., -1., -1.]])\n",
      "tensor([[ 1.,  0.,  0.,  0.,  1., -1.,  1., -1., -1.]])\n",
      "tensor([[ 0.,  0.,  0.,  0., -1.,  1., -1.,  1.,  1.]])\n",
      "tensor([[ 1.,  0.,  0.,  0.,  0.,  0.,  0.,  0., -1.]])\n",
      "tensor([[ 0.,  0.,  0.,  0., -1.,  0.,  0.,  0.,  1.]])\n",
      "tensor([[0., 0., 0., 0., 0., 0., 0., 0., 1.]])\n",
      "tensor([[ 0.,  0.,  0.,  0., -1.,  0., -1.,  1.,  1.]])\n"
     ]
    },
    {
     "name": "stderr",
     "output_type": "stream",
     "text": [
      "  7%|██▋                                    | 689/10000 [00:27<05:47, 26.82it/s]"
     ]
    },
    {
     "name": "stdout",
     "output_type": "stream",
     "text": [
      "tensor([[0., 0., 0., 0., 0., 0., 0., 0., 1.]])\n",
      "tensor([[ 0.,  0.,  0.,  0., -1.,  0.,  0.,  1.,  1.]])\n",
      "tensor([[ 0.,  0.,  0.,  0., -1.,  1., -1.,  1.,  1.]])\n",
      "tensor([[ 1.,  0.,  0.,  0.,  1., -1.,  1., -1., -1.]])\n",
      "tensor([[ 0.,  0.,  0.,  0., -1.,  0., -1.,  1.,  1.]])\n",
      "tensor([[0., 0., 0., 0., 1., 0., 0., 0., 0.]])\n",
      "tensor([[ 0.,  0.,  0.,  0.,  1.,  0.,  1., -1., -1.]])\n",
      "tensor([[ 0.,  0.,  0.,  0., -1.,  0.,  0.,  1.,  1.]])\n",
      "tensor([[0., 0., 0., 0., 0., 0., 1., 0., 0.]])\n",
      "tensor([[ 0.,  0.,  0.,  0.,  0.,  0.,  0., -1.,  1.]])\n",
      "tensor([[ 0.,  0.,  0.,  0., -1.,  1., -1.,  1.,  1.]])\n",
      "tensor([[ 1.,  0.,  0.,  0.,  1.,  0.,  1., -1., -1.]])\n",
      "tensor([[ 0.,  0.,  0.,  0., -1.,  0.,  0.,  1.,  1.]])\n",
      "tensor([[ 0.,  0.,  0.,  0.,  0.,  0.,  1.,  0., -1.]])\n",
      "tensor([[0., 0., 1., 0., 0., 0., 0., 0., 0.]])\n",
      "tensor([[ 0.,  0.,  0.,  0.,  0.,  0.,  0., -1.,  1.]])\n",
      "tensor([[ 0.,  0.,  0.,  0., -1.,  1., -1.,  1.,  1.]])\n",
      "tensor([[ 0.,  0.,  0.,  0., -1.,  1., -1.,  1.,  1.]])\n",
      "tensor([[ 0.,  0.,  0.,  0., -1.,  0.,  0.,  1.,  1.]])\n",
      "tensor([[0., 0., 0., 0., 1., 0., 0., 0., 0.]])\n",
      "tensor([[ 1.,  0.,  0.,  0.,  1.,  0.,  0.,  0., -1.]])\n",
      "tensor([[ 0.,  0.,  1.,  0.,  1.,  0.,  0., -1., -1.]])\n",
      "tensor([[ 0.,  0.,  0.,  0., -1.,  0.,  0.,  0.,  1.]])\n",
      "tensor([[ 0.,  0.,  0.,  0., -1.,  0., -1.,  1.,  1.]])\n",
      "tensor([[ 0.,  0.,  0.,  0., -1.,  0., -1.,  1.,  1.]])\n"
     ]
    },
    {
     "name": "stderr",
     "output_type": "stream",
     "text": [
      "\r",
      "  7%|██▋                                    | 692/10000 [00:27<06:06, 25.36it/s]"
     ]
    },
    {
     "name": "stdout",
     "output_type": "stream",
     "text": [
      "tensor([[0., 0., 0., 0., 1., 0., 0., 0., 0.]])\n",
      "tensor([[ 0.,  0.,  0.,  0.,  1.,  0.,  1.,  0., -1.]])\n",
      "tensor([[ 0.,  0.,  0.,  0.,  0.,  0.,  0., -1.,  1.]])\n",
      "tensor([[ 0.,  0.,  0.,  0., -1.,  1., -1.,  1.,  1.]])\n",
      "tensor([[ 0.,  0.,  0.,  0., -1.,  0., -1.,  1.,  1.]])\n",
      "tensor([[ 0.,  0.,  0.,  0., -1.,  0.,  0.,  1.,  1.]])\n",
      "tensor([[0., 0., 1., 0., 0., 0., 0., 0., 0.]])\n",
      "tensor([[1., 0., 0., 0., 0., 0., 0., 0., 0.]])\n",
      "tensor([[ 0.,  0.,  0.,  0., -1.,  1., -1.,  1.,  1.]])\n",
      "tensor([[ 0.,  0.,  0.,  0., -1.,  0., -1.,  1.,  1.]])\n",
      "tensor([[ 0.,  0.,  0.,  0., -1.,  1., -1.,  1.,  1.]])\n",
      "tensor([[ 0.,  0.,  0.,  0., -1.,  0.,  0.,  1.,  1.]])\n",
      "tensor([[ 0.,  0.,  0.,  0., -1.,  0., -1.,  1.,  1.]])\n",
      "tensor([[ 1.,  0.,  0.,  0.,  1.,  0.,  0.,  0., -1.]])\n",
      "tensor([[ 0.,  0.,  0.,  0.,  0.,  0.,  1.,  0., -1.]])\n",
      "tensor([[ 0.,  0.,  0.,  0., -1.,  0., -1.,  1.,  1.]])\n",
      "tensor([[ 1.,  0.,  0.,  0.,  0.,  0.,  0.,  0., -1.]])\n",
      "tensor([[0., 0., 0., 0., 0., 0., 0., 0., 1.]])\n",
      "tensor([[1., 0., 0., 0., 0., 0., 0., 0., 0.]])\n",
      "tensor([[ 1.,  0.,  0.,  0.,  1.,  0.,  1., -1., -1.]])\n",
      "tensor([[ 0.,  0.,  0.,  0., -1.,  0.,  0.,  1.,  1.]])\n",
      "tensor([[ 0.,  0.,  0.,  0.,  1.,  0.,  0.,  0., -1.]])\n",
      "tensor([[ 0.,  0.,  0.,  0., -1.,  1., -1.,  1.,  1.]])\n",
      "tensor([[ 1.,  0.,  0.,  0.,  1., -1.,  1., -1., -1.]])\n",
      "tensor([[ 0.,  0.,  0.,  0., -1.,  0., -1.,  1.,  1.]])\n",
      "tensor([[ 0.,  0.,  0.,  0., -1.,  0., -1.,  1.,  1.]])\n"
     ]
    },
    {
     "name": "stderr",
     "output_type": "stream",
     "text": [
      "  7%|██▋                                    | 698/10000 [00:27<06:03, 25.60it/s]"
     ]
    },
    {
     "name": "stdout",
     "output_type": "stream",
     "text": [
      "tensor([[ 0.,  0.,  0.,  0., -1.,  0.,  0.,  0.,  1.]])\n",
      "tensor([[ 1.,  0.,  0.,  0.,  1.,  0.,  1., -1., -1.]])\n",
      "tensor([[0., 0., 0., 0., 0., 0., 0., 0., 1.]])\n",
      "tensor([[0., 0., 0., 0., 0., 0., 0., 0., 1.]])\n",
      "tensor([[ 0.,  0.,  0.,  0., -1.,  0.,  0.,  0.,  1.]])\n",
      "tensor([[ 0.,  0.,  1.,  0.,  0.,  0.,  0.,  0., -1.]])\n",
      "tensor([[ 1.,  0.,  0.,  0.,  1., -1.,  1., -1., -1.]])\n",
      "tensor([[ 0.,  0.,  0.,  0.,  1.,  0.,  0.,  0., -1.]])\n",
      "tensor([[ 0.,  0.,  1.,  0.,  1.,  0.,  0., -1., -1.]])\n",
      "tensor([[ 0.,  0.,  1.,  0.,  0.,  0.,  0.,  0., -1.]])\n",
      "tensor([[ 0.,  0.,  0.,  0., -1.,  0.,  0.,  0.,  1.]])\n",
      "tensor([[0., 0., 0., 0., 0., 0., 0., 0., 1.]])\n",
      "tensor([[ 1.,  0.,  0.,  0.,  1., -1.,  1., -1., -1.]])\n",
      "tensor([[ 0.,  0.,  0.,  0., -1.,  0.,  0.,  0.,  1.]])\n",
      "tensor([[0., 0., 0., 0., 0., 0., 0., 0., 1.]])\n",
      "tensor([[ 0.,  0.,  0.,  0.,  0.,  0.,  1.,  0., -1.]])\n",
      "tensor([[0., 0., 0., 0., 0., 0., 1., 0., 0.]])\n",
      "tensor([[ 0.,  0.,  0.,  0.,  0.,  0.,  1.,  0., -1.]])\n",
      "tensor([[0., 0., 0., 0., 0., 0., 0., 0., 1.]])\n",
      "tensor([[ 0.,  0.,  0.,  0., -1.,  1., -1.,  1.,  1.]])\n",
      "tensor([[ 1.,  0.,  0.,  0.,  1., -1.,  1., -1., -1.]])\n",
      "tensor([[ 0.,  0.,  0.,  0., -1.,  0., -1.,  1.,  1.]])\n",
      "tensor([[ 0.,  0.,  0.,  0., -1.,  1., -1.,  1.,  1.]])\n",
      "tensor([[ 0.,  0.,  0.,  0., -1.,  0.,  0.,  1.,  1.]])\n",
      "tensor([[ 0.,  0.,  0.,  0.,  0.,  0.,  0., -1.,  1.]])\n",
      "tensor([[ 0.,  0.,  0.,  0., -1.,  0.,  0.,  1.,  1.]])\n",
      "tensor([[ 0.,  0.,  0.,  0., -1.,  0., -1.,  1.,  1.]])\n"
     ]
    },
    {
     "name": "stderr",
     "output_type": "stream",
     "text": [
      "  7%|██▋                                    | 704/10000 [00:28<06:17, 24.65it/s]"
     ]
    },
    {
     "name": "stdout",
     "output_type": "stream",
     "text": [
      "tensor([[ 0.,  0.,  0.,  0., -1.,  0.,  0.,  0.,  1.]])\n",
      "tensor([[0., 0., 0., 0., 0., 0., 0., 0., 1.]])\n",
      "tensor([[ 0.,  0.,  0.,  0., -1.,  0.,  0.,  1.,  1.]])\n",
      "tensor([[ 0.,  0.,  0.,  0.,  1.,  0.,  1., -1., -1.]])\n",
      "tensor([[ 0.,  0.,  0.,  0., -1.,  1., -1.,  1.,  1.]])\n",
      "tensor([[ 0.,  0.,  0.,  0.,  1.,  0.,  1., -1., -1.]])\n",
      "tensor([[ 0.,  0.,  0.,  0.,  1.,  0., -1., -1.,  1.]])\n",
      "tensor([[ 0.,  0.,  0.,  0., -1.,  1., -1.,  1.,  1.]])\n",
      "tensor([[ 0.,  0.,  0.,  0., -1.,  0., -1.,  1.,  1.]])\n",
      "tensor([[ 0.,  0.,  0.,  0.,  1.,  0.,  1.,  0., -1.]])\n",
      "tensor([[0., 0., 0., 0., 0., 0., 0., 0., 1.]])\n",
      "tensor([[ 0.,  0.,  0.,  0., -1.,  0.,  0.,  0.,  1.]])\n",
      "tensor([[ 1.,  0.,  0.,  0.,  1., -1.,  1., -1., -1.]])\n",
      "tensor([[ 0.,  0.,  0.,  0., -1.,  0., -1.,  1.,  1.]])\n",
      "tensor([[ 0.,  0.,  0.,  0., -1.,  0.,  0.,  1.,  1.]])\n",
      "tensor([[0., 0., 1., 0., 0., 0., 0., 0., 0.]])\n",
      "tensor([[ 0.,  0.,  1.,  0.,  1.,  0.,  0., -1., -1.]])\n",
      "tensor([[ 0.,  0.,  0.,  0., -1.,  1., -1.,  1.,  1.]])\n",
      "tensor([[ 0.,  0.,  0.,  0., -1.,  0., -1.,  1.,  1.]])\n",
      "tensor([[ 0.,  0.,  0.,  0., -1.,  0.,  0.,  0.,  1.]])\n",
      "tensor([[ 1.,  0.,  0.,  0.,  1.,  0.,  0.,  0., -1.]])\n",
      "tensor([[ 0.,  0.,  0.,  0., -1.,  1., -1.,  1.,  1.]])\n",
      "tensor([[ 0.,  0.,  0.,  0.,  1.,  0., -1., -1.,  1.]])\n",
      "tensor([[0., 0., 0., 0., 0., 0., 0., 0., 1.]])\n"
     ]
    },
    {
     "name": "stderr",
     "output_type": "stream",
     "text": [
      "  7%|██▊                                    | 710/10000 [00:28<05:50, 26.51it/s]"
     ]
    },
    {
     "name": "stdout",
     "output_type": "stream",
     "text": [
      "tensor([[0., 0., 0., 0., 1., 0., 0., 0., 0.]])\n",
      "tensor([[ 0.,  0.,  0.,  0., -1.,  0.,  0.,  1.,  1.]])\n",
      "tensor([[0., 0., 0., 0., 0., 0., 0., 0., 1.]])\n",
      "tensor([[ 0.,  0.,  0.,  0., -1.,  0.,  0.,  0.,  1.]])\n",
      "tensor([[0., 0., 0., 0., 0., 0., 1., 0., 0.]])\n",
      "tensor([[ 0.,  0.,  0.,  0., -1.,  0.,  0.,  0.,  1.]])\n",
      "tensor([[0., 0., 0., 0., 0., 0., 1., 0., 0.]])\n",
      "tensor([[ 0.,  0.,  0.,  0., -1.,  0., -1.,  1.,  1.]])\n",
      "tensor([[ 0.,  0.,  0.,  0., -1.,  0., -1.,  1.,  1.]])\n",
      "tensor([[0., 0., 0., 0., 0., 0., 0., 0., 1.]])\n",
      "tensor([[0., 0., 0., 0., 0., 0., 0., 0., 1.]])\n",
      "tensor([[0., 0., 0., 0., 0., 0., 1., 0., 0.]])\n",
      "tensor([[ 0.,  0.,  0.,  0.,  0.,  0.,  1.,  0., -1.]])\n",
      "tensor([[ 0.,  0.,  0.,  0., -1.,  1., -1.,  1.,  1.]])\n",
      "tensor([[ 0.,  0.,  0.,  0., -1.,  0., -1.,  1.,  1.]])\n",
      "tensor([[ 0.,  0.,  0.,  0., -1.,  0.,  0.,  0.,  1.]])\n",
      "tensor([[ 0.,  0.,  1.,  0.,  1.,  0.,  0., -1., -1.]])\n",
      "tensor([[ 1.,  0.,  0.,  0.,  1.,  0.,  0., -1., -1.]])\n",
      "tensor([[ 1.,  0.,  0.,  0.,  1., -1.,  1., -1., -1.]])\n",
      "tensor([[ 1.,  0.,  0.,  0.,  1., -1.,  1., -1., -1.]])\n",
      "tensor([[ 0.,  0.,  0.,  0., -1.,  1., -1.,  1.,  1.]])\n",
      "tensor([[ 0.,  0.,  1.,  0.,  0.,  0.,  0.,  0., -1.]])\n",
      "tensor([[ 1.,  0.,  0.,  0.,  1.,  0.,  0.,  0., -1.]])\n",
      "tensor([[ 0.,  0.,  0.,  0., -1.,  1., -1.,  1.,  1.]])\n",
      "tensor([[ 0.,  0.,  0.,  0., -1.,  0.,  0.,  1.,  1.]])\n",
      "tensor([[ 0.,  0.,  0.,  0., -1.,  0.,  0.,  0.,  1.]])\n",
      "tensor([[ 0.,  0.,  0.,  0.,  0.,  0.,  0., -1.,  1.]])\n",
      "tensor([[ 0.,  0.,  0.,  0., -1.,  0.,  0.,  0.,  1.]])\n",
      "tensor([[ 0.,  0.,  0.,  0., -1.,  1., -1.,  1.,  1.]])\n",
      "tensor([[ 0.,  0.,  0.,  0., -1.,  1., -1.,  1.,  1.]])\n",
      "tensor([[ 0.,  0.,  0.,  0., -1.,  0.,  0.,  1.,  1.]])\n"
     ]
    },
    {
     "name": "stderr",
     "output_type": "stream",
     "text": [
      "  7%|██▊                                    | 716/10000 [00:28<05:43, 27.01it/s]"
     ]
    },
    {
     "name": "stdout",
     "output_type": "stream",
     "text": [
      "tensor([[0., 0., 1., 0., 0., 0., 0., 0., 0.]])\n",
      "tensor([[ 0.,  0.,  1.,  0.,  1.,  0.,  0.,  0., -1.]])\n",
      "tensor([[ 0.,  0.,  0.,  0., -1.,  0., -1.,  1.,  1.]])\n",
      "tensor([[ 1.,  0.,  0.,  0.,  1.,  0.,  0., -1., -1.]])\n",
      "tensor([[ 0.,  0.,  1.,  0.,  1.,  0.,  0.,  0., -1.]])\n",
      "tensor([[ 0.,  0.,  1.,  0.,  1.,  0.,  0., -1., -1.]])\n",
      "tensor([[ 0.,  0.,  0.,  0.,  1.,  0.,  1., -1., -1.]])\n",
      "tensor([[ 0.,  0.,  1.,  0.,  0.,  0.,  0.,  0., -1.]])\n",
      "tensor([[ 0.,  0.,  0.,  0.,  1.,  0.,  1., -1., -1.]])\n",
      "tensor([[ 0.,  0.,  0.,  0., -1.,  0.,  0.,  1.,  1.]])\n",
      "tensor([[ 0.,  0.,  0.,  0., -1.,  0.,  0.,  0.,  1.]])\n",
      "tensor([[ 1.,  0.,  0.,  0.,  1.,  0.,  0., -1., -1.]])\n",
      "tensor([[ 0.,  0.,  0.,  0., -1.,  1., -1.,  1.,  1.]])\n",
      "tensor([[ 0.,  0.,  0.,  0., -1.,  0.,  0.,  0.,  1.]])\n",
      "tensor([[1., 0., 0., 0., 0., 0., 0., 0., 0.]])\n",
      "tensor([[0., 0., 0., 0., 0., 0., 0., 0., 1.]])\n",
      "tensor([[0., 0., 0., 0., 0., 0., 0., 0., 1.]])\n",
      "tensor([[ 1.,  0.,  0.,  0.,  1.,  0.,  1., -1., -1.]])\n",
      "tensor([[ 1.,  0.,  0.,  0.,  1.,  0.,  0., -1., -1.]])\n",
      "tensor([[ 0.,  0.,  0.,  0., -1.,  0., -1.,  1.,  1.]])\n",
      "tensor([[ 1.,  0.,  0.,  0.,  1.,  0.,  1., -1., -1.]])\n",
      "tensor([[ 0.,  0.,  0.,  0.,  0.,  0.,  0., -1.,  1.]])\n",
      "tensor([[0., 0., 0., 0., 0., 0., 0., 0., 1.]])\n",
      "tensor([[0., 0., 0., 0., 0., 0., 0., 0., 1.]])\n",
      "tensor([[ 0.,  0.,  0.,  0., -1.,  0.,  0.,  0.,  1.]])\n",
      "tensor([[ 0.,  0.,  0.,  0., -1.,  0.,  0.,  1.,  1.]])\n",
      "tensor([[ 0.,  0.,  0.,  0.,  0.,  0.,  1.,  0., -1.]])\n",
      "tensor([[ 1.,  0.,  0.,  0.,  1.,  0.,  0.,  0., -1.]])\n",
      "tensor([[ 0.,  0.,  0.,  0.,  1.,  0.,  0.,  0., -1.]])\n"
     ]
    },
    {
     "name": "stderr",
     "output_type": "stream",
     "text": [
      "\r",
      "  7%|██▊                                    | 719/10000 [00:28<05:46, 26.82it/s]"
     ]
    },
    {
     "name": "stdout",
     "output_type": "stream",
     "text": [
      "tensor([[0., 0., 0., 0., 0., 0., 1., 0., 0.]])\n",
      "tensor([[ 0.,  0.,  0.,  0., -1.,  1., -1.,  1.,  1.]])\n",
      "tensor([[ 0.,  0.,  0.,  0., -1.,  0.,  0.,  0.,  1.]])\n",
      "tensor([[ 0.,  0.,  0.,  0., -1.,  0., -1.,  1.,  1.]])\n",
      "tensor([[ 0.,  0.,  1.,  0.,  1.,  0.,  0.,  0., -1.]])\n",
      "tensor([[ 0.,  0.,  0.,  0., -1.,  1., -1.,  1.,  1.]])\n",
      "tensor([[ 1.,  0.,  0.,  0.,  1., -1.,  1., -1., -1.]])\n",
      "tensor([[ 0.,  0.,  0.,  0., -1.,  0.,  0.,  1.,  1.]])\n",
      "tensor([[ 0.,  0.,  0.,  0.,  1.,  0., -1., -1.,  1.]])\n",
      "tensor([[ 0.,  0.,  0.,  0., -1.,  1., -1.,  1.,  1.]])\n",
      "tensor([[ 0.,  0.,  0.,  0., -1.,  0., -1.,  1.,  1.]])\n",
      "tensor([[ 0.,  0.,  0.,  0.,  0.,  0.,  0., -1.,  1.]])\n",
      "tensor([[ 0.,  0.,  0.,  0., -1.,  0.,  0.,  0.,  1.]])\n",
      "tensor([[ 0.,  0.,  0.,  0.,  1.,  0.,  0.,  0., -1.]])\n",
      "tensor([[ 0.,  0.,  0.,  0., -1.,  0.,  0.,  0.,  1.]])\n",
      "tensor([[ 1.,  0.,  0.,  0.,  1., -1.,  1., -1., -1.]])\n",
      "tensor([[ 0.,  0.,  0.,  0.,  1.,  0.,  0., -1.,  1.]])\n",
      "tensor([[0., 0., 0., 0., 0., 0., 0., 0., 1.]])\n",
      "tensor([[ 0.,  0.,  0.,  0., -1.,  0., -1.,  1.,  1.]])\n",
      "tensor([[0., 0., 0., 0., 0., 0., 0., 0., 1.]])\n",
      "tensor([[0., 0., 0., 0., 1., 0., 0., 0., 0.]])\n",
      "tensor([[0., 0., 0., 0., 0., 0., 0., 0., 1.]])\n",
      "tensor([[1., 0., 0., 0., 0., 0., 0., 0., 0.]])\n",
      "tensor([[0., 0., 0., 0., 0., 0., 0., 0., 1.]])\n",
      "tensor([[ 1.,  0.,  0.,  0.,  0.,  0.,  0.,  0., -1.]])\n",
      "tensor([[ 0.,  0.,  0.,  0., -1.,  0., -1.,  1.,  1.]])\n",
      "tensor([[ 0.,  0.,  1.,  0.,  0.,  0.,  0.,  0., -1.]])\n",
      "tensor([[ 1.,  0.,  0.,  0.,  1., -1.,  1., -1., -1.]])\n"
     ]
    },
    {
     "name": "stderr",
     "output_type": "stream",
     "text": [
      "  7%|██▊                                    | 725/10000 [00:29<06:12, 24.87it/s]"
     ]
    },
    {
     "name": "stdout",
     "output_type": "stream",
     "text": [
      "tensor([[ 0.,  0.,  0.,  0.,  0.,  0.,  1.,  0., -1.]])\n",
      "tensor([[ 0.,  0.,  1.,  0.,  1.,  0.,  0.,  0., -1.]])\n",
      "tensor([[ 0.,  0.,  0.,  0., -1.,  0., -1.,  1.,  1.]])\n",
      "tensor([[ 0.,  0.,  0.,  0., -1.,  1., -1.,  1.,  1.]])\n",
      "tensor([[0., 0., 0., 0., 0., 0., 0., 0., 1.]])\n",
      "tensor([[ 0.,  0.,  0.,  0., -1.,  0., -1.,  1.,  1.]])\n",
      "tensor([[0., 0., 0., 0., 0., 0., 0., 0., 1.]])\n",
      "tensor([[0., 0., 1., 0., 0., 0., 0., 0., 0.]])\n",
      "tensor([[ 0.,  0.,  0.,  0.,  0.,  0.,  1.,  0., -1.]])\n",
      "tensor([[0., 0., 0., 0., 0., 0., 0., 0., 1.]])\n",
      "tensor([[ 0.,  0.,  1.,  0.,  1.,  0.,  0.,  0., -1.]])\n",
      "tensor([[ 0.,  0.,  0.,  0., -1.,  0., -1.,  1.,  1.]])\n",
      "tensor([[ 0.,  0.,  0.,  0., -1.,  0.,  0.,  0.,  1.]])\n",
      "tensor([[ 0.,  0.,  1.,  0.,  1.,  0.,  0., -1., -1.]])\n",
      "tensor([[ 1.,  0.,  0.,  0.,  1.,  0.,  0., -1., -1.]])\n",
      "tensor([[ 0.,  0.,  0.,  0., -1.,  0., -1.,  1.,  1.]])\n",
      "tensor([[ 1.,  0.,  0.,  0.,  0.,  0.,  0.,  0., -1.]])\n",
      "tensor([[ 0.,  0.,  0.,  0., -1.,  0.,  0.,  1.,  1.]])\n",
      "tensor([[ 0.,  0.,  0.,  0., -1.,  0., -1.,  1.,  1.]])\n",
      "tensor([[0., 0., 0., 0., 0., 0., 0., 0., 1.]])\n",
      "tensor([[ 0.,  0.,  1.,  0.,  0.,  0.,  0.,  0., -1.]])\n"
     ]
    },
    {
     "name": "stderr",
     "output_type": "stream",
     "text": [
      "  7%|██▊                                    | 732/10000 [00:29<05:39, 27.32it/s]"
     ]
    },
    {
     "name": "stdout",
     "output_type": "stream",
     "text": [
      "tensor([[0., 0., 0., 0., 0., 0., 0., 0., 1.]])\n",
      "tensor([[ 0.,  0.,  1.,  0.,  0.,  0.,  0.,  0., -1.]])\n",
      "tensor([[ 0.,  0.,  0.,  0., -1.,  1., -1.,  1.,  1.]])\n",
      "tensor([[0., 0., 0., 0., 0., 0., 0., 0., 1.]])\n",
      "tensor([[ 1.,  0.,  0.,  0.,  1.,  0.,  0.,  0., -1.]])\n",
      "tensor([[ 0.,  0.,  0.,  0., -1.,  0.,  0.,  0.,  1.]])\n",
      "tensor([[0., 0., 0., 0., 0., 0., 0., 0., 1.]])\n",
      "tensor([[ 0.,  0.,  0.,  0., -1.,  0.,  0.,  0.,  1.]])\n",
      "tensor([[ 0.,  0.,  0.,  0., -1.,  0., -1.,  1.,  1.]])\n",
      "tensor([[ 0.,  0.,  0.,  0., -1.,  0.,  0.,  1.,  1.]])\n",
      "tensor([[ 0.,  0.,  1.,  0.,  1.,  0.,  0.,  0., -1.]])\n",
      "tensor([[ 0.,  0.,  0.,  0., -1.,  1., -1.,  1.,  1.]])\n",
      "tensor([[ 0.,  0.,  0.,  0.,  1.,  0.,  1.,  0., -1.]])\n",
      "tensor([[ 0.,  0.,  0.,  0.,  1.,  0.,  1.,  0., -1.]])\n",
      "tensor([[ 0.,  0.,  0.,  0., -1.,  0.,  0.,  1.,  1.]])\n",
      "tensor([[0., 0., 0., 0., 0., 0., 0., 0., 1.]])\n",
      "tensor([[ 0.,  0.,  0.,  0., -1.,  0.,  0.,  0.,  1.]])\n",
      "tensor([[ 1.,  0.,  0.,  0.,  1.,  0.,  1., -1., -1.]])\n",
      "tensor([[1., 0., 0., 0., 0., 0., 0., 0., 0.]])\n",
      "tensor([[ 0.,  0.,  0.,  0., -1.,  0.,  0.,  0.,  1.]])\n",
      "tensor([[ 0.,  0.,  0.,  0., -1.,  0., -1.,  1.,  1.]])\n",
      "tensor([[ 0.,  0.,  0.,  0., -1.,  0., -1.,  1.,  1.]])\n",
      "tensor([[ 0.,  0.,  0.,  0., -1.,  1., -1.,  1.,  1.]])\n",
      "tensor([[ 0.,  0.,  0.,  0., -1.,  0.,  0.,  0.,  1.]])\n",
      "tensor([[ 1.,  0.,  0.,  0.,  0.,  0.,  0.,  0., -1.]])\n",
      "tensor([[ 0.,  0.,  0.,  0., -1.,  0.,  0.,  1.,  1.]])\n",
      "tensor([[ 1.,  0.,  0.,  0.,  0.,  0.,  0.,  0., -1.]])\n",
      "tensor([[ 0.,  0.,  0.,  0., -1.,  0.,  0.,  1.,  1.]])\n",
      "tensor([[ 1.,  0.,  0.,  0.,  1.,  0.,  0.,  0., -1.]])\n",
      "tensor([[ 0.,  0.,  0.,  0., -1.,  0.,  0.,  0.,  1.]])\n"
     ]
    },
    {
     "name": "stderr",
     "output_type": "stream",
     "text": [
      "  7%|██▉                                    | 739/10000 [00:29<05:14, 29.46it/s]"
     ]
    },
    {
     "name": "stdout",
     "output_type": "stream",
     "text": [
      "tensor([[ 0.,  0.,  0.,  0.,  1.,  0.,  1., -1., -1.]])\n",
      "tensor([[ 1.,  0.,  0.,  0.,  1.,  0.,  0., -1., -1.]])\n",
      "tensor([[ 0.,  0.,  0.,  0., -1.,  0., -1.,  1.,  1.]])\n",
      "tensor([[ 0.,  0.,  0.,  0., -1.,  0., -1.,  1.,  1.]])\n",
      "tensor([[ 1.,  0.,  0.,  0.,  1.,  0.,  0., -1., -1.]])\n",
      "tensor([[ 0.,  0.,  0.,  0., -1.,  0., -1.,  1.,  1.]])\n",
      "tensor([[ 0.,  0.,  0.,  0., -1.,  0.,  0.,  0.,  1.]])\n",
      "tensor([[0., 0., 0., 0., 0., 0., 0., 0., 1.]])\n",
      "tensor([[ 0.,  0.,  0.,  0.,  1.,  0.,  0.,  0., -1.]])\n",
      "tensor([[ 1.,  0.,  0.,  0.,  1., -1.,  1., -1., -1.]])\n",
      "tensor([[0., 0., 1., 0., 0., 0., 0., 0., 0.]])\n",
      "tensor([[ 0.,  0.,  0.,  0.,  1.,  0.,  0., -1.,  1.]])\n",
      "tensor([[ 0.,  0.,  0.,  0., -1.,  0.,  0.,  0.,  1.]])\n",
      "tensor([[0., 0., 0., 0., 0., 0., 0., 0., 1.]])\n",
      "tensor([[ 0.,  0.,  0.,  0., -1.,  0.,  0.,  0.,  1.]])\n",
      "tensor([[ 0.,  0.,  0.,  0., -1.,  0.,  0.,  1.,  1.]])\n",
      "tensor([[ 0.,  0.,  0.,  0., -1.,  0.,  0.,  0.,  1.]])\n",
      "tensor([[ 0.,  0.,  0.,  0., -1.,  0.,  0.,  0.,  1.]])\n",
      "tensor([[ 0.,  0.,  0.,  0., -1.,  1., -1.,  1.,  1.]])\n",
      "tensor([[ 0.,  0.,  0.,  0.,  1.,  0.,  0.,  0., -1.]])\n",
      "tensor([[ 1.,  0.,  0.,  0.,  1.,  0.,  0.,  0., -1.]])\n",
      "tensor([[ 0.,  0.,  0.,  0., -1.,  1., -1.,  1.,  1.]])\n",
      "tensor([[ 0.,  0.,  0.,  0., -1.,  0.,  0.,  0.,  1.]])\n",
      "tensor([[ 0.,  0.,  0.,  0., -1.,  0., -1.,  1.,  1.]])\n",
      "tensor([[ 0.,  0.,  1.,  0.,  1.,  0.,  0.,  0., -1.]])\n",
      "tensor([[ 0.,  0.,  0.,  0., -1.,  1., -1.,  1.,  1.]])\n",
      "tensor([[ 1.,  0.,  0.,  0.,  1.,  0.,  0., -1., -1.]])\n",
      "tensor([[ 0.,  0.,  0.,  0., -1.,  0., -1.,  1.,  1.]])\n"
     ]
    },
    {
     "name": "stderr",
     "output_type": "stream",
     "text": [
      "  7%|██▉                                    | 745/10000 [00:29<05:19, 28.98it/s]"
     ]
    },
    {
     "name": "stdout",
     "output_type": "stream",
     "text": [
      "tensor([[ 0.,  0.,  0.,  0., -1.,  0., -1.,  1.,  1.]])\n",
      "tensor([[ 0.,  0.,  0.,  0., -1.,  0.,  0.,  0.,  1.]])\n",
      "tensor([[0., 0., 1., 0., 0., 0., 0., 0., 0.]])\n",
      "tensor([[ 0.,  0.,  0.,  0., -1.,  0., -1.,  1.,  1.]])\n",
      "tensor([[0., 0., 0., 0., 0., 0., 0., 0., 1.]])\n",
      "tensor([[ 0.,  0.,  0.,  0., -1.,  0.,  0.,  1.,  1.]])\n",
      "tensor([[0., 0., 0., 0., 0., 0., 0., 0., 1.]])\n",
      "tensor([[ 0.,  0.,  0.,  0., -1.,  1., -1.,  1.,  1.]])\n",
      "tensor([[0., 0., 0., 0., 0., 0., 0., 0., 1.]])\n",
      "tensor([[ 0.,  0.,  0.,  0.,  1.,  0.,  0., -1.,  1.]])\n",
      "tensor([[0., 0., 0., 0., 0., 0., 0., 0., 1.]])\n",
      "tensor([[0., 0., 0., 0., 0., 0., 0., 0., 1.]])\n",
      "tensor([[ 0.,  0.,  0.,  0., -1.,  0.,  0.,  0.,  1.]])\n",
      "tensor([[ 0.,  0.,  0.,  0.,  1.,  0., -1., -1.,  1.]])\n",
      "tensor([[ 0.,  0.,  0.,  0., -1.,  0.,  0.,  1.,  1.]])\n",
      "tensor([[ 0.,  0.,  0.,  0., -1.,  0., -1.,  1.,  1.]])\n",
      "tensor([[ 0.,  0.,  0.,  0.,  0.,  0.,  0., -1.,  1.]])\n",
      "tensor([[ 0.,  0.,  0.,  0., -1.,  0.,  0.,  0.,  1.]])\n",
      "tensor([[ 1.,  0.,  0.,  0.,  1.,  0.,  0.,  0., -1.]])\n",
      "tensor([[ 1.,  0.,  0.,  0.,  1., -1.,  1., -1., -1.]])\n",
      "tensor([[ 0.,  0.,  0.,  0., -1.,  0., -1.,  1.,  1.]])\n",
      "tensor([[ 0.,  0.,  0.,  0., -1.,  0.,  0.,  0.,  1.]])\n",
      "tensor([[ 0.,  0.,  0.,  0., -1.,  0.,  0.,  0.,  1.]])\n",
      "tensor([[ 0.,  0.,  0.,  0., -1.,  0., -1.,  1.,  1.]])\n",
      "tensor([[ 0.,  0.,  0.,  0., -1.,  0., -1.,  1.,  1.]])\n",
      "tensor([[ 0.,  0.,  0.,  0., -1.,  0., -1.,  1.,  1.]])\n",
      "tensor([[0., 0., 0., 0., 0., 0., 1., 0., 0.]])\n",
      "tensor([[ 0.,  0.,  0.,  0.,  1.,  0.,  1., -1., -1.]])\n",
      "tensor([[ 1.,  0.,  0.,  0.,  1., -1.,  1., -1., -1.]])\n",
      "tensor([[ 0.,  0.,  0.,  0.,  1.,  0.,  1., -1., -1.]])\n"
     ]
    },
    {
     "name": "stderr",
     "output_type": "stream",
     "text": [
      "\r",
      "  7%|██▉                                    | 748/10000 [00:29<05:29, 28.11it/s]"
     ]
    },
    {
     "name": "stdout",
     "output_type": "stream",
     "text": [
      "tensor([[0., 0., 0., 0., 0., 0., 0., 0., 1.]])\n",
      "tensor([[ 0.,  0.,  0.,  0., -1.,  0.,  0.,  0.,  1.]])\n",
      "tensor([[ 0.,  0.,  0.,  0., -1.,  1., -1.,  1.,  1.]])\n",
      "tensor([[0., 0., 1., 0., 0., 0., 0., 0., 0.]])\n",
      "tensor([[ 0.,  0.,  0.,  0., -1.,  0.,  0.,  0.,  1.]])\n",
      "tensor([[ 0.,  0.,  0.,  0., -1.,  0., -1.,  1.,  1.]])\n",
      "tensor([[ 1.,  0.,  0.,  0.,  1., -1.,  1., -1., -1.]])\n",
      "tensor([[ 0.,  0.,  0.,  0.,  0.,  0.,  1.,  0., -1.]])\n",
      "tensor([[ 0.,  0.,  0.,  0., -1.,  1., -1.,  1.,  1.]])\n",
      "tensor([[0., 0., 0., 0., 0., 0., 0., 0., 1.]])\n",
      "tensor([[ 0.,  0.,  0.,  0., -1.,  0.,  0.,  1.,  1.]])\n",
      "tensor([[ 0.,  0.,  0.,  0., -1.,  0.,  0.,  0.,  1.]])\n",
      "tensor([[ 1.,  0.,  0.,  0.,  1.,  0.,  0.,  0., -1.]])\n",
      "tensor([[ 0.,  0.,  0.,  0., -1.,  0.,  0.,  0.,  1.]])\n",
      "tensor([[0., 0., 0., 0., 0., 0., 0., 0., 1.]])\n",
      "tensor([[0., 0., 0., 0., 0., 0., 0., 0., 1.]])\n",
      "tensor([[ 0.,  0.,  0.,  0., -1.,  0.,  0.,  1.,  1.]])\n",
      "tensor([[ 0.,  0.,  0.,  0., -1.,  0., -1.,  1.,  1.]])\n",
      "tensor([[ 0.,  0.,  0.,  0., -1.,  1., -1.,  1.,  1.]])\n",
      "tensor([[ 1.,  0.,  0.,  0.,  1.,  0.,  0., -1., -1.]])\n",
      "tensor([[ 0.,  0.,  0.,  0., -1.,  0.,  0.,  1.,  1.]])\n",
      "tensor([[ 0.,  0.,  1.,  0.,  1.,  0.,  0.,  0., -1.]])\n",
      "tensor([[ 1.,  0.,  0.,  0.,  1., -1.,  1., -1., -1.]])\n",
      "tensor([[ 0.,  0.,  0.,  0., -1.,  0.,  0.,  1.,  1.]])\n",
      "tensor([[0., 0., 0., 0., 0., 0., 1., 0., 0.]])\n",
      "tensor([[ 0.,  0.,  1.,  0.,  0.,  0.,  0.,  0., -1.]])\n",
      "tensor([[ 1.,  0.,  0.,  0.,  1.,  0.,  0.,  0., -1.]])\n"
     ]
    },
    {
     "name": "stderr",
     "output_type": "stream",
     "text": [
      "  8%|██▉                                    | 754/10000 [00:30<05:33, 27.75it/s]"
     ]
    },
    {
     "name": "stdout",
     "output_type": "stream",
     "text": [
      "tensor([[ 0.,  0.,  0.,  0., -1.,  0.,  0.,  0.,  1.]])\n",
      "tensor([[ 0.,  0.,  0.,  0., -1.,  0.,  0.,  0.,  1.]])\n",
      "tensor([[ 0.,  0.,  0.,  0., -1.,  0., -1.,  1.,  1.]])\n",
      "tensor([[ 0.,  0.,  0.,  0., -1.,  0., -1.,  1.,  1.]])\n",
      "tensor([[0., 0., 0., 0., 0., 0., 1., 0., 0.]])\n",
      "tensor([[ 0.,  0.,  0.,  0.,  1.,  0.,  0., -1.,  1.]])\n",
      "tensor([[ 0.,  0.,  0.,  0., -1.,  0.,  0.,  0.,  1.]])\n",
      "tensor([[ 1.,  0.,  0.,  0.,  1.,  0.,  0., -1., -1.]])\n",
      "tensor([[ 0.,  0.,  1.,  0.,  1.,  0.,  0., -1., -1.]])\n",
      "tensor([[ 0.,  0.,  0.,  0.,  0.,  0.,  1.,  0., -1.]])\n",
      "tensor([[ 0.,  0.,  0.,  0., -1.,  0.,  0.,  0.,  1.]])\n",
      "tensor([[ 0.,  0.,  0.,  0., -1.,  0.,  0.,  0.,  1.]])\n",
      "tensor([[0., 0., 0., 0., 0., 0., 0., 0., 1.]])\n",
      "tensor([[0., 0., 0., 0., 0., 0., 0., 0., 1.]])\n",
      "tensor([[0., 0., 1., 0., 0., 0., 0., 0., 0.]])\n",
      "tensor([[ 0.,  0.,  1.,  0.,  1.,  0.,  0., -1., -1.]])\n",
      "tensor([[ 0.,  0.,  0.,  0.,  1.,  0.,  1., -1., -1.]])\n",
      "tensor([[ 0.,  0.,  0.,  0., -1.,  0.,  0.,  0.,  1.]])\n",
      "tensor([[0., 0., 1., 0., 0., 0., 0., 0., 0.]])\n",
      "tensor([[ 1.,  0.,  0.,  0.,  1.,  0.,  1., -1., -1.]])\n",
      "tensor([[ 0.,  0.,  0.,  0.,  1.,  0.,  1.,  0., -1.]])\n",
      "tensor([[0., 0., 0., 0., 0., 0., 0., 0., 1.]])\n",
      "tensor([[ 0.,  0.,  0.,  0., -1.,  1., -1.,  1.,  1.]])\n",
      "tensor([[ 0.,  0.,  0.,  0., -1.,  1., -1.,  1.,  1.]])\n",
      "tensor([[0., 0., 0., 0., 0., 0., 0., 0., 1.]])\n",
      "tensor([[ 1.,  0.,  0.,  0.,  1.,  0.,  0., -1., -1.]])\n",
      "tensor([[ 0.,  0.,  0.,  0., -1.,  0.,  0.,  1.,  1.]])\n",
      "tensor([[ 1.,  0.,  0.,  0.,  1.,  0.,  0.,  0., -1.]])\n",
      "tensor([[ 0.,  0.,  1.,  0.,  1.,  0.,  0., -1., -1.]])\n",
      "tensor([[ 0.,  0.,  0.,  0., -1.,  0.,  0.,  0.,  1.]])\n",
      "tensor([[ 1.,  0.,  0.,  0.,  1., -1.,  1., -1., -1.]])\n"
     ]
    },
    {
     "name": "stderr",
     "output_type": "stream",
     "text": [
      "  8%|██▉                                    | 761/10000 [00:30<05:24, 28.45it/s]"
     ]
    },
    {
     "name": "stdout",
     "output_type": "stream",
     "text": [
      "tensor([[ 1.,  0.,  0.,  0.,  1.,  0.,  0., -1., -1.]])\n",
      "tensor([[ 0.,  0.,  0.,  0., -1.,  1., -1.,  1.,  1.]])\n",
      "tensor([[ 0.,  0.,  0.,  0., -1.,  0.,  0.,  1.,  1.]])\n",
      "tensor([[ 0.,  0.,  0.,  0.,  0.,  0.,  1.,  0., -1.]])\n",
      "tensor([[ 0.,  0.,  0.,  0., -1.,  1., -1.,  1.,  1.]])\n",
      "tensor([[ 0.,  0.,  1.,  0.,  0.,  0.,  0.,  0., -1.]])\n",
      "tensor([[ 0.,  0.,  0.,  0., -1.,  0.,  0.,  0.,  1.]])\n",
      "tensor([[ 0.,  0.,  0.,  0.,  1.,  0.,  1., -1., -1.]])\n",
      "tensor([[ 1.,  0.,  0.,  0.,  1.,  0.,  0.,  0., -1.]])\n",
      "tensor([[ 0.,  0.,  0.,  0.,  1.,  0.,  0., -1.,  1.]])\n",
      "tensor([[ 0.,  0.,  0.,  0., -1.,  1., -1.,  1.,  1.]])\n",
      "tensor([[ 1.,  0.,  0.,  0.,  1.,  0.,  0.,  0., -1.]])\n",
      "tensor([[ 0.,  0.,  0.,  0.,  0.,  0.,  1.,  0., -1.]])\n",
      "tensor([[ 0.,  0.,  0.,  0., -1.,  0.,  0.,  1.,  1.]])\n",
      "tensor([[ 0.,  0.,  0.,  0., -1.,  1., -1.,  1.,  1.]])\n",
      "tensor([[ 0.,  0.,  0.,  0., -1.,  0., -1.,  1.,  1.]])\n",
      "tensor([[ 0.,  0.,  1.,  0.,  1.,  0.,  0.,  0., -1.]])\n",
      "tensor([[ 0.,  0.,  1.,  0.,  1.,  0.,  0., -1., -1.]])\n",
      "tensor([[0., 0., 0., 0., 0., 0., 0., 0., 1.]])\n",
      "tensor([[ 0.,  0.,  0.,  0.,  1.,  0.,  0.,  0., -1.]])\n",
      "tensor([[ 0.,  0.,  0.,  0.,  1.,  0.,  0., -1.,  1.]])\n",
      "tensor([[1., 0., 0., 0., 0., 0., 0., 0., 0.]])\n",
      "tensor([[ 0.,  0.,  0.,  0., -1.,  1., -1.,  1.,  1.]])\n",
      "tensor([[ 1.,  0.,  0.,  0.,  1.,  0.,  0.,  0., -1.]])\n",
      "tensor([[ 1.,  0.,  0.,  0.,  1.,  0.,  0., -1., -1.]])\n",
      "tensor([[ 0.,  0.,  0.,  0., -1.,  0.,  0.,  0.,  1.]])\n",
      "tensor([[ 0.,  0.,  1.,  0.,  0.,  0.,  0.,  0., -1.]])\n",
      "tensor([[ 0.,  0.,  0.,  0., -1.,  0.,  0.,  1.,  1.]])\n",
      "tensor([[ 0.,  0.,  0.,  0., -1.,  0., -1.,  1.,  1.]])\n",
      "tensor([[0., 0., 0., 0., 0., 0., 0., 0., 1.]])\n"
     ]
    },
    {
     "name": "stderr",
     "output_type": "stream",
     "text": [
      "  8%|██▉                                    | 767/10000 [00:30<05:41, 27.04it/s]"
     ]
    },
    {
     "name": "stdout",
     "output_type": "stream",
     "text": [
      "tensor([[ 1.,  0.,  0.,  0.,  1.,  0.,  0.,  0., -1.]])\n",
      "tensor([[ 0.,  0.,  0.,  0., -1.,  1., -1.,  1.,  1.]])\n",
      "tensor([[ 0.,  0.,  0.,  0., -1.,  1., -1.,  1.,  1.]])\n",
      "tensor([[ 0.,  0.,  0.,  0.,  1.,  0.,  0., -1.,  1.]])\n",
      "tensor([[ 0.,  0.,  0.,  0., -1.,  0., -1.,  1.,  1.]])\n",
      "tensor([[ 0.,  0.,  0.,  0., -1.,  0.,  0.,  0.,  1.]])\n",
      "tensor([[ 0.,  0.,  0.,  0., -1.,  0., -1.,  1.,  1.]])\n",
      "tensor([[ 0.,  0.,  0.,  0., -1.,  0., -1.,  1.,  1.]])\n",
      "tensor([[ 0.,  0.,  0.,  0.,  1.,  0.,  1.,  0., -1.]])\n",
      "tensor([[ 0.,  0.,  0.,  0.,  1.,  0.,  0., -1.,  1.]])\n",
      "tensor([[0., 0., 0., 0., 0., 0., 0., 0., 1.]])\n",
      "tensor([[ 1.,  0.,  0.,  0.,  1.,  0.,  1., -1., -1.]])\n",
      "tensor([[ 0.,  0.,  0.,  0., -1.,  0., -1.,  1.,  1.]])\n",
      "tensor([[ 0.,  0.,  1.,  0.,  1.,  0.,  0.,  0., -1.]])\n",
      "tensor([[ 0.,  0.,  0.,  0., -1.,  1., -1.,  1.,  1.]])\n",
      "tensor([[ 0.,  0.,  0.,  0.,  1.,  0.,  0., -1.,  1.]])\n",
      "tensor([[ 0.,  0.,  0.,  0., -1.,  0., -1.,  1.,  1.]])\n",
      "tensor([[ 0.,  0.,  0.,  0., -1.,  0.,  0.,  1.,  1.]])\n",
      "tensor([[0., 0., 0., 0., 0., 0., 0., 0., 1.]])\n",
      "tensor([[ 0.,  0.,  0.,  0., -1.,  1., -1.,  1.,  1.]])\n",
      "tensor([[ 0.,  0.,  0.,  0., -1.,  0.,  0.,  0.,  1.]])\n",
      "tensor([[ 1.,  0.,  0.,  0.,  1.,  0.,  0.,  0., -1.]])\n",
      "tensor([[ 0.,  0.,  0.,  0., -1.,  0., -1.,  1.,  1.]])\n",
      "tensor([[ 0.,  0.,  0.,  0.,  0.,  0.,  1.,  0., -1.]])\n"
     ]
    },
    {
     "name": "stderr",
     "output_type": "stream",
     "text": [
      "  8%|███                                    | 773/10000 [00:30<05:35, 27.46it/s]"
     ]
    },
    {
     "name": "stdout",
     "output_type": "stream",
     "text": [
      "tensor([[ 0.,  0.,  0.,  0., -1.,  1., -1.,  1.,  1.]])\n",
      "tensor([[ 1.,  0.,  0.,  0.,  1.,  0.,  1., -1., -1.]])\n",
      "tensor([[ 0.,  0.,  0.,  0.,  0.,  0.,  0., -1.,  1.]])\n",
      "tensor([[ 0.,  0.,  0.,  0., -1.,  0., -1.,  1.,  1.]])\n",
      "tensor([[ 0.,  0.,  1.,  0.,  0.,  0.,  0.,  0., -1.]])\n",
      "tensor([[ 0.,  0.,  0.,  0., -1.,  0.,  0.,  1.,  1.]])\n",
      "tensor([[ 1.,  0.,  0.,  0.,  1., -1.,  1., -1., -1.]])\n",
      "tensor([[0., 0., 0., 0., 0., 0., 0., 0., 1.]])\n",
      "tensor([[ 1.,  0.,  0.,  0.,  1., -1.,  1., -1., -1.]])\n",
      "tensor([[ 0.,  0.,  0.,  0., -1.,  0.,  0.,  1.,  1.]])\n",
      "tensor([[0., 0., 0., 0., 0., 0., 0., 0., 1.]])\n",
      "tensor([[ 0.,  0.,  0.,  0., -1.,  1., -1.,  1.,  1.]])\n",
      "tensor([[ 0.,  0.,  0.,  0., -1.,  0.,  0.,  1.,  1.]])\n",
      "tensor([[ 0.,  0.,  0.,  0., -1.,  0.,  0.,  0.,  1.]])\n",
      "tensor([[ 0.,  0.,  0.,  0., -1.,  0.,  0.,  0.,  1.]])\n",
      "tensor([[0., 0., 0., 0., 0., 0., 0., 0., 1.]])\n",
      "tensor([[ 0.,  0.,  0.,  0., -1.,  0.,  0.,  1.,  1.]])\n",
      "tensor([[ 0.,  0.,  0.,  0.,  1.,  0.,  0., -1.,  1.]])\n",
      "tensor([[0., 0., 0., 0., 0., 0., 0., 0., 1.]])\n",
      "tensor([[ 0.,  0.,  0.,  0., -1.,  0., -1.,  1.,  1.]])\n",
      "tensor([[ 0.,  0.,  1.,  0.,  0.,  0.,  0.,  0., -1.]])\n",
      "tensor([[ 0.,  0.,  0.,  0.,  1.,  0., -1., -1.,  1.]])\n",
      "tensor([[0., 0., 0., 0., 0., 0., 0., 0., 1.]])\n",
      "tensor([[ 0.,  0.,  0.,  0., -1.,  0.,  0.,  0.,  1.]])\n",
      "tensor([[ 0.,  0.,  0.,  0., -1.,  0.,  0.,  1.,  1.]])\n",
      "tensor([[ 1.,  0.,  0.,  0.,  1.,  0.,  0., -1., -1.]])\n",
      "tensor([[ 0.,  0.,  0.,  0., -1.,  1., -1.,  1.,  1.]])\n",
      "tensor([[ 1.,  0.,  0.,  0.,  1., -1.,  1., -1., -1.]])\n"
     ]
    },
    {
     "name": "stderr",
     "output_type": "stream",
     "text": [
      "  8%|███                                    | 779/10000 [00:30<05:47, 26.57it/s]"
     ]
    },
    {
     "name": "stdout",
     "output_type": "stream",
     "text": [
      "tensor([[0., 0., 0., 0., 0., 0., 1., 0., 0.]])\n",
      "tensor([[ 1.,  0.,  0.,  0.,  1., -1.,  1., -1., -1.]])\n",
      "tensor([[ 0.,  0.,  0.,  0.,  0.,  0.,  0., -1.,  1.]])\n",
      "tensor([[0., 0., 0., 0., 1., 0., 0., 0., 0.]])\n",
      "tensor([[ 1.,  0.,  0.,  0.,  1.,  0.,  0.,  0., -1.]])\n",
      "tensor([[ 0.,  0.,  0.,  0., -1.,  0., -1.,  1.,  1.]])\n",
      "tensor([[ 0.,  0.,  0.,  0., -1.,  0.,  0.,  0.,  1.]])\n",
      "tensor([[ 0.,  0.,  0.,  0., -1.,  0., -1.,  1.,  1.]])\n",
      "tensor([[ 0.,  0.,  0.,  0., -1.,  0.,  0.,  0.,  1.]])\n",
      "tensor([[ 0.,  0.,  0.,  0.,  1.,  0.,  0., -1.,  1.]])\n",
      "tensor([[ 0.,  0.,  0.,  0., -1.,  0.,  0.,  1.,  1.]])\n",
      "tensor([[ 0.,  0.,  0.,  0., -1.,  0.,  0.,  0.,  1.]])\n",
      "tensor([[ 0.,  0.,  0.,  0.,  1.,  0.,  1., -1., -1.]])\n",
      "tensor([[ 0.,  0.,  0.,  0., -1.,  1., -1.,  1.,  1.]])\n",
      "tensor([[0., 0., 0., 0., 0., 0., 0., 0., 1.]])\n",
      "tensor([[ 0.,  0.,  0.,  0., -1.,  0.,  0.,  0.,  1.]])\n",
      "tensor([[ 0.,  0.,  0.,  0.,  1.,  0.,  0., -1.,  1.]])\n",
      "tensor([[ 0.,  0.,  0.,  0., -1.,  1., -1.,  1.,  1.]])\n",
      "tensor([[ 0.,  0.,  0.,  0., -1.,  0.,  0.,  1.,  1.]])\n",
      "tensor([[ 0.,  0.,  0.,  0., -1.,  0.,  0.,  0.,  1.]])\n",
      "tensor([[ 0.,  0.,  0.,  0.,  1.,  0.,  0., -1.,  1.]])\n",
      "tensor([[0., 0., 0., 0., 1., 0., 0., 0., 0.]])\n",
      "tensor([[ 0.,  0.,  0.,  0., -1.,  0., -1.,  1.,  1.]])\n",
      "tensor([[1., 0., 0., 0., 0., 0., 0., 0., 0.]])\n",
      "tensor([[ 0.,  0.,  0.,  0., -1.,  1., -1.,  1.,  1.]])\n",
      "tensor([[ 0.,  0.,  1.,  0.,  1.,  0.,  0., -1., -1.]])\n",
      "tensor([[ 0.,  0.,  0.,  0., -1.,  1., -1.,  1.,  1.]])\n",
      "tensor([[0., 0., 0., 0., 0., 0., 0., 0., 1.]])\n",
      "tensor([[ 0.,  0.,  0.,  0.,  1.,  0.,  0., -1.,  1.]])\n"
     ]
    },
    {
     "name": "stderr",
     "output_type": "stream",
     "text": [
      "\r",
      "  8%|███                                    | 783/10000 [00:31<05:30, 27.88it/s]"
     ]
    },
    {
     "name": "stdout",
     "output_type": "stream",
     "text": [
      "tensor([[ 0.,  0.,  0.,  0., -1.,  0.,  0.,  1.,  1.]])\n",
      "tensor([[0., 0., 0., 0., 0., 0., 0., 0., 1.]])\n",
      "tensor([[1., 0., 0., 0., 0., 0., 0., 0., 0.]])\n",
      "tensor([[ 0.,  0.,  1.,  0.,  1.,  0.,  0., -1., -1.]])\n",
      "tensor([[ 0.,  0.,  0.,  0., -1.,  1., -1.,  1.,  1.]])\n",
      "tensor([[ 1.,  0.,  0.,  0.,  1.,  0.,  0.,  0., -1.]])\n",
      "tensor([[ 0.,  0.,  0.,  0., -1.,  1., -1.,  1.,  1.]])\n",
      "tensor([[ 1.,  0.,  0.,  0.,  1.,  0.,  1., -1., -1.]])\n",
      "tensor([[ 1.,  0.,  0.,  0.,  1.,  0.,  0.,  0., -1.]])\n",
      "tensor([[0., 0., 0., 0., 0., 0., 0., 0., 1.]])\n",
      "tensor([[ 1.,  0.,  0.,  0.,  0.,  0.,  0.,  0., -1.]])\n",
      "tensor([[ 0.,  0.,  0.,  0., -1.,  1., -1.,  1.,  1.]])\n",
      "tensor([[ 0.,  0.,  0.,  0.,  1.,  0.,  0., -1.,  1.]])\n",
      "tensor([[ 0.,  0.,  0.,  0., -1.,  1., -1.,  1.,  1.]])\n",
      "tensor([[ 1.,  0.,  0.,  0.,  1.,  0.,  0., -1., -1.]])\n",
      "tensor([[ 0.,  0.,  0.,  0.,  0.,  0.,  1.,  0., -1.]])\n",
      "tensor([[ 0.,  0.,  0.,  0.,  0.,  0.,  0., -1.,  1.]])\n",
      "tensor([[ 0.,  0.,  0.,  0., -1.,  0., -1.,  1.,  1.]])\n",
      "tensor([[ 0.,  0.,  0.,  0., -1.,  0.,  0.,  0.,  1.]])\n",
      "tensor([[0., 0., 0., 0., 0., 0., 1., 0., 0.]])\n",
      "tensor([[ 1.,  0.,  0.,  0.,  1.,  0.,  0., -1., -1.]])\n",
      "tensor([[ 0.,  0.,  0.,  0., -1.,  0., -1.,  1.,  1.]])\n",
      "tensor([[ 0.,  0.,  0.,  0., -1.,  1., -1.,  1.,  1.]])\n",
      "tensor([[1., 0., 0., 0., 0., 0., 0., 0., 0.]])\n",
      "tensor([[ 1.,  0.,  0.,  0.,  1.,  0.,  0., -1., -1.]])\n",
      "tensor([[ 0.,  0.,  0.,  0., -1.,  0.,  0.,  0.,  1.]])\n",
      "tensor([[ 0.,  0.,  0.,  0., -1.,  0., -1.,  1.,  1.]])\n",
      "tensor([[ 0.,  0.,  0.,  0., -1.,  0.,  0.,  1.,  1.]])\n"
     ]
    },
    {
     "name": "stderr",
     "output_type": "stream",
     "text": [
      "  8%|███                                    | 791/10000 [00:31<05:12, 29.46it/s]"
     ]
    },
    {
     "name": "stdout",
     "output_type": "stream",
     "text": [
      "tensor([[ 1.,  0.,  0.,  0.,  1., -1.,  1., -1., -1.]])\n",
      "tensor([[ 0.,  0.,  0.,  0., -1.,  0.,  0.,  1.,  1.]])\n",
      "tensor([[ 0.,  0.,  1.,  0.,  1.,  0.,  0., -1., -1.]])\n",
      "tensor([[ 0.,  0.,  0.,  0., -1.,  0., -1.,  1.,  1.]])\n",
      "tensor([[ 1.,  0.,  0.,  0.,  1.,  0.,  0., -1., -1.]])\n",
      "tensor([[ 0.,  0.,  0.,  0.,  0.,  0.,  0., -1.,  1.]])\n",
      "tensor([[1., 0., 0., 0., 0., 0., 0., 0., 0.]])\n",
      "tensor([[ 1.,  0.,  0.,  0.,  1.,  0.,  0.,  0., -1.]])\n",
      "tensor([[ 0.,  0.,  0.,  0., -1.,  0.,  0.,  0.,  1.]])\n",
      "tensor([[ 0.,  0.,  0.,  0.,  1.,  0.,  0.,  0., -1.]])\n",
      "tensor([[ 0.,  0.,  0.,  0., -1.,  0.,  0.,  1.,  1.]])\n",
      "tensor([[ 0.,  0.,  0.,  0., -1.,  0.,  0.,  0.,  1.]])\n",
      "tensor([[ 1.,  0.,  0.,  0.,  0.,  0.,  0.,  0., -1.]])\n",
      "tensor([[0., 0., 0., 0., 0., 0., 0., 0., 1.]])\n",
      "tensor([[ 0.,  0.,  0.,  0., -1.,  1., -1.,  1.,  1.]])\n",
      "tensor([[ 0.,  0.,  0.,  0., -1.,  0.,  0.,  0.,  1.]])\n",
      "tensor([[ 0.,  0.,  0.,  0., -1.,  1., -1.,  1.,  1.]])\n",
      "tensor([[ 0.,  0.,  0.,  0., -1.,  0.,  0.,  0.,  1.]])\n",
      "tensor([[1., 0., 0., 0., 0., 0., 0., 0., 0.]])\n",
      "tensor([[0., 0., 0., 0., 0., 0., 1., 0., 0.]])\n",
      "tensor([[ 1.,  0.,  0.,  0.,  1., -1.,  1., -1., -1.]])\n",
      "tensor([[0., 0., 0., 0., 0., 0., 0., 0., 1.]])\n",
      "tensor([[0., 0., 0., 0., 0., 0., 0., 0., 1.]])\n",
      "tensor([[ 0.,  0.,  0.,  0.,  0.,  0.,  1.,  0., -1.]])\n",
      "tensor([[ 0.,  0.,  0.,  0., -1.,  0.,  0.,  1.,  1.]])\n",
      "tensor([[ 0.,  0.,  0.,  0., -1.,  0.,  0.,  1.,  1.]])\n",
      "tensor([[ 0.,  0.,  0.,  0., -1.,  0.,  0.,  0.,  1.]])\n",
      "tensor([[ 0.,  0.,  0.,  0., -1.,  0.,  0.,  1.,  1.]])\n",
      "tensor([[ 0.,  0.,  0.,  0.,  0.,  0.,  0., -1.,  1.]])\n",
      "tensor([[ 0.,  0.,  0.,  0., -1.,  0.,  0.,  0.,  1.]])\n",
      "tensor([[ 0.,  0.,  0.,  0.,  1.,  0.,  1.,  0., -1.]])\n",
      "tensor([[ 0.,  0.,  0.,  0., -1.,  0., -1.,  1.,  1.]])\n"
     ]
    },
    {
     "name": "stderr",
     "output_type": "stream",
     "text": [
      "\r",
      "  8%|███                                    | 794/10000 [00:31<05:21, 28.64it/s]"
     ]
    },
    {
     "name": "stdout",
     "output_type": "stream",
     "text": [
      "tensor([[ 0.,  0.,  0.,  0., -1.,  1., -1.,  1.,  1.]])\n",
      "tensor([[ 1.,  0.,  0.,  0.,  1., -1.,  1., -1., -1.]])\n",
      "tensor([[ 1.,  0.,  0.,  0.,  1.,  0.,  0.,  0., -1.]])\n",
      "tensor([[ 0.,  0.,  0.,  0., -1.,  0.,  0.,  0.,  1.]])\n",
      "tensor([[ 0.,  0.,  0.,  0., -1.,  1., -1.,  1.,  1.]])\n",
      "tensor([[ 1.,  0.,  0.,  0.,  1., -1.,  1., -1., -1.]])\n",
      "tensor([[ 1.,  0.,  0.,  0.,  1.,  0.,  1., -1., -1.]])\n",
      "tensor([[ 0.,  0.,  0.,  0.,  1.,  0.,  0., -1.,  1.]])\n",
      "tensor([[ 0.,  0.,  0.,  0., -1.,  0.,  0.,  0.,  1.]])\n",
      "tensor([[ 0.,  0.,  0.,  0., -1.,  0., -1.,  1.,  1.]])\n",
      "tensor([[ 0.,  0.,  0.,  0.,  1.,  0., -1., -1.,  1.]])\n",
      "tensor([[ 0.,  0.,  0.,  0.,  0.,  0.,  1.,  0., -1.]])\n",
      "tensor([[ 0.,  0.,  0.,  0., -1.,  0., -1.,  1.,  1.]])\n",
      "tensor([[0., 0., 0., 0., 0., 0., 0., 0., 1.]])\n",
      "tensor([[ 0.,  0.,  0.,  0., -1.,  1., -1.,  1.,  1.]])\n",
      "tensor([[0., 0., 0., 0., 0., 0., 0., 0., 1.]])\n",
      "tensor([[ 0.,  0.,  0.,  0., -1.,  1., -1.,  1.,  1.]])\n",
      "tensor([[ 0.,  0.,  0.,  0.,  1.,  0.,  0.,  0., -1.]])\n",
      "tensor([[ 0.,  0.,  0.,  0., -1.,  0.,  0.,  1.,  1.]])\n",
      "tensor([[0., 0., 0., 0., 0., 0., 0., 0., 1.]])\n",
      "tensor([[ 0.,  0.,  0.,  0.,  1.,  0.,  0., -1.,  1.]])\n",
      "tensor([[0., 0., 0., 0., 0., 0., 0., 0., 1.]])\n",
      "tensor([[ 0.,  0.,  0.,  0., -1.,  0.,  0.,  1.,  1.]])\n",
      "tensor([[ 0.,  0.,  0.,  0., -1.,  0.,  0.,  1.,  1.]])\n",
      "tensor([[ 0.,  0.,  0.,  0.,  1.,  0.,  1., -1., -1.]])\n",
      "tensor([[ 0.,  0.,  0.,  0.,  1.,  0.,  0.,  0., -1.]])\n",
      "tensor([[ 0.,  0.,  1.,  0.,  0.,  0.,  0.,  0., -1.]])\n",
      "tensor([[0., 0., 1., 0., 0., 0., 0., 0., 0.]])\n",
      "tensor([[ 0.,  0.,  1.,  0.,  1.,  0.,  0., -1., -1.]])\n"
     ]
    },
    {
     "name": "stderr",
     "output_type": "stream",
     "text": [
      "  8%|███                                    | 801/10000 [00:31<05:14, 29.24it/s]"
     ]
    },
    {
     "name": "stdout",
     "output_type": "stream",
     "text": [
      "tensor([[ 0.,  0.,  0.,  0.,  1.,  0.,  0., -1.,  1.]])\n",
      "tensor([[ 0.,  0.,  0.,  0.,  0.,  0.,  1.,  0., -1.]])\n",
      "tensor([[ 0.,  0.,  0.,  0., -1.,  0.,  0.,  0.,  1.]])\n",
      "tensor([[ 0.,  0.,  0.,  0., -1.,  0., -1.,  1.,  1.]])\n",
      "tensor([[ 0.,  0.,  0.,  0.,  1.,  0.,  1., -1., -1.]])\n",
      "tensor([[ 1.,  0.,  0.,  0.,  1.,  0.,  1., -1., -1.]])\n",
      "tensor([[ 0.,  0.,  0.,  0.,  1.,  0.,  1.,  0., -1.]])\n",
      "tensor([[ 0.,  0.,  0.,  0., -1.,  0.,  0.,  0.,  1.]])\n",
      "tensor([[0., 0., 0., 0., 0., 0., 0., 0., 1.]])\n",
      "tensor([[ 0.,  0.,  0.,  0., -1.,  0.,  0.,  1.,  1.]])\n",
      "tensor([[0., 0., 0., 0., 0., 0., 1., 0., 0.]])\n",
      "tensor([[ 1.,  0.,  0.,  0.,  1.,  0.,  0.,  0., -1.]])\n",
      "tensor([[ 1.,  0.,  0.,  0.,  1.,  0.,  0.,  0., -1.]])\n",
      "tensor([[ 1.,  0.,  0.,  0.,  1.,  0.,  0., -1., -1.]])\n",
      "tensor([[ 0.,  0.,  0.,  0., -1.,  1., -1.,  1.,  1.]])\n",
      "tensor([[ 1.,  0.,  0.,  0.,  1.,  0.,  0.,  0., -1.]])\n",
      "tensor([[ 0.,  0.,  1.,  0.,  1.,  0.,  0., -1., -1.]])\n",
      "tensor([[ 0.,  0.,  0.,  0.,  1.,  0.,  0., -1.,  1.]])\n",
      "tensor([[ 0.,  0.,  0.,  0.,  0.,  0.,  0., -1.,  1.]])\n",
      "tensor([[ 0.,  0.,  0.,  0.,  1.,  0.,  1.,  0., -1.]])\n",
      "tensor([[ 0.,  0.,  0.,  0.,  1.,  0.,  0.,  0., -1.]])\n",
      "tensor([[ 1.,  0.,  0.,  0.,  1.,  0.,  1., -1., -1.]])\n",
      "tensor([[ 0.,  0.,  0.,  0., -1.,  1., -1.,  1.,  1.]])\n",
      "tensor([[ 0.,  0.,  0.,  0., -1.,  1., -1.,  1.,  1.]])\n",
      "tensor([[0., 0., 0., 0., 0., 0., 0., 0., 1.]])\n",
      "tensor([[ 1.,  0.,  0.,  0.,  1.,  0.,  1., -1., -1.]])\n",
      "tensor([[1., 0., 0., 0., 0., 0., 0., 0., 0.]])\n",
      "tensor([[ 0.,  0.,  0.,  0., -1.,  0.,  0.,  1.,  1.]])\n",
      "tensor([[ 0.,  0.,  0.,  0.,  1.,  0., -1., -1.,  1.]])\n",
      "tensor([[ 0.,  0.,  0.,  0., -1.,  0., -1.,  1.,  1.]])\n",
      "tensor([[ 0.,  0.,  0.,  0., -1.,  0.,  0.,  1.,  1.]])\n"
     ]
    },
    {
     "name": "stderr",
     "output_type": "stream",
     "text": [
      "  8%|███▏                                   | 809/10000 [00:31<05:02, 30.42it/s]"
     ]
    },
    {
     "name": "stdout",
     "output_type": "stream",
     "text": [
      "tensor([[ 1.,  0.,  0.,  0.,  1.,  0.,  0.,  0., -1.]])\n",
      "tensor([[ 0.,  0.,  0.,  0., -1.,  0.,  0.,  1.,  1.]])\n",
      "tensor([[0., 0., 0., 0., 0., 0., 0., 0., 1.]])\n",
      "tensor([[ 0.,  0.,  0.,  0., -1.,  1., -1.,  1.,  1.]])\n",
      "tensor([[ 0.,  0.,  0.,  0., -1.,  0.,  0.,  0.,  1.]])\n",
      "tensor([[ 0.,  0.,  0.,  0., -1.,  0.,  0.,  0.,  1.]])\n",
      "tensor([[ 0.,  0.,  0.,  0., -1.,  0.,  0.,  0.,  1.]])\n",
      "tensor([[ 0.,  0.,  0.,  0., -1.,  0., -1.,  1.,  1.]])\n",
      "tensor([[ 0.,  0.,  0.,  0., -1.,  0., -1.,  1.,  1.]])\n",
      "tensor([[0., 0., 0., 0., 0., 0., 0., 0., 1.]])\n",
      "tensor([[ 0.,  0.,  0.,  0.,  1.,  0.,  1.,  0., -1.]])\n",
      "tensor([[ 1.,  0.,  0.,  0.,  0.,  0.,  0.,  0., -1.]])\n",
      "tensor([[ 0.,  0.,  0.,  0., -1.,  0.,  0.,  0.,  1.]])\n",
      "tensor([[ 0.,  0.,  0.,  0.,  1.,  0.,  0., -1.,  1.]])\n",
      "tensor([[ 0.,  0.,  0.,  0., -1.,  0., -1.,  1.,  1.]])\n",
      "tensor([[ 0.,  0.,  0.,  0.,  1.,  0., -1., -1.,  1.]])\n",
      "tensor([[ 0.,  0.,  0.,  0., -1.,  0., -1.,  1.,  1.]])\n",
      "tensor([[ 0.,  0.,  0.,  0.,  1.,  0.,  1., -1., -1.]])\n",
      "tensor([[ 0.,  0.,  0.,  0.,  1.,  0.,  1., -1., -1.]])\n",
      "tensor([[1., 0., 0., 0., 0., 0., 0., 0., 0.]])\n",
      "tensor([[0., 0., 0., 0., 0., 0., 0., 0., 1.]])\n",
      "tensor([[ 0.,  0.,  0.,  0., -1.,  0.,  0.,  1.,  1.]])\n",
      "tensor([[ 0.,  0.,  1.,  0.,  1.,  0.,  0., -1., -1.]])\n",
      "tensor([[ 0.,  0.,  1.,  0.,  0.,  0.,  0.,  0., -1.]])\n",
      "tensor([[ 0.,  0.,  0.,  0., -1.,  0., -1.,  1.,  1.]])\n",
      "tensor([[0., 0., 0., 0., 1., 0., 0., 0., 0.]])\n",
      "tensor([[ 0.,  0.,  0.,  0., -1.,  0.,  0.,  0.,  1.]])\n",
      "tensor([[0., 0., 0., 0., 1., 0., 0., 0., 0.]])\n",
      "tensor([[ 0.,  0.,  0.,  0., -1.,  0., -1.,  1.,  1.]])\n",
      "tensor([[0., 0., 0., 0., 0., 0., 0., 0., 1.]])\n",
      "tensor([[ 1.,  0.,  0.,  0.,  1., -1.,  1., -1., -1.]])\n",
      "tensor([[ 0.,  0.,  1.,  0.,  1.,  0.,  0., -1., -1.]])\n"
     ]
    },
    {
     "name": "stderr",
     "output_type": "stream",
     "text": [
      "  8%|███▏                                   | 816/10000 [00:32<05:19, 28.75it/s]"
     ]
    },
    {
     "name": "stdout",
     "output_type": "stream",
     "text": [
      "tensor([[0., 0., 0., 0., 0., 0., 0., 0., 1.]])\n",
      "tensor([[ 0.,  0.,  0.,  0., -1.,  0., -1.,  1.,  1.]])\n",
      "tensor([[ 0.,  0.,  0.,  0.,  1.,  0.,  1., -1., -1.]])\n",
      "tensor([[ 0.,  0.,  0.,  0.,  0.,  0.,  1.,  0., -1.]])\n",
      "tensor([[ 0.,  0.,  0.,  0.,  1.,  0., -1., -1.,  1.]])\n",
      "tensor([[ 0.,  0.,  0.,  0., -1.,  1., -1.,  1.,  1.]])\n",
      "tensor([[ 1.,  0.,  0.,  0.,  1.,  0.,  0.,  0., -1.]])\n",
      "tensor([[ 0.,  0.,  1.,  0.,  1.,  0.,  0., -1., -1.]])\n",
      "tensor([[ 1.,  0.,  0.,  0.,  1.,  0.,  0., -1., -1.]])\n",
      "tensor([[ 0.,  0.,  0.,  0.,  0.,  0.,  0., -1.,  1.]])\n",
      "tensor([[ 1.,  0.,  0.,  0.,  1.,  0.,  1., -1., -1.]])\n",
      "tensor([[0., 0., 0., 0., 0., 0., 0., 0., 1.]])\n",
      "tensor([[0., 0., 0., 0., 0., 0., 1., 0., 0.]])\n",
      "tensor([[ 1.,  0.,  0.,  0.,  1., -1.,  1., -1., -1.]])\n",
      "tensor([[ 0.,  0.,  0.,  0.,  1.,  0.,  1.,  0., -1.]])\n",
      "tensor([[ 1.,  0.,  0.,  0.,  1.,  0.,  0.,  0., -1.]])\n",
      "tensor([[ 0.,  0.,  0.,  0., -1.,  0.,  0.,  1.,  1.]])\n",
      "tensor([[0., 0., 0., 0., 0., 0., 0., 0., 1.]])\n",
      "tensor([[ 0.,  0.,  0.,  0., -1.,  1., -1.,  1.,  1.]])\n",
      "tensor([[0., 0., 0., 0., 0., 0., 0., 0., 1.]])\n",
      "tensor([[ 0.,  0.,  0.,  0., -1.,  0., -1.,  1.,  1.]])\n"
     ]
    },
    {
     "name": "stderr",
     "output_type": "stream",
     "text": [
      "\r",
      "  8%|███▏                                   | 819/10000 [00:32<05:44, 26.62it/s]"
     ]
    },
    {
     "name": "stdout",
     "output_type": "stream",
     "text": [
      "tensor([[ 1.,  0.,  0.,  0.,  0.,  0.,  0.,  0., -1.]])\n",
      "tensor([[ 1.,  0.,  0.,  0.,  1.,  0.,  1., -1., -1.]])\n",
      "tensor([[ 1.,  0.,  0.,  0.,  1.,  0.,  0., -1., -1.]])\n",
      "tensor([[ 0.,  0.,  0.,  0., -1.,  0.,  0.,  0.,  1.]])\n",
      "tensor([[ 0.,  0.,  0.,  0., -1.,  0., -1.,  1.,  1.]])\n",
      "tensor([[ 0.,  0.,  0.,  0., -1.,  0., -1.,  1.,  1.]])\n",
      "tensor([[ 0.,  0.,  0.,  0., -1.,  0.,  0.,  1.,  1.]])\n",
      "tensor([[ 0.,  0.,  0.,  0.,  1.,  0.,  0., -1.,  1.]])\n",
      "tensor([[ 0.,  0.,  0.,  0., -1.,  1., -1.,  1.,  1.]])\n",
      "tensor([[1., 0., 0., 0., 0., 0., 0., 0., 0.]])\n",
      "tensor([[0., 0., 0., 0., 0., 0., 0., 0., 1.]])\n",
      "tensor([[0., 0., 0., 0., 0., 0., 0., 0., 1.]])\n",
      "tensor([[0., 0., 0., 0., 1., 0., 0., 0., 0.]])\n",
      "tensor([[0., 0., 0., 0., 0., 0., 0., 0., 1.]])\n",
      "tensor([[ 0.,  0.,  0.,  0., -1.,  1., -1.,  1.,  1.]])\n",
      "tensor([[ 1.,  0.,  0.,  0.,  1.,  0.,  0.,  0., -1.]])\n",
      "tensor([[ 0.,  0.,  0.,  0., -1.,  1., -1.,  1.,  1.]])\n",
      "tensor([[ 0.,  0.,  0.,  0.,  1.,  0.,  1.,  0., -1.]])\n",
      "tensor([[ 0.,  0.,  0.,  0.,  1.,  0.,  0., -1.,  1.]])\n",
      "tensor([[ 0.,  0.,  0.,  0., -1.,  0.,  0.,  0.,  1.]])\n",
      "tensor([[ 1.,  0.,  0.,  0.,  1., -1.,  1., -1., -1.]])\n",
      "tensor([[ 0.,  0.,  0.,  0., -1.,  1., -1.,  1.,  1.]])\n",
      "tensor([[ 0.,  0.,  0.,  0., -1.,  0., -1.,  1.,  1.]])\n",
      "tensor([[ 0.,  0.,  0.,  0., -1.,  0., -1.,  1.,  1.]])\n",
      "tensor([[ 0.,  0.,  0.,  0., -1.,  0.,  0.,  1.,  1.]])\n",
      "tensor([[0., 0., 0., 0., 0., 0., 0., 0., 1.]])\n",
      "tensor([[0., 0., 0., 0., 0., 0., 0., 0., 1.]])\n",
      "tensor([[0., 0., 0., 0., 0., 0., 0., 0., 1.]])\n",
      "tensor([[ 1.,  0.,  0.,  0.,  1.,  0.,  0., -1., -1.]])\n",
      "tensor([[ 0.,  0.,  0.,  0., -1.,  0.,  0.,  1.,  1.]])\n"
     ]
    },
    {
     "name": "stderr",
     "output_type": "stream",
     "text": [
      "  8%|███▏                                   | 825/10000 [00:32<06:04, 25.16it/s]"
     ]
    },
    {
     "name": "stdout",
     "output_type": "stream",
     "text": [
      "tensor([[ 1.,  0.,  0.,  0.,  1., -1.,  1., -1., -1.]])\n",
      "tensor([[ 0.,  0.,  0.,  0., -1.,  0.,  0.,  1.,  1.]])\n",
      "tensor([[ 0.,  0.,  0.,  0., -1.,  0.,  0.,  0.,  1.]])\n",
      "tensor([[ 0.,  0.,  0.,  0., -1.,  0., -1.,  1.,  1.]])\n",
      "tensor([[ 0.,  0.,  0.,  0., -1.,  0.,  0.,  1.,  1.]])\n",
      "tensor([[ 0.,  0.,  0.,  0., -1.,  1., -1.,  1.,  1.]])\n",
      "tensor([[ 0.,  0.,  0.,  0., -1.,  0.,  0.,  1.,  1.]])\n",
      "tensor([[ 0.,  0.,  0.,  0., -1.,  1., -1.,  1.,  1.]])\n",
      "tensor([[0., 0., 0., 0., 0., 0., 0., 0., 1.]])\n",
      "tensor([[0., 0., 0., 0., 0., 0., 0., 0., 1.]])\n",
      "tensor([[0., 0., 0., 0., 0., 0., 0., 0., 1.]])\n",
      "tensor([[ 1.,  0.,  0.,  0.,  1.,  0.,  0., -1., -1.]])\n",
      "tensor([[ 0.,  0.,  0.,  0., -1.,  1., -1.,  1.,  1.]])\n",
      "tensor([[0., 0., 1., 0., 0., 0., 0., 0., 0.]])\n",
      "tensor([[ 1.,  0.,  0.,  0.,  1.,  0.,  0., -1., -1.]])\n",
      "tensor([[ 0.,  0.,  0.,  0., -1.,  1., -1.,  1.,  1.]])\n",
      "tensor([[ 0.,  0.,  0.,  0.,  1.,  0., -1., -1.,  1.]])\n",
      "tensor([[0., 0., 0., 0., 0., 0., 0., 0., 1.]])\n",
      "tensor([[ 0.,  0.,  0.,  0., -1.,  0.,  0.,  1.,  1.]])\n",
      "tensor([[ 1.,  0.,  0.,  0.,  1.,  0.,  0.,  0., -1.]])\n",
      "tensor([[ 1.,  0.,  0.,  0.,  1., -1.,  1., -1., -1.]])\n",
      "tensor([[1., 0., 0., 0., 0., 0., 0., 0., 0.]])\n",
      "tensor([[ 0.,  0.,  0.,  0., -1.,  1., -1.,  1.,  1.]])\n",
      "tensor([[ 0.,  0.,  0.,  0., -1.,  1., -1.,  1.,  1.]])\n",
      "tensor([[ 0.,  0.,  0.,  0., -1.,  0., -1.,  1.,  1.]])\n",
      "tensor([[0., 0., 0., 0., 0., 0., 0., 0., 1.]])\n"
     ]
    },
    {
     "name": "stderr",
     "output_type": "stream",
     "text": [
      "\r",
      "  8%|███▏                                   | 828/10000 [00:32<06:22, 23.98it/s]"
     ]
    },
    {
     "name": "stdout",
     "output_type": "stream",
     "text": [
      "tensor([[ 0.,  0.,  0.,  0., -1.,  0.,  0.,  1.,  1.]])\n",
      "tensor([[ 0.,  0.,  1.,  0.,  1.,  0.,  0.,  0., -1.]])\n",
      "tensor([[ 0.,  0.,  0.,  0., -1.,  1., -1.,  1.,  1.]])\n",
      "tensor([[ 1.,  0.,  0.,  0.,  1.,  0.,  1., -1., -1.]])\n",
      "tensor([[ 0.,  0.,  0.,  0.,  0.,  0.,  1.,  0., -1.]])\n",
      "tensor([[ 0.,  0.,  0.,  0., -1.,  0.,  0.,  1.,  1.]])\n",
      "tensor([[ 1.,  0.,  0.,  0.,  1.,  0.,  0.,  0., -1.]])\n",
      "tensor([[ 0.,  0.,  0.,  0., -1.,  0.,  0.,  0.,  1.]])\n",
      "tensor([[ 0.,  0.,  0.,  0., -1.,  0.,  0.,  1.,  1.]])\n",
      "tensor([[ 0.,  0.,  0.,  0., -1.,  0.,  0.,  0.,  1.]])\n",
      "tensor([[ 0.,  0.,  0.,  0., -1.,  0.,  0.,  1.,  1.]])\n",
      "tensor([[ 0.,  0.,  0.,  0.,  1.,  0.,  1., -1., -1.]])\n",
      "tensor([[ 0.,  0.,  0.,  0.,  1.,  0.,  0., -1.,  1.]])\n",
      "tensor([[0., 0., 0., 0., 0., 0., 1., 0., 0.]])\n",
      "tensor([[ 1.,  0.,  0.,  0.,  1.,  0.,  1., -1., -1.]])\n",
      "tensor([[ 1.,  0.,  0.,  0.,  1.,  0.,  0.,  0., -1.]])\n",
      "tensor([[ 0.,  0.,  0.,  0.,  1.,  0.,  1., -1., -1.]])\n",
      "tensor([[ 1.,  0.,  0.,  0.,  1., -1.,  1., -1., -1.]])\n",
      "tensor([[ 0.,  0.,  1.,  0.,  1.,  0.,  0.,  0., -1.]])\n",
      "tensor([[ 0.,  0.,  0.,  0., -1.,  0.,  0.,  0.,  1.]])\n",
      "tensor([[ 1.,  0.,  0.,  0.,  1.,  0.,  1., -1., -1.]])\n",
      "tensor([[ 0.,  0.,  0.,  0., -1.,  0.,  0.,  1.,  1.]])\n",
      "tensor([[ 0.,  0.,  0.,  0.,  0.,  0.,  1.,  0., -1.]])\n",
      "tensor([[ 0.,  0.,  0.,  0., -1.,  0., -1.,  1.,  1.]])\n",
      "tensor([[ 0.,  0.,  0.,  0., -1.,  1., -1.,  1.,  1.]])\n",
      "tensor([[ 1.,  0.,  0.,  0.,  1.,  0.,  0., -1., -1.]])\n"
     ]
    },
    {
     "name": "stderr",
     "output_type": "stream",
     "text": [
      "  8%|███▎                                   | 834/10000 [00:32<06:02, 25.28it/s]"
     ]
    },
    {
     "name": "stdout",
     "output_type": "stream",
     "text": [
      "tensor([[0., 0., 0., 0., 0., 0., 0., 0., 1.]])\n",
      "tensor([[ 0.,  0.,  0.,  0., -1.,  1., -1.,  1.,  1.]])\n",
      "tensor([[ 0.,  0.,  0.,  0.,  1.,  0.,  1.,  0., -1.]])\n",
      "tensor([[ 1.,  0.,  0.,  0.,  1.,  0.,  1., -1., -1.]])\n",
      "tensor([[ 0.,  0.,  0.,  0.,  0.,  0.,  0., -1.,  1.]])\n",
      "tensor([[ 0.,  0.,  0.,  0., -1.,  0.,  0.,  1.,  1.]])\n",
      "tensor([[0., 0., 1., 0., 0., 0., 0., 0., 0.]])\n",
      "tensor([[0., 0., 0., 0., 0., 0., 1., 0., 0.]])\n",
      "tensor([[ 0.,  0.,  0.,  0., -1.,  0.,  0.,  1.,  1.]])\n",
      "tensor([[0., 0., 0., 0., 0., 0., 0., 0., 1.]])\n",
      "tensor([[ 0.,  0.,  0.,  0., -1.,  1., -1.,  1.,  1.]])\n",
      "tensor([[0., 0., 0., 0., 0., 0., 0., 0., 1.]])\n",
      "tensor([[ 0.,  0.,  0.,  0., -1.,  1., -1.,  1.,  1.]])\n",
      "tensor([[ 0.,  0.,  0.,  0.,  1.,  0.,  0.,  0., -1.]])\n",
      "tensor([[ 0.,  0.,  0.,  0., -1.,  0.,  0.,  0.,  1.]])\n",
      "tensor([[ 1.,  0.,  0.,  0.,  1.,  0.,  0.,  0., -1.]])\n",
      "tensor([[ 0.,  0.,  0.,  0., -1.,  0., -1.,  1.,  1.]])\n",
      "tensor([[ 0.,  0.,  1.,  0.,  0.,  0.,  0.,  0., -1.]])\n",
      "tensor([[1., 0., 0., 0., 0., 0., 0., 0., 0.]])\n",
      "tensor([[0., 0., 0., 0., 0., 0., 1., 0., 0.]])\n",
      "tensor([[0., 0., 0., 0., 0., 0., 0., 0., 1.]])\n",
      "tensor([[ 0.,  0.,  0.,  0., -1.,  0., -1.,  1.,  1.]])\n",
      "tensor([[ 0.,  0.,  0.,  0., -1.,  1., -1.,  1.,  1.]])\n",
      "tensor([[ 0.,  0.,  0.,  0.,  1.,  0.,  1.,  0., -1.]])\n",
      "tensor([[ 1.,  0.,  0.,  0.,  1., -1.,  1., -1., -1.]])\n",
      "tensor([[ 0.,  0.,  0.,  0., -1.,  0.,  0.,  1.,  1.]])\n",
      "tensor([[ 0.,  0.,  0.,  0., -1.,  0.,  0.,  1.,  1.]])\n",
      "tensor([[ 0.,  0.,  1.,  0.,  0.,  0.,  0.,  0., -1.]])\n"
     ]
    },
    {
     "name": "stderr",
     "output_type": "stream",
     "text": [
      "  8%|███▎                                   | 840/10000 [00:33<06:19, 24.14it/s]"
     ]
    },
    {
     "name": "stdout",
     "output_type": "stream",
     "text": [
      "tensor([[ 0.,  0.,  0.,  0., -1.,  0.,  0.,  1.,  1.]])\n",
      "tensor([[0., 0., 1., 0., 0., 0., 0., 0., 0.]])\n",
      "tensor([[ 0.,  0.,  0.,  0., -1.,  0.,  0.,  0.,  1.]])\n",
      "tensor([[ 0.,  0.,  0.,  0., -1.,  0.,  0.,  0.,  1.]])\n",
      "tensor([[ 0.,  0.,  0.,  0., -1.,  0., -1.,  1.,  1.]])\n",
      "tensor([[ 0.,  0.,  0.,  0.,  1.,  0.,  1.,  0., -1.]])\n",
      "tensor([[ 0.,  0.,  0.,  0., -1.,  0., -1.,  1.,  1.]])\n",
      "tensor([[ 0.,  0.,  0.,  0., -1.,  0.,  0.,  1.,  1.]])\n",
      "tensor([[ 0.,  0.,  0.,  0., -1.,  0.,  0.,  1.,  1.]])\n",
      "tensor([[ 1.,  0.,  0.,  0.,  1.,  0.,  0.,  0., -1.]])\n",
      "tensor([[ 0.,  0.,  1.,  0.,  0.,  0.,  0.,  0., -1.]])\n",
      "tensor([[ 0.,  0.,  0.,  0., -1.,  1., -1.,  1.,  1.]])\n",
      "tensor([[0., 0., 0., 0., 0., 0., 0., 0., 1.]])\n",
      "tensor([[ 0.,  0.,  1.,  0.,  0.,  0.,  0.,  0., -1.]])\n",
      "tensor([[ 0.,  0.,  1.,  0.,  1.,  0.,  0.,  0., -1.]])\n",
      "tensor([[ 0.,  0.,  0.,  0., -1.,  1., -1.,  1.,  1.]])\n",
      "tensor([[ 0.,  0.,  0.,  0., -1.,  0.,  0.,  0.,  1.]])\n",
      "tensor([[0., 0., 0., 0., 0., 0., 0., 0., 1.]])\n",
      "tensor([[1., 0., 0., 0., 0., 0., 0., 0., 0.]])\n",
      "tensor([[ 1.,  0.,  0.,  0.,  1.,  0.,  0., -1., -1.]])\n",
      "tensor([[ 0.,  0.,  0.,  0., -1.,  0.,  0.,  1.,  1.]])\n"
     ]
    },
    {
     "name": "stderr",
     "output_type": "stream",
     "text": [
      "  8%|███▎                                   | 846/10000 [00:33<05:53, 25.88it/s]"
     ]
    },
    {
     "name": "stdout",
     "output_type": "stream",
     "text": [
      "tensor([[ 0.,  0.,  0.,  0., -1.,  1., -1.,  1.,  1.]])\n",
      "tensor([[ 1.,  0.,  0.,  0.,  1.,  0.,  1., -1., -1.]])\n",
      "tensor([[ 0.,  0.,  0.,  0.,  1.,  0., -1., -1.,  1.]])\n",
      "tensor([[ 0.,  0.,  1.,  0.,  0.,  0.,  0.,  0., -1.]])\n",
      "tensor([[0., 0., 0., 0., 0., 0., 0., 0., 1.]])\n",
      "tensor([[ 0.,  0.,  0.,  0., -1.,  0.,  0.,  0.,  1.]])\n",
      "tensor([[ 0.,  0.,  0.,  0.,  1.,  0.,  0.,  0., -1.]])\n",
      "tensor([[ 0.,  0.,  0.,  0., -1.,  0.,  0.,  0.,  1.]])\n",
      "tensor([[0., 0., 0., 0., 1., 0., 0., 0., 0.]])\n",
      "tensor([[ 1.,  0.,  0.,  0.,  1.,  0.,  0.,  0., -1.]])\n",
      "tensor([[ 1.,  0.,  0.,  0.,  1.,  0.,  1., -1., -1.]])\n",
      "tensor([[ 1.,  0.,  0.,  0.,  1.,  0.,  1., -1., -1.]])\n",
      "tensor([[ 0.,  0.,  0.,  0., -1.,  0.,  0.,  1.,  1.]])\n",
      "tensor([[ 1.,  0.,  0.,  0.,  1.,  0.,  0., -1., -1.]])\n",
      "tensor([[ 0.,  0.,  0.,  0., -1.,  1., -1.,  1.,  1.]])\n",
      "tensor([[ 0.,  0.,  0.,  0.,  1.,  0.,  0.,  0., -1.]])\n",
      "tensor([[ 0.,  0.,  0.,  0., -1.,  0.,  0.,  1.,  1.]])\n",
      "tensor([[ 0.,  0.,  0.,  0.,  1.,  0.,  0.,  0., -1.]])\n",
      "tensor([[ 0.,  0.,  0.,  0.,  1.,  0., -1., -1.,  1.]])\n",
      "tensor([[ 0.,  0.,  0.,  0., -1.,  0.,  0.,  0.,  1.]])\n",
      "tensor([[ 0.,  0.,  0.,  0.,  0.,  0.,  1.,  0., -1.]])\n",
      "tensor([[ 0.,  0.,  0.,  0.,  1.,  0.,  1., -1., -1.]])\n",
      "tensor([[ 0.,  0.,  0.,  0., -1.,  0., -1.,  1.,  1.]])\n",
      "tensor([[ 0.,  0.,  0.,  0., -1.,  1., -1.,  1.,  1.]])\n",
      "tensor([[ 0.,  0.,  1.,  0.,  1.,  0.,  0., -1., -1.]])\n",
      "tensor([[ 1.,  0.,  0.,  0.,  1.,  0.,  0.,  0., -1.]])\n",
      "tensor([[0., 0., 0., 0., 0., 0., 0., 0., 1.]])\n",
      "tensor([[ 0.,  0.,  0.,  0., -1.,  0.,  0.,  1.,  1.]])\n",
      "tensor([[ 0.,  0.,  0.,  0., -1.,  1., -1.,  1.,  1.]])\n",
      "tensor([[ 0.,  0.,  0.,  0.,  1.,  0.,  0.,  0., -1.]])\n"
     ]
    },
    {
     "name": "stderr",
     "output_type": "stream",
     "text": [
      "  9%|███▎                                   | 852/10000 [00:33<05:37, 27.09it/s]"
     ]
    },
    {
     "name": "stdout",
     "output_type": "stream",
     "text": [
      "tensor([[ 1.,  0.,  0.,  0.,  1.,  0.,  0.,  0., -1.]])\n",
      "tensor([[ 1.,  0.,  0.,  0.,  0.,  0.,  0.,  0., -1.]])\n",
      "tensor([[ 0.,  0.,  0.,  0., -1.,  0.,  0.,  1.,  1.]])\n",
      "tensor([[ 0.,  0.,  0.,  0., -1.,  1., -1.,  1.,  1.]])\n",
      "tensor([[ 1.,  0.,  0.,  0.,  1.,  0.,  0.,  0., -1.]])\n",
      "tensor([[ 0.,  0.,  0.,  0., -1.,  0.,  0.,  1.,  1.]])\n",
      "tensor([[ 0.,  0.,  0.,  0.,  1.,  0.,  0.,  0., -1.]])\n",
      "tensor([[ 0.,  0.,  0.,  0., -1.,  0., -1.,  1.,  1.]])\n",
      "tensor([[ 0.,  0.,  0.,  0., -1.,  0., -1.,  1.,  1.]])\n",
      "tensor([[ 0.,  0.,  0.,  0., -1.,  0.,  0.,  0.,  1.]])\n",
      "tensor([[ 0.,  0.,  0.,  0.,  0.,  0.,  0., -1.,  1.]])\n",
      "tensor([[1., 0., 0., 0., 0., 0., 0., 0., 0.]])\n",
      "tensor([[ 1.,  0.,  0.,  0.,  1.,  0.,  0., -1., -1.]])\n",
      "tensor([[ 0.,  0.,  1.,  0.,  1.,  0.,  0.,  0., -1.]])\n",
      "tensor([[ 0.,  0.,  0.,  0., -1.,  0.,  0.,  1.,  1.]])\n",
      "tensor([[0., 0., 0., 0., 0., 0., 1., 0., 0.]])\n",
      "tensor([[0., 0., 0., 0., 0., 0., 0., 0., 1.]])\n",
      "tensor([[ 0.,  0.,  0.,  0., -1.,  0., -1.,  1.,  1.]])\n",
      "tensor([[ 0.,  0.,  0.,  0., -1.,  1., -1.,  1.,  1.]])\n",
      "tensor([[0., 0., 0., 0., 0., 0., 1., 0., 0.]])\n",
      "tensor([[0., 0., 0., 0., 0., 0., 1., 0., 0.]])\n",
      "tensor([[ 0.,  0.,  0.,  0., -1.,  1., -1.,  1.,  1.]])\n",
      "tensor([[ 1.,  0.,  0.,  0.,  1.,  0.,  0.,  0., -1.]])\n",
      "tensor([[ 0.,  0.,  1.,  0.,  1.,  0.,  0.,  0., -1.]])\n",
      "tensor([[ 0.,  0.,  0.,  0., -1.,  0.,  0.,  0.,  1.]])\n",
      "tensor([[ 0.,  0.,  0.,  0., -1.,  1., -1.,  1.,  1.]])\n",
      "tensor([[0., 0., 0., 0., 0., 0., 0., 0., 1.]])\n",
      "tensor([[0., 0., 0., 0., 0., 0., 0., 0., 1.]])\n",
      "tensor([[0., 0., 0., 0., 0., 0., 0., 0., 1.]])\n",
      "tensor([[0., 0., 1., 0., 0., 0., 0., 0., 0.]])\n"
     ]
    },
    {
     "name": "stderr",
     "output_type": "stream",
     "text": [
      "  9%|███▎                                   | 858/10000 [00:33<05:28, 27.87it/s]"
     ]
    },
    {
     "name": "stdout",
     "output_type": "stream",
     "text": [
      "tensor([[ 1.,  0.,  0.,  0.,  1.,  0.,  0.,  0., -1.]])\n",
      "tensor([[0., 0., 0., 0., 0., 0., 0., 0., 1.]])\n",
      "tensor([[ 0.,  0.,  0.,  0.,  0.,  0.,  0., -1.,  1.]])\n",
      "tensor([[ 0.,  0.,  0.,  0., -1.,  0.,  0.,  0.,  1.]])\n",
      "tensor([[ 0.,  0.,  0.,  0., -1.,  0., -1.,  1.,  1.]])\n",
      "tensor([[ 0.,  0.,  0.,  0., -1.,  1., -1.,  1.,  1.]])\n",
      "tensor([[0., 0., 0., 0., 0., 0., 0., 0., 1.]])\n",
      "tensor([[ 0.,  0.,  0.,  0.,  1.,  0.,  0., -1.,  1.]])\n",
      "tensor([[ 0.,  0.,  0.,  0., -1.,  1., -1.,  1.,  1.]])\n",
      "tensor([[ 0.,  0.,  1.,  0.,  0.,  0.,  0.,  0., -1.]])\n",
      "tensor([[ 1.,  0.,  0.,  0.,  1.,  0.,  1., -1., -1.]])\n",
      "tensor([[ 0.,  0.,  0.,  0., -1.,  0.,  0.,  1.,  1.]])\n",
      "tensor([[0., 0., 0., 0., 0., 0., 0., 0., 1.]])\n",
      "tensor([[ 1.,  0.,  0.,  0.,  1., -1.,  1., -1., -1.]])\n",
      "tensor([[0., 0., 0., 0., 0., 0., 0., 0., 1.]])\n",
      "tensor([[ 1.,  0.,  0.,  0.,  1.,  0.,  0.,  0., -1.]])\n",
      "tensor([[0., 0., 0., 0., 0., 0., 0., 0., 1.]])\n",
      "tensor([[ 0.,  0.,  0.,  0., -1.,  0., -1.,  1.,  1.]])\n",
      "tensor([[ 1.,  0.,  0.,  0.,  1., -1.,  1., -1., -1.]])\n",
      "tensor([[ 0.,  0.,  0.,  0., -1.,  0., -1.,  1.,  1.]])\n",
      "tensor([[ 0.,  0.,  0.,  0., -1.,  0., -1.,  1.,  1.]])\n",
      "tensor([[ 1.,  0.,  0.,  0.,  1., -1.,  1., -1., -1.]])\n",
      "tensor([[ 0.,  0.,  0.,  0., -1.,  0.,  0.,  1.,  1.]])\n",
      "tensor([[ 0.,  0.,  0.,  0., -1.,  0.,  0.,  0.,  1.]])\n",
      "tensor([[ 0.,  0.,  0.,  0., -1.,  0.,  0.,  0.,  1.]])\n",
      "tensor([[ 0.,  0.,  0.,  0., -1.,  0., -1.,  1.,  1.]])\n",
      "tensor([[0., 0., 0., 0., 0., 0., 0., 0., 1.]])\n",
      "tensor([[ 0.,  0.,  0.,  0., -1.,  0.,  0.,  1.,  1.]])\n",
      "tensor([[ 0.,  0.,  0.,  0., -1.,  0.,  0.,  0.,  1.]])\n"
     ]
    },
    {
     "name": "stderr",
     "output_type": "stream",
     "text": [
      "  9%|███▎                                   | 864/10000 [00:34<05:40, 26.84it/s]"
     ]
    },
    {
     "name": "stdout",
     "output_type": "stream",
     "text": [
      "tensor([[ 1.,  0.,  0.,  0.,  1., -1.,  1., -1., -1.]])\n",
      "tensor([[ 0.,  0.,  0.,  0., -1.,  0.,  0.,  1.,  1.]])\n",
      "tensor([[ 1.,  0.,  0.,  0.,  1.,  0.,  0., -1., -1.]])\n",
      "tensor([[ 0.,  0.,  1.,  0.,  0.,  0.,  0.,  0., -1.]])\n",
      "tensor([[ 1.,  0.,  0.,  0.,  1., -1.,  1., -1., -1.]])\n",
      "tensor([[ 0.,  0.,  1.,  0.,  1.,  0.,  0.,  0., -1.]])\n",
      "tensor([[0., 0., 0., 0., 1., 0., 0., 0., 0.]])\n",
      "tensor([[ 0.,  0.,  0.,  0., -1.,  1., -1.,  1.,  1.]])\n",
      "tensor([[ 0.,  0.,  0.,  0., -1.,  1., -1.,  1.,  1.]])\n",
      "tensor([[ 0.,  0.,  0.,  0.,  1.,  0.,  1.,  0., -1.]])\n",
      "tensor([[1., 0., 0., 0., 0., 0., 0., 0., 0.]])\n",
      "tensor([[ 0.,  0.,  0.,  0., -1.,  1., -1.,  1.,  1.]])\n",
      "tensor([[ 0.,  0.,  0.,  0., -1.,  0.,  0.,  1.,  1.]])\n",
      "tensor([[ 0.,  0.,  0.,  0., -1.,  0., -1.,  1.,  1.]])\n",
      "tensor([[ 0.,  0.,  0.,  0.,  1.,  0.,  1., -1., -1.]])\n",
      "tensor([[ 1.,  0.,  0.,  0.,  1.,  0.,  0., -1., -1.]])\n",
      "tensor([[ 0.,  0.,  0.,  0.,  0.,  0.,  1.,  0., -1.]])\n",
      "tensor([[ 0.,  0.,  0.,  0.,  1.,  0.,  1., -1., -1.]])\n",
      "tensor([[ 0.,  0.,  0.,  0., -1.,  0., -1.,  1.,  1.]])\n",
      "tensor([[0., 0., 0., 0., 1., 0., 0., 0., 0.]])\n"
     ]
    },
    {
     "name": "stderr",
     "output_type": "stream",
     "text": [
      "\r",
      "  9%|███▍                                   | 867/10000 [00:34<05:43, 26.57it/s]"
     ]
    },
    {
     "name": "stdout",
     "output_type": "stream",
     "text": [
      "tensor([[ 0.,  0.,  0.,  0., -1.,  1., -1.,  1.,  1.]])\n",
      "tensor([[ 0.,  0.,  0.,  0., -1.,  0.,  0.,  0.,  1.]])\n",
      "tensor([[0., 0., 0., 0., 0., 0., 1., 0., 0.]])\n",
      "tensor([[0., 0., 0., 0., 0., 0., 0., 0., 1.]])\n",
      "tensor([[ 0.,  0.,  1.,  0.,  1.,  0.,  0.,  0., -1.]])\n",
      "tensor([[ 1.,  0.,  0.,  0.,  1.,  0.,  1., -1., -1.]])\n",
      "tensor([[ 0.,  0.,  0.,  0., -1.,  0.,  0.,  1.,  1.]])\n",
      "tensor([[ 1.,  0.,  0.,  0.,  1.,  0.,  1., -1., -1.]])\n",
      "tensor([[ 1.,  0.,  0.,  0.,  1.,  0.,  0.,  0., -1.]])\n",
      "tensor([[ 0.,  0.,  0.,  0.,  1.,  0.,  0., -1.,  1.]])\n",
      "tensor([[ 0.,  0.,  0.,  0., -1.,  0.,  0.,  1.,  1.]])\n",
      "tensor([[ 1.,  0.,  0.,  0.,  1.,  0.,  1., -1., -1.]])\n",
      "tensor([[ 0.,  0.,  0.,  0., -1.,  0., -1.,  1.,  1.]])\n",
      "tensor([[ 0.,  0.,  0.,  0., -1.,  0., -1.,  1.,  1.]])\n",
      "tensor([[ 1.,  0.,  0.,  0.,  1.,  0.,  1., -1., -1.]])\n",
      "tensor([[ 0.,  0.,  0.,  0.,  1.,  0., -1., -1.,  1.]])\n",
      "tensor([[0., 0., 1., 0., 0., 0., 0., 0., 0.]])\n",
      "tensor([[ 0.,  0.,  0.,  0., -1.,  0.,  0.,  1.,  1.]])\n",
      "tensor([[ 0.,  0.,  0.,  0.,  1.,  0., -1., -1.,  1.]])\n",
      "tensor([[ 0.,  0.,  0.,  0., -1.,  0.,  0.,  0.,  1.]])\n",
      "tensor([[ 0.,  0.,  0.,  0., -1.,  0.,  0.,  0.,  1.]])\n",
      "tensor([[ 0.,  0.,  0.,  0.,  1.,  0., -1., -1.,  1.]])\n",
      "tensor([[ 1.,  0.,  0.,  0.,  1., -1.,  1., -1., -1.]])\n",
      "tensor([[ 1.,  0.,  0.,  0.,  1.,  0.,  1., -1., -1.]])\n",
      "tensor([[ 1.,  0.,  0.,  0.,  1.,  0.,  1., -1., -1.]])\n",
      "tensor([[ 0.,  0.,  0.,  0.,  1.,  0., -1., -1.,  1.]])\n",
      "tensor([[ 0.,  0.,  0.,  0.,  0.,  0.,  0., -1.,  1.]])\n",
      "tensor([[ 1.,  0.,  0.,  0.,  1.,  0.,  0., -1., -1.]])\n",
      "tensor([[ 0.,  0.,  0.,  0., -1.,  1., -1.,  1.,  1.]])\n",
      "tensor([[ 1.,  0.,  0.,  0.,  1.,  0.,  1., -1., -1.]])\n",
      "tensor([[ 1.,  0.,  0.,  0.,  1.,  0.,  0.,  0., -1.]])\n",
      "tensor([[0., 0., 0., 0., 0., 0., 0., 0., 1.]])\n"
     ]
    },
    {
     "name": "stderr",
     "output_type": "stream",
     "text": [
      "  9%|███▍                                   | 874/10000 [00:34<05:32, 27.42it/s]"
     ]
    },
    {
     "name": "stdout",
     "output_type": "stream",
     "text": [
      "tensor([[ 0.,  0.,  0.,  0., -1.,  1., -1.,  1.,  1.]])\n",
      "tensor([[0., 0., 0., 0., 0., 0., 0., 0., 1.]])\n",
      "tensor([[ 1.,  0.,  0.,  0.,  1.,  0.,  0.,  0., -1.]])\n",
      "tensor([[ 0.,  0.,  0.,  0., -1.,  0.,  0.,  1.,  1.]])\n",
      "tensor([[ 0.,  0.,  0.,  0., -1.,  0., -1.,  1.,  1.]])\n",
      "tensor([[0., 0., 0., 0., 0., 0., 0., 0., 1.]])\n",
      "tensor([[0., 0., 0., 0., 0., 0., 0., 0., 1.]])\n",
      "tensor([[ 0.,  0.,  0.,  0., -1.,  0., -1.,  1.,  1.]])\n",
      "tensor([[ 0.,  0.,  0.,  0.,  1.,  0.,  1., -1., -1.]])\n",
      "tensor([[0., 0., 0., 0., 0., 0., 0., 0., 1.]])\n",
      "tensor([[ 0.,  0.,  0.,  0., -1.,  0., -1.,  1.,  1.]])\n",
      "tensor([[ 0.,  0.,  0.,  0., -1.,  1., -1.,  1.,  1.]])\n",
      "tensor([[ 0.,  0.,  0.,  0., -1.,  0.,  0.,  1.,  1.]])\n",
      "tensor([[ 1.,  0.,  0.,  0.,  1.,  0.,  1., -1., -1.]])\n",
      "tensor([[0., 0., 0., 0., 0., 0., 0., 0., 1.]])\n",
      "tensor([[ 0.,  0.,  0.,  0., -1.,  1., -1.,  1.,  1.]])\n",
      "tensor([[ 1.,  0.,  0.,  0.,  1.,  0.,  0., -1., -1.]])\n",
      "tensor([[ 0.,  0.,  1.,  0.,  1.,  0.,  0.,  0., -1.]])\n",
      "tensor([[ 0.,  0.,  0.,  0., -1.,  1., -1.,  1.,  1.]])\n",
      "tensor([[ 0.,  0.,  1.,  0.,  0.,  0.,  0.,  0., -1.]])\n",
      "tensor([[ 0.,  0.,  0.,  0., -1.,  1., -1.,  1.,  1.]])\n",
      "tensor([[ 1.,  0.,  0.,  0.,  1.,  0.,  1., -1., -1.]])\n",
      "tensor([[ 0.,  0.,  0.,  0., -1.,  0.,  0.,  0.,  1.]])\n",
      "tensor([[0., 0., 0., 0., 0., 0., 0., 0., 1.]])\n",
      "tensor([[0., 0., 0., 0., 0., 0., 0., 0., 1.]])\n",
      "tensor([[ 0.,  0.,  1.,  0.,  0.,  0.,  0.,  0., -1.]])\n",
      "tensor([[0., 0., 0., 0., 0., 0., 0., 0., 1.]])\n",
      "tensor([[ 0.,  0.,  0.,  0.,  1.,  0.,  1., -1., -1.]])\n"
     ]
    },
    {
     "name": "stderr",
     "output_type": "stream",
     "text": [
      "  9%|███▍                                   | 881/10000 [00:34<05:24, 28.09it/s]"
     ]
    },
    {
     "name": "stdout",
     "output_type": "stream",
     "text": [
      "tensor([[ 1.,  0.,  0.,  0.,  1.,  0.,  1., -1., -1.]])\n",
      "tensor([[ 0.,  0.,  0.,  0.,  1.,  0.,  0.,  0., -1.]])\n",
      "tensor([[ 0.,  0.,  0.,  0., -1.,  0.,  0.,  1.,  1.]])\n",
      "tensor([[0., 0., 0., 0., 0., 0., 0., 0., 1.]])\n",
      "tensor([[ 1.,  0.,  0.,  0.,  0.,  0.,  0.,  0., -1.]])\n",
      "tensor([[ 1.,  0.,  0.,  0.,  1.,  0.,  0.,  0., -1.]])\n",
      "tensor([[0., 0., 0., 0., 0., 0., 0., 0., 1.]])\n",
      "tensor([[0., 0., 0., 0., 0., 0., 0., 0., 1.]])\n",
      "tensor([[ 1.,  0.,  0.,  0.,  1., -1.,  1., -1., -1.]])\n",
      "tensor([[ 1.,  0.,  0.,  0.,  1.,  0.,  0., -1., -1.]])\n",
      "tensor([[ 0.,  0.,  0.,  0., -1.,  1., -1.,  1.,  1.]])\n",
      "tensor([[0., 0., 0., 0., 0., 0., 0., 0., 1.]])\n",
      "tensor([[ 0.,  0.,  0.,  0., -1.,  1., -1.,  1.,  1.]])\n",
      "tensor([[ 0.,  0.,  0.,  0.,  1.,  0.,  1.,  0., -1.]])\n",
      "tensor([[0., 0., 1., 0., 0., 0., 0., 0., 0.]])\n",
      "tensor([[0., 0., 0., 0., 1., 0., 0., 0., 0.]])\n",
      "tensor([[ 1.,  0.,  0.,  0.,  1.,  0.,  1., -1., -1.]])\n",
      "tensor([[ 1.,  0.,  0.,  0.,  1.,  0.,  0.,  0., -1.]])\n",
      "tensor([[ 0.,  0.,  0.,  0., -1.,  0.,  0.,  0.,  1.]])\n",
      "tensor([[ 0.,  0.,  0.,  0., -1.,  0.,  0.,  0.,  1.]])\n",
      "tensor([[ 0.,  0.,  0.,  0., -1.,  0.,  0.,  0.,  1.]])\n",
      "tensor([[ 0.,  0.,  0.,  0., -1.,  0.,  0.,  1.,  1.]])\n",
      "tensor([[ 0.,  0.,  0.,  0., -1.,  1., -1.,  1.,  1.]])\n",
      "tensor([[ 0.,  0.,  0.,  0., -1.,  0.,  0.,  1.,  1.]])\n",
      "tensor([[ 0.,  0.,  0.,  0.,  1.,  0., -1., -1.,  1.]])\n",
      "tensor([[ 0.,  0.,  0.,  0., -1.,  0., -1.,  1.,  1.]])\n",
      "tensor([[0., 0., 0., 0., 0., 0., 0., 0., 1.]])\n",
      "tensor([[0., 0., 1., 0., 0., 0., 0., 0., 0.]])\n",
      "tensor([[ 0.,  0.,  0.,  0., -1.,  1., -1.,  1.,  1.]])\n",
      "tensor([[0., 0., 0., 0., 0., 0., 0., 0., 1.]])\n",
      "tensor([[ 0.,  0.,  0.,  0., -1.,  0., -1.,  1.,  1.]])\n"
     ]
    },
    {
     "name": "stderr",
     "output_type": "stream",
     "text": [
      "  9%|███▍                                   | 887/10000 [00:34<05:29, 27.65it/s]"
     ]
    },
    {
     "name": "stdout",
     "output_type": "stream",
     "text": [
      "tensor([[ 0.,  0.,  0.,  0., -1.,  0., -1.,  1.,  1.]])\n",
      "tensor([[ 0.,  0.,  0.,  0., -1.,  0.,  0.,  1.,  1.]])\n",
      "tensor([[ 0.,  0.,  0.,  0., -1.,  1., -1.,  1.,  1.]])\n",
      "tensor([[ 0.,  0.,  0.,  0., -1.,  0.,  0.,  1.,  1.]])\n",
      "tensor([[0., 0., 0., 0., 1., 0., 0., 0., 0.]])\n",
      "tensor([[0., 0., 0., 0., 0., 0., 0., 0., 1.]])\n",
      "tensor([[0., 0., 0., 0., 0., 0., 0., 0., 1.]])\n",
      "tensor([[ 0.,  0.,  0.,  0., -1.,  0.,  0.,  1.,  1.]])\n",
      "tensor([[0., 0., 0., 0., 0., 0., 0., 0., 1.]])\n",
      "tensor([[ 0.,  0.,  1.,  0.,  0.,  0.,  0.,  0., -1.]])\n",
      "tensor([[ 0.,  0.,  0.,  0., -1.,  0.,  0.,  0.,  1.]])\n",
      "tensor([[ 1.,  0.,  0.,  0.,  1.,  0.,  1., -1., -1.]])\n",
      "tensor([[ 0.,  0.,  0.,  0.,  1.,  0.,  1., -1., -1.]])\n",
      "tensor([[ 0.,  0.,  0.,  0., -1.,  0., -1.,  1.,  1.]])\n",
      "tensor([[ 0.,  0.,  0.,  0., -1.,  0.,  0.,  0.,  1.]])\n",
      "tensor([[ 1.,  0.,  0.,  0.,  1.,  0.,  0.,  0., -1.]])\n",
      "tensor([[0., 0., 0., 0., 0., 0., 0., 0., 1.]])\n",
      "tensor([[ 0.,  0.,  0.,  0., -1.,  0., -1.,  1.,  1.]])\n",
      "tensor([[ 0.,  0.,  0.,  0., -1.,  0., -1.,  1.,  1.]])\n",
      "tensor([[ 0.,  0.,  0.,  0., -1.,  1., -1.,  1.,  1.]])\n",
      "tensor([[ 0.,  0.,  0.,  0., -1.,  0., -1.,  1.,  1.]])\n",
      "tensor([[ 0.,  0.,  0.,  0.,  1.,  0.,  1., -1., -1.]])\n",
      "tensor([[ 0.,  0.,  0.,  0., -1.,  0.,  0.,  0.,  1.]])\n",
      "tensor([[ 0.,  0.,  0.,  0.,  0.,  0.,  1.,  0., -1.]])\n",
      "tensor([[ 1.,  0.,  0.,  0.,  0.,  0.,  0.,  0., -1.]])\n",
      "tensor([[0., 0., 1., 0., 0., 0., 0., 0., 0.]])\n",
      "tensor([[ 0.,  0.,  0.,  0.,  1.,  0., -1., -1.,  1.]])\n",
      "tensor([[ 1.,  0.,  0.,  0.,  1.,  0.,  0., -1., -1.]])\n",
      "tensor([[0., 0., 0., 0., 0., 0., 0., 0., 1.]])\n",
      "tensor([[ 1.,  0.,  0.,  0.,  1.,  0.,  1., -1., -1.]])\n"
     ]
    },
    {
     "name": "stderr",
     "output_type": "stream",
     "text": [
      "  9%|███▍                                   | 893/10000 [00:35<05:27, 27.80it/s]"
     ]
    },
    {
     "name": "stdout",
     "output_type": "stream",
     "text": [
      "tensor([[ 0.,  0.,  0.,  0., -1.,  0., -1.,  1.,  1.]])\n",
      "tensor([[ 0.,  0.,  0.,  0., -1.,  1., -1.,  1.,  1.]])\n",
      "tensor([[ 0.,  0.,  1.,  0.,  0.,  0.,  0.,  0., -1.]])\n",
      "tensor([[ 0.,  0.,  0.,  0., -1.,  1., -1.,  1.,  1.]])\n",
      "tensor([[0., 0., 0., 0., 0., 0., 0., 0., 1.]])\n",
      "tensor([[0., 0., 0., 0., 0., 0., 0., 0., 1.]])\n",
      "tensor([[ 0.,  0.,  0.,  0., -1.,  0.,  0.,  0.,  1.]])\n",
      "tensor([[0., 0., 0., 0., 1., 0., 0., 0., 0.]])\n",
      "tensor([[ 0.,  0.,  0.,  0., -1.,  0., -1.,  1.,  1.]])\n",
      "tensor([[0., 0., 0., 0., 0., 0., 0., 0., 1.]])\n",
      "tensor([[ 1.,  0.,  0.,  0.,  1.,  0.,  1., -1., -1.]])\n",
      "tensor([[ 1.,  0.,  0.,  0.,  1.,  0.,  0.,  0., -1.]])\n",
      "tensor([[0., 0., 0., 0., 0., 0., 0., 0., 1.]])\n",
      "tensor([[ 1.,  0.,  0.,  0.,  1.,  0.,  1., -1., -1.]])\n",
      "tensor([[ 0.,  0.,  0.,  0.,  0.,  0.,  1.,  0., -1.]])\n",
      "tensor([[ 1.,  0.,  0.,  0.,  1.,  0.,  0., -1., -1.]])\n",
      "tensor([[ 0.,  0.,  0.,  0.,  1.,  0.,  1., -1., -1.]])\n",
      "tensor([[ 0.,  0.,  0.,  0., -1.,  1., -1.,  1.,  1.]])\n",
      "tensor([[0., 0., 0., 0., 1., 0., 0., 0., 0.]])\n",
      "tensor([[0., 0., 0., 0., 0., 0., 0., 0., 1.]])\n",
      "tensor([[ 1.,  0.,  0.,  0.,  1.,  0.,  0., -1., -1.]])\n",
      "tensor([[ 0.,  0.,  0.,  0., -1.,  0., -1.,  1.,  1.]])\n",
      "tensor([[ 0.,  0.,  0.,  0., -1.,  0.,  0.,  1.,  1.]])\n",
      "tensor([[ 0.,  0.,  0.,  0., -1.,  1., -1.,  1.,  1.]])\n",
      "tensor([[ 1.,  0.,  0.,  0.,  1.,  0.,  0.,  0., -1.]])\n",
      "tensor([[0., 0., 1., 0., 0., 0., 0., 0., 0.]])\n",
      "tensor([[ 0.,  0.,  0.,  0., -1.,  0., -1.,  1.,  1.]])\n",
      "tensor([[ 0.,  0.,  0.,  0., -1.,  0.,  0.,  0.,  1.]])\n",
      "tensor([[ 1.,  0.,  0.,  0.,  1.,  0.,  0., -1., -1.]])\n",
      "tensor([[ 0.,  0.,  0.,  0., -1.,  1., -1.,  1.,  1.]])\n",
      "tensor([[ 1.,  0.,  0.,  0.,  1.,  0.,  0.,  0., -1.]])\n",
      "tensor([[0., 0., 0., 0., 0., 0., 0., 0., 1.]])\n",
      "tensor([[ 0.,  0.,  0.,  0., -1.,  1., -1.,  1.,  1.]])\n",
      "tensor([[ 0.,  0.,  0.,  0., -1.,  0.,  0.,  1.,  1.]])\n",
      "tensor([[ 1.,  0.,  0.,  0.,  1.,  0.,  0., -1., -1.]])\n"
     ]
    },
    {
     "name": "stderr",
     "output_type": "stream",
     "text": [
      "\r",
      "  9%|███▍                                   | 896/10000 [00:35<05:21, 28.33it/s]"
     ]
    },
    {
     "name": "stdout",
     "output_type": "stream",
     "text": [
      "tensor([[ 0.,  0.,  0.,  0., -1.,  0.,  0.,  1.,  1.]])\n",
      "tensor([[ 0.,  0.,  0.,  0., -1.,  0.,  0.,  0.,  1.]])\n",
      "tensor([[ 0.,  0.,  0.,  0., -1.,  1., -1.,  1.,  1.]])\n",
      "tensor([[ 0.,  0.,  1.,  0.,  0.,  0.,  0.,  0., -1.]])\n",
      "tensor([[0., 0., 1., 0., 0., 0., 0., 0., 0.]])\n",
      "tensor([[ 0.,  0.,  0.,  0., -1.,  0.,  0.,  0.,  1.]])\n",
      "tensor([[ 1.,  0.,  0.,  0.,  1.,  0.,  0.,  0., -1.]])\n",
      "tensor([[ 0.,  0.,  0.,  0.,  1.,  0.,  0., -1.,  1.]])\n",
      "tensor([[ 0.,  0.,  0.,  0., -1.,  0.,  0.,  1.,  1.]])\n",
      "tensor([[ 0.,  0.,  0.,  0., -1.,  0.,  0.,  1.,  1.]])\n",
      "tensor([[ 0.,  0.,  0.,  0.,  1.,  0.,  0., -1.,  1.]])\n",
      "tensor([[ 0.,  0.,  0.,  0.,  1.,  0.,  0.,  0., -1.]])\n",
      "tensor([[ 1.,  0.,  0.,  0.,  1.,  0.,  0.,  0., -1.]])\n",
      "tensor([[ 0.,  0.,  1.,  0.,  1.,  0.,  0., -1., -1.]])\n",
      "tensor([[ 1.,  0.,  0.,  0.,  1., -1.,  1., -1., -1.]])\n",
      "tensor([[ 0.,  0.,  0.,  0., -1.,  0.,  0.,  0.,  1.]])\n",
      "tensor([[0., 0., 0., 0., 0., 0., 1., 0., 0.]])\n",
      "tensor([[ 0.,  0.,  0.,  0., -1.,  0.,  0.,  1.,  1.]])\n",
      "tensor([[0., 0., 0., 0., 0., 0., 0., 0., 1.]])\n",
      "tensor([[ 0.,  0.,  0.,  0., -1.,  0.,  0.,  0.,  1.]])\n",
      "tensor([[ 0.,  0.,  0.,  0., -1.,  0., -1.,  1.,  1.]])\n",
      "tensor([[0., 0., 0., 0., 1., 0., 0., 0., 0.]])\n",
      "tensor([[1., 0., 0., 0., 0., 0., 0., 0., 0.]])\n",
      "tensor([[ 1.,  0.,  0.,  0.,  1.,  0.,  0., -1., -1.]])\n",
      "tensor([[ 0.,  0.,  0.,  0.,  1.,  0.,  0.,  0., -1.]])\n",
      "tensor([[ 0.,  0.,  0.,  0., -1.,  0.,  0.,  1.,  1.]])\n",
      "tensor([[ 1.,  0.,  0.,  0.,  1.,  0.,  0., -1., -1.]])\n",
      "tensor([[ 0.,  0.,  0.,  0.,  1.,  0.,  0.,  0., -1.]])\n",
      "tensor([[0., 0., 1., 0., 0., 0., 0., 0., 0.]])\n",
      "tensor([[ 0.,  0.,  0.,  0., -1.,  0., -1.,  1.,  1.]])\n",
      "tensor([[ 0.,  0.,  0.,  0., -1.,  1., -1.,  1.,  1.]])\n",
      "tensor([[ 0.,  0.,  0.,  0.,  0.,  0.,  0., -1.,  1.]])\n"
     ]
    },
    {
     "name": "stderr",
     "output_type": "stream",
     "text": [
      "  9%|███▌                                   | 903/10000 [00:35<05:36, 27.01it/s]"
     ]
    },
    {
     "name": "stdout",
     "output_type": "stream",
     "text": [
      "tensor([[ 0.,  0.,  0.,  0.,  1.,  0., -1., -1.,  1.]])\n",
      "tensor([[ 0.,  0.,  0.,  0., -1.,  0., -1.,  1.,  1.]])\n",
      "tensor([[ 0.,  0.,  0.,  0.,  1.,  0., -1., -1.,  1.]])\n",
      "tensor([[ 0.,  0.,  0.,  0., -1.,  1., -1.,  1.,  1.]])\n",
      "tensor([[ 0.,  0.,  0.,  0., -1.,  0.,  0.,  1.,  1.]])\n",
      "tensor([[ 0.,  0.,  0.,  0., -1.,  1., -1.,  1.,  1.]])\n",
      "tensor([[ 0.,  0.,  0.,  0., -1.,  0., -1.,  1.,  1.]])\n",
      "tensor([[ 0.,  0.,  0.,  0.,  1.,  0.,  0., -1.,  1.]])\n",
      "tensor([[0., 0., 0., 0., 0., 0., 0., 0., 1.]])\n",
      "tensor([[ 0.,  0.,  1.,  0.,  0.,  0.,  0.,  0., -1.]])\n",
      "tensor([[ 1.,  0.,  0.,  0.,  1.,  0.,  0., -1., -1.]])\n",
      "tensor([[ 0.,  0.,  0.,  0., -1.,  0.,  0.,  0.,  1.]])\n",
      "tensor([[0., 0., 0., 0., 0., 0., 0., 0., 1.]])\n",
      "tensor([[ 0.,  0.,  0.,  0., -1.,  0.,  0.,  0.,  1.]])\n",
      "tensor([[0., 0., 0., 0., 0., 0., 0., 0., 1.]])\n",
      "tensor([[0., 0., 0., 0., 0., 0., 0., 0., 1.]])\n",
      "tensor([[0., 0., 0., 0., 0., 0., 0., 0., 1.]])\n",
      "tensor([[ 0.,  0.,  0.,  0.,  0.,  0.,  1.,  0., -1.]])\n",
      "tensor([[ 1.,  0.,  0.,  0.,  1.,  0.,  0.,  0., -1.]])\n",
      "tensor([[ 0.,  0.,  0.,  0., -1.,  0.,  0.,  0.,  1.]])\n",
      "tensor([[1., 0., 0., 0., 0., 0., 0., 0., 0.]])\n",
      "tensor([[ 0.,  0.,  0.,  0., -1.,  1., -1.,  1.,  1.]])\n",
      "tensor([[ 1.,  0.,  0.,  0.,  1.,  0.,  0., -1., -1.]])\n"
     ]
    },
    {
     "name": "stderr",
     "output_type": "stream",
     "text": [
      "  9%|███▌                                   | 909/10000 [00:35<05:34, 27.19it/s]"
     ]
    },
    {
     "name": "stdout",
     "output_type": "stream",
     "text": [
      "tensor([[ 0.,  0.,  0.,  0.,  1.,  0.,  0., -1.,  1.]])\n",
      "tensor([[0., 0., 0., 0., 1., 0., 0., 0., 0.]])\n",
      "tensor([[0., 0., 1., 0., 0., 0., 0., 0., 0.]])\n",
      "tensor([[ 0.,  0.,  0.,  0., -1.,  0.,  0.,  1.,  1.]])\n",
      "tensor([[ 0.,  0.,  1.,  0.,  0.,  0.,  0.,  0., -1.]])\n",
      "tensor([[0., 0., 0., 0., 0., 0., 0., 0., 1.]])\n",
      "tensor([[ 0.,  0.,  0.,  0., -1.,  0.,  0.,  0.,  1.]])\n",
      "tensor([[ 0.,  0.,  0.,  0.,  1.,  0.,  0., -1.,  1.]])\n",
      "tensor([[ 0.,  0.,  0.,  0., -1.,  0., -1.,  1.,  1.]])\n",
      "tensor([[ 0.,  0.,  1.,  0.,  0.,  0.,  0.,  0., -1.]])\n",
      "tensor([[ 0.,  0.,  0.,  0., -1.,  0.,  0.,  0.,  1.]])\n",
      "tensor([[ 0.,  0.,  0.,  0., -1.,  0.,  0.,  0.,  1.]])\n",
      "tensor([[ 0.,  0.,  0.,  0., -1.,  0.,  0.,  0.,  1.]])\n",
      "tensor([[ 0.,  0.,  0.,  0., -1.,  0., -1.,  1.,  1.]])\n",
      "tensor([[ 1.,  0.,  0.,  0.,  1.,  0.,  1., -1., -1.]])\n",
      "tensor([[ 0.,  0.,  0.,  0.,  1.,  0.,  1., -1., -1.]])\n",
      "tensor([[ 0.,  0.,  0.,  0.,  0.,  0.,  0., -1.,  1.]])\n",
      "tensor([[ 0.,  0.,  0.,  0.,  0.,  0.,  0., -1.,  1.]])\n",
      "tensor([[ 0.,  0.,  0.,  0.,  0.,  0.,  1.,  0., -1.]])\n",
      "tensor([[0., 0., 1., 0., 0., 0., 0., 0., 0.]])\n",
      "tensor([[ 0.,  0.,  0.,  0., -1.,  0., -1.,  1.,  1.]])\n",
      "tensor([[0., 0., 0., 0., 0., 0., 0., 0., 1.]])\n",
      "tensor([[ 0.,  0.,  0.,  0., -1.,  0.,  0.,  1.,  1.]])\n",
      "tensor([[ 0.,  0.,  0.,  0.,  1.,  0.,  1.,  0., -1.]])\n",
      "tensor([[ 0.,  0.,  0.,  0., -1.,  1., -1.,  1.,  1.]])\n",
      "tensor([[ 0.,  0.,  0.,  0.,  1.,  0.,  0., -1.,  1.]])\n",
      "tensor([[ 1.,  0.,  0.,  0.,  1.,  0.,  1., -1., -1.]])\n",
      "tensor([[ 1.,  0.,  0.,  0.,  1.,  0.,  0., -1., -1.]])\n",
      "tensor([[ 0.,  0.,  0.,  0., -1.,  0.,  0.,  1.,  1.]])\n",
      "tensor([[0., 0., 1., 0., 0., 0., 0., 0., 0.]])\n"
     ]
    },
    {
     "name": "stderr",
     "output_type": "stream",
     "text": [
      "\r",
      "  9%|███▌                                   | 912/10000 [00:35<05:53, 25.70it/s]"
     ]
    },
    {
     "name": "stdout",
     "output_type": "stream",
     "text": [
      "tensor([[0., 0., 1., 0., 0., 0., 0., 0., 0.]])\n",
      "tensor([[ 0.,  0.,  0.,  0., -1.,  0.,  0.,  0.,  1.]])\n",
      "tensor([[ 0.,  0.,  0.,  0.,  1.,  0.,  1., -1., -1.]])\n",
      "tensor([[ 0.,  0.,  0.,  0., -1.,  1., -1.,  1.,  1.]])\n",
      "tensor([[ 0.,  0.,  1.,  0.,  1.,  0.,  0.,  0., -1.]])\n",
      "tensor([[ 0.,  0.,  0.,  0., -1.,  1., -1.,  1.,  1.]])\n",
      "tensor([[ 0.,  0.,  0.,  0., -1.,  0.,  0.,  1.,  1.]])\n",
      "tensor([[ 1.,  0.,  0.,  0.,  1.,  0.,  0.,  0., -1.]])\n",
      "tensor([[ 0.,  0.,  0.,  0.,  1.,  0.,  1.,  0., -1.]])\n",
      "tensor([[ 0.,  0.,  1.,  0.,  1.,  0.,  0., -1., -1.]])\n",
      "tensor([[ 0.,  0.,  0.,  0., -1.,  0., -1.,  1.,  1.]])\n",
      "tensor([[ 0.,  0.,  0.,  0., -1.,  0., -1.,  1.,  1.]])\n",
      "tensor([[0., 0., 0., 0., 0., 0., 0., 0., 1.]])\n",
      "tensor([[ 0.,  0.,  0.,  0., -1.,  1., -1.,  1.,  1.]])\n",
      "tensor([[ 1.,  0.,  0.,  0.,  1., -1.,  1., -1., -1.]])\n",
      "tensor([[ 0.,  0.,  0.,  0., -1.,  1., -1.,  1.,  1.]])\n",
      "tensor([[ 0.,  0.,  0.,  0., -1.,  1., -1.,  1.,  1.]])\n",
      "tensor([[ 0.,  0.,  0.,  0., -1.,  1., -1.,  1.,  1.]])\n",
      "tensor([[ 0.,  0.,  0.,  0., -1.,  0., -1.,  1.,  1.]])\n",
      "tensor([[ 0.,  0.,  0.,  0., -1.,  0., -1.,  1.,  1.]])\n",
      "tensor([[ 1.,  0.,  0.,  0.,  1.,  0.,  0., -1., -1.]])\n",
      "tensor([[ 0.,  0.,  1.,  0.,  1.,  0.,  0.,  0., -1.]])\n",
      "tensor([[ 0.,  0.,  0.,  0., -1.,  0.,  0.,  1.,  1.]])\n",
      "tensor([[ 0.,  0.,  0.,  0.,  0.,  0.,  0., -1.,  1.]])\n",
      "tensor([[ 1.,  0.,  0.,  0.,  1., -1.,  1., -1., -1.]])\n"
     ]
    },
    {
     "name": "stderr",
     "output_type": "stream",
     "text": [
      "  9%|███▌                                   | 918/10000 [00:36<05:45, 26.27it/s]"
     ]
    },
    {
     "name": "stdout",
     "output_type": "stream",
     "text": [
      "tensor([[ 0.,  0.,  0.,  0., -1.,  1., -1.,  1.,  1.]])\n",
      "tensor([[ 1.,  0.,  0.,  0.,  1., -1.,  1., -1., -1.]])\n",
      "tensor([[ 0.,  0.,  0.,  0., -1.,  1., -1.,  1.,  1.]])\n",
      "tensor([[ 1.,  0.,  0.,  0.,  0.,  0.,  0.,  0., -1.]])\n",
      "tensor([[ 0.,  0.,  0.,  0., -1.,  0., -1.,  1.,  1.]])\n",
      "tensor([[ 0.,  0.,  0.,  0., -1.,  0.,  0.,  0.,  1.]])\n",
      "tensor([[ 0.,  0.,  0.,  0.,  1.,  0.,  0.,  0., -1.]])\n",
      "tensor([[ 1.,  0.,  0.,  0.,  1.,  0.,  0.,  0., -1.]])\n",
      "tensor([[1., 0., 0., 0., 0., 0., 0., 0., 0.]])\n",
      "tensor([[ 0.,  0.,  0.,  0., -1.,  0.,  0.,  0.,  1.]])\n",
      "tensor([[ 1.,  0.,  0.,  0.,  1.,  0.,  1., -1., -1.]])\n",
      "tensor([[ 0.,  0.,  0.,  0., -1.,  0., -1.,  1.,  1.]])\n",
      "tensor([[0., 0., 0., 0., 0., 0., 0., 0., 1.]])\n",
      "tensor([[ 0.,  0.,  0.,  0., -1.,  0.,  0.,  0.,  1.]])\n",
      "tensor([[ 0.,  0.,  0.,  0.,  1.,  0.,  1.,  0., -1.]])\n",
      "tensor([[ 0.,  0.,  0.,  0., -1.,  1., -1.,  1.,  1.]])\n",
      "tensor([[ 0.,  0.,  0.,  0., -1.,  1., -1.,  1.,  1.]])\n",
      "tensor([[ 1.,  0.,  0.,  0.,  1.,  0.,  1., -1., -1.]])\n",
      "tensor([[ 0.,  0.,  0.,  0., -1.,  0.,  0.,  0.,  1.]])\n",
      "tensor([[ 1.,  0.,  0.,  0.,  0.,  0.,  0.,  0., -1.]])\n",
      "tensor([[ 0.,  0.,  0.,  0., -1.,  0.,  0.,  1.,  1.]])\n",
      "tensor([[ 1.,  0.,  0.,  0.,  1., -1.,  1., -1., -1.]])\n",
      "tensor([[0., 0., 0., 0., 0., 0., 0., 0., 1.]])\n",
      "tensor([[ 1.,  0.,  0.,  0.,  1.,  0.,  0., -1., -1.]])\n",
      "tensor([[ 1.,  0.,  0.,  0.,  1., -1.,  1., -1., -1.]])\n",
      "tensor([[ 1.,  0.,  0.,  0.,  0.,  0.,  0.,  0., -1.]])\n",
      "tensor([[ 0.,  0.,  0.,  0., -1.,  0., -1.,  1.,  1.]])\n",
      "tensor([[0., 0., 0., 0., 0., 0., 0., 0., 1.]])\n",
      "tensor([[ 0.,  0.,  1.,  0.,  1.,  0.,  0., -1., -1.]])\n"
     ]
    },
    {
     "name": "stderr",
     "output_type": "stream",
     "text": [
      "  9%|███▌                                   | 925/10000 [00:36<05:36, 26.94it/s]"
     ]
    },
    {
     "name": "stdout",
     "output_type": "stream",
     "text": [
      "tensor([[ 0.,  0.,  0.,  0., -1.,  0.,  0.,  0.,  1.]])\n",
      "tensor([[ 0.,  0.,  0.,  0., -1.,  1., -1.,  1.,  1.]])\n",
      "tensor([[ 0.,  0.,  0.,  0., -1.,  0.,  0.,  1.,  1.]])\n",
      "tensor([[0., 0., 0., 0., 0., 0., 0., 0., 1.]])\n",
      "tensor([[ 0.,  0.,  0.,  0., -1.,  0., -1.,  1.,  1.]])\n",
      "tensor([[ 0.,  0.,  0.,  0., -1.,  0.,  0.,  0.,  1.]])\n",
      "tensor([[ 0.,  0.,  0.,  0.,  1.,  0.,  0.,  0., -1.]])\n",
      "tensor([[ 1.,  0.,  0.,  0.,  1.,  0.,  0., -1., -1.]])\n",
      "tensor([[ 1.,  0.,  0.,  0.,  1.,  0.,  0.,  0., -1.]])\n",
      "tensor([[ 0.,  0.,  0.,  0., -1.,  1., -1.,  1.,  1.]])\n",
      "tensor([[ 0.,  0.,  0.,  0., -1.,  0.,  0.,  0.,  1.]])\n",
      "tensor([[ 1.,  0.,  0.,  0.,  1.,  0.,  1., -1., -1.]])\n",
      "tensor([[ 0.,  0.,  0.,  0.,  1.,  0., -1., -1.,  1.]])\n",
      "tensor([[0., 0., 0., 0., 0., 0., 0., 0., 1.]])\n",
      "tensor([[ 1.,  0.,  0.,  0.,  1.,  0.,  1., -1., -1.]])\n",
      "tensor([[ 0.,  0.,  0.,  0., -1.,  0.,  0.,  1.,  1.]])\n",
      "tensor([[ 0.,  0.,  0.,  0., -1.,  1., -1.,  1.,  1.]])\n",
      "tensor([[ 1.,  0.,  0.,  0.,  1., -1.,  1., -1., -1.]])\n",
      "tensor([[ 0.,  0.,  0.,  0., -1.,  0., -1.,  1.,  1.]])\n",
      "tensor([[ 0.,  0.,  0.,  0., -1.,  0., -1.,  1.,  1.]])\n",
      "tensor([[ 0.,  0.,  0.,  0.,  0.,  0.,  0., -1.,  1.]])\n",
      "tensor([[0., 0., 0., 0., 0., 0., 0., 0., 1.]])\n",
      "tensor([[0., 0., 0., 0., 1., 0., 0., 0., 0.]])\n",
      "tensor([[ 0.,  0.,  0.,  0.,  1.,  0.,  1., -1., -1.]])\n",
      "tensor([[ 0.,  0.,  0.,  0.,  1.,  0.,  1., -1., -1.]])\n",
      "tensor([[0., 0., 0., 0., 0., 0., 0., 0., 1.]])\n",
      "tensor([[ 0.,  0.,  0.,  0., -1.,  0., -1.,  1.,  1.]])\n"
     ]
    },
    {
     "name": "stderr",
     "output_type": "stream",
     "text": [
      "  9%|███▋                                   | 931/10000 [00:36<05:39, 26.69it/s]"
     ]
    },
    {
     "name": "stdout",
     "output_type": "stream",
     "text": [
      "tensor([[ 0.,  0.,  0.,  0., -1.,  1., -1.,  1.,  1.]])\n",
      "tensor([[ 0.,  0.,  0.,  0., -1.,  0., -1.,  1.,  1.]])\n",
      "tensor([[ 0.,  0.,  0.,  0.,  1.,  0.,  0., -1.,  1.]])\n",
      "tensor([[ 0.,  0.,  0.,  0., -1.,  0.,  0.,  1.,  1.]])\n",
      "tensor([[ 0.,  0.,  0.,  0., -1.,  0.,  0.,  1.,  1.]])\n",
      "tensor([[0., 0., 0., 0., 0., 0., 0., 0., 1.]])\n",
      "tensor([[ 1.,  0.,  0.,  0.,  0.,  0.,  0.,  0., -1.]])\n",
      "tensor([[ 0.,  0.,  0.,  0.,  1.,  0.,  0.,  0., -1.]])\n",
      "tensor([[ 1.,  0.,  0.,  0.,  1.,  0.,  0.,  0., -1.]])\n",
      "tensor([[0., 0., 0., 0., 0., 0., 0., 0., 1.]])\n",
      "tensor([[ 1.,  0.,  0.,  0.,  1., -1.,  1., -1., -1.]])\n",
      "tensor([[ 1.,  0.,  0.,  0.,  0.,  0.,  0.,  0., -1.]])\n",
      "tensor([[ 1.,  0.,  0.,  0.,  1.,  0.,  1., -1., -1.]])\n",
      "tensor([[0., 0., 0., 0., 0., 0., 0., 0., 1.]])\n",
      "tensor([[ 0.,  0.,  0.,  0.,  1.,  0.,  1.,  0., -1.]])\n",
      "tensor([[0., 0., 0., 0., 0., 0., 0., 0., 1.]])\n",
      "tensor([[ 0.,  0.,  0.,  0.,  1.,  0.,  1.,  0., -1.]])\n",
      "tensor([[ 0.,  0.,  0.,  0., -1.,  0.,  0.,  1.,  1.]])\n",
      "tensor([[ 0.,  0.,  0.,  0., -1.,  0.,  0.,  0.,  1.]])\n",
      "tensor([[ 0.,  0.,  0.,  0., -1.,  1., -1.,  1.,  1.]])\n",
      "tensor([[ 1.,  0.,  0.,  0.,  1., -1.,  1., -1., -1.]])\n",
      "tensor([[0., 0., 0., 0., 1., 0., 0., 0., 0.]])\n",
      "tensor([[0., 0., 0., 0., 0., 0., 0., 0., 1.]])\n",
      "tensor([[ 0.,  0.,  0.,  0., -1.,  0., -1.,  1.,  1.]])\n",
      "tensor([[ 0.,  0.,  0.,  0.,  1.,  0.,  0., -1.,  1.]])\n"
     ]
    },
    {
     "name": "stderr",
     "output_type": "stream",
     "text": [
      "  9%|███▋                                   | 937/10000 [00:36<05:48, 26.03it/s]"
     ]
    },
    {
     "name": "stdout",
     "output_type": "stream",
     "text": [
      "tensor([[ 0.,  0.,  0.,  0., -1.,  1., -1.,  1.,  1.]])\n",
      "tensor([[ 0.,  0.,  0.,  0.,  1.,  0., -1., -1.,  1.]])\n",
      "tensor([[ 1.,  0.,  0.,  0.,  1.,  0.,  1., -1., -1.]])\n",
      "tensor([[ 1.,  0.,  0.,  0.,  1., -1.,  1., -1., -1.]])\n",
      "tensor([[0., 0., 1., 0., 0., 0., 0., 0., 0.]])\n",
      "tensor([[ 0.,  0.,  0.,  0., -1.,  0.,  0.,  1.,  1.]])\n",
      "tensor([[0., 0., 1., 0., 0., 0., 0., 0., 0.]])\n",
      "tensor([[ 0.,  0.,  0.,  0.,  0.,  0.,  1.,  0., -1.]])\n",
      "tensor([[ 1.,  0.,  0.,  0.,  1.,  0.,  0.,  0., -1.]])\n",
      "tensor([[ 0.,  0.,  0.,  0., -1.,  0., -1.,  1.,  1.]])\n",
      "tensor([[0., 0., 0., 0., 0., 0., 0., 0., 1.]])\n",
      "tensor([[ 1.,  0.,  0.,  0.,  1.,  0.,  0.,  0., -1.]])\n",
      "tensor([[ 0.,  0.,  0.,  0.,  1.,  0., -1., -1.,  1.]])\n",
      "tensor([[ 0.,  0.,  0.,  0.,  1.,  0.,  1., -1., -1.]])\n",
      "tensor([[0., 0., 0., 0., 0., 0., 0., 0., 1.]])\n",
      "tensor([[ 0.,  0.,  0.,  0., -1.,  1., -1.,  1.,  1.]])\n",
      "tensor([[ 0.,  0.,  1.,  0.,  1.,  0.,  0.,  0., -1.]])\n",
      "tensor([[ 0.,  0.,  0.,  0.,  1.,  0.,  1., -1., -1.]])\n",
      "tensor([[ 0.,  0.,  0.,  0., -1.,  0.,  0.,  0.,  1.]])\n",
      "tensor([[ 0.,  0.,  0.,  0.,  1.,  0., -1., -1.,  1.]])\n",
      "tensor([[ 1.,  0.,  0.,  0.,  1.,  0.,  0.,  0., -1.]])\n",
      "tensor([[ 1.,  0.,  0.,  0.,  1., -1.,  1., -1., -1.]])\n",
      "tensor([[0., 0., 1., 0., 0., 0., 0., 0., 0.]])\n",
      "tensor([[ 1.,  0.,  0.,  0.,  0.,  0.,  0.,  0., -1.]])\n",
      "tensor([[ 0.,  0.,  0.,  0., -1.,  0.,  0.,  1.,  1.]])\n",
      "tensor([[ 0.,  0.,  0.,  0., -1.,  0., -1.,  1.,  1.]])\n"
     ]
    },
    {
     "name": "stderr",
     "output_type": "stream",
     "text": [
      "\r",
      "  9%|███▋                                   | 940/10000 [00:36<06:19, 23.89it/s]"
     ]
    },
    {
     "name": "stdout",
     "output_type": "stream",
     "text": [
      "tensor([[0., 0., 0., 0., 0., 0., 0., 0., 1.]])\n",
      "tensor([[ 0.,  0.,  0.,  0., -1.,  0.,  0.,  0.,  1.]])\n",
      "tensor([[ 0.,  0.,  0.,  0., -1.,  0., -1.,  1.,  1.]])\n",
      "tensor([[0., 0., 0., 0., 0., 0., 0., 0., 1.]])\n",
      "tensor([[ 1.,  0.,  0.,  0.,  1.,  0.,  0., -1., -1.]])\n",
      "tensor([[ 0.,  0.,  0.,  0.,  1.,  0.,  0.,  0., -1.]])\n",
      "tensor([[0., 0., 0., 0., 0., 0., 0., 0., 1.]])\n",
      "tensor([[0., 0., 0., 0., 0., 0., 0., 0., 1.]])\n",
      "tensor([[ 0.,  0.,  1.,  0.,  1.,  0.,  0., -1., -1.]])\n",
      "tensor([[ 0.,  0.,  0.,  0., -1.,  1., -1.,  1.,  1.]])\n",
      "tensor([[0., 0., 0., 0., 1., 0., 0., 0., 0.]])\n",
      "tensor([[ 0.,  0.,  0.,  0., -1.,  1., -1.,  1.,  1.]])\n",
      "tensor([[ 0.,  0.,  0.,  0., -1.,  0.,  0.,  0.,  1.]])\n",
      "tensor([[ 0.,  0.,  0.,  0., -1.,  0.,  0.,  1.,  1.]])\n",
      "tensor([[ 0.,  0.,  0.,  0.,  0.,  0.,  1.,  0., -1.]])\n",
      "tensor([[ 1.,  0.,  0.,  0.,  1.,  0.,  0.,  0., -1.]])\n",
      "tensor([[0., 0., 0., 0., 0., 0., 0., 0., 1.]])\n",
      "tensor([[ 0.,  0.,  0.,  0.,  1.,  0.,  0.,  0., -1.]])\n",
      "tensor([[ 0.,  0.,  0.,  0.,  1.,  0.,  0., -1.,  1.]])\n",
      "tensor([[ 0.,  0.,  0.,  0., -1.,  0., -1.,  1.,  1.]])\n",
      "tensor([[ 0.,  0.,  0.,  0., -1.,  0.,  0.,  0.,  1.]])\n",
      "tensor([[ 1.,  0.,  0.,  0.,  0.,  0.,  0.,  0., -1.]])\n",
      "tensor([[0., 0., 0., 0., 0., 0., 0., 0., 1.]])\n",
      "tensor([[ 0.,  0.,  0.,  0.,  1.,  0.,  1.,  0., -1.]])\n",
      "tensor([[0., 0., 1., 0., 0., 0., 0., 0., 0.]])\n",
      "tensor([[ 0.,  0.,  1.,  0.,  0.,  0.,  0.,  0., -1.]])\n"
     ]
    },
    {
     "name": "stderr",
     "output_type": "stream",
     "text": [
      "  9%|███▋                                   | 946/10000 [00:37<06:32, 23.05it/s]"
     ]
    },
    {
     "name": "stdout",
     "output_type": "stream",
     "text": [
      "tensor([[ 0.,  0.,  0.,  0., -1.,  0.,  0.,  0.,  1.]])\n",
      "tensor([[1., 0., 0., 0., 0., 0., 0., 0., 0.]])\n",
      "tensor([[ 1.,  0.,  0.,  0.,  1., -1.,  1., -1., -1.]])\n",
      "tensor([[ 1.,  0.,  0.,  0.,  1.,  0.,  0., -1., -1.]])\n",
      "tensor([[ 0.,  0.,  0.,  0., -1.,  0.,  0.,  0.,  1.]])\n",
      "tensor([[0., 0., 0., 0., 1., 0., 0., 0., 0.]])\n",
      "tensor([[ 0.,  0.,  0.,  0., -1.,  0.,  0.,  0.,  1.]])\n",
      "tensor([[ 0.,  0.,  0.,  0.,  1.,  0., -1., -1.,  1.]])\n",
      "tensor([[0., 0., 0., 0., 0., 0., 0., 0., 1.]])\n",
      "tensor([[ 1.,  0.,  0.,  0.,  1., -1.,  1., -1., -1.]])\n",
      "tensor([[ 1.,  0.,  0.,  0.,  1.,  0.,  1., -1., -1.]])\n",
      "tensor([[ 0.,  0.,  0.,  0.,  1.,  0.,  0.,  0., -1.]])\n",
      "tensor([[ 0.,  0.,  0.,  0., -1.,  0.,  0.,  1.,  1.]])\n",
      "tensor([[ 0.,  0.,  0.,  0., -1.,  1., -1.,  1.,  1.]])\n",
      "tensor([[ 1.,  0.,  0.,  0.,  1., -1.,  1., -1., -1.]])\n",
      "tensor([[0., 0., 1., 0., 0., 0., 0., 0., 0.]])\n",
      "tensor([[ 0.,  0.,  0.,  0., -1.,  0., -1.,  1.,  1.]])\n",
      "tensor([[0., 0., 0., 0., 0., 0., 0., 0., 1.]])\n",
      "tensor([[0., 0., 0., 0., 0., 0., 0., 0., 1.]])\n",
      "tensor([[ 0.,  0.,  0.,  0.,  1.,  0.,  1.,  0., -1.]])\n",
      "tensor([[ 0.,  0.,  0.,  0.,  1.,  0.,  0., -1.,  1.]])\n",
      "tensor([[ 0.,  0.,  0.,  0., -1.,  1., -1.,  1.,  1.]])\n",
      "tensor([[ 0.,  0.,  0.,  0., -1.,  0., -1.,  1.,  1.]])\n",
      "tensor([[0., 0., 0., 0., 0., 0., 0., 0., 1.]])\n",
      "tensor([[ 0.,  0.,  0.,  0., -1.,  0., -1.,  1.,  1.]])\n"
     ]
    },
    {
     "name": "stderr",
     "output_type": "stream",
     "text": [
      " 10%|███▋                                   | 952/10000 [00:37<06:05, 24.75it/s]"
     ]
    },
    {
     "name": "stdout",
     "output_type": "stream",
     "text": [
      "tensor([[ 0.,  0.,  1.,  0.,  0.,  0.,  0.,  0., -1.]])\n",
      "tensor([[0., 0., 0., 0., 0., 0., 0., 0., 1.]])\n",
      "tensor([[0., 0., 1., 0., 0., 0., 0., 0., 0.]])\n",
      "tensor([[0., 0., 0., 0., 0., 0., 0., 0., 1.]])\n",
      "tensor([[ 1.,  0.,  0.,  0.,  1., -1.,  1., -1., -1.]])\n",
      "tensor([[ 0.,  0.,  0.,  0., -1.,  0.,  0.,  1.,  1.]])\n",
      "tensor([[ 0.,  0.,  0.,  0., -1.,  1., -1.,  1.,  1.]])\n",
      "tensor([[0., 0., 0., 0., 0., 0., 0., 0., 1.]])\n",
      "tensor([[1., 0., 0., 0., 0., 0., 0., 0., 0.]])\n",
      "tensor([[ 0.,  0.,  0.,  0., -1.,  0., -1.,  1.,  1.]])\n",
      "tensor([[ 0.,  0.,  0.,  0., -1.,  0.,  0.,  0.,  1.]])\n",
      "tensor([[ 0.,  0.,  0.,  0., -1.,  1., -1.,  1.,  1.]])\n",
      "tensor([[ 0.,  0.,  0.,  0.,  1.,  0.,  1.,  0., -1.]])\n",
      "tensor([[ 0.,  0.,  0.,  0., -1.,  0.,  0.,  1.,  1.]])\n",
      "tensor([[ 1.,  0.,  0.,  0.,  1.,  0.,  0., -1., -1.]])\n",
      "tensor([[ 0.,  0.,  0.,  0., -1.,  0.,  0.,  1.,  1.]])\n",
      "tensor([[ 1.,  0.,  0.,  0.,  1.,  0.,  1., -1., -1.]])\n",
      "tensor([[ 0.,  0.,  0.,  0.,  1.,  0.,  1.,  0., -1.]])\n",
      "tensor([[0., 0., 0., 0., 0., 0., 0., 0., 1.]])\n",
      "tensor([[ 1.,  0.,  0.,  0.,  1., -1.,  1., -1., -1.]])\n",
      "tensor([[0., 0., 0., 0., 0., 0., 0., 0., 1.]])\n",
      "tensor([[ 0.,  0.,  0.,  0., -1.,  0., -1.,  1.,  1.]])\n",
      "tensor([[ 0.,  0.,  0.,  0.,  0.,  0.,  1.,  0., -1.]])\n",
      "tensor([[ 0.,  0.,  0.,  0.,  1.,  0.,  1.,  0., -1.]])\n",
      "tensor([[ 0.,  0.,  0.,  0., -1.,  0., -1.,  1.,  1.]])\n"
     ]
    },
    {
     "name": "stderr",
     "output_type": "stream",
     "text": [
      "\r",
      " 10%|███▋                                   | 955/10000 [00:37<05:57, 25.33it/s]"
     ]
    },
    {
     "name": "stdout",
     "output_type": "stream",
     "text": [
      "tensor([[1., 0., 0., 0., 0., 0., 0., 0., 0.]])\n",
      "tensor([[ 0.,  0.,  0.,  0., -1.,  0.,  0.,  0.,  1.]])\n",
      "tensor([[ 0.,  0.,  0.,  0., -1.,  1., -1.,  1.,  1.]])\n",
      "tensor([[ 0.,  0.,  0.,  0., -1.,  0.,  0.,  1.,  1.]])\n",
      "tensor([[1., 0., 0., 0., 0., 0., 0., 0., 0.]])\n",
      "tensor([[ 1.,  0.,  0.,  0.,  1.,  0.,  1., -1., -1.]])\n",
      "tensor([[ 1.,  0.,  0.,  0.,  1.,  0.,  0., -1., -1.]])\n",
      "tensor([[ 0.,  0.,  0.,  0., -1.,  0., -1.,  1.,  1.]])\n",
      "tensor([[ 0.,  0.,  0.,  0.,  1.,  0., -1., -1.,  1.]])\n",
      "tensor([[ 1.,  0.,  0.,  0.,  1.,  0.,  0.,  0., -1.]])\n",
      "tensor([[ 0.,  0.,  0.,  0., -1.,  1., -1.,  1.,  1.]])\n",
      "tensor([[ 0.,  0.,  0.,  0.,  0.,  0.,  1.,  0., -1.]])\n",
      "tensor([[ 0.,  0.,  0.,  0., -1.,  1., -1.,  1.,  1.]])\n",
      "tensor([[ 0.,  0.,  0.,  0., -1.,  0.,  0.,  1.,  1.]])\n",
      "tensor([[ 1.,  0.,  0.,  0.,  1.,  0.,  0., -1., -1.]])\n",
      "tensor([[ 0.,  0.,  0.,  0., -1.,  1., -1.,  1.,  1.]])\n",
      "tensor([[ 1.,  0.,  0.,  0.,  1.,  0.,  1., -1., -1.]])\n",
      "tensor([[ 0.,  0.,  0.,  0.,  0.,  0.,  1.,  0., -1.]])\n",
      "tensor([[ 1.,  0.,  0.,  0.,  1.,  0.,  1., -1., -1.]])\n",
      "tensor([[ 0.,  0.,  0.,  0., -1.,  0.,  0.,  0.,  1.]])\n",
      "tensor([[ 0.,  0.,  0.,  0.,  0.,  0.,  0., -1.,  1.]])\n",
      "tensor([[ 1.,  0.,  0.,  0.,  1.,  0.,  0., -1., -1.]])\n",
      "tensor([[ 0.,  0.,  0.,  0., -1.,  1., -1.,  1.,  1.]])\n",
      "tensor([[ 0.,  0.,  0.,  0., -1.,  0.,  0.,  1.,  1.]])\n",
      "tensor([[ 0.,  0.,  0.,  0., -1.,  1., -1.,  1.,  1.]])\n",
      "tensor([[ 0.,  0.,  1.,  0.,  1.,  0.,  0.,  0., -1.]])\n",
      "tensor([[ 1.,  0.,  0.,  0.,  1.,  0.,  0., -1., -1.]])\n",
      "tensor([[ 0.,  0.,  1.,  0.,  1.,  0.,  0.,  0., -1.]])\n"
     ]
    },
    {
     "name": "stderr",
     "output_type": "stream",
     "text": [
      " 10%|███▋                                   | 961/10000 [00:37<05:50, 25.78it/s]"
     ]
    },
    {
     "name": "stdout",
     "output_type": "stream",
     "text": [
      "tensor([[ 0.,  0.,  0.,  0., -1.,  1., -1.,  1.,  1.]])\n",
      "tensor([[0., 0., 1., 0., 0., 0., 0., 0., 0.]])\n",
      "tensor([[ 0.,  0.,  0.,  0., -1.,  0.,  0.,  1.,  1.]])\n",
      "tensor([[0., 0., 0., 0., 0., 0., 0., 0., 1.]])\n",
      "tensor([[ 0.,  0.,  0.,  0., -1.,  0.,  0.,  0.,  1.]])\n",
      "tensor([[ 0.,  0.,  0.,  0., -1.,  1., -1.,  1.,  1.]])\n",
      "tensor([[ 0.,  0.,  0.,  0., -1.,  0., -1.,  1.,  1.]])\n",
      "tensor([[ 0.,  0.,  0.,  0., -1.,  1., -1.,  1.,  1.]])\n",
      "tensor([[ 0.,  0.,  0.,  0., -1.,  0., -1.,  1.,  1.]])\n",
      "tensor([[0., 0., 1., 0., 0., 0., 0., 0., 0.]])\n",
      "tensor([[ 0.,  0.,  0.,  0., -1.,  0., -1.,  1.,  1.]])\n",
      "tensor([[0., 0., 0., 0., 0., 0., 0., 0., 1.]])\n",
      "tensor([[ 0.,  0.,  0.,  0., -1.,  1., -1.,  1.,  1.]])\n",
      "tensor([[ 1.,  0.,  0.,  0.,  1.,  0.,  0., -1., -1.]])\n",
      "tensor([[ 0.,  0.,  0.,  0.,  0.,  0.,  0., -1.,  1.]])\n",
      "tensor([[0., 0., 0., 0., 0., 0., 0., 0., 1.]])\n",
      "tensor([[ 0.,  0.,  0.,  0., -1.,  1., -1.,  1.,  1.]])\n",
      "tensor([[ 1.,  0.,  0.,  0.,  1., -1.,  1., -1., -1.]])\n",
      "tensor([[ 0.,  0.,  0.,  0., -1.,  0.,  0.,  1.,  1.]])\n",
      "tensor([[ 0.,  0.,  0.,  0., -1.,  0.,  0.,  0.,  1.]])\n",
      "tensor([[ 1.,  0.,  0.,  0.,  1.,  0.,  0.,  0., -1.]])\n",
      "tensor([[ 0.,  0.,  1.,  0.,  0.,  0.,  0.,  0., -1.]])\n",
      "tensor([[ 0.,  0.,  0.,  0., -1.,  0.,  0.,  1.,  1.]])\n",
      "tensor([[ 1.,  0.,  0.,  0.,  1.,  0.,  0., -1., -1.]])\n",
      "tensor([[ 0.,  0.,  0.,  0., -1.,  0., -1.,  1.,  1.]])\n",
      "tensor([[ 0.,  0.,  0.,  0.,  1.,  0., -1., -1.,  1.]])\n",
      "tensor([[ 0.,  0.,  0.,  0., -1.,  0.,  0.,  0.,  1.]])\n",
      "tensor([[ 0.,  0.,  0.,  0., -1.,  0.,  0.,  0.,  1.]])\n",
      "tensor([[ 0.,  0.,  0.,  0., -1.,  0.,  0.,  1.,  1.]])\n"
     ]
    },
    {
     "name": "stderr",
     "output_type": "stream",
     "text": [
      "\r",
      " 10%|███▊                                   | 965/10000 [00:37<05:31, 27.22it/s]"
     ]
    },
    {
     "name": "stdout",
     "output_type": "stream",
     "text": [
      "tensor([[0., 0., 0., 0., 0., 0., 0., 0., 1.]])\n",
      "tensor([[ 0.,  0.,  0.,  0., -1.,  1., -1.,  1.,  1.]])\n",
      "tensor([[ 0.,  0.,  0.,  0.,  1.,  0.,  0.,  0., -1.]])\n",
      "tensor([[0., 0., 0., 0., 0., 0., 1., 0., 0.]])\n",
      "tensor([[ 0.,  0.,  0.,  0., -1.,  0.,  0.,  0.,  1.]])\n",
      "tensor([[ 1.,  0.,  0.,  0.,  1., -1.,  1., -1., -1.]])\n",
      "tensor([[ 0.,  0.,  0.,  0., -1.,  0.,  0.,  1.,  1.]])\n",
      "tensor([[0., 0., 0., 0., 1., 0., 0., 0., 0.]])\n",
      "tensor([[ 0.,  0.,  0.,  0., -1.,  0.,  0.,  0.,  1.]])\n",
      "tensor([[0., 0., 0., 0., 1., 0., 0., 0., 0.]])\n",
      "tensor([[ 1.,  0.,  0.,  0.,  1.,  0.,  0.,  0., -1.]])\n",
      "tensor([[ 1.,  0.,  0.,  0.,  1.,  0.,  1., -1., -1.]])\n",
      "tensor([[0., 0., 0., 0., 0., 0., 0., 0., 1.]])\n",
      "tensor([[1., 0., 0., 0., 0., 0., 0., 0., 0.]])\n",
      "tensor([[ 1.,  0.,  0.,  0.,  1.,  0.,  0.,  0., -1.]])\n",
      "tensor([[ 0.,  0.,  0.,  0., -1.,  0., -1.,  1.,  1.]])\n",
      "tensor([[ 1.,  0.,  0.,  0.,  0.,  0.,  0.,  0., -1.]])\n"
     ]
    },
    {
     "name": "stderr",
     "output_type": "stream",
     "text": [
      " 10%|███▊                                   | 971/10000 [00:38<06:34, 22.86it/s]"
     ]
    },
    {
     "name": "stdout",
     "output_type": "stream",
     "text": [
      "tensor([[ 0.,  0.,  1.,  0.,  1.,  0.,  0., -1., -1.]])\n",
      "tensor([[ 0.,  0.,  1.,  0.,  0.,  0.,  0.,  0., -1.]])\n",
      "tensor([[0., 0., 0., 0., 0., 0., 0., 0., 1.]])\n",
      "tensor([[ 0.,  0.,  0.,  0., -1.,  0.,  0.,  1.,  1.]])\n",
      "tensor([[0., 0., 0., 0., 0., 0., 1., 0., 0.]])\n",
      "tensor([[ 1.,  0.,  0.,  0.,  1.,  0.,  0.,  0., -1.]])\n",
      "tensor([[ 0.,  0.,  0.,  0.,  1.,  0.,  1., -1., -1.]])\n",
      "tensor([[ 0.,  0.,  0.,  0., -1.,  0., -1.,  1.,  1.]])\n",
      "tensor([[ 0.,  0.,  0.,  0., -1.,  0.,  0.,  0.,  1.]])\n",
      "tensor([[ 0.,  0.,  0.,  0., -1.,  0.,  0.,  1.,  1.]])\n",
      "tensor([[ 0.,  0.,  0.,  0., -1.,  0.,  0.,  1.,  1.]])\n",
      "tensor([[1., 0., 0., 0., 0., 0., 0., 0., 0.]])\n",
      "tensor([[ 0.,  0.,  0.,  0., -1.,  1., -1.,  1.,  1.]])\n",
      "tensor([[ 0.,  0.,  0.,  0., -1.,  0., -1.,  1.,  1.]])\n",
      "tensor([[0., 0., 0., 0., 0., 0., 0., 0., 1.]])\n",
      "tensor([[ 1.,  0.,  0.,  0.,  1., -1.,  1., -1., -1.]])\n",
      "tensor([[0., 0., 0., 0., 0., 0., 0., 0., 1.]])\n",
      "tensor([[ 0.,  0.,  0.,  0., -1.,  0.,  0.,  1.,  1.]])\n",
      "tensor([[ 0.,  0.,  0.,  0., -1.,  1., -1.,  1.,  1.]])\n",
      "tensor([[ 1.,  0.,  0.,  0.,  1., -1.,  1., -1., -1.]])\n",
      "tensor([[ 0.,  0.,  0.,  0.,  1.,  0.,  0.,  0., -1.]])\n",
      "tensor([[ 0.,  0.,  0.,  0., -1.,  0.,  0.,  1.,  1.]])\n",
      "tensor([[ 1.,  0.,  0.,  0.,  1.,  0.,  0., -1., -1.]])\n"
     ]
    },
    {
     "name": "stderr",
     "output_type": "stream",
     "text": [
      " 10%|███▊                                   | 977/10000 [00:38<06:08, 24.48it/s]"
     ]
    },
    {
     "name": "stdout",
     "output_type": "stream",
     "text": [
      "tensor([[0., 0., 0., 0., 0., 0., 1., 0., 0.]])\n",
      "tensor([[ 0.,  0.,  0.,  0., -1.,  1., -1.,  1.,  1.]])\n",
      "tensor([[ 1.,  0.,  0.,  0.,  1.,  0.,  0., -1., -1.]])\n",
      "tensor([[ 0.,  0.,  0.,  0., -1.,  1., -1.,  1.,  1.]])\n",
      "tensor([[ 0.,  0.,  0.,  0., -1.,  0.,  0.,  0.,  1.]])\n",
      "tensor([[ 0.,  0.,  0.,  0., -1.,  1., -1.,  1.,  1.]])\n",
      "tensor([[ 0.,  0.,  0.,  0., -1.,  0.,  0.,  1.,  1.]])\n",
      "tensor([[0., 0., 0., 0., 0., 0., 0., 0., 1.]])\n",
      "tensor([[0., 0., 0., 0., 0., 0., 1., 0., 0.]])\n",
      "tensor([[ 0.,  0.,  0.,  0.,  0.,  0.,  0., -1.,  1.]])\n",
      "tensor([[ 1.,  0.,  0.,  0.,  1.,  0.,  0., -1., -1.]])\n",
      "tensor([[ 1.,  0.,  0.,  0.,  1.,  0.,  0., -1., -1.]])\n",
      "tensor([[0., 0., 0., 0., 1., 0., 0., 0., 0.]])\n",
      "tensor([[ 0.,  0.,  0.,  0., -1.,  1., -1.,  1.,  1.]])\n",
      "tensor([[ 0.,  0.,  1.,  0.,  0.,  0.,  0.,  0., -1.]])\n",
      "tensor([[0., 0., 0., 0., 0., 0., 0., 0., 1.]])\n",
      "tensor([[ 0.,  0.,  0.,  0., -1.,  0.,  0.,  1.,  1.]])\n",
      "tensor([[ 1.,  0.,  0.,  0.,  1., -1.,  1., -1., -1.]])\n",
      "tensor([[ 0.,  0.,  0.,  0.,  1.,  0.,  0.,  0., -1.]])\n",
      "tensor([[ 0.,  0.,  0.,  0., -1.,  1., -1.,  1.,  1.]])\n",
      "tensor([[0., 0., 0., 0., 0., 0., 1., 0., 0.]])\n",
      "tensor([[ 1.,  0.,  0.,  0.,  0.,  0.,  0.,  0., -1.]])\n"
     ]
    },
    {
     "name": "stderr",
     "output_type": "stream",
     "text": [
      " 10%|███▊                                   | 983/10000 [00:38<05:53, 25.50it/s]"
     ]
    },
    {
     "name": "stdout",
     "output_type": "stream",
     "text": [
      "tensor([[ 0.,  0.,  0.,  0.,  0.,  0.,  0., -1.,  1.]])\n",
      "tensor([[ 0.,  0.,  0.,  0.,  1.,  0.,  1.,  0., -1.]])\n",
      "tensor([[0., 0., 0., 0., 0., 0., 0., 0., 1.]])\n",
      "tensor([[0., 0., 0., 0., 1., 0., 0., 0., 0.]])\n",
      "tensor([[0., 0., 0., 0., 0., 0., 0., 0., 1.]])\n",
      "tensor([[ 0.,  0.,  0.,  0., -1.,  1., -1.,  1.,  1.]])\n",
      "tensor([[ 0.,  0.,  0.,  0.,  1.,  0.,  0.,  0., -1.]])\n",
      "tensor([[0., 0., 0., 0., 0., 0., 0., 0., 1.]])\n",
      "tensor([[0., 0., 1., 0., 0., 0., 0., 0., 0.]])\n",
      "tensor([[0., 0., 0., 0., 0., 0., 1., 0., 0.]])\n",
      "tensor([[ 0.,  0.,  0.,  0., -1.,  0., -1.,  1.,  1.]])\n",
      "tensor([[ 0.,  0.,  0.,  0., -1.,  1., -1.,  1.,  1.]])\n",
      "tensor([[ 0.,  0.,  0.,  0.,  1.,  0.,  0., -1.,  1.]])\n",
      "tensor([[ 0.,  0.,  0.,  0., -1.,  0.,  0.,  0.,  1.]])\n",
      "tensor([[ 0.,  0.,  0.,  0.,  1.,  0.,  0.,  0., -1.]])\n",
      "tensor([[ 0.,  0.,  0.,  0.,  1.,  0.,  0., -1.,  1.]])\n",
      "tensor([[ 0.,  0.,  0.,  0., -1.,  0., -1.,  1.,  1.]])\n",
      "tensor([[ 0.,  0.,  0.,  0., -1.,  0.,  0.,  0.,  1.]])\n",
      "tensor([[0., 0., 1., 0., 0., 0., 0., 0., 0.]])\n",
      "tensor([[ 0.,  0.,  0.,  0.,  1.,  0.,  0., -1.,  1.]])\n",
      "tensor([[ 0.,  0.,  0.,  0., -1.,  0.,  0.,  0.,  1.]])\n",
      "tensor([[1., 0., 0., 0., 0., 0., 0., 0., 0.]])\n",
      "tensor([[ 0.,  0.,  0.,  0., -1.,  0., -1.,  1.,  1.]])\n",
      "tensor([[ 0.,  0.,  0.,  0., -1.,  0., -1.,  1.,  1.]])\n",
      "tensor([[ 1.,  0.,  0.,  0.,  1.,  0.,  0., -1., -1.]])\n",
      "tensor([[ 0.,  0.,  0.,  0., -1.,  0., -1.,  1.,  1.]])\n",
      "tensor([[0., 0., 0., 0., 0., 0., 0., 0., 1.]])\n",
      "tensor([[ 0.,  0.,  1.,  0.,  1.,  0.,  0.,  0., -1.]])\n"
     ]
    },
    {
     "name": "stderr",
     "output_type": "stream",
     "text": [
      "\r",
      " 10%|███▊                                   | 986/10000 [00:38<05:57, 25.22it/s]"
     ]
    },
    {
     "name": "stdout",
     "output_type": "stream",
     "text": [
      "tensor([[ 0.,  0.,  0.,  0., -1.,  0.,  0.,  0.,  1.]])\n",
      "tensor([[ 0.,  0.,  0.,  0., -1.,  0.,  0.,  0.,  1.]])\n",
      "tensor([[0., 0., 0., 0., 0., 0., 0., 0., 1.]])\n",
      "tensor([[ 0.,  0.,  0.,  0.,  1.,  0.,  0., -1.,  1.]])\n",
      "tensor([[ 0.,  0.,  0.,  0., -1.,  1., -1.,  1.,  1.]])\n",
      "tensor([[0., 0., 0., 0., 1., 0., 0., 0., 0.]])\n",
      "tensor([[ 0.,  0.,  1.,  0.,  0.,  0.,  0.,  0., -1.]])\n",
      "tensor([[ 0.,  0.,  0.,  0., -1.,  0.,  0.,  1.,  1.]])\n",
      "tensor([[ 0.,  0.,  0.,  0.,  1.,  0.,  0., -1.,  1.]])\n",
      "tensor([[ 0.,  0.,  0.,  0., -1.,  0.,  0.,  1.,  1.]])\n",
      "tensor([[ 0.,  0.,  0.,  0., -1.,  0.,  0.,  1.,  1.]])\n",
      "tensor([[1., 0., 0., 0., 0., 0., 0., 0., 0.]])\n",
      "tensor([[ 0.,  0.,  0.,  0., -1.,  0.,  0.,  0.,  1.]])\n",
      "tensor([[ 0.,  0.,  0.,  0., -1.,  0.,  0.,  1.,  1.]])\n",
      "tensor([[ 0.,  0.,  0.,  0., -1.,  0., -1.,  1.,  1.]])\n",
      "tensor([[ 0.,  0.,  0.,  0.,  1.,  0.,  1.,  0., -1.]])\n",
      "tensor([[ 1.,  0.,  0.,  0.,  1., -1.,  1., -1., -1.]])\n",
      "tensor([[ 0.,  0.,  0.,  0., -1.,  0.,  0.,  0.,  1.]])\n",
      "tensor([[ 1.,  0.,  0.,  0.,  1.,  0.,  1., -1., -1.]])\n",
      "tensor([[ 1.,  0.,  0.,  0.,  1.,  0.,  0., -1., -1.]])\n",
      "tensor([[ 0.,  0.,  1.,  0.,  1.,  0.,  0., -1., -1.]])\n",
      "tensor([[ 1.,  0.,  0.,  0.,  1.,  0.,  1., -1., -1.]])\n",
      "tensor([[ 0.,  0.,  0.,  0., -1.,  0.,  0.,  0.,  1.]])\n",
      "tensor([[ 0.,  0.,  0.,  0.,  1.,  0.,  0.,  0., -1.]])\n",
      "tensor([[ 0.,  0.,  0.,  0., -1.,  0.,  0.,  1.,  1.]])\n",
      "tensor([[ 1.,  0.,  0.,  0.,  1., -1.,  1., -1., -1.]])\n",
      "tensor([[ 1.,  0.,  0.,  0.,  1.,  0.,  0.,  0., -1.]])\n",
      "tensor([[ 0.,  0.,  0.,  0., -1.,  1., -1.,  1.,  1.]])\n",
      "tensor([[ 1.,  0.,  0.,  0.,  1.,  0.,  1., -1., -1.]])\n",
      "tensor([[0., 0., 0., 0., 0., 0., 1., 0., 0.]])\n",
      "tensor([[ 0.,  0.,  0.,  0., -1.,  0., -1.,  1.,  1.]])\n"
     ]
    },
    {
     "name": "stderr",
     "output_type": "stream",
     "text": [
      " 10%|███▊                                   | 993/10000 [00:39<05:32, 27.12it/s]"
     ]
    },
    {
     "name": "stdout",
     "output_type": "stream",
     "text": [
      "tensor([[0., 0., 0., 0., 0., 0., 0., 0., 1.]])\n",
      "tensor([[ 1.,  0.,  0.,  0.,  1.,  0.,  0.,  0., -1.]])\n",
      "tensor([[ 1.,  0.,  0.,  0.,  1.,  0.,  0.,  0., -1.]])\n",
      "tensor([[ 0.,  0.,  0.,  0., -1.,  0.,  0.,  1.,  1.]])\n",
      "tensor([[ 0.,  0.,  0.,  0., -1.,  0.,  0.,  1.,  1.]])\n",
      "tensor([[ 0.,  0.,  1.,  0.,  1.,  0.,  0.,  0., -1.]])\n",
      "tensor([[0., 0., 0., 0., 0., 0., 1., 0., 0.]])\n",
      "tensor([[0., 0., 1., 0., 0., 0., 0., 0., 0.]])\n",
      "tensor([[ 1.,  0.,  0.,  0.,  1.,  0.,  1., -1., -1.]])\n",
      "tensor([[ 0.,  0.,  0.,  0., -1.,  0., -1.,  1.,  1.]])\n",
      "tensor([[ 0.,  0.,  0.,  0., -1.,  0.,  0.,  0.,  1.]])\n",
      "tensor([[ 1.,  0.,  0.,  0.,  0.,  0.,  0.,  0., -1.]])\n",
      "tensor([[0., 0., 0., 0., 0., 0., 0., 0., 1.]])\n",
      "tensor([[ 1.,  0.,  0.,  0.,  0.,  0.,  0.,  0., -1.]])\n",
      "tensor([[ 0.,  0.,  0.,  0., -1.,  0.,  0.,  0.,  1.]])\n",
      "tensor([[ 1.,  0.,  0.,  0.,  1.,  0.,  1., -1., -1.]])\n",
      "tensor([[ 1.,  0.,  0.,  0.,  0.,  0.,  0.,  0., -1.]])\n",
      "tensor([[ 0.,  0.,  0.,  0., -1.,  0.,  0.,  0.,  1.]])\n",
      "tensor([[ 0.,  0.,  0.,  0., -1.,  0., -1.,  1.,  1.]])\n",
      "tensor([[ 0.,  0.,  0.,  0.,  0.,  0.,  0., -1.,  1.]])\n",
      "tensor([[ 0.,  0.,  0.,  0.,  0.,  0.,  0., -1.,  1.]])\n",
      "tensor([[ 0.,  0.,  0.,  0., -1.,  1., -1.,  1.,  1.]])\n",
      "tensor([[ 1.,  0.,  0.,  0.,  1.,  0.,  1., -1., -1.]])\n",
      "tensor([[ 0.,  0.,  0.,  0., -1.,  1., -1.,  1.,  1.]])\n",
      "tensor([[ 0.,  0.,  0.,  0., -1.,  0., -1.,  1.,  1.]])\n",
      "tensor([[ 0.,  0.,  0.,  0., -1.,  0., -1.,  1.,  1.]])\n",
      "tensor([[ 0.,  0.,  0.,  0., -1.,  0.,  0.,  0.,  1.]])\n",
      "tensor([[ 0.,  0.,  1.,  0.,  0.,  0.,  0.,  0., -1.]])\n"
     ]
    },
    {
     "name": "stderr",
     "output_type": "stream",
     "text": [
      " 10%|███▉                                   | 999/10000 [00:39<05:24, 27.73it/s]"
     ]
    },
    {
     "name": "stdout",
     "output_type": "stream",
     "text": [
      "tensor([[ 0.,  0.,  0.,  0., -1.,  0.,  0.,  1.,  1.]])\n",
      "tensor([[ 0.,  0.,  0.,  0.,  1.,  0.,  0., -1.,  1.]])\n",
      "tensor([[ 0.,  0.,  1.,  0.,  1.,  0.,  0.,  0., -1.]])\n",
      "tensor([[ 0.,  0.,  0.,  0., -1.,  0., -1.,  1.,  1.]])\n",
      "tensor([[ 1.,  0.,  0.,  0.,  1., -1.,  1., -1., -1.]])\n",
      "tensor([[ 0.,  0.,  0.,  0., -1.,  0.,  0.,  1.,  1.]])\n",
      "tensor([[1., 0., 0., 0., 0., 0., 0., 0., 0.]])\n",
      "tensor([[ 1.,  0.,  0.,  0.,  0.,  0.,  0.,  0., -1.]])\n",
      "tensor([[ 0.,  0.,  0.,  0., -1.,  0.,  0.,  1.,  1.]])\n",
      "tensor([[ 0.,  0.,  0.,  0.,  1.,  0.,  1., -1., -1.]])\n",
      "tensor([[ 0.,  0.,  0.,  0., -1.,  0.,  0.,  1.,  1.]])\n",
      "tensor([[ 0.,  0.,  0.,  0., -1.,  1., -1.,  1.,  1.]])\n",
      "tensor([[ 0.,  0.,  0.,  0., -1.,  0.,  0.,  0.,  1.]])\n",
      "tensor([[ 0.,  0.,  0.,  0., -1.,  1., -1.,  1.,  1.]])\n",
      "tensor([[ 0.,  0.,  1.,  0.,  1.,  0.,  0.,  0., -1.]])\n",
      "tensor([[0., 0., 0., 0., 1., 0., 0., 0., 0.]])\n",
      "tensor([[ 0.,  0.,  0.,  0., -1.,  0.,  0.,  0.,  1.]])\n",
      "tensor([[ 0.,  0.,  0.,  0., -1.,  0.,  0.,  0.,  1.]])\n",
      "tensor([[ 0.,  0.,  0.,  0.,  0.,  0.,  1.,  0., -1.]])\n",
      "tensor([[ 0.,  0.,  0.,  0., -1.,  1., -1.,  1.,  1.]])\n",
      "tensor([[0., 0., 1., 0., 0., 0., 0., 0., 0.]])\n",
      "tensor([[ 0.,  0.,  0.,  0., -1.,  0.,  0.,  0.,  1.]])\n",
      "tensor([[ 0.,  0.,  1.,  0.,  1.,  0.,  0.,  0., -1.]])\n",
      "tensor([[ 1.,  0.,  0.,  0.,  1.,  0.,  1., -1., -1.]])\n",
      "tensor([[ 1.,  0.,  0.,  0.,  1.,  0.,  0.,  0., -1.]])\n",
      "tensor([[ 1.,  0.,  0.,  0.,  0.,  0.,  0.,  0., -1.]])\n",
      "tensor([[0., 0., 0., 0., 0., 0., 0., 0., 1.]])\n",
      "tensor([[ 0.,  0.,  0.,  0., -1.,  0.,  0.,  0.,  1.]])\n"
     ]
    },
    {
     "name": "stderr",
     "output_type": "stream",
     "text": [
      " 10%|███▊                                  | 1005/10000 [00:39<05:26, 27.56it/s]"
     ]
    },
    {
     "name": "stdout",
     "output_type": "stream",
     "text": [
      "tensor([[0., 0., 1., 0., 0., 0., 0., 0., 0.]])\n",
      "tensor([[ 0.,  0.,  0.,  0.,  0.,  0.,  0., -1.,  1.]])\n",
      "tensor([[ 0.,  0.,  0.,  0., -1.,  0.,  0.,  1.,  1.]])\n",
      "tensor([[ 1.,  0.,  0.,  0.,  1.,  0.,  0.,  0., -1.]])\n",
      "tensor([[ 0.,  0.,  1.,  0.,  0.,  0.,  0.,  0., -1.]])\n",
      "tensor([[ 0.,  0.,  0.,  0., -1.,  0.,  0.,  0.,  1.]])\n",
      "tensor([[ 0.,  0.,  0.,  0., -1.,  0.,  0.,  0.,  1.]])\n",
      "tensor([[0., 0., 0., 0., 0., 0., 0., 0., 1.]])\n",
      "tensor([[ 0.,  0.,  0.,  0., -1.,  1., -1.,  1.,  1.]])\n",
      "tensor([[ 1.,  0.,  0.,  0.,  1., -1.,  1., -1., -1.]])\n",
      "tensor([[ 0.,  0.,  0.,  0., -1.,  0.,  0.,  0.,  1.]])\n",
      "tensor([[ 0.,  0.,  1.,  0.,  0.,  0.,  0.,  0., -1.]])\n",
      "tensor([[ 1.,  0.,  0.,  0.,  1., -1.,  1., -1., -1.]])\n",
      "tensor([[ 0.,  0.,  0.,  0.,  1.,  0.,  0.,  0., -1.]])\n",
      "tensor([[ 0.,  0.,  1.,  0.,  1.,  0.,  0.,  0., -1.]])\n",
      "tensor([[ 0.,  0.,  0.,  0.,  1.,  0.,  0.,  0., -1.]])\n",
      "tensor([[0., 0., 1., 0., 0., 0., 0., 0., 0.]])\n",
      "tensor([[ 0.,  0.,  0.,  0., -1.,  0., -1.,  1.,  1.]])\n",
      "tensor([[ 1.,  0.,  0.,  0.,  1.,  0.,  1., -1., -1.]])\n",
      "tensor([[ 0.,  0.,  0.,  0., -1.,  0.,  0.,  0.,  1.]])\n",
      "tensor([[ 1.,  0.,  0.,  0.,  1.,  0.,  0.,  0., -1.]])\n",
      "tensor([[ 0.,  0.,  0.,  0., -1.,  0.,  0.,  0.,  1.]])\n",
      "tensor([[ 0.,  0.,  0.,  0., -1.,  0.,  0.,  0.,  1.]])\n",
      "tensor([[ 1.,  0.,  0.,  0.,  1.,  0.,  0., -1., -1.]])\n",
      "tensor([[1., 0., 0., 0., 0., 0., 0., 0., 0.]])\n",
      "tensor([[0., 0., 0., 0., 0., 0., 0., 0., 1.]])\n",
      "tensor([[ 0.,  0.,  0.,  0.,  1.,  0.,  1., -1., -1.]])\n"
     ]
    },
    {
     "name": "stderr",
     "output_type": "stream",
     "text": [
      " 10%|███▊                                  | 1012/10000 [00:39<05:18, 28.26it/s]"
     ]
    },
    {
     "name": "stdout",
     "output_type": "stream",
     "text": [
      "tensor([[ 0.,  0.,  0.,  0.,  0.,  0.,  1.,  0., -1.]])\n",
      "tensor([[ 0.,  0.,  0.,  0., -1.,  1., -1.,  1.,  1.]])\n",
      "tensor([[ 0.,  0.,  0.,  0., -1.,  0., -1.,  1.,  1.]])\n",
      "tensor([[ 0.,  0.,  0.,  0., -1.,  0.,  0.,  0.,  1.]])\n",
      "tensor([[ 0.,  0.,  0.,  0., -1.,  0.,  0.,  0.,  1.]])\n",
      "tensor([[ 1.,  0.,  0.,  0.,  1.,  0.,  0.,  0., -1.]])\n",
      "tensor([[ 0.,  0.,  0.,  0., -1.,  0.,  0.,  0.,  1.]])\n",
      "tensor([[ 0.,  0.,  0.,  0., -1.,  0.,  0.,  1.,  1.]])\n",
      "tensor([[0., 0., 0., 0., 0., 0., 0., 0., 1.]])\n",
      "tensor([[ 1.,  0.,  0.,  0.,  1.,  0.,  0.,  0., -1.]])\n",
      "tensor([[0., 0., 0., 0., 0., 0., 0., 0., 1.]])\n",
      "tensor([[ 0.,  0.,  0.,  0., -1.,  0., -1.,  1.,  1.]])\n",
      "tensor([[ 1.,  0.,  0.,  0.,  1.,  0.,  1., -1., -1.]])\n",
      "tensor([[ 0.,  0.,  1.,  0.,  0.,  0.,  0.,  0., -1.]])\n",
      "tensor([[ 0.,  0.,  0.,  0., -1.,  0.,  0.,  1.,  1.]])\n",
      "tensor([[ 0.,  0.,  0.,  0., -1.,  0., -1.,  1.,  1.]])\n",
      "tensor([[0., 0., 0., 0., 0., 0., 0., 0., 1.]])\n",
      "tensor([[ 1.,  0.,  0.,  0.,  1., -1.,  1., -1., -1.]])\n",
      "tensor([[0., 0., 0., 0., 0., 0., 0., 0., 1.]])\n",
      "tensor([[ 0.,  0.,  0.,  0., -1.,  0.,  0.,  0.,  1.]])\n",
      "tensor([[1., 0., 0., 0., 0., 0., 0., 0., 0.]])\n",
      "tensor([[0., 0., 0., 0., 0., 0., 0., 0., 1.]])\n",
      "tensor([[ 1.,  0.,  0.,  0.,  1.,  0.,  1., -1., -1.]])\n",
      "tensor([[ 0.,  0.,  1.,  0.,  1.,  0.,  0., -1., -1.]])\n",
      "tensor([[ 1.,  0.,  0.,  0.,  0.,  0.,  0.,  0., -1.]])\n",
      "tensor([[0., 0., 1., 0., 0., 0., 0., 0., 0.]])\n",
      "tensor([[0., 0., 0., 0., 0., 0., 0., 0., 1.]])\n",
      "tensor([[ 0.,  0.,  0.,  0.,  1.,  0.,  0.,  0., -1.]])\n",
      "tensor([[ 0.,  0.,  0.,  0., -1.,  0.,  0.,  1.,  1.]])\n",
      "tensor([[ 0.,  0.,  0.,  0.,  1.,  0.,  0., -1.,  1.]])\n"
     ]
    },
    {
     "name": "stderr",
     "output_type": "stream",
     "text": [
      "\r",
      " 10%|███▊                                  | 1015/10000 [00:39<05:18, 28.22it/s]"
     ]
    },
    {
     "name": "stdout",
     "output_type": "stream",
     "text": [
      "tensor([[ 0.,  0.,  0.,  0., -1.,  0.,  0.,  0.,  1.]])\n",
      "tensor([[ 0.,  0.,  0.,  0., -1.,  0., -1.,  1.,  1.]])\n",
      "tensor([[ 1.,  0.,  0.,  0.,  1.,  0.,  0., -1., -1.]])\n",
      "tensor([[ 0.,  0.,  0.,  0., -1.,  1., -1.,  1.,  1.]])\n",
      "tensor([[1., 0., 0., 0., 0., 0., 0., 0., 0.]])\n",
      "tensor([[ 1.,  0.,  0.,  0.,  1.,  0.,  0., -1., -1.]])\n",
      "tensor([[ 0.,  0.,  0.,  0., -1.,  0.,  0.,  1.,  1.]])\n",
      "tensor([[ 0.,  0.,  0.,  0.,  0.,  0.,  1.,  0., -1.]])\n",
      "tensor([[ 1.,  0.,  0.,  0.,  1.,  0.,  1., -1., -1.]])\n",
      "tensor([[0., 0., 0., 0., 1., 0., 0., 0., 0.]])\n",
      "tensor([[0., 0., 0., 0., 0., 0., 0., 0., 1.]])\n",
      "tensor([[ 0.,  0.,  0.,  0., -1.,  0.,  0.,  0.,  1.]])\n",
      "tensor([[0., 0., 0., 0., 1., 0., 0., 0., 0.]])\n",
      "tensor([[ 0.,  0.,  0.,  0.,  1.,  0., -1., -1.,  1.]])\n",
      "tensor([[ 0.,  0.,  0.,  0., -1.,  0.,  0.,  1.,  1.]])\n",
      "tensor([[0., 0., 0., 0., 0., 0., 0., 0., 1.]])\n",
      "tensor([[ 1.,  0.,  0.,  0.,  1., -1.,  1., -1., -1.]])\n",
      "tensor([[ 0.,  0.,  0.,  0., -1.,  1., -1.,  1.,  1.]])\n",
      "tensor([[ 0.,  0.,  0.,  0.,  1.,  0., -1., -1.,  1.]])\n",
      "tensor([[ 0.,  0.,  0.,  0., -1.,  0.,  0.,  1.,  1.]])\n",
      "tensor([[ 0.,  0.,  0.,  0., -1.,  0.,  0.,  1.,  1.]])\n",
      "tensor([[0., 0., 0., 0., 0., 0., 0., 0., 1.]])\n",
      "tensor([[ 1.,  0.,  0.,  0.,  0.,  0.,  0.,  0., -1.]])\n",
      "tensor([[ 0.,  0.,  0.,  0., -1.,  0.,  0.,  1.,  1.]])\n",
      "tensor([[ 0.,  0.,  0.,  0., -1.,  0.,  0.,  0.,  1.]])\n",
      "tensor([[ 0.,  0.,  1.,  0.,  1.,  0.,  0., -1., -1.]])\n",
      "tensor([[ 0.,  0.,  1.,  0.,  1.,  0.,  0., -1., -1.]])\n",
      "tensor([[0., 0., 0., 0., 1., 0., 0., 0., 0.]])\n"
     ]
    },
    {
     "name": "stderr",
     "output_type": "stream",
     "text": [
      " 10%|███▉                                  | 1021/10000 [00:40<05:27, 27.41it/s]"
     ]
    },
    {
     "name": "stdout",
     "output_type": "stream",
     "text": [
      "tensor([[ 0.,  0.,  0.,  0., -1.,  0.,  0.,  1.,  1.]])\n",
      "tensor([[0., 0., 0., 0., 1., 0., 0., 0., 0.]])\n",
      "tensor([[0., 0., 0., 0., 0., 0., 0., 0., 1.]])\n",
      "tensor([[ 0.,  0.,  0.,  0., -1.,  0.,  0.,  1.,  1.]])\n",
      "tensor([[ 0.,  0.,  1.,  0.,  0.,  0.,  0.,  0., -1.]])\n",
      "tensor([[1., 0., 0., 0., 0., 0., 0., 0., 0.]])\n",
      "tensor([[ 0.,  0.,  0.,  0., -1.,  0.,  0.,  1.,  1.]])\n",
      "tensor([[ 0.,  0.,  0.,  0., -1.,  0., -1.,  1.,  1.]])\n",
      "tensor([[ 1.,  0.,  0.,  0.,  1.,  0.,  1., -1., -1.]])\n",
      "tensor([[ 1.,  0.,  0.,  0.,  1.,  0.,  0.,  0., -1.]])\n",
      "tensor([[ 1.,  0.,  0.,  0.,  1.,  0.,  1., -1., -1.]])\n",
      "tensor([[ 0.,  0.,  0.,  0.,  1.,  0.,  1.,  0., -1.]])\n",
      "tensor([[ 0.,  0.,  0.,  0.,  0.,  0.,  0., -1.,  1.]])\n",
      "tensor([[0., 0., 0., 0., 0., 0., 0., 0., 1.]])\n",
      "tensor([[ 1.,  0.,  0.,  0.,  1., -1.,  1., -1., -1.]])\n",
      "tensor([[ 0.,  0.,  0.,  0., -1.,  1., -1.,  1.,  1.]])\n",
      "tensor([[ 0.,  0.,  0.,  0., -1.,  0., -1.,  1.,  1.]])\n",
      "tensor([[ 0.,  0.,  0.,  0.,  0.,  0.,  0., -1.,  1.]])\n",
      "tensor([[ 0.,  0.,  0.,  0., -1.,  1., -1.,  1.,  1.]])\n",
      "tensor([[ 0.,  0.,  0.,  0.,  1.,  0.,  0., -1.,  1.]])\n",
      "tensor([[ 1.,  0.,  0.,  0.,  1., -1.,  1., -1., -1.]])\n",
      "tensor([[ 0.,  0.,  0.,  0., -1.,  0.,  0.,  0.,  1.]])\n",
      "tensor([[ 0.,  0.,  0.,  0., -1.,  0., -1.,  1.,  1.]])\n",
      "tensor([[ 0.,  0.,  0.,  0., -1.,  0.,  0.,  1.,  1.]])\n",
      "tensor([[ 0.,  0.,  1.,  0.,  1.,  0.,  0.,  0., -1.]])\n",
      "tensor([[ 0.,  0.,  0.,  0., -1.,  0.,  0.,  0.,  1.]])\n"
     ]
    },
    {
     "name": "stderr",
     "output_type": "stream",
     "text": [
      " 10%|███▉                                  | 1027/10000 [00:40<05:29, 27.20it/s]"
     ]
    },
    {
     "name": "stdout",
     "output_type": "stream",
     "text": [
      "tensor([[0., 0., 0., 0., 0., 0., 0., 0., 1.]])\n",
      "tensor([[0., 0., 0., 0., 0., 0., 0., 0., 1.]])\n",
      "tensor([[ 0.,  0.,  0.,  0.,  1.,  0., -1., -1.,  1.]])\n",
      "tensor([[ 1.,  0.,  0.,  0.,  1.,  0.,  0., -1., -1.]])\n",
      "tensor([[0., 0., 0., 0., 0., 0., 0., 0., 1.]])\n",
      "tensor([[0., 0., 0., 0., 0., 0., 1., 0., 0.]])\n",
      "tensor([[ 0.,  0.,  0.,  0., -1.,  0., -1.,  1.,  1.]])\n",
      "tensor([[0., 0., 0., 0., 0., 0., 0., 0., 1.]])\n",
      "tensor([[1., 0., 0., 0., 0., 0., 0., 0., 0.]])\n",
      "tensor([[0., 0., 1., 0., 0., 0., 0., 0., 0.]])\n",
      "tensor([[ 1.,  0.,  0.,  0.,  1.,  0.,  0., -1., -1.]])\n",
      "tensor([[ 0.,  0.,  0.,  0., -1.,  1., -1.,  1.,  1.]])\n",
      "tensor([[0., 0., 0., 0., 1., 0., 0., 0., 0.]])\n",
      "tensor([[ 0.,  0.,  0.,  0.,  1.,  0.,  1., -1., -1.]])\n",
      "tensor([[ 0.,  0.,  0.,  0.,  1.,  0.,  1.,  0., -1.]])\n",
      "tensor([[0., 0., 0., 0., 0., 0., 0., 0., 1.]])\n",
      "tensor([[ 0.,  0.,  0.,  0., -1.,  0.,  0.,  0.,  1.]])\n",
      "tensor([[ 0.,  0.,  0.,  0., -1.,  1., -1.,  1.,  1.]])\n",
      "tensor([[ 1.,  0.,  0.,  0.,  1., -1.,  1., -1., -1.]])\n",
      "tensor([[1., 0., 0., 0., 0., 0., 0., 0., 0.]])\n",
      "tensor([[0., 0., 0., 0., 0., 0., 1., 0., 0.]])\n",
      "tensor([[ 0.,  0.,  1.,  0.,  0.,  0.,  0.,  0., -1.]])\n",
      "tensor([[ 0.,  0.,  0.,  0., -1.,  0.,  0.,  1.,  1.]])\n",
      "tensor([[ 0.,  0.,  0.,  0.,  1.,  0., -1., -1.,  1.]])\n",
      "tensor([[0., 0., 0., 0., 0., 0., 0., 0., 1.]])\n",
      "tensor([[ 0.,  0.,  0.,  0., -1.,  0.,  0.,  0.,  1.]])\n",
      "tensor([[ 0.,  0.,  0.,  0., -1.,  0.,  0.,  1.,  1.]])\n",
      "tensor([[ 1.,  0.,  0.,  0.,  1.,  0.,  1., -1., -1.]])\n",
      "tensor([[ 0.,  0.,  0.,  0., -1.,  0.,  0.,  1.,  1.]])\n",
      "tensor([[ 0.,  0.,  0.,  0.,  1.,  0.,  0., -1.,  1.]])\n"
     ]
    },
    {
     "name": "stderr",
     "output_type": "stream",
     "text": [
      " 10%|███▉                                  | 1033/10000 [00:40<05:39, 26.39it/s]"
     ]
    },
    {
     "name": "stdout",
     "output_type": "stream",
     "text": [
      "tensor([[ 1.,  0.,  0.,  0.,  1., -1.,  1., -1., -1.]])\n",
      "tensor([[ 1.,  0.,  0.,  0.,  1.,  0.,  0., -1., -1.]])\n",
      "tensor([[ 0.,  0.,  0.,  0., -1.,  1., -1.,  1.,  1.]])\n",
      "tensor([[ 0.,  0.,  0.,  0., -1.,  0., -1.,  1.,  1.]])\n",
      "tensor([[ 0.,  0.,  0.,  0., -1.,  0.,  0.,  1.,  1.]])\n",
      "tensor([[ 1.,  0.,  0.,  0.,  1., -1.,  1., -1., -1.]])\n",
      "tensor([[ 0.,  0.,  0.,  0., -1.,  0., -1.,  1.,  1.]])\n",
      "tensor([[ 0.,  0.,  0.,  0., -1.,  0.,  0.,  1.,  1.]])\n",
      "tensor([[ 0.,  0.,  0.,  0., -1.,  0.,  0.,  1.,  1.]])\n",
      "tensor([[ 1.,  0.,  0.,  0.,  1., -1.,  1., -1., -1.]])\n",
      "tensor([[0., 0., 1., 0., 0., 0., 0., 0., 0.]])\n",
      "tensor([[ 1.,  0.,  0.,  0.,  0.,  0.,  0.,  0., -1.]])\n",
      "tensor([[1., 0., 0., 0., 0., 0., 0., 0., 0.]])\n",
      "tensor([[ 0.,  0.,  0.,  0.,  1.,  0.,  0.,  0., -1.]])\n",
      "tensor([[ 0.,  0.,  0.,  0.,  0.,  0.,  1.,  0., -1.]])\n",
      "tensor([[1., 0., 0., 0., 0., 0., 0., 0., 0.]])\n",
      "tensor([[ 1.,  0.,  0.,  0.,  1.,  0.,  0.,  0., -1.]])\n",
      "tensor([[ 0.,  0.,  0.,  0.,  1.,  0.,  0., -1.,  1.]])\n",
      "tensor([[ 1.,  0.,  0.,  0.,  1.,  0.,  1., -1., -1.]])\n",
      "tensor([[ 0.,  0.,  0.,  0., -1.,  1., -1.,  1.,  1.]])\n",
      "tensor([[0., 0., 0., 0., 0., 0., 0., 0., 1.]])\n",
      "tensor([[ 1.,  0.,  0.,  0.,  0.,  0.,  0.,  0., -1.]])\n",
      "tensor([[ 0.,  0.,  0.,  0., -1.,  0., -1.,  1.,  1.]])\n",
      "tensor([[0., 0., 0., 0., 0., 0., 0., 0., 1.]])\n"
     ]
    },
    {
     "name": "stderr",
     "output_type": "stream",
     "text": [
      " 10%|███▉                                  | 1039/10000 [00:40<05:37, 26.54it/s]"
     ]
    },
    {
     "name": "stdout",
     "output_type": "stream",
     "text": [
      "tensor([[0., 0., 0., 0., 0., 0., 0., 0., 1.]])\n",
      "tensor([[ 1.,  0.,  0.,  0.,  1.,  0.,  0., -1., -1.]])\n",
      "tensor([[ 0.,  0.,  0.,  0., -1.,  1., -1.,  1.,  1.]])\n",
      "tensor([[ 0.,  0.,  0.,  0.,  1.,  0., -1., -1.,  1.]])\n",
      "tensor([[0., 0., 0., 0., 0., 0., 0., 0., 1.]])\n",
      "tensor([[ 0.,  0.,  0.,  0.,  1.,  0.,  1.,  0., -1.]])\n",
      "tensor([[ 0.,  0.,  0.,  0.,  1.,  0.,  0., -1.,  1.]])\n",
      "tensor([[ 0.,  0.,  0.,  0., -1.,  0.,  0.,  1.,  1.]])\n",
      "tensor([[ 0.,  0.,  0.,  0., -1.,  0., -1.,  1.,  1.]])\n",
      "tensor([[ 0.,  0.,  0.,  0., -1.,  0.,  0.,  1.,  1.]])\n",
      "tensor([[0., 0., 0., 0., 0., 0., 0., 0., 1.]])\n",
      "tensor([[ 1.,  0.,  0.,  0.,  1.,  0.,  0.,  0., -1.]])\n",
      "tensor([[0., 0., 0., 0., 0., 0., 0., 0., 1.]])\n",
      "tensor([[0., 0., 0., 0., 0., 0., 0., 0., 1.]])\n",
      "tensor([[ 0.,  0.,  0.,  0.,  1.,  0., -1., -1.,  1.]])\n",
      "tensor([[ 0.,  0.,  0.,  0., -1.,  0., -1.,  1.,  1.]])\n",
      "tensor([[ 0.,  0.,  0.,  0., -1.,  0.,  0.,  1.,  1.]])\n",
      "tensor([[ 1.,  0.,  0.,  0.,  1.,  0.,  0., -1., -1.]])\n",
      "tensor([[0., 0., 0., 0., 0., 0., 1., 0., 0.]])\n",
      "tensor([[ 0.,  0.,  0.,  0., -1.,  0.,  0.,  1.,  1.]])\n",
      "tensor([[ 0.,  0.,  0.,  0., -1.,  0., -1.,  1.,  1.]])\n",
      "tensor([[0., 0., 0., 0., 0., 0., 0., 0., 1.]])\n",
      "tensor([[ 1.,  0.,  0.,  0.,  1.,  0.,  0., -1., -1.]])\n",
      "tensor([[ 0.,  0.,  0.,  0.,  1.,  0.,  0.,  0., -1.]])\n",
      "tensor([[ 0.,  0.,  0.,  0.,  0.,  0.,  0., -1.,  1.]])\n",
      "tensor([[ 0.,  0.,  0.,  0.,  0.,  0.,  0., -1.,  1.]])\n",
      "tensor([[ 0.,  0.,  0.,  0.,  0.,  0.,  1.,  0., -1.]])\n",
      "tensor([[ 1.,  0.,  0.,  0.,  1.,  0.,  1., -1., -1.]])\n",
      "tensor([[ 0.,  0.,  1.,  0.,  1.,  0.,  0.,  0., -1.]])\n",
      "tensor([[ 1.,  0.,  0.,  0.,  1.,  0.,  1., -1., -1.]])\n",
      "tensor([[ 0.,  0.,  0.,  0., -1.,  1., -1.,  1.,  1.]])\n",
      "tensor([[ 0.,  0.,  0.,  0., -1.,  0., -1.,  1.,  1.]])\n",
      "tensor([[ 0.,  0.,  0.,  0., -1.,  0.,  0.,  0.,  1.]])\n",
      "tensor([[ 0.,  0.,  0.,  0., -1.,  0.,  0.,  1.,  1.]])\n"
     ]
    },
    {
     "name": "stderr",
     "output_type": "stream",
     "text": [
      "\r",
      " 10%|███▉                                  | 1042/10000 [00:40<05:36, 26.64it/s]"
     ]
    },
    {
     "name": "stdout",
     "output_type": "stream",
     "text": [
      "tensor([[ 0.,  0.,  0.,  0., -1.,  1., -1.,  1.,  1.]])\n",
      "tensor([[ 0.,  0.,  0.,  0.,  0.,  0.,  1.,  0., -1.]])\n",
      "tensor([[ 0.,  0.,  0.,  0., -1.,  0.,  0.,  1.,  1.]])\n",
      "tensor([[0., 0., 0., 0., 1., 0., 0., 0., 0.]])\n",
      "tensor([[ 0.,  0.,  0.,  0.,  0.,  0.,  0., -1.,  1.]])\n",
      "tensor([[ 0.,  0.,  0.,  0.,  0.,  0.,  1.,  0., -1.]])\n",
      "tensor([[ 0.,  0.,  0.,  0., -1.,  0.,  0.,  0.,  1.]])\n",
      "tensor([[ 0.,  0.,  0.,  0., -1.,  0.,  0.,  0.,  1.]])\n",
      "tensor([[0., 0., 0., 0., 0., 0., 0., 0., 1.]])\n",
      "tensor([[0., 0., 0., 0., 0., 0., 1., 0., 0.]])\n",
      "tensor([[ 0.,  0.,  1.,  0.,  1.,  0.,  0.,  0., -1.]])\n",
      "tensor([[ 0.,  0.,  0.,  0., -1.,  0., -1.,  1.,  1.]])\n",
      "tensor([[ 1.,  0.,  0.,  0.,  1., -1.,  1., -1., -1.]])\n",
      "tensor([[ 0.,  0.,  0.,  0.,  1.,  0.,  1., -1., -1.]])\n",
      "tensor([[ 1.,  0.,  0.,  0.,  1., -1.,  1., -1., -1.]])\n",
      "tensor([[ 1.,  0.,  0.,  0.,  1.,  0.,  0.,  0., -1.]])\n",
      "tensor([[ 0.,  0.,  0.,  0., -1.,  0., -1.,  1.,  1.]])\n",
      "tensor([[ 0.,  0.,  0.,  0., -1.,  0.,  0.,  0.,  1.]])\n",
      "tensor([[ 1.,  0.,  0.,  0.,  1.,  0.,  0.,  0., -1.]])\n",
      "tensor([[ 0.,  0.,  0.,  0.,  1.,  0., -1., -1.,  1.]])\n",
      "tensor([[ 0.,  0.,  0.,  0., -1.,  0.,  0.,  0.,  1.]])\n",
      "tensor([[ 0.,  0.,  0.,  0., -1.,  0.,  0.,  1.,  1.]])\n",
      "tensor([[ 0.,  0.,  0.,  0., -1.,  1., -1.,  1.,  1.]])\n",
      "tensor([[0., 0., 1., 0., 0., 0., 0., 0., 0.]])\n",
      "tensor([[0., 0., 0., 0., 0., 0., 0., 0., 1.]])\n",
      "tensor([[ 0.,  0.,  0.,  0., -1.,  0.,  0.,  0.,  1.]])\n",
      "tensor([[ 1.,  0.,  0.,  0.,  1.,  0.,  0.,  0., -1.]])\n",
      "tensor([[0., 0., 0., 0., 0., 0., 0., 0., 1.]])\n",
      "tensor([[ 1.,  0.,  0.,  0.,  1., -1.,  1., -1., -1.]])\n",
      "tensor([[ 0.,  0.,  0.,  0., -1.,  0., -1.,  1.,  1.]])\n",
      "tensor([[ 1.,  0.,  0.,  0.,  1.,  0.,  0., -1., -1.]])\n"
     ]
    },
    {
     "name": "stderr",
     "output_type": "stream",
     "text": [
      " 10%|███▉                                  | 1049/10000 [00:41<05:42, 26.11it/s]"
     ]
    },
    {
     "name": "stdout",
     "output_type": "stream",
     "text": [
      "tensor([[ 0.,  0.,  0.,  0.,  1.,  0., -1., -1.,  1.]])\n",
      "tensor([[ 1.,  0.,  0.,  0.,  1.,  0.,  0.,  0., -1.]])\n",
      "tensor([[ 0.,  0.,  0.,  0.,  1.,  0.,  0.,  0., -1.]])\n",
      "tensor([[ 0.,  0.,  0.,  0., -1.,  1., -1.,  1.,  1.]])\n",
      "tensor([[ 0.,  0.,  0.,  0., -1.,  0.,  0.,  0.,  1.]])\n",
      "tensor([[ 0.,  0.,  0.,  0., -1.,  0.,  0.,  1.,  1.]])\n",
      "tensor([[ 1.,  0.,  0.,  0.,  1.,  0.,  0., -1., -1.]])\n",
      "tensor([[ 1.,  0.,  0.,  0.,  1., -1.,  1., -1., -1.]])\n",
      "tensor([[ 0.,  0.,  0.,  0., -1.,  0.,  0.,  0.,  1.]])\n",
      "tensor([[ 0.,  0.,  0.,  0., -1.,  1., -1.,  1.,  1.]])\n",
      "tensor([[0., 0., 1., 0., 0., 0., 0., 0., 0.]])\n",
      "tensor([[ 1.,  0.,  0.,  0.,  0.,  0.,  0.,  0., -1.]])\n",
      "tensor([[ 1.,  0.,  0.,  0.,  1.,  0.,  1., -1., -1.]])\n",
      "tensor([[ 0.,  0.,  0.,  0.,  1.,  0.,  0.,  0., -1.]])\n",
      "tensor([[ 0.,  0.,  0.,  0.,  1.,  0., -1., -1.,  1.]])\n",
      "tensor([[0., 0., 0., 0., 0., 0., 0., 0., 1.]])\n",
      "tensor([[ 1.,  0.,  0.,  0.,  1.,  0.,  0., -1., -1.]])\n",
      "tensor([[ 0.,  0.,  0.,  0., -1.,  0.,  0.,  0.,  1.]])\n",
      "tensor([[ 1.,  0.,  0.,  0.,  1.,  0.,  0., -1., -1.]])\n",
      "tensor([[0., 0., 0., 0., 0., 0., 0., 0., 1.]])\n",
      "tensor([[ 1.,  0.,  0.,  0.,  1.,  0.,  0., -1., -1.]])\n",
      "tensor([[ 0.,  0.,  0.,  0.,  1.,  0.,  1.,  0., -1.]])\n",
      "tensor([[ 0.,  0.,  0.,  0., -1.,  0., -1.,  1.,  1.]])\n",
      "tensor([[ 0.,  0.,  0.,  0., -1.,  0.,  0.,  0.,  1.]])\n",
      "tensor([[ 1.,  0.,  0.,  0.,  1.,  0.,  1., -1., -1.]])\n",
      "tensor([[ 0.,  0.,  0.,  0., -1.,  0.,  0.,  0.,  1.]])\n"
     ]
    },
    {
     "name": "stderr",
     "output_type": "stream",
     "text": [
      " 11%|████                                  | 1056/10000 [00:41<05:23, 27.67it/s]"
     ]
    },
    {
     "name": "stdout",
     "output_type": "stream",
     "text": [
      "tensor([[ 1.,  0.,  0.,  0.,  1., -1.,  1., -1., -1.]])\n",
      "tensor([[0., 0., 1., 0., 0., 0., 0., 0., 0.]])\n",
      "tensor([[ 1.,  0.,  0.,  0.,  1., -1.,  1., -1., -1.]])\n",
      "tensor([[0., 0., 0., 0., 0., 0., 0., 0., 1.]])\n",
      "tensor([[ 0.,  0.,  0.,  0., -1.,  1., -1.,  1.,  1.]])\n",
      "tensor([[ 0.,  0.,  0.,  0., -1.,  0.,  0.,  1.,  1.]])\n",
      "tensor([[ 0.,  0.,  1.,  0.,  1.,  0.,  0.,  0., -1.]])\n",
      "tensor([[ 1.,  0.,  0.,  0.,  1.,  0.,  0., -1., -1.]])\n",
      "tensor([[ 0.,  0.,  0.,  0.,  1.,  0., -1., -1.,  1.]])\n",
      "tensor([[ 1.,  0.,  0.,  0.,  0.,  0.,  0.,  0., -1.]])\n",
      "tensor([[ 1.,  0.,  0.,  0.,  1.,  0.,  1., -1., -1.]])\n",
      "tensor([[ 0.,  0.,  0.,  0.,  0.,  0.,  1.,  0., -1.]])\n",
      "tensor([[0., 0., 1., 0., 0., 0., 0., 0., 0.]])\n",
      "tensor([[ 0.,  0.,  0.,  0.,  1.,  0.,  1., -1., -1.]])\n",
      "tensor([[ 1.,  0.,  0.,  0.,  1.,  0.,  0., -1., -1.]])\n",
      "tensor([[ 1.,  0.,  0.,  0.,  1.,  0.,  1., -1., -1.]])\n",
      "tensor([[0., 0., 0., 0., 0., 0., 1., 0., 0.]])\n",
      "tensor([[0., 0., 0., 0., 0., 0., 0., 0., 1.]])\n",
      "tensor([[ 0.,  0.,  0.,  0., -1.,  0.,  0.,  0.,  1.]])\n",
      "tensor([[0., 0., 0., 0., 1., 0., 0., 0., 0.]])\n",
      "tensor([[0., 0., 0., 0., 0., 0., 0., 0., 1.]])\n",
      "tensor([[ 0.,  0.,  0.,  0.,  0.,  0.,  1.,  0., -1.]])\n",
      "tensor([[ 0.,  0.,  0.,  0., -1.,  0.,  0.,  1.,  1.]])\n",
      "tensor([[ 0.,  0.,  0.,  0., -1.,  0.,  0.,  0.,  1.]])\n",
      "tensor([[ 1.,  0.,  0.,  0.,  1.,  0.,  1., -1., -1.]])\n",
      "tensor([[ 1.,  0.,  0.,  0.,  1.,  0.,  1., -1., -1.]])\n",
      "tensor([[ 0.,  0.,  0.,  0., -1.,  0.,  0.,  1.,  1.]])\n",
      "tensor([[ 0.,  0.,  0.,  0., -1.,  0.,  0.,  0.,  1.]])\n",
      "tensor([[ 1.,  0.,  0.,  0.,  1.,  0.,  0.,  0., -1.]])\n",
      "tensor([[ 0.,  0.,  0.,  0.,  1.,  0.,  1.,  0., -1.]])\n"
     ]
    },
    {
     "name": "stderr",
     "output_type": "stream",
     "text": [
      "\r",
      " 11%|████                                  | 1059/10000 [00:41<05:29, 27.11it/s]"
     ]
    },
    {
     "name": "stdout",
     "output_type": "stream",
     "text": [
      "tensor([[ 0.,  0.,  0.,  0., -1.,  0.,  0.,  1.,  1.]])\n",
      "tensor([[ 0.,  0.,  0.,  0.,  1.,  0.,  1.,  0., -1.]])\n",
      "tensor([[ 0.,  0.,  0.,  0., -1.,  0.,  0.,  0.,  1.]])\n",
      "tensor([[ 0.,  0.,  0.,  0., -1.,  0.,  0.,  1.,  1.]])\n",
      "tensor([[0., 0., 1., 0., 0., 0., 0., 0., 0.]])\n",
      "tensor([[0., 0., 0., 0., 1., 0., 0., 0., 0.]])\n",
      "tensor([[ 0.,  0.,  0.,  0.,  1.,  0., -1., -1.,  1.]])\n",
      "tensor([[ 0.,  0.,  0.,  0., -1.,  0.,  0.,  1.,  1.]])\n",
      "tensor([[0., 0., 0., 0., 0., 0., 0., 0., 1.]])\n",
      "tensor([[ 0.,  0.,  0.,  0., -1.,  0.,  0.,  0.,  1.]])\n",
      "tensor([[ 0.,  0.,  0.,  0., -1.,  0., -1.,  1.,  1.]])\n",
      "tensor([[ 0.,  0.,  0.,  0.,  1.,  0., -1., -1.,  1.]])\n",
      "tensor([[ 0.,  0.,  0.,  0., -1.,  0.,  0.,  0.,  1.]])\n",
      "tensor([[ 0.,  0.,  0.,  0., -1.,  0.,  0.,  1.,  1.]])\n",
      "tensor([[ 0.,  0.,  0.,  0.,  0.,  0.,  1.,  0., -1.]])\n",
      "tensor([[ 0.,  0.,  0.,  0., -1.,  0., -1.,  1.,  1.]])\n",
      "tensor([[ 0.,  0.,  0.,  0., -1.,  0.,  0.,  0.,  1.]])\n",
      "tensor([[ 0.,  0.,  0.,  0.,  1.,  0., -1., -1.,  1.]])\n",
      "tensor([[ 0.,  0.,  0.,  0.,  1.,  0.,  1., -1., -1.]])\n",
      "tensor([[ 1.,  0.,  0.,  0.,  1.,  0.,  0., -1., -1.]])\n",
      "tensor([[ 0.,  0.,  0.,  0., -1.,  0.,  0.,  0.,  1.]])\n",
      "tensor([[ 0.,  0.,  0.,  0.,  1.,  0.,  0.,  0., -1.]])\n",
      "tensor([[0., 0., 0., 0., 0., 0., 0., 0., 1.]])\n",
      "tensor([[0., 0., 0., 0., 0., 0., 0., 0., 1.]])\n",
      "tensor([[ 0.,  0.,  0.,  0.,  0.,  0.,  0., -1.,  1.]])\n"
     ]
    },
    {
     "name": "stderr",
     "output_type": "stream",
     "text": [
      " 11%|████                                  | 1065/10000 [00:41<06:22, 23.33it/s]"
     ]
    },
    {
     "name": "stdout",
     "output_type": "stream",
     "text": [
      "tensor([[0., 0., 0., 0., 0., 0., 0., 0., 1.]])\n",
      "tensor([[1., 0., 0., 0., 0., 0., 0., 0., 0.]])\n",
      "tensor([[ 1.,  0.,  0.,  0.,  1.,  0.,  1., -1., -1.]])\n",
      "tensor([[ 1.,  0.,  0.,  0.,  0.,  0.,  0.,  0., -1.]])\n",
      "tensor([[ 0.,  0.,  0.,  0., -1.,  0.,  0.,  0.,  1.]])\n",
      "tensor([[ 0.,  0.,  0.,  0., -1.,  0., -1.,  1.,  1.]])\n",
      "tensor([[ 0.,  0.,  0.,  0.,  0.,  0.,  0., -1.,  1.]])\n",
      "tensor([[ 0.,  0.,  0.,  0.,  1.,  0.,  0.,  0., -1.]])\n",
      "tensor([[ 0.,  0.,  0.,  0., -1.,  0.,  0.,  0.,  1.]])\n",
      "tensor([[1., 0., 0., 0., 0., 0., 0., 0., 0.]])\n",
      "tensor([[ 0.,  0.,  0.,  0., -1.,  1., -1.,  1.,  1.]])\n",
      "tensor([[0., 0., 0., 0., 0., 0., 1., 0., 0.]])\n",
      "tensor([[ 1.,  0.,  0.,  0.,  0.,  0.,  0.,  0., -1.]])\n",
      "tensor([[0., 0., 0., 0., 0., 0., 0., 0., 1.]])\n",
      "tensor([[0., 0., 0., 0., 0., 0., 1., 0., 0.]])\n",
      "tensor([[0., 0., 0., 0., 0., 0., 1., 0., 0.]])\n",
      "tensor([[0., 0., 0., 0., 0., 0., 1., 0., 0.]])\n",
      "tensor([[ 0.,  0.,  0.,  0.,  1.,  0.,  1., -1., -1.]])\n",
      "tensor([[ 0.,  0.,  0.,  0., -1.,  0.,  0.,  0.,  1.]])\n",
      "tensor([[ 0.,  0.,  0.,  0., -1.,  0.,  0.,  0.,  1.]])\n",
      "tensor([[ 0.,  0.,  0.,  0.,  0.,  0.,  0., -1.,  1.]])\n",
      "tensor([[ 0.,  0.,  0.,  0.,  1.,  0.,  1.,  0., -1.]])\n",
      "tensor([[ 0.,  0.,  0.,  0.,  1.,  0.,  1.,  0., -1.]])\n",
      "tensor([[ 0.,  0.,  0.,  0., -1.,  0.,  0.,  1.,  1.]])\n",
      "tensor([[ 0.,  0.,  0.,  0.,  1.,  0.,  1.,  0., -1.]])\n",
      "tensor([[ 0.,  0.,  0.,  0.,  0.,  0.,  0., -1.,  1.]])\n",
      "tensor([[ 1.,  0.,  0.,  0.,  1.,  0.,  0.,  0., -1.]])\n"
     ]
    },
    {
     "name": "stderr",
     "output_type": "stream",
     "text": [
      "\r",
      " 11%|████                                  | 1068/10000 [00:41<06:24, 23.21it/s]"
     ]
    },
    {
     "name": "stdout",
     "output_type": "stream",
     "text": [
      "tensor([[ 0.,  0.,  0.,  0., -1.,  0.,  0.,  1.,  1.]])\n",
      "tensor([[ 0.,  0.,  0.,  0., -1.,  0.,  0.,  1.,  1.]])\n",
      "tensor([[ 0.,  0.,  1.,  0.,  1.,  0.,  0., -1., -1.]])\n",
      "tensor([[ 1.,  0.,  0.,  0.,  1.,  0.,  0.,  0., -1.]])\n",
      "tensor([[ 0.,  0.,  0.,  0.,  1.,  0.,  1.,  0., -1.]])\n",
      "tensor([[ 0.,  0.,  0.,  0.,  1.,  0.,  1.,  0., -1.]])\n",
      "tensor([[0., 0., 0., 0., 0., 0., 0., 0., 1.]])\n",
      "tensor([[ 0.,  0.,  0.,  0., -1.,  0., -1.,  1.,  1.]])\n",
      "tensor([[ 0.,  0.,  0.,  0., -1.,  0.,  0.,  0.,  1.]])\n",
      "tensor([[ 0.,  0.,  0.,  0., -1.,  1., -1.,  1.,  1.]])\n",
      "tensor([[0., 0., 0., 0., 0., 0., 0., 0., 1.]])\n",
      "tensor([[ 0.,  0.,  1.,  0.,  0.,  0.,  0.,  0., -1.]])\n",
      "tensor([[ 0.,  0.,  0.,  0.,  1.,  0., -1., -1.,  1.]])\n",
      "tensor([[ 0.,  0.,  0.,  0., -1.,  0.,  0.,  1.,  1.]])\n",
      "tensor([[1., 0., 0., 0., 0., 0., 0., 0., 0.]])\n",
      "tensor([[0., 0., 0., 0., 0., 0., 0., 0., 1.]])\n",
      "tensor([[ 0.,  0.,  0.,  0.,  1.,  0.,  0., -1.,  1.]])\n",
      "tensor([[ 0.,  0.,  0.,  0.,  1.,  0., -1., -1.,  1.]])\n",
      "tensor([[1., 0., 0., 0., 0., 0., 0., 0., 0.]])\n",
      "tensor([[ 0.,  0.,  0.,  0., -1.,  0.,  0.,  1.,  1.]])\n",
      "tensor([[ 0.,  0.,  0.,  0., -1.,  0.,  0.,  1.,  1.]])\n",
      "tensor([[ 0.,  0.,  0.,  0., -1.,  1., -1.,  1.,  1.]])\n",
      "tensor([[ 1.,  0.,  0.,  0.,  1.,  0.,  0.,  0., -1.]])\n",
      "tensor([[ 0.,  0.,  0.,  0., -1.,  0.,  0.,  1.,  1.]])\n",
      "tensor([[0., 0., 0., 0., 1., 0., 0., 0., 0.]])\n",
      "tensor([[ 0.,  0.,  0.,  0., -1.,  0., -1.,  1.,  1.]])\n",
      "tensor([[ 1.,  0.,  0.,  0.,  1.,  0.,  0., -1., -1.]])\n"
     ]
    },
    {
     "name": "stderr",
     "output_type": "stream",
     "text": [
      " 11%|████                                  | 1074/10000 [00:42<06:23, 23.26it/s]"
     ]
    },
    {
     "name": "stdout",
     "output_type": "stream",
     "text": [
      "tensor([[1., 0., 0., 0., 0., 0., 0., 0., 0.]])\n",
      "tensor([[0., 0., 0., 0., 0., 0., 0., 0., 1.]])\n",
      "tensor([[ 0.,  0.,  1.,  0.,  1.,  0.,  0.,  0., -1.]])\n",
      "tensor([[ 0.,  0.,  0.,  0., -1.,  0.,  0.,  0.,  1.]])\n",
      "tensor([[0., 0., 0., 0., 0., 0., 0., 0., 1.]])\n",
      "tensor([[ 0.,  0.,  0.,  0.,  1.,  0.,  0.,  0., -1.]])\n",
      "tensor([[ 1.,  0.,  0.,  0.,  1.,  0.,  1., -1., -1.]])\n",
      "tensor([[ 0.,  0.,  0.,  0.,  1.,  0.,  1., -1., -1.]])\n",
      "tensor([[ 0.,  0.,  1.,  0.,  1.,  0.,  0.,  0., -1.]])\n",
      "tensor([[ 0.,  0.,  0.,  0., -1.,  0.,  0.,  1.,  1.]])\n",
      "tensor([[ 0.,  0.,  0.,  0., -1.,  0.,  0.,  1.,  1.]])\n",
      "tensor([[ 0.,  0.,  0.,  0., -1.,  0.,  0.,  1.,  1.]])\n",
      "tensor([[ 0.,  0.,  0.,  0., -1.,  0., -1.,  1.,  1.]])\n",
      "tensor([[0., 0., 1., 0., 0., 0., 0., 0., 0.]])\n",
      "tensor([[ 0.,  0.,  0.,  0.,  0.,  0.,  0., -1.,  1.]])\n",
      "tensor([[ 0.,  0.,  1.,  0.,  1.,  0.,  0., -1., -1.]])\n",
      "tensor([[ 0.,  0.,  0.,  0., -1.,  1., -1.,  1.,  1.]])\n",
      "tensor([[ 0.,  0.,  0.,  0., -1.,  0.,  0.,  0.,  1.]])\n",
      "tensor([[ 1.,  0.,  0.,  0.,  1.,  0.,  0., -1., -1.]])\n",
      "tensor([[ 0.,  0.,  1.,  0.,  0.,  0.,  0.,  0., -1.]])\n",
      "tensor([[ 0.,  0.,  0.,  0., -1.,  0.,  0.,  0.,  1.]])\n",
      "tensor([[ 0.,  0.,  0.,  0., -1.,  0.,  0.,  0.,  1.]])\n",
      "tensor([[ 0.,  0.,  1.,  0.,  1.,  0.,  0., -1., -1.]])\n",
      "tensor([[ 1.,  0.,  0.,  0.,  1.,  0.,  0.,  0., -1.]])\n",
      "tensor([[ 0.,  0.,  0.,  0., -1.,  0.,  0.,  0.,  1.]])\n",
      "tensor([[ 0.,  0.,  0.,  0.,  1.,  0.,  0., -1.,  1.]])\n",
      "tensor([[ 0.,  0.,  0.,  0., -1.,  1., -1.,  1.,  1.]])\n",
      "tensor([[ 0.,  0.,  0.,  0.,  1.,  0., -1., -1.,  1.]])\n"
     ]
    },
    {
     "name": "stderr",
     "output_type": "stream",
     "text": [
      " 11%|████                                  | 1080/10000 [00:42<06:20, 23.47it/s]"
     ]
    },
    {
     "name": "stdout",
     "output_type": "stream",
     "text": [
      "tensor([[ 1.,  0.,  0.,  0.,  1., -1.,  1., -1., -1.]])\n",
      "tensor([[ 0.,  0.,  0.,  0., -1.,  1., -1.,  1.,  1.]])\n",
      "tensor([[0., 0., 0., 0., 0., 0., 0., 0., 1.]])\n",
      "tensor([[ 1.,  0.,  0.,  0.,  1., -1.,  1., -1., -1.]])\n",
      "tensor([[ 0.,  0.,  0.,  0., -1.,  0., -1.,  1.,  1.]])\n",
      "tensor([[ 0.,  0.,  1.,  0.,  1.,  0.,  0., -1., -1.]])\n",
      "tensor([[ 0.,  0.,  0.,  0.,  1.,  0., -1., -1.,  1.]])\n",
      "tensor([[ 0.,  0.,  0.,  0., -1.,  0., -1.,  1.,  1.]])\n",
      "tensor([[ 0.,  0.,  0.,  0.,  1.,  0.,  1.,  0., -1.]])\n",
      "tensor([[ 0.,  0.,  0.,  0., -1.,  0.,  0.,  0.,  1.]])\n",
      "tensor([[ 0.,  0.,  0.,  0., -1.,  0.,  0.,  0.,  1.]])\n",
      "tensor([[ 1.,  0.,  0.,  0.,  1., -1.,  1., -1., -1.]])\n",
      "tensor([[ 0.,  0.,  0.,  0., -1.,  0., -1.,  1.,  1.]])\n",
      "tensor([[ 1.,  0.,  0.,  0.,  1.,  0.,  0.,  0., -1.]])\n",
      "tensor([[0., 0., 0., 0., 0., 0., 0., 0., 1.]])\n",
      "tensor([[ 0.,  0.,  0.,  0., -1.,  1., -1.,  1.,  1.]])\n",
      "tensor([[ 1.,  0.,  0.,  0.,  1.,  0.,  1., -1., -1.]])\n",
      "tensor([[0., 0., 0., 0., 0., 0., 0., 0., 1.]])\n",
      "tensor([[ 0.,  0.,  0.,  0., -1.,  0., -1.,  1.,  1.]])\n",
      "tensor([[ 0.,  0.,  0.,  0., -1.,  0.,  0.,  1.,  1.]])\n",
      "tensor([[ 0.,  0.,  0.,  0., -1.,  0.,  0.,  0.,  1.]])\n",
      "tensor([[0., 0., 1., 0., 0., 0., 0., 0., 0.]])\n",
      "tensor([[0., 0., 1., 0., 0., 0., 0., 0., 0.]])\n",
      "tensor([[ 0.,  0.,  1.,  0.,  0.,  0.,  0.,  0., -1.]])\n"
     ]
    },
    {
     "name": "stderr",
     "output_type": "stream",
     "text": [
      " 11%|████▏                                 | 1086/10000 [00:42<06:04, 24.43it/s]"
     ]
    },
    {
     "name": "stdout",
     "output_type": "stream",
     "text": [
      "tensor([[ 0.,  0.,  0.,  0., -1.,  0.,  0.,  0.,  1.]])\n",
      "tensor([[0., 0., 0., 0., 1., 0., 0., 0., 0.]])\n",
      "tensor([[ 0.,  0.,  0.,  0.,  1.,  0.,  0., -1.,  1.]])\n",
      "tensor([[0., 0., 0., 0., 0., 0., 0., 0., 1.]])\n",
      "tensor([[ 1.,  0.,  0.,  0.,  1.,  0.,  0., -1., -1.]])\n",
      "tensor([[ 0.,  0.,  0.,  0., -1.,  0., -1.,  1.,  1.]])\n",
      "tensor([[ 0.,  0.,  1.,  0.,  1.,  0.,  0., -1., -1.]])\n",
      "tensor([[ 0.,  0.,  1.,  0.,  1.,  0.,  0.,  0., -1.]])\n",
      "tensor([[ 1.,  0.,  0.,  0.,  1., -1.,  1., -1., -1.]])\n",
      "tensor([[ 0.,  0.,  0.,  0., -1.,  1., -1.,  1.,  1.]])\n",
      "tensor([[ 0.,  0.,  0.,  0., -1.,  0., -1.,  1.,  1.]])\n",
      "tensor([[ 0.,  0.,  0.,  0., -1.,  0.,  0.,  1.,  1.]])\n",
      "tensor([[ 0.,  0.,  0.,  0.,  1.,  0.,  1.,  0., -1.]])\n",
      "tensor([[ 0.,  0.,  0.,  0., -1.,  0.,  0.,  0.,  1.]])\n",
      "tensor([[ 0.,  0.,  0.,  0.,  1.,  0.,  1.,  0., -1.]])\n",
      "tensor([[ 0.,  0.,  0.,  0., -1.,  0., -1.,  1.,  1.]])\n",
      "tensor([[ 1.,  0.,  0.,  0.,  1.,  0.,  0.,  0., -1.]])\n",
      "tensor([[0., 0., 0., 0., 0., 0., 0., 0., 1.]])\n",
      "tensor([[ 0.,  0.,  0.,  0.,  1.,  0.,  0.,  0., -1.]])\n",
      "tensor([[ 0.,  0.,  0.,  0., -1.,  1., -1.,  1.,  1.]])\n",
      "tensor([[ 1.,  0.,  0.,  0.,  0.,  0.,  0.,  0., -1.]])\n",
      "tensor([[ 0.,  0.,  0.,  0., -1.,  0., -1.,  1.,  1.]])\n",
      "tensor([[ 1.,  0.,  0.,  0.,  1.,  0.,  0., -1., -1.]])\n",
      "tensor([[ 0.,  0.,  1.,  0.,  1.,  0.,  0.,  0., -1.]])\n",
      "tensor([[ 1.,  0.,  0.,  0.,  1.,  0.,  0.,  0., -1.]])\n",
      "tensor([[ 0.,  0.,  0.,  0., -1.,  0.,  0.,  1.,  1.]])\n",
      "tensor([[ 1.,  0.,  0.,  0.,  1.,  0.,  0.,  0., -1.]])\n"
     ]
    },
    {
     "name": "stderr",
     "output_type": "stream",
     "text": [
      "\r",
      " 11%|████▏                                 | 1089/10000 [00:42<06:24, 23.16it/s]"
     ]
    },
    {
     "name": "stdout",
     "output_type": "stream",
     "text": [
      "tensor([[ 1.,  0.,  0.,  0.,  1.,  0.,  0., -1., -1.]])\n",
      "tensor([[ 0.,  0.,  0.,  0., -1.,  1., -1.,  1.,  1.]])\n",
      "tensor([[0., 0., 0., 0., 0., 0., 0., 0., 1.]])\n",
      "tensor([[ 0.,  0.,  1.,  0.,  1.,  0.,  0., -1., -1.]])\n",
      "tensor([[ 0.,  0.,  0.,  0., -1.,  1., -1.,  1.,  1.]])\n",
      "tensor([[ 0.,  0.,  0.,  0., -1.,  1., -1.,  1.,  1.]])\n",
      "tensor([[ 0.,  0.,  0.,  0., -1.,  0., -1.,  1.,  1.]])\n",
      "tensor([[0., 0., 0., 0., 0., 0., 0., 0., 1.]])\n",
      "tensor([[0., 0., 1., 0., 0., 0., 0., 0., 0.]])\n",
      "tensor([[ 0.,  0.,  0.,  0., -1.,  0.,  0.,  0.,  1.]])\n",
      "tensor([[ 0.,  0.,  0.,  0.,  0.,  0.,  0., -1.,  1.]])\n",
      "tensor([[ 0.,  0.,  0.,  0., -1.,  0., -1.,  1.,  1.]])\n",
      "tensor([[ 1.,  0.,  0.,  0.,  1., -1.,  1., -1., -1.]])\n",
      "tensor([[ 0.,  0.,  0.,  0.,  1.,  0.,  1., -1., -1.]])\n",
      "tensor([[ 0.,  0.,  1.,  0.,  0.,  0.,  0.,  0., -1.]])\n",
      "tensor([[ 1.,  0.,  0.,  0.,  1.,  0.,  1., -1., -1.]])\n",
      "tensor([[1., 0., 0., 0., 0., 0., 0., 0., 0.]])\n",
      "tensor([[ 0.,  0.,  1.,  0.,  1.,  0.,  0., -1., -1.]])\n",
      "tensor([[ 0.,  0.,  0.,  0., -1.,  0.,  0.,  1.,  1.]])\n",
      "tensor([[ 1.,  0.,  0.,  0.,  1.,  0.,  0., -1., -1.]])\n",
      "tensor([[ 0.,  0.,  0.,  0., -1.,  0., -1.,  1.,  1.]])\n",
      "tensor([[ 1.,  0.,  0.,  0.,  1.,  0.,  0.,  0., -1.]])\n",
      "tensor([[ 0.,  0.,  0.,  0., -1.,  0.,  0.,  0.,  1.]])\n",
      "tensor([[ 0.,  0.,  0.,  0., -1.,  0.,  0.,  1.,  1.]])\n",
      "tensor([[ 0.,  0.,  0.,  0.,  1.,  0.,  1.,  0., -1.]])\n",
      "tensor([[ 1.,  0.,  0.,  0.,  1., -1.,  1., -1., -1.]])\n"
     ]
    },
    {
     "name": "stderr",
     "output_type": "stream",
     "text": [
      " 11%|████▏                                 | 1095/10000 [00:43<06:25, 23.09it/s]"
     ]
    },
    {
     "name": "stdout",
     "output_type": "stream",
     "text": [
      "tensor([[ 0.,  0.,  0.,  0., -1.,  1., -1.,  1.,  1.]])\n",
      "tensor([[ 0.,  0.,  1.,  0.,  1.,  0.,  0., -1., -1.]])\n",
      "tensor([[0., 0., 0., 0., 0., 0., 0., 0., 1.]])\n",
      "tensor([[ 1.,  0.,  0.,  0.,  1.,  0.,  1., -1., -1.]])\n",
      "tensor([[0., 0., 0., 0., 0., 0., 0., 0., 1.]])\n",
      "tensor([[ 0.,  0.,  0.,  0.,  0.,  0.,  1.,  0., -1.]])\n",
      "tensor([[ 0.,  0.,  0.,  0., -1.,  1., -1.,  1.,  1.]])\n",
      "tensor([[ 0.,  0.,  0.,  0., -1.,  0., -1.,  1.,  1.]])\n",
      "tensor([[ 0.,  0.,  0.,  0.,  1.,  0.,  0., -1.,  1.]])\n",
      "tensor([[ 0.,  0.,  0.,  0., -1.,  0.,  0.,  0.,  1.]])\n",
      "tensor([[0., 0., 0., 0., 1., 0., 0., 0., 0.]])\n",
      "tensor([[ 0.,  0.,  0.,  0.,  0.,  0.,  1.,  0., -1.]])\n",
      "tensor([[0., 0., 0., 0., 0., 0., 0., 0., 1.]])\n",
      "tensor([[ 0.,  0.,  1.,  0.,  1.,  0.,  0., -1., -1.]])\n",
      "tensor([[ 1.,  0.,  0.,  0.,  1., -1.,  1., -1., -1.]])\n",
      "tensor([[ 0.,  0.,  0.,  0., -1.,  0., -1.,  1.,  1.]])\n",
      "tensor([[ 1.,  0.,  0.,  0.,  0.,  0.,  0.,  0., -1.]])\n",
      "tensor([[ 0.,  0.,  0.,  0., -1.,  0., -1.,  1.,  1.]])\n",
      "tensor([[ 0.,  0.,  0.,  0., -1.,  1., -1.,  1.,  1.]])\n",
      "tensor([[ 1.,  0.,  0.,  0.,  1.,  0.,  1., -1., -1.]])\n",
      "tensor([[ 0.,  0.,  0.,  0., -1.,  1., -1.,  1.,  1.]])\n",
      "tensor([[ 0.,  0.,  0.,  0., -1.,  0.,  0.,  1.,  1.]])\n"
     ]
    },
    {
     "name": "stderr",
     "output_type": "stream",
     "text": [
      " 11%|████▏                                 | 1102/10000 [00:43<05:33, 26.70it/s]"
     ]
    },
    {
     "name": "stdout",
     "output_type": "stream",
     "text": [
      "tensor([[ 1.,  0.,  0.,  0.,  1., -1.,  1., -1., -1.]])\n",
      "tensor([[ 0.,  0.,  0.,  0., -1.,  0.,  0.,  0.,  1.]])\n",
      "tensor([[ 0.,  0.,  0.,  0., -1.,  0.,  0.,  1.,  1.]])\n",
      "tensor([[ 1.,  0.,  0.,  0.,  1.,  0.,  1., -1., -1.]])\n",
      "tensor([[ 0.,  0.,  0.,  0., -1.,  0.,  0.,  1.,  1.]])\n",
      "tensor([[ 0.,  0.,  1.,  0.,  1.,  0.,  0.,  0., -1.]])\n",
      "tensor([[ 0.,  0.,  0.,  0., -1.,  1., -1.,  1.,  1.]])\n",
      "tensor([[1., 0., 0., 0., 0., 0., 0., 0., 0.]])\n",
      "tensor([[0., 0., 0., 0., 0., 0., 0., 0., 1.]])\n",
      "tensor([[ 0.,  0.,  0.,  0., -1.,  0., -1.,  1.,  1.]])\n",
      "tensor([[ 0.,  0.,  0.,  0., -1.,  0.,  0.,  0.,  1.]])\n",
      "tensor([[ 0.,  0.,  0.,  0., -1.,  0.,  0.,  1.,  1.]])\n",
      "tensor([[0., 0., 0., 0., 0., 0., 1., 0., 0.]])\n",
      "tensor([[ 0.,  0.,  0.,  0., -1.,  0.,  0.,  0.,  1.]])\n",
      "tensor([[0., 0., 0., 0., 0., 0., 0., 0., 1.]])\n",
      "tensor([[0., 0., 0., 0., 0., 0., 0., 0., 1.]])\n",
      "tensor([[ 0.,  0.,  0.,  0., -1.,  0., -1.,  1.,  1.]])\n",
      "tensor([[ 0.,  0.,  0.,  0., -1.,  0.,  0.,  1.,  1.]])\n",
      "tensor([[0., 0., 0., 0., 0., 0., 0., 0., 1.]])\n",
      "tensor([[ 0.,  0.,  0.,  0., -1.,  0., -1.,  1.,  1.]])\n",
      "tensor([[ 0.,  0.,  0.,  0., -1.,  0.,  0.,  0.,  1.]])\n",
      "tensor([[ 0.,  0.,  0.,  0., -1.,  0.,  0.,  0.,  1.]])\n",
      "tensor([[ 1.,  0.,  0.,  0.,  1., -1.,  1., -1., -1.]])\n",
      "tensor([[ 0.,  0.,  1.,  0.,  1.,  0.,  0.,  0., -1.]])\n",
      "tensor([[ 0.,  0.,  0.,  0., -1.,  0.,  0.,  0.,  1.]])\n",
      "tensor([[1., 0., 0., 0., 0., 0., 0., 0., 0.]])\n"
     ]
    },
    {
     "name": "stderr",
     "output_type": "stream",
     "text": [
      "\r",
      " 11%|████▏                                 | 1106/10000 [00:43<05:15, 28.18it/s]"
     ]
    },
    {
     "name": "stdout",
     "output_type": "stream",
     "text": [
      "tensor([[ 0.,  0.,  0.,  0., -1.,  0.,  0.,  1.,  1.]])\n",
      "tensor([[0., 0., 0., 0., 0., 0., 0., 0., 1.]])\n",
      "tensor([[ 0.,  0.,  0.,  0., -1.,  0., -1.,  1.,  1.]])\n",
      "tensor([[ 0.,  0.,  0.,  0.,  0.,  0.,  1.,  0., -1.]])\n",
      "tensor([[ 0.,  0.,  0.,  0., -1.,  1., -1.,  1.,  1.]])\n",
      "tensor([[ 0.,  0.,  0.,  0., -1.,  0.,  0.,  0.,  1.]])\n",
      "tensor([[ 1.,  0.,  0.,  0.,  1.,  0.,  0., -1., -1.]])\n",
      "tensor([[ 0.,  0.,  0.,  0., -1.,  0.,  0.,  1.,  1.]])\n",
      "tensor([[ 1.,  0.,  0.,  0.,  1., -1.,  1., -1., -1.]])\n",
      "tensor([[ 1.,  0.,  0.,  0.,  1.,  0.,  1., -1., -1.]])\n",
      "tensor([[ 0.,  0.,  0.,  0., -1.,  1., -1.,  1.,  1.]])\n",
      "tensor([[ 0.,  0.,  0.,  0., -1.,  0., -1.,  1.,  1.]])\n",
      "tensor([[ 0.,  0.,  0.,  0., -1.,  0., -1.,  1.,  1.]])\n",
      "tensor([[ 0.,  0.,  0.,  0., -1.,  1., -1.,  1.,  1.]])\n",
      "tensor([[ 0.,  0.,  0.,  0., -1.,  0.,  0.,  1.,  1.]])\n",
      "tensor([[0., 0., 0., 0., 0., 0., 0., 0., 1.]])\n",
      "tensor([[ 0.,  0.,  0.,  0., -1.,  1., -1.,  1.,  1.]])\n",
      "tensor([[0., 0., 1., 0., 0., 0., 0., 0., 0.]])\n",
      "tensor([[ 0.,  0.,  0.,  0., -1.,  0.,  0.,  1.,  1.]])\n",
      "tensor([[ 1.,  0.,  0.,  0.,  1.,  0.,  1., -1., -1.]])\n",
      "tensor([[ 0.,  0.,  0.,  0., -1.,  0.,  0.,  1.,  1.]])\n",
      "tensor([[ 0.,  0.,  0.,  0., -1.,  1., -1.,  1.,  1.]])\n",
      "tensor([[ 0.,  0.,  0.,  0., -1.,  0.,  0.,  0.,  1.]])\n",
      "tensor([[ 1.,  0.,  0.,  0.,  1., -1.,  1., -1., -1.]])\n",
      "tensor([[ 0.,  0.,  0.,  0.,  0.,  0.,  1.,  0., -1.]])\n",
      "tensor([[ 0.,  0.,  1.,  0.,  1.,  0.,  0.,  0., -1.]])\n",
      "tensor([[ 0.,  0.,  1.,  0.,  1.,  0.,  0., -1., -1.]])\n",
      "tensor([[ 1.,  0.,  0.,  0.,  1.,  0.,  0.,  0., -1.]])\n",
      "tensor([[ 0.,  0.,  0.,  0., -1.,  0.,  0.,  0.,  1.]])\n",
      "tensor([[ 0.,  0.,  0.,  0., -1.,  0.,  0.,  1.,  1.]])\n",
      "tensor([[ 0.,  0.,  0.,  0., -1.,  1., -1.,  1.,  1.]])\n"
     ]
    },
    {
     "name": "stderr",
     "output_type": "stream",
     "text": [
      " 11%|████▏                                 | 1113/10000 [00:43<05:24, 27.40it/s]"
     ]
    },
    {
     "name": "stdout",
     "output_type": "stream",
     "text": [
      "tensor([[ 0.,  0.,  1.,  0.,  1.,  0.,  0.,  0., -1.]])\n",
      "tensor([[ 0.,  0.,  0.,  0., -1.,  1., -1.,  1.,  1.]])\n",
      "tensor([[0., 0., 0., 0., 0., 0., 0., 0., 1.]])\n",
      "tensor([[ 0.,  0.,  1.,  0.,  1.,  0.,  0., -1., -1.]])\n",
      "tensor([[ 0.,  0.,  0.,  0.,  0.,  0.,  1.,  0., -1.]])\n",
      "tensor([[0., 0., 0., 0., 1., 0., 0., 0., 0.]])\n",
      "tensor([[ 0.,  0.,  0.,  0., -1.,  0., -1.,  1.,  1.]])\n",
      "tensor([[ 0.,  0.,  0.,  0.,  0.,  0.,  0., -1.,  1.]])\n",
      "tensor([[ 0.,  0.,  0.,  0.,  1.,  0., -1., -1.,  1.]])\n",
      "tensor([[ 0.,  0.,  0.,  0., -1.,  0., -1.,  1.,  1.]])\n",
      "tensor([[ 1.,  0.,  0.,  0.,  1.,  0.,  1., -1., -1.]])\n",
      "tensor([[ 1.,  0.,  0.,  0.,  1.,  0.,  0.,  0., -1.]])\n",
      "tensor([[0., 0., 0., 0., 0., 0., 1., 0., 0.]])\n",
      "tensor([[ 0.,  0.,  0.,  0., -1.,  1., -1.,  1.,  1.]])\n",
      "tensor([[ 0.,  0.,  0.,  0., -1.,  0.,  0.,  0.,  1.]])\n",
      "tensor([[ 1.,  0.,  0.,  0.,  0.,  0.,  0.,  0., -1.]])\n",
      "tensor([[ 1.,  0.,  0.,  0.,  1.,  0.,  0., -1., -1.]])\n",
      "tensor([[0., 0., 0., 0., 0., 0., 0., 0., 1.]])\n",
      "tensor([[ 0.,  0.,  0.,  0., -1.,  0., -1.,  1.,  1.]])\n",
      "tensor([[ 0.,  0.,  0.,  0., -1.,  0.,  0.,  0.,  1.]])\n",
      "tensor([[ 1.,  0.,  0.,  0.,  1., -1.,  1., -1., -1.]])\n",
      "tensor([[ 0.,  0.,  0.,  0., -1.,  0., -1.,  1.,  1.]])\n",
      "tensor([[ 1.,  0.,  0.,  0.,  1.,  0.,  0., -1., -1.]])\n",
      "tensor([[ 0.,  0.,  0.,  0.,  0.,  0.,  1.,  0., -1.]])\n",
      "tensor([[0., 0., 0., 0., 0., 0., 1., 0., 0.]])\n",
      "tensor([[ 1.,  0.,  0.,  0.,  1., -1.,  1., -1., -1.]])\n",
      "tensor([[0., 0., 1., 0., 0., 0., 0., 0., 0.]])\n"
     ]
    },
    {
     "name": "stderr",
     "output_type": "stream",
     "text": [
      " 11%|████▎                                 | 1120/10000 [00:43<05:11, 28.47it/s]"
     ]
    },
    {
     "name": "stdout",
     "output_type": "stream",
     "text": [
      "tensor([[ 0.,  0.,  0.,  0., -1.,  1., -1.,  1.,  1.]])\n",
      "tensor([[ 0.,  0.,  1.,  0.,  1.,  0.,  0., -1., -1.]])\n",
      "tensor([[0., 0., 0., 0., 0., 0., 0., 0., 1.]])\n",
      "tensor([[ 1.,  0.,  0.,  0.,  1.,  0.,  0.,  0., -1.]])\n",
      "tensor([[ 0.,  0.,  0.,  0., -1.,  0.,  0.,  1.,  1.]])\n",
      "tensor([[ 0.,  0.,  0.,  0., -1.,  0.,  0.,  1.,  1.]])\n",
      "tensor([[ 0.,  0.,  0.,  0.,  1.,  0.,  0., -1.,  1.]])\n",
      "tensor([[ 0.,  0.,  0.,  0., -1.,  0., -1.,  1.,  1.]])\n",
      "tensor([[ 0.,  0.,  1.,  0.,  1.,  0.,  0., -1., -1.]])\n",
      "tensor([[ 0.,  0.,  0.,  0., -1.,  1., -1.,  1.,  1.]])\n",
      "tensor([[0., 0., 0., 0., 1., 0., 0., 0., 0.]])\n",
      "tensor([[ 1.,  0.,  0.,  0.,  1., -1.,  1., -1., -1.]])\n",
      "tensor([[ 0.,  0.,  0.,  0.,  1.,  0.,  1.,  0., -1.]])\n",
      "tensor([[ 0.,  0.,  0.,  0., -1.,  0.,  0.,  0.,  1.]])\n",
      "tensor([[ 0.,  0.,  0.,  0., -1.,  0.,  0.,  0.,  1.]])\n",
      "tensor([[ 0.,  0.,  0.,  0., -1.,  1., -1.,  1.,  1.]])\n",
      "tensor([[ 1.,  0.,  0.,  0.,  1.,  0.,  0.,  0., -1.]])\n",
      "tensor([[0., 0., 1., 0., 0., 0., 0., 0., 0.]])\n",
      "tensor([[0., 0., 0., 0., 0., 0., 0., 0., 1.]])\n",
      "tensor([[ 1.,  0.,  0.,  0.,  1.,  0.,  0.,  0., -1.]])\n",
      "tensor([[ 0.,  0.,  0.,  0., -1.,  0.,  0.,  1.,  1.]])\n",
      "tensor([[0., 0., 0., 0., 1., 0., 0., 0., 0.]])\n",
      "tensor([[ 0.,  0.,  0.,  0., -1.,  0.,  0.,  0.,  1.]])\n",
      "tensor([[ 0.,  0.,  0.,  0., -1.,  0., -1.,  1.,  1.]])\n",
      "tensor([[ 0.,  0.,  1.,  0.,  0.,  0.,  0.,  0., -1.]])\n",
      "tensor([[ 0.,  0.,  0.,  0., -1.,  0.,  0.,  1.,  1.]])\n",
      "tensor([[ 0.,  0.,  0.,  0.,  1.,  0.,  1.,  0., -1.]])\n"
     ]
    },
    {
     "name": "stderr",
     "output_type": "stream",
     "text": [
      " 11%|████▎                                 | 1126/10000 [00:44<05:14, 28.25it/s]"
     ]
    },
    {
     "name": "stdout",
     "output_type": "stream",
     "text": [
      "tensor([[ 0.,  0.,  0.,  0., -1.,  0., -1.,  1.,  1.]])\n",
      "tensor([[0., 0., 0., 0., 0., 0., 1., 0., 0.]])\n",
      "tensor([[ 1.,  0.,  0.,  0.,  1.,  0.,  0.,  0., -1.]])\n",
      "tensor([[ 0.,  0.,  0.,  0., -1.,  0., -1.,  1.,  1.]])\n",
      "tensor([[ 0.,  0.,  0.,  0., -1.,  1., -1.,  1.,  1.]])\n",
      "tensor([[ 0.,  0.,  0.,  0., -1.,  0.,  0.,  0.,  1.]])\n",
      "tensor([[ 0.,  0.,  0.,  0., -1.,  1., -1.,  1.,  1.]])\n",
      "tensor([[ 0.,  0.,  0.,  0., -1.,  1., -1.,  1.,  1.]])\n",
      "tensor([[0., 0., 0., 0., 0., 0., 0., 0., 1.]])\n",
      "tensor([[0., 0., 0., 0., 0., 0., 0., 0., 1.]])\n",
      "tensor([[0., 0., 0., 0., 1., 0., 0., 0., 0.]])\n",
      "tensor([[ 1.,  0.,  0.,  0.,  1., -1.,  1., -1., -1.]])\n",
      "tensor([[0., 0., 0., 0., 0., 0., 0., 0., 1.]])\n",
      "tensor([[ 0.,  0.,  0.,  0., -1.,  1., -1.,  1.,  1.]])\n",
      "tensor([[ 0.,  0.,  0.,  0., -1.,  1., -1.,  1.,  1.]])\n",
      "tensor([[ 1.,  0.,  0.,  0.,  1.,  0.,  0.,  0., -1.]])\n",
      "tensor([[ 1.,  0.,  0.,  0.,  1.,  0.,  1., -1., -1.]])\n",
      "tensor([[ 0.,  0.,  1.,  0.,  0.,  0.,  0.,  0., -1.]])\n",
      "tensor([[ 0.,  0.,  0.,  0., -1.,  0., -1.,  1.,  1.]])\n",
      "tensor([[ 0.,  0.,  0.,  0., -1.,  0., -1.,  1.,  1.]])\n",
      "tensor([[0., 0., 0., 0., 0., 0., 0., 0., 1.]])\n",
      "tensor([[ 0.,  0.,  0.,  0., -1.,  0., -1.,  1.,  1.]])\n",
      "tensor([[0., 0., 0., 0., 0., 0., 0., 0., 1.]])\n",
      "tensor([[ 1.,  0.,  0.,  0.,  1.,  0.,  0., -1., -1.]])\n",
      "tensor([[ 0.,  0.,  0.,  0.,  1.,  0.,  1., -1., -1.]])\n",
      "tensor([[ 1.,  0.,  0.,  0.,  0.,  0.,  0.,  0., -1.]])\n",
      "tensor([[0., 0., 0., 0., 0., 0., 0., 0., 1.]])\n",
      "tensor([[0., 0., 0., 0., 1., 0., 0., 0., 0.]])\n",
      "tensor([[0., 0., 0., 0., 0., 0., 0., 0., 1.]])\n",
      "tensor([[0., 0., 0., 0., 0., 0., 0., 0., 1.]])\n"
     ]
    },
    {
     "name": "stderr",
     "output_type": "stream",
     "text": [
      "\r",
      " 11%|████▎                                 | 1129/10000 [00:44<05:21, 27.61it/s]"
     ]
    },
    {
     "name": "stdout",
     "output_type": "stream",
     "text": [
      "tensor([[ 0.,  0.,  0.,  0.,  0.,  0.,  1.,  0., -1.]])\n",
      "tensor([[ 0.,  0.,  0.,  0., -1.,  0., -1.,  1.,  1.]])\n",
      "tensor([[0., 0., 0., 0., 1., 0., 0., 0., 0.]])\n",
      "tensor([[ 0.,  0.,  0.,  0., -1.,  0., -1.,  1.,  1.]])\n",
      "tensor([[ 1.,  0.,  0.,  0.,  1., -1.,  1., -1., -1.]])\n",
      "tensor([[1., 0., 0., 0., 0., 0., 0., 0., 0.]])\n",
      "tensor([[ 0.,  0.,  0.,  0., -1.,  0.,  0.,  1.,  1.]])\n",
      "tensor([[ 0.,  0.,  0.,  0., -1.,  1., -1.,  1.,  1.]])\n",
      "tensor([[ 0.,  0.,  0.,  0., -1.,  0.,  0.,  0.,  1.]])\n",
      "tensor([[ 1.,  0.,  0.,  0.,  1.,  0.,  0.,  0., -1.]])\n",
      "tensor([[0., 0., 0., 0., 0., 0., 0., 0., 1.]])\n",
      "tensor([[0., 0., 0., 0., 0., 0., 0., 0., 1.]])\n",
      "tensor([[ 0.,  0.,  1.,  0.,  1.,  0.,  0., -1., -1.]])\n",
      "tensor([[ 0.,  0.,  0.,  0., -1.,  0.,  0.,  1.,  1.]])\n",
      "tensor([[ 0.,  0.,  0.,  0., -1.,  1., -1.,  1.,  1.]])\n",
      "tensor([[0., 0., 0., 0., 0., 0., 0., 0., 1.]])\n",
      "tensor([[ 1.,  0.,  0.,  0.,  1.,  0.,  0., -1., -1.]])\n",
      "tensor([[0., 0., 0., 0., 0., 0., 0., 0., 1.]])\n",
      "tensor([[ 1.,  0.,  0.,  0.,  1., -1.,  1., -1., -1.]])\n",
      "tensor([[ 1.,  0.,  0.,  0.,  1.,  0.,  1., -1., -1.]])\n",
      "tensor([[ 0.,  0.,  0.,  0., -1.,  0.,  0.,  1.,  1.]])\n",
      "tensor([[ 1.,  0.,  0.,  0.,  1.,  0.,  1., -1., -1.]])\n",
      "tensor([[ 0.,  0.,  0.,  0., -1.,  0.,  0.,  1.,  1.]])\n",
      "tensor([[0., 0., 0., 0., 0., 0., 0., 0., 1.]])\n",
      "tensor([[ 0.,  0.,  0.,  0., -1.,  0.,  0.,  0.,  1.]])\n",
      "tensor([[ 0.,  0.,  0.,  0., -1.,  0., -1.,  1.,  1.]])\n",
      "tensor([[ 1.,  0.,  0.,  0.,  0.,  0.,  0.,  0., -1.]])\n",
      "tensor([[ 0.,  0.,  0.,  0., -1.,  0.,  0.,  0.,  1.]])\n",
      "tensor([[0., 0., 0., 0., 0., 0., 0., 0., 1.]])\n",
      "tensor([[ 0.,  0.,  0.,  0.,  1.,  0.,  0.,  0., -1.]])\n",
      "tensor([[ 0.,  0.,  0.,  0., -1.,  0.,  0.,  1.,  1.]])\n",
      "tensor([[ 0.,  0.,  0.,  0., -1.,  0., -1.,  1.,  1.]])\n",
      "tensor([[ 0.,  0.,  0.,  0.,  0.,  0.,  1.,  0., -1.]])\n",
      "tensor([[0., 0., 0., 0., 1., 0., 0., 0., 0.]])\n",
      "tensor([[1., 0., 0., 0., 0., 0., 0., 0., 0.]])\n"
     ]
    },
    {
     "name": "stderr",
     "output_type": "stream",
     "text": [
      " 11%|████▎                                 | 1136/10000 [00:44<05:10, 28.54it/s]"
     ]
    },
    {
     "name": "stdout",
     "output_type": "stream",
     "text": [
      "tensor([[ 0.,  0.,  0.,  0., -1.,  0.,  0.,  1.,  1.]])\n",
      "tensor([[0., 0., 0., 0., 0., 0., 0., 0., 1.]])\n",
      "tensor([[0., 0., 0., 0., 0., 0., 0., 0., 1.]])\n",
      "tensor([[ 0.,  0.,  1.,  0.,  1.,  0.,  0.,  0., -1.]])\n",
      "tensor([[ 1.,  0.,  0.,  0.,  1.,  0.,  0., -1., -1.]])\n",
      "tensor([[ 0.,  0.,  0.,  0., -1.,  0., -1.,  1.,  1.]])\n",
      "tensor([[ 0.,  0.,  0.,  0., -1.,  0.,  0.,  0.,  1.]])\n",
      "tensor([[0., 0., 0., 0., 0., 0., 0., 0., 1.]])\n",
      "tensor([[ 1.,  0.,  0.,  0.,  1.,  0.,  1., -1., -1.]])\n",
      "tensor([[0., 0., 0., 0., 0., 0., 0., 0., 1.]])\n",
      "tensor([[ 1.,  0.,  0.,  0.,  1.,  0.,  0., -1., -1.]])\n",
      "tensor([[ 0.,  0.,  0.,  0., -1.,  1., -1.,  1.,  1.]])\n",
      "tensor([[ 0.,  0.,  0.,  0.,  0.,  0.,  1.,  0., -1.]])\n",
      "tensor([[ 0.,  0.,  0.,  0.,  0.,  0.,  1.,  0., -1.]])\n",
      "tensor([[0., 0., 0., 0., 1., 0., 0., 0., 0.]])\n",
      "tensor([[0., 0., 0., 0., 0., 0., 0., 0., 1.]])\n",
      "tensor([[ 0.,  0.,  0.,  0., -1.,  0.,  0.,  0.,  1.]])\n",
      "tensor([[ 1.,  0.,  0.,  0.,  1., -1.,  1., -1., -1.]])\n",
      "tensor([[0., 0., 0., 0., 0., 0., 0., 0., 1.]])\n",
      "tensor([[ 0.,  0.,  0.,  0., -1.,  0.,  0.,  1.,  1.]])\n",
      "tensor([[0., 0., 0., 0., 0., 0., 0., 0., 1.]])\n",
      "tensor([[0., 0., 0., 0., 0., 0., 1., 0., 0.]])\n",
      "tensor([[ 0.,  0.,  0.,  0., -1.,  0.,  0.,  0.,  1.]])\n",
      "tensor([[ 0.,  0.,  0.,  0., -1.,  0.,  0.,  1.,  1.]])\n",
      "tensor([[ 0.,  0.,  0.,  0., -1.,  1., -1.,  1.,  1.]])\n",
      "tensor([[ 0.,  0.,  0.,  0., -1.,  0., -1.,  1.,  1.]])\n",
      "tensor([[ 1.,  0.,  0.,  0.,  0.,  0.,  0.,  0., -1.]])\n",
      "tensor([[ 0.,  0.,  0.,  0., -1.,  1., -1.,  1.,  1.]])\n"
     ]
    },
    {
     "name": "stderr",
     "output_type": "stream",
     "text": [
      " 11%|████▎                                 | 1142/10000 [00:44<05:30, 26.79it/s]"
     ]
    },
    {
     "name": "stdout",
     "output_type": "stream",
     "text": [
      "tensor([[ 0.,  0.,  0.,  0., -1.,  1., -1.,  1.,  1.]])\n",
      "tensor([[ 0.,  0.,  0.,  0.,  1.,  0.,  1., -1., -1.]])\n",
      "tensor([[0., 0., 0., 0., 0., 0., 0., 0., 1.]])\n",
      "tensor([[ 0.,  0.,  0.,  0., -1.,  0., -1.,  1.,  1.]])\n",
      "tensor([[ 0.,  0.,  0.,  0., -1.,  0.,  0.,  0.,  1.]])\n",
      "tensor([[0., 0., 0., 0., 0., 0., 1., 0., 0.]])\n",
      "tensor([[ 0.,  0.,  0.,  0., -1.,  0.,  0.,  1.,  1.]])\n",
      "tensor([[ 0.,  0.,  0.,  0., -1.,  0.,  0.,  0.,  1.]])\n",
      "tensor([[ 0.,  0.,  0.,  0.,  0.,  0.,  1.,  0., -1.]])\n",
      "tensor([[ 0.,  0.,  0.,  0., -1.,  1., -1.,  1.,  1.]])\n",
      "tensor([[ 0.,  0.,  0.,  0., -1.,  0., -1.,  1.,  1.]])\n",
      "tensor([[ 0.,  0.,  0.,  0., -1.,  0.,  0.,  0.,  1.]])\n",
      "tensor([[ 1.,  0.,  0.,  0.,  1.,  0.,  0., -1., -1.]])\n",
      "tensor([[ 1.,  0.,  0.,  0.,  1.,  0.,  1., -1., -1.]])\n",
      "tensor([[ 0.,  0.,  0.,  0., -1.,  0.,  0.,  1.,  1.]])\n",
      "tensor([[ 0.,  0.,  0.,  0., -1.,  1., -1.,  1.,  1.]])\n",
      "tensor([[ 0.,  0.,  1.,  0.,  0.,  0.,  0.,  0., -1.]])\n",
      "tensor([[0., 0., 0., 0., 0., 0., 0., 0., 1.]])\n",
      "tensor([[0., 0., 0., 0., 0., 0., 0., 0., 1.]])\n",
      "tensor([[0., 0., 0., 0., 0., 0., 0., 0., 1.]])\n",
      "tensor([[0., 0., 0., 0., 0., 0., 0., 0., 1.]])\n",
      "tensor([[ 0.,  0.,  0.,  0.,  0.,  0.,  1.,  0., -1.]])\n",
      "tensor([[ 0.,  0.,  1.,  0.,  0.,  0.,  0.,  0., -1.]])\n",
      "tensor([[ 0.,  0.,  0.,  0., -1.,  1., -1.,  1.,  1.]])\n",
      "tensor([[0., 0., 0., 0., 1., 0., 0., 0., 0.]])\n",
      "tensor([[ 1.,  0.,  0.,  0.,  1.,  0.,  1., -1., -1.]])\n"
     ]
    },
    {
     "name": "stderr",
     "output_type": "stream",
     "text": [
      " 11%|████▎                                 | 1149/10000 [00:44<05:16, 27.95it/s]"
     ]
    },
    {
     "name": "stdout",
     "output_type": "stream",
     "text": [
      "tensor([[ 0.,  0.,  1.,  0.,  1.,  0.,  0.,  0., -1.]])\n",
      "tensor([[ 0.,  0.,  0.,  0., -1.,  1., -1.,  1.,  1.]])\n",
      "tensor([[ 0.,  0.,  0.,  0., -1.,  0., -1.,  1.,  1.]])\n",
      "tensor([[0., 0., 0., 0., 0., 0., 1., 0., 0.]])\n",
      "tensor([[ 0.,  0.,  0.,  0., -1.,  1., -1.,  1.,  1.]])\n",
      "tensor([[ 1.,  0.,  0.,  0.,  1.,  0.,  0., -1., -1.]])\n",
      "tensor([[ 0.,  0.,  0.,  0., -1.,  0., -1.,  1.,  1.]])\n",
      "tensor([[ 0.,  0.,  0.,  0., -1.,  0.,  0.,  0.,  1.]])\n",
      "tensor([[1., 0., 0., 0., 0., 0., 0., 0., 0.]])\n",
      "tensor([[0., 0., 1., 0., 0., 0., 0., 0., 0.]])\n",
      "tensor([[ 0.,  0.,  1.,  0.,  1.,  0.,  0., -1., -1.]])\n",
      "tensor([[ 0.,  0.,  0.,  0., -1.,  1., -1.,  1.,  1.]])\n",
      "tensor([[ 0.,  0.,  0.,  0.,  0.,  0.,  0., -1.,  1.]])\n",
      "tensor([[0., 0., 0., 0., 0., 0., 0., 0., 1.]])\n",
      "tensor([[ 0.,  0.,  0.,  0., -1.,  0., -1.,  1.,  1.]])\n",
      "tensor([[ 0.,  0.,  0.,  0.,  1.,  0.,  1., -1., -1.]])\n",
      "tensor([[0., 0., 0., 0., 0., 0., 0., 0., 1.]])\n",
      "tensor([[ 0.,  0.,  0.,  0., -1.,  0.,  0.,  0.,  1.]])\n",
      "tensor([[ 0.,  0.,  1.,  0.,  0.,  0.,  0.,  0., -1.]])\n",
      "tensor([[ 0.,  0.,  0.,  0., -1.,  0.,  0.,  1.,  1.]])\n",
      "tensor([[ 1.,  0.,  0.,  0.,  1., -1.,  1., -1., -1.]])\n",
      "tensor([[ 1.,  0.,  0.,  0.,  0.,  0.,  0.,  0., -1.]])\n",
      "tensor([[ 0.,  0.,  0.,  0., -1.,  0.,  0.,  0.,  1.]])\n",
      "tensor([[ 0.,  0.,  0.,  0., -1.,  1., -1.,  1.,  1.]])\n",
      "tensor([[1., 0., 0., 0., 0., 0., 0., 0., 0.]])\n"
     ]
    },
    {
     "name": "stderr",
     "output_type": "stream",
     "text": [
      "\r",
      " 12%|████▍                                 | 1152/10000 [00:45<05:21, 27.50it/s]"
     ]
    },
    {
     "name": "stdout",
     "output_type": "stream",
     "text": [
      "tensor([[ 0.,  0.,  0.,  0., -1.,  0.,  0.,  0.,  1.]])\n",
      "tensor([[ 0.,  0.,  0.,  0.,  0.,  0.,  0., -1.,  1.]])\n",
      "tensor([[ 0.,  0.,  0.,  0., -1.,  0.,  0.,  1.,  1.]])\n",
      "tensor([[0., 0., 0., 0., 0., 0., 0., 0., 1.]])\n",
      "tensor([[ 0.,  0.,  0.,  0.,  1.,  0., -1., -1.,  1.]])\n",
      "tensor([[ 0.,  0.,  0.,  0.,  1.,  0.,  0., -1.,  1.]])\n",
      "tensor([[ 1.,  0.,  0.,  0.,  1.,  0.,  0.,  0., -1.]])\n",
      "tensor([[ 1.,  0.,  0.,  0.,  0.,  0.,  0.,  0., -1.]])\n",
      "tensor([[ 0.,  0.,  0.,  0., -1.,  0., -1.,  1.,  1.]])\n",
      "tensor([[ 0.,  0.,  0.,  0., -1.,  0., -1.,  1.,  1.]])\n",
      "tensor([[ 0.,  0.,  0.,  0., -1.,  0., -1.,  1.,  1.]])\n",
      "tensor([[ 0.,  0.,  0.,  0.,  1.,  0.,  0., -1.,  1.]])\n",
      "tensor([[ 0.,  0.,  0.,  0.,  1.,  0.,  1., -1., -1.]])\n",
      "tensor([[ 0.,  0.,  0.,  0., -1.,  0., -1.,  1.,  1.]])\n",
      "tensor([[ 0.,  0.,  0.,  0.,  0.,  0.,  0., -1.,  1.]])\n",
      "tensor([[ 0.,  0.,  0.,  0.,  1.,  0.,  1.,  0., -1.]])\n",
      "tensor([[0., 0., 0., 0., 1., 0., 0., 0., 0.]])\n",
      "tensor([[0., 0., 0., 0., 0., 0., 0., 0., 1.]])\n",
      "tensor([[ 0.,  0.,  0.,  0.,  0.,  0.,  0., -1.,  1.]])\n",
      "tensor([[ 1.,  0.,  0.,  0.,  1., -1.,  1., -1., -1.]])\n",
      "tensor([[0., 0., 0., 0., 0., 0., 0., 0., 1.]])\n",
      "tensor([[0., 0., 1., 0., 0., 0., 0., 0., 0.]])\n",
      "tensor([[ 0.,  0.,  0.,  0.,  1.,  0.,  0.,  0., -1.]])\n",
      "tensor([[ 0.,  0.,  0.,  0.,  1.,  0.,  1.,  0., -1.]])\n",
      "tensor([[0., 0., 0., 0., 1., 0., 0., 0., 0.]])\n",
      "tensor([[ 1.,  0.,  0.,  0.,  0.,  0.,  0.,  0., -1.]])\n",
      "tensor([[ 0.,  0.,  0.,  0., -1.,  0.,  0.,  0.,  1.]])\n",
      "tensor([[ 0.,  0.,  1.,  0.,  1.,  0.,  0.,  0., -1.]])\n",
      "tensor([[ 0.,  0.,  0.,  0., -1.,  0.,  0.,  0.,  1.]])\n",
      "tensor([[ 0.,  0.,  0.,  0., -1.,  1., -1.,  1.,  1.]])\n"
     ]
    },
    {
     "name": "stderr",
     "output_type": "stream",
     "text": [
      " 12%|████▍                                 | 1158/10000 [00:45<05:39, 26.05it/s]"
     ]
    },
    {
     "name": "stdout",
     "output_type": "stream",
     "text": [
      "tensor([[ 0.,  0.,  0.,  0.,  1.,  0.,  1.,  0., -1.]])\n",
      "tensor([[ 0.,  0.,  0.,  0., -1.,  1., -1.,  1.,  1.]])\n",
      "tensor([[ 0.,  0.,  0.,  0., -1.,  0., -1.,  1.,  1.]])\n",
      "tensor([[ 0.,  0.,  0.,  0., -1.,  0.,  0.,  1.,  1.]])\n",
      "tensor([[ 0.,  0.,  0.,  0., -1.,  0., -1.,  1.,  1.]])\n",
      "tensor([[ 0.,  0.,  0.,  0., -1.,  0.,  0.,  0.,  1.]])\n",
      "tensor([[ 0.,  0.,  0.,  0., -1.,  1., -1.,  1.,  1.]])\n",
      "tensor([[ 0.,  0.,  0.,  0.,  0.,  0.,  1.,  0., -1.]])\n",
      "tensor([[ 0.,  0.,  0.,  0., -1.,  1., -1.,  1.,  1.]])\n",
      "tensor([[ 0.,  0.,  0.,  0., -1.,  0.,  0.,  0.,  1.]])\n",
      "tensor([[ 0.,  0.,  0.,  0., -1.,  0.,  0.,  0.,  1.]])\n",
      "tensor([[0., 0., 0., 0., 0., 0., 0., 0., 1.]])\n",
      "tensor([[1., 0., 0., 0., 0., 0., 0., 0., 0.]])\n",
      "tensor([[ 1.,  0.,  0.,  0.,  1.,  0.,  0., -1., -1.]])\n",
      "tensor([[0., 0., 0., 0., 0., 0., 0., 0., 1.]])\n",
      "tensor([[ 0.,  0.,  0.,  0., -1.,  0.,  0.,  1.,  1.]])\n",
      "tensor([[ 0.,  0.,  0.,  0., -1.,  0.,  0.,  0.,  1.]])\n",
      "tensor([[ 0.,  0.,  0.,  0., -1.,  1., -1.,  1.,  1.]])\n",
      "tensor([[ 0.,  0.,  0.,  0., -1.,  0., -1.,  1.,  1.]])\n",
      "tensor([[ 1.,  0.,  0.,  0.,  1.,  0.,  0., -1., -1.]])\n",
      "tensor([[ 0.,  0.,  0.,  0., -1.,  0., -1.,  1.,  1.]])\n",
      "tensor([[ 0.,  0.,  0.,  0.,  1.,  0.,  0.,  0., -1.]])\n",
      "tensor([[ 0.,  0.,  0.,  0., -1.,  0.,  0.,  0.,  1.]])\n",
      "tensor([[ 0.,  0.,  1.,  0.,  1.,  0.,  0.,  0., -1.]])\n",
      "tensor([[ 1.,  0.,  0.,  0.,  1.,  0.,  0.,  0., -1.]])\n",
      "tensor([[ 0.,  0.,  0.,  0.,  1.,  0.,  0., -1.,  1.]])\n",
      "tensor([[ 0.,  0.,  0.,  0., -1.,  0.,  0.,  1.,  1.]])\n",
      "tensor([[ 1.,  0.,  0.,  0.,  1.,  0.,  0.,  0., -1.]])\n",
      "tensor([[ 0.,  0.,  1.,  0.,  1.,  0.,  0.,  0., -1.]])\n"
     ]
    },
    {
     "name": "stderr",
     "output_type": "stream",
     "text": [
      " 12%|████▍                                 | 1164/10000 [00:45<05:34, 26.44it/s]"
     ]
    },
    {
     "name": "stdout",
     "output_type": "stream",
     "text": [
      "tensor([[ 0.,  0.,  0.,  0.,  0.,  0.,  0., -1.,  1.]])\n",
      "tensor([[ 0.,  0.,  0.,  0., -1.,  1., -1.,  1.,  1.]])\n",
      "tensor([[ 1.,  0.,  0.,  0.,  1.,  0.,  0., -1., -1.]])\n",
      "tensor([[ 0.,  0.,  0.,  0.,  0.,  0.,  0., -1.,  1.]])\n",
      "tensor([[0., 0., 0., 0., 1., 0., 0., 0., 0.]])\n",
      "tensor([[ 1.,  0.,  0.,  0.,  1., -1.,  1., -1., -1.]])\n",
      "tensor([[ 1.,  0.,  0.,  0.,  1.,  0.,  0.,  0., -1.]])\n",
      "tensor([[ 0.,  0.,  0.,  0.,  1.,  0.,  1., -1., -1.]])\n",
      "tensor([[ 0.,  0.,  0.,  0., -1.,  1., -1.,  1.,  1.]])\n",
      "tensor([[ 0.,  0.,  0.,  0., -1.,  0., -1.,  1.,  1.]])\n",
      "tensor([[ 1.,  0.,  0.,  0.,  1., -1.,  1., -1., -1.]])\n",
      "tensor([[ 0.,  0.,  0.,  0.,  1.,  0.,  1., -1., -1.]])\n",
      "tensor([[ 1.,  0.,  0.,  0.,  1.,  0.,  0., -1., -1.]])\n",
      "tensor([[ 0.,  0.,  0.,  0., -1.,  0.,  0.,  1.,  1.]])\n",
      "tensor([[ 0.,  0.,  0.,  0., -1.,  0.,  0.,  1.,  1.]])\n",
      "tensor([[ 0.,  0.,  0.,  0., -1.,  1., -1.,  1.,  1.]])\n",
      "tensor([[ 0.,  0.,  0.,  0., -1.,  0., -1.,  1.,  1.]])\n",
      "tensor([[ 0.,  0.,  0.,  0., -1.,  1., -1.,  1.,  1.]])\n",
      "tensor([[0., 0., 0., 0., 0., 0., 0., 0., 1.]])\n",
      "tensor([[ 0.,  0.,  0.,  0., -1.,  0., -1.,  1.,  1.]])\n",
      "tensor([[ 0.,  0.,  0.,  0.,  1.,  0.,  1.,  0., -1.]])\n",
      "tensor([[ 0.,  0.,  0.,  0., -1.,  1., -1.,  1.,  1.]])\n",
      "tensor([[ 0.,  0.,  0.,  0., -1.,  0., -1.,  1.,  1.]])\n",
      "tensor([[ 0.,  0.,  0.,  0., -1.,  0., -1.,  1.,  1.]])\n",
      "tensor([[ 0.,  0.,  0.,  0.,  1.,  0.,  0.,  0., -1.]])\n",
      "tensor([[ 0.,  0.,  0.,  0., -1.,  0.,  0.,  0.,  1.]])\n"
     ]
    },
    {
     "name": "stderr",
     "output_type": "stream",
     "text": [
      " 12%|████▍                                 | 1170/10000 [00:45<05:32, 26.54it/s]"
     ]
    },
    {
     "name": "stdout",
     "output_type": "stream",
     "text": [
      "tensor([[1., 0., 0., 0., 0., 0., 0., 0., 0.]])\n",
      "tensor([[ 1.,  0.,  0.,  0.,  1.,  0.,  0.,  0., -1.]])\n",
      "tensor([[0., 0., 0., 0., 0., 0., 0., 0., 1.]])\n",
      "tensor([[ 0.,  0.,  0.,  0.,  1.,  0.,  1., -1., -1.]])\n",
      "tensor([[ 1.,  0.,  0.,  0.,  0.,  0.,  0.,  0., -1.]])\n",
      "tensor([[0., 0., 0., 0., 0., 0., 0., 0., 1.]])\n",
      "tensor([[ 1.,  0.,  0.,  0.,  1.,  0.,  1., -1., -1.]])\n",
      "tensor([[0., 0., 0., 0., 0., 0., 0., 0., 1.]])\n",
      "tensor([[ 0.,  0.,  0.,  0., -1.,  1., -1.,  1.,  1.]])\n",
      "tensor([[ 1.,  0.,  0.,  0.,  1.,  0.,  0.,  0., -1.]])\n",
      "tensor([[ 0.,  0.,  0.,  0., -1.,  0.,  0.,  0.,  1.]])\n",
      "tensor([[ 0.,  0.,  0.,  0., -1.,  0., -1.,  1.,  1.]])\n",
      "tensor([[ 0.,  0.,  0.,  0., -1.,  0.,  0.,  0.,  1.]])\n",
      "tensor([[ 0.,  0.,  0.,  0., -1.,  0.,  0.,  0.,  1.]])\n",
      "tensor([[ 0.,  0.,  0.,  0., -1.,  0.,  0.,  1.,  1.]])\n",
      "tensor([[0., 0., 0., 0., 0., 0., 0., 0., 1.]])\n",
      "tensor([[ 0.,  0.,  0.,  0., -1.,  0.,  0.,  0.,  1.]])\n",
      "tensor([[ 0.,  0.,  0.,  0., -1.,  1., -1.,  1.,  1.]])\n",
      "tensor([[ 0.,  0.,  0.,  0., -1.,  0., -1.,  1.,  1.]])\n",
      "tensor([[ 0.,  0.,  0.,  0., -1.,  0.,  0.,  1.,  1.]])\n",
      "tensor([[ 0.,  0.,  0.,  0., -1.,  1., -1.,  1.,  1.]])\n",
      "tensor([[ 0.,  0.,  0.,  0.,  1.,  0., -1., -1.,  1.]])\n",
      "tensor([[0., 0., 0., 0., 0., 0., 0., 0., 1.]])\n",
      "tensor([[ 0.,  0.,  0.,  0., -1.,  0.,  0.,  0.,  1.]])\n",
      "tensor([[ 0.,  0.,  0.,  0., -1.,  1., -1.,  1.,  1.]])\n",
      "tensor([[0., 0., 1., 0., 0., 0., 0., 0., 0.]])\n",
      "tensor([[ 1.,  0.,  0.,  0.,  1.,  0.,  1., -1., -1.]])\n",
      "tensor([[0., 0., 0., 0., 0., 0., 0., 0., 1.]])\n",
      "tensor([[ 1.,  0.,  0.,  0.,  1.,  0.,  0., -1., -1.]])\n"
     ]
    },
    {
     "name": "stderr",
     "output_type": "stream",
     "text": [
      "\r",
      " 12%|████▍                                 | 1173/10000 [00:45<05:48, 25.33it/s]"
     ]
    },
    {
     "name": "stdout",
     "output_type": "stream",
     "text": [
      "tensor([[ 0.,  0.,  0.,  0.,  0.,  0.,  1.,  0., -1.]])\n",
      "tensor([[ 1.,  0.,  0.,  0.,  1., -1.,  1., -1., -1.]])\n",
      "tensor([[0., 0., 0., 0., 1., 0., 0., 0., 0.]])\n",
      "tensor([[ 0.,  0.,  1.,  0.,  1.,  0.,  0., -1., -1.]])\n",
      "tensor([[0., 0., 0., 0., 0., 0., 0., 0., 1.]])\n",
      "tensor([[ 0.,  0.,  0.,  0., -1.,  0.,  0.,  1.,  1.]])\n",
      "tensor([[ 0.,  0.,  0.,  0., -1.,  1., -1.,  1.,  1.]])\n",
      "tensor([[ 0.,  0.,  0.,  0., -1.,  0.,  0.,  1.,  1.]])\n",
      "tensor([[ 1.,  0.,  0.,  0.,  1.,  0.,  0.,  0., -1.]])\n",
      "tensor([[ 0.,  0.,  0.,  0.,  0.,  0.,  0., -1.,  1.]])\n",
      "tensor([[ 1.,  0.,  0.,  0.,  0.,  0.,  0.,  0., -1.]])\n",
      "tensor([[ 1.,  0.,  0.,  0.,  1.,  0.,  0.,  0., -1.]])\n",
      "tensor([[ 0.,  0.,  0.,  0., -1.,  0., -1.,  1.,  1.]])\n",
      "tensor([[ 1.,  0.,  0.,  0.,  1.,  0.,  1., -1., -1.]])\n",
      "tensor([[0., 0., 0., 0., 0., 0., 0., 0., 1.]])\n",
      "tensor([[ 0.,  0.,  0.,  0., -1.,  0.,  0.,  0.,  1.]])\n",
      "tensor([[0., 0., 0., 0., 0., 0., 1., 0., 0.]])\n",
      "tensor([[ 1.,  0.,  0.,  0.,  1.,  0.,  1., -1., -1.]])\n",
      "tensor([[ 0.,  0.,  1.,  0.,  1.,  0.,  0., -1., -1.]])\n",
      "tensor([[ 1.,  0.,  0.,  0.,  1.,  0.,  0.,  0., -1.]])\n",
      "tensor([[ 0.,  0.,  0.,  0., -1.,  1., -1.,  1.,  1.]])\n",
      "tensor([[ 1.,  0.,  0.,  0.,  1.,  0.,  0.,  0., -1.]])\n",
      "tensor([[ 0.,  0.,  1.,  0.,  1.,  0.,  0., -1., -1.]])\n",
      "tensor([[ 0.,  0.,  0.,  0.,  0.,  0.,  1.,  0., -1.]])\n",
      "tensor([[ 1.,  0.,  0.,  0.,  0.,  0.,  0.,  0., -1.]])\n",
      "tensor([[ 1.,  0.,  0.,  0.,  1.,  0.,  0.,  0., -1.]])\n"
     ]
    },
    {
     "name": "stderr",
     "output_type": "stream",
     "text": [
      " 12%|████▍                                 | 1179/10000 [00:46<05:47, 25.42it/s]"
     ]
    },
    {
     "name": "stdout",
     "output_type": "stream",
     "text": [
      "tensor([[ 0.,  0.,  0.,  0., -1.,  0.,  0.,  0.,  1.]])\n",
      "tensor([[1., 0., 0., 0., 0., 0., 0., 0., 0.]])\n",
      "tensor([[ 0.,  0.,  0.,  0., -1.,  1., -1.,  1.,  1.]])\n",
      "tensor([[ 0.,  0.,  0.,  0., -1.,  0.,  0.,  1.,  1.]])\n",
      "tensor([[ 0.,  0.,  1.,  0.,  1.,  0.,  0., -1., -1.]])\n",
      "tensor([[ 0.,  0.,  0.,  0., -1.,  0.,  0.,  0.,  1.]])\n",
      "tensor([[0., 0., 0., 0., 0., 0., 1., 0., 0.]])\n",
      "tensor([[ 1.,  0.,  0.,  0.,  1.,  0.,  0., -1., -1.]])\n",
      "tensor([[ 0.,  0.,  0.,  0., -1.,  0.,  0.,  0.,  1.]])\n",
      "tensor([[ 0.,  0.,  0.,  0., -1.,  0.,  0.,  1.,  1.]])\n",
      "tensor([[ 0.,  0.,  0.,  0., -1.,  0.,  0.,  0.,  1.]])\n",
      "tensor([[ 0.,  0.,  0.,  0., -1.,  1., -1.,  1.,  1.]])\n",
      "tensor([[ 0.,  0.,  1.,  0.,  1.,  0.,  0.,  0., -1.]])\n",
      "tensor([[ 0.,  0.,  0.,  0., -1.,  1., -1.,  1.,  1.]])\n",
      "tensor([[ 0.,  0.,  0.,  0., -1.,  0.,  0.,  1.,  1.]])\n",
      "tensor([[ 0.,  0.,  0.,  0., -1.,  0.,  0.,  1.,  1.]])\n",
      "tensor([[0., 0., 0., 0., 0., 0., 1., 0., 0.]])\n",
      "tensor([[ 0.,  0.,  0.,  0., -1.,  0., -1.,  1.,  1.]])\n",
      "tensor([[ 0.,  0.,  1.,  0.,  0.,  0.,  0.,  0., -1.]])\n",
      "tensor([[ 1.,  0.,  0.,  0.,  1.,  0.,  0.,  0., -1.]])\n",
      "tensor([[ 0.,  0.,  0.,  0., -1.,  0., -1.,  1.,  1.]])\n",
      "tensor([[ 0.,  0.,  0.,  0.,  0.,  0.,  0., -1.,  1.]])\n",
      "tensor([[ 0.,  0.,  0.,  0., -1.,  0.,  0.,  1.,  1.]])\n",
      "tensor([[ 0.,  0.,  0.,  0., -1.,  0.,  0.,  0.,  1.]])\n",
      "tensor([[ 1.,  0.,  0.,  0.,  0.,  0.,  0.,  0., -1.]])\n",
      "tensor([[ 0.,  0.,  0.,  0., -1.,  1., -1.,  1.,  1.]])\n",
      "tensor([[ 0.,  0.,  0.,  0.,  1.,  0., -1., -1.,  1.]])\n",
      "tensor([[ 0.,  0.,  0.,  0., -1.,  0.,  0.,  0.,  1.]])\n",
      "tensor([[ 0.,  0.,  0.,  0., -1.,  0.,  0.,  1.,  1.]])\n",
      "tensor([[ 0.,  0.,  0.,  0., -1.,  0., -1.,  1.,  1.]])\n",
      "tensor([[ 0.,  0.,  0.,  0., -1.,  0.,  0.,  0.,  1.]])\n",
      "tensor([[ 0.,  0.,  0.,  0.,  0.,  0.,  0., -1.,  1.]])\n",
      "tensor([[ 0.,  0.,  0.,  0., -1.,  0.,  0.,  0.,  1.]])\n"
     ]
    },
    {
     "name": "stderr",
     "output_type": "stream",
     "text": [
      " 12%|████▌                                 | 1187/10000 [00:46<05:06, 28.73it/s]"
     ]
    },
    {
     "name": "stdout",
     "output_type": "stream",
     "text": [
      "tensor([[1., 0., 0., 0., 0., 0., 0., 0., 0.]])\n",
      "tensor([[ 0.,  0.,  0.,  0., -1.,  0., -1.,  1.,  1.]])\n",
      "tensor([[ 1.,  0.,  0.,  0.,  1.,  0.,  1., -1., -1.]])\n",
      "tensor([[ 0.,  0.,  0.,  0., -1.,  0.,  0.,  0.,  1.]])\n",
      "tensor([[0., 0., 0., 0., 1., 0., 0., 0., 0.]])\n",
      "tensor([[ 1.,  0.,  0.,  0.,  1.,  0.,  0., -1., -1.]])\n",
      "tensor([[ 0.,  0.,  0.,  0.,  0.,  0.,  0., -1.,  1.]])\n",
      "tensor([[ 0.,  0.,  0.,  0., -1.,  1., -1.,  1.,  1.]])\n",
      "tensor([[ 0.,  0.,  0.,  0., -1.,  0., -1.,  1.,  1.]])\n",
      "tensor([[ 1.,  0.,  0.,  0.,  1.,  0.,  0.,  0., -1.]])\n",
      "tensor([[0., 0., 0., 0., 0., 0., 0., 0., 1.]])\n",
      "tensor([[ 0.,  0.,  1.,  0.,  0.,  0.,  0.,  0., -1.]])\n",
      "tensor([[ 0.,  0.,  0.,  0.,  1.,  0.,  0.,  0., -1.]])\n",
      "tensor([[ 0.,  0.,  0.,  0., -1.,  0., -1.,  1.,  1.]])\n",
      "tensor([[ 0.,  0.,  0.,  0., -1.,  1., -1.,  1.,  1.]])\n",
      "tensor([[ 1.,  0.,  0.,  0.,  1., -1.,  1., -1., -1.]])\n",
      "tensor([[ 0.,  0.,  0.,  0., -1.,  1., -1.,  1.,  1.]])\n",
      "tensor([[ 0.,  0.,  1.,  0.,  0.,  0.,  0.,  0., -1.]])\n",
      "tensor([[ 0.,  0.,  0.,  0., -1.,  1., -1.,  1.,  1.]])\n",
      "tensor([[ 0.,  0.,  0.,  0., -1.,  0.,  0.,  0.,  1.]])\n",
      "tensor([[ 1.,  0.,  0.,  0.,  1.,  0.,  1., -1., -1.]])\n",
      "tensor([[1., 0., 0., 0., 0., 0., 0., 0., 0.]])\n",
      "tensor([[ 0.,  0.,  0.,  0.,  0.,  0.,  0., -1.,  1.]])\n",
      "tensor([[ 0.,  0.,  0.,  0., -1.,  0.,  0.,  0.,  1.]])\n",
      "tensor([[ 1.,  0.,  0.,  0.,  1., -1.,  1., -1., -1.]])\n"
     ]
    },
    {
     "name": "stderr",
     "output_type": "stream",
     "text": [
      " 12%|████▌                                 | 1194/10000 [00:46<05:02, 29.10it/s]"
     ]
    },
    {
     "name": "stdout",
     "output_type": "stream",
     "text": [
      "tensor([[ 0.,  0.,  0.,  0.,  1.,  0.,  1.,  0., -1.]])\n",
      "tensor([[ 0.,  0.,  0.,  0., -1.,  0.,  0.,  1.,  1.]])\n",
      "tensor([[ 1.,  0.,  0.,  0.,  1.,  0.,  0.,  0., -1.]])\n",
      "tensor([[ 1.,  0.,  0.,  0.,  1.,  0.,  1., -1., -1.]])\n",
      "tensor([[ 0.,  0.,  0.,  0., -1.,  0.,  0.,  0.,  1.]])\n",
      "tensor([[ 0.,  0.,  0.,  0.,  1.,  0., -1., -1.,  1.]])\n",
      "tensor([[ 0.,  0.,  0.,  0.,  1.,  0., -1., -1.,  1.]])\n",
      "tensor([[ 0.,  0.,  1.,  0.,  1.,  0.,  0.,  0., -1.]])\n",
      "tensor([[0., 0., 0., 0., 0., 0., 0., 0., 1.]])\n",
      "tensor([[ 0.,  0.,  0.,  0.,  0.,  0.,  0., -1.,  1.]])\n",
      "tensor([[ 0.,  0.,  1.,  0.,  1.,  0.,  0.,  0., -1.]])\n",
      "tensor([[ 0.,  0.,  0.,  0.,  1.,  0.,  1., -1., -1.]])\n",
      "tensor([[ 0.,  0.,  0.,  0., -1.,  0.,  0.,  0.,  1.]])\n",
      "tensor([[ 1.,  0.,  0.,  0.,  0.,  0.,  0.,  0., -1.]])\n",
      "tensor([[ 0.,  0.,  0.,  0., -1.,  0., -1.,  1.,  1.]])\n",
      "tensor([[ 1.,  0.,  0.,  0.,  1.,  0.,  1., -1., -1.]])\n",
      "tensor([[ 0.,  0.,  0.,  0., -1.,  0.,  0.,  1.,  1.]])\n",
      "tensor([[ 0.,  0.,  0.,  0.,  0.,  0.,  0., -1.,  1.]])\n",
      "tensor([[1., 0., 0., 0., 0., 0., 0., 0., 0.]])\n",
      "tensor([[ 0.,  0.,  0.,  0., -1.,  0., -1.,  1.,  1.]])\n",
      "tensor([[ 0.,  0.,  0.,  0.,  0.,  0.,  1.,  0., -1.]])\n",
      "tensor([[ 0.,  0.,  0.,  0., -1.,  0., -1.,  1.,  1.]])\n",
      "tensor([[1., 0., 0., 0., 0., 0., 0., 0., 0.]])\n",
      "tensor([[ 0.,  0.,  0.,  0., -1.,  0.,  0.,  1.,  1.]])\n",
      "tensor([[ 0.,  0.,  0.,  0., -1.,  1., -1.,  1.,  1.]])\n",
      "tensor([[ 0.,  0.,  0.,  0., -1.,  0.,  0.,  1.,  1.]])\n",
      "tensor([[0., 0., 0., 0., 0., 0., 1., 0., 0.]])\n",
      "tensor([[ 0.,  0.,  0.,  0., -1.,  1., -1.,  1.,  1.]])\n",
      "tensor([[ 0.,  0.,  0.,  0., -1.,  0., -1.,  1.,  1.]])\n",
      "tensor([[ 0.,  0.,  0.,  0., -1.,  1., -1.,  1.,  1.]])\n",
      "tensor([[ 1.,  0.,  0.,  0.,  1.,  0.,  0.,  0., -1.]])\n",
      "tensor([[0., 0., 0., 0., 0., 0., 0., 0., 1.]])\n"
     ]
    },
    {
     "name": "stderr",
     "output_type": "stream",
     "text": [
      "\r",
      " 12%|████▌                                 | 1197/10000 [00:46<05:27, 26.87it/s]"
     ]
    },
    {
     "name": "stdout",
     "output_type": "stream",
     "text": [
      "tensor([[0., 0., 0., 0., 0., 0., 0., 0., 1.]])\n",
      "tensor([[ 0.,  0.,  0.,  0., -1.,  0.,  0.,  1.,  1.]])\n",
      "tensor([[ 0.,  0.,  0.,  0., -1.,  0.,  0.,  0.,  1.]])\n",
      "tensor([[ 0.,  0.,  0.,  0., -1.,  0., -1.,  1.,  1.]])\n",
      "tensor([[0., 0., 0., 0., 0., 0., 0., 0., 1.]])\n",
      "tensor([[ 0.,  0.,  0.,  0., -1.,  0., -1.,  1.,  1.]])\n",
      "tensor([[ 1.,  0.,  0.,  0.,  0.,  0.,  0.,  0., -1.]])\n",
      "tensor([[0., 0., 0., 0., 0., 0., 1., 0., 0.]])\n",
      "tensor([[ 0.,  0.,  0.,  0., -1.,  0., -1.,  1.,  1.]])\n",
      "tensor([[ 0.,  0.,  0.,  0.,  1.,  0., -1., -1.,  1.]])\n",
      "tensor([[ 1.,  0.,  0.,  0.,  0.,  0.,  0.,  0., -1.]])\n",
      "tensor([[ 1.,  0.,  0.,  0.,  1., -1.,  1., -1., -1.]])\n",
      "tensor([[ 0.,  0.,  0.,  0., -1.,  0.,  0.,  0.,  1.]])\n",
      "tensor([[ 0.,  0.,  0.,  0., -1.,  0.,  0.,  1.,  1.]])\n",
      "tensor([[0., 0., 0., 0., 0., 0., 0., 0., 1.]])\n",
      "tensor([[ 1.,  0.,  0.,  0.,  1.,  0.,  0.,  0., -1.]])\n",
      "tensor([[ 1.,  0.,  0.,  0.,  1.,  0.,  1., -1., -1.]])\n",
      "tensor([[ 0.,  0.,  0.,  0., -1.,  0.,  0.,  0.,  1.]])\n",
      "tensor([[ 1.,  0.,  0.,  0.,  0.,  0.,  0.,  0., -1.]])\n",
      "tensor([[ 1.,  0.,  0.,  0.,  1.,  0.,  0., -1., -1.]])\n",
      "tensor([[ 0.,  0.,  1.,  0.,  1.,  0.,  0.,  0., -1.]])\n",
      "tensor([[0., 0., 0., 0., 1., 0., 0., 0., 0.]])\n",
      "tensor([[0., 0., 0., 0., 0., 0., 0., 0., 1.]])\n",
      "tensor([[ 0.,  0.,  0.,  0., -1.,  0.,  0.,  0.,  1.]])\n",
      "tensor([[ 1.,  0.,  0.,  0.,  1., -1.,  1., -1., -1.]])\n",
      "tensor([[ 0.,  0.,  0.,  0., -1.,  0.,  0.,  1.,  1.]])\n",
      "tensor([[ 0.,  0.,  0.,  0., -1.,  0., -1.,  1.,  1.]])\n"
     ]
    },
    {
     "name": "stderr",
     "output_type": "stream",
     "text": [
      " 12%|████▌                                 | 1204/10000 [00:47<05:21, 27.32it/s]"
     ]
    },
    {
     "name": "stdout",
     "output_type": "stream",
     "text": [
      "tensor([[0., 0., 0., 0., 0., 0., 0., 0., 1.]])\n",
      "tensor([[ 0.,  0.,  0.,  0.,  1.,  0.,  1.,  0., -1.]])\n",
      "tensor([[0., 0., 0., 0., 0., 0., 1., 0., 0.]])\n",
      "tensor([[ 0.,  0.,  0.,  0.,  1.,  0.,  0.,  0., -1.]])\n",
      "tensor([[ 0.,  0.,  0.,  0., -1.,  0., -1.,  1.,  1.]])\n",
      "tensor([[ 0.,  0.,  0.,  0., -1.,  1., -1.,  1.,  1.]])\n",
      "tensor([[ 0.,  0.,  0.,  0.,  0.,  0.,  1.,  0., -1.]])\n",
      "tensor([[ 0.,  0.,  0.,  0., -1.,  1., -1.,  1.,  1.]])\n",
      "tensor([[ 0.,  0.,  0.,  0., -1.,  0.,  0.,  0.,  1.]])\n",
      "tensor([[ 1.,  0.,  0.,  0.,  1.,  0.,  1., -1., -1.]])\n",
      "tensor([[1., 0., 0., 0., 0., 0., 0., 0., 0.]])\n",
      "tensor([[ 1.,  0.,  0.,  0.,  1., -1.,  1., -1., -1.]])\n",
      "tensor([[0., 0., 0., 0., 0., 0., 0., 0., 1.]])\n",
      "tensor([[ 0.,  0.,  0.,  0., -1.,  0.,  0.,  0.,  1.]])\n",
      "tensor([[ 1.,  0.,  0.,  0.,  1.,  0.,  0., -1., -1.]])\n",
      "tensor([[ 0.,  0.,  0.,  0., -1.,  1., -1.,  1.,  1.]])\n",
      "tensor([[ 1.,  0.,  0.,  0.,  1.,  0.,  0.,  0., -1.]])\n",
      "tensor([[ 0.,  0.,  0.,  0.,  0.,  0.,  1.,  0., -1.]])\n",
      "tensor([[ 1.,  0.,  0.,  0.,  1., -1.,  1., -1., -1.]])\n",
      "tensor([[ 0.,  0.,  0.,  0., -1.,  0.,  0.,  1.,  1.]])\n",
      "tensor([[ 0.,  0.,  0.,  0., -1.,  0.,  0.,  1.,  1.]])\n",
      "tensor([[ 0.,  0.,  0.,  0., -1.,  0.,  0.,  1.,  1.]])\n",
      "tensor([[0., 0., 0., 0., 0., 0., 0., 0., 1.]])\n",
      "tensor([[ 0.,  0.,  0.,  0.,  1.,  0., -1., -1.,  1.]])\n",
      "tensor([[0., 0., 0., 0., 0., 0., 0., 0., 1.]])\n",
      "tensor([[ 1.,  0.,  0.,  0.,  1.,  0.,  0.,  0., -1.]])\n",
      "tensor([[ 0.,  0.,  0.,  0., -1.,  1., -1.,  1.,  1.]])\n"
     ]
    },
    {
     "name": "stderr",
     "output_type": "stream",
     "text": [
      " 12%|████▌                                 | 1210/10000 [00:47<05:31, 26.50it/s]"
     ]
    },
    {
     "name": "stdout",
     "output_type": "stream",
     "text": [
      "tensor([[0., 0., 0., 0., 0., 0., 0., 0., 1.]])\n",
      "tensor([[ 0.,  0.,  0.,  0., -1.,  0., -1.,  1.,  1.]])\n",
      "tensor([[ 0.,  0.,  0.,  0.,  1.,  0.,  0., -1.,  1.]])\n",
      "tensor([[ 0.,  0.,  0.,  0.,  1.,  0.,  1., -1., -1.]])\n",
      "tensor([[ 0.,  0.,  1.,  0.,  0.,  0.,  0.,  0., -1.]])\n",
      "tensor([[ 0.,  0.,  1.,  0.,  0.,  0.,  0.,  0., -1.]])\n",
      "tensor([[ 0.,  0.,  0.,  0.,  1.,  0.,  0.,  0., -1.]])\n",
      "tensor([[ 1.,  0.,  0.,  0.,  1.,  0.,  0.,  0., -1.]])\n",
      "tensor([[0., 0., 0., 0., 0., 0., 1., 0., 0.]])\n",
      "tensor([[ 0.,  0.,  0.,  0., -1.,  0., -1.,  1.,  1.]])\n",
      "tensor([[ 0.,  0.,  0.,  0., -1.,  0.,  0.,  1.,  1.]])\n",
      "tensor([[0., 0., 0., 0., 0., 0., 0., 0., 1.]])\n",
      "tensor([[ 0.,  0.,  0.,  0., -1.,  0., -1.,  1.,  1.]])\n",
      "tensor([[ 0.,  0.,  0.,  0., -1.,  0., -1.,  1.,  1.]])\n",
      "tensor([[ 0.,  0.,  0.,  0., -1.,  0.,  0.,  0.,  1.]])\n",
      "tensor([[0., 0., 0., 0., 0., 0., 0., 0., 1.]])\n",
      "tensor([[ 0.,  0.,  0.,  0., -1.,  0.,  0.,  0.,  1.]])\n",
      "tensor([[ 0.,  0.,  0.,  0.,  1.,  0.,  0.,  0., -1.]])\n",
      "tensor([[ 1.,  0.,  0.,  0.,  1., -1.,  1., -1., -1.]])\n",
      "tensor([[ 0.,  0.,  0.,  0., -1.,  0., -1.,  1.,  1.]])\n",
      "tensor([[ 0.,  0.,  0.,  0., -1.,  1., -1.,  1.,  1.]])\n",
      "tensor([[ 0.,  0.,  1.,  0.,  1.,  0.,  0.,  0., -1.]])\n",
      "tensor([[ 0.,  0.,  0.,  0., -1.,  0.,  0.,  1.,  1.]])\n",
      "tensor([[ 0.,  0.,  0.,  0., -1.,  0., -1.,  1.,  1.]])\n",
      "tensor([[ 0.,  0.,  0.,  0., -1.,  0., -1.,  1.,  1.]])\n",
      "tensor([[ 1.,  0.,  0.,  0.,  1., -1.,  1., -1., -1.]])\n",
      "tensor([[ 0.,  0.,  0.,  0.,  1.,  0.,  1.,  0., -1.]])\n"
     ]
    },
    {
     "name": "stderr",
     "output_type": "stream",
     "text": [
      "\r",
      " 12%|████▌                                 | 1213/10000 [00:47<05:38, 25.96it/s]"
     ]
    },
    {
     "name": "stdout",
     "output_type": "stream",
     "text": [
      "tensor([[ 0.,  0.,  0.,  0., -1.,  0.,  0.,  1.,  1.]])\n",
      "tensor([[ 1.,  0.,  0.,  0.,  1.,  0.,  0., -1., -1.]])\n",
      "tensor([[0., 0., 0., 0., 1., 0., 0., 0., 0.]])\n",
      "tensor([[ 0.,  0.,  0.,  0., -1.,  0., -1.,  1.,  1.]])\n",
      "tensor([[ 0.,  0.,  0.,  0., -1.,  1., -1.,  1.,  1.]])\n",
      "tensor([[ 0.,  0.,  0.,  0.,  1.,  0.,  1.,  0., -1.]])\n",
      "tensor([[ 1.,  0.,  0.,  0.,  1.,  0.,  0.,  0., -1.]])\n",
      "tensor([[ 0.,  0.,  0.,  0., -1.,  0.,  0.,  1.,  1.]])\n",
      "tensor([[ 0.,  0.,  0.,  0., -1.,  0., -1.,  1.,  1.]])\n",
      "tensor([[ 0.,  0.,  0.,  0., -1.,  0.,  0.,  0.,  1.]])\n",
      "tensor([[ 1.,  0.,  0.,  0.,  1.,  0.,  1., -1., -1.]])\n",
      "tensor([[ 0.,  0.,  0.,  0.,  1.,  0.,  0.,  0., -1.]])\n",
      "tensor([[0., 0., 0., 0., 0., 0., 0., 0., 1.]])\n",
      "tensor([[ 0.,  0.,  0.,  0., -1.,  0.,  0.,  0.,  1.]])\n",
      "tensor([[0., 0., 0., 0., 0., 0., 1., 0., 0.]])\n",
      "tensor([[ 0.,  0.,  0.,  0., -1.,  0.,  0.,  0.,  1.]])\n",
      "tensor([[ 0.,  0.,  1.,  0.,  1.,  0.,  0., -1., -1.]])\n",
      "tensor([[ 0.,  0.,  1.,  0.,  0.,  0.,  0.,  0., -1.]])\n",
      "tensor([[ 1.,  0.,  0.,  0.,  0.,  0.,  0.,  0., -1.]])\n",
      "tensor([[ 0.,  0.,  1.,  0.,  0.,  0.,  0.,  0., -1.]])\n",
      "tensor([[ 1.,  0.,  0.,  0.,  1.,  0.,  0.,  0., -1.]])\n",
      "tensor([[ 1.,  0.,  0.,  0.,  1.,  0.,  0., -1., -1.]])\n",
      "tensor([[0., 0., 0., 0., 0., 0., 0., 0., 1.]])\n",
      "tensor([[ 0.,  0.,  0.,  0., -1.,  0.,  0.,  0.,  1.]])\n"
     ]
    },
    {
     "name": "stderr",
     "output_type": "stream",
     "text": [
      " 12%|████▋                                 | 1219/10000 [00:47<05:56, 24.62it/s]"
     ]
    },
    {
     "name": "stdout",
     "output_type": "stream",
     "text": [
      "tensor([[ 1.,  0.,  0.,  0.,  1.,  0.,  0.,  0., -1.]])\n",
      "tensor([[ 0.,  0.,  0.,  0., -1.,  0.,  0.,  0.,  1.]])\n",
      "tensor([[0., 0., 0., 0., 0., 0., 0., 0., 1.]])\n",
      "tensor([[ 0.,  0.,  0.,  0., -1.,  0., -1.,  1.,  1.]])\n",
      "tensor([[0., 0., 1., 0., 0., 0., 0., 0., 0.]])\n",
      "tensor([[ 0.,  0.,  0.,  0.,  0.,  0.,  1.,  0., -1.]])\n",
      "tensor([[ 0.,  0.,  0.,  0., -1.,  0., -1.,  1.,  1.]])\n",
      "tensor([[ 0.,  0.,  0.,  0., -1.,  0.,  0.,  1.,  1.]])\n",
      "tensor([[ 0.,  0.,  0.,  0., -1.,  0., -1.,  1.,  1.]])\n",
      "tensor([[ 0.,  0.,  0.,  0., -1.,  0.,  0.,  1.,  1.]])\n",
      "tensor([[0., 0., 0., 0., 0., 0., 0., 0., 1.]])\n",
      "tensor([[0., 0., 0., 0., 0., 0., 0., 0., 1.]])\n",
      "tensor([[ 0.,  0.,  0.,  0., -1.,  0., -1.,  1.,  1.]])\n",
      "tensor([[ 0.,  0.,  0.,  0., -1.,  0., -1.,  1.,  1.]])\n",
      "tensor([[ 0.,  0.,  0.,  0.,  1.,  0.,  1., -1., -1.]])\n",
      "tensor([[ 0.,  0.,  0.,  0.,  0.,  0.,  1.,  0., -1.]])\n",
      "tensor([[ 0.,  0.,  1.,  0.,  0.,  0.,  0.,  0., -1.]])\n",
      "tensor([[0., 0., 0., 0., 0., 0., 0., 0., 1.]])\n",
      "tensor([[1., 0., 0., 0., 0., 0., 0., 0., 0.]])\n",
      "tensor([[ 0.,  0.,  0.,  0., -1.,  1., -1.,  1.,  1.]])\n",
      "tensor([[ 0.,  0.,  0.,  0., -1.,  0.,  0.,  0.,  1.]])\n",
      "tensor([[ 0.,  0.,  0.,  0., -1.,  1., -1.,  1.,  1.]])\n",
      "tensor([[1., 0., 0., 0., 0., 0., 0., 0., 0.]])\n",
      "tensor([[0., 0., 0., 0., 0., 0., 0., 0., 1.]])\n"
     ]
    },
    {
     "name": "stderr",
     "output_type": "stream",
     "text": [
      " 12%|████▋                                 | 1225/10000 [00:47<05:32, 26.41it/s]"
     ]
    },
    {
     "name": "stdout",
     "output_type": "stream",
     "text": [
      "tensor([[ 0.,  0.,  0.,  0., -1.,  0., -1.,  1.,  1.]])\n",
      "tensor([[ 1.,  0.,  0.,  0.,  1., -1.,  1., -1., -1.]])\n",
      "tensor([[ 0.,  0.,  0.,  0.,  1.,  0.,  0., -1.,  1.]])\n",
      "tensor([[ 1.,  0.,  0.,  0.,  1.,  0.,  0., -1., -1.]])\n",
      "tensor([[1., 0., 0., 0., 0., 0., 0., 0., 0.]])\n",
      "tensor([[0., 0., 0., 0., 0., 0., 0., 0., 1.]])\n",
      "tensor([[ 0.,  0.,  0.,  0., -1.,  0., -1.,  1.,  1.]])\n",
      "tensor([[0., 0., 0., 0., 0., 0., 0., 0., 1.]])\n",
      "tensor([[ 0.,  0.,  0.,  0.,  1.,  0., -1., -1.,  1.]])\n",
      "tensor([[ 0.,  0.,  0.,  0.,  1.,  0., -1., -1.,  1.]])\n",
      "tensor([[ 1.,  0.,  0.,  0.,  1.,  0.,  1., -1., -1.]])\n",
      "tensor([[ 0.,  0.,  0.,  0., -1.,  0.,  0.,  1.,  1.]])\n",
      "tensor([[ 0.,  0.,  0.,  0., -1.,  0.,  0.,  1.,  1.]])\n",
      "tensor([[ 0.,  0.,  0.,  0., -1.,  0.,  0.,  0.,  1.]])\n",
      "tensor([[0., 0., 0., 0., 0., 0., 0., 0., 1.]])\n",
      "tensor([[ 0.,  0.,  0.,  0., -1.,  0.,  0.,  1.,  1.]])\n",
      "tensor([[ 0.,  0.,  0.,  0.,  0.,  0.,  1.,  0., -1.]])\n",
      "tensor([[0., 0., 0., 0., 1., 0., 0., 0., 0.]])\n",
      "tensor([[0., 0., 0., 0., 0., 0., 0., 0., 1.]])\n",
      "tensor([[ 0.,  0.,  0.,  0., -1.,  1., -1.,  1.,  1.]])\n",
      "tensor([[ 0.,  0.,  0.,  0., -1.,  0.,  0.,  0.,  1.]])\n",
      "tensor([[ 0.,  0.,  0.,  0.,  1.,  0.,  0., -1.,  1.]])\n",
      "tensor([[ 0.,  0.,  0.,  0., -1.,  0.,  0.,  1.,  1.]])\n",
      "tensor([[ 0.,  0.,  0.,  0., -1.,  1., -1.,  1.,  1.]])\n",
      "tensor([[ 1.,  0.,  0.,  0.,  1.,  0.,  0., -1., -1.]])\n",
      "tensor([[ 0.,  0.,  0.,  0.,  1.,  0.,  1.,  0., -1.]])\n"
     ]
    },
    {
     "name": "stderr",
     "output_type": "stream",
     "text": [
      " 12%|████▋                                 | 1232/10000 [00:48<05:13, 28.00it/s]"
     ]
    },
    {
     "name": "stdout",
     "output_type": "stream",
     "text": [
      "tensor([[ 0.,  0.,  0.,  0., -1.,  0.,  0.,  1.,  1.]])\n",
      "tensor([[ 1.,  0.,  0.,  0.,  1.,  0.,  0., -1., -1.]])\n",
      "tensor([[ 0.,  0.,  0.,  0., -1.,  0.,  0.,  1.,  1.]])\n",
      "tensor([[ 1.,  0.,  0.,  0.,  1.,  0.,  0.,  0., -1.]])\n",
      "tensor([[ 0.,  0.,  0.,  0.,  1.,  0., -1., -1.,  1.]])\n",
      "tensor([[ 0.,  0.,  0.,  0., -1.,  1., -1.,  1.,  1.]])\n",
      "tensor([[0., 0., 0., 0., 0., 0., 0., 0., 1.]])\n",
      "tensor([[0., 0., 0., 0., 0., 0., 0., 0., 1.]])\n",
      "tensor([[ 0.,  0.,  0.,  0., -1.,  0., -1.,  1.,  1.]])\n",
      "tensor([[ 0.,  0.,  0.,  0., -1.,  1., -1.,  1.,  1.]])\n",
      "tensor([[ 0.,  0.,  0.,  0., -1.,  1., -1.,  1.,  1.]])\n",
      "tensor([[ 1.,  0.,  0.,  0.,  1., -1.,  1., -1., -1.]])\n",
      "tensor([[ 0.,  0.,  0.,  0., -1.,  0.,  0.,  0.,  1.]])\n",
      "tensor([[ 0.,  0.,  0.,  0., -1.,  0.,  0.,  1.,  1.]])\n",
      "tensor([[ 0.,  0.,  0.,  0., -1.,  0., -1.,  1.,  1.]])\n",
      "tensor([[ 1.,  0.,  0.,  0.,  1.,  0.,  0., -1., -1.]])\n",
      "tensor([[ 0.,  0.,  0.,  0., -1.,  0., -1.,  1.,  1.]])\n",
      "tensor([[ 0.,  0.,  0.,  0., -1.,  0., -1.,  1.,  1.]])\n",
      "tensor([[ 1.,  0.,  0.,  0.,  1.,  0.,  0.,  0., -1.]])\n",
      "tensor([[ 0.,  0.,  0.,  0.,  0.,  0.,  1.,  0., -1.]])\n",
      "tensor([[ 0.,  0.,  1.,  0.,  1.,  0.,  0.,  0., -1.]])\n",
      "tensor([[ 1.,  0.,  0.,  0.,  1., -1.,  1., -1., -1.]])\n",
      "tensor([[ 1.,  0.,  0.,  0.,  1.,  0.,  0., -1., -1.]])\n",
      "tensor([[0., 0., 0., 0., 0., 0., 0., 0., 1.]])\n",
      "tensor([[ 0.,  0.,  0.,  0.,  1.,  0.,  0., -1.,  1.]])\n",
      "tensor([[0., 0., 1., 0., 0., 0., 0., 0., 0.]])\n",
      "tensor([[0., 0., 0., 0., 0., 0., 0., 0., 1.]])\n",
      "tensor([[ 0.,  0.,  0.,  0.,  1.,  0.,  0.,  0., -1.]])\n",
      "tensor([[ 0.,  0.,  0.,  0., -1.,  0.,  0.,  1.,  1.]])\n",
      "tensor([[ 0.,  0.,  1.,  0.,  1.,  0.,  0.,  0., -1.]])\n",
      "tensor([[ 0.,  0.,  0.,  0., -1.,  1., -1.,  1.,  1.]])\n",
      "tensor([[ 0.,  0.,  0.,  0., -1.,  0., -1.,  1.,  1.]])\n",
      "tensor([[ 0.,  0.,  0.,  0., -1.,  0.,  0.,  0.,  1.]])\n",
      "tensor([[ 1.,  0.,  0.,  0.,  0.,  0.,  0.,  0., -1.]])\n"
     ]
    },
    {
     "name": "stderr",
     "output_type": "stream",
     "text": [
      " 12%|████▋                                 | 1238/10000 [00:48<05:12, 28.05it/s]"
     ]
    },
    {
     "name": "stdout",
     "output_type": "stream",
     "text": [
      "tensor([[ 0.,  0.,  1.,  0.,  1.,  0.,  0., -1., -1.]])\n",
      "tensor([[ 0.,  0.,  0.,  0., -1.,  1., -1.,  1.,  1.]])\n",
      "tensor([[ 0.,  0.,  0.,  0., -1.,  0., -1.,  1.,  1.]])\n",
      "tensor([[ 0.,  0.,  0.,  0., -1.,  1., -1.,  1.,  1.]])\n",
      "tensor([[ 0.,  0.,  0.,  0., -1.,  1., -1.,  1.,  1.]])\n",
      "tensor([[ 0.,  0.,  0.,  0., -1.,  1., -1.,  1.,  1.]])\n",
      "tensor([[ 0.,  0.,  0.,  0., -1.,  1., -1.,  1.,  1.]])\n",
      "tensor([[ 0.,  0.,  0.,  0., -1.,  0.,  0.,  0.,  1.]])\n",
      "tensor([[0., 0., 0., 0., 0., 0., 0., 0., 1.]])\n",
      "tensor([[ 1.,  0.,  0.,  0.,  1.,  0.,  0.,  0., -1.]])\n",
      "tensor([[ 0.,  0.,  0.,  0.,  1.,  0.,  0.,  0., -1.]])\n",
      "tensor([[0., 0., 0., 0., 0., 0., 0., 0., 1.]])\n",
      "tensor([[ 0.,  0.,  1.,  0.,  1.,  0.,  0., -1., -1.]])\n",
      "tensor([[ 0.,  0.,  0.,  0.,  1.,  0.,  1.,  0., -1.]])\n",
      "tensor([[ 0.,  0.,  0.,  0., -1.,  0.,  0.,  1.,  1.]])\n",
      "tensor([[0., 0., 0., 0., 0., 0., 0., 0., 1.]])\n",
      "tensor([[ 0.,  0.,  0.,  0., -1.,  1., -1.,  1.,  1.]])\n",
      "tensor([[0., 0., 0., 0., 1., 0., 0., 0., 0.]])\n",
      "tensor([[ 0.,  0.,  0.,  0.,  1.,  0.,  1.,  0., -1.]])\n",
      "tensor([[0., 0., 1., 0., 0., 0., 0., 0., 0.]])\n",
      "tensor([[ 1.,  0.,  0.,  0.,  0.,  0.,  0.,  0., -1.]])\n",
      "tensor([[ 0.,  0.,  0.,  0., -1.,  0., -1.,  1.,  1.]])\n",
      "tensor([[ 0.,  0.,  0.,  0., -1.,  0., -1.,  1.,  1.]])\n",
      "tensor([[ 0.,  0.,  0.,  0.,  1.,  0., -1., -1.,  1.]])\n",
      "tensor([[ 0.,  0.,  0.,  0.,  1.,  0.,  1.,  0., -1.]])\n",
      "tensor([[0., 0., 0., 0., 1., 0., 0., 0., 0.]])\n",
      "tensor([[ 1.,  0.,  0.,  0.,  1.,  0.,  1., -1., -1.]])\n",
      "tensor([[0., 0., 0., 0., 0., 0., 0., 0., 1.]])\n",
      "tensor([[0., 0., 0., 0., 0., 0., 0., 0., 1.]])\n",
      "tensor([[ 0.,  0.,  0.,  0., -1.,  0., -1.,  1.,  1.]])\n",
      "tensor([[ 0.,  0.,  0.,  0.,  1.,  0.,  1.,  0., -1.]])\n"
     ]
    },
    {
     "name": "stderr",
     "output_type": "stream",
     "text": [
      "\r",
      " 12%|████▋                                 | 1241/10000 [00:48<05:17, 27.63it/s]"
     ]
    },
    {
     "name": "stdout",
     "output_type": "stream",
     "text": [
      "tensor([[ 0.,  0.,  0.,  0., -1.,  0.,  0.,  1.,  1.]])\n",
      "tensor([[ 1.,  0.,  0.,  0.,  1., -1.,  1., -1., -1.]])\n",
      "tensor([[ 0.,  0.,  0.,  0.,  1.,  0.,  1., -1., -1.]])\n",
      "tensor([[ 0.,  0.,  0.,  0., -1.,  0., -1.,  1.,  1.]])\n",
      "tensor([[ 1.,  0.,  0.,  0.,  1.,  0.,  1., -1., -1.]])\n",
      "tensor([[0., 0., 0., 0., 0., 0., 0., 0., 1.]])\n",
      "tensor([[0., 0., 0., 0., 1., 0., 0., 0., 0.]])\n",
      "tensor([[ 0.,  0.,  0.,  0., -1.,  1., -1.,  1.,  1.]])\n",
      "tensor([[ 0.,  0.,  0.,  0.,  0.,  0.,  0., -1.,  1.]])\n",
      "tensor([[0., 0., 0., 0., 1., 0., 0., 0., 0.]])\n",
      "tensor([[ 1.,  0.,  0.,  0.,  1.,  0.,  0.,  0., -1.]])\n",
      "tensor([[0., 0., 1., 0., 0., 0., 0., 0., 0.]])\n",
      "tensor([[ 0.,  0.,  0.,  0.,  1.,  0., -1., -1.,  1.]])\n",
      "tensor([[0., 0., 0., 0., 0., 0., 0., 0., 1.]])\n",
      "tensor([[0., 0., 0., 0., 0., 0., 0., 0., 1.]])\n",
      "tensor([[ 0.,  0.,  0.,  0.,  0.,  0.,  1.,  0., -1.]])\n",
      "tensor([[ 0.,  0.,  0.,  0., -1.,  1., -1.,  1.,  1.]])\n",
      "tensor([[ 0.,  0.,  0.,  0., -1.,  0.,  0.,  0.,  1.]])\n",
      "tensor([[ 0.,  0.,  0.,  0., -1.,  1., -1.,  1.,  1.]])\n",
      "tensor([[ 0.,  0.,  1.,  0.,  1.,  0.,  0.,  0., -1.]])\n",
      "tensor([[ 0.,  0.,  0.,  0., -1.,  0.,  0.,  0.,  1.]])\n",
      "tensor([[ 0.,  0.,  0.,  0., -1.,  0.,  0.,  1.,  1.]])\n",
      "tensor([[0., 0., 0., 0., 0., 0., 0., 0., 1.]])\n",
      "tensor([[ 0.,  0.,  0.,  0., -1.,  0.,  0.,  0.,  1.]])\n",
      "tensor([[ 0.,  0.,  0.,  0., -1.,  1., -1.,  1.,  1.]])\n"
     ]
    },
    {
     "name": "stderr",
     "output_type": "stream",
     "text": [
      " 12%|████▋                                 | 1247/10000 [00:48<05:18, 27.50it/s]"
     ]
    },
    {
     "name": "stdout",
     "output_type": "stream",
     "text": [
      "tensor([[ 0.,  0.,  1.,  0.,  1.,  0.,  0., -1., -1.]])\n",
      "tensor([[ 0.,  0.,  0.,  0.,  1.,  0.,  0., -1.,  1.]])\n",
      "tensor([[ 0.,  0.,  0.,  0., -1.,  0.,  0.,  0.,  1.]])\n",
      "tensor([[ 0.,  0.,  0.,  0., -1.,  0., -1.,  1.,  1.]])\n",
      "tensor([[0., 0., 0., 0., 0., 0., 0., 0., 1.]])\n",
      "tensor([[0., 0., 0., 0., 0., 0., 0., 0., 1.]])\n",
      "tensor([[ 0.,  0.,  0.,  0., -1.,  1., -1.,  1.,  1.]])\n",
      "tensor([[ 0.,  0.,  0.,  0.,  1.,  0.,  0., -1.,  1.]])\n",
      "tensor([[ 0.,  0.,  0.,  0., -1.,  0., -1.,  1.,  1.]])\n",
      "tensor([[ 0.,  0.,  0.,  0., -1.,  0., -1.,  1.,  1.]])\n",
      "tensor([[0., 0., 0., 0., 0., 0., 0., 0., 1.]])\n",
      "tensor([[ 0.,  0.,  0.,  0., -1.,  0.,  0.,  0.,  1.]])\n",
      "tensor([[ 0.,  0.,  0.,  0., -1.,  1., -1.,  1.,  1.]])\n",
      "tensor([[ 0.,  0.,  0.,  0., -1.,  1., -1.,  1.,  1.]])\n",
      "tensor([[ 0.,  0.,  0.,  0.,  1.,  0.,  1., -1., -1.]])\n",
      "tensor([[0., 0., 0., 0., 0., 0., 0., 0., 1.]])\n",
      "tensor([[ 0.,  0.,  0.,  0.,  0.,  0.,  1.,  0., -1.]])\n",
      "tensor([[ 0.,  0.,  0.,  0., -1.,  0.,  0.,  1.,  1.]])\n",
      "tensor([[ 1.,  0.,  0.,  0.,  1.,  0.,  0.,  0., -1.]])\n",
      "tensor([[ 0.,  0.,  0.,  0., -1.,  0.,  0.,  1.,  1.]])\n",
      "tensor([[ 0.,  0.,  0.,  0., -1.,  1., -1.,  1.,  1.]])\n",
      "tensor([[0., 0., 0., 0., 0., 0., 1., 0., 0.]])\n",
      "tensor([[ 0.,  0.,  0.,  0., -1.,  0.,  0.,  0.,  1.]])\n",
      "tensor([[ 0.,  0.,  0.,  0., -1.,  0.,  0.,  0.,  1.]])\n",
      "tensor([[ 0.,  0.,  0.,  0.,  1.,  0.,  1., -1., -1.]])\n"
     ]
    },
    {
     "name": "stderr",
     "output_type": "stream",
     "text": [
      " 13%|████▊                                 | 1253/10000 [00:48<05:31, 26.35it/s]"
     ]
    },
    {
     "name": "stdout",
     "output_type": "stream",
     "text": [
      "tensor([[ 0.,  0.,  0.,  0., -1.,  0., -1.,  1.,  1.]])\n",
      "tensor([[ 1.,  0.,  0.,  0.,  1., -1.,  1., -1., -1.]])\n",
      "tensor([[ 0.,  0.,  0.,  0., -1.,  0., -1.,  1.,  1.]])\n",
      "tensor([[ 0.,  0.,  0.,  0., -1.,  0.,  0.,  0.,  1.]])\n",
      "tensor([[0., 0., 0., 0., 0., 0., 1., 0., 0.]])\n",
      "tensor([[ 0.,  0.,  0.,  0.,  1.,  0.,  0.,  0., -1.]])\n",
      "tensor([[ 1.,  0.,  0.,  0.,  1.,  0.,  1., -1., -1.]])\n",
      "tensor([[ 0.,  0.,  0.,  0.,  1.,  0., -1., -1.,  1.]])\n",
      "tensor([[ 1.,  0.,  0.,  0.,  1.,  0.,  1., -1., -1.]])\n",
      "tensor([[ 0.,  0.,  0.,  0., -1.,  0.,  0.,  0.,  1.]])\n",
      "tensor([[ 1.,  0.,  0.,  0.,  1.,  0.,  0., -1., -1.]])\n",
      "tensor([[ 0.,  0.,  0.,  0.,  0.,  0.,  1.,  0., -1.]])\n",
      "tensor([[ 1.,  0.,  0.,  0.,  1.,  0.,  1., -1., -1.]])\n",
      "tensor([[ 1.,  0.,  0.,  0.,  1.,  0.,  0., -1., -1.]])\n",
      "tensor([[ 1.,  0.,  0.,  0.,  1.,  0.,  0.,  0., -1.]])\n",
      "tensor([[ 1.,  0.,  0.,  0.,  1.,  0.,  1., -1., -1.]])\n",
      "tensor([[ 0.,  0.,  0.,  0.,  1.,  0., -1., -1.,  1.]])\n",
      "tensor([[0., 0., 0., 0., 0., 0., 0., 0., 1.]])\n",
      "tensor([[ 0.,  0.,  0.,  0.,  1.,  0.,  0.,  0., -1.]])\n",
      "tensor([[ 1.,  0.,  0.,  0.,  0.,  0.,  0.,  0., -1.]])\n",
      "tensor([[ 1.,  0.,  0.,  0.,  1., -1.,  1., -1., -1.]])\n",
      "tensor([[0., 0., 0., 0., 0., 0., 0., 0., 1.]])\n",
      "tensor([[ 0.,  0.,  0.,  0., -1.,  0., -1.,  1.,  1.]])\n",
      "tensor([[ 0.,  0.,  0.,  0.,  1.,  0., -1., -1.,  1.]])\n",
      "tensor([[ 0.,  0.,  0.,  0., -1.,  0., -1.,  1.,  1.]])\n",
      "tensor([[ 1.,  0.,  0.,  0.,  1.,  0.,  0., -1., -1.]])\n"
     ]
    },
    {
     "name": "stderr",
     "output_type": "stream",
     "text": [
      " 13%|████▊                                 | 1261/10000 [00:49<04:58, 29.31it/s]"
     ]
    },
    {
     "name": "stdout",
     "output_type": "stream",
     "text": [
      "tensor([[ 1.,  0.,  0.,  0.,  1., -1.,  1., -1., -1.]])\n",
      "tensor([[ 0.,  0.,  0.,  0.,  0.,  0.,  1.,  0., -1.]])\n",
      "tensor([[ 0.,  0.,  0.,  0., -1.,  0.,  0.,  1.,  1.]])\n",
      "tensor([[ 0.,  0.,  0.,  0., -1.,  1., -1.,  1.,  1.]])\n",
      "tensor([[0., 0., 0., 0., 1., 0., 0., 0., 0.]])\n",
      "tensor([[0., 0., 0., 0., 0., 0., 1., 0., 0.]])\n",
      "tensor([[ 0.,  0.,  0.,  0., -1.,  1., -1.,  1.,  1.]])\n",
      "tensor([[ 0.,  0.,  0.,  0., -1.,  0., -1.,  1.,  1.]])\n",
      "tensor([[ 0.,  0.,  0.,  0., -1.,  0., -1.,  1.,  1.]])\n",
      "tensor([[ 0.,  0.,  0.,  0., -1.,  0.,  0.,  1.,  1.]])\n",
      "tensor([[ 0.,  0.,  0.,  0., -1.,  0.,  0.,  0.,  1.]])\n",
      "tensor([[ 0.,  0.,  0.,  0.,  0.,  0.,  1.,  0., -1.]])\n",
      "tensor([[ 0.,  0.,  0.,  0., -1.,  0., -1.,  1.,  1.]])\n",
      "tensor([[ 0.,  0.,  0.,  0., -1.,  1., -1.,  1.,  1.]])\n",
      "tensor([[ 1.,  0.,  0.,  0.,  1.,  0.,  0., -1., -1.]])\n",
      "tensor([[0., 0., 1., 0., 0., 0., 0., 0., 0.]])\n",
      "tensor([[ 0.,  0.,  1.,  0.,  0.,  0.,  0.,  0., -1.]])\n",
      "tensor([[0., 0., 0., 0., 0., 0., 0., 0., 1.]])\n",
      "tensor([[ 0.,  0.,  0.,  0., -1.,  0.,  0.,  0.,  1.]])\n",
      "tensor([[ 0.,  0.,  0.,  0.,  0.,  0.,  1.,  0., -1.]])\n",
      "tensor([[0., 0., 0., 0., 0., 0., 0., 0., 1.]])\n",
      "tensor([[ 0.,  0.,  0.,  0., -1.,  0.,  0.,  0.,  1.]])\n",
      "tensor([[ 1.,  0.,  0.,  0.,  0.,  0.,  0.,  0., -1.]])\n",
      "tensor([[ 0.,  0.,  0.,  0.,  1.,  0.,  0., -1.,  1.]])\n",
      "tensor([[ 0.,  0.,  1.,  0.,  0.,  0.,  0.,  0., -1.]])\n",
      "tensor([[ 0.,  0.,  0.,  0.,  1.,  0.,  1.,  0., -1.]])\n",
      "tensor([[ 1.,  0.,  0.,  0.,  0.,  0.,  0.,  0., -1.]])\n",
      "tensor([[ 1.,  0.,  0.,  0.,  1., -1.,  1., -1., -1.]])\n",
      "tensor([[ 1.,  0.,  0.,  0.,  0.,  0.,  0.,  0., -1.]])\n",
      "tensor([[0., 0., 1., 0., 0., 0., 0., 0., 0.]])\n"
     ]
    },
    {
     "name": "stderr",
     "output_type": "stream",
     "text": [
      "\r",
      " 13%|████▊                                 | 1265/10000 [00:49<04:56, 29.42it/s]"
     ]
    },
    {
     "name": "stdout",
     "output_type": "stream",
     "text": [
      "tensor([[0., 0., 1., 0., 0., 0., 0., 0., 0.]])\n",
      "tensor([[ 1.,  0.,  0.,  0.,  1.,  0.,  1., -1., -1.]])\n",
      "tensor([[ 0.,  0.,  0.,  0., -1.,  0., -1.,  1.,  1.]])\n",
      "tensor([[ 1.,  0.,  0.,  0.,  1., -1.,  1., -1., -1.]])\n",
      "tensor([[ 0.,  0.,  0.,  0., -1.,  0.,  0.,  1.,  1.]])\n",
      "tensor([[ 1.,  0.,  0.,  0.,  1.,  0.,  1., -1., -1.]])\n",
      "tensor([[ 1.,  0.,  0.,  0.,  0.,  0.,  0.,  0., -1.]])\n",
      "tensor([[ 0.,  0.,  1.,  0.,  1.,  0.,  0., -1., -1.]])\n",
      "tensor([[0., 0., 0., 0., 0., 0., 0., 0., 1.]])\n",
      "tensor([[ 0.,  0.,  0.,  0., -1.,  1., -1.,  1.,  1.]])\n",
      "tensor([[1., 0., 0., 0., 0., 0., 0., 0., 0.]])\n",
      "tensor([[ 0.,  0.,  0.,  0., -1.,  0.,  0.,  0.,  1.]])\n",
      "tensor([[0., 0., 0., 0., 1., 0., 0., 0., 0.]])\n",
      "tensor([[ 0.,  0.,  0.,  0.,  1.,  0.,  1.,  0., -1.]])\n",
      "tensor([[ 0.,  0.,  1.,  0.,  0.,  0.,  0.,  0., -1.]])\n",
      "tensor([[ 0.,  0.,  0.,  0.,  0.,  0.,  1.,  0., -1.]])\n",
      "tensor([[ 1.,  0.,  0.,  0.,  1.,  0.,  0., -1., -1.]])\n",
      "tensor([[ 0.,  0.,  0.,  0.,  1.,  0., -1., -1.,  1.]])\n",
      "tensor([[ 0.,  0.,  0.,  0., -1.,  0.,  0.,  1.,  1.]])\n",
      "tensor([[ 1.,  0.,  0.,  0.,  1.,  0.,  1., -1., -1.]])\n",
      "tensor([[ 0.,  0.,  0.,  0.,  1.,  0.,  1., -1., -1.]])\n",
      "tensor([[ 0.,  0.,  0.,  0., -1.,  0., -1.,  1.,  1.]])\n",
      "tensor([[1., 0., 0., 0., 0., 0., 0., 0., 0.]])\n",
      "tensor([[0., 0., 0., 0., 0., 0., 0., 0., 1.]])\n",
      "tensor([[0., 0., 0., 0., 0., 0., 0., 0., 1.]])\n",
      "tensor([[ 1.,  0.,  0.,  0.,  1.,  0.,  1., -1., -1.]])\n"
     ]
    },
    {
     "name": "stderr",
     "output_type": "stream",
     "text": [
      " 13%|████▊                                 | 1271/10000 [00:49<05:31, 26.37it/s]"
     ]
    },
    {
     "name": "stdout",
     "output_type": "stream",
     "text": [
      "tensor([[ 0.,  0.,  1.,  0.,  1.,  0.,  0., -1., -1.]])\n",
      "tensor([[ 0.,  0.,  1.,  0.,  0.,  0.,  0.,  0., -1.]])\n",
      "tensor([[ 0.,  0.,  1.,  0.,  0.,  0.,  0.,  0., -1.]])\n",
      "tensor([[ 0.,  0.,  0.,  0., -1.,  0.,  0.,  1.,  1.]])\n",
      "tensor([[0., 0., 0., 0., 1., 0., 0., 0., 0.]])\n",
      "tensor([[ 0.,  0.,  0.,  0.,  1.,  0.,  0., -1.,  1.]])\n",
      "tensor([[ 0.,  0.,  0.,  0.,  0.,  0.,  0., -1.,  1.]])\n",
      "tensor([[ 0.,  0.,  0.,  0.,  1.,  0., -1., -1.,  1.]])\n",
      "tensor([[ 1.,  0.,  0.,  0.,  1.,  0.,  0.,  0., -1.]])\n",
      "tensor([[ 0.,  0.,  0.,  0., -1.,  0.,  0.,  0.,  1.]])\n",
      "tensor([[ 0.,  0.,  0.,  0., -1.,  0.,  0.,  1.,  1.]])\n",
      "tensor([[ 0.,  0.,  0.,  0., -1.,  1., -1.,  1.,  1.]])\n",
      "tensor([[ 0.,  0.,  0.,  0., -1.,  1., -1.,  1.,  1.]])\n",
      "tensor([[ 0.,  0.,  0.,  0., -1.,  0.,  0.,  1.,  1.]])\n",
      "tensor([[ 0.,  0.,  1.,  0.,  1.,  0.,  0.,  0., -1.]])\n",
      "tensor([[0., 0., 0., 0., 0., 0., 0., 0., 1.]])\n",
      "tensor([[ 1.,  0.,  0.,  0.,  1.,  0.,  0.,  0., -1.]])\n",
      "tensor([[ 0.,  0.,  0.,  0., -1.,  0.,  0.,  1.,  1.]])\n",
      "tensor([[ 0.,  0.,  0.,  0., -1.,  0., -1.,  1.,  1.]])\n",
      "tensor([[ 0.,  0.,  0.,  0., -1.,  0.,  0.,  1.,  1.]])\n",
      "tensor([[ 1.,  0.,  0.,  0.,  1.,  0.,  1., -1., -1.]])\n",
      "tensor([[ 0.,  0.,  0.,  0., -1.,  0.,  0.,  1.,  1.]])\n"
     ]
    },
    {
     "name": "stderr",
     "output_type": "stream",
     "text": [
      " 13%|████▊                                 | 1278/10000 [00:49<05:03, 28.69it/s]"
     ]
    },
    {
     "name": "stdout",
     "output_type": "stream",
     "text": [
      "tensor([[0., 0., 0., 0., 0., 0., 0., 0., 1.]])\n",
      "tensor([[0., 0., 0., 0., 0., 0., 0., 0., 1.]])\n",
      "tensor([[ 1.,  0.,  0.,  0.,  1.,  0.,  0.,  0., -1.]])\n",
      "tensor([[ 1.,  0.,  0.,  0.,  1.,  0.,  1., -1., -1.]])\n",
      "tensor([[ 1.,  0.,  0.,  0.,  1.,  0.,  1., -1., -1.]])\n",
      "tensor([[ 0.,  0.,  0.,  0.,  0.,  0.,  0., -1.,  1.]])\n",
      "tensor([[ 0.,  0.,  0.,  0., -1.,  0., -1.,  1.,  1.]])\n",
      "tensor([[ 1.,  0.,  0.,  0.,  1.,  0.,  1., -1., -1.]])\n",
      "tensor([[ 0.,  0.,  0.,  0., -1.,  0.,  0.,  0.,  1.]])\n",
      "tensor([[ 0.,  0.,  0.,  0.,  0.,  0.,  1.,  0., -1.]])\n",
      "tensor([[0., 0., 0., 0., 0., 0., 0., 0., 1.]])\n",
      "tensor([[ 0.,  0.,  0.,  0., -1.,  1., -1.,  1.,  1.]])\n",
      "tensor([[ 0.,  0.,  0.,  0., -1.,  0.,  0.,  1.,  1.]])\n",
      "tensor([[ 0.,  0.,  0.,  0., -1.,  0., -1.,  1.,  1.]])\n",
      "tensor([[ 0.,  0.,  0.,  0., -1.,  0.,  0.,  0.,  1.]])\n",
      "tensor([[ 0.,  0.,  0.,  0., -1.,  0.,  0.,  1.,  1.]])\n",
      "tensor([[ 0.,  0.,  0.,  0., -1.,  1., -1.,  1.,  1.]])\n",
      "tensor([[ 0.,  0.,  0.,  0., -1.,  0.,  0.,  1.,  1.]])\n",
      "tensor([[ 0.,  0.,  1.,  0.,  1.,  0.,  0.,  0., -1.]])\n",
      "tensor([[ 1.,  0.,  0.,  0.,  1.,  0.,  0., -1., -1.]])\n",
      "tensor([[ 0.,  0.,  0.,  0., -1.,  0.,  0.,  1.,  1.]])\n",
      "tensor([[ 0.,  0.,  0.,  0., -1.,  0.,  0.,  0.,  1.]])\n",
      "tensor([[ 0.,  0.,  0.,  0., -1.,  0.,  0.,  0.,  1.]])\n",
      "tensor([[ 1.,  0.,  0.,  0.,  1.,  0.,  0.,  0., -1.]])\n",
      "tensor([[ 0.,  0.,  0.,  0., -1.,  0.,  0.,  0.,  1.]])\n",
      "tensor([[ 1.,  0.,  0.,  0.,  1., -1.,  1., -1., -1.]])\n",
      "tensor([[0., 0., 0., 0., 0., 0., 0., 0., 1.]])\n",
      "tensor([[ 1.,  0.,  0.,  0.,  1.,  0.,  1., -1., -1.]])\n",
      "tensor([[ 0.,  0.,  0.,  0.,  1.,  0.,  1., -1., -1.]])\n",
      "tensor([[0., 0., 0., 0., 0., 0., 0., 0., 1.]])\n"
     ]
    },
    {
     "name": "stderr",
     "output_type": "stream",
     "text": [
      " 13%|████▉                                 | 1284/10000 [00:49<05:07, 28.32it/s]"
     ]
    },
    {
     "name": "stdout",
     "output_type": "stream",
     "text": [
      "tensor([[0., 0., 0., 0., 0., 0., 1., 0., 0.]])\n",
      "tensor([[0., 0., 0., 0., 0., 0., 0., 0., 1.]])\n",
      "tensor([[ 0.,  0.,  0.,  0., -1.,  0., -1.,  1.,  1.]])\n",
      "tensor([[ 0.,  0.,  0.,  0., -1.,  0., -1.,  1.,  1.]])\n",
      "tensor([[ 0.,  0.,  0.,  0., -1.,  0.,  0.,  0.,  1.]])\n",
      "tensor([[0., 0., 0., 0., 0., 0., 0., 0., 1.]])\n",
      "tensor([[0., 0., 0., 0., 0., 0., 0., 0., 1.]])\n",
      "tensor([[ 1.,  0.,  0.,  0.,  1.,  0.,  0., -1., -1.]])\n",
      "tensor([[ 0.,  0.,  0.,  0., -1.,  0.,  0.,  0.,  1.]])\n",
      "tensor([[ 1.,  0.,  0.,  0.,  1., -1.,  1., -1., -1.]])\n",
      "tensor([[ 0.,  0.,  0.,  0., -1.,  1., -1.,  1.,  1.]])\n",
      "tensor([[ 0.,  0.,  1.,  0.,  1.,  0.,  0., -1., -1.]])\n",
      "tensor([[0., 0., 0., 0., 0., 0., 0., 0., 1.]])\n",
      "tensor([[0., 0., 0., 0., 0., 0., 0., 0., 1.]])\n",
      "tensor([[ 1.,  0.,  0.,  0.,  1., -1.,  1., -1., -1.]])\n",
      "tensor([[ 1.,  0.,  0.,  0.,  0.,  0.,  0.,  0., -1.]])\n",
      "tensor([[ 0.,  0.,  1.,  0.,  1.,  0.,  0.,  0., -1.]])\n",
      "tensor([[0., 0., 1., 0., 0., 0., 0., 0., 0.]])\n",
      "tensor([[ 0.,  0.,  0.,  0., -1.,  1., -1.,  1.,  1.]])\n",
      "tensor([[ 0.,  0.,  0.,  0., -1.,  1., -1.,  1.,  1.]])\n",
      "tensor([[ 0.,  0.,  0.,  0., -1.,  0., -1.,  1.,  1.]])\n",
      "tensor([[0., 0., 0., 0., 0., 0., 0., 0., 1.]])\n",
      "tensor([[ 1.,  0.,  0.,  0.,  0.,  0.,  0.,  0., -1.]])\n",
      "tensor([[ 0.,  0.,  1.,  0.,  1.,  0.,  0.,  0., -1.]])\n"
     ]
    },
    {
     "name": "stderr",
     "output_type": "stream",
     "text": [
      " 13%|████▉                                 | 1290/10000 [00:50<05:19, 27.30it/s]"
     ]
    },
    {
     "name": "stdout",
     "output_type": "stream",
     "text": [
      "tensor([[ 0.,  0.,  0.,  0., -1.,  0.,  0.,  0.,  1.]])\n",
      "tensor([[ 0.,  0.,  0.,  0.,  1.,  0.,  0.,  0., -1.]])\n",
      "tensor([[ 0.,  0.,  0.,  0., -1.,  0.,  0.,  1.,  1.]])\n",
      "tensor([[0., 0., 0., 0., 0., 0., 1., 0., 0.]])\n",
      "tensor([[ 0.,  0.,  0.,  0., -1.,  0.,  0.,  1.,  1.]])\n",
      "tensor([[ 0.,  0.,  0.,  0., -1.,  0., -1.,  1.,  1.]])\n",
      "tensor([[0., 0., 0., 0., 0., 0., 0., 0., 1.]])\n",
      "tensor([[ 0.,  0.,  0.,  0., -1.,  0.,  0.,  0.,  1.]])\n",
      "tensor([[ 0.,  0.,  0.,  0.,  1.,  0., -1., -1.,  1.]])\n",
      "tensor([[0., 0., 0., 0., 0., 0., 0., 0., 1.]])\n",
      "tensor([[0., 0., 0., 0., 0., 0., 1., 0., 0.]])\n",
      "tensor([[ 1.,  0.,  0.,  0.,  1.,  0.,  0., -1., -1.]])\n",
      "tensor([[ 0.,  0.,  0.,  0., -1.,  1., -1.,  1.,  1.]])\n",
      "tensor([[0., 0., 0., 0., 0., 0., 0., 0., 1.]])\n",
      "tensor([[ 0.,  0.,  0.,  0.,  1.,  0.,  0.,  0., -1.]])\n",
      "tensor([[0., 0., 0., 0., 1., 0., 0., 0., 0.]])\n",
      "tensor([[ 1.,  0.,  0.,  0.,  1.,  0.,  1., -1., -1.]])\n",
      "tensor([[ 0.,  0.,  0.,  0.,  1.,  0.,  1.,  0., -1.]])\n",
      "tensor([[0., 0., 0., 0., 0., 0., 1., 0., 0.]])\n",
      "tensor([[ 0.,  0.,  0.,  0., -1.,  0.,  0.,  1.,  1.]])\n",
      "tensor([[0., 0., 0., 0., 0., 0., 0., 0., 1.]])\n",
      "tensor([[0., 0., 0., 0., 0., 0., 0., 0., 1.]])\n",
      "tensor([[ 0.,  0.,  0.,  0.,  1.,  0.,  0.,  0., -1.]])\n",
      "tensor([[ 0.,  0.,  0.,  0., -1.,  0.,  0.,  0.,  1.]])\n",
      "tensor([[0., 0., 0., 0., 0., 0., 0., 0., 1.]])\n",
      "tensor([[ 0.,  0.,  0.,  0., -1.,  1., -1.,  1.,  1.]])\n",
      "tensor([[0., 0., 0., 0., 0., 0., 0., 0., 1.]])\n",
      "tensor([[ 0.,  0.,  0.,  0., -1.,  0.,  0.,  0.,  1.]])\n"
     ]
    },
    {
     "name": "stderr",
     "output_type": "stream",
     "text": [
      "\r",
      " 13%|████▉                                 | 1293/10000 [00:50<05:15, 27.56it/s]"
     ]
    },
    {
     "name": "stdout",
     "output_type": "stream",
     "text": [
      "tensor([[ 0.,  0.,  0.,  0., -1.,  0., -1.,  1.,  1.]])\n",
      "tensor([[ 0.,  0.,  0.,  0., -1.,  0.,  0.,  1.,  1.]])\n",
      "tensor([[ 1.,  0.,  0.,  0.,  1.,  0.,  0., -1., -1.]])\n",
      "tensor([[ 0.,  0.,  0.,  0., -1.,  0., -1.,  1.,  1.]])\n",
      "tensor([[ 0.,  0.,  0.,  0., -1.,  0., -1.,  1.,  1.]])\n",
      "tensor([[ 1.,  0.,  0.,  0.,  1., -1.,  1., -1., -1.]])\n",
      "tensor([[ 1.,  0.,  0.,  0.,  1.,  0.,  0.,  0., -1.]])\n",
      "tensor([[ 0.,  0.,  0.,  0., -1.,  0.,  0.,  1.,  1.]])\n",
      "tensor([[ 0.,  0.,  0.,  0., -1.,  0.,  0.,  0.,  1.]])\n",
      "tensor([[1., 0., 0., 0., 0., 0., 0., 0., 0.]])\n",
      "tensor([[ 0.,  0.,  0.,  0., -1.,  0.,  0.,  1.,  1.]])\n",
      "tensor([[ 0.,  0.,  0.,  0., -1.,  0.,  0.,  0.,  1.]])\n",
      "tensor([[ 0.,  0.,  0.,  0.,  1.,  0., -1., -1.,  1.]])\n",
      "tensor([[ 0.,  0.,  0.,  0., -1.,  1., -1.,  1.,  1.]])\n",
      "tensor([[ 0.,  0.,  0.,  0., -1.,  0.,  0.,  1.,  1.]])\n",
      "tensor([[ 0.,  0.,  0.,  0., -1.,  0.,  0.,  0.,  1.]])\n",
      "tensor([[0., 0., 0., 0., 1., 0., 0., 0., 0.]])\n",
      "tensor([[ 0.,  0.,  0.,  0., -1.,  0.,  0.,  0.,  1.]])\n",
      "tensor([[ 0.,  0.,  0.,  0.,  0.,  0.,  0., -1.,  1.]])\n",
      "tensor([[ 0.,  0.,  1.,  0.,  0.,  0.,  0.,  0., -1.]])\n",
      "tensor([[ 0.,  0.,  1.,  0.,  1.,  0.,  0.,  0., -1.]])\n",
      "tensor([[ 1.,  0.,  0.,  0.,  1., -1.,  1., -1., -1.]])\n",
      "tensor([[1., 0., 0., 0., 0., 0., 0., 0., 0.]])\n",
      "tensor([[ 0.,  0.,  0.,  0., -1.,  1., -1.,  1.,  1.]])\n",
      "tensor([[ 0.,  0.,  0.,  0., -1.,  1., -1.,  1.,  1.]])\n",
      "tensor([[ 0.,  0.,  0.,  0.,  1.,  0., -1., -1.,  1.]])\n",
      "tensor([[ 0.,  0.,  0.,  0., -1.,  1., -1.,  1.,  1.]])\n",
      "tensor([[ 0.,  0.,  0.,  0., -1.,  0., -1.,  1.,  1.]])\n",
      "tensor([[1., 0., 0., 0., 0., 0., 0., 0., 0.]])\n",
      "tensor([[ 0.,  0.,  0.,  0.,  1.,  0.,  0., -1.,  1.]])\n",
      "tensor([[ 0.,  0.,  0.,  0., -1.,  0.,  0.,  1.,  1.]])\n"
     ]
    },
    {
     "name": "stderr",
     "output_type": "stream",
     "text": [
      " 13%|████▉                                 | 1299/10000 [00:50<05:19, 27.24it/s]"
     ]
    },
    {
     "name": "stdout",
     "output_type": "stream",
     "text": [
      "tensor([[ 1.,  0.,  0.,  0.,  1.,  0.,  0., -1., -1.]])\n",
      "tensor([[ 0.,  0.,  0.,  0., -1.,  0., -1.,  1.,  1.]])\n",
      "tensor([[ 0.,  0.,  0.,  0.,  1.,  0.,  0.,  0., -1.]])\n",
      "tensor([[ 0.,  0.,  0.,  0., -1.,  1., -1.,  1.,  1.]])\n",
      "tensor([[ 0.,  0.,  0.,  0., -1.,  0.,  0.,  1.,  1.]])\n",
      "tensor([[0., 0., 0., 0., 0., 0., 0., 0., 1.]])\n",
      "tensor([[ 1.,  0.,  0.,  0.,  1., -1.,  1., -1., -1.]])\n",
      "tensor([[ 0.,  0.,  0.,  0., -1.,  1., -1.,  1.,  1.]])\n",
      "tensor([[ 0.,  0.,  0.,  0.,  0.,  0.,  0., -1.,  1.]])\n",
      "tensor([[ 0.,  0.,  0.,  0., -1.,  0.,  0.,  0.,  1.]])\n",
      "tensor([[ 0.,  0.,  0.,  0., -1.,  0.,  0.,  1.,  1.]])\n",
      "tensor([[ 0.,  0.,  0.,  0.,  1.,  0.,  0.,  0., -1.]])\n",
      "tensor([[ 1.,  0.,  0.,  0.,  1.,  0.,  0., -1., -1.]])\n",
      "tensor([[ 0.,  0.,  0.,  0., -1.,  0.,  0.,  0.,  1.]])\n",
      "tensor([[ 0.,  0.,  0.,  0.,  0.,  0.,  1.,  0., -1.]])\n",
      "tensor([[ 1.,  0.,  0.,  0.,  1.,  0.,  0., -1., -1.]])\n",
      "tensor([[ 1.,  0.,  0.,  0.,  1.,  0.,  0.,  0., -1.]])\n",
      "tensor([[0., 0., 0., 0., 0., 0., 0., 0., 1.]])\n",
      "tensor([[0., 0., 0., 0., 0., 0., 0., 0., 1.]])\n",
      "tensor([[ 1.,  0.,  0.,  0.,  1., -1.,  1., -1., -1.]])\n",
      "tensor([[ 0.,  0.,  0.,  0., -1.,  0.,  0.,  1.,  1.]])\n",
      "tensor([[ 0.,  0.,  0.,  0., -1.,  0.,  0.,  1.,  1.]])\n",
      "tensor([[ 0.,  0.,  0.,  0., -1.,  1., -1.,  1.,  1.]])\n",
      "tensor([[ 1.,  0.,  0.,  0.,  1.,  0.,  1., -1., -1.]])\n",
      "tensor([[ 1.,  0.,  0.,  0.,  1.,  0.,  0.,  0., -1.]])\n",
      "tensor([[ 0.,  0.,  0.,  0.,  1.,  0.,  1., -1., -1.]])\n",
      "tensor([[ 1.,  0.,  0.,  0.,  1.,  0.,  1., -1., -1.]])\n"
     ]
    },
    {
     "name": "stderr",
     "output_type": "stream",
     "text": [
      " 13%|████▉                                 | 1305/10000 [00:50<05:37, 25.78it/s]"
     ]
    },
    {
     "name": "stdout",
     "output_type": "stream",
     "text": [
      "tensor([[ 1.,  0.,  0.,  0.,  1., -1.,  1., -1., -1.]])\n",
      "tensor([[0., 0., 0., 0., 0., 0., 1., 0., 0.]])\n",
      "tensor([[ 0.,  0.,  0.,  0., -1.,  0., -1.,  1.,  1.]])\n",
      "tensor([[ 1.,  0.,  0.,  0.,  1., -1.,  1., -1., -1.]])\n",
      "tensor([[ 0.,  0.,  0.,  0., -1.,  0.,  0.,  0.,  1.]])\n",
      "tensor([[0., 0., 0., 0., 0., 0., 0., 0., 1.]])\n",
      "tensor([[ 1.,  0.,  0.,  0.,  1.,  0.,  0., -1., -1.]])\n",
      "tensor([[ 1.,  0.,  0.,  0.,  1., -1.,  1., -1., -1.]])\n",
      "tensor([[ 1.,  0.,  0.,  0.,  1.,  0.,  0., -1., -1.]])\n",
      "tensor([[0., 0., 0., 0., 0., 0., 0., 0., 1.]])\n",
      "tensor([[ 1.,  0.,  0.,  0.,  1., -1.,  1., -1., -1.]])\n",
      "tensor([[ 0.,  0.,  1.,  0.,  0.,  0.,  0.,  0., -1.]])\n",
      "tensor([[ 0.,  0.,  0.,  0.,  1.,  0.,  0.,  0., -1.]])\n",
      "tensor([[ 0.,  0.,  0.,  0.,  1.,  0.,  1.,  0., -1.]])\n",
      "tensor([[ 1.,  0.,  0.,  0.,  1.,  0.,  1., -1., -1.]])\n",
      "tensor([[ 0.,  0.,  0.,  0.,  1.,  0., -1., -1.,  1.]])\n",
      "tensor([[1., 0., 0., 0., 0., 0., 0., 0., 0.]])\n",
      "tensor([[ 0.,  0.,  0.,  0.,  1.,  0.,  0., -1.,  1.]])\n",
      "tensor([[ 0.,  0.,  1.,  0.,  1.,  0.,  0., -1., -1.]])\n",
      "tensor([[ 1.,  0.,  0.,  0.,  1.,  0.,  1., -1., -1.]])\n",
      "tensor([[ 1.,  0.,  0.,  0.,  1.,  0.,  1., -1., -1.]])\n",
      "tensor([[0., 0., 0., 0., 0., 0., 0., 0., 1.]])\n",
      "tensor([[0., 0., 0., 0., 1., 0., 0., 0., 0.]])\n",
      "tensor([[ 0.,  0.,  0.,  0.,  0.,  0.,  0., -1.,  1.]])\n"
     ]
    },
    {
     "name": "stderr",
     "output_type": "stream",
     "text": [
      " 13%|████▉                                 | 1311/10000 [00:50<05:36, 25.81it/s]"
     ]
    },
    {
     "name": "stdout",
     "output_type": "stream",
     "text": [
      "tensor([[ 0.,  0.,  0.,  0., -1.,  0.,  0.,  0.,  1.]])\n",
      "tensor([[ 0.,  0.,  0.,  0.,  0.,  0.,  1.,  0., -1.]])\n",
      "tensor([[ 1.,  0.,  0.,  0.,  1., -1.,  1., -1., -1.]])\n",
      "tensor([[ 1.,  0.,  0.,  0.,  0.,  0.,  0.,  0., -1.]])\n",
      "tensor([[0., 0., 0., 0., 0., 0., 0., 0., 1.]])\n",
      "tensor([[ 1.,  0.,  0.,  0.,  1.,  0.,  0.,  0., -1.]])\n",
      "tensor([[ 1.,  0.,  0.,  0.,  1.,  0.,  0., -1., -1.]])\n",
      "tensor([[ 0.,  0.,  0.,  0., -1.,  1., -1.,  1.,  1.]])\n",
      "tensor([[ 1.,  0.,  0.,  0.,  0.,  0.,  0.,  0., -1.]])\n",
      "tensor([[ 0.,  0.,  0.,  0., -1.,  0., -1.,  1.,  1.]])\n",
      "tensor([[ 0.,  0.,  0.,  0., -1.,  0.,  0.,  0.,  1.]])\n",
      "tensor([[ 0.,  0.,  0.,  0., -1.,  0., -1.,  1.,  1.]])\n",
      "tensor([[ 0.,  0.,  0.,  0., -1.,  0.,  0.,  0.,  1.]])\n",
      "tensor([[ 0.,  0.,  0.,  0., -1.,  1., -1.,  1.,  1.]])\n",
      "tensor([[ 0.,  0.,  0.,  0., -1.,  0., -1.,  1.,  1.]])\n",
      "tensor([[ 0.,  0.,  0.,  0., -1.,  0., -1.,  1.,  1.]])\n",
      "tensor([[ 0.,  0.,  1.,  0.,  1.,  0.,  0., -1., -1.]])\n",
      "tensor([[ 0.,  0.,  0.,  0.,  1.,  0.,  1.,  0., -1.]])\n",
      "tensor([[ 0.,  0.,  0.,  0.,  1.,  0., -1., -1.,  1.]])\n",
      "tensor([[ 1.,  0.,  0.,  0.,  1.,  0.,  1., -1., -1.]])\n",
      "tensor([[ 0.,  0.,  1.,  0.,  1.,  0.,  0., -1., -1.]])\n",
      "tensor([[0., 0., 0., 0., 0., 0., 0., 0., 1.]])\n",
      "tensor([[ 0.,  0.,  0.,  0., -1.,  0.,  0.,  0.,  1.]])\n",
      "tensor([[1., 0., 0., 0., 0., 0., 0., 0., 0.]])\n",
      "tensor([[ 0.,  0.,  0.,  0., -1.,  0.,  0.,  1.,  1.]])\n",
      "tensor([[ 0.,  0.,  0.,  0.,  0.,  0.,  1.,  0., -1.]])\n",
      "tensor([[ 0.,  0.,  0.,  0.,  1.,  0., -1., -1.,  1.]])\n",
      "tensor([[ 0.,  0.,  0.,  0., -1.,  0., -1.,  1.,  1.]])\n",
      "tensor([[ 0.,  0.,  0.,  0.,  0.,  0.,  1.,  0., -1.]])\n",
      "tensor([[ 0.,  0.,  0.,  0., -1.,  0.,  0.,  1.,  1.]])\n",
      "tensor([[ 0.,  0.,  0.,  0., -1.,  1., -1.,  1.,  1.]])\n"
     ]
    },
    {
     "name": "stderr",
     "output_type": "stream",
     "text": [
      "\r",
      " 13%|████▉                                 | 1314/10000 [00:51<05:36, 25.78it/s]"
     ]
    },
    {
     "name": "stdout",
     "output_type": "stream",
     "text": [
      "tensor([[ 0.,  0.,  0.,  0.,  1.,  0.,  0., -1.,  1.]])\n",
      "tensor([[ 0.,  0.,  0.,  0., -1.,  1., -1.,  1.,  1.]])\n",
      "tensor([[ 0.,  0.,  0.,  0., -1.,  0.,  0.,  1.,  1.]])\n",
      "tensor([[ 0.,  0.,  0.,  0., -1.,  0.,  0.,  1.,  1.]])\n",
      "tensor([[ 1.,  0.,  0.,  0.,  1.,  0.,  0.,  0., -1.]])\n",
      "tensor([[ 1.,  0.,  0.,  0.,  1.,  0.,  1., -1., -1.]])\n",
      "tensor([[ 0.,  0.,  0.,  0., -1.,  0., -1.,  1.,  1.]])\n",
      "tensor([[0., 0., 0., 0., 0., 0., 0., 0., 1.]])\n",
      "tensor([[ 0.,  0.,  0.,  0.,  0.,  0.,  0., -1.,  1.]])\n",
      "tensor([[ 1.,  0.,  0.,  0.,  1., -1.,  1., -1., -1.]])\n",
      "tensor([[ 0.,  0.,  0.,  0., -1.,  0., -1.,  1.,  1.]])\n",
      "tensor([[ 0.,  0.,  0.,  0., -1.,  1., -1.,  1.,  1.]])\n",
      "tensor([[ 0.,  0.,  1.,  0.,  0.,  0.,  0.,  0., -1.]])\n",
      "tensor([[ 0.,  0.,  0.,  0., -1.,  1., -1.,  1.,  1.]])\n",
      "tensor([[ 0.,  0.,  0.,  0.,  0.,  0.,  1.,  0., -1.]])\n",
      "tensor([[ 0.,  0.,  0.,  0., -1.,  0.,  0.,  0.,  1.]])\n",
      "tensor([[ 0.,  0.,  0.,  0., -1.,  0.,  0.,  0.,  1.]])\n",
      "tensor([[ 0.,  0.,  0.,  0.,  0.,  0.,  1.,  0., -1.]])\n",
      "tensor([[ 0.,  0.,  0.,  0., -1.,  0., -1.,  1.,  1.]])\n",
      "tensor([[0., 0., 0., 0., 0., 0., 0., 0., 1.]])\n",
      "tensor([[ 0.,  0.,  0.,  0., -1.,  0., -1.,  1.,  1.]])\n",
      "tensor([[0., 0., 0., 0., 0., 0., 0., 0., 1.]])\n",
      "tensor([[ 0.,  0.,  1.,  0.,  1.,  0.,  0., -1., -1.]])\n",
      "tensor([[0., 0., 0., 0., 0., 0., 0., 0., 1.]])\n",
      "tensor([[0., 0., 0., 0., 0., 0., 0., 0., 1.]])\n",
      "tensor([[ 0.,  0.,  0.,  0., -1.,  0., -1.,  1.,  1.]])\n",
      "tensor([[ 0.,  0.,  0.,  0., -1.,  1., -1.,  1.,  1.]])\n",
      "tensor([[ 0.,  0.,  0.,  0.,  1.,  0.,  1., -1., -1.]])\n"
     ]
    },
    {
     "name": "stderr",
     "output_type": "stream",
     "text": [
      "\r",
      " 13%|█████                                 | 1317/10000 [00:51<06:16, 23.08it/s]"
     ]
    },
    {
     "name": "stdout",
     "output_type": "stream",
     "text": [
      "tensor([[ 0.,  0.,  0.,  0.,  0.,  0.,  1.,  0., -1.]])\n",
      "tensor([[ 0.,  0.,  0.,  0., -1.,  0.,  0.,  1.,  1.]])\n",
      "tensor([[ 0.,  0.,  0.,  0., -1.,  0.,  0.,  1.,  1.]])\n",
      "tensor([[ 0.,  0.,  0.,  0., -1.,  0.,  0.,  0.,  1.]])\n",
      "tensor([[1., 0., 0., 0., 0., 0., 0., 0., 0.]])\n",
      "tensor([[ 0.,  0.,  1.,  0.,  1.,  0.,  0., -1., -1.]])\n",
      "tensor([[ 0.,  0.,  0.,  0., -1.,  0.,  0.,  0.,  1.]])\n",
      "tensor([[ 0.,  0.,  0.,  0., -1.,  0., -1.,  1.,  1.]])\n",
      "tensor([[ 0.,  0.,  0.,  0., -1.,  0.,  0.,  0.,  1.]])\n",
      "tensor([[ 0.,  0.,  0.,  0.,  1.,  0.,  0., -1.,  1.]])\n",
      "tensor([[ 0.,  0.,  0.,  0., -1.,  0., -1.,  1.,  1.]])\n",
      "tensor([[ 1.,  0.,  0.,  0.,  1.,  0.,  1., -1., -1.]])\n",
      "tensor([[0., 0., 0., 0., 1., 0., 0., 0., 0.]])\n",
      "tensor([[0., 0., 0., 0., 1., 0., 0., 0., 0.]])\n",
      "tensor([[0., 0., 0., 0., 0., 0., 0., 0., 1.]])\n",
      "tensor([[ 0.,  0.,  0.,  0., -1.,  0.,  0.,  1.,  1.]])\n",
      "tensor([[ 0.,  0.,  0.,  0., -1.,  0., -1.,  1.,  1.]])\n",
      "tensor([[ 0.,  0.,  0.,  0., -1.,  1., -1.,  1.,  1.]])\n"
     ]
    },
    {
     "name": "stderr",
     "output_type": "stream",
     "text": [
      " 13%|█████                                 | 1323/10000 [00:51<07:16, 19.87it/s]"
     ]
    },
    {
     "name": "stdout",
     "output_type": "stream",
     "text": [
      "tensor([[ 0.,  0.,  0.,  0.,  0.,  0.,  0., -1.,  1.]])\n",
      "tensor([[ 1.,  0.,  0.,  0.,  1.,  0.,  1., -1., -1.]])\n",
      "tensor([[ 0.,  0.,  0.,  0., -1.,  0.,  0.,  0.,  1.]])\n",
      "tensor([[ 0.,  0.,  0.,  0.,  0.,  0.,  0., -1.,  1.]])\n",
      "tensor([[ 0.,  0.,  0.,  0.,  1.,  0.,  0., -1.,  1.]])\n",
      "tensor([[ 0.,  0.,  0.,  0.,  1.,  0.,  1.,  0., -1.]])\n",
      "tensor([[ 1.,  0.,  0.,  0.,  1.,  0.,  0., -1., -1.]])\n",
      "tensor([[0., 0., 1., 0., 0., 0., 0., 0., 0.]])\n",
      "tensor([[ 1.,  0.,  0.,  0.,  1.,  0.,  0., -1., -1.]])\n",
      "tensor([[ 0.,  0.,  0.,  0.,  1.,  0.,  0., -1.,  1.]])\n",
      "tensor([[ 1.,  0.,  0.,  0.,  1.,  0.,  1., -1., -1.]])\n",
      "tensor([[ 0.,  0.,  0.,  0., -1.,  0.,  0.,  0.,  1.]])\n",
      "tensor([[0., 0., 0., 0., 0., 0., 0., 0., 1.]])\n",
      "tensor([[ 0.,  0.,  0.,  0., -1.,  0.,  0.,  1.,  1.]])\n",
      "tensor([[0., 0., 0., 0., 0., 0., 0., 0., 1.]])\n",
      "tensor([[ 0.,  0.,  0.,  0., -1.,  0., -1.,  1.,  1.]])\n",
      "tensor([[0., 0., 0., 0., 0., 0., 0., 0., 1.]])\n",
      "tensor([[ 1.,  0.,  0.,  0.,  1.,  0.,  0.,  0., -1.]])\n",
      "tensor([[ 0.,  0.,  0.,  0., -1.,  0.,  0.,  1.,  1.]])\n",
      "tensor([[ 0.,  0.,  1.,  0.,  1.,  0.,  0.,  0., -1.]])\n"
     ]
    },
    {
     "name": "stderr",
     "output_type": "stream",
     "text": [
      "\r",
      " 13%|█████                                 | 1326/10000 [00:51<06:55, 20.87it/s]"
     ]
    },
    {
     "name": "stdout",
     "output_type": "stream",
     "text": [
      "tensor([[ 1.,  0.,  0.,  0.,  1.,  0.,  0., -1., -1.]])\n",
      "tensor([[ 0.,  0.,  0.,  0., -1.,  0.,  0.,  1.,  1.]])\n",
      "tensor([[0., 0., 0., 0., 1., 0., 0., 0., 0.]])\n",
      "tensor([[ 0.,  0.,  0.,  0., -1.,  0., -1.,  1.,  1.]])\n",
      "tensor([[ 0.,  0.,  0.,  0., -1.,  0.,  0.,  1.,  1.]])\n",
      "tensor([[ 0.,  0.,  0.,  0.,  0.,  0.,  0., -1.,  1.]])\n",
      "tensor([[ 0.,  0.,  0.,  0., -1.,  0.,  0.,  1.,  1.]])\n",
      "tensor([[ 0.,  0.,  0.,  0., -1.,  0., -1.,  1.,  1.]])\n",
      "tensor([[ 0.,  0.,  0.,  0., -1.,  1., -1.,  1.,  1.]])\n",
      "tensor([[ 1.,  0.,  0.,  0.,  1.,  0.,  0., -1., -1.]])\n",
      "tensor([[0., 0., 0., 0., 1., 0., 0., 0., 0.]])\n",
      "tensor([[ 0.,  0.,  0.,  0., -1.,  0., -1.,  1.,  1.]])\n",
      "tensor([[ 0.,  0.,  0.,  0., -1.,  0.,  0.,  0.,  1.]])\n",
      "tensor([[ 0.,  0.,  0.,  0., -1.,  0.,  0.,  0.,  1.]])\n",
      "tensor([[0., 0., 1., 0., 0., 0., 0., 0., 0.]])\n",
      "tensor([[ 0.,  0.,  0.,  0., -1.,  0.,  0.,  0.,  1.]])\n",
      "tensor([[ 0.,  0.,  0.,  0.,  0.,  0.,  0., -1.,  1.]])\n",
      "tensor([[ 0.,  0.,  0.,  0., -1.,  0.,  0.,  1.,  1.]])\n",
      "tensor([[ 0.,  0.,  0.,  0., -1.,  1., -1.,  1.,  1.]])\n",
      "tensor([[ 1.,  0.,  0.,  0.,  1., -1.,  1., -1., -1.]])\n",
      "tensor([[0., 0., 0., 0., 0., 0., 0., 0., 1.]])\n",
      "tensor([[ 0.,  0.,  0.,  0., -1.,  1., -1.,  1.,  1.]])\n",
      "tensor([[ 0.,  0.,  0.,  0., -1.,  1., -1.,  1.,  1.]])\n",
      "tensor([[ 0.,  0.,  0.,  0., -1.,  1., -1.,  1.,  1.]])\n",
      "tensor([[0., 0., 0., 0., 0., 0., 0., 0., 1.]])\n",
      "tensor([[0., 0., 0., 0., 0., 0., 1., 0., 0.]])\n",
      "tensor([[ 0.,  0.,  0.,  0., -1.,  0., -1.,  1.,  1.]])\n",
      "tensor([[ 0.,  0.,  0.,  0.,  0.,  0.,  0., -1.,  1.]])\n",
      "tensor([[ 0.,  0.,  0.,  0., -1.,  1., -1.,  1.,  1.]])\n",
      "tensor([[ 1.,  0.,  0.,  0.,  1.,  0.,  0., -1., -1.]])\n"
     ]
    },
    {
     "name": "stderr",
     "output_type": "stream",
     "text": [
      " 13%|█████                                 | 1332/10000 [00:52<06:34, 21.96it/s]"
     ]
    },
    {
     "name": "stdout",
     "output_type": "stream",
     "text": [
      "tensor([[0., 0., 0., 0., 1., 0., 0., 0., 0.]])\n",
      "tensor([[ 0.,  0.,  0.,  0., -1.,  1., -1.,  1.,  1.]])\n",
      "tensor([[0., 0., 0., 0., 1., 0., 0., 0., 0.]])\n",
      "tensor([[ 1.,  0.,  0.,  0.,  1.,  0.,  1., -1., -1.]])\n",
      "tensor([[ 0.,  0.,  0.,  0., -1.,  0.,  0.,  1.,  1.]])\n",
      "tensor([[ 0.,  0.,  0.,  0., -1.,  0., -1.,  1.,  1.]])\n",
      "tensor([[ 0.,  0.,  0.,  0., -1.,  0.,  0.,  1.,  1.]])\n",
      "tensor([[0., 0., 0., 0., 0., 0., 0., 0., 1.]])\n",
      "tensor([[0., 0., 0., 0., 0., 0., 1., 0., 0.]])\n",
      "tensor([[0., 0., 0., 0., 1., 0., 0., 0., 0.]])\n",
      "tensor([[ 0.,  0.,  0.,  0.,  1.,  0., -1., -1.,  1.]])\n",
      "tensor([[ 0.,  0.,  1.,  0.,  0.,  0.,  0.,  0., -1.]])\n",
      "tensor([[ 0.,  0.,  1.,  0.,  1.,  0.,  0., -1., -1.]])\n",
      "tensor([[ 1.,  0.,  0.,  0.,  1.,  0.,  0.,  0., -1.]])\n"
     ]
    },
    {
     "name": "stderr",
     "output_type": "stream",
     "text": [
      " 13%|█████                                 | 1338/10000 [00:52<06:25, 22.46it/s]"
     ]
    },
    {
     "name": "stdout",
     "output_type": "stream",
     "text": [
      "tensor([[ 0.,  0.,  0.,  0., -1.,  0., -1.,  1.,  1.]])\n",
      "tensor([[ 0.,  0.,  1.,  0.,  0.,  0.,  0.,  0., -1.]])\n",
      "tensor([[ 0.,  0.,  0.,  0., -1.,  0., -1.,  1.,  1.]])\n",
      "tensor([[ 1.,  0.,  0.,  0.,  1.,  0.,  1., -1., -1.]])\n",
      "tensor([[ 0.,  0.,  0.,  0., -1.,  0.,  0.,  0.,  1.]])\n",
      "tensor([[ 1.,  0.,  0.,  0.,  1.,  0.,  0., -1., -1.]])\n",
      "tensor([[1., 0., 0., 0., 0., 0., 0., 0., 0.]])\n",
      "tensor([[ 1.,  0.,  0.,  0.,  1., -1.,  1., -1., -1.]])\n",
      "tensor([[0., 0., 0., 0., 0., 0., 0., 0., 1.]])\n",
      "tensor([[ 1.,  0.,  0.,  0.,  1.,  0.,  0., -1., -1.]])\n",
      "tensor([[0., 0., 1., 0., 0., 0., 0., 0., 0.]])\n",
      "tensor([[ 0.,  0.,  0.,  0., -1.,  0., -1.,  1.,  1.]])\n",
      "tensor([[ 0.,  0.,  0.,  0., -1.,  0., -1.,  1.,  1.]])\n",
      "tensor([[ 0.,  0.,  0.,  0.,  1.,  0.,  1.,  0., -1.]])\n",
      "tensor([[ 0.,  0.,  0.,  0., -1.,  1., -1.,  1.,  1.]])\n",
      "tensor([[ 0.,  0.,  0.,  0.,  1.,  0.,  1., -1., -1.]])\n",
      "tensor([[1., 0., 0., 0., 0., 0., 0., 0., 0.]])\n",
      "tensor([[ 0.,  0.,  0.,  0., -1.,  1., -1.,  1.,  1.]])\n",
      "tensor([[ 0.,  0.,  1.,  0.,  0.,  0.,  0.,  0., -1.]])\n",
      "tensor([[0., 0., 1., 0., 0., 0., 0., 0., 0.]])\n",
      "tensor([[ 0.,  0.,  0.,  0., -1.,  0.,  0.,  1.,  1.]])\n",
      "tensor([[ 0.,  0.,  0.,  0., -1.,  0.,  0.,  1.,  1.]])\n",
      "tensor([[ 1.,  0.,  0.,  0.,  1.,  0.,  1., -1., -1.]])\n",
      "tensor([[ 1.,  0.,  0.,  0.,  1.,  0.,  0.,  0., -1.]])\n",
      "tensor([[ 1.,  0.,  0.,  0.,  0.,  0.,  0.,  0., -1.]])\n"
     ]
    },
    {
     "name": "stderr",
     "output_type": "stream",
     "text": [
      "\r",
      " 13%|█████                                 | 1341/10000 [00:52<06:18, 22.89it/s]"
     ]
    },
    {
     "name": "stdout",
     "output_type": "stream",
     "text": [
      "tensor([[ 0.,  0.,  0.,  0., -1.,  1., -1.,  1.,  1.]])\n",
      "tensor([[ 0.,  0.,  1.,  0.,  1.,  0.,  0., -1., -1.]])\n",
      "tensor([[ 0.,  0.,  0.,  0.,  1.,  0., -1., -1.,  1.]])\n",
      "tensor([[ 1.,  0.,  0.,  0.,  0.,  0.,  0.,  0., -1.]])\n",
      "tensor([[ 0.,  0.,  0.,  0., -1.,  0., -1.,  1.,  1.]])\n",
      "tensor([[ 0.,  0.,  0.,  0., -1.,  0.,  0.,  1.,  1.]])\n",
      "tensor([[ 1.,  0.,  0.,  0.,  1.,  0.,  1., -1., -1.]])\n",
      "tensor([[ 0.,  0.,  1.,  0.,  0.,  0.,  0.,  0., -1.]])\n",
      "tensor([[ 0.,  0.,  0.,  0.,  0.,  0.,  1.,  0., -1.]])\n",
      "tensor([[ 0.,  0.,  0.,  0., -1.,  0.,  0.,  0.,  1.]])\n",
      "tensor([[ 0.,  0.,  0.,  0., -1.,  0.,  0.,  1.,  1.]])\n",
      "tensor([[ 0.,  0.,  0.,  0., -1.,  0., -1.,  1.,  1.]])\n",
      "tensor([[ 1.,  0.,  0.,  0.,  1.,  0.,  0.,  0., -1.]])\n",
      "tensor([[ 1.,  0.,  0.,  0.,  1.,  0.,  0., -1., -1.]])\n",
      "tensor([[0., 0., 0., 0., 0., 0., 0., 0., 1.]])\n",
      "tensor([[ 0.,  0.,  0.,  0., -1.,  1., -1.,  1.,  1.]])\n",
      "tensor([[0., 0., 0., 0., 0., 0., 0., 0., 1.]])\n",
      "tensor([[0., 0., 0., 0., 0., 0., 0., 0., 1.]])\n",
      "tensor([[1., 0., 0., 0., 0., 0., 0., 0., 0.]])\n",
      "tensor([[ 0.,  0.,  1.,  0.,  0.,  0.,  0.,  0., -1.]])\n",
      "tensor([[ 1.,  0.,  0.,  0.,  1.,  0.,  1., -1., -1.]])\n",
      "tensor([[ 0.,  0.,  0.,  0., -1.,  0.,  0.,  0.,  1.]])\n",
      "tensor([[ 0.,  0.,  0.,  0.,  1.,  0.,  0.,  0., -1.]])\n",
      "tensor([[ 0.,  0.,  0.,  0., -1.,  1., -1.,  1.,  1.]])\n",
      "tensor([[0., 0., 0., 0., 0., 0., 0., 0., 1.]])\n",
      "tensor([[ 0.,  0.,  0.,  0., -1.,  0., -1.,  1.,  1.]])\n"
     ]
    },
    {
     "name": "stderr",
     "output_type": "stream",
     "text": [
      " 13%|█████                                 | 1347/10000 [00:52<06:07, 23.56it/s]"
     ]
    },
    {
     "name": "stdout",
     "output_type": "stream",
     "text": [
      "tensor([[ 0.,  0.,  0.,  0., -1.,  1., -1.,  1.,  1.]])\n",
      "tensor([[ 0.,  0.,  0.,  0.,  0.,  0.,  1.,  0., -1.]])\n",
      "tensor([[ 0.,  0.,  0.,  0., -1.,  0.,  0.,  1.,  1.]])\n",
      "tensor([[ 1.,  0.,  0.,  0.,  1., -1.,  1., -1., -1.]])\n",
      "tensor([[ 0.,  0.,  0.,  0.,  1.,  0.,  0.,  0., -1.]])\n",
      "tensor([[ 1.,  0.,  0.,  0.,  1., -1.,  1., -1., -1.]])\n",
      "tensor([[ 0.,  0.,  0.,  0., -1.,  1., -1.,  1.,  1.]])\n",
      "tensor([[ 0.,  0.,  0.,  0.,  1.,  0.,  0.,  0., -1.]])\n",
      "tensor([[ 0.,  0.,  0.,  0., -1.,  0., -1.,  1.,  1.]])\n",
      "tensor([[ 0.,  0.,  0.,  0., -1.,  0.,  0.,  1.,  1.]])\n",
      "tensor([[ 0.,  0.,  0.,  0., -1.,  0.,  0.,  0.,  1.]])\n",
      "tensor([[ 1.,  0.,  0.,  0.,  1.,  0.,  0., -1., -1.]])\n",
      "tensor([[ 0.,  0.,  0.,  0., -1.,  0.,  0.,  0.,  1.]])\n",
      "tensor([[ 0.,  0.,  0.,  0., -1.,  0., -1.,  1.,  1.]])\n",
      "tensor([[ 0.,  0.,  0.,  0., -1.,  0.,  0.,  1.,  1.]])\n",
      "tensor([[ 0.,  0.,  0.,  0., -1.,  1., -1.,  1.,  1.]])\n",
      "tensor([[ 1.,  0.,  0.,  0.,  1.,  0.,  1., -1., -1.]])\n",
      "tensor([[ 0.,  0.,  1.,  0.,  0.,  0.,  0.,  0., -1.]])\n",
      "tensor([[ 0.,  0.,  0.,  0.,  0.,  0.,  0., -1.,  1.]])\n",
      "tensor([[0., 0., 1., 0., 0., 0., 0., 0., 0.]])\n",
      "tensor([[ 0.,  0.,  0.,  0.,  1.,  0.,  0.,  0., -1.]])\n",
      "tensor([[ 0.,  0.,  0.,  0.,  1.,  0.,  0., -1.,  1.]])\n",
      "tensor([[ 0.,  0.,  0.,  0.,  1.,  0.,  1., -1., -1.]])\n",
      "tensor([[ 0.,  0.,  0.,  0.,  0.,  0.,  1.,  0., -1.]])\n",
      "tensor([[ 0.,  0.,  0.,  0., -1.,  1., -1.,  1.,  1.]])\n",
      "tensor([[ 0.,  0.,  0.,  0., -1.,  0., -1.,  1.,  1.]])\n"
     ]
    },
    {
     "name": "stderr",
     "output_type": "stream",
     "text": [
      " 14%|█████▏                                | 1353/10000 [00:52<05:43, 25.16it/s]"
     ]
    },
    {
     "name": "stdout",
     "output_type": "stream",
     "text": [
      "tensor([[ 0.,  0.,  0.,  0., -1.,  0.,  0.,  1.,  1.]])\n",
      "tensor([[ 1.,  0.,  0.,  0.,  1., -1.,  1., -1., -1.]])\n",
      "tensor([[ 0.,  0.,  0.,  0., -1.,  0., -1.,  1.,  1.]])\n",
      "tensor([[ 0.,  0.,  0.,  0., -1.,  0.,  0.,  1.,  1.]])\n",
      "tensor([[ 0.,  0.,  0.,  0.,  1.,  0., -1., -1.,  1.]])\n",
      "tensor([[ 1.,  0.,  0.,  0.,  1.,  0.,  0.,  0., -1.]])\n",
      "tensor([[ 0.,  0.,  0.,  0.,  0.,  0.,  0., -1.,  1.]])\n",
      "tensor([[ 1.,  0.,  0.,  0.,  1.,  0.,  0.,  0., -1.]])\n",
      "tensor([[0., 0., 0., 0., 0., 0., 0., 0., 1.]])\n",
      "tensor([[ 0.,  0.,  0.,  0., -1.,  0.,  0.,  1.,  1.]])\n",
      "tensor([[ 1.,  0.,  0.,  0.,  1.,  0.,  1., -1., -1.]])\n",
      "tensor([[ 0.,  0.,  0.,  0., -1.,  1., -1.,  1.,  1.]])\n",
      "tensor([[ 0.,  0.,  0.,  0., -1.,  0.,  0.,  1.,  1.]])\n",
      "tensor([[ 0.,  0.,  0.,  0., -1.,  1., -1.,  1.,  1.]])\n",
      "tensor([[ 1.,  0.,  0.,  0.,  1., -1.,  1., -1., -1.]])\n",
      "tensor([[ 0.,  0.,  0.,  0., -1.,  0., -1.,  1.,  1.]])\n",
      "tensor([[ 1.,  0.,  0.,  0.,  1., -1.,  1., -1., -1.]])\n",
      "tensor([[ 0.,  0.,  0.,  0., -1.,  0., -1.,  1.,  1.]])\n",
      "tensor([[0., 0., 0., 0., 0., 0., 0., 0., 1.]])\n",
      "tensor([[0., 0., 1., 0., 0., 0., 0., 0., 0.]])\n",
      "tensor([[ 1.,  0.,  0.,  0.,  1., -1.,  1., -1., -1.]])\n",
      "tensor([[ 1.,  0.,  0.,  0.,  1.,  0.,  0., -1., -1.]])\n",
      "tensor([[0., 0., 0., 0., 1., 0., 0., 0., 0.]])\n",
      "tensor([[ 0.,  0.,  0.,  0., -1.,  0.,  0.,  0.,  1.]])\n",
      "tensor([[ 0.,  0.,  0.,  0., -1.,  0., -1.,  1.,  1.]])\n",
      "tensor([[0., 0., 0., 0., 1., 0., 0., 0., 0.]])\n"
     ]
    },
    {
     "name": "stderr",
     "output_type": "stream",
     "text": [
      " 14%|█████▏                                | 1359/10000 [00:53<05:33, 25.92it/s]"
     ]
    },
    {
     "name": "stdout",
     "output_type": "stream",
     "text": [
      "tensor([[ 0.,  0.,  0.,  0.,  1.,  0.,  1.,  0., -1.]])\n",
      "tensor([[ 0.,  0.,  0.,  0., -1.,  0., -1.,  1.,  1.]])\n",
      "tensor([[ 1.,  0.,  0.,  0.,  1., -1.,  1., -1., -1.]])\n",
      "tensor([[ 1.,  0.,  0.,  0.,  1.,  0.,  1., -1., -1.]])\n",
      "tensor([[ 0.,  0.,  0.,  0., -1.,  0.,  0.,  1.,  1.]])\n",
      "tensor([[ 0.,  0.,  0.,  0., -1.,  0., -1.,  1.,  1.]])\n",
      "tensor([[ 0.,  0.,  0.,  0., -1.,  0.,  0.,  0.,  1.]])\n",
      "tensor([[ 0.,  0.,  0.,  0., -1.,  1., -1.,  1.,  1.]])\n",
      "tensor([[ 0.,  0.,  0.,  0., -1.,  1., -1.,  1.,  1.]])\n",
      "tensor([[ 0.,  0.,  0.,  0., -1.,  0.,  0.,  0.,  1.]])\n",
      "tensor([[ 1.,  0.,  0.,  0.,  1.,  0.,  0.,  0., -1.]])\n",
      "tensor([[ 1.,  0.,  0.,  0.,  0.,  0.,  0.,  0., -1.]])\n",
      "tensor([[ 1.,  0.,  0.,  0.,  1.,  0.,  0.,  0., -1.]])\n",
      "tensor([[0., 0., 0., 0., 0., 0., 0., 0., 1.]])\n",
      "tensor([[0., 0., 0., 0., 0., 0., 0., 0., 1.]])\n",
      "tensor([[ 0.,  0.,  0.,  0., -1.,  0.,  0.,  0.,  1.]])\n",
      "tensor([[0., 0., 0., 0., 0., 0., 0., 0., 1.]])\n",
      "tensor([[ 1.,  0.,  0.,  0.,  1., -1.,  1., -1., -1.]])\n",
      "tensor([[ 0.,  0.,  0.,  0., -1.,  0.,  0.,  1.,  1.]])\n",
      "tensor([[ 1.,  0.,  0.,  0.,  0.,  0.,  0.,  0., -1.]])\n",
      "tensor([[ 0.,  0.,  0.,  0., -1.,  1., -1.,  1.,  1.]])\n",
      "tensor([[ 0.,  0.,  0.,  0., -1.,  0.,  0.,  0.,  1.]])\n",
      "tensor([[ 0.,  0.,  0.,  0.,  0.,  0.,  1.,  0., -1.]])\n",
      "tensor([[ 0.,  0.,  0.,  0., -1.,  0.,  0.,  0.,  1.]])\n",
      "tensor([[ 0.,  0.,  0.,  0., -1.,  0.,  0.,  1.,  1.]])\n"
     ]
    },
    {
     "name": "stderr",
     "output_type": "stream",
     "text": [
      "\r",
      " 14%|█████▏                                | 1362/10000 [00:53<05:53, 24.40it/s]"
     ]
    },
    {
     "name": "stdout",
     "output_type": "stream",
     "text": [
      "tensor([[ 0.,  0.,  0.,  0., -1.,  0., -1.,  1.,  1.]])\n",
      "tensor([[ 0.,  0.,  0.,  0., -1.,  0., -1.,  1.,  1.]])\n",
      "tensor([[ 0.,  0.,  0.,  0., -1.,  0.,  0.,  1.,  1.]])\n",
      "tensor([[ 0.,  0.,  0.,  0., -1.,  0., -1.,  1.,  1.]])\n",
      "tensor([[ 0.,  0.,  0.,  0., -1.,  1., -1.,  1.,  1.]])\n",
      "tensor([[ 1.,  0.,  0.,  0.,  1.,  0.,  0.,  0., -1.]])\n",
      "tensor([[ 0.,  0.,  0.,  0., -1.,  0., -1.,  1.,  1.]])\n",
      "tensor([[ 0.,  0.,  1.,  0.,  1.,  0.,  0.,  0., -1.]])\n",
      "tensor([[ 1.,  0.,  0.,  0.,  1.,  0.,  1., -1., -1.]])\n",
      "tensor([[ 1.,  0.,  0.,  0.,  1.,  0.,  1., -1., -1.]])\n",
      "tensor([[ 1.,  0.,  0.,  0.,  1., -1.,  1., -1., -1.]])\n",
      "tensor([[0., 0., 0., 0., 0., 0., 0., 0., 1.]])\n",
      "tensor([[ 0.,  0.,  0.,  0.,  1.,  0.,  1.,  0., -1.]])\n",
      "tensor([[ 0.,  0.,  0.,  0., -1.,  0.,  0.,  0.,  1.]])\n",
      "tensor([[ 1.,  0.,  0.,  0.,  0.,  0.,  0.,  0., -1.]])\n",
      "tensor([[0., 0., 0., 0., 0., 0., 0., 0., 1.]])\n",
      "tensor([[ 0.,  0.,  0.,  0.,  1.,  0., -1., -1.,  1.]])\n",
      "tensor([[ 0.,  0.,  0.,  0., -1.,  0., -1.,  1.,  1.]])\n",
      "tensor([[ 0.,  0.,  0.,  0., -1.,  0.,  0.,  0.,  1.]])\n",
      "tensor([[ 0.,  0.,  0.,  0., -1.,  1., -1.,  1.,  1.]])\n",
      "tensor([[ 0.,  0.,  0.,  0., -1.,  1., -1.,  1.,  1.]])\n",
      "tensor([[ 0.,  0.,  0.,  0., -1.,  0.,  0.,  1.,  1.]])\n",
      "tensor([[ 0.,  0.,  0.,  0., -1.,  0.,  0.,  0.,  1.]])\n",
      "tensor([[ 0.,  0.,  1.,  0.,  0.,  0.,  0.,  0., -1.]])\n",
      "tensor([[ 0.,  0.,  0.,  0., -1.,  0.,  0.,  0.,  1.]])\n",
      "tensor([[ 1.,  0.,  0.,  0.,  1.,  0.,  1., -1., -1.]])\n"
     ]
    },
    {
     "name": "stderr",
     "output_type": "stream",
     "text": [
      " 14%|█████▏                                | 1368/10000 [00:53<06:01, 23.91it/s]"
     ]
    },
    {
     "name": "stdout",
     "output_type": "stream",
     "text": [
      "tensor([[ 0.,  0.,  0.,  0.,  1.,  0., -1., -1.,  1.]])\n",
      "tensor([[0., 0., 0., 0., 0., 0., 0., 0., 1.]])\n",
      "tensor([[ 0.,  0.,  0.,  0., -1.,  0.,  0.,  1.,  1.]])\n",
      "tensor([[ 0.,  0.,  0.,  0.,  1.,  0.,  1.,  0., -1.]])\n",
      "tensor([[ 0.,  0.,  0.,  0., -1.,  0., -1.,  1.,  1.]])\n",
      "tensor([[ 0.,  0.,  0.,  0., -1.,  1., -1.,  1.,  1.]])\n",
      "tensor([[ 0.,  0.,  0.,  0., -1.,  0.,  0.,  0.,  1.]])\n",
      "tensor([[0., 0., 1., 0., 0., 0., 0., 0., 0.]])\n",
      "tensor([[ 0.,  0.,  1.,  0.,  1.,  0.,  0., -1., -1.]])\n",
      "tensor([[ 0.,  0.,  1.,  0.,  0.,  0.,  0.,  0., -1.]])\n",
      "tensor([[ 0.,  0.,  0.,  0., -1.,  0.,  0.,  1.,  1.]])\n",
      "tensor([[ 0.,  0.,  0.,  0., -1.,  0.,  0.,  1.,  1.]])\n",
      "tensor([[ 0.,  0.,  1.,  0.,  0.,  0.,  0.,  0., -1.]])\n",
      "tensor([[ 0.,  0.,  1.,  0.,  0.,  0.,  0.,  0., -1.]])\n",
      "tensor([[ 0.,  0.,  0.,  0., -1.,  1., -1.,  1.,  1.]])\n",
      "tensor([[ 0.,  0.,  0.,  0., -1.,  0.,  0.,  1.,  1.]])\n",
      "tensor([[ 1.,  0.,  0.,  0.,  1.,  0.,  0.,  0., -1.]])\n",
      "tensor([[ 0.,  0.,  0.,  0., -1.,  0.,  0.,  1.,  1.]])\n",
      "tensor([[ 0.,  0.,  0.,  0., -1.,  0., -1.,  1.,  1.]])\n",
      "tensor([[0., 0., 1., 0., 0., 0., 0., 0., 0.]])\n",
      "tensor([[ 0.,  0.,  0.,  0., -1.,  0., -1.,  1.,  1.]])\n",
      "tensor([[ 0.,  0.,  0.,  0., -1.,  0.,  0.,  0.,  1.]])\n",
      "tensor([[ 0.,  0.,  0.,  0., -1.,  0.,  0.,  0.,  1.]])\n",
      "tensor([[ 0.,  0.,  0.,  0., -1.,  0.,  0.,  0.,  1.]])\n"
     ]
    },
    {
     "name": "stderr",
     "output_type": "stream",
     "text": [
      " 14%|█████▏                                | 1374/10000 [00:53<05:44, 25.04it/s]"
     ]
    },
    {
     "name": "stdout",
     "output_type": "stream",
     "text": [
      "tensor([[0., 0., 0., 0., 0., 0., 0., 0., 1.]])\n",
      "tensor([[1., 0., 0., 0., 0., 0., 0., 0., 0.]])\n",
      "tensor([[0., 0., 0., 0., 0., 0., 1., 0., 0.]])\n",
      "tensor([[ 1.,  0.,  0.,  0.,  1., -1.,  1., -1., -1.]])\n",
      "tensor([[ 1.,  0.,  0.,  0.,  1.,  0.,  1., -1., -1.]])\n",
      "tensor([[ 0.,  0.,  0.,  0., -1.,  1., -1.,  1.,  1.]])\n",
      "tensor([[ 0.,  0.,  0.,  0., -1.,  0.,  0.,  1.,  1.]])\n",
      "tensor([[ 0.,  0.,  0.,  0., -1.,  1., -1.,  1.,  1.]])\n",
      "tensor([[ 1.,  0.,  0.,  0.,  1.,  0.,  0.,  0., -1.]])\n",
      "tensor([[0., 0., 0., 0., 1., 0., 0., 0., 0.]])\n",
      "tensor([[0., 0., 0., 0., 0., 0., 0., 0., 1.]])\n",
      "tensor([[ 1.,  0.,  0.,  0.,  1.,  0.,  0.,  0., -1.]])\n",
      "tensor([[ 0.,  0.,  0.,  0., -1.,  0.,  0.,  0.,  1.]])\n",
      "tensor([[ 0.,  0.,  0.,  0.,  1.,  0.,  1.,  0., -1.]])\n",
      "tensor([[0., 0., 0., 0., 0., 0., 0., 0., 1.]])\n",
      "tensor([[ 0.,  0.,  1.,  0.,  1.,  0.,  0., -1., -1.]])\n",
      "tensor([[ 0.,  0.,  0.,  0., -1.,  0.,  0.,  0.,  1.]])\n",
      "tensor([[ 1.,  0.,  0.,  0.,  1., -1.,  1., -1., -1.]])\n",
      "tensor([[ 0.,  0.,  0.,  0., -1.,  0.,  0.,  0.,  1.]])\n",
      "tensor([[ 0.,  0.,  0.,  0., -1.,  0.,  0.,  0.,  1.]])\n",
      "tensor([[ 1.,  0.,  0.,  0.,  1.,  0.,  0.,  0., -1.]])\n",
      "tensor([[ 1.,  0.,  0.,  0.,  1., -1.,  1., -1., -1.]])\n",
      "tensor([[ 0.,  0.,  0.,  0., -1.,  1., -1.,  1.,  1.]])\n",
      "tensor([[ 1.,  0.,  0.,  0.,  1., -1.,  1., -1., -1.]])\n",
      "tensor([[0., 0., 0., 0., 0., 0., 0., 0., 1.]])\n"
     ]
    },
    {
     "name": "stderr",
     "output_type": "stream",
     "text": [
      "\r",
      " 14%|█████▏                                | 1377/10000 [00:53<05:59, 23.97it/s]"
     ]
    },
    {
     "name": "stdout",
     "output_type": "stream",
     "text": [
      "tensor([[ 0.,  0.,  0.,  0., -1.,  0., -1.,  1.,  1.]])\n",
      "tensor([[ 0.,  0.,  1.,  0.,  1.,  0.,  0., -1., -1.]])\n",
      "tensor([[ 1.,  0.,  0.,  0.,  1., -1.,  1., -1., -1.]])\n",
      "tensor([[ 1.,  0.,  0.,  0.,  1., -1.,  1., -1., -1.]])\n",
      "tensor([[ 1.,  0.,  0.,  0.,  1.,  0.,  0., -1., -1.]])\n",
      "tensor([[ 0.,  0.,  0.,  0., -1.,  1., -1.,  1.,  1.]])\n",
      "tensor([[ 0.,  0.,  0.,  0.,  0.,  0.,  1.,  0., -1.]])\n",
      "tensor([[ 0.,  0.,  1.,  0.,  0.,  0.,  0.,  0., -1.]])\n",
      "tensor([[ 0.,  0.,  0.,  0.,  1.,  0.,  1.,  0., -1.]])\n",
      "tensor([[ 0.,  0.,  0.,  0., -1.,  0., -1.,  1.,  1.]])\n",
      "tensor([[ 0.,  0.,  0.,  0., -1.,  1., -1.,  1.,  1.]])\n",
      "tensor([[ 0.,  0.,  0.,  0., -1.,  0.,  0.,  1.,  1.]])\n",
      "tensor([[ 0.,  0.,  0.,  0., -1.,  0., -1.,  1.,  1.]])\n",
      "tensor([[ 0.,  0.,  0.,  0., -1.,  0., -1.,  1.,  1.]])\n",
      "tensor([[ 0.,  0.,  0.,  0., -1.,  0., -1.,  1.,  1.]])\n",
      "tensor([[ 1.,  0.,  0.,  0.,  1.,  0.,  0.,  0., -1.]])\n",
      "tensor([[ 0.,  0.,  0.,  0., -1.,  0.,  0.,  1.,  1.]])\n",
      "tensor([[0., 0., 0., 0., 0., 0., 0., 0., 1.]])\n",
      "tensor([[ 0.,  0.,  0.,  0.,  1.,  0.,  1.,  0., -1.]])\n",
      "tensor([[ 0.,  0.,  0.,  0., -1.,  1., -1.,  1.,  1.]])\n",
      "tensor([[ 1.,  0.,  0.,  0.,  1., -1.,  1., -1., -1.]])\n",
      "tensor([[ 1.,  0.,  0.,  0.,  1.,  0.,  0., -1., -1.]])\n",
      "tensor([[ 0.,  0.,  0.,  0., -1.,  1., -1.,  1.,  1.]])\n",
      "tensor([[ 1.,  0.,  0.,  0.,  1.,  0.,  0.,  0., -1.]])\n",
      "tensor([[ 0.,  0.,  0.,  0., -1.,  0.,  0.,  0.,  1.]])\n",
      "tensor([[ 1.,  0.,  0.,  0.,  1.,  0.,  0.,  0., -1.]])\n",
      "tensor([[0., 0., 0., 0., 0., 0., 0., 0., 1.]])\n"
     ]
    },
    {
     "name": "stderr",
     "output_type": "stream",
     "text": [
      " 14%|█████▎                                | 1383/10000 [00:54<05:26, 26.42it/s]"
     ]
    },
    {
     "name": "stdout",
     "output_type": "stream",
     "text": [
      "tensor([[ 0.,  0.,  0.,  0., -1.,  0.,  0.,  0.,  1.]])\n",
      "tensor([[ 0.,  0.,  0.,  0., -1.,  0., -1.,  1.,  1.]])\n",
      "tensor([[ 0.,  0.,  1.,  0.,  1.,  0.,  0., -1., -1.]])\n",
      "tensor([[ 0.,  0.,  0.,  0., -1.,  0., -1.,  1.,  1.]])\n",
      "tensor([[ 0.,  0.,  0.,  0.,  0.,  0.,  0., -1.,  1.]])\n",
      "tensor([[ 0.,  0.,  1.,  0.,  0.,  0.,  0.,  0., -1.]])\n",
      "tensor([[0., 0., 0., 0., 0., 0., 0., 0., 1.]])\n",
      "tensor([[ 0.,  0.,  1.,  0.,  1.,  0.,  0., -1., -1.]])\n",
      "tensor([[ 0.,  0.,  0.,  0., -1.,  0.,  0.,  0.,  1.]])\n",
      "tensor([[0., 0., 0., 0., 0., 0., 1., 0., 0.]])\n",
      "tensor([[0., 0., 0., 0., 0., 0., 0., 0., 1.]])\n",
      "tensor([[ 0.,  0.,  0.,  0., -1.,  1., -1.,  1.,  1.]])\n",
      "tensor([[ 0.,  0.,  0.,  0., -1.,  1., -1.,  1.,  1.]])\n",
      "tensor([[ 0.,  0.,  0.,  0., -1.,  0.,  0.,  1.,  1.]])\n",
      "tensor([[0., 0., 0., 0., 0., 0., 0., 0., 1.]])\n",
      "tensor([[ 0.,  0.,  0.,  0., -1.,  0., -1.,  1.,  1.]])\n",
      "tensor([[0., 0., 0., 0., 0., 0., 0., 0., 1.]])\n",
      "tensor([[0., 0., 0., 0., 0., 0., 0., 0., 1.]])\n",
      "tensor([[ 0.,  0.,  0.,  0., -1.,  0., -1.,  1.,  1.]])\n",
      "tensor([[ 0.,  0.,  0.,  0., -1.,  0., -1.,  1.,  1.]])\n",
      "tensor([[ 0.,  0.,  0.,  0., -1.,  0., -1.,  1.,  1.]])\n",
      "tensor([[ 0.,  0.,  0.,  0.,  0.,  0.,  1.,  0., -1.]])\n",
      "tensor([[0., 0., 0., 0., 0., 0., 1., 0., 0.]])\n",
      "tensor([[ 0.,  0.,  0.,  0., -1.,  1., -1.,  1.,  1.]])\n",
      "tensor([[ 0.,  0.,  0.,  0.,  1.,  0.,  1.,  0., -1.]])\n",
      "tensor([[ 1.,  0.,  0.,  0.,  0.,  0.,  0.,  0., -1.]])\n",
      "tensor([[ 1.,  0.,  0.,  0.,  1.,  0.,  1., -1., -1.]])\n",
      "tensor([[ 0.,  0.,  0.,  0., -1.,  0., -1.,  1.,  1.]])\n",
      "tensor([[0., 0., 1., 0., 0., 0., 0., 0., 0.]])\n"
     ]
    },
    {
     "name": "stderr",
     "output_type": "stream",
     "text": [
      " 14%|█████▎                                | 1390/10000 [00:54<05:12, 27.55it/s]"
     ]
    },
    {
     "name": "stdout",
     "output_type": "stream",
     "text": [
      "tensor([[ 0.,  0.,  0.,  0., -1.,  1., -1.,  1.,  1.]])\n",
      "tensor([[ 0.,  0.,  0.,  0., -1.,  0.,  0.,  1.,  1.]])\n",
      "tensor([[ 1.,  0.,  0.,  0.,  1.,  0.,  1., -1., -1.]])\n",
      "tensor([[ 1.,  0.,  0.,  0.,  1.,  0.,  0.,  0., -1.]])\n",
      "tensor([[ 1.,  0.,  0.,  0.,  1.,  0.,  0., -1., -1.]])\n",
      "tensor([[ 1.,  0.,  0.,  0.,  1.,  0.,  0., -1., -1.]])\n",
      "tensor([[0., 0., 0., 0., 0., 0., 0., 0., 1.]])\n",
      "tensor([[ 1.,  0.,  0.,  0.,  1.,  0.,  0., -1., -1.]])\n",
      "tensor([[ 0.,  0.,  0.,  0., -1.,  0., -1.,  1.,  1.]])\n",
      "tensor([[ 0.,  0.,  0.,  0., -1.,  0., -1.,  1.,  1.]])\n",
      "tensor([[ 1.,  0.,  0.,  0.,  1., -1.,  1., -1., -1.]])\n",
      "tensor([[ 0.,  0.,  0.,  0., -1.,  1., -1.,  1.,  1.]])\n",
      "tensor([[0., 0., 1., 0., 0., 0., 0., 0., 0.]])\n",
      "tensor([[ 1.,  0.,  0.,  0.,  1.,  0.,  0., -1., -1.]])\n",
      "tensor([[ 0.,  0.,  1.,  0.,  1.,  0.,  0.,  0., -1.]])\n",
      "tensor([[ 0.,  0.,  0.,  0., -1.,  1., -1.,  1.,  1.]])\n",
      "tensor([[ 0.,  0.,  0.,  0., -1.,  0.,  0.,  0.,  1.]])\n",
      "tensor([[ 0.,  0.,  0.,  0., -1.,  0.,  0.,  0.,  1.]])\n",
      "tensor([[ 0.,  0.,  0.,  0., -1.,  0.,  0.,  0.,  1.]])\n",
      "tensor([[ 0.,  0.,  0.,  0.,  1.,  0.,  1.,  0., -1.]])\n",
      "tensor([[ 0.,  0.,  0.,  0., -1.,  1., -1.,  1.,  1.]])\n",
      "tensor([[0., 0., 0., 0., 0., 0., 0., 0., 1.]])\n",
      "tensor([[ 0.,  0.,  0.,  0., -1.,  0.,  0.,  0.,  1.]])\n",
      "tensor([[ 0.,  0.,  1.,  0.,  0.,  0.,  0.,  0., -1.]])\n",
      "tensor([[ 0.,  0.,  0.,  0., -1.,  0.,  0.,  1.,  1.]])\n",
      "tensor([[ 0.,  0.,  0.,  0.,  1.,  0., -1., -1.,  1.]])\n",
      "tensor([[ 0.,  0.,  0.,  0., -1.,  0.,  0.,  0.,  1.]])\n",
      "tensor([[ 0.,  0.,  0.,  0., -1.,  0.,  0.,  1.,  1.]])\n"
     ]
    },
    {
     "name": "stderr",
     "output_type": "stream",
     "text": [
      " 14%|█████▎                                | 1397/10000 [00:54<05:09, 27.83it/s]"
     ]
    },
    {
     "name": "stdout",
     "output_type": "stream",
     "text": [
      "tensor([[ 0.,  0.,  1.,  0.,  1.,  0.,  0.,  0., -1.]])\n",
      "tensor([[ 1.,  0.,  0.,  0.,  1.,  0.,  1., -1., -1.]])\n",
      "tensor([[ 1.,  0.,  0.,  0.,  1.,  0.,  0., -1., -1.]])\n",
      "tensor([[0., 0., 0., 0., 0., 0., 0., 0., 1.]])\n",
      "tensor([[ 0.,  0.,  0.,  0.,  1.,  0.,  0., -1.,  1.]])\n",
      "tensor([[ 0.,  0.,  1.,  0.,  1.,  0.,  0.,  0., -1.]])\n",
      "tensor([[ 1.,  0.,  0.,  0.,  1.,  0.,  0.,  0., -1.]])\n",
      "tensor([[0., 0., 1., 0., 0., 0., 0., 0., 0.]])\n",
      "tensor([[ 0.,  0.,  1.,  0.,  1.,  0.,  0., -1., -1.]])\n",
      "tensor([[0., 0., 1., 0., 0., 0., 0., 0., 0.]])\n",
      "tensor([[ 0.,  0.,  1.,  0.,  0.,  0.,  0.,  0., -1.]])\n",
      "tensor([[ 1.,  0.,  0.,  0.,  1., -1.,  1., -1., -1.]])\n",
      "tensor([[ 0.,  0.,  0.,  0., -1.,  0., -1.,  1.,  1.]])\n",
      "tensor([[ 0.,  0.,  0.,  0., -1.,  0., -1.,  1.,  1.]])\n",
      "tensor([[ 0.,  0.,  0.,  0.,  0.,  0.,  0., -1.,  1.]])\n",
      "tensor([[0., 0., 0., 0., 0., 0., 0., 0., 1.]])\n",
      "tensor([[ 0.,  0.,  0.,  0., -1.,  0., -1.,  1.,  1.]])\n",
      "tensor([[0., 0., 0., 0., 1., 0., 0., 0., 0.]])\n",
      "tensor([[ 0.,  0.,  0.,  0.,  1.,  0.,  0., -1.,  1.]])\n",
      "tensor([[1., 0., 0., 0., 0., 0., 0., 0., 0.]])\n",
      "tensor([[ 0.,  0.,  0.,  0., -1.,  0.,  0.,  0.,  1.]])\n",
      "tensor([[ 0.,  0.,  0.,  0.,  0.,  0.,  1.,  0., -1.]])\n",
      "tensor([[ 0.,  0.,  1.,  0.,  1.,  0.,  0.,  0., -1.]])\n",
      "tensor([[ 0.,  0.,  0.,  0.,  1.,  0.,  1., -1., -1.]])\n",
      "tensor([[ 0.,  0.,  0.,  0., -1.,  0.,  0.,  0.,  1.]])\n",
      "tensor([[0., 0., 0., 0., 1., 0., 0., 0., 0.]])\n",
      "tensor([[1., 0., 0., 0., 0., 0., 0., 0., 0.]])\n",
      "tensor([[ 1.,  0.,  0.,  0.,  1.,  0.,  0., -1., -1.]])\n",
      "tensor([[ 0.,  0.,  0.,  0.,  1.,  0.,  1., -1., -1.]])\n"
     ]
    },
    {
     "name": "stderr",
     "output_type": "stream",
     "text": [
      " 14%|█████▎                                | 1403/10000 [00:54<05:10, 27.71it/s]"
     ]
    },
    {
     "name": "stdout",
     "output_type": "stream",
     "text": [
      "tensor([[1., 0., 0., 0., 0., 0., 0., 0., 0.]])\n",
      "tensor([[ 0.,  0.,  0.,  0.,  1.,  0.,  1.,  0., -1.]])\n",
      "tensor([[ 0.,  0.,  0.,  0., -1.,  0.,  0.,  0.,  1.]])\n",
      "tensor([[ 0.,  0.,  0.,  0., -1.,  0.,  0.,  0.,  1.]])\n",
      "tensor([[ 0.,  0.,  0.,  0.,  0.,  0.,  0., -1.,  1.]])\n",
      "tensor([[ 0.,  0.,  0.,  0., -1.,  0.,  0.,  0.,  1.]])\n",
      "tensor([[0., 0., 0., 0., 0., 0., 0., 0., 1.]])\n",
      "tensor([[0., 0., 0., 0., 0., 0., 0., 0., 1.]])\n",
      "tensor([[ 0.,  0.,  0.,  0., -1.,  0.,  0.,  0.,  1.]])\n",
      "tensor([[ 0.,  0.,  1.,  0.,  1.,  0.,  0., -1., -1.]])\n",
      "tensor([[ 0.,  0.,  1.,  0.,  1.,  0.,  0.,  0., -1.]])\n",
      "tensor([[ 0.,  0.,  1.,  0.,  1.,  0.,  0.,  0., -1.]])\n",
      "tensor([[ 0.,  0.,  0.,  0., -1.,  0., -1.,  1.,  1.]])\n",
      "tensor([[ 0.,  0.,  0.,  0., -1.,  1., -1.,  1.,  1.]])\n",
      "tensor([[ 0.,  0.,  1.,  0.,  0.,  0.,  0.,  0., -1.]])\n",
      "tensor([[ 0.,  0.,  0.,  0., -1.,  0., -1.,  1.,  1.]])\n",
      "tensor([[ 1.,  0.,  0.,  0.,  1.,  0.,  0.,  0., -1.]])\n",
      "tensor([[ 0.,  0.,  0.,  0., -1.,  0.,  0.,  0.,  1.]])\n",
      "tensor([[ 0.,  0.,  1.,  0.,  1.,  0.,  0., -1., -1.]])\n",
      "tensor([[ 1.,  0.,  0.,  0.,  1.,  0.,  0., -1., -1.]])\n",
      "tensor([[0., 0., 0., 0., 0., 0., 0., 0., 1.]])\n",
      "tensor([[ 1.,  0.,  0.,  0.,  1., -1.,  1., -1., -1.]])\n",
      "tensor([[ 0.,  0.,  0.,  0., -1.,  0.,  0.,  0.,  1.]])\n",
      "tensor([[ 0.,  0.,  0.,  0., -1.,  0., -1.,  1.,  1.]])\n",
      "tensor([[ 0.,  0.,  0.,  0., -1.,  1., -1.,  1.,  1.]])\n",
      "tensor([[ 0.,  0.,  0.,  0., -1.,  0.,  0.,  1.,  1.]])\n",
      "tensor([[ 1.,  0.,  0.,  0.,  1.,  0.,  0., -1., -1.]])\n",
      "tensor([[ 0.,  0.,  1.,  0.,  1.,  0.,  0.,  0., -1.]])\n",
      "tensor([[ 0.,  0.,  0.,  0., -1.,  0.,  0.,  1.,  1.]])\n",
      "tensor([[ 1.,  0.,  0.,  0.,  1.,  0.,  0., -1., -1.]])\n",
      "tensor([[ 0.,  0.,  0.,  0., -1.,  0.,  0.,  0.,  1.]])\n",
      "tensor([[0., 0., 1., 0., 0., 0., 0., 0., 0.]])\n"
     ]
    },
    {
     "name": "stderr",
     "output_type": "stream",
     "text": [
      " 14%|█████▎                                | 1409/10000 [00:54<05:08, 27.88it/s]"
     ]
    },
    {
     "name": "stdout",
     "output_type": "stream",
     "text": [
      "tensor([[ 0.,  0.,  0.,  0., -1.,  0.,  0.,  0.,  1.]])\n",
      "tensor([[0., 0., 0., 0., 1., 0., 0., 0., 0.]])\n",
      "tensor([[ 0.,  0.,  0.,  0., -1.,  0.,  0.,  0.,  1.]])\n",
      "tensor([[ 0.,  0.,  0.,  0., -1.,  0.,  0.,  1.,  1.]])\n",
      "tensor([[ 0.,  0.,  0.,  0.,  1.,  0.,  0.,  0., -1.]])\n",
      "tensor([[0., 0., 0., 0., 0., 0., 1., 0., 0.]])\n",
      "tensor([[ 0.,  0.,  0.,  0., -1.,  0.,  0.,  1.,  1.]])\n",
      "tensor([[ 1.,  0.,  0.,  0.,  1.,  0.,  0., -1., -1.]])\n",
      "tensor([[ 0.,  0.,  1.,  0.,  1.,  0.,  0.,  0., -1.]])\n",
      "tensor([[0., 0., 0., 0., 0., 0., 1., 0., 0.]])\n",
      "tensor([[0., 0., 0., 0., 0., 0., 0., 0., 1.]])\n",
      "tensor([[0., 0., 0., 0., 0., 0., 0., 0., 1.]])\n",
      "tensor([[ 0.,  0.,  0.,  0., -1.,  0.,  0.,  1.,  1.]])\n",
      "tensor([[ 0.,  0.,  0.,  0., -1.,  0., -1.,  1.,  1.]])\n",
      "tensor([[ 0.,  0.,  0.,  0., -1.,  0., -1.,  1.,  1.]])\n",
      "tensor([[0., 0., 0., 0., 0., 0., 0., 0., 1.]])\n",
      "tensor([[ 0.,  0.,  0.,  0., -1.,  1., -1.,  1.,  1.]])\n",
      "tensor([[ 1.,  0.,  0.,  0.,  1.,  0.,  1., -1., -1.]])\n",
      "tensor([[ 1.,  0.,  0.,  0.,  0.,  0.,  0.,  0., -1.]])\n",
      "tensor([[ 0.,  0.,  0.,  0., -1.,  0., -1.,  1.,  1.]])\n",
      "tensor([[ 1.,  0.,  0.,  0.,  1.,  0.,  1., -1., -1.]])\n",
      "tensor([[ 1.,  0.,  0.,  0.,  1.,  0.,  0.,  0., -1.]])\n",
      "tensor([[ 1.,  0.,  0.,  0.,  1., -1.,  1., -1., -1.]])\n",
      "tensor([[ 0.,  0.,  0.,  0., -1.,  0.,  0.,  0.,  1.]])\n",
      "tensor([[0., 0., 0., 0., 0., 0., 0., 0., 1.]])\n",
      "tensor([[1., 0., 0., 0., 0., 0., 0., 0., 0.]])\n",
      "tensor([[ 0.,  0.,  0.,  0., -1.,  0., -1.,  1.,  1.]])\n",
      "tensor([[1., 0., 0., 0., 0., 0., 0., 0., 0.]])\n"
     ]
    },
    {
     "name": "stderr",
     "output_type": "stream",
     "text": [
      "\r",
      " 14%|█████▎                                | 1412/10000 [00:55<05:04, 28.20it/s]"
     ]
    },
    {
     "name": "stdout",
     "output_type": "stream",
     "text": [
      "tensor([[ 0.,  0.,  0.,  0., -1.,  1., -1.,  1.,  1.]])\n",
      "tensor([[ 0.,  0.,  0.,  0., -1.,  0.,  0.,  1.,  1.]])\n",
      "tensor([[ 0.,  0.,  0.,  0.,  0.,  0.,  1.,  0., -1.]])\n",
      "tensor([[ 0.,  0.,  0.,  0., -1.,  0., -1.,  1.,  1.]])\n",
      "tensor([[ 0.,  0.,  0.,  0., -1.,  0.,  0.,  0.,  1.]])\n",
      "tensor([[ 0.,  0.,  0.,  0., -1.,  0.,  0.,  0.,  1.]])\n",
      "tensor([[ 0.,  0.,  0.,  0.,  1.,  0.,  0.,  0., -1.]])\n",
      "tensor([[ 0.,  0.,  0.,  0., -1.,  0.,  0.,  0.,  1.]])\n",
      "tensor([[0., 0., 0., 0., 0., 0., 0., 0., 1.]])\n",
      "tensor([[1., 0., 0., 0., 0., 0., 0., 0., 0.]])\n",
      "tensor([[ 0.,  0.,  0.,  0., -1.,  0.,  0.,  1.,  1.]])\n",
      "tensor([[ 1.,  0.,  0.,  0.,  1.,  0.,  0.,  0., -1.]])\n",
      "tensor([[0., 0., 0., 0., 0., 0., 0., 0., 1.]])\n",
      "tensor([[ 0.,  0.,  0.,  0., -1.,  0., -1.,  1.,  1.]])\n",
      "tensor([[ 0.,  0.,  0.,  0., -1.,  0., -1.,  1.,  1.]])\n",
      "tensor([[ 0.,  0.,  0.,  0., -1.,  0.,  0.,  1.,  1.]])\n",
      "tensor([[ 0.,  0.,  0.,  0.,  1.,  0., -1., -1.,  1.]])\n",
      "tensor([[ 1.,  0.,  0.,  0.,  1.,  0.,  1., -1., -1.]])\n",
      "tensor([[ 0.,  0.,  0.,  0.,  1.,  0.,  1., -1., -1.]])\n",
      "tensor([[0., 0., 0., 0., 0., 0., 1., 0., 0.]])\n",
      "tensor([[ 0.,  0.,  0.,  0., -1.,  0.,  0.,  1.,  1.]])\n",
      "tensor([[ 0.,  0.,  0.,  0., -1.,  0.,  0.,  0.,  1.]])\n",
      "tensor([[ 0.,  0.,  0.,  0., -1.,  0., -1.,  1.,  1.]])\n",
      "tensor([[ 0.,  0.,  0.,  0., -1.,  0.,  0.,  0.,  1.]])\n",
      "tensor([[ 0.,  0.,  0.,  0., -1.,  0., -1.,  1.,  1.]])\n",
      "tensor([[0., 0., 0., 0., 0., 0., 0., 0., 1.]])\n",
      "tensor([[ 0.,  0.,  0.,  0., -1.,  1., -1.,  1.,  1.]])\n",
      "tensor([[ 0.,  0.,  0.,  0., -1.,  0., -1.,  1.,  1.]])\n",
      "tensor([[ 0.,  0.,  0.,  0., -1.,  0.,  0.,  1.,  1.]])\n",
      "tensor([[ 0.,  0.,  0.,  0., -1.,  1., -1.,  1.,  1.]])\n",
      "tensor([[ 0.,  0.,  0.,  0.,  0.,  0.,  1.,  0., -1.]])\n",
      "tensor([[ 0.,  0.,  0.,  0., -1.,  0.,  0.,  1.,  1.]])\n",
      "tensor([[ 1.,  0.,  0.,  0.,  1.,  0.,  0.,  0., -1.]])\n"
     ]
    },
    {
     "name": "stderr",
     "output_type": "stream",
     "text": [
      " 14%|█████▍                                | 1419/10000 [00:55<05:24, 26.45it/s]"
     ]
    },
    {
     "name": "stdout",
     "output_type": "stream",
     "text": [
      "tensor([[ 0.,  0.,  0.,  0., -1.,  1., -1.,  1.,  1.]])\n",
      "tensor([[ 0.,  0.,  0.,  0., -1.,  0.,  0.,  0.,  1.]])\n",
      "tensor([[0., 0., 0., 0., 0., 0., 0., 0., 1.]])\n",
      "tensor([[ 0.,  0.,  0.,  0.,  0.,  0.,  1.,  0., -1.]])\n",
      "tensor([[ 0.,  0.,  0.,  0., -1.,  0.,  0.,  0.,  1.]])\n",
      "tensor([[0., 0., 0., 0., 0., 0., 0., 0., 1.]])\n",
      "tensor([[ 0.,  0.,  0.,  0., -1.,  0., -1.,  1.,  1.]])\n",
      "tensor([[ 0.,  0.,  0.,  0., -1.,  0.,  0.,  0.,  1.]])\n",
      "tensor([[ 1.,  0.,  0.,  0.,  1.,  0.,  0.,  0., -1.]])\n",
      "tensor([[ 0.,  0.,  0.,  0.,  1.,  0.,  0.,  0., -1.]])\n",
      "tensor([[0., 0., 1., 0., 0., 0., 0., 0., 0.]])\n",
      "tensor([[0., 0., 0., 0., 0., 0., 1., 0., 0.]])\n",
      "tensor([[ 0.,  0.,  0.,  0., -1.,  0.,  0.,  1.,  1.]])\n",
      "tensor([[ 0.,  0.,  0.,  0.,  1.,  0.,  0., -1.,  1.]])\n",
      "tensor([[ 0.,  0.,  0.,  0.,  1.,  0.,  1.,  0., -1.]])\n",
      "tensor([[ 0.,  0.,  0.,  0., -1.,  0., -1.,  1.,  1.]])\n",
      "tensor([[ 0.,  0.,  0.,  0., -1.,  0.,  0.,  1.,  1.]])\n",
      "tensor([[ 0.,  0.,  0.,  0., -1.,  0., -1.,  1.,  1.]])\n"
     ]
    },
    {
     "name": "stderr",
     "output_type": "stream",
     "text": [
      " 14%|█████▍                                | 1425/10000 [00:55<05:47, 24.71it/s]"
     ]
    },
    {
     "name": "stdout",
     "output_type": "stream",
     "text": [
      "tensor([[ 0.,  0.,  0.,  0.,  1.,  0.,  1.,  0., -1.]])\n",
      "tensor([[0., 0., 1., 0., 0., 0., 0., 0., 0.]])\n",
      "tensor([[ 0.,  0.,  1.,  0.,  1.,  0.,  0., -1., -1.]])\n",
      "tensor([[0., 0., 1., 0., 0., 0., 0., 0., 0.]])\n",
      "tensor([[ 0.,  0.,  0.,  0., -1.,  0., -1.,  1.,  1.]])\n",
      "tensor([[ 0.,  0.,  0.,  0., -1.,  0.,  0.,  1.,  1.]])\n",
      "tensor([[ 1.,  0.,  0.,  0.,  1.,  0.,  0.,  0., -1.]])\n",
      "tensor([[ 0.,  0.,  0.,  0., -1.,  0.,  0.,  1.,  1.]])\n",
      "tensor([[ 0.,  0.,  0.,  0.,  1.,  0.,  1.,  0., -1.]])\n",
      "tensor([[0., 0., 0., 0., 1., 0., 0., 0., 0.]])\n",
      "tensor([[ 0.,  0.,  0.,  0.,  1.,  0.,  1., -1., -1.]])\n",
      "tensor([[ 0.,  0.,  0.,  0., -1.,  0., -1.,  1.,  1.]])\n",
      "tensor([[1., 0., 0., 0., 0., 0., 0., 0., 0.]])\n",
      "tensor([[ 0.,  0.,  0.,  0., -1.,  1., -1.,  1.,  1.]])\n",
      "tensor([[ 0.,  0.,  0.,  0., -1.,  0.,  0.,  1.,  1.]])\n",
      "tensor([[ 0.,  0.,  1.,  0.,  1.,  0.,  0., -1., -1.]])\n",
      "tensor([[ 0.,  0.,  1.,  0.,  1.,  0.,  0.,  0., -1.]])\n",
      "tensor([[ 1.,  0.,  0.,  0.,  1.,  0.,  0., -1., -1.]])\n",
      "tensor([[ 0.,  0.,  0.,  0., -1.,  0., -1.,  1.,  1.]])\n",
      "tensor([[0., 0., 0., 0., 0., 0., 0., 0., 1.]])\n",
      "tensor([[ 1.,  0.,  0.,  0.,  1.,  0.,  0., -1., -1.]])\n",
      "tensor([[ 1.,  0.,  0.,  0.,  0.,  0.,  0.,  0., -1.]])\n",
      "tensor([[ 0.,  0.,  0.,  0.,  1.,  0.,  1., -1., -1.]])\n"
     ]
    },
    {
     "name": "stderr",
     "output_type": "stream",
     "text": [
      "\r",
      " 14%|█████▍                                | 1428/10000 [00:55<06:18, 22.67it/s]"
     ]
    },
    {
     "name": "stdout",
     "output_type": "stream",
     "text": [
      "tensor([[ 1.,  0.,  0.,  0.,  1.,  0.,  0.,  0., -1.]])\n",
      "tensor([[ 0.,  0.,  0.,  0., -1.,  0., -1.,  1.,  1.]])\n",
      "tensor([[ 1.,  0.,  0.,  0.,  1.,  0.,  1., -1., -1.]])\n",
      "tensor([[ 0.,  0.,  0.,  0.,  1.,  0.,  1., -1., -1.]])\n",
      "tensor([[ 0.,  0.,  0.,  0., -1.,  1., -1.,  1.,  1.]])\n",
      "tensor([[ 0.,  0.,  0.,  0., -1.,  0.,  0.,  0.,  1.]])\n",
      "tensor([[ 1.,  0.,  0.,  0.,  1.,  0.,  0.,  0., -1.]])\n",
      "tensor([[ 0.,  0.,  0.,  0.,  0.,  0.,  0., -1.,  1.]])\n",
      "tensor([[0., 0., 0., 0., 0., 0., 0., 0., 1.]])\n",
      "tensor([[ 0.,  0.,  0.,  0.,  0.,  0.,  1.,  0., -1.]])\n",
      "tensor([[ 1.,  0.,  0.,  0.,  1.,  0.,  1., -1., -1.]])\n",
      "tensor([[ 0.,  0.,  0.,  0., -1.,  0., -1.,  1.,  1.]])\n",
      "tensor([[ 0.,  0.,  0.,  0., -1.,  1., -1.,  1.,  1.]])\n",
      "tensor([[ 1.,  0.,  0.,  0.,  1.,  0.,  0.,  0., -1.]])\n",
      "tensor([[ 0.,  0.,  0.,  0., -1.,  0.,  0.,  1.,  1.]])\n",
      "tensor([[ 1.,  0.,  0.,  0.,  1., -1.,  1., -1., -1.]])\n",
      "tensor([[ 0.,  0.,  0.,  0., -1.,  0., -1.,  1.,  1.]])\n",
      "tensor([[ 0.,  0.,  0.,  0.,  1.,  0.,  1.,  0., -1.]])\n",
      "tensor([[ 0.,  0.,  1.,  0.,  0.,  0.,  0.,  0., -1.]])\n",
      "tensor([[ 0.,  0.,  0.,  0.,  1.,  0., -1., -1.,  1.]])\n",
      "tensor([[ 0.,  0.,  0.,  0., -1.,  0., -1.,  1.,  1.]])\n"
     ]
    },
    {
     "name": "stderr",
     "output_type": "stream",
     "text": [
      "\r",
      " 14%|█████▍                                | 1431/10000 [00:55<06:40, 21.42it/s]"
     ]
    },
    {
     "name": "stdout",
     "output_type": "stream",
     "text": [
      "tensor([[ 0.,  0.,  0.,  0., -1.,  0.,  0.,  1.,  1.]])\n",
      "tensor([[ 1.,  0.,  0.,  0.,  1.,  0.,  1., -1., -1.]])\n",
      "tensor([[ 0.,  0.,  0.,  0., -1.,  0., -1.,  1.,  1.]])\n",
      "tensor([[ 0.,  0.,  0.,  0.,  1.,  0.,  0., -1.,  1.]])\n",
      "tensor([[ 0.,  0.,  1.,  0.,  1.,  0.,  0.,  0., -1.]])\n",
      "tensor([[ 0.,  0.,  0.,  0.,  0.,  0.,  1.,  0., -1.]])\n",
      "tensor([[ 1.,  0.,  0.,  0.,  1.,  0.,  0., -1., -1.]])\n",
      "tensor([[ 0.,  0.,  0.,  0., -1.,  0., -1.,  1.,  1.]])\n",
      "tensor([[0., 0., 0., 0., 0., 0., 0., 0., 1.]])\n",
      "tensor([[0., 0., 0., 0., 0., 0., 0., 0., 1.]])\n",
      "tensor([[ 0.,  0.,  0.,  0., -1.,  0., -1.,  1.,  1.]])\n",
      "tensor([[ 1.,  0.,  0.,  0.,  1.,  0.,  0.,  0., -1.]])\n",
      "tensor([[ 0.,  0.,  1.,  0.,  0.,  0.,  0.,  0., -1.]])\n",
      "tensor([[ 0.,  0.,  0.,  0.,  1.,  0., -1., -1.,  1.]])\n",
      "tensor([[0., 0., 0., 0., 0., 0., 1., 0., 0.]])\n",
      "tensor([[ 0.,  0.,  1.,  0.,  1.,  0.,  0., -1., -1.]])\n",
      "tensor([[ 0.,  0.,  0.,  0., -1.,  0.,  0.,  1.,  1.]])\n",
      "tensor([[ 0.,  0.,  0.,  0., -1.,  1., -1.,  1.,  1.]])\n",
      "tensor([[ 0.,  0.,  0.,  0.,  1.,  0., -1., -1.,  1.]])\n",
      "tensor([[ 0.,  0.,  0.,  0., -1.,  0., -1.,  1.,  1.]])\n",
      "tensor([[ 0.,  0.,  0.,  0., -1.,  0., -1.,  1.,  1.]])\n",
      "tensor([[ 0.,  0.,  1.,  0.,  1.,  0.,  0., -1., -1.]])\n"
     ]
    },
    {
     "name": "stderr",
     "output_type": "stream",
     "text": [
      " 14%|█████▍                                | 1437/10000 [00:56<07:29, 19.04it/s]"
     ]
    },
    {
     "name": "stdout",
     "output_type": "stream",
     "text": [
      "tensor([[ 0.,  0.,  0.,  0., -1.,  0.,  0.,  1.,  1.]])\n",
      "tensor([[0., 0., 0., 0., 0., 0., 0., 0., 1.]])\n",
      "tensor([[ 0.,  0.,  0.,  0., -1.,  0.,  0.,  0.,  1.]])\n",
      "tensor([[ 0.,  0.,  0.,  0., -1.,  0.,  0.,  0.,  1.]])\n",
      "tensor([[ 0.,  0.,  0.,  0., -1.,  0.,  0.,  1.,  1.]])\n",
      "tensor([[ 0.,  0.,  1.,  0.,  1.,  0.,  0.,  0., -1.]])\n",
      "tensor([[ 0.,  0.,  0.,  0., -1.,  0.,  0.,  1.,  1.]])\n",
      "tensor([[ 0.,  0.,  0.,  0., -1.,  0.,  0.,  1.,  1.]])\n",
      "tensor([[0., 0., 0., 0., 0., 0., 0., 0., 1.]])\n",
      "tensor([[ 1.,  0.,  0.,  0.,  1., -1.,  1., -1., -1.]])\n",
      "tensor([[0., 0., 1., 0., 0., 0., 0., 0., 0.]])\n",
      "tensor([[ 1.,  0.,  0.,  0.,  1.,  0.,  0.,  0., -1.]])\n",
      "tensor([[1., 0., 0., 0., 0., 0., 0., 0., 0.]])\n",
      "tensor([[0., 0., 0., 0., 0., 0., 0., 0., 1.]])\n",
      "tensor([[ 1.,  0.,  0.,  0.,  1.,  0.,  0., -1., -1.]])\n",
      "tensor([[ 0.,  0.,  0.,  0., -1.,  0.,  0.,  0.,  1.]])\n",
      "tensor([[ 0.,  0.,  1.,  0.,  1.,  0.,  0., -1., -1.]])\n",
      "tensor([[ 0.,  0.,  0.,  0.,  1.,  0.,  0., -1.,  1.]])\n",
      "tensor([[ 0.,  0.,  0.,  0., -1.,  0.,  0.,  1.,  1.]])\n",
      "tensor([[ 0.,  0.,  0.,  0., -1.,  0.,  0.,  0.,  1.]])\n"
     ]
    },
    {
     "name": "stderr",
     "output_type": "stream",
     "text": [
      "\r",
      " 14%|█████▍                                | 1440/10000 [00:56<07:17, 19.58it/s]"
     ]
    },
    {
     "name": "stdout",
     "output_type": "stream",
     "text": [
      "tensor([[0., 0., 0., 0., 0., 0., 0., 0., 1.]])\n",
      "tensor([[ 0.,  0.,  0.,  0.,  1.,  0.,  0., -1.,  1.]])\n",
      "tensor([[ 0.,  0.,  0.,  0., -1.,  1., -1.,  1.,  1.]])\n",
      "tensor([[0., 0., 0., 0., 0., 0., 1., 0., 0.]])\n",
      "tensor([[ 0.,  0.,  0.,  0., -1.,  1., -1.,  1.,  1.]])\n",
      "tensor([[ 0.,  0.,  0.,  0., -1.,  0., -1.,  1.,  1.]])\n",
      "tensor([[ 0.,  0.,  0.,  0., -1.,  0.,  0.,  1.,  1.]])\n",
      "tensor([[0., 0., 0., 0., 0., 0., 1., 0., 0.]])\n",
      "tensor([[ 0.,  0.,  0.,  0.,  1.,  0.,  1., -1., -1.]])\n",
      "tensor([[ 0.,  0.,  0.,  0., -1.,  0.,  0.,  0.,  1.]])\n",
      "tensor([[ 1.,  0.,  0.,  0.,  1.,  0.,  0., -1., -1.]])\n",
      "tensor([[0., 0., 0., 0., 0., 0., 0., 0., 1.]])\n",
      "tensor([[ 1.,  0.,  0.,  0.,  1.,  0.,  1., -1., -1.]])\n",
      "tensor([[ 0.,  0.,  0.,  0., -1.,  0.,  0.,  0.,  1.]])\n",
      "tensor([[ 0.,  0.,  0.,  0.,  1.,  0., -1., -1.,  1.]])\n",
      "tensor([[ 1.,  0.,  0.,  0.,  1., -1.,  1., -1., -1.]])\n",
      "tensor([[ 0.,  0.,  0.,  0., -1.,  1., -1.,  1.,  1.]])\n",
      "tensor([[ 0.,  0.,  0.,  0., -1.,  0.,  0.,  0.,  1.]])\n",
      "tensor([[ 0.,  0.,  0.,  0., -1.,  0.,  0.,  1.,  1.]])\n",
      "tensor([[ 0.,  0.,  0.,  0., -1.,  0.,  0.,  1.,  1.]])\n"
     ]
    },
    {
     "name": "stderr",
     "output_type": "stream",
     "text": [
      "\r",
      " 14%|█████▍                                | 1443/10000 [00:56<06:56, 20.56it/s]"
     ]
    },
    {
     "name": "stdout",
     "output_type": "stream",
     "text": [
      "tensor([[ 0.,  0.,  0.,  0., -1.,  1., -1.,  1.,  1.]])\n",
      "tensor([[ 0.,  0.,  0.,  0., -1.,  0.,  0.,  0.,  1.]])\n",
      "tensor([[0., 0., 0., 0., 0., 0., 0., 0., 1.]])\n",
      "tensor([[ 1.,  0.,  0.,  0.,  1.,  0.,  1., -1., -1.]])\n",
      "tensor([[ 0.,  0.,  0.,  0., -1.,  0., -1.,  1.,  1.]])\n",
      "tensor([[ 0.,  0.,  0.,  0.,  0.,  0.,  1.,  0., -1.]])\n",
      "tensor([[ 0.,  0.,  0.,  0., -1.,  1., -1.,  1.,  1.]])\n",
      "tensor([[ 1.,  0.,  0.,  0.,  1., -1.,  1., -1., -1.]])\n",
      "tensor([[ 0.,  0.,  0.,  0., -1.,  0.,  0.,  0.,  1.]])\n",
      "tensor([[ 0.,  0.,  0.,  0., -1.,  0., -1.,  1.,  1.]])\n",
      "tensor([[ 0.,  0.,  0.,  0., -1.,  0.,  0.,  0.,  1.]])\n",
      "tensor([[ 0.,  0.,  0.,  0., -1.,  1., -1.,  1.,  1.]])\n",
      "tensor([[ 1.,  0.,  0.,  0.,  1.,  0.,  1., -1., -1.]])\n",
      "tensor([[ 0.,  0.,  0.,  0., -1.,  0.,  0.,  0.,  1.]])\n"
     ]
    },
    {
     "name": "stderr",
     "output_type": "stream",
     "text": [
      "\r",
      " 14%|█████▍                                | 1446/10000 [00:56<08:20, 17.09it/s]"
     ]
    },
    {
     "name": "stdout",
     "output_type": "stream",
     "text": [
      "tensor([[ 0.,  0.,  0.,  0., -1.,  0.,  0.,  1.,  1.]])\n",
      "tensor([[ 0.,  0.,  0.,  0., -1.,  1., -1.,  1.,  1.]])\n",
      "tensor([[ 0.,  0.,  0.,  0.,  0.,  0.,  1.,  0., -1.]])\n",
      "tensor([[ 1.,  0.,  0.,  0.,  1.,  0.,  1., -1., -1.]])\n",
      "tensor([[ 1.,  0.,  0.,  0.,  1.,  0.,  0., -1., -1.]])\n",
      "tensor([[ 0.,  0.,  0.,  0., -1.,  0., -1.,  1.,  1.]])\n",
      "tensor([[0., 0., 0., 0., 0., 0., 0., 0., 1.]])\n",
      "tensor([[ 1.,  0.,  0.,  0.,  1.,  0.,  1., -1., -1.]])\n",
      "tensor([[ 0.,  0.,  0.,  0., -1.,  1., -1.,  1.,  1.]])\n",
      "tensor([[ 0.,  0.,  0.,  0., -1.,  0.,  0.,  1.,  1.]])\n",
      "tensor([[ 0.,  0.,  0.,  0.,  0.,  0.,  1.,  0., -1.]])\n",
      "tensor([[ 0.,  0.,  0.,  0.,  1.,  0.,  1.,  0., -1.]])\n",
      "tensor([[ 0.,  0.,  0.,  0.,  1.,  0., -1., -1.,  1.]])\n",
      "tensor([[ 1.,  0.,  0.,  0.,  0.,  0.,  0.,  0., -1.]])\n",
      "tensor([[ 0.,  0.,  0.,  0., -1.,  1., -1.,  1.,  1.]])\n",
      "tensor([[ 0.,  0.,  0.,  0.,  1.,  0.,  1., -1., -1.]])\n",
      "tensor([[ 1.,  0.,  0.,  0.,  1.,  0.,  0., -1., -1.]])\n",
      "tensor([[ 1.,  0.,  0.,  0.,  1.,  0.,  1., -1., -1.]])\n",
      "tensor([[0., 0., 0., 0., 0., 0., 0., 0., 1.]])\n"
     ]
    },
    {
     "name": "stderr",
     "output_type": "stream",
     "text": [
      " 14%|█████▌                                | 1450/10000 [00:57<08:26, 16.89it/s]"
     ]
    },
    {
     "name": "stdout",
     "output_type": "stream",
     "text": [
      "tensor([[0., 0., 0., 0., 0., 0., 0., 0., 1.]])\n",
      "tensor([[ 0.,  0.,  0.,  0.,  1.,  0.,  0.,  0., -1.]])\n",
      "tensor([[0., 0., 0., 0., 0., 0., 0., 0., 1.]])\n",
      "tensor([[ 0.,  0.,  0.,  0., -1.,  0.,  0.,  1.,  1.]])\n",
      "tensor([[ 0.,  0.,  0.,  0., -1.,  1., -1.,  1.,  1.]])\n",
      "tensor([[ 0.,  0.,  0.,  0.,  1.,  0.,  0.,  0., -1.]])\n",
      "tensor([[ 0.,  0.,  0.,  0.,  1.,  0.,  0., -1.,  1.]])\n",
      "tensor([[ 1.,  0.,  0.,  0.,  1.,  0.,  0.,  0., -1.]])\n",
      "tensor([[ 0.,  0.,  1.,  0.,  1.,  0.,  0.,  0., -1.]])\n",
      "tensor([[0., 0., 0., 0., 1., 0., 0., 0., 0.]])\n",
      "tensor([[ 0.,  0.,  0.,  0.,  1.,  0.,  0., -1.,  1.]])\n",
      "tensor([[ 0.,  0.,  1.,  0.,  1.,  0.,  0.,  0., -1.]])\n",
      "tensor([[1., 0., 0., 0., 0., 0., 0., 0., 0.]])\n",
      "tensor([[ 0.,  0.,  0.,  0., -1.,  0., -1.,  1.,  1.]])\n",
      "tensor([[ 0.,  0.,  0.,  0.,  0.,  0.,  0., -1.,  1.]])\n",
      "tensor([[ 0.,  0.,  0.,  0., -1.,  0.,  0.,  0.,  1.]])\n",
      "tensor([[ 0.,  0.,  0.,  0.,  0.,  0.,  1.,  0., -1.]])\n",
      "tensor([[ 1.,  0.,  0.,  0.,  1.,  0.,  0.,  0., -1.]])\n",
      "tensor([[ 1.,  0.,  0.,  0.,  1.,  0.,  0., -1., -1.]])\n",
      "tensor([[ 1.,  0.,  0.,  0.,  1., -1.,  1., -1., -1.]])\n",
      "tensor([[0., 0., 0., 0., 0., 0., 0., 0., 1.]])\n",
      "tensor([[ 0.,  0.,  0.,  0., -1.,  0.,  0.,  0.,  1.]])\n"
     ]
    },
    {
     "name": "stderr",
     "output_type": "stream",
     "text": [
      " 15%|█████▌                                | 1456/10000 [00:57<06:58, 20.44it/s]"
     ]
    },
    {
     "name": "stdout",
     "output_type": "stream",
     "text": [
      "tensor([[ 1.,  0.,  0.,  0.,  1., -1.,  1., -1., -1.]])\n",
      "tensor([[ 1.,  0.,  0.,  0.,  1.,  0.,  0., -1., -1.]])\n",
      "tensor([[ 1.,  0.,  0.,  0.,  1.,  0.,  0.,  0., -1.]])\n",
      "tensor([[ 0.,  0.,  0.,  0.,  1.,  0.,  0.,  0., -1.]])\n",
      "tensor([[ 0.,  0.,  0.,  0., -1.,  1., -1.,  1.,  1.]])\n",
      "tensor([[0., 0., 0., 0., 0., 0., 0., 0., 1.]])\n",
      "tensor([[ 0.,  0.,  0.,  0.,  1.,  0.,  0.,  0., -1.]])\n",
      "tensor([[ 1.,  0.,  0.,  0.,  1.,  0.,  0., -1., -1.]])\n",
      "tensor([[ 0.,  0.,  0.,  0., -1.,  0.,  0.,  0.,  1.]])\n",
      "tensor([[ 0.,  0.,  0.,  0.,  1.,  0., -1., -1.,  1.]])\n",
      "tensor([[ 0.,  0.,  0.,  0.,  1.,  0.,  0., -1.,  1.]])\n",
      "tensor([[ 0.,  0.,  0.,  0., -1.,  1., -1.,  1.,  1.]])\n",
      "tensor([[ 0.,  0.,  0.,  0., -1.,  0.,  0.,  1.,  1.]])\n",
      "tensor([[ 0.,  0.,  0.,  0., -1.,  1., -1.,  1.,  1.]])\n",
      "tensor([[ 0.,  0.,  0.,  0., -1.,  1., -1.,  1.,  1.]])\n",
      "tensor([[ 1.,  0.,  0.,  0.,  1.,  0.,  0.,  0., -1.]])\n",
      "tensor([[ 0.,  0.,  0.,  0.,  1.,  0.,  1., -1., -1.]])\n",
      "tensor([[0., 0., 0., 0., 0., 0., 0., 0., 1.]])\n",
      "tensor([[ 0.,  0.,  0.,  0., -1.,  0.,  0.,  1.,  1.]])\n",
      "tensor([[ 0.,  0.,  0.,  0., -1.,  0.,  0.,  1.,  1.]])\n",
      "tensor([[ 0.,  0.,  0.,  0.,  0.,  0.,  0., -1.,  1.]])\n",
      "tensor([[ 0.,  0.,  1.,  0.,  0.,  0.,  0.,  0., -1.]])\n",
      "tensor([[ 1.,  0.,  0.,  0.,  1.,  0.,  0., -1., -1.]])\n"
     ]
    },
    {
     "name": "stderr",
     "output_type": "stream",
     "text": [
      " 15%|█████▌                                | 1462/10000 [00:57<06:24, 22.19it/s]"
     ]
    },
    {
     "name": "stdout",
     "output_type": "stream",
     "text": [
      "tensor([[ 0.,  0.,  0.,  0.,  0.,  0.,  0., -1.,  1.]])\n",
      "tensor([[0., 0., 1., 0., 0., 0., 0., 0., 0.]])\n",
      "tensor([[ 0.,  0.,  0.,  0., -1.,  0., -1.,  1.,  1.]])\n",
      "tensor([[ 1.,  0.,  0.,  0.,  1.,  0.,  0.,  0., -1.]])\n",
      "tensor([[ 0.,  0.,  0.,  0., -1.,  0.,  0.,  0.,  1.]])\n",
      "tensor([[ 0.,  0.,  0.,  0.,  1.,  0.,  0., -1.,  1.]])\n",
      "tensor([[ 1.,  0.,  0.,  0.,  1.,  0.,  0.,  0., -1.]])\n",
      "tensor([[ 1.,  0.,  0.,  0.,  1.,  0.,  0.,  0., -1.]])\n",
      "tensor([[ 0.,  0.,  0.,  0., -1.,  1., -1.,  1.,  1.]])\n",
      "tensor([[ 1.,  0.,  0.,  0.,  1., -1.,  1., -1., -1.]])\n",
      "tensor([[ 0.,  0.,  0.,  0.,  0.,  0.,  0., -1.,  1.]])\n",
      "tensor([[ 0.,  0.,  0.,  0., -1.,  1., -1.,  1.,  1.]])\n",
      "tensor([[ 0.,  0.,  0.,  0., -1.,  0.,  0.,  0.,  1.]])\n",
      "tensor([[ 0.,  0.,  1.,  0.,  0.,  0.,  0.,  0., -1.]])\n",
      "tensor([[0., 0., 0., 0., 0., 0., 0., 0., 1.]])\n",
      "tensor([[0., 0., 0., 0., 0., 0., 1., 0., 0.]])\n",
      "tensor([[ 0.,  0.,  0.,  0., -1.,  0.,  0.,  0.,  1.]])\n",
      "tensor([[0., 0., 0., 0., 0., 0., 1., 0., 0.]])\n",
      "tensor([[0., 0., 0., 0., 0., 0., 0., 0., 1.]])\n",
      "tensor([[ 0.,  0.,  0.,  0., -1.,  0., -1.,  1.,  1.]])\n",
      "tensor([[1., 0., 0., 0., 0., 0., 0., 0., 0.]])\n",
      "tensor([[ 0.,  0.,  0.,  0., -1.,  1., -1.,  1.,  1.]])\n",
      "tensor([[ 0.,  0.,  0.,  0., -1.,  0.,  0.,  0.,  1.]])\n",
      "tensor([[ 0.,  0.,  0.,  0.,  0.,  0.,  0., -1.,  1.]])\n",
      "tensor([[ 0.,  0.,  0.,  0., -1.,  0., -1.,  1.,  1.]])\n",
      "tensor([[ 0.,  0.,  0.,  0., -1.,  1., -1.,  1.,  1.]])\n",
      "tensor([[ 0.,  0.,  1.,  0.,  0.,  0.,  0.,  0., -1.]])\n",
      "tensor([[1., 0., 0., 0., 0., 0., 0., 0., 0.]])\n",
      "tensor([[ 0.,  0.,  0.,  0., -1.,  1., -1.,  1.,  1.]])\n"
     ]
    },
    {
     "name": "stderr",
     "output_type": "stream",
     "text": [
      "\r",
      " 15%|█████▌                                | 1465/10000 [00:57<06:31, 21.77it/s]"
     ]
    },
    {
     "name": "stdout",
     "output_type": "stream",
     "text": [
      "tensor([[0., 0., 0., 0., 1., 0., 0., 0., 0.]])\n",
      "tensor([[ 0.,  0.,  0.,  0., -1.,  1., -1.,  1.,  1.]])\n",
      "tensor([[ 0.,  0.,  0.,  0.,  1.,  0.,  0.,  0., -1.]])\n",
      "tensor([[ 1.,  0.,  0.,  0.,  1.,  0.,  0., -1., -1.]])\n",
      "tensor([[ 0.,  0.,  0.,  0., -1.,  1., -1.,  1.,  1.]])\n",
      "tensor([[ 0.,  0.,  0.,  0., -1.,  0.,  0.,  1.,  1.]])\n",
      "tensor([[ 0.,  0.,  0.,  0.,  1.,  0.,  0., -1.,  1.]])\n",
      "tensor([[ 0.,  0.,  0.,  0.,  1.,  0.,  0.,  0., -1.]])\n",
      "tensor([[ 0.,  0.,  0.,  0., -1.,  0.,  0.,  0.,  1.]])\n",
      "tensor([[ 0.,  0.,  0.,  0., -1.,  0.,  0.,  0.,  1.]])\n",
      "tensor([[ 0.,  0.,  1.,  0.,  1.,  0.,  0., -1., -1.]])\n",
      "tensor([[ 0.,  0.,  0.,  0., -1.,  0.,  0.,  1.,  1.]])\n",
      "tensor([[ 0.,  0.,  0.,  0., -1.,  0.,  0.,  0.,  1.]])\n",
      "tensor([[ 0.,  0.,  0.,  0., -1.,  0.,  0.,  0.,  1.]])\n",
      "tensor([[ 0.,  0.,  0.,  0., -1.,  0.,  0.,  0.,  1.]])\n",
      "tensor([[ 0.,  0.,  0.,  0., -1.,  0., -1.,  1.,  1.]])\n",
      "tensor([[ 0.,  0.,  0.,  0., -1.,  0., -1.,  1.,  1.]])\n",
      "tensor([[ 0.,  0.,  0.,  0., -1.,  0.,  0.,  1.,  1.]])\n",
      "tensor([[ 0.,  0.,  0.,  0., -1.,  0., -1.,  1.,  1.]])\n",
      "tensor([[ 1.,  0.,  0.,  0.,  1.,  0.,  1., -1., -1.]])\n",
      "tensor([[0., 0., 1., 0., 0., 0., 0., 0., 0.]])\n",
      "tensor([[ 0.,  0.,  0.,  0.,  1.,  0., -1., -1.,  1.]])\n",
      "tensor([[0., 0., 0., 0., 1., 0., 0., 0., 0.]])\n",
      "tensor([[ 0.,  0.,  0.,  0., -1.,  1., -1.,  1.,  1.]])\n",
      "tensor([[ 0.,  0.,  0.,  0., -1.,  1., -1.,  1.,  1.]])\n",
      "tensor([[0., 0., 1., 0., 0., 0., 0., 0., 0.]])\n"
     ]
    },
    {
     "name": "stderr",
     "output_type": "stream",
     "text": [
      " 15%|█████▌                                | 1471/10000 [00:57<06:04, 23.40it/s]"
     ]
    },
    {
     "name": "stdout",
     "output_type": "stream",
     "text": [
      "tensor([[ 1.,  0.,  0.,  0.,  1.,  0.,  0.,  0., -1.]])\n",
      "tensor([[ 0.,  0.,  0.,  0., -1.,  0.,  0.,  0.,  1.]])\n",
      "tensor([[ 1.,  0.,  0.,  0.,  1., -1.,  1., -1., -1.]])\n",
      "tensor([[ 0.,  0.,  0.,  0., -1.,  0., -1.,  1.,  1.]])\n",
      "tensor([[ 0.,  0.,  0.,  0., -1.,  1., -1.,  1.,  1.]])\n",
      "tensor([[ 1.,  0.,  0.,  0.,  0.,  0.,  0.,  0., -1.]])\n",
      "tensor([[ 0.,  0.,  0.,  0., -1.,  0.,  0.,  1.,  1.]])\n",
      "tensor([[ 1.,  0.,  0.,  0.,  1., -1.,  1., -1., -1.]])\n",
      "tensor([[0., 0., 1., 0., 0., 0., 0., 0., 0.]])\n",
      "tensor([[ 0.,  0.,  0.,  0., -1.,  0., -1.,  1.,  1.]])\n",
      "tensor([[0., 0., 0., 0., 0., 0., 0., 0., 1.]])\n",
      "tensor([[ 0.,  0.,  0.,  0.,  0.,  0.,  1.,  0., -1.]])\n",
      "tensor([[ 1.,  0.,  0.,  0.,  1., -1.,  1., -1., -1.]])\n",
      "tensor([[ 0.,  0.,  0.,  0., -1.,  0.,  0.,  1.,  1.]])\n",
      "tensor([[0., 0., 0., 0., 0., 0., 0., 0., 1.]])\n",
      "tensor([[ 0.,  0.,  0.,  0., -1.,  0.,  0.,  1.,  1.]])\n",
      "tensor([[ 0.,  0.,  0.,  0.,  1.,  0., -1., -1.,  1.]])\n",
      "tensor([[ 0.,  0.,  0.,  0., -1.,  0., -1.,  1.,  1.]])\n",
      "tensor([[ 0.,  0.,  0.,  0., -1.,  0., -1.,  1.,  1.]])\n",
      "tensor([[ 0.,  0.,  0.,  0., -1.,  0.,  0.,  0.,  1.]])\n",
      "tensor([[0., 0., 0., 0., 1., 0., 0., 0., 0.]])\n",
      "tensor([[ 0.,  0.,  0.,  0., -1.,  0.,  0.,  0.,  1.]])\n",
      "tensor([[ 0.,  0.,  0.,  0., -1.,  0.,  0.,  1.,  1.]])\n",
      "tensor([[ 0.,  0.,  0.,  0., -1.,  0.,  0.,  1.,  1.]])\n",
      "tensor([[ 0.,  0.,  0.,  0., -1.,  0.,  0.,  0.,  1.]])\n",
      "tensor([[ 0.,  0.,  0.,  0.,  1.,  0.,  0., -1.,  1.]])\n"
     ]
    },
    {
     "name": "stderr",
     "output_type": "stream",
     "text": [
      "\r",
      " 15%|█████▌                                | 1474/10000 [00:58<07:00, 20.30it/s]"
     ]
    },
    {
     "name": "stdout",
     "output_type": "stream",
     "text": [
      "tensor([[ 0.,  0.,  0.,  0., -1.,  0., -1.,  1.,  1.]])\n",
      "tensor([[0., 0., 0., 0., 0., 0., 0., 0., 1.]])\n",
      "tensor([[0., 0., 0., 0., 1., 0., 0., 0., 0.]])\n",
      "tensor([[ 0.,  0.,  0.,  0., -1.,  0.,  0.,  0.,  1.]])\n",
      "tensor([[0., 0., 0., 0., 0., 0., 0., 0., 1.]])\n",
      "tensor([[ 1.,  0.,  0.,  0.,  1.,  0.,  1., -1., -1.]])\n",
      "tensor([[ 0.,  0.,  0.,  0., -1.,  0.,  0.,  1.,  1.]])\n",
      "tensor([[ 1.,  0.,  0.,  0.,  1.,  0.,  0.,  0., -1.]])\n",
      "tensor([[0., 0., 0., 0., 0., 0., 0., 0., 1.]])\n",
      "tensor([[ 0.,  0.,  0.,  0., -1.,  0.,  0.,  1.,  1.]])\n",
      "tensor([[ 0.,  0.,  0.,  0., -1.,  1., -1.,  1.,  1.]])\n",
      "tensor([[ 0.,  0.,  1.,  0.,  0.,  0.,  0.,  0., -1.]])\n",
      "tensor([[ 0.,  0.,  0.,  0.,  1.,  0.,  1., -1., -1.]])\n",
      "tensor([[ 0.,  0.,  0.,  0., -1.,  0.,  0.,  1.,  1.]])\n",
      "tensor([[ 0.,  0.,  0.,  0., -1.,  0., -1.,  1.,  1.]])\n",
      "tensor([[ 0.,  0.,  0.,  0., -1.,  0., -1.,  1.,  1.]])\n",
      "tensor([[ 1.,  0.,  0.,  0.,  1., -1.,  1., -1., -1.]])\n"
     ]
    },
    {
     "name": "stderr",
     "output_type": "stream",
     "text": [
      " 15%|█████▌                                | 1480/10000 [00:58<06:44, 21.07it/s]"
     ]
    },
    {
     "name": "stdout",
     "output_type": "stream",
     "text": [
      "tensor([[ 1.,  0.,  0.,  0.,  1.,  0.,  1., -1., -1.]])\n",
      "tensor([[ 0.,  0.,  0.,  0., -1.,  0.,  0.,  0.,  1.]])\n",
      "tensor([[ 0.,  0.,  0.,  0., -1.,  0.,  0.,  1.,  1.]])\n",
      "tensor([[ 0.,  0.,  0.,  0., -1.,  0.,  0.,  0.,  1.]])\n",
      "tensor([[0., 0., 0., 0., 0., 0., 0., 0., 1.]])\n",
      "tensor([[ 1.,  0.,  0.,  0.,  1.,  0.,  0., -1., -1.]])\n",
      "tensor([[ 1.,  0.,  0.,  0.,  1.,  0.,  1., -1., -1.]])\n",
      "tensor([[ 0.,  0.,  0.,  0., -1.,  0., -1.,  1.,  1.]])\n",
      "tensor([[ 0.,  0.,  0.,  0., -1.,  0.,  0.,  0.,  1.]])\n",
      "tensor([[0., 0., 0., 0., 0., 0., 0., 0., 1.]])\n",
      "tensor([[ 0.,  0.,  0.,  0., -1.,  1., -1.,  1.,  1.]])\n",
      "tensor([[ 0.,  0.,  0.,  0., -1.,  0., -1.,  1.,  1.]])\n",
      "tensor([[ 0.,  0.,  0.,  0.,  1.,  0., -1., -1.,  1.]])\n",
      "tensor([[0., 0., 0., 0., 0., 0., 0., 0., 1.]])\n",
      "tensor([[0., 0., 0., 0., 0., 0., 0., 0., 1.]])\n",
      "tensor([[ 0.,  0.,  0.,  0., -1.,  0.,  0.,  0.,  1.]])\n",
      "tensor([[0., 0., 0., 0., 1., 0., 0., 0., 0.]])\n",
      "tensor([[ 0.,  0.,  0.,  0., -1.,  0.,  0.,  0.,  1.]])\n",
      "tensor([[ 1.,  0.,  0.,  0.,  1.,  0.,  0., -1., -1.]])\n",
      "tensor([[ 0.,  0.,  0.,  0., -1.,  0.,  0.,  0.,  1.]])\n",
      "tensor([[ 0.,  0.,  0.,  0., -1.,  0.,  0.,  0.,  1.]])\n",
      "tensor([[ 0.,  0.,  0.,  0., -1.,  1., -1.,  1.,  1.]])\n",
      "tensor([[0., 0., 1., 0., 0., 0., 0., 0., 0.]])\n",
      "tensor([[ 0.,  0.,  0.,  0., -1.,  1., -1.,  1.,  1.]])\n",
      "tensor([[ 0.,  0.,  0.,  0., -1.,  0., -1.,  1.,  1.]])\n",
      "tensor([[ 1.,  0.,  0.,  0.,  1., -1.,  1., -1., -1.]])\n"
     ]
    },
    {
     "name": "stderr",
     "output_type": "stream",
     "text": [
      "\r",
      " 15%|█████▋                                | 1483/10000 [00:58<06:35, 21.55it/s]"
     ]
    },
    {
     "name": "stdout",
     "output_type": "stream",
     "text": [
      "tensor([[ 0.,  0.,  0.,  0.,  0.,  0.,  1.,  0., -1.]])\n",
      "tensor([[ 1.,  0.,  0.,  0.,  1.,  0.,  1., -1., -1.]])\n",
      "tensor([[ 0.,  0.,  0.,  0.,  0.,  0.,  1.,  0., -1.]])\n",
      "tensor([[ 0.,  0.,  0.,  0., -1.,  0.,  0.,  1.,  1.]])\n",
      "tensor([[ 0.,  0.,  0.,  0., -1.,  0.,  0.,  0.,  1.]])\n",
      "tensor([[ 0.,  0.,  0.,  0.,  1.,  0.,  0.,  0., -1.]])\n",
      "tensor([[ 0.,  0.,  0.,  0.,  1.,  0.,  0., -1.,  1.]])\n",
      "tensor([[ 0.,  0.,  0.,  0., -1.,  0., -1.,  1.,  1.]])\n",
      "tensor([[ 0.,  0.,  0.,  0.,  1.,  0.,  0.,  0., -1.]])\n",
      "tensor([[ 0.,  0.,  0.,  0., -1.,  0.,  0.,  0.,  1.]])\n",
      "tensor([[0., 0., 0., 0., 0., 0., 0., 0., 1.]])\n",
      "tensor([[ 0.,  0.,  0.,  0., -1.,  0.,  0.,  1.,  1.]])\n",
      "tensor([[ 0.,  0.,  0.,  0., -1.,  0.,  0.,  0.,  1.]])\n",
      "tensor([[ 1.,  0.,  0.,  0.,  1.,  0.,  0., -1., -1.]])\n",
      "tensor([[ 0.,  0.,  1.,  0.,  1.,  0.,  0.,  0., -1.]])\n",
      "tensor([[0., 0., 0., 0., 0., 0., 0., 0., 1.]])\n",
      "tensor([[ 0.,  0.,  0.,  0., -1.,  0.,  0.,  1.,  1.]])\n",
      "tensor([[ 0.,  0.,  1.,  0.,  1.,  0.,  0.,  0., -1.]])\n",
      "tensor([[ 0.,  0.,  0.,  0.,  1.,  0.,  0.,  0., -1.]])\n",
      "tensor([[ 1.,  0.,  0.,  0.,  1.,  0.,  1., -1., -1.]])\n",
      "tensor([[ 0.,  0.,  0.,  0., -1.,  1., -1.,  1.,  1.]])\n",
      "tensor([[ 0.,  0.,  0.,  0.,  1.,  0.,  0.,  0., -1.]])\n",
      "tensor([[ 0.,  0.,  0.,  0., -1.,  0.,  0.,  0.,  1.]])\n",
      "tensor([[0., 0., 0., 0., 0., 0., 0., 0., 1.]])\n",
      "tensor([[1., 0., 0., 0., 0., 0., 0., 0., 0.]])\n",
      "tensor([[ 0.,  0.,  0.,  0.,  1.,  0.,  1., -1., -1.]])\n",
      "tensor([[0., 0., 0., 0., 0., 0., 0., 0., 1.]])\n",
      "tensor([[ 1.,  0.,  0.,  0.,  1.,  0.,  1., -1., -1.]])\n",
      "tensor([[ 0.,  0.,  0.,  0.,  1.,  0.,  0., -1.,  1.]])\n"
     ]
    },
    {
     "name": "stderr",
     "output_type": "stream",
     "text": [
      " 15%|█████▋                                | 1489/10000 [00:58<06:15, 22.64it/s]"
     ]
    },
    {
     "name": "stdout",
     "output_type": "stream",
     "text": [
      "tensor([[ 0.,  0.,  0.,  0., -1.,  0.,  0.,  0.,  1.]])\n",
      "tensor([[ 1.,  0.,  0.,  0.,  1., -1.,  1., -1., -1.]])\n",
      "tensor([[ 0.,  0.,  0.,  0., -1.,  0.,  0.,  0.,  1.]])\n",
      "tensor([[ 0.,  0.,  1.,  0.,  0.,  0.,  0.,  0., -1.]])\n",
      "tensor([[ 0.,  0.,  0.,  0., -1.,  0.,  0.,  1.,  1.]])\n",
      "tensor([[ 0.,  0.,  0.,  0.,  1.,  0., -1., -1.,  1.]])\n",
      "tensor([[0., 0., 0., 0., 0., 0., 0., 0., 1.]])\n",
      "tensor([[ 0.,  0.,  0.,  0., -1.,  0.,  0.,  1.,  1.]])\n",
      "tensor([[ 0.,  0.,  1.,  0.,  1.,  0.,  0.,  0., -1.]])\n",
      "tensor([[ 0.,  0.,  0.,  0.,  0.,  0.,  1.,  0., -1.]])\n",
      "tensor([[ 0.,  0.,  0.,  0., -1.,  0., -1.,  1.,  1.]])\n",
      "tensor([[ 1.,  0.,  0.,  0.,  1.,  0.,  0.,  0., -1.]])\n",
      "tensor([[0., 0., 0., 0., 0., 0., 1., 0., 0.]])\n",
      "tensor([[0., 0., 0., 0., 0., 0., 0., 0., 1.]])\n",
      "tensor([[ 0.,  0.,  0.,  0., -1.,  0.,  0.,  1.,  1.]])\n",
      "tensor([[0., 0., 0., 0., 0., 0., 0., 0., 1.]])\n",
      "tensor([[0., 0., 0., 0., 0., 0., 0., 0., 1.]])\n",
      "tensor([[ 0.,  0.,  0.,  0., -1.,  0.,  0.,  0.,  1.]])\n",
      "tensor([[ 0.,  0.,  0.,  0.,  1.,  0.,  1.,  0., -1.]])\n",
      "tensor([[ 1.,  0.,  0.,  0.,  1.,  0.,  0.,  0., -1.]])\n",
      "tensor([[ 1.,  0.,  0.,  0.,  1.,  0.,  0.,  0., -1.]])\n",
      "tensor([[ 0.,  0.,  0.,  0., -1.,  0., -1.,  1.,  1.]])\n",
      "tensor([[ 0.,  0.,  0.,  0., -1.,  0.,  0.,  1.,  1.]])\n",
      "tensor([[0., 0., 0., 0., 0., 0., 0., 0., 1.]])\n"
     ]
    },
    {
     "name": "stderr",
     "output_type": "stream",
     "text": [
      " 15%|█████▋                                | 1495/10000 [00:58<05:48, 24.42it/s]"
     ]
    },
    {
     "name": "stdout",
     "output_type": "stream",
     "text": [
      "tensor([[0., 0., 0., 0., 0., 0., 0., 0., 1.]])\n",
      "tensor([[ 0.,  0.,  0.,  0., -1.,  1., -1.,  1.,  1.]])\n",
      "tensor([[ 1.,  0.,  0.,  0.,  1.,  0.,  1., -1., -1.]])\n",
      "tensor([[0., 0., 0., 0., 0., 0., 0., 0., 1.]])\n",
      "tensor([[ 0.,  0.,  0.,  0.,  0.,  0.,  1.,  0., -1.]])\n",
      "tensor([[ 0.,  0.,  0.,  0., -1.,  0.,  0.,  1.,  1.]])\n",
      "tensor([[0., 0., 0., 0., 0., 0., 0., 0., 1.]])\n",
      "tensor([[0., 0., 0., 0., 0., 0., 0., 0., 1.]])\n",
      "tensor([[ 0.,  0.,  0.,  0., -1.,  0., -1.,  1.,  1.]])\n",
      "tensor([[ 0.,  0.,  0.,  0., -1.,  0.,  0.,  1.,  1.]])\n",
      "tensor([[0., 0., 0., 0., 0., 0., 0., 0., 1.]])\n",
      "tensor([[ 0.,  0.,  0.,  0., -1.,  0.,  0.,  0.,  1.]])\n",
      "tensor([[ 0.,  0.,  0.,  0., -1.,  1., -1.,  1.,  1.]])\n",
      "tensor([[ 0.,  0.,  0.,  0., -1.,  0., -1.,  1.,  1.]])\n",
      "tensor([[ 0.,  0.,  0.,  0.,  1.,  0., -1., -1.,  1.]])\n",
      "tensor([[ 0.,  0.,  0.,  0.,  1.,  0.,  0.,  0., -1.]])\n",
      "tensor([[ 1.,  0.,  0.,  0.,  1., -1.,  1., -1., -1.]])\n",
      "tensor([[ 1.,  0.,  0.,  0.,  1.,  0.,  1., -1., -1.]])\n",
      "tensor([[0., 0., 0., 0., 0., 0., 0., 0., 1.]])\n",
      "tensor([[ 0.,  0.,  0.,  0., -1.,  1., -1.,  1.,  1.]])\n",
      "tensor([[ 0.,  0.,  0.,  0.,  1.,  0.,  1., -1., -1.]])\n",
      "tensor([[ 0.,  0.,  0.,  0., -1.,  0.,  0.,  1.,  1.]])\n",
      "tensor([[ 0.,  0.,  0.,  0., -1.,  1., -1.,  1.,  1.]])\n",
      "tensor([[ 0.,  0.,  0.,  0., -1.,  1., -1.,  1.,  1.]])\n"
     ]
    },
    {
     "name": "stderr",
     "output_type": "stream",
     "text": [
      " 15%|█████▋                                | 1501/10000 [00:59<05:34, 25.38it/s]"
     ]
    },
    {
     "name": "stdout",
     "output_type": "stream",
     "text": [
      "tensor([[ 0.,  0.,  0.,  0., -1.,  0.,  0.,  1.,  1.]])\n",
      "tensor([[ 1.,  0.,  0.,  0.,  1.,  0.,  0.,  0., -1.]])\n",
      "tensor([[0., 0., 1., 0., 0., 0., 0., 0., 0.]])\n",
      "tensor([[ 1.,  0.,  0.,  0.,  1.,  0.,  1., -1., -1.]])\n",
      "tensor([[ 0.,  0.,  0.,  0.,  0.,  0.,  0., -1.,  1.]])\n",
      "tensor([[ 0.,  0.,  0.,  0., -1.,  0., -1.,  1.,  1.]])\n",
      "tensor([[ 0.,  0.,  0.,  0., -1.,  0.,  0.,  1.,  1.]])\n",
      "tensor([[ 0.,  0.,  0.,  0., -1.,  0.,  0.,  1.,  1.]])\n",
      "tensor([[0., 0., 0., 0., 0., 0., 1., 0., 0.]])\n",
      "tensor([[ 0.,  0.,  0.,  0.,  1.,  0., -1., -1.,  1.]])\n",
      "tensor([[1., 0., 0., 0., 0., 0., 0., 0., 0.]])\n",
      "tensor([[ 0.,  0.,  0.,  0.,  1.,  0.,  0.,  0., -1.]])\n",
      "tensor([[ 1.,  0.,  0.,  0.,  1.,  0.,  0.,  0., -1.]])\n",
      "tensor([[0., 0., 0., 0., 0., 0., 0., 0., 1.]])\n",
      "tensor([[ 0.,  0.,  0.,  0., -1.,  0., -1.,  1.,  1.]])\n",
      "tensor([[ 0.,  0.,  0.,  0.,  1.,  0.,  1., -1., -1.]])\n",
      "tensor([[ 0.,  0.,  0.,  0., -1.,  0.,  0.,  1.,  1.]])\n",
      "tensor([[ 0.,  0.,  0.,  0.,  1.,  0.,  1., -1., -1.]])\n",
      "tensor([[1., 0., 0., 0., 0., 0., 0., 0., 0.]])\n",
      "tensor([[ 0.,  0.,  0.,  0.,  1.,  0., -1., -1.,  1.]])\n",
      "tensor([[ 0.,  0.,  0.,  0., -1.,  0., -1.,  1.,  1.]])\n",
      "tensor([[ 1.,  0.,  0.,  0.,  1., -1.,  1., -1., -1.]])\n",
      "tensor([[ 1.,  0.,  0.,  0.,  1.,  0.,  1., -1., -1.]])\n",
      "tensor([[ 1.,  0.,  0.,  0.,  1.,  0.,  1., -1., -1.]])\n",
      "tensor([[0., 0., 0., 0., 0., 0., 1., 0., 0.]])\n"
     ]
    },
    {
     "name": "stderr",
     "output_type": "stream",
     "text": [
      "\r",
      " 15%|█████▋                                | 1504/10000 [00:59<05:39, 25.04it/s]"
     ]
    },
    {
     "name": "stdout",
     "output_type": "stream",
     "text": [
      "tensor([[0., 0., 0., 0., 0., 0., 0., 0., 1.]])\n",
      "tensor([[ 0.,  0.,  0.,  0.,  1.,  0.,  0., -1.,  1.]])\n",
      "tensor([[ 0.,  0.,  0.,  0., -1.,  0.,  0.,  0.,  1.]])\n",
      "tensor([[ 0.,  0.,  0.,  0., -1.,  0.,  0.,  0.,  1.]])\n",
      "tensor([[0., 0., 0., 0., 0., 0., 0., 0., 1.]])\n",
      "tensor([[ 0.,  0.,  0.,  0.,  1.,  0.,  0.,  0., -1.]])\n",
      "tensor([[ 0.,  0.,  0.,  0., -1.,  0.,  0.,  0.,  1.]])\n",
      "tensor([[ 0.,  0.,  0.,  0., -1.,  0.,  0.,  0.,  1.]])\n",
      "tensor([[ 1.,  0.,  0.,  0.,  0.,  0.,  0.,  0., -1.]])\n",
      "tensor([[0., 0., 1., 0., 0., 0., 0., 0., 0.]])\n",
      "tensor([[0., 0., 0., 0., 0., 0., 0., 0., 1.]])\n",
      "tensor([[ 0.,  0.,  0.,  0., -1.,  1., -1.,  1.,  1.]])\n",
      "tensor([[ 0.,  0.,  0.,  0., -1.,  1., -1.,  1.,  1.]])\n",
      "tensor([[0., 0., 0., 0., 0., 0., 0., 0., 1.]])\n",
      "tensor([[ 0.,  0.,  0.,  0., -1.,  0., -1.,  1.,  1.]])\n",
      "tensor([[ 0.,  0.,  0.,  0.,  1.,  0.,  1., -1., -1.]])\n",
      "tensor([[1., 0., 0., 0., 0., 0., 0., 0., 0.]])\n",
      "tensor([[ 0.,  0.,  0.,  0., -1.,  0.,  0.,  0.,  1.]])\n",
      "tensor([[ 0.,  0.,  0.,  0.,  0.,  0.,  1.,  0., -1.]])\n",
      "tensor([[ 0.,  0.,  0.,  0., -1.,  0., -1.,  1.,  1.]])\n",
      "tensor([[1., 0., 0., 0., 0., 0., 0., 0., 0.]])\n",
      "tensor([[ 0.,  0.,  0.,  0., -1.,  1., -1.,  1.,  1.]])\n",
      "tensor([[ 0.,  0.,  0.,  0., -1.,  0.,  0.,  1.,  1.]])\n"
     ]
    },
    {
     "name": "stderr",
     "output_type": "stream",
     "text": [
      " 15%|█████▋                                | 1510/10000 [00:59<05:52, 24.06it/s]"
     ]
    },
    {
     "name": "stdout",
     "output_type": "stream",
     "text": [
      "tensor([[1., 0., 0., 0., 0., 0., 0., 0., 0.]])\n",
      "tensor([[ 0.,  0.,  1.,  0.,  0.,  0.,  0.,  0., -1.]])\n",
      "tensor([[ 0.,  0.,  0.,  0., -1.,  0.,  0.,  1.,  1.]])\n",
      "tensor([[ 0.,  0.,  0.,  0.,  1.,  0.,  0., -1.,  1.]])\n",
      "tensor([[ 0.,  0.,  0.,  0., -1.,  0.,  0.,  0.,  1.]])\n",
      "tensor([[ 0.,  0.,  0.,  0.,  0.,  0.,  1.,  0., -1.]])\n",
      "tensor([[0., 0., 0., 0., 1., 0., 0., 0., 0.]])\n",
      "tensor([[ 0.,  0.,  0.,  0.,  1.,  0.,  0., -1.,  1.]])\n",
      "tensor([[ 0.,  0.,  0.,  0.,  1.,  0.,  0.,  0., -1.]])\n",
      "tensor([[ 0.,  0.,  0.,  0., -1.,  0.,  0.,  1.,  1.]])\n",
      "tensor([[ 0.,  0.,  0.,  0.,  1.,  0.,  1., -1., -1.]])\n",
      "tensor([[0., 0., 0., 0., 0., 0., 0., 0., 1.]])\n",
      "tensor([[ 0.,  0.,  0.,  0.,  1.,  0.,  1., -1., -1.]])\n",
      "tensor([[1., 0., 0., 0., 0., 0., 0., 0., 0.]])\n",
      "tensor([[ 1.,  0.,  0.,  0.,  1.,  0.,  1., -1., -1.]])\n",
      "tensor([[ 1.,  0.,  0.,  0.,  1., -1.,  1., -1., -1.]])\n",
      "tensor([[ 0.,  0.,  0.,  0., -1.,  0.,  0.,  0.,  1.]])\n",
      "tensor([[ 1.,  0.,  0.,  0.,  1.,  0.,  0.,  0., -1.]])\n",
      "tensor([[ 0.,  0.,  0.,  0., -1.,  1., -1.,  1.,  1.]])\n",
      "tensor([[ 0.,  0.,  0.,  0., -1.,  0., -1.,  1.,  1.]])\n",
      "tensor([[ 0.,  0.,  1.,  0.,  0.,  0.,  0.,  0., -1.]])\n",
      "tensor([[0., 0., 0., 0., 0., 0., 1., 0., 0.]])\n",
      "tensor([[ 0.,  0.,  0.,  0., -1.,  0.,  0.,  1.,  1.]])\n"
     ]
    },
    {
     "name": "stderr",
     "output_type": "stream",
     "text": [
      "\r",
      " 15%|█████▋                                | 1513/10000 [00:59<06:06, 23.16it/s]"
     ]
    },
    {
     "name": "stdout",
     "output_type": "stream",
     "text": [
      "tensor([[0., 0., 0., 0., 0., 0., 1., 0., 0.]])\n",
      "tensor([[0., 0., 0., 0., 0., 0., 0., 0., 1.]])\n",
      "tensor([[ 0.,  0.,  0.,  0., -1.,  0.,  0.,  1.,  1.]])\n",
      "tensor([[ 0.,  0.,  0.,  0., -1.,  0.,  0.,  1.,  1.]])\n",
      "tensor([[ 0.,  0.,  0.,  0., -1.,  0., -1.,  1.,  1.]])\n",
      "tensor([[ 0.,  0.,  0.,  0., -1.,  1., -1.,  1.,  1.]])\n",
      "tensor([[0., 0., 0., 0., 0., 0., 0., 0., 1.]])\n",
      "tensor([[0., 0., 0., 0., 0., 0., 0., 0., 1.]])\n",
      "tensor([[ 0.,  0.,  1.,  0.,  1.,  0.,  0.,  0., -1.]])\n",
      "tensor([[ 1.,  0.,  0.,  0.,  1.,  0.,  0.,  0., -1.]])\n",
      "tensor([[ 0.,  0.,  0.,  0.,  0.,  0.,  0., -1.,  1.]])\n",
      "tensor([[ 0.,  0.,  0.,  0., -1.,  1., -1.,  1.,  1.]])\n",
      "tensor([[ 0.,  0.,  0.,  0., -1.,  1., -1.,  1.,  1.]])\n",
      "tensor([[0., 0., 0., 0., 0., 0., 1., 0., 0.]])\n",
      "tensor([[ 0.,  0.,  0.,  0., -1.,  0.,  0.,  0.,  1.]])\n",
      "tensor([[ 1.,  0.,  0.,  0.,  1.,  0.,  0., -1., -1.]])\n",
      "tensor([[0., 0., 0., 0., 0., 0., 0., 0., 1.]])\n",
      "tensor([[ 0.,  0.,  0.,  0., -1.,  1., -1.,  1.,  1.]])\n",
      "tensor([[ 0.,  0.,  0.,  0.,  1.,  0., -1., -1.,  1.]])\n",
      "tensor([[ 1.,  0.,  0.,  0.,  1., -1.,  1., -1., -1.]])\n",
      "tensor([[ 0.,  0.,  0.,  0., -1.,  0.,  0.,  1.,  1.]])\n",
      "tensor([[ 0.,  0.,  0.,  0.,  1.,  0.,  0.,  0., -1.]])\n",
      "tensor([[ 1.,  0.,  0.,  0.,  1., -1.,  1., -1., -1.]])\n",
      "tensor([[ 0.,  0.,  0.,  0., -1.,  1., -1.,  1.,  1.]])\n",
      "tensor([[ 0.,  0.,  0.,  0., -1.,  0., -1.,  1.,  1.]])\n",
      "tensor([[ 0.,  0.,  0.,  0., -1.,  0.,  0.,  0.,  1.]])\n",
      "tensor([[ 0.,  0.,  0.,  0., -1.,  0.,  0.,  0.,  1.]])\n",
      "tensor([[ 0.,  0.,  0.,  0.,  1.,  0.,  1., -1., -1.]])\n",
      "tensor([[ 0.,  0.,  0.,  0., -1.,  0., -1.,  1.,  1.]])\n"
     ]
    },
    {
     "name": "stderr",
     "output_type": "stream",
     "text": [
      " 15%|█████▊                                | 1519/10000 [00:59<05:46, 24.46it/s]"
     ]
    },
    {
     "name": "stdout",
     "output_type": "stream",
     "text": [
      "tensor([[0., 0., 0., 0., 0., 0., 0., 0., 1.]])\n",
      "tensor([[ 1.,  0.,  0.,  0.,  1.,  0.,  0., -1., -1.]])\n",
      "tensor([[ 1.,  0.,  0.,  0.,  1.,  0.,  0.,  0., -1.]])\n",
      "tensor([[0., 0., 0., 0., 0., 0., 0., 0., 1.]])\n",
      "tensor([[0., 0., 0., 0., 0., 0., 1., 0., 0.]])\n",
      "tensor([[0., 0., 1., 0., 0., 0., 0., 0., 0.]])\n",
      "tensor([[ 0.,  0.,  0.,  0.,  0.,  0.,  1.,  0., -1.]])\n",
      "tensor([[ 0.,  0.,  0.,  0., -1.,  0.,  0.,  1.,  1.]])\n",
      "tensor([[ 0.,  0.,  0.,  0.,  1.,  0., -1., -1.,  1.]])\n",
      "tensor([[0., 0., 0., 0., 1., 0., 0., 0., 0.]])\n",
      "tensor([[ 0.,  0.,  0.,  0., -1.,  0.,  0.,  0.,  1.]])\n",
      "tensor([[ 0.,  0.,  0.,  0.,  1.,  0.,  1.,  0., -1.]])\n",
      "tensor([[ 0.,  0.,  0.,  0.,  1.,  0.,  1., -1., -1.]])\n",
      "tensor([[ 0.,  0.,  0.,  0., -1.,  0.,  0.,  0.,  1.]])\n",
      "tensor([[ 0.,  0.,  0.,  0., -1.,  0.,  0.,  1.,  1.]])\n",
      "tensor([[ 0.,  0.,  0.,  0., -1.,  1., -1.,  1.,  1.]])\n",
      "tensor([[ 0.,  0.,  1.,  0.,  0.,  0.,  0.,  0., -1.]])\n",
      "tensor([[ 0.,  0.,  0.,  0., -1.,  1., -1.,  1.,  1.]])\n",
      "tensor([[0., 0., 0., 0., 0., 0., 0., 0., 1.]])\n",
      "tensor([[ 1.,  0.,  0.,  0.,  1.,  0.,  1., -1., -1.]])\n",
      "tensor([[0., 0., 0., 0., 0., 0., 1., 0., 0.]])\n",
      "tensor([[0., 0., 0., 0., 1., 0., 0., 0., 0.]])\n",
      "tensor([[0., 0., 1., 0., 0., 0., 0., 0., 0.]])\n",
      "tensor([[ 0.,  0.,  0.,  0.,  0.,  0.,  0., -1.,  1.]])\n",
      "tensor([[ 1.,  0.,  0.,  0.,  0.,  0.,  0.,  0., -1.]])\n"
     ]
    },
    {
     "name": "stderr",
     "output_type": "stream",
     "text": [
      " 15%|█████▊                                | 1525/10000 [01:00<05:54, 23.88it/s]"
     ]
    },
    {
     "name": "stdout",
     "output_type": "stream",
     "text": [
      "tensor([[ 0.,  0.,  0.,  0., -1.,  0.,  0.,  0.,  1.]])\n",
      "tensor([[ 0.,  0.,  1.,  0.,  1.,  0.,  0.,  0., -1.]])\n",
      "tensor([[ 0.,  0.,  0.,  0., -1.,  0., -1.,  1.,  1.]])\n",
      "tensor([[ 0.,  0.,  1.,  0.,  0.,  0.,  0.,  0., -1.]])\n",
      "tensor([[ 0.,  0.,  0.,  0., -1.,  1., -1.,  1.,  1.]])\n",
      "tensor([[ 0.,  0.,  0.,  0., -1.,  0.,  0.,  0.,  1.]])\n",
      "tensor([[ 0.,  0.,  0.,  0., -1.,  1., -1.,  1.,  1.]])\n",
      "tensor([[ 1.,  0.,  0.,  0.,  1.,  0.,  0., -1., -1.]])\n",
      "tensor([[ 0.,  0.,  0.,  0., -1.,  1., -1.,  1.,  1.]])\n",
      "tensor([[ 1.,  0.,  0.,  0.,  1.,  0.,  0.,  0., -1.]])\n",
      "tensor([[ 0.,  0.,  0.,  0., -1.,  0., -1.,  1.,  1.]])\n",
      "tensor([[ 0.,  0.,  0.,  0., -1.,  0., -1.,  1.,  1.]])\n",
      "tensor([[ 0.,  0.,  1.,  0.,  1.,  0.,  0.,  0., -1.]])\n",
      "tensor([[ 0.,  0.,  0.,  0., -1.,  0.,  0.,  1.,  1.]])\n",
      "tensor([[0., 0., 0., 0., 0., 0., 1., 0., 0.]])\n",
      "tensor([[ 0.,  0.,  0.,  0., -1.,  1., -1.,  1.,  1.]])\n",
      "tensor([[ 1.,  0.,  0.,  0.,  1., -1.,  1., -1., -1.]])\n",
      "tensor([[0., 0., 0., 0., 0., 0., 0., 0., 1.]])\n",
      "tensor([[ 0.,  0.,  0.,  0.,  0.,  0.,  1.,  0., -1.]])\n",
      "tensor([[ 0.,  0.,  0.,  0., -1.,  1., -1.,  1.,  1.]])\n",
      "tensor([[0., 0., 0., 0., 0., 0., 0., 0., 1.]])\n",
      "tensor([[ 1.,  0.,  0.,  0.,  1., -1.,  1., -1., -1.]])\n",
      "tensor([[ 0.,  0.,  0.,  0., -1.,  0.,  0.,  0.,  1.]])\n",
      "tensor([[0., 0., 0., 0., 1., 0., 0., 0., 0.]])\n"
     ]
    },
    {
     "name": "stderr",
     "output_type": "stream",
     "text": [
      "\r",
      " 15%|█████▊                                | 1528/10000 [01:00<06:08, 23.01it/s]"
     ]
    },
    {
     "name": "stdout",
     "output_type": "stream",
     "text": [
      "tensor([[ 0.,  0.,  0.,  0., -1.,  1., -1.,  1.,  1.]])\n",
      "tensor([[ 0.,  0.,  0.,  0.,  0.,  0.,  0., -1.,  1.]])\n",
      "tensor([[ 0.,  0.,  0.,  0., -1.,  0., -1.,  1.,  1.]])\n",
      "tensor([[0., 0., 0., 0., 0., 0., 1., 0., 0.]])\n",
      "tensor([[ 0.,  0.,  0.,  0., -1.,  0.,  0.,  1.,  1.]])\n",
      "tensor([[ 0.,  0.,  0.,  0., -1.,  0.,  0.,  1.,  1.]])\n",
      "tensor([[ 1.,  0.,  0.,  0.,  1.,  0.,  0., -1., -1.]])\n",
      "tensor([[ 0.,  0.,  0.,  0., -1.,  1., -1.,  1.,  1.]])\n",
      "tensor([[ 0.,  0.,  0.,  0., -1.,  1., -1.,  1.,  1.]])\n",
      "tensor([[ 0.,  0.,  0.,  0., -1.,  0., -1.,  1.,  1.]])\n",
      "tensor([[0., 0., 0., 0., 0., 0., 1., 0., 0.]])\n",
      "tensor([[0., 0., 0., 0., 0., 0., 1., 0., 0.]])\n",
      "tensor([[ 0.,  0.,  0.,  0., -1.,  0.,  0.,  1.,  1.]])\n",
      "tensor([[ 0.,  0.,  0.,  0., -1.,  0., -1.,  1.,  1.]])\n",
      "tensor([[ 0.,  0.,  0.,  0., -1.,  1., -1.,  1.,  1.]])\n",
      "tensor([[1., 0., 0., 0., 0., 0., 0., 0., 0.]])\n",
      "tensor([[ 0.,  0.,  0.,  0., -1.,  0., -1.,  1.,  1.]])\n"
     ]
    },
    {
     "name": "stderr",
     "output_type": "stream",
     "text": [
      "\r",
      " 15%|█████▊                                | 1531/10000 [01:00<07:41, 18.36it/s]"
     ]
    },
    {
     "name": "stdout",
     "output_type": "stream",
     "text": [
      "tensor([[0., 0., 0., 0., 0., 0., 0., 0., 1.]])\n",
      "tensor([[ 0.,  0.,  0.,  0.,  1.,  0., -1., -1.,  1.]])\n",
      "tensor([[ 0.,  0.,  0.,  0., -1.,  1., -1.,  1.,  1.]])\n",
      "tensor([[0., 0., 0., 0., 0., 0., 0., 0., 1.]])\n",
      "tensor([[0., 0., 0., 0., 0., 0., 1., 0., 0.]])\n",
      "tensor([[0., 0., 0., 0., 1., 0., 0., 0., 0.]])\n",
      "tensor([[ 0.,  0.,  0.,  0., -1.,  0., -1.,  1.,  1.]])\n",
      "tensor([[ 0.,  0.,  0.,  0., -1.,  0.,  0.,  1.,  1.]])\n",
      "tensor([[ 1.,  0.,  0.,  0.,  1.,  0.,  0., -1., -1.]])\n",
      "tensor([[0., 0., 0., 0., 0., 0., 0., 0., 1.]])\n",
      "tensor([[1., 0., 0., 0., 0., 0., 0., 0., 0.]])\n",
      "tensor([[ 0.,  0.,  1.,  0.,  1.,  0.,  0., -1., -1.]])\n",
      "tensor([[ 0.,  0.,  0.,  0., -1.,  0.,  0.,  1.,  1.]])\n",
      "tensor([[ 1.,  0.,  0.,  0.,  1.,  0.,  0., -1., -1.]])\n"
     ]
    },
    {
     "name": "stderr",
     "output_type": "stream",
     "text": [
      " 15%|█████▊                                | 1535/10000 [01:00<08:15, 17.07it/s]"
     ]
    },
    {
     "name": "stdout",
     "output_type": "stream",
     "text": [
      "tensor([[0., 0., 0., 0., 0., 0., 0., 0., 1.]])\n",
      "tensor([[ 0.,  0.,  1.,  0.,  1.,  0.,  0., -1., -1.]])\n",
      "tensor([[ 1.,  0.,  0.,  0.,  1.,  0.,  0., -1., -1.]])\n",
      "tensor([[0., 0., 0., 0., 0., 0., 1., 0., 0.]])\n",
      "tensor([[ 0.,  0.,  1.,  0.,  1.,  0.,  0., -1., -1.]])\n",
      "tensor([[ 0.,  0.,  0.,  0., -1.,  0.,  0.,  0.,  1.]])\n",
      "tensor([[ 0.,  0.,  0.,  0., -1.,  0., -1.,  1.,  1.]])\n",
      "tensor([[ 0.,  0.,  0.,  0., -1.,  0., -1.,  1.,  1.]])\n",
      "tensor([[ 0.,  0.,  0.,  0., -1.,  1., -1.,  1.,  1.]])\n",
      "tensor([[ 0.,  0.,  1.,  0.,  0.,  0.,  0.,  0., -1.]])\n",
      "tensor([[0., 0., 0., 0., 0., 0., 0., 0., 1.]])\n",
      "tensor([[0., 0., 0., 0., 0., 0., 0., 0., 1.]])\n",
      "tensor([[ 0.,  0.,  0.,  0., -1.,  0.,  0.,  1.,  1.]])\n",
      "tensor([[ 0.,  0.,  0.,  0.,  0.,  0.,  1.,  0., -1.]])\n",
      "tensor([[ 0.,  0.,  0.,  0., -1.,  1., -1.,  1.,  1.]])\n",
      "tensor([[ 0.,  0.,  0.,  0., -1.,  0., -1.,  1.,  1.]])\n"
     ]
    },
    {
     "name": "stderr",
     "output_type": "stream",
     "text": [
      " 15%|█████▊                                | 1540/10000 [01:01<07:22, 19.13it/s]"
     ]
    },
    {
     "name": "stdout",
     "output_type": "stream",
     "text": [
      "tensor([[ 0.,  0.,  0.,  0., -1.,  0., -1.,  1.,  1.]])\n",
      "tensor([[ 0.,  0.,  0.,  0., -1.,  0.,  0.,  1.,  1.]])\n",
      "tensor([[ 0.,  0.,  0.,  0., -1.,  0., -1.,  1.,  1.]])\n",
      "tensor([[ 1.,  0.,  0.,  0.,  1.,  0.,  0., -1., -1.]])\n",
      "tensor([[0., 0., 0., 0., 0., 0., 0., 0., 1.]])\n",
      "tensor([[ 0.,  0.,  0.,  0., -1.,  0.,  0.,  1.,  1.]])\n",
      "tensor([[ 0.,  0.,  0.,  0., -1.,  0.,  0.,  1.,  1.]])\n",
      "tensor([[ 1.,  0.,  0.,  0.,  1.,  0.,  0., -1., -1.]])\n",
      "tensor([[0., 0., 0., 0., 0., 0., 0., 0., 1.]])\n",
      "tensor([[ 0.,  0.,  0.,  0., -1.,  0.,  0.,  0.,  1.]])\n",
      "tensor([[ 0.,  0.,  0.,  0., -1.,  0.,  0.,  0.,  1.]])\n",
      "tensor([[0., 0., 0., 0., 0., 0., 0., 0., 1.]])\n",
      "tensor([[ 0.,  0.,  0.,  0., -1.,  0., -1.,  1.,  1.]])\n",
      "tensor([[1., 0., 0., 0., 0., 0., 0., 0., 0.]])\n",
      "tensor([[ 0.,  0.,  0.,  0.,  1.,  0.,  1.,  0., -1.]])\n",
      "tensor([[ 1.,  0.,  0.,  0.,  1.,  0.,  0.,  0., -1.]])\n",
      "tensor([[ 0.,  0.,  0.,  0., -1.,  0.,  0.,  1.,  1.]])\n",
      "tensor([[0., 0., 0., 0., 0., 0., 0., 0., 1.]])\n",
      "tensor([[ 1.,  0.,  0.,  0.,  1.,  0.,  1., -1., -1.]])\n",
      "tensor([[ 0.,  0.,  0.,  0., -1.,  0.,  0.,  0.,  1.]])\n",
      "tensor([[ 0.,  0.,  0.,  0., -1.,  0., -1.,  1.,  1.]])\n",
      "tensor([[ 0.,  0.,  0.,  0.,  1.,  0.,  1., -1., -1.]])\n",
      "tensor([[0., 0., 0., 0., 0., 0., 1., 0., 0.]])\n",
      "tensor([[0., 0., 0., 0., 0., 0., 0., 0., 1.]])\n"
     ]
    },
    {
     "name": "stderr",
     "output_type": "stream",
     "text": [
      "\r",
      " 15%|█████▊                                | 1543/10000 [01:01<07:00, 20.11it/s]"
     ]
    },
    {
     "name": "stdout",
     "output_type": "stream",
     "text": [
      "tensor([[ 0.,  0.,  0.,  0., -1.,  0.,  0.,  1.,  1.]])\n",
      "tensor([[0., 0., 0., 0., 0., 0., 0., 0., 1.]])\n",
      "tensor([[0., 0., 0., 0., 0., 0., 0., 0., 1.]])\n",
      "tensor([[ 0.,  0.,  0.,  0.,  1.,  0., -1., -1.,  1.]])\n",
      "tensor([[ 0.,  0.,  1.,  0.,  0.,  0.,  0.,  0., -1.]])\n",
      "tensor([[ 1.,  0.,  0.,  0.,  1.,  0.,  0.,  0., -1.]])\n",
      "tensor([[ 0.,  0.,  0.,  0., -1.,  0., -1.,  1.,  1.]])\n",
      "tensor([[0., 0., 0., 0., 1., 0., 0., 0., 0.]])\n",
      "tensor([[ 0.,  0.,  0.,  0.,  1.,  0., -1., -1.,  1.]])\n",
      "tensor([[ 1.,  0.,  0.,  0.,  1., -1.,  1., -1., -1.]])\n",
      "tensor([[ 0.,  0.,  0.,  0., -1.,  0.,  0.,  0.,  1.]])\n",
      "tensor([[ 1.,  0.,  0.,  0.,  1.,  0.,  1., -1., -1.]])\n",
      "tensor([[0., 0., 0., 0., 1., 0., 0., 0., 0.]])\n",
      "tensor([[ 0.,  0.,  0.,  0., -1.,  0., -1.,  1.,  1.]])\n",
      "tensor([[ 1.,  0.,  0.,  0.,  1.,  0.,  1., -1., -1.]])\n",
      "tensor([[ 0.,  0.,  0.,  0., -1.,  0.,  0.,  0.,  1.]])\n",
      "tensor([[ 0.,  0.,  0.,  0., -1.,  1., -1.,  1.,  1.]])\n",
      "tensor([[ 1.,  0.,  0.,  0.,  1.,  0.,  1., -1., -1.]])\n",
      "tensor([[ 0.,  0.,  0.,  0.,  1.,  0.,  1.,  0., -1.]])\n",
      "tensor([[ 0.,  0.,  0.,  0., -1.,  0.,  0.,  1.,  1.]])\n",
      "tensor([[ 0.,  0.,  0.,  0., -1.,  0.,  0.,  1.,  1.]])\n"
     ]
    }
   ],
   "source": [
    "other_player_epsilon = 0.\n",
    "num_episodes = 10000\n",
    "Turns = np.array(['X','O'])\n",
    "for i_episode in tqdm(range(num_episodes)):\n",
    "    steps_done = i_episode\n",
    "   \n",
    "    # Initialize the environment and state\n",
    "    env.reset()\n",
    "    grid, end, winner = env.observe()\n",
    "    if i_episode > 0:\n",
    "        Turns = Turns[np.random.permutation(2)]\n",
    "    player = OptimalPlayer(epsilon=other_player_epsilon, player=Turns[1])\n",
    "    for t in count():\n",
    "        state = np.ravel(grid)\n",
    "        state = torch.from_numpy(state)\n",
    "        # Resize, and add a batch dimension (BCHW)\n",
    "        state = state.unsqueeze(0).type(torch.float32)\n",
    "       \n",
    "        # Select and perform an action\n",
    "        if env.current_player == Turns[0]:\n",
    "                position = select_action(state)\n",
    "                move = (int(position / 3), int(position) % 3)\n",
    "        else:  \n",
    "                move = player.act(grid)\n",
    "#         print(\"My player is:\", Turns[0])\n",
    "        grid, end, winner = env.step(move, print_grid=False)\n",
    "        reward = torch.tensor([[env.reward(Turns[0])]])\n",
    "\n",
    "        # Observe new state\n",
    "        if not end:\n",
    "            next_state = np.ravel(grid)\n",
    "            next_state = torch.from_numpy(next_state)\n",
    "            next_state = next_state.unsqueeze(0).type(torch.float32)\n",
    "        else:\n",
    "            next_state = [None] * 9\n",
    "        # Store the transition in memory\n",
    "        move = torch.tensor([[move[0] * 3 + move[1]]]).long()\n",
    "        memory.push(state, move, next_state, reward)\n",
    "\n",
    "        # Move to the next state\n",
    "        state = next_state\n",
    "\n",
    "        # Perform one step of the optimization (on the policy network)\n",
    "        optimize_model()\n",
    "        if end:\n",
    "            episode_durations.append(t + 1)\n",
    "            break\n",
    "    # Update the target network, copying all weights and biases in DQN\n",
    "    if i_episode % TARGET_UPDATE == 0:\n",
    "        target_net.load_state_dict(policy_net.state_dict())\n",
    "\n",
    "#     print(f'Completed stage {i_episode+1}')\n",
    "\n",
    "print('Complete')"
   ]
  },
  {
   "cell_type": "code",
   "execution_count": 257,
   "metadata": {},
   "outputs": [],
   "source": [
    "def dqn_eval(other_player_epsilon=0.5, games=20000):\n",
    "    total_reward = []\n",
    "    env.reset()\n",
    "    Turns = np.array(['X','O'])\n",
    "    count_win, none_win, loose = 0, 0, 0 \n",
    "    winner_list = [] \n",
    "    for i in tqdm(range(games)):\n",
    "        grid, end, winner = env.observe()\n",
    "        Turns = Turns[np.random.permutation(2)]\n",
    "        player = OptimalPlayer(epsilon=other_player_epsilon, player=Turns[1])\n",
    "        while not end:\n",
    "            if env.current_player == Turns[0]:\n",
    "                state = np.array([[grid]], dtype=np.int)\n",
    "                state = torch.from_numpy(state)\n",
    "                state = state.unsqueeze(0).type(torch.float32)\n",
    "                position = select_action(state)\n",
    "                move = (int(position / 3), int(position) % 3)\n",
    "            else:  \n",
    "                move = player.act(grid)\n",
    "            grid, end, winner = env.step(move, print_grid=False)\n",
    "            total_reward.append(env.reward(env.current_player))\n",
    "            \n",
    "            if end:\n",
    "                if winner == Turns[0]: \n",
    "                    count_win += 1 \n",
    "                elif str(winner) == \"None\":\n",
    "                    none_win += 1\n",
    "                else:\n",
    "                    loose += 1\n",
    "#                 print('-------------------------------------------')\n",
    "#                 print('Game end, winner is player ' + str(winner))\n",
    "#                 print('Q-Learning player = ', Turns[0])\n",
    "#                 print(f'Another player with epsilon {other_player_epsilon} = ', Turns[1])\n",
    "        #             env.render()\n",
    "                env.reset()\n",
    "                break\n",
    "    return count_win / games, none_win / games, loose / games, np.mean(total_reward)\n"
   ]
  },
  {
   "cell_type": "code",
   "execution_count": 259,
   "metadata": {},
   "outputs": [
    {
     "name": "stderr",
     "output_type": "stream",
     "text": [
      "  0%|                                                   | 0/100 [00:00<?, ?it/s]/var/folders/9r/rtblblhj3019srf4v_j8smd00000gn/T/ipykernel_37540/1964478476.py:13: DeprecationWarning: `np.int` is a deprecated alias for the builtin `int`. To silence this warning, use `int` by itself. Doing this will not modify any behavior and is safe. When replacing `np.int`, you may wish to use e.g. `np.int64` or `np.int32` to specify the precision. If you wish to review your current use, check the release note link for additional information.\n",
      "Deprecated in NumPy 1.20; for more details and guidance: https://numpy.org/devdocs/release/1.20.0-notes.html#deprecations\n",
      "  state = np.array([[grid]], dtype=np.int)\n",
      "100%|████████████████████████████████████████| 100/100 [00:00<00:00, 149.06it/s]"
     ]
    },
    {
     "name": "stdout",
     "output_type": "stream",
     "text": [
      "Wins of DQN: 0.35, wins None: 0.03, wins Another player: 0.62\n"
     ]
    },
    {
     "name": "stderr",
     "output_type": "stream",
     "text": [
      "\n"
     ]
    }
   ],
   "source": [
    "score = dqn_eval(0.5, 100)\n",
    "print(f\"Wins of DQN: {score[0]}, wins None: {score[1]}, wins Another player: {score[2]}\") "
   ]
  },
  {
   "cell_type": "code",
   "execution_count": null,
   "metadata": {},
   "outputs": [],
   "source": []
  },
  {
   "cell_type": "code",
   "execution_count": null,
   "metadata": {},
   "outputs": [],
   "source": []
  },
  {
   "cell_type": "code",
   "execution_count": null,
   "metadata": {},
   "outputs": [],
   "source": []
  },
  {
   "cell_type": "code",
   "execution_count": null,
   "metadata": {},
   "outputs": [],
   "source": []
  }
 ],
 "metadata": {
  "kernelspec": {
   "display_name": "Python 3 (ipykernel)",
   "language": "python",
   "name": "python3"
  },
  "language_info": {
   "codemirror_mode": {
    "name": "ipython",
    "version": 3
   },
   "file_extension": ".py",
   "mimetype": "text/x-python",
   "name": "python",
   "nbconvert_exporter": "python",
   "pygments_lexer": "ipython3",
   "version": "3.8.7"
  }
 },
 "nbformat": 4,
 "nbformat_minor": 4
}
